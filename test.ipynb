{
 "cells": [
  {
   "cell_type": "code",
   "execution_count": 72,
   "metadata": {},
   "outputs": [],
   "source": [
    "import requests\n",
    "import credentials"
   ]
  },
  {
   "cell_type": "code",
   "execution_count": 73,
   "metadata": {},
   "outputs": [],
   "source": [
    "session = requests.Session()"
   ]
  },
  {
   "cell_type": "code",
   "execution_count": 74,
   "metadata": {},
   "outputs": [],
   "source": [
    "instrument = \"EUR_USD\"\n",
    "count = 10\n",
    "granularity = \"H1\""
   ]
  },
  {
   "cell_type": "code",
   "execution_count": 75,
   "metadata": {},
   "outputs": [],
   "source": [
    "# this pattern is taken from the documentation of oanda site and it is better to look for it yourself\n",
    "url = f\"{credentials.OANDA_URL}/instruments/{instrument}/candles\""
   ]
  },
  {
   "cell_type": "code",
   "execution_count": 76,
   "metadata": {},
   "outputs": [
    {
     "data": {
      "text/plain": [
       "'https://api-fxpractice.oanda.com/v3/instruments/EUR_USD/candles'"
      ]
     },
     "execution_count": 76,
     "metadata": {},
     "output_type": "execute_result"
    }
   ],
   "source": [
    "url"
   ]
  },
  {
   "cell_type": "code",
   "execution_count": 77,
   "metadata": {},
   "outputs": [],
   "source": [
    "param = dict(\n",
    "    count=count,\n",
    "    granularity=granularity,\n",
    "    price=\"MBA\"\n",
    ")"
   ]
  },
  {
   "cell_type": "code",
   "execution_count": 78,
   "metadata": {},
   "outputs": [
    {
     "data": {
      "text/plain": [
       "{'count': 10, 'granularity': 'H1', 'price': 'MBA'}"
      ]
     },
     "execution_count": 78,
     "metadata": {},
     "output_type": "execute_result"
    }
   ],
   "source": [
    "param"
   ]
  },
  {
   "cell_type": "code",
   "execution_count": 79,
   "metadata": {},
   "outputs": [],
   "source": [
    "API_KEY = \"388d8d5440ad979dd6e1745b1f566bde-a5dea5109879fe5f64d0c8b871ab59e8\"\n",
    "header = f\"Bearer {API_KEY}\"\n",
    "response = session.get(url, params=param, headers=credentials.SECURE_HEADER)"
   ]
  },
  {
   "cell_type": "code",
   "execution_count": 81,
   "metadata": {},
   "outputs": [
    {
     "data": {
      "text/plain": [
       "200"
      ]
     },
     "execution_count": 81,
     "metadata": {},
     "output_type": "execute_result"
    }
   ],
   "source": [
    "response.status_code"
   ]
  },
  {
   "cell_type": "code",
   "execution_count": 82,
   "metadata": {},
   "outputs": [],
   "source": [
    "data = response.json()"
   ]
  },
  {
   "cell_type": "code",
   "execution_count": 83,
   "metadata": {},
   "outputs": [
    {
     "data": {
      "text/plain": [
       "dict_keys(['instrument', 'granularity', 'candles'])"
      ]
     },
     "execution_count": 83,
     "metadata": {},
     "output_type": "execute_result"
    }
   ],
   "source": [
    "data.keys()"
   ]
  },
  {
   "cell_type": "code",
   "execution_count": 84,
   "metadata": {},
   "outputs": [
    {
     "data": {
      "text/plain": [
       "10"
      ]
     },
     "execution_count": 84,
     "metadata": {},
     "output_type": "execute_result"
    }
   ],
   "source": [
    "len(data['candles'])"
   ]
  },
  {
   "cell_type": "code",
   "execution_count": 86,
   "metadata": {},
   "outputs": [
    {
     "name": "stdout",
     "output_type": "stream",
     "text": [
      "{'complete': True, 'volume': 6924, 'time': '2022-06-17T11:00:00.000000000Z', 'bid': {'o': '1.05194', 'h': '1.05227', 'l': '1.04828', 'c': '1.04852'}, 'mid': {'o': '1.05202', 'h': '1.05234', 'l': '1.04836', 'c': '1.04859'}, 'ask': {'o': '1.05210', 'h': '1.05241', 'l': '1.04843', 'c': '1.04866'}}\n",
      "{'complete': True, 'volume': 8251, 'time': '2022-06-17T12:00:00.000000000Z', 'bid': {'o': '1.04849', 'h': '1.05074', 'l': '1.04750', 'c': '1.04941'}, 'mid': {'o': '1.04856', 'h': '1.05082', 'l': '1.04758', 'c': '1.04948'}, 'ask': {'o': '1.04863', 'h': '1.05090', 'l': '1.04765', 'c': '1.04955'}}\n",
      "{'complete': True, 'volume': 9713, 'time': '2022-06-17T13:00:00.000000000Z', 'bid': {'o': '1.04941', 'h': '1.04995', 'l': '1.04732', 'c': '1.04836'}, 'mid': {'o': '1.04948', 'h': '1.05002', 'l': '1.04740', 'c': '1.04844'}, 'ask': {'o': '1.04954', 'h': '1.05009', 'l': '1.04747', 'c': '1.04851'}}\n",
      "{'complete': True, 'volume': 12136, 'time': '2022-06-17T14:00:00.000000000Z', 'bid': {'o': '1.04838', 'h': '1.04865', 'l': '1.04438', 'c': '1.04577'}, 'mid': {'o': '1.04844', 'h': '1.04872', 'l': '1.04445', 'c': '1.04584'}, 'ask': {'o': '1.04850', 'h': '1.04880', 'l': '1.04452', 'c': '1.04590'}}\n",
      "{'complete': True, 'volume': 8796, 'time': '2022-06-17T15:00:00.000000000Z', 'bid': {'o': '1.04581', 'h': '1.04769', 'l': '1.04543', 'c': '1.04728'}, 'mid': {'o': '1.04588', 'h': '1.04776', 'l': '1.04550', 'c': '1.04735'}, 'ask': {'o': '1.04594', 'h': '1.04784', 'l': '1.04557', 'c': '1.04742'}}\n",
      "{'complete': True, 'volume': 5814, 'time': '2022-06-17T16:00:00.000000000Z', 'bid': {'o': '1.04729', 'h': '1.04757', 'l': '1.04642', 'c': '1.04670'}, 'mid': {'o': '1.04736', 'h': '1.04764', 'l': '1.04649', 'c': '1.04676'}, 'ask': {'o': '1.04743', 'h': '1.04771', 'l': '1.04656', 'c': '1.04683'}}\n",
      "{'complete': True, 'volume': 5485, 'time': '2022-06-17T17:00:00.000000000Z', 'bid': {'o': '1.04668', 'h': '1.04991', 'l': '1.04660', 'c': '1.04899'}, 'mid': {'o': '1.04674', 'h': '1.04998', 'l': '1.04666', 'c': '1.04906'}, 'ask': {'o': '1.04681', 'h': '1.05005', 'l': '1.04673', 'c': '1.04914'}}\n",
      "{'complete': True, 'volume': 5171, 'time': '2022-06-17T18:00:00.000000000Z', 'bid': {'o': '1.04902', 'h': '1.05020', 'l': '1.04893', 'c': '1.04904'}, 'mid': {'o': '1.04910', 'h': '1.05028', 'l': '1.04902', 'c': '1.04912'}, 'ask': {'o': '1.04919', 'h': '1.05036', 'l': '1.04911', 'c': '1.04920'}}\n",
      "{'complete': True, 'volume': 4884, 'time': '2022-06-17T19:00:00.000000000Z', 'bid': {'o': '1.04907', 'h': '1.04970', 'l': '1.04871', 'c': '1.04939'}, 'mid': {'o': '1.04914', 'h': '1.04978', 'l': '1.04880', 'c': '1.04948'}, 'ask': {'o': '1.04922', 'h': '1.04987', 'l': '1.04887', 'c': '1.04956'}}\n",
      "{'complete': True, 'volume': 1965, 'time': '2022-06-17T20:00:00.000000000Z', 'bid': {'o': '1.04937', 'h': '1.04994', 'l': '1.04886', 'c': '1.04910'}, 'mid': {'o': '1.04945', 'h': '1.05003', 'l': '1.04896', 'c': '1.04938'}, 'ask': {'o': '1.04953', 'h': '1.05016', 'l': '1.04905', 'c': '1.04966'}}\n"
     ]
    }
   ],
   "source": [
    "for candle in data['candles']:\n",
    "    print(candle)"
   ]
  },
  {
   "cell_type": "code",
   "execution_count": 87,
   "metadata": {},
   "outputs": [],
   "source": [
    "prices = ['mid', 'bid', 'ask']\n",
    "ohlc = ['o', 'h', 'l', 'c']"
   ]
  },
  {
   "cell_type": "code",
   "execution_count": 91,
   "metadata": {},
   "outputs": [
    {
     "data": {
      "text/plain": [
       "'1.05194'"
      ]
     },
     "execution_count": 91,
     "metadata": {},
     "output_type": "execute_result"
    }
   ],
   "source": [
    "# this is to understand the logic of what we're going to do later\n",
    "data['candles'][0]['bid']['o']"
   ]
  },
  {
   "cell_type": "code",
   "execution_count": 88,
   "metadata": {},
   "outputs": [
    {
     "name": "stdout",
     "output_type": "stream",
     "text": [
      "mid-o\n",
      "mid-h\n",
      "mid-l\n",
      "mid-c\n",
      "bid-o\n",
      "bid-h\n",
      "bid-l\n",
      "bid-c\n",
      "ask-o\n",
      "ask-h\n",
      "ask-l\n",
      "ask-c\n"
     ]
    }
   ],
   "source": [
    "for price in prices:\n",
    "    for oh in ohlc:\n",
    "        print(f\"{price}-{oh}\")"
   ]
  },
  {
   "cell_type": "code",
   "execution_count": 93,
   "metadata": {},
   "outputs": [
    {
     "name": "stdout",
     "output_type": "stream",
     "text": [
      "{'time': '2022-06-17T11:00:00.000000000Z', 'volume': 6924, 'mid_o': '1.05202', 'mid_h': '1.05234', 'mid_l': '1.04836', 'mid_c': '1.04859', 'bid_o': '1.05194', 'bid_h': '1.05227', 'bid_l': '1.04828', 'bid_c': '1.04852', 'ask_o': '1.05210', 'ask_h': '1.05241', 'ask_l': '1.04843', 'ask_c': '1.04866'}\n"
     ]
    }
   ],
   "source": [
    "our_data = []\n",
    "for candle in data['candles']:\n",
    "    if candle['complete'] == False:\n",
    "        continue\n",
    "    new_dict = {}\n",
    "    new_dict['time'] = candle['time']\n",
    "    new_dict['volume'] = candle['volume']\n",
    "    for price in prices:\n",
    "        for oh in ohlc:\n",
    "            new_dict[f\"{price}_{oh}\"] = candle[price][oh]\n",
    "    our_data.append(new_dict)\n",
    "print(our_data[0])"
   ]
  },
  {
   "cell_type": "code",
   "execution_count": 94,
   "metadata": {},
   "outputs": [],
   "source": [
    "import pandas as pd"
   ]
  },
  {
   "cell_type": "code",
   "execution_count": 96,
   "metadata": {},
   "outputs": [
    {
     "data": {
      "text/html": [
       "<div>\n",
       "<style scoped>\n",
       "    .dataframe tbody tr th:only-of-type {\n",
       "        vertical-align: middle;\n",
       "    }\n",
       "\n",
       "    .dataframe tbody tr th {\n",
       "        vertical-align: top;\n",
       "    }\n",
       "\n",
       "    .dataframe thead th {\n",
       "        text-align: right;\n",
       "    }\n",
       "</style>\n",
       "<table border=\"1\" class=\"dataframe\">\n",
       "  <thead>\n",
       "    <tr style=\"text-align: right;\">\n",
       "      <th></th>\n",
       "      <th>time</th>\n",
       "      <th>volume</th>\n",
       "      <th>mid_o</th>\n",
       "      <th>mid_h</th>\n",
       "      <th>mid_l</th>\n",
       "      <th>mid_c</th>\n",
       "      <th>bid_o</th>\n",
       "      <th>bid_h</th>\n",
       "      <th>bid_l</th>\n",
       "      <th>bid_c</th>\n",
       "      <th>ask_o</th>\n",
       "      <th>ask_h</th>\n",
       "      <th>ask_l</th>\n",
       "      <th>ask_c</th>\n",
       "    </tr>\n",
       "  </thead>\n",
       "  <tbody>\n",
       "    <tr>\n",
       "      <th>0</th>\n",
       "      <td>2022-06-17T11:00:00.000000000Z</td>\n",
       "      <td>6924</td>\n",
       "      <td>1.05202</td>\n",
       "      <td>1.05234</td>\n",
       "      <td>1.04836</td>\n",
       "      <td>1.04859</td>\n",
       "      <td>1.05194</td>\n",
       "      <td>1.05227</td>\n",
       "      <td>1.04828</td>\n",
       "      <td>1.04852</td>\n",
       "      <td>1.05210</td>\n",
       "      <td>1.05241</td>\n",
       "      <td>1.04843</td>\n",
       "      <td>1.04866</td>\n",
       "    </tr>\n",
       "    <tr>\n",
       "      <th>1</th>\n",
       "      <td>2022-06-17T12:00:00.000000000Z</td>\n",
       "      <td>8251</td>\n",
       "      <td>1.04856</td>\n",
       "      <td>1.05082</td>\n",
       "      <td>1.04758</td>\n",
       "      <td>1.04948</td>\n",
       "      <td>1.04849</td>\n",
       "      <td>1.05074</td>\n",
       "      <td>1.04750</td>\n",
       "      <td>1.04941</td>\n",
       "      <td>1.04863</td>\n",
       "      <td>1.05090</td>\n",
       "      <td>1.04765</td>\n",
       "      <td>1.04955</td>\n",
       "    </tr>\n",
       "    <tr>\n",
       "      <th>2</th>\n",
       "      <td>2022-06-17T13:00:00.000000000Z</td>\n",
       "      <td>9713</td>\n",
       "      <td>1.04948</td>\n",
       "      <td>1.05002</td>\n",
       "      <td>1.04740</td>\n",
       "      <td>1.04844</td>\n",
       "      <td>1.04941</td>\n",
       "      <td>1.04995</td>\n",
       "      <td>1.04732</td>\n",
       "      <td>1.04836</td>\n",
       "      <td>1.04954</td>\n",
       "      <td>1.05009</td>\n",
       "      <td>1.04747</td>\n",
       "      <td>1.04851</td>\n",
       "    </tr>\n",
       "    <tr>\n",
       "      <th>3</th>\n",
       "      <td>2022-06-17T14:00:00.000000000Z</td>\n",
       "      <td>12136</td>\n",
       "      <td>1.04844</td>\n",
       "      <td>1.04872</td>\n",
       "      <td>1.04445</td>\n",
       "      <td>1.04584</td>\n",
       "      <td>1.04838</td>\n",
       "      <td>1.04865</td>\n",
       "      <td>1.04438</td>\n",
       "      <td>1.04577</td>\n",
       "      <td>1.04850</td>\n",
       "      <td>1.04880</td>\n",
       "      <td>1.04452</td>\n",
       "      <td>1.04590</td>\n",
       "    </tr>\n",
       "    <tr>\n",
       "      <th>4</th>\n",
       "      <td>2022-06-17T15:00:00.000000000Z</td>\n",
       "      <td>8796</td>\n",
       "      <td>1.04588</td>\n",
       "      <td>1.04776</td>\n",
       "      <td>1.04550</td>\n",
       "      <td>1.04735</td>\n",
       "      <td>1.04581</td>\n",
       "      <td>1.04769</td>\n",
       "      <td>1.04543</td>\n",
       "      <td>1.04728</td>\n",
       "      <td>1.04594</td>\n",
       "      <td>1.04784</td>\n",
       "      <td>1.04557</td>\n",
       "      <td>1.04742</td>\n",
       "    </tr>\n",
       "    <tr>\n",
       "      <th>5</th>\n",
       "      <td>2022-06-17T16:00:00.000000000Z</td>\n",
       "      <td>5814</td>\n",
       "      <td>1.04736</td>\n",
       "      <td>1.04764</td>\n",
       "      <td>1.04649</td>\n",
       "      <td>1.04676</td>\n",
       "      <td>1.04729</td>\n",
       "      <td>1.04757</td>\n",
       "      <td>1.04642</td>\n",
       "      <td>1.04670</td>\n",
       "      <td>1.04743</td>\n",
       "      <td>1.04771</td>\n",
       "      <td>1.04656</td>\n",
       "      <td>1.04683</td>\n",
       "    </tr>\n",
       "    <tr>\n",
       "      <th>6</th>\n",
       "      <td>2022-06-17T17:00:00.000000000Z</td>\n",
       "      <td>5485</td>\n",
       "      <td>1.04674</td>\n",
       "      <td>1.04998</td>\n",
       "      <td>1.04666</td>\n",
       "      <td>1.04906</td>\n",
       "      <td>1.04668</td>\n",
       "      <td>1.04991</td>\n",
       "      <td>1.04660</td>\n",
       "      <td>1.04899</td>\n",
       "      <td>1.04681</td>\n",
       "      <td>1.05005</td>\n",
       "      <td>1.04673</td>\n",
       "      <td>1.04914</td>\n",
       "    </tr>\n",
       "    <tr>\n",
       "      <th>7</th>\n",
       "      <td>2022-06-17T18:00:00.000000000Z</td>\n",
       "      <td>5171</td>\n",
       "      <td>1.04910</td>\n",
       "      <td>1.05028</td>\n",
       "      <td>1.04902</td>\n",
       "      <td>1.04912</td>\n",
       "      <td>1.04902</td>\n",
       "      <td>1.05020</td>\n",
       "      <td>1.04893</td>\n",
       "      <td>1.04904</td>\n",
       "      <td>1.04919</td>\n",
       "      <td>1.05036</td>\n",
       "      <td>1.04911</td>\n",
       "      <td>1.04920</td>\n",
       "    </tr>\n",
       "    <tr>\n",
       "      <th>8</th>\n",
       "      <td>2022-06-17T19:00:00.000000000Z</td>\n",
       "      <td>4884</td>\n",
       "      <td>1.04914</td>\n",
       "      <td>1.04978</td>\n",
       "      <td>1.04880</td>\n",
       "      <td>1.04948</td>\n",
       "      <td>1.04907</td>\n",
       "      <td>1.04970</td>\n",
       "      <td>1.04871</td>\n",
       "      <td>1.04939</td>\n",
       "      <td>1.04922</td>\n",
       "      <td>1.04987</td>\n",
       "      <td>1.04887</td>\n",
       "      <td>1.04956</td>\n",
       "    </tr>\n",
       "    <tr>\n",
       "      <th>9</th>\n",
       "      <td>2022-06-17T20:00:00.000000000Z</td>\n",
       "      <td>1965</td>\n",
       "      <td>1.04945</td>\n",
       "      <td>1.05003</td>\n",
       "      <td>1.04896</td>\n",
       "      <td>1.04938</td>\n",
       "      <td>1.04937</td>\n",
       "      <td>1.04994</td>\n",
       "      <td>1.04886</td>\n",
       "      <td>1.04910</td>\n",
       "      <td>1.04953</td>\n",
       "      <td>1.05016</td>\n",
       "      <td>1.04905</td>\n",
       "      <td>1.04966</td>\n",
       "    </tr>\n",
       "  </tbody>\n",
       "</table>\n",
       "</div>"
      ],
      "text/plain": [
       "                             time  volume    mid_o    mid_h    mid_l    mid_c  \\\n",
       "0  2022-06-17T11:00:00.000000000Z    6924  1.05202  1.05234  1.04836  1.04859   \n",
       "1  2022-06-17T12:00:00.000000000Z    8251  1.04856  1.05082  1.04758  1.04948   \n",
       "2  2022-06-17T13:00:00.000000000Z    9713  1.04948  1.05002  1.04740  1.04844   \n",
       "3  2022-06-17T14:00:00.000000000Z   12136  1.04844  1.04872  1.04445  1.04584   \n",
       "4  2022-06-17T15:00:00.000000000Z    8796  1.04588  1.04776  1.04550  1.04735   \n",
       "5  2022-06-17T16:00:00.000000000Z    5814  1.04736  1.04764  1.04649  1.04676   \n",
       "6  2022-06-17T17:00:00.000000000Z    5485  1.04674  1.04998  1.04666  1.04906   \n",
       "7  2022-06-17T18:00:00.000000000Z    5171  1.04910  1.05028  1.04902  1.04912   \n",
       "8  2022-06-17T19:00:00.000000000Z    4884  1.04914  1.04978  1.04880  1.04948   \n",
       "9  2022-06-17T20:00:00.000000000Z    1965  1.04945  1.05003  1.04896  1.04938   \n",
       "\n",
       "     bid_o    bid_h    bid_l    bid_c    ask_o    ask_h    ask_l    ask_c  \n",
       "0  1.05194  1.05227  1.04828  1.04852  1.05210  1.05241  1.04843  1.04866  \n",
       "1  1.04849  1.05074  1.04750  1.04941  1.04863  1.05090  1.04765  1.04955  \n",
       "2  1.04941  1.04995  1.04732  1.04836  1.04954  1.05009  1.04747  1.04851  \n",
       "3  1.04838  1.04865  1.04438  1.04577  1.04850  1.04880  1.04452  1.04590  \n",
       "4  1.04581  1.04769  1.04543  1.04728  1.04594  1.04784  1.04557  1.04742  \n",
       "5  1.04729  1.04757  1.04642  1.04670  1.04743  1.04771  1.04656  1.04683  \n",
       "6  1.04668  1.04991  1.04660  1.04899  1.04681  1.05005  1.04673  1.04914  \n",
       "7  1.04902  1.05020  1.04893  1.04904  1.04919  1.05036  1.04911  1.04920  \n",
       "8  1.04907  1.04970  1.04871  1.04939  1.04922  1.04987  1.04887  1.04956  \n",
       "9  1.04937  1.04994  1.04886  1.04910  1.04953  1.05016  1.04905  1.04966  "
      ]
     },
     "execution_count": 96,
     "metadata": {},
     "output_type": "execute_result"
    }
   ],
   "source": [
    "candles_dataframe = pd.DataFrame.from_dict(our_data)\n",
    "candles_dataframe"
   ]
  },
  {
   "cell_type": "code",
   "execution_count": 97,
   "metadata": {},
   "outputs": [],
   "source": [
    "candles_dataframe.to_pickle('EUR_USD_H1.pkl')"
   ]
  },
  {
   "cell_type": "code",
   "execution_count": 98,
   "metadata": {},
   "outputs": [],
   "source": [
    "df = pd.read_pickle('EUR_USD_H1.pkl')"
   ]
  },
  {
   "cell_type": "code",
   "execution_count": 99,
   "metadata": {},
   "outputs": [
    {
     "data": {
      "text/html": [
       "<div>\n",
       "<style scoped>\n",
       "    .dataframe tbody tr th:only-of-type {\n",
       "        vertical-align: middle;\n",
       "    }\n",
       "\n",
       "    .dataframe tbody tr th {\n",
       "        vertical-align: top;\n",
       "    }\n",
       "\n",
       "    .dataframe thead th {\n",
       "        text-align: right;\n",
       "    }\n",
       "</style>\n",
       "<table border=\"1\" class=\"dataframe\">\n",
       "  <thead>\n",
       "    <tr style=\"text-align: right;\">\n",
       "      <th></th>\n",
       "      <th>time</th>\n",
       "      <th>volume</th>\n",
       "      <th>mid_o</th>\n",
       "      <th>mid_h</th>\n",
       "      <th>mid_l</th>\n",
       "      <th>mid_c</th>\n",
       "      <th>bid_o</th>\n",
       "      <th>bid_h</th>\n",
       "      <th>bid_l</th>\n",
       "      <th>bid_c</th>\n",
       "      <th>ask_o</th>\n",
       "      <th>ask_h</th>\n",
       "      <th>ask_l</th>\n",
       "      <th>ask_c</th>\n",
       "    </tr>\n",
       "  </thead>\n",
       "  <tbody>\n",
       "    <tr>\n",
       "      <th>0</th>\n",
       "      <td>2022-06-17T11:00:00.000000000Z</td>\n",
       "      <td>6924</td>\n",
       "      <td>1.05202</td>\n",
       "      <td>1.05234</td>\n",
       "      <td>1.04836</td>\n",
       "      <td>1.04859</td>\n",
       "      <td>1.05194</td>\n",
       "      <td>1.05227</td>\n",
       "      <td>1.04828</td>\n",
       "      <td>1.04852</td>\n",
       "      <td>1.05210</td>\n",
       "      <td>1.05241</td>\n",
       "      <td>1.04843</td>\n",
       "      <td>1.04866</td>\n",
       "    </tr>\n",
       "    <tr>\n",
       "      <th>1</th>\n",
       "      <td>2022-06-17T12:00:00.000000000Z</td>\n",
       "      <td>8251</td>\n",
       "      <td>1.04856</td>\n",
       "      <td>1.05082</td>\n",
       "      <td>1.04758</td>\n",
       "      <td>1.04948</td>\n",
       "      <td>1.04849</td>\n",
       "      <td>1.05074</td>\n",
       "      <td>1.04750</td>\n",
       "      <td>1.04941</td>\n",
       "      <td>1.04863</td>\n",
       "      <td>1.05090</td>\n",
       "      <td>1.04765</td>\n",
       "      <td>1.04955</td>\n",
       "    </tr>\n",
       "    <tr>\n",
       "      <th>2</th>\n",
       "      <td>2022-06-17T13:00:00.000000000Z</td>\n",
       "      <td>9713</td>\n",
       "      <td>1.04948</td>\n",
       "      <td>1.05002</td>\n",
       "      <td>1.04740</td>\n",
       "      <td>1.04844</td>\n",
       "      <td>1.04941</td>\n",
       "      <td>1.04995</td>\n",
       "      <td>1.04732</td>\n",
       "      <td>1.04836</td>\n",
       "      <td>1.04954</td>\n",
       "      <td>1.05009</td>\n",
       "      <td>1.04747</td>\n",
       "      <td>1.04851</td>\n",
       "    </tr>\n",
       "    <tr>\n",
       "      <th>3</th>\n",
       "      <td>2022-06-17T14:00:00.000000000Z</td>\n",
       "      <td>12136</td>\n",
       "      <td>1.04844</td>\n",
       "      <td>1.04872</td>\n",
       "      <td>1.04445</td>\n",
       "      <td>1.04584</td>\n",
       "      <td>1.04838</td>\n",
       "      <td>1.04865</td>\n",
       "      <td>1.04438</td>\n",
       "      <td>1.04577</td>\n",
       "      <td>1.04850</td>\n",
       "      <td>1.04880</td>\n",
       "      <td>1.04452</td>\n",
       "      <td>1.04590</td>\n",
       "    </tr>\n",
       "    <tr>\n",
       "      <th>4</th>\n",
       "      <td>2022-06-17T15:00:00.000000000Z</td>\n",
       "      <td>8796</td>\n",
       "      <td>1.04588</td>\n",
       "      <td>1.04776</td>\n",
       "      <td>1.04550</td>\n",
       "      <td>1.04735</td>\n",
       "      <td>1.04581</td>\n",
       "      <td>1.04769</td>\n",
       "      <td>1.04543</td>\n",
       "      <td>1.04728</td>\n",
       "      <td>1.04594</td>\n",
       "      <td>1.04784</td>\n",
       "      <td>1.04557</td>\n",
       "      <td>1.04742</td>\n",
       "    </tr>\n",
       "    <tr>\n",
       "      <th>5</th>\n",
       "      <td>2022-06-17T16:00:00.000000000Z</td>\n",
       "      <td>5814</td>\n",
       "      <td>1.04736</td>\n",
       "      <td>1.04764</td>\n",
       "      <td>1.04649</td>\n",
       "      <td>1.04676</td>\n",
       "      <td>1.04729</td>\n",
       "      <td>1.04757</td>\n",
       "      <td>1.04642</td>\n",
       "      <td>1.04670</td>\n",
       "      <td>1.04743</td>\n",
       "      <td>1.04771</td>\n",
       "      <td>1.04656</td>\n",
       "      <td>1.04683</td>\n",
       "    </tr>\n",
       "    <tr>\n",
       "      <th>6</th>\n",
       "      <td>2022-06-17T17:00:00.000000000Z</td>\n",
       "      <td>5485</td>\n",
       "      <td>1.04674</td>\n",
       "      <td>1.04998</td>\n",
       "      <td>1.04666</td>\n",
       "      <td>1.04906</td>\n",
       "      <td>1.04668</td>\n",
       "      <td>1.04991</td>\n",
       "      <td>1.04660</td>\n",
       "      <td>1.04899</td>\n",
       "      <td>1.04681</td>\n",
       "      <td>1.05005</td>\n",
       "      <td>1.04673</td>\n",
       "      <td>1.04914</td>\n",
       "    </tr>\n",
       "    <tr>\n",
       "      <th>7</th>\n",
       "      <td>2022-06-17T18:00:00.000000000Z</td>\n",
       "      <td>5171</td>\n",
       "      <td>1.04910</td>\n",
       "      <td>1.05028</td>\n",
       "      <td>1.04902</td>\n",
       "      <td>1.04912</td>\n",
       "      <td>1.04902</td>\n",
       "      <td>1.05020</td>\n",
       "      <td>1.04893</td>\n",
       "      <td>1.04904</td>\n",
       "      <td>1.04919</td>\n",
       "      <td>1.05036</td>\n",
       "      <td>1.04911</td>\n",
       "      <td>1.04920</td>\n",
       "    </tr>\n",
       "    <tr>\n",
       "      <th>8</th>\n",
       "      <td>2022-06-17T19:00:00.000000000Z</td>\n",
       "      <td>4884</td>\n",
       "      <td>1.04914</td>\n",
       "      <td>1.04978</td>\n",
       "      <td>1.04880</td>\n",
       "      <td>1.04948</td>\n",
       "      <td>1.04907</td>\n",
       "      <td>1.04970</td>\n",
       "      <td>1.04871</td>\n",
       "      <td>1.04939</td>\n",
       "      <td>1.04922</td>\n",
       "      <td>1.04987</td>\n",
       "      <td>1.04887</td>\n",
       "      <td>1.04956</td>\n",
       "    </tr>\n",
       "    <tr>\n",
       "      <th>9</th>\n",
       "      <td>2022-06-17T20:00:00.000000000Z</td>\n",
       "      <td>1965</td>\n",
       "      <td>1.04945</td>\n",
       "      <td>1.05003</td>\n",
       "      <td>1.04896</td>\n",
       "      <td>1.04938</td>\n",
       "      <td>1.04937</td>\n",
       "      <td>1.04994</td>\n",
       "      <td>1.04886</td>\n",
       "      <td>1.04910</td>\n",
       "      <td>1.04953</td>\n",
       "      <td>1.05016</td>\n",
       "      <td>1.04905</td>\n",
       "      <td>1.04966</td>\n",
       "    </tr>\n",
       "  </tbody>\n",
       "</table>\n",
       "</div>"
      ],
      "text/plain": [
       "                             time  volume    mid_o    mid_h    mid_l    mid_c  \\\n",
       "0  2022-06-17T11:00:00.000000000Z    6924  1.05202  1.05234  1.04836  1.04859   \n",
       "1  2022-06-17T12:00:00.000000000Z    8251  1.04856  1.05082  1.04758  1.04948   \n",
       "2  2022-06-17T13:00:00.000000000Z    9713  1.04948  1.05002  1.04740  1.04844   \n",
       "3  2022-06-17T14:00:00.000000000Z   12136  1.04844  1.04872  1.04445  1.04584   \n",
       "4  2022-06-17T15:00:00.000000000Z    8796  1.04588  1.04776  1.04550  1.04735   \n",
       "5  2022-06-17T16:00:00.000000000Z    5814  1.04736  1.04764  1.04649  1.04676   \n",
       "6  2022-06-17T17:00:00.000000000Z    5485  1.04674  1.04998  1.04666  1.04906   \n",
       "7  2022-06-17T18:00:00.000000000Z    5171  1.04910  1.05028  1.04902  1.04912   \n",
       "8  2022-06-17T19:00:00.000000000Z    4884  1.04914  1.04978  1.04880  1.04948   \n",
       "9  2022-06-17T20:00:00.000000000Z    1965  1.04945  1.05003  1.04896  1.04938   \n",
       "\n",
       "     bid_o    bid_h    bid_l    bid_c    ask_o    ask_h    ask_l    ask_c  \n",
       "0  1.05194  1.05227  1.04828  1.04852  1.05210  1.05241  1.04843  1.04866  \n",
       "1  1.04849  1.05074  1.04750  1.04941  1.04863  1.05090  1.04765  1.04955  \n",
       "2  1.04941  1.04995  1.04732  1.04836  1.04954  1.05009  1.04747  1.04851  \n",
       "3  1.04838  1.04865  1.04438  1.04577  1.04850  1.04880  1.04452  1.04590  \n",
       "4  1.04581  1.04769  1.04543  1.04728  1.04594  1.04784  1.04557  1.04742  \n",
       "5  1.04729  1.04757  1.04642  1.04670  1.04743  1.04771  1.04656  1.04683  \n",
       "6  1.04668  1.04991  1.04660  1.04899  1.04681  1.05005  1.04673  1.04914  \n",
       "7  1.04902  1.05020  1.04893  1.04904  1.04919  1.05036  1.04911  1.04920  \n",
       "8  1.04907  1.04970  1.04871  1.04939  1.04922  1.04987  1.04887  1.04956  \n",
       "9  1.04937  1.04994  1.04886  1.04910  1.04953  1.05016  1.04905  1.04966  "
      ]
     },
     "execution_count": 99,
     "metadata": {},
     "output_type": "execute_result"
    }
   ],
   "source": [
    "df"
   ]
  },
  {
   "cell_type": "code",
   "execution_count": null,
   "metadata": {},
   "outputs": [],
   "source": []
  }
 ],
 "metadata": {
  "kernelspec": {
   "display_name": "Python 3.9.7 ('forexBot': venv)",
   "language": "python",
   "name": "python3"
  },
  "language_info": {
   "codemirror_mode": {
    "name": "ipython",
    "version": 3
   },
   "file_extension": ".py",
   "mimetype": "text/x-python",
   "name": "python",
   "nbconvert_exporter": "python",
   "pygments_lexer": "ipython3",
   "version": "3.9.7"
  },
  "orig_nbformat": 4,
  "vscode": {
   "interpreter": {
    "hash": "cdeac6fb90bbdbe6069ef31f239a3e91804bc0eee30d2e3acd8e7f54039a8769"
   }
  }
 },
 "nbformat": 4,
 "nbformat_minor": 2
}
