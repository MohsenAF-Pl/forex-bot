{
 "cells": [
  {
   "cell_type": "markdown",
   "metadata": {},
   "source": [
    "WE USED THIS FILE FOR TEST AND GETTING THE HISTORICAL DATA"
   ]
  },
  {
   "cell_type": "code",
   "execution_count": 1,
   "metadata": {},
   "outputs": [],
   "source": [
    "import requests\n",
    "import credentials\n",
    "import pandas as ps"
   ]
  },
  {
   "cell_type": "code",
   "execution_count": 2,
   "metadata": {},
   "outputs": [],
   "source": [
    "session = requests.Session()"
   ]
  },
  {
   "cell_type": "code",
   "execution_count": 3,
   "metadata": {},
   "outputs": [],
   "source": [
    "instrument = \"EUR_USD\"\n",
    "count = 10\n",
    "granularity = \"H1\""
   ]
  },
  {
   "cell_type": "code",
   "execution_count": 4,
   "metadata": {},
   "outputs": [],
   "source": [
    "# this pattern is taken from the documentation of oanda site and it is better to look for it yourself\n",
    "url = f\"{credentials.OANDA_URL}/instruments/{instrument}/candles\""
   ]
  },
  {
   "cell_type": "code",
   "execution_count": 5,
   "metadata": {},
   "outputs": [
    {
     "data": {
      "text/plain": [
       "'https://api-fxpractice.oanda.com/v3/instruments/EUR_USD/candles'"
      ]
     },
     "execution_count": 5,
     "metadata": {},
     "output_type": "execute_result"
    }
   ],
   "source": [
    "url"
   ]
  },
  {
   "cell_type": "code",
   "execution_count": 6,
   "metadata": {},
   "outputs": [],
   "source": [
    "param = dict(\n",
    "    count=count,\n",
    "    granularity=granularity,\n",
    "    price=\"MBA\"\n",
    ")"
   ]
  },
  {
   "cell_type": "code",
   "execution_count": 7,
   "metadata": {},
   "outputs": [
    {
     "data": {
      "text/plain": [
       "{'count': 10, 'granularity': 'H1', 'price': 'MBA'}"
      ]
     },
     "execution_count": 7,
     "metadata": {},
     "output_type": "execute_result"
    }
   ],
   "source": [
    "param"
   ]
  },
  {
   "cell_type": "code",
   "execution_count": 8,
   "metadata": {},
   "outputs": [],
   "source": [
    "API_KEY = \"388d8d5440ad979dd6e1745b1f566bde-a5dea5109879fe5f64d0c8b871ab59e8\"\n",
    "header = f\"Bearer {API_KEY}\"\n",
    "response = session.get(url, params=param, headers=credentials.SECURE_HEADER)"
   ]
  },
  {
   "cell_type": "code",
   "execution_count": 9,
   "metadata": {},
   "outputs": [
    {
     "data": {
      "text/plain": [
       "200"
      ]
     },
     "execution_count": 9,
     "metadata": {},
     "output_type": "execute_result"
    }
   ],
   "source": [
    "response.status_code"
   ]
  },
  {
   "cell_type": "code",
   "execution_count": 10,
   "metadata": {},
   "outputs": [],
   "source": [
    "data = response.json()"
   ]
  },
  {
   "cell_type": "code",
   "execution_count": 11,
   "metadata": {},
   "outputs": [
    {
     "data": {
      "text/plain": [
       "dict_keys(['instrument', 'granularity', 'candles'])"
      ]
     },
     "execution_count": 11,
     "metadata": {},
     "output_type": "execute_result"
    }
   ],
   "source": [
    "data.keys()"
   ]
  },
  {
   "cell_type": "code",
   "execution_count": 12,
   "metadata": {},
   "outputs": [
    {
     "data": {
      "text/plain": [
       "10"
      ]
     },
     "execution_count": 12,
     "metadata": {},
     "output_type": "execute_result"
    }
   ],
   "source": [
    "len(data['candles'])"
   ]
  },
  {
   "cell_type": "code",
   "execution_count": 13,
   "metadata": {},
   "outputs": [
    {
     "name": "stdout",
     "output_type": "stream",
     "text": [
      "{'complete': True, 'volume': 5252, 'time': '2022-06-20T14:00:00.000000000Z', 'bid': {'o': '1.05179', 'h': '1.05410', 'l': '1.05174', 'c': '1.05343'}, 'mid': {'o': '1.05186', 'h': '1.05418', 'l': '1.05182', 'c': '1.05350'}, 'ask': {'o': '1.05192', 'h': '1.05426', 'l': '1.05191', 'c': '1.05358'}}\n",
      "{'complete': True, 'volume': 3193, 'time': '2022-06-20T15:00:00.000000000Z', 'bid': {'o': '1.05342', 'h': '1.05376', 'l': '1.05230', 'c': '1.05373'}, 'mid': {'o': '1.05350', 'h': '1.05383', 'l': '1.05237', 'c': '1.05380'}, 'ask': {'o': '1.05358', 'h': '1.05390', 'l': '1.05244', 'c': '1.05388'}}\n",
      "{'complete': True, 'volume': 2244, 'time': '2022-06-20T16:00:00.000000000Z', 'bid': {'o': '1.05373', 'h': '1.05375', 'l': '1.05186', 'c': '1.05227'}, 'mid': {'o': '1.05381', 'h': '1.05383', 'l': '1.05193', 'c': '1.05234'}, 'ask': {'o': '1.05389', 'h': '1.05391', 'l': '1.05200', 'c': '1.05242'}}\n",
      "{'complete': True, 'volume': 963, 'time': '2022-06-20T17:00:00.000000000Z', 'bid': {'o': '1.05226', 'h': '1.05226', 'l': '1.05050', 'c': '1.05051'}, 'mid': {'o': '1.05233', 'h': '1.05233', 'l': '1.05060', 'c': '1.05060'}, 'ask': {'o': '1.05240', 'h': '1.05241', 'l': '1.05068', 'c': '1.05069'}}\n",
      "{'complete': True, 'volume': 1459, 'time': '2022-06-20T18:00:00.000000000Z', 'bid': {'o': '1.05053', 'h': '1.05067', 'l': '1.04981', 'c': '1.04983'}, 'mid': {'o': '1.05062', 'h': '1.05074', 'l': '1.04990', 'c': '1.04992'}, 'ask': {'o': '1.05070', 'h': '1.05082', 'l': '1.04997', 'c': '1.05000'}}\n",
      "{'complete': True, 'volume': 809, 'time': '2022-06-20T19:00:00.000000000Z', 'bid': {'o': '1.04987', 'h': '1.05112', 'l': '1.04972', 'c': '1.05105'}, 'mid': {'o': '1.04996', 'h': '1.05122', 'l': '1.04981', 'c': '1.05114'}, 'ask': {'o': '1.05004', 'h': '1.05131', 'l': '1.04989', 'c': '1.05123'}}\n",
      "{'complete': True, 'volume': 796, 'time': '2022-06-20T20:00:00.000000000Z', 'bid': {'o': '1.05109', 'h': '1.05136', 'l': '1.05080', 'c': '1.05099'}, 'mid': {'o': '1.05119', 'h': '1.05146', 'l': '1.05090', 'c': '1.05112'}, 'ask': {'o': '1.05129', 'h': '1.05156', 'l': '1.05099', 'c': '1.05124'}}\n",
      "{'complete': True, 'volume': 286, 'time': '2022-06-20T21:00:00.000000000Z', 'bid': {'o': '1.05049', 'h': '1.05100', 'l': '1.05044', 'c': '1.05078'}, 'mid': {'o': '1.05088', 'h': '1.05150', 'l': '1.05086', 'c': '1.05116'}, 'ask': {'o': '1.05128', 'h': '1.05200', 'l': '1.05120', 'c': '1.05155'}}\n",
      "{'complete': True, 'volume': 1095, 'time': '2022-06-20T22:00:00.000000000Z', 'bid': {'o': '1.05075', 'h': '1.05180', 'l': '1.05075', 'c': '1.05175'}, 'mid': {'o': '1.05117', 'h': '1.05188', 'l': '1.05090', 'c': '1.05184'}, 'ask': {'o': '1.05159', 'h': '1.05196', 'l': '1.05099', 'c': '1.05194'}}\n",
      "{'complete': False, 'volume': 1477, 'time': '2022-06-20T23:00:00.000000000Z', 'bid': {'o': '1.05176', 'h': '1.05183', 'l': '1.05130', 'c': '1.05178'}, 'mid': {'o': '1.05184', 'h': '1.05193', 'l': '1.05138', 'c': '1.05188'}, 'ask': {'o': '1.05193', 'h': '1.05203', 'l': '1.05146', 'c': '1.05197'}}\n"
     ]
    }
   ],
   "source": [
    "for candle in data['candles']:\n",
    "    print(candle)"
   ]
  },
  {
   "cell_type": "code",
   "execution_count": 23,
   "metadata": {},
   "outputs": [
    {
     "name": "stdout",
     "output_type": "stream",
     "text": [
      "{'complete': True, 'volume': 5252, 'time': '2022-06-20T14:00:00.000000000Z', 'bid': {'o': '1.05179', 'h': '1.05410', 'l': '1.05174', 'c': '1.05343'}, 'mid': {'o': '1.05186', 'h': '1.05418', 'l': '1.05182', 'c': '1.05350'}, 'ask': {'o': '1.05192', 'h': '1.05426', 'l': '1.05191', 'c': '1.05358'}}\n"
     ]
    }
   ],
   "source": [
    "print(data['candles'][0])"
   ]
  },
  {
   "cell_type": "code",
   "execution_count": 14,
   "metadata": {},
   "outputs": [],
   "source": [
    "prices = ['mid', 'bid', 'ask']\n",
    "ohlc = ['o', 'h', 'l', 'c']"
   ]
  },
  {
   "cell_type": "code",
   "execution_count": 15,
   "metadata": {},
   "outputs": [
    {
     "data": {
      "text/plain": [
       "'1.05179'"
      ]
     },
     "execution_count": 15,
     "metadata": {},
     "output_type": "execute_result"
    }
   ],
   "source": [
    "# this is to understand the logic of what we're going to do later\n",
    "data['candles'][0]['bid']['o']"
   ]
  },
  {
   "cell_type": "code",
   "execution_count": 16,
   "metadata": {},
   "outputs": [
    {
     "name": "stdout",
     "output_type": "stream",
     "text": [
      "mid-o\n",
      "mid-h\n",
      "mid-l\n",
      "mid-c\n",
      "bid-o\n",
      "bid-h\n",
      "bid-l\n",
      "bid-c\n",
      "ask-o\n",
      "ask-h\n",
      "ask-l\n",
      "ask-c\n"
     ]
    }
   ],
   "source": [
    "for price in prices:\n",
    "    for oh in ohlc:\n",
    "        print(f\"{price}-{oh}\")"
   ]
  },
  {
   "cell_type": "code",
   "execution_count": 17,
   "metadata": {},
   "outputs": [
    {
     "name": "stdout",
     "output_type": "stream",
     "text": [
      "{'time': '2022-06-20T14:00:00.000000000Z', 'volume': 5252, 'mid_o': '1.05186', 'mid_h': '1.05418', 'mid_l': '1.05182', 'mid_c': '1.05350', 'bid_o': '1.05179', 'bid_h': '1.05410', 'bid_l': '1.05174', 'bid_c': '1.05343', 'ask_o': '1.05192', 'ask_h': '1.05426', 'ask_l': '1.05191', 'ask_c': '1.05358'}\n"
     ]
    }
   ],
   "source": [
    "our_data = []\n",
    "for candle in data['candles']:\n",
    "    if candle['complete'] == False:\n",
    "        continue\n",
    "    new_dict = {}\n",
    "    new_dict['time'] = candle['time']\n",
    "    new_dict['volume'] = candle['volume']\n",
    "    for price in prices:\n",
    "        for oh in ohlc:\n",
    "            new_dict[f\"{price}_{oh}\"] = candle[price][oh]\n",
    "    our_data.append(new_dict)\n",
    "print(our_data[0])"
   ]
  },
  {
   "cell_type": "code",
   "execution_count": 18,
   "metadata": {},
   "outputs": [],
   "source": [
    "import pandas as pd"
   ]
  },
  {
   "cell_type": "code",
   "execution_count": 19,
   "metadata": {},
   "outputs": [
    {
     "data": {
      "text/html": [
       "<div>\n",
       "<style scoped>\n",
       "    .dataframe tbody tr th:only-of-type {\n",
       "        vertical-align: middle;\n",
       "    }\n",
       "\n",
       "    .dataframe tbody tr th {\n",
       "        vertical-align: top;\n",
       "    }\n",
       "\n",
       "    .dataframe thead th {\n",
       "        text-align: right;\n",
       "    }\n",
       "</style>\n",
       "<table border=\"1\" class=\"dataframe\">\n",
       "  <thead>\n",
       "    <tr style=\"text-align: right;\">\n",
       "      <th></th>\n",
       "      <th>time</th>\n",
       "      <th>volume</th>\n",
       "      <th>mid_o</th>\n",
       "      <th>mid_h</th>\n",
       "      <th>mid_l</th>\n",
       "      <th>mid_c</th>\n",
       "      <th>bid_o</th>\n",
       "      <th>bid_h</th>\n",
       "      <th>bid_l</th>\n",
       "      <th>bid_c</th>\n",
       "      <th>ask_o</th>\n",
       "      <th>ask_h</th>\n",
       "      <th>ask_l</th>\n",
       "      <th>ask_c</th>\n",
       "    </tr>\n",
       "  </thead>\n",
       "  <tbody>\n",
       "    <tr>\n",
       "      <th>0</th>\n",
       "      <td>2022-06-20T14:00:00.000000000Z</td>\n",
       "      <td>5252</td>\n",
       "      <td>1.05186</td>\n",
       "      <td>1.05418</td>\n",
       "      <td>1.05182</td>\n",
       "      <td>1.05350</td>\n",
       "      <td>1.05179</td>\n",
       "      <td>1.05410</td>\n",
       "      <td>1.05174</td>\n",
       "      <td>1.05343</td>\n",
       "      <td>1.05192</td>\n",
       "      <td>1.05426</td>\n",
       "      <td>1.05191</td>\n",
       "      <td>1.05358</td>\n",
       "    </tr>\n",
       "    <tr>\n",
       "      <th>1</th>\n",
       "      <td>2022-06-20T15:00:00.000000000Z</td>\n",
       "      <td>3193</td>\n",
       "      <td>1.05350</td>\n",
       "      <td>1.05383</td>\n",
       "      <td>1.05237</td>\n",
       "      <td>1.05380</td>\n",
       "      <td>1.05342</td>\n",
       "      <td>1.05376</td>\n",
       "      <td>1.05230</td>\n",
       "      <td>1.05373</td>\n",
       "      <td>1.05358</td>\n",
       "      <td>1.05390</td>\n",
       "      <td>1.05244</td>\n",
       "      <td>1.05388</td>\n",
       "    </tr>\n",
       "    <tr>\n",
       "      <th>2</th>\n",
       "      <td>2022-06-20T16:00:00.000000000Z</td>\n",
       "      <td>2244</td>\n",
       "      <td>1.05381</td>\n",
       "      <td>1.05383</td>\n",
       "      <td>1.05193</td>\n",
       "      <td>1.05234</td>\n",
       "      <td>1.05373</td>\n",
       "      <td>1.05375</td>\n",
       "      <td>1.05186</td>\n",
       "      <td>1.05227</td>\n",
       "      <td>1.05389</td>\n",
       "      <td>1.05391</td>\n",
       "      <td>1.05200</td>\n",
       "      <td>1.05242</td>\n",
       "    </tr>\n",
       "    <tr>\n",
       "      <th>3</th>\n",
       "      <td>2022-06-20T17:00:00.000000000Z</td>\n",
       "      <td>963</td>\n",
       "      <td>1.05233</td>\n",
       "      <td>1.05233</td>\n",
       "      <td>1.05060</td>\n",
       "      <td>1.05060</td>\n",
       "      <td>1.05226</td>\n",
       "      <td>1.05226</td>\n",
       "      <td>1.05050</td>\n",
       "      <td>1.05051</td>\n",
       "      <td>1.05240</td>\n",
       "      <td>1.05241</td>\n",
       "      <td>1.05068</td>\n",
       "      <td>1.05069</td>\n",
       "    </tr>\n",
       "    <tr>\n",
       "      <th>4</th>\n",
       "      <td>2022-06-20T18:00:00.000000000Z</td>\n",
       "      <td>1459</td>\n",
       "      <td>1.05062</td>\n",
       "      <td>1.05074</td>\n",
       "      <td>1.04990</td>\n",
       "      <td>1.04992</td>\n",
       "      <td>1.05053</td>\n",
       "      <td>1.05067</td>\n",
       "      <td>1.04981</td>\n",
       "      <td>1.04983</td>\n",
       "      <td>1.05070</td>\n",
       "      <td>1.05082</td>\n",
       "      <td>1.04997</td>\n",
       "      <td>1.05000</td>\n",
       "    </tr>\n",
       "    <tr>\n",
       "      <th>5</th>\n",
       "      <td>2022-06-20T19:00:00.000000000Z</td>\n",
       "      <td>809</td>\n",
       "      <td>1.04996</td>\n",
       "      <td>1.05122</td>\n",
       "      <td>1.04981</td>\n",
       "      <td>1.05114</td>\n",
       "      <td>1.04987</td>\n",
       "      <td>1.05112</td>\n",
       "      <td>1.04972</td>\n",
       "      <td>1.05105</td>\n",
       "      <td>1.05004</td>\n",
       "      <td>1.05131</td>\n",
       "      <td>1.04989</td>\n",
       "      <td>1.05123</td>\n",
       "    </tr>\n",
       "    <tr>\n",
       "      <th>6</th>\n",
       "      <td>2022-06-20T20:00:00.000000000Z</td>\n",
       "      <td>796</td>\n",
       "      <td>1.05119</td>\n",
       "      <td>1.05146</td>\n",
       "      <td>1.05090</td>\n",
       "      <td>1.05112</td>\n",
       "      <td>1.05109</td>\n",
       "      <td>1.05136</td>\n",
       "      <td>1.05080</td>\n",
       "      <td>1.05099</td>\n",
       "      <td>1.05129</td>\n",
       "      <td>1.05156</td>\n",
       "      <td>1.05099</td>\n",
       "      <td>1.05124</td>\n",
       "    </tr>\n",
       "    <tr>\n",
       "      <th>7</th>\n",
       "      <td>2022-06-20T21:00:00.000000000Z</td>\n",
       "      <td>286</td>\n",
       "      <td>1.05088</td>\n",
       "      <td>1.05150</td>\n",
       "      <td>1.05086</td>\n",
       "      <td>1.05116</td>\n",
       "      <td>1.05049</td>\n",
       "      <td>1.05100</td>\n",
       "      <td>1.05044</td>\n",
       "      <td>1.05078</td>\n",
       "      <td>1.05128</td>\n",
       "      <td>1.05200</td>\n",
       "      <td>1.05120</td>\n",
       "      <td>1.05155</td>\n",
       "    </tr>\n",
       "    <tr>\n",
       "      <th>8</th>\n",
       "      <td>2022-06-20T22:00:00.000000000Z</td>\n",
       "      <td>1095</td>\n",
       "      <td>1.05117</td>\n",
       "      <td>1.05188</td>\n",
       "      <td>1.05090</td>\n",
       "      <td>1.05184</td>\n",
       "      <td>1.05075</td>\n",
       "      <td>1.05180</td>\n",
       "      <td>1.05075</td>\n",
       "      <td>1.05175</td>\n",
       "      <td>1.05159</td>\n",
       "      <td>1.05196</td>\n",
       "      <td>1.05099</td>\n",
       "      <td>1.05194</td>\n",
       "    </tr>\n",
       "  </tbody>\n",
       "</table>\n",
       "</div>"
      ],
      "text/plain": [
       "                             time  volume    mid_o    mid_h    mid_l    mid_c  \\\n",
       "0  2022-06-20T14:00:00.000000000Z    5252  1.05186  1.05418  1.05182  1.05350   \n",
       "1  2022-06-20T15:00:00.000000000Z    3193  1.05350  1.05383  1.05237  1.05380   \n",
       "2  2022-06-20T16:00:00.000000000Z    2244  1.05381  1.05383  1.05193  1.05234   \n",
       "3  2022-06-20T17:00:00.000000000Z     963  1.05233  1.05233  1.05060  1.05060   \n",
       "4  2022-06-20T18:00:00.000000000Z    1459  1.05062  1.05074  1.04990  1.04992   \n",
       "5  2022-06-20T19:00:00.000000000Z     809  1.04996  1.05122  1.04981  1.05114   \n",
       "6  2022-06-20T20:00:00.000000000Z     796  1.05119  1.05146  1.05090  1.05112   \n",
       "7  2022-06-20T21:00:00.000000000Z     286  1.05088  1.05150  1.05086  1.05116   \n",
       "8  2022-06-20T22:00:00.000000000Z    1095  1.05117  1.05188  1.05090  1.05184   \n",
       "\n",
       "     bid_o    bid_h    bid_l    bid_c    ask_o    ask_h    ask_l    ask_c  \n",
       "0  1.05179  1.05410  1.05174  1.05343  1.05192  1.05426  1.05191  1.05358  \n",
       "1  1.05342  1.05376  1.05230  1.05373  1.05358  1.05390  1.05244  1.05388  \n",
       "2  1.05373  1.05375  1.05186  1.05227  1.05389  1.05391  1.05200  1.05242  \n",
       "3  1.05226  1.05226  1.05050  1.05051  1.05240  1.05241  1.05068  1.05069  \n",
       "4  1.05053  1.05067  1.04981  1.04983  1.05070  1.05082  1.04997  1.05000  \n",
       "5  1.04987  1.05112  1.04972  1.05105  1.05004  1.05131  1.04989  1.05123  \n",
       "6  1.05109  1.05136  1.05080  1.05099  1.05129  1.05156  1.05099  1.05124  \n",
       "7  1.05049  1.05100  1.05044  1.05078  1.05128  1.05200  1.05120  1.05155  \n",
       "8  1.05075  1.05180  1.05075  1.05175  1.05159  1.05196  1.05099  1.05194  "
      ]
     },
     "execution_count": 19,
     "metadata": {},
     "output_type": "execute_result"
    }
   ],
   "source": [
    "candles_dataframe = pd.DataFrame.from_dict(our_data)\n",
    "candles_dataframe"
   ]
  },
  {
   "cell_type": "code",
   "execution_count": 20,
   "metadata": {},
   "outputs": [],
   "source": [
    "candles_dataframe.to_pickle('EUR_USD_H1.pkl')"
   ]
  },
  {
   "cell_type": "code",
   "execution_count": 21,
   "metadata": {},
   "outputs": [],
   "source": [
    "df = pd.read_pickle('EUR_USD_H1.pkl')"
   ]
  },
  {
   "cell_type": "code",
   "execution_count": 22,
   "metadata": {},
   "outputs": [
    {
     "data": {
      "text/html": [
       "<div>\n",
       "<style scoped>\n",
       "    .dataframe tbody tr th:only-of-type {\n",
       "        vertical-align: middle;\n",
       "    }\n",
       "\n",
       "    .dataframe tbody tr th {\n",
       "        vertical-align: top;\n",
       "    }\n",
       "\n",
       "    .dataframe thead th {\n",
       "        text-align: right;\n",
       "    }\n",
       "</style>\n",
       "<table border=\"1\" class=\"dataframe\">\n",
       "  <thead>\n",
       "    <tr style=\"text-align: right;\">\n",
       "      <th></th>\n",
       "      <th>time</th>\n",
       "      <th>volume</th>\n",
       "      <th>mid_o</th>\n",
       "      <th>mid_h</th>\n",
       "      <th>mid_l</th>\n",
       "      <th>mid_c</th>\n",
       "      <th>bid_o</th>\n",
       "      <th>bid_h</th>\n",
       "      <th>bid_l</th>\n",
       "      <th>bid_c</th>\n",
       "      <th>ask_o</th>\n",
       "      <th>ask_h</th>\n",
       "      <th>ask_l</th>\n",
       "      <th>ask_c</th>\n",
       "    </tr>\n",
       "  </thead>\n",
       "  <tbody>\n",
       "    <tr>\n",
       "      <th>0</th>\n",
       "      <td>2022-06-20T14:00:00.000000000Z</td>\n",
       "      <td>5252</td>\n",
       "      <td>1.05186</td>\n",
       "      <td>1.05418</td>\n",
       "      <td>1.05182</td>\n",
       "      <td>1.05350</td>\n",
       "      <td>1.05179</td>\n",
       "      <td>1.05410</td>\n",
       "      <td>1.05174</td>\n",
       "      <td>1.05343</td>\n",
       "      <td>1.05192</td>\n",
       "      <td>1.05426</td>\n",
       "      <td>1.05191</td>\n",
       "      <td>1.05358</td>\n",
       "    </tr>\n",
       "    <tr>\n",
       "      <th>1</th>\n",
       "      <td>2022-06-20T15:00:00.000000000Z</td>\n",
       "      <td>3193</td>\n",
       "      <td>1.05350</td>\n",
       "      <td>1.05383</td>\n",
       "      <td>1.05237</td>\n",
       "      <td>1.05380</td>\n",
       "      <td>1.05342</td>\n",
       "      <td>1.05376</td>\n",
       "      <td>1.05230</td>\n",
       "      <td>1.05373</td>\n",
       "      <td>1.05358</td>\n",
       "      <td>1.05390</td>\n",
       "      <td>1.05244</td>\n",
       "      <td>1.05388</td>\n",
       "    </tr>\n",
       "    <tr>\n",
       "      <th>2</th>\n",
       "      <td>2022-06-20T16:00:00.000000000Z</td>\n",
       "      <td>2244</td>\n",
       "      <td>1.05381</td>\n",
       "      <td>1.05383</td>\n",
       "      <td>1.05193</td>\n",
       "      <td>1.05234</td>\n",
       "      <td>1.05373</td>\n",
       "      <td>1.05375</td>\n",
       "      <td>1.05186</td>\n",
       "      <td>1.05227</td>\n",
       "      <td>1.05389</td>\n",
       "      <td>1.05391</td>\n",
       "      <td>1.05200</td>\n",
       "      <td>1.05242</td>\n",
       "    </tr>\n",
       "    <tr>\n",
       "      <th>3</th>\n",
       "      <td>2022-06-20T17:00:00.000000000Z</td>\n",
       "      <td>963</td>\n",
       "      <td>1.05233</td>\n",
       "      <td>1.05233</td>\n",
       "      <td>1.05060</td>\n",
       "      <td>1.05060</td>\n",
       "      <td>1.05226</td>\n",
       "      <td>1.05226</td>\n",
       "      <td>1.05050</td>\n",
       "      <td>1.05051</td>\n",
       "      <td>1.05240</td>\n",
       "      <td>1.05241</td>\n",
       "      <td>1.05068</td>\n",
       "      <td>1.05069</td>\n",
       "    </tr>\n",
       "    <tr>\n",
       "      <th>4</th>\n",
       "      <td>2022-06-20T18:00:00.000000000Z</td>\n",
       "      <td>1459</td>\n",
       "      <td>1.05062</td>\n",
       "      <td>1.05074</td>\n",
       "      <td>1.04990</td>\n",
       "      <td>1.04992</td>\n",
       "      <td>1.05053</td>\n",
       "      <td>1.05067</td>\n",
       "      <td>1.04981</td>\n",
       "      <td>1.04983</td>\n",
       "      <td>1.05070</td>\n",
       "      <td>1.05082</td>\n",
       "      <td>1.04997</td>\n",
       "      <td>1.05000</td>\n",
       "    </tr>\n",
       "    <tr>\n",
       "      <th>5</th>\n",
       "      <td>2022-06-20T19:00:00.000000000Z</td>\n",
       "      <td>809</td>\n",
       "      <td>1.04996</td>\n",
       "      <td>1.05122</td>\n",
       "      <td>1.04981</td>\n",
       "      <td>1.05114</td>\n",
       "      <td>1.04987</td>\n",
       "      <td>1.05112</td>\n",
       "      <td>1.04972</td>\n",
       "      <td>1.05105</td>\n",
       "      <td>1.05004</td>\n",
       "      <td>1.05131</td>\n",
       "      <td>1.04989</td>\n",
       "      <td>1.05123</td>\n",
       "    </tr>\n",
       "    <tr>\n",
       "      <th>6</th>\n",
       "      <td>2022-06-20T20:00:00.000000000Z</td>\n",
       "      <td>796</td>\n",
       "      <td>1.05119</td>\n",
       "      <td>1.05146</td>\n",
       "      <td>1.05090</td>\n",
       "      <td>1.05112</td>\n",
       "      <td>1.05109</td>\n",
       "      <td>1.05136</td>\n",
       "      <td>1.05080</td>\n",
       "      <td>1.05099</td>\n",
       "      <td>1.05129</td>\n",
       "      <td>1.05156</td>\n",
       "      <td>1.05099</td>\n",
       "      <td>1.05124</td>\n",
       "    </tr>\n",
       "    <tr>\n",
       "      <th>7</th>\n",
       "      <td>2022-06-20T21:00:00.000000000Z</td>\n",
       "      <td>286</td>\n",
       "      <td>1.05088</td>\n",
       "      <td>1.05150</td>\n",
       "      <td>1.05086</td>\n",
       "      <td>1.05116</td>\n",
       "      <td>1.05049</td>\n",
       "      <td>1.05100</td>\n",
       "      <td>1.05044</td>\n",
       "      <td>1.05078</td>\n",
       "      <td>1.05128</td>\n",
       "      <td>1.05200</td>\n",
       "      <td>1.05120</td>\n",
       "      <td>1.05155</td>\n",
       "    </tr>\n",
       "    <tr>\n",
       "      <th>8</th>\n",
       "      <td>2022-06-20T22:00:00.000000000Z</td>\n",
       "      <td>1095</td>\n",
       "      <td>1.05117</td>\n",
       "      <td>1.05188</td>\n",
       "      <td>1.05090</td>\n",
       "      <td>1.05184</td>\n",
       "      <td>1.05075</td>\n",
       "      <td>1.05180</td>\n",
       "      <td>1.05075</td>\n",
       "      <td>1.05175</td>\n",
       "      <td>1.05159</td>\n",
       "      <td>1.05196</td>\n",
       "      <td>1.05099</td>\n",
       "      <td>1.05194</td>\n",
       "    </tr>\n",
       "  </tbody>\n",
       "</table>\n",
       "</div>"
      ],
      "text/plain": [
       "                             time  volume    mid_o    mid_h    mid_l    mid_c  \\\n",
       "0  2022-06-20T14:00:00.000000000Z    5252  1.05186  1.05418  1.05182  1.05350   \n",
       "1  2022-06-20T15:00:00.000000000Z    3193  1.05350  1.05383  1.05237  1.05380   \n",
       "2  2022-06-20T16:00:00.000000000Z    2244  1.05381  1.05383  1.05193  1.05234   \n",
       "3  2022-06-20T17:00:00.000000000Z     963  1.05233  1.05233  1.05060  1.05060   \n",
       "4  2022-06-20T18:00:00.000000000Z    1459  1.05062  1.05074  1.04990  1.04992   \n",
       "5  2022-06-20T19:00:00.000000000Z     809  1.04996  1.05122  1.04981  1.05114   \n",
       "6  2022-06-20T20:00:00.000000000Z     796  1.05119  1.05146  1.05090  1.05112   \n",
       "7  2022-06-20T21:00:00.000000000Z     286  1.05088  1.05150  1.05086  1.05116   \n",
       "8  2022-06-20T22:00:00.000000000Z    1095  1.05117  1.05188  1.05090  1.05184   \n",
       "\n",
       "     bid_o    bid_h    bid_l    bid_c    ask_o    ask_h    ask_l    ask_c  \n",
       "0  1.05179  1.05410  1.05174  1.05343  1.05192  1.05426  1.05191  1.05358  \n",
       "1  1.05342  1.05376  1.05230  1.05373  1.05358  1.05390  1.05244  1.05388  \n",
       "2  1.05373  1.05375  1.05186  1.05227  1.05389  1.05391  1.05200  1.05242  \n",
       "3  1.05226  1.05226  1.05050  1.05051  1.05240  1.05241  1.05068  1.05069  \n",
       "4  1.05053  1.05067  1.04981  1.04983  1.05070  1.05082  1.04997  1.05000  \n",
       "5  1.04987  1.05112  1.04972  1.05105  1.05004  1.05131  1.04989  1.05123  \n",
       "6  1.05109  1.05136  1.05080  1.05099  1.05129  1.05156  1.05099  1.05124  \n",
       "7  1.05049  1.05100  1.05044  1.05078  1.05128  1.05200  1.05120  1.05155  \n",
       "8  1.05075  1.05180  1.05075  1.05175  1.05159  1.05196  1.05099  1.05194  "
      ]
     },
     "execution_count": 22,
     "metadata": {},
     "output_type": "execute_result"
    }
   ],
   "source": [
    "df"
   ]
  },
  {
   "cell_type": "code",
   "execution_count": null,
   "metadata": {},
   "outputs": [],
   "source": []
  }
 ],
 "metadata": {
  "kernelspec": {
   "display_name": "Python 3.9.7 ('forexBot': venv)",
   "language": "python",
   "name": "python3"
  },
  "language_info": {
   "codemirror_mode": {
    "name": "ipython",
    "version": 3
   },
   "file_extension": ".py",
   "mimetype": "text/x-python",
   "name": "python",
   "nbconvert_exporter": "python",
   "pygments_lexer": "ipython3",
   "version": "3.9.7"
  },
  "orig_nbformat": 4,
  "vscode": {
   "interpreter": {
    "hash": "cdeac6fb90bbdbe6069ef31f239a3e91804bc0eee30d2e3acd8e7f54039a8769"
   }
  }
 },
 "nbformat": 4,
 "nbformat_minor": 2
}
