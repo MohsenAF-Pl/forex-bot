{
 "cells": [
  {
   "cell_type": "code",
   "execution_count": 2,
   "metadata": {},
   "outputs": [],
   "source": [
    "import requests\n",
    "import authentication\n",
    "import pandas as pd"
   ]
  },
  {
   "cell_type": "code",
   "execution_count": 2,
   "metadata": {},
   "outputs": [],
   "source": [
    "session = requests.Session()"
   ]
  },
  {
   "cell_type": "code",
   "execution_count": 3,
   "metadata": {},
   "outputs": [],
   "source": [
    "instrument = 'EUR_USD'\n",
    "count = 10\n",
    "granularity = 'H1'"
   ]
  },
  {
   "cell_type": "code",
   "execution_count": 4,
   "metadata": {},
   "outputs": [
    {
     "data": {
      "text/plain": [
       "'https://api-fxpractice.oanda.com/v3/instruments/EUR_USD/candles'"
      ]
     },
     "execution_count": 4,
     "metadata": {},
     "output_type": "execute_result"
    }
   ],
   "source": [
    "url = f'{authentication.OANDA_URL}/instruments/{instrument}/candles'\n",
    "url"
   ]
  },
  {
   "cell_type": "code",
   "execution_count": 5,
   "metadata": {},
   "outputs": [],
   "source": [
    "params = dict(\n",
    "    count = count,\n",
    "    granularity = granularity,\n",
    "    price = 'MBA'\n",
    ")"
   ]
  },
  {
   "cell_type": "code",
   "execution_count": 6,
   "metadata": {},
   "outputs": [],
   "source": [
    "response = session.get(url, params=None, headers=authentication.SECURE_HEADER)"
   ]
  },
  {
   "cell_type": "code",
   "execution_count": 9,
   "metadata": {},
   "outputs": [],
   "source": [
    "data = response.json()"
   ]
  },
  {
   "cell_type": "code",
   "execution_count": 16,
   "metadata": {},
   "outputs": [
    {
     "data": {
      "text/plain": [
       "{'complete': True,\n",
       " 'volume': 6,\n",
       " 'time': '2022-08-29T09:07:35.000000000Z',\n",
       " 'mid': {'o': '0.99418', 'h': '0.99418', 'l': '0.99418', 'c': '0.99418'}}"
      ]
     },
     "execution_count": 16,
     "metadata": {},
     "output_type": "execute_result"
    }
   ],
   "source": [
    "data['candles'][0]"
   ]
  },
  {
   "cell_type": "code",
   "execution_count": 17,
   "metadata": {},
   "outputs": [],
   "source": [
    "prices = ['mid']\n",
    "ohlc = ['o', 'h', 'l', 'c']"
   ]
  },
  {
   "cell_type": "code",
   "execution_count": 19,
   "metadata": {},
   "outputs": [
    {
     "name": "stdout",
     "output_type": "stream",
     "text": [
      "{'time': '2022-08-29T09:07:35.000000000Z', 'volume': 6, 'mid_o': '0.99418', 'mid_h': '0.99418', 'mid_l': '0.99418', 'mid_c': '0.99418'}\n"
     ]
    }
   ],
   "source": [
    "our_data = []\n",
    "for candle in data['candles']:\n",
    "    if candle['complete'] == False:\n",
    "        continue\n",
    "    new_dict = {}\n",
    "    new_dict['time'] = candle['time']\n",
    "    new_dict['volume'] = candle['volume']\n",
    "    for price in prices:\n",
    "        for oh in ohlc:\n",
    "            new_dict[f\"{price}_{oh}\"] = candle[price][oh]\n",
    "    our_data.append(new_dict)\n",
    "print(our_data[0])\n"
   ]
  },
  {
   "cell_type": "code",
   "execution_count": 20,
   "metadata": {},
   "outputs": [],
   "source": [
    "candles_df = pd.DataFrame.from_dict(our_data)"
   ]
  },
  {
   "cell_type": "code",
   "execution_count": 21,
   "metadata": {},
   "outputs": [],
   "source": [
    "candles_df.to_pickle('./data/eur_usd_h1.pkl')"
   ]
  },
  {
   "cell_type": "code",
   "execution_count": 22,
   "metadata": {},
   "outputs": [
    {
     "data": {
      "text/html": [
       "<div>\n",
       "<style scoped>\n",
       "    .dataframe tbody tr th:only-of-type {\n",
       "        vertical-align: middle;\n",
       "    }\n",
       "\n",
       "    .dataframe tbody tr th {\n",
       "        vertical-align: top;\n",
       "    }\n",
       "\n",
       "    .dataframe thead th {\n",
       "        text-align: right;\n",
       "    }\n",
       "</style>\n",
       "<table border=\"1\" class=\"dataframe\">\n",
       "  <thead>\n",
       "    <tr style=\"text-align: right;\">\n",
       "      <th></th>\n",
       "      <th>time</th>\n",
       "      <th>volume</th>\n",
       "      <th>mid_o</th>\n",
       "      <th>mid_h</th>\n",
       "      <th>mid_l</th>\n",
       "      <th>mid_c</th>\n",
       "    </tr>\n",
       "  </thead>\n",
       "  <tbody>\n",
       "    <tr>\n",
       "      <th>0</th>\n",
       "      <td>2022-08-29T09:07:35.000000000Z</td>\n",
       "      <td>6</td>\n",
       "      <td>0.99418</td>\n",
       "      <td>0.99418</td>\n",
       "      <td>0.99418</td>\n",
       "      <td>0.99418</td>\n",
       "    </tr>\n",
       "    <tr>\n",
       "      <th>1</th>\n",
       "      <td>2022-08-29T09:07:40.000000000Z</td>\n",
       "      <td>2</td>\n",
       "      <td>0.99424</td>\n",
       "      <td>0.99424</td>\n",
       "      <td>0.99424</td>\n",
       "      <td>0.99424</td>\n",
       "    </tr>\n",
       "    <tr>\n",
       "      <th>2</th>\n",
       "      <td>2022-08-29T09:07:45.000000000Z</td>\n",
       "      <td>2</td>\n",
       "      <td>0.99425</td>\n",
       "      <td>0.99425</td>\n",
       "      <td>0.99424</td>\n",
       "      <td>0.99424</td>\n",
       "    </tr>\n",
       "    <tr>\n",
       "      <th>3</th>\n",
       "      <td>2022-08-29T09:07:50.000000000Z</td>\n",
       "      <td>2</td>\n",
       "      <td>0.99427</td>\n",
       "      <td>0.99427</td>\n",
       "      <td>0.99424</td>\n",
       "      <td>0.99424</td>\n",
       "    </tr>\n",
       "    <tr>\n",
       "      <th>4</th>\n",
       "      <td>2022-08-29T09:07:55.000000000Z</td>\n",
       "      <td>16</td>\n",
       "      <td>0.99423</td>\n",
       "      <td>0.99424</td>\n",
       "      <td>0.99408</td>\n",
       "      <td>0.99409</td>\n",
       "    </tr>\n",
       "    <tr>\n",
       "      <th>...</th>\n",
       "      <td>...</td>\n",
       "      <td>...</td>\n",
       "      <td>...</td>\n",
       "      <td>...</td>\n",
       "      <td>...</td>\n",
       "      <td>...</td>\n",
       "    </tr>\n",
       "    <tr>\n",
       "      <th>494</th>\n",
       "      <td>2022-08-29T09:49:50.000000000Z</td>\n",
       "      <td>6</td>\n",
       "      <td>0.99542</td>\n",
       "      <td>0.99544</td>\n",
       "      <td>0.99542</td>\n",
       "      <td>0.99542</td>\n",
       "    </tr>\n",
       "    <tr>\n",
       "      <th>495</th>\n",
       "      <td>2022-08-29T09:49:55.000000000Z</td>\n",
       "      <td>1</td>\n",
       "      <td>0.99544</td>\n",
       "      <td>0.99544</td>\n",
       "      <td>0.99544</td>\n",
       "      <td>0.99544</td>\n",
       "    </tr>\n",
       "    <tr>\n",
       "      <th>496</th>\n",
       "      <td>2022-08-29T09:50:00.000000000Z</td>\n",
       "      <td>5</td>\n",
       "      <td>0.99539</td>\n",
       "      <td>0.99540</td>\n",
       "      <td>0.99538</td>\n",
       "      <td>0.99540</td>\n",
       "    </tr>\n",
       "    <tr>\n",
       "      <th>497</th>\n",
       "      <td>2022-08-29T09:50:05.000000000Z</td>\n",
       "      <td>11</td>\n",
       "      <td>0.99542</td>\n",
       "      <td>0.99542</td>\n",
       "      <td>0.99540</td>\n",
       "      <td>0.99540</td>\n",
       "    </tr>\n",
       "    <tr>\n",
       "      <th>498</th>\n",
       "      <td>2022-08-29T09:50:10.000000000Z</td>\n",
       "      <td>12</td>\n",
       "      <td>0.99538</td>\n",
       "      <td>0.99544</td>\n",
       "      <td>0.99538</td>\n",
       "      <td>0.99544</td>\n",
       "    </tr>\n",
       "  </tbody>\n",
       "</table>\n",
       "<p>499 rows × 6 columns</p>\n",
       "</div>"
      ],
      "text/plain": [
       "                               time  volume    mid_o    mid_h    mid_l  \\\n",
       "0    2022-08-29T09:07:35.000000000Z       6  0.99418  0.99418  0.99418   \n",
       "1    2022-08-29T09:07:40.000000000Z       2  0.99424  0.99424  0.99424   \n",
       "2    2022-08-29T09:07:45.000000000Z       2  0.99425  0.99425  0.99424   \n",
       "3    2022-08-29T09:07:50.000000000Z       2  0.99427  0.99427  0.99424   \n",
       "4    2022-08-29T09:07:55.000000000Z      16  0.99423  0.99424  0.99408   \n",
       "..                              ...     ...      ...      ...      ...   \n",
       "494  2022-08-29T09:49:50.000000000Z       6  0.99542  0.99544  0.99542   \n",
       "495  2022-08-29T09:49:55.000000000Z       1  0.99544  0.99544  0.99544   \n",
       "496  2022-08-29T09:50:00.000000000Z       5  0.99539  0.99540  0.99538   \n",
       "497  2022-08-29T09:50:05.000000000Z      11  0.99542  0.99542  0.99540   \n",
       "498  2022-08-29T09:50:10.000000000Z      12  0.99538  0.99544  0.99538   \n",
       "\n",
       "       mid_c  \n",
       "0    0.99418  \n",
       "1    0.99424  \n",
       "2    0.99424  \n",
       "3    0.99424  \n",
       "4    0.99409  \n",
       "..       ...  \n",
       "494  0.99542  \n",
       "495  0.99544  \n",
       "496  0.99540  \n",
       "497  0.99540  \n",
       "498  0.99544  \n",
       "\n",
       "[499 rows x 6 columns]"
      ]
     },
     "execution_count": 22,
     "metadata": {},
     "output_type": "execute_result"
    }
   ],
   "source": [
    "test_df = pd.read_pickle('./data/eur_usd_h1.pkl')\n",
    "test_df"
   ]
  },
  {
   "cell_type": "markdown",
   "metadata": {},
   "source": [
    "in the above section we ran a test for getting historical candles from the broker\n",
    "we're using the logic to get more data for more symbols"
   ]
  },
  {
   "cell_type": "code",
   "execution_count": 3,
   "metadata": {},
   "outputs": [],
   "source": [
    "test = pd.read_pickle('./data/ma_test_result.pkl')"
   ]
  },
  {
   "cell_type": "code",
   "execution_count": 4,
   "metadata": {},
   "outputs": [
    {
     "data": {
      "text/html": [
       "<div>\n",
       "<style scoped>\n",
       "    .dataframe tbody tr th:only-of-type {\n",
       "        vertical-align: middle;\n",
       "    }\n",
       "\n",
       "    .dataframe tbody tr th {\n",
       "        vertical-align: top;\n",
       "    }\n",
       "\n",
       "    .dataframe thead th {\n",
       "        text-align: right;\n",
       "    }\n",
       "</style>\n",
       "<table border=\"1\" class=\"dataframe\">\n",
       "  <thead>\n",
       "    <tr style=\"text-align: right;\">\n",
       "      <th></th>\n",
       "      <th>pair</th>\n",
       "      <th>num_trades</th>\n",
       "      <th>total_gain</th>\n",
       "      <th>mean_gain</th>\n",
       "      <th>min_gain</th>\n",
       "      <th>max_gain</th>\n",
       "      <th>mashort</th>\n",
       "      <th>malong</th>\n",
       "    </tr>\n",
       "  </thead>\n",
       "  <tbody>\n",
       "    <tr>\n",
       "      <th>0</th>\n",
       "      <td>GBP_USD</td>\n",
       "      <td>156</td>\n",
       "      <td>-171.5</td>\n",
       "      <td>-1.099359</td>\n",
       "      <td>-222.7</td>\n",
       "      <td>507.4</td>\n",
       "      <td>8</td>\n",
       "      <td>32</td>\n",
       "    </tr>\n",
       "    <tr>\n",
       "      <th>1</th>\n",
       "      <td>GBP_USD</td>\n",
       "      <td>138</td>\n",
       "      <td>344.2</td>\n",
       "      <td>2.494203</td>\n",
       "      <td>-242.7</td>\n",
       "      <td>492.7</td>\n",
       "      <td>16</td>\n",
       "      <td>32</td>\n",
       "    </tr>\n",
       "    <tr>\n",
       "      <th>2</th>\n",
       "      <td>GBP_USD</td>\n",
       "      <td>112</td>\n",
       "      <td>-445.1</td>\n",
       "      <td>-3.974107</td>\n",
       "      <td>-246.8</td>\n",
       "      <td>465.2</td>\n",
       "      <td>8</td>\n",
       "      <td>64</td>\n",
       "    </tr>\n",
       "    <tr>\n",
       "      <th>3</th>\n",
       "      <td>GBP_USD</td>\n",
       "      <td>88</td>\n",
       "      <td>-515.7</td>\n",
       "      <td>-5.860227</td>\n",
       "      <td>-305.7</td>\n",
       "      <td>459.8</td>\n",
       "      <td>16</td>\n",
       "      <td>64</td>\n",
       "    </tr>\n",
       "    <tr>\n",
       "      <th>4</th>\n",
       "      <td>GBP_USD</td>\n",
       "      <td>66</td>\n",
       "      <td>-0.3</td>\n",
       "      <td>-0.004545</td>\n",
       "      <td>-259.8</td>\n",
       "      <td>440.9</td>\n",
       "      <td>32</td>\n",
       "      <td>64</td>\n",
       "    </tr>\n",
       "    <tr>\n",
       "      <th>...</th>\n",
       "      <td>...</td>\n",
       "      <td>...</td>\n",
       "      <td>...</td>\n",
       "      <td>...</td>\n",
       "      <td>...</td>\n",
       "      <td>...</td>\n",
       "      <td>...</td>\n",
       "      <td>...</td>\n",
       "    </tr>\n",
       "    <tr>\n",
       "      <th>352</th>\n",
       "      <td>CHF_JPY</td>\n",
       "      <td>25</td>\n",
       "      <td>1276.3</td>\n",
       "      <td>51.052000</td>\n",
       "      <td>-510.7</td>\n",
       "      <td>858.9</td>\n",
       "      <td>64</td>\n",
       "      <td>128</td>\n",
       "    </tr>\n",
       "    <tr>\n",
       "      <th>353</th>\n",
       "      <td>CHF_JPY</td>\n",
       "      <td>38</td>\n",
       "      <td>1393.8</td>\n",
       "      <td>36.678947</td>\n",
       "      <td>-209.5</td>\n",
       "      <td>904.9</td>\n",
       "      <td>8</td>\n",
       "      <td>256</td>\n",
       "    </tr>\n",
       "    <tr>\n",
       "      <th>354</th>\n",
       "      <td>CHF_JPY</td>\n",
       "      <td>30</td>\n",
       "      <td>677.8</td>\n",
       "      <td>22.593333</td>\n",
       "      <td>-225.5</td>\n",
       "      <td>881.3</td>\n",
       "      <td>16</td>\n",
       "      <td>256</td>\n",
       "    </tr>\n",
       "    <tr>\n",
       "      <th>355</th>\n",
       "      <td>CHF_JPY</td>\n",
       "      <td>22</td>\n",
       "      <td>796.3</td>\n",
       "      <td>36.195455</td>\n",
       "      <td>-327.0</td>\n",
       "      <td>911.8</td>\n",
       "      <td>32</td>\n",
       "      <td>256</td>\n",
       "    </tr>\n",
       "    <tr>\n",
       "      <th>356</th>\n",
       "      <td>CHF_JPY</td>\n",
       "      <td>14</td>\n",
       "      <td>657.8</td>\n",
       "      <td>46.985714</td>\n",
       "      <td>-507.0</td>\n",
       "      <td>802.6</td>\n",
       "      <td>64</td>\n",
       "      <td>256</td>\n",
       "    </tr>\n",
       "  </tbody>\n",
       "</table>\n",
       "<p>357 rows × 8 columns</p>\n",
       "</div>"
      ],
      "text/plain": [
       "        pair  num_trades  total_gain  mean_gain  min_gain  max_gain  mashort  \\\n",
       "0    GBP_USD         156      -171.5  -1.099359    -222.7     507.4        8   \n",
       "1    GBP_USD         138       344.2   2.494203    -242.7     492.7       16   \n",
       "2    GBP_USD         112      -445.1  -3.974107    -246.8     465.2        8   \n",
       "3    GBP_USD          88      -515.7  -5.860227    -305.7     459.8       16   \n",
       "4    GBP_USD          66        -0.3  -0.004545    -259.8     440.9       32   \n",
       "..       ...         ...         ...        ...       ...       ...      ...   \n",
       "352  CHF_JPY          25      1276.3  51.052000    -510.7     858.9       64   \n",
       "353  CHF_JPY          38      1393.8  36.678947    -209.5     904.9        8   \n",
       "354  CHF_JPY          30       677.8  22.593333    -225.5     881.3       16   \n",
       "355  CHF_JPY          22       796.3  36.195455    -327.0     911.8       32   \n",
       "356  CHF_JPY          14       657.8  46.985714    -507.0     802.6       64   \n",
       "\n",
       "     malong  \n",
       "0        32  \n",
       "1        32  \n",
       "2        64  \n",
       "3        64  \n",
       "4        64  \n",
       "..      ...  \n",
       "352     128  \n",
       "353     256  \n",
       "354     256  \n",
       "355     256  \n",
       "356     256  \n",
       "\n",
       "[357 rows x 8 columns]"
      ]
     },
     "execution_count": 4,
     "metadata": {},
     "output_type": "execute_result"
    }
   ],
   "source": [
    "test"
   ]
  },
  {
   "cell_type": "code",
   "execution_count": null,
   "metadata": {},
   "outputs": [],
   "source": []
  }
 ],
 "metadata": {
  "kernelspec": {
   "display_name": "Python 3.9.13 ('gpu-data')",
   "language": "python",
   "name": "python3"
  },
  "language_info": {
   "codemirror_mode": {
    "name": "ipython",
    "version": 3
   },
   "file_extension": ".py",
   "mimetype": "text/x-python",
   "name": "python",
   "nbconvert_exporter": "python",
   "pygments_lexer": "ipython3",
   "version": "3.9.13"
  },
  "orig_nbformat": 4,
  "vscode": {
   "interpreter": {
    "hash": "5fc091cde34f289e745144a98398f23c71d812632c19536d781b1e8e4634b4dc"
   }
  }
 },
 "nbformat": 4,
 "nbformat_minor": 2
}
