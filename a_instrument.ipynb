{
 "cells": [
  {
   "cell_type": "markdown",
   "metadata": {},
   "source": [
    "in this file We're getting the tradeable instruments from the broker\n",
    "and then write it in a file"
   ]
  },
  {
   "cell_type": "code",
   "execution_count": 1,
   "metadata": {},
   "outputs": [],
   "source": [
    "import requests\n",
    "import authentication"
   ]
  },
  {
   "cell_type": "code",
   "execution_count": 2,
   "metadata": {},
   "outputs": [],
   "source": [
    "session = requests.Session()"
   ]
  },
  {
   "cell_type": "code",
   "execution_count": 3,
   "metadata": {},
   "outputs": [
    {
     "data": {
      "text/plain": [
       "'https://api-fxpractice.oanda.com/v3/accounts/101-001-22518407-001/instruments'"
      ]
     },
     "execution_count": 3,
     "metadata": {},
     "output_type": "execute_result"
    }
   ],
   "source": [
    "url = f\"{authentication.OANDA_URL}/accounts/{authentication.ACCOUNT_ID}/instruments\"\n",
    "url"
   ]
  },
  {
   "cell_type": "code",
   "execution_count": 4,
   "metadata": {},
   "outputs": [
    {
     "data": {
      "text/plain": [
       "200"
      ]
     },
     "execution_count": 4,
     "metadata": {},
     "output_type": "execute_result"
    }
   ],
   "source": [
    "response = session.get(url, params=None, headers=authentication.SECURE_HEADER)\n",
    "response.status_code"
   ]
  },
  {
   "cell_type": "code",
   "execution_count": 5,
   "metadata": {},
   "outputs": [],
   "source": [
    "data = response.json()"
   ]
  },
  {
   "cell_type": "code",
   "execution_count": 6,
   "metadata": {},
   "outputs": [
    {
     "data": {
      "text/plain": [
       "dict_keys(['instruments', 'lastTransactionID'])"
      ]
     },
     "execution_count": 6,
     "metadata": {},
     "output_type": "execute_result"
    }
   ],
   "source": [
    "data.keys()"
   ]
  },
  {
   "cell_type": "code",
   "execution_count": 7,
   "metadata": {},
   "outputs": [
    {
     "data": {
      "text/plain": [
       "{'name': 'AUD_USD',\n",
       " 'type': 'CURRENCY',\n",
       " 'displayName': 'AUD/USD',\n",
       " 'pipLocation': -4,\n",
       " 'displayPrecision': 5,\n",
       " 'tradeUnitsPrecision': 0,\n",
       " 'minimumTradeSize': '1',\n",
       " 'maximumTrailingStopDistance': '1.00000',\n",
       " 'minimumTrailingStopDistance': '0.00050',\n",
       " 'maximumPositionSize': '0',\n",
       " 'maximumOrderUnits': '100000000',\n",
       " 'marginRate': '0.03',\n",
       " 'guaranteedStopLossOrderMode': 'DISABLED',\n",
       " 'tags': [{'type': 'ASSET_CLASS', 'name': 'CURRENCY'}],\n",
       " 'financing': {'longRate': '-0.0216',\n",
       "  'shortRate': '-0.00080',\n",
       "  'financingDaysOfWeek': [{'dayOfWeek': 'MONDAY', 'daysCharged': 1},\n",
       "   {'dayOfWeek': 'TUESDAY', 'daysCharged': 1},\n",
       "   {'dayOfWeek': 'WEDNESDAY', 'daysCharged': 1},\n",
       "   {'dayOfWeek': 'THURSDAY', 'daysCharged': 1},\n",
       "   {'dayOfWeek': 'FRIDAY', 'daysCharged': 1},\n",
       "   {'dayOfWeek': 'SATURDAY', 'daysCharged': 0},\n",
       "   {'dayOfWeek': 'SUNDAY', 'daysCharged': 0}]}}"
      ]
     },
     "execution_count": 7,
     "metadata": {},
     "output_type": "execute_result"
    }
   ],
   "source": [
    "instruments = data['instruments']\n",
    "instruments[0]"
   ]
  },
  {
   "cell_type": "code",
   "execution_count": 18,
   "metadata": {},
   "outputs": [
    {
     "name": "stdout",
     "output_type": "stream",
     "text": [
      "AUD_USD\n",
      "GBP_NZD\n",
      "CHF_ZAR\n",
      "USD_CNH\n",
      "NZD_USD\n",
      "NZD_SGD\n",
      "USD_NOK\n",
      "NZD_JPY\n",
      "EUR_HUF\n",
      "USD_CAD\n",
      "ZAR_JPY\n",
      "GBP_ZAR\n",
      "SGD_JPY\n",
      "USD_JPY\n",
      "EUR_TRY\n",
      "EUR_JPY\n",
      "AUD_SGD\n",
      "EUR_NZD\n",
      "GBP_HKD\n",
      "CHF_JPY\n",
      "EUR_HKD\n",
      "GBP_CAD\n",
      "USD_THB\n",
      "GBP_CHF\n",
      "NZD_CHF\n",
      "AUD_HKD\n",
      "USD_CHF\n",
      "SGD_CHF\n",
      "USD_TRY\n",
      "GBP_JPY\n",
      "USD_PLN\n",
      "GBP_AUD\n",
      "HKD_JPY\n",
      "AUD_CHF\n",
      "EUR_SEK\n",
      "USD_SGD\n",
      "TRY_JPY\n",
      "EUR_AUD\n",
      "CHF_HKD\n",
      "EUR_SGD\n",
      "NZD_CAD\n",
      "CAD_JPY\n",
      "USD_CZK\n",
      "USD_ZAR\n",
      "USD_DKK\n",
      "EUR_CHF\n",
      "AUD_JPY\n",
      "USD_HUF\n",
      "EUR_CAD\n",
      "EUR_ZAR\n",
      "EUR_USD\n",
      "GBP_USD\n",
      "USD_MXN\n",
      "NZD_HKD\n",
      "USD_HKD\n",
      "CAD_SGD\n",
      "AUD_CAD\n",
      "EUR_PLN\n",
      "GBP_PLN\n",
      "EUR_NOK\n",
      "CAD_HKD\n",
      "EUR_GBP\n",
      "CAD_CHF\n",
      "USD_SEK\n",
      "GBP_SGD\n",
      "EUR_DKK\n",
      "AUD_NZD\n",
      "EUR_CZK\n"
     ]
    }
   ],
   "source": [
    "for i in range(len(instruments)):\n",
    "    print(instruments[i]['name'])"
   ]
  },
  {
   "cell_type": "code",
   "execution_count": 8,
   "metadata": {},
   "outputs": [
    {
     "data": {
      "text/plain": [
       "dict_keys(['name', 'type', 'displayName', 'pipLocation', 'displayPrecision', 'tradeUnitsPrecision', 'minimumTradeSize', 'maximumTrailingStopDistance', 'minimumTrailingStopDistance', 'maximumPositionSize', 'maximumOrderUnits', 'marginRate', 'guaranteedStopLossOrderMode', 'tags', 'financing'])"
      ]
     },
     "execution_count": 8,
     "metadata": {},
     "output_type": "execute_result"
    }
   ],
   "source": [
    "instruments[0].keys()"
   ]
  },
  {
   "cell_type": "code",
   "execution_count": 19,
   "metadata": {},
   "outputs": [],
   "source": [
    "instrument_data = []\n",
    "for item in instruments:\n",
    "    new_object = dict(\n",
    "        name = item['name'],\n",
    "        type = item['type'],\n",
    "        displayName = item['displayName'],\n",
    "        pipLocation = item['pipLocation'],\n",
    "        marginRate = item['marginRate']\n",
    "    )\n",
    "\n",
    "    instrument_data.append(new_object)"
   ]
  },
  {
   "cell_type": "code",
   "execution_count": 20,
   "metadata": {},
   "outputs": [
    {
     "data": {
      "text/plain": [
       "{'name': 'AUD_USD',\n",
       " 'type': 'CURRENCY',\n",
       " 'displayName': 'AUD/USD',\n",
       " 'pipLocation': -4,\n",
       " 'marginRate': '0.03'}"
      ]
     },
     "execution_count": 20,
     "metadata": {},
     "output_type": "execute_result"
    }
   ],
   "source": [
    "instrument_data[0]"
   ]
  },
  {
   "cell_type": "code",
   "execution_count": 21,
   "metadata": {},
   "outputs": [
    {
     "name": "stdout",
     "output_type": "stream",
     "text": [
      "{'name': 'AUD_USD', 'type': 'CURRENCY', 'displayName': 'AUD/USD', 'pipLocation': -4, 'marginRate': '0.03'}\n",
      "{'name': 'GBP_NZD', 'type': 'CURRENCY', 'displayName': 'GBP/NZD', 'pipLocation': -4, 'marginRate': '0.03'}\n",
      "{'name': 'CHF_ZAR', 'type': 'CURRENCY', 'displayName': 'CHF/ZAR', 'pipLocation': -4, 'marginRate': '0.07'}\n",
      "{'name': 'USD_CNH', 'type': 'CURRENCY', 'displayName': 'USD/CNH', 'pipLocation': -4, 'marginRate': '0.05'}\n",
      "{'name': 'NZD_USD', 'type': 'CURRENCY', 'displayName': 'NZD/USD', 'pipLocation': -4, 'marginRate': '0.03'}\n",
      "{'name': 'NZD_SGD', 'type': 'CURRENCY', 'displayName': 'NZD/SGD', 'pipLocation': -4, 'marginRate': '0.05'}\n",
      "{'name': 'USD_NOK', 'type': 'CURRENCY', 'displayName': 'USD/NOK', 'pipLocation': -4, 'marginRate': '0.07'}\n",
      "{'name': 'NZD_JPY', 'type': 'CURRENCY', 'displayName': 'NZD/JPY', 'pipLocation': -2, 'marginRate': '0.02'}\n",
      "{'name': 'EUR_HUF', 'type': 'CURRENCY', 'displayName': 'EUR/HUF', 'pipLocation': -2, 'marginRate': '0.05'}\n",
      "{'name': 'USD_CAD', 'type': 'CURRENCY', 'displayName': 'USD/CAD', 'pipLocation': -4, 'marginRate': '0.02'}\n",
      "{'name': 'ZAR_JPY', 'type': 'CURRENCY', 'displayName': 'ZAR/JPY', 'pipLocation': -2, 'marginRate': '0.07'}\n",
      "{'name': 'GBP_ZAR', 'type': 'CURRENCY', 'displayName': 'GBP/ZAR', 'pipLocation': -4, 'marginRate': '0.07'}\n",
      "{'name': 'SGD_JPY', 'type': 'CURRENCY', 'displayName': 'SGD/JPY', 'pipLocation': -2, 'marginRate': '0.05'}\n",
      "{'name': 'USD_JPY', 'type': 'CURRENCY', 'displayName': 'USD/JPY', 'pipLocation': -2, 'marginRate': '0.02'}\n",
      "{'name': 'EUR_TRY', 'type': 'CURRENCY', 'displayName': 'EUR/TRY', 'pipLocation': -4, 'marginRate': '0.25'}\n",
      "{'name': 'EUR_JPY', 'type': 'CURRENCY', 'displayName': 'EUR/JPY', 'pipLocation': -2, 'marginRate': '0.02'}\n",
      "{'name': 'AUD_SGD', 'type': 'CURRENCY', 'displayName': 'AUD/SGD', 'pipLocation': -4, 'marginRate': '0.05'}\n",
      "{'name': 'EUR_NZD', 'type': 'CURRENCY', 'displayName': 'EUR/NZD', 'pipLocation': -4, 'marginRate': '0.03'}\n",
      "{'name': 'GBP_HKD', 'type': 'CURRENCY', 'displayName': 'GBP/HKD', 'pipLocation': -4, 'marginRate': '0.1'}\n",
      "{'name': 'CHF_JPY', 'type': 'CURRENCY', 'displayName': 'CHF/JPY', 'pipLocation': -2, 'marginRate': '0.02'}\n",
      "{'name': 'EUR_HKD', 'type': 'CURRENCY', 'displayName': 'EUR/HKD', 'pipLocation': -4, 'marginRate': '0.1'}\n",
      "{'name': 'GBP_CAD', 'type': 'CURRENCY', 'displayName': 'GBP/CAD', 'pipLocation': -4, 'marginRate': '0.03'}\n",
      "{'name': 'USD_THB', 'type': 'CURRENCY', 'displayName': 'USD/THB', 'pipLocation': -2, 'marginRate': '0.05'}\n",
      "{'name': 'GBP_CHF', 'type': 'CURRENCY', 'displayName': 'GBP/CHF', 'pipLocation': -4, 'marginRate': '0.03'}\n",
      "{'name': 'NZD_CHF', 'type': 'CURRENCY', 'displayName': 'NZD/CHF', 'pipLocation': -4, 'marginRate': '0.04'}\n",
      "{'name': 'AUD_HKD', 'type': 'CURRENCY', 'displayName': 'AUD/HKD', 'pipLocation': -4, 'marginRate': '0.1'}\n",
      "{'name': 'USD_CHF', 'type': 'CURRENCY', 'displayName': 'USD/CHF', 'pipLocation': -4, 'marginRate': '0.04'}\n",
      "{'name': 'SGD_CHF', 'type': 'CURRENCY', 'displayName': 'SGD/CHF', 'pipLocation': -4, 'marginRate': '0.05'}\n",
      "{'name': 'USD_TRY', 'type': 'CURRENCY', 'displayName': 'USD/TRY', 'pipLocation': -4, 'marginRate': '0.25'}\n",
      "{'name': 'GBP_JPY', 'type': 'CURRENCY', 'displayName': 'GBP/JPY', 'pipLocation': -2, 'marginRate': '0.03'}\n",
      "{'name': 'USD_PLN', 'type': 'CURRENCY', 'displayName': 'USD/PLN', 'pipLocation': -4, 'marginRate': '0.05'}\n",
      "{'name': 'GBP_AUD', 'type': 'CURRENCY', 'displayName': 'GBP/AUD', 'pipLocation': -4, 'marginRate': '0.03'}\n",
      "{'name': 'HKD_JPY', 'type': 'CURRENCY', 'displayName': 'HKD/JPY', 'pipLocation': -4, 'marginRate': '0.1'}\n",
      "{'name': 'AUD_CHF', 'type': 'CURRENCY', 'displayName': 'AUD/CHF', 'pipLocation': -4, 'marginRate': '0.04'}\n",
      "{'name': 'EUR_SEK', 'type': 'CURRENCY', 'displayName': 'EUR/SEK', 'pipLocation': -4, 'marginRate': '0.03'}\n",
      "{'name': 'USD_SGD', 'type': 'CURRENCY', 'displayName': 'USD/SGD', 'pipLocation': -4, 'marginRate': '0.05'}\n",
      "{'name': 'TRY_JPY', 'type': 'CURRENCY', 'displayName': 'TRY/JPY', 'pipLocation': -2, 'marginRate': '0.25'}\n",
      "{'name': 'EUR_AUD', 'type': 'CURRENCY', 'displayName': 'EUR/AUD', 'pipLocation': -4, 'marginRate': '0.03'}\n",
      "{'name': 'CHF_HKD', 'type': 'CURRENCY', 'displayName': 'CHF/HKD', 'pipLocation': -4, 'marginRate': '0.1'}\n",
      "{'name': 'EUR_SGD', 'type': 'CURRENCY', 'displayName': 'EUR/SGD', 'pipLocation': -4, 'marginRate': '0.05'}\n",
      "{'name': 'NZD_CAD', 'type': 'CURRENCY', 'displayName': 'NZD/CAD', 'pipLocation': -4, 'marginRate': '0.03'}\n",
      "{'name': 'CAD_JPY', 'type': 'CURRENCY', 'displayName': 'CAD/JPY', 'pipLocation': -2, 'marginRate': '0.02'}\n",
      "{'name': 'USD_CZK', 'type': 'CURRENCY', 'displayName': 'USD/CZK', 'pipLocation': -4, 'marginRate': '0.05'}\n",
      "{'name': 'USD_ZAR', 'type': 'CURRENCY', 'displayName': 'USD/ZAR', 'pipLocation': -4, 'marginRate': '0.07'}\n",
      "{'name': 'USD_DKK', 'type': 'CURRENCY', 'displayName': 'USD/DKK', 'pipLocation': -4, 'marginRate': '0.02'}\n",
      "{'name': 'EUR_CHF', 'type': 'CURRENCY', 'displayName': 'EUR/CHF', 'pipLocation': -4, 'marginRate': '0.04'}\n",
      "{'name': 'AUD_JPY', 'type': 'CURRENCY', 'displayName': 'AUD/JPY', 'pipLocation': -2, 'marginRate': '0.02'}\n",
      "{'name': 'USD_HUF', 'type': 'CURRENCY', 'displayName': 'USD/HUF', 'pipLocation': -2, 'marginRate': '0.05'}\n",
      "{'name': 'EUR_CAD', 'type': 'CURRENCY', 'displayName': 'EUR/CAD', 'pipLocation': -4, 'marginRate': '0.02'}\n",
      "{'name': 'EUR_ZAR', 'type': 'CURRENCY', 'displayName': 'EUR/ZAR', 'pipLocation': -4, 'marginRate': '0.07'}\n",
      "{'name': 'EUR_USD', 'type': 'CURRENCY', 'displayName': 'EUR/USD', 'pipLocation': -4, 'marginRate': '0.02'}\n",
      "{'name': 'GBP_USD', 'type': 'CURRENCY', 'displayName': 'GBP/USD', 'pipLocation': -4, 'marginRate': '0.03'}\n",
      "{'name': 'USD_MXN', 'type': 'CURRENCY', 'displayName': 'USD/MXN', 'pipLocation': -4, 'marginRate': '0.10'}\n",
      "{'name': 'NZD_HKD', 'type': 'CURRENCY', 'displayName': 'NZD/HKD', 'pipLocation': -4, 'marginRate': '0.1'}\n",
      "{'name': 'USD_HKD', 'type': 'CURRENCY', 'displayName': 'USD/HKD', 'pipLocation': -4, 'marginRate': '0.1'}\n",
      "{'name': 'CAD_SGD', 'type': 'CURRENCY', 'displayName': 'CAD/SGD', 'pipLocation': -4, 'marginRate': '0.05'}\n",
      "{'name': 'AUD_CAD', 'type': 'CURRENCY', 'displayName': 'AUD/CAD', 'pipLocation': -4, 'marginRate': '0.03'}\n",
      "{'name': 'EUR_PLN', 'type': 'CURRENCY', 'displayName': 'EUR/PLN', 'pipLocation': -4, 'marginRate': '0.05'}\n",
      "{'name': 'GBP_PLN', 'type': 'CURRENCY', 'displayName': 'GBP/PLN', 'pipLocation': -4, 'marginRate': '0.03'}\n",
      "{'name': 'EUR_NOK', 'type': 'CURRENCY', 'displayName': 'EUR/NOK', 'pipLocation': -4, 'marginRate': '0.07'}\n",
      "{'name': 'CAD_HKD', 'type': 'CURRENCY', 'displayName': 'CAD/HKD', 'pipLocation': -4, 'marginRate': '0.1'}\n",
      "{'name': 'EUR_GBP', 'type': 'CURRENCY', 'displayName': 'EUR/GBP', 'pipLocation': -4, 'marginRate': '0.03'}\n",
      "{'name': 'CAD_CHF', 'type': 'CURRENCY', 'displayName': 'CAD/CHF', 'pipLocation': -4, 'marginRate': '0.04'}\n",
      "{'name': 'USD_SEK', 'type': 'CURRENCY', 'displayName': 'USD/SEK', 'pipLocation': -4, 'marginRate': '0.03'}\n",
      "{'name': 'GBP_SGD', 'type': 'CURRENCY', 'displayName': 'GBP/SGD', 'pipLocation': -4, 'marginRate': '0.03'}\n",
      "{'name': 'EUR_DKK', 'type': 'CURRENCY', 'displayName': 'EUR/DKK', 'pipLocation': -4, 'marginRate': '0.1'}\n",
      "{'name': 'AUD_NZD', 'type': 'CURRENCY', 'displayName': 'AUD/NZD', 'pipLocation': -4, 'marginRate': '0.03'}\n",
      "{'name': 'EUR_CZK', 'type': 'CURRENCY', 'displayName': 'EUR/CZK', 'pipLocation': -4, 'marginRate': '0.05'}\n"
     ]
    }
   ],
   "source": [
    "for item in instrument_data:\n",
    "    print(item)"
   ]
  },
  {
   "cell_type": "code",
   "execution_count": 22,
   "metadata": {},
   "outputs": [],
   "source": [
    "import pandas as pd"
   ]
  },
  {
   "cell_type": "code",
   "execution_count": 23,
   "metadata": {},
   "outputs": [],
   "source": [
    "instrument_df = pd.DataFrame.from_dict(instrument_data)"
   ]
  },
  {
   "cell_type": "code",
   "execution_count": 24,
   "metadata": {},
   "outputs": [
    {
     "data": {
      "text/html": [
       "<div>\n",
       "<style scoped>\n",
       "    .dataframe tbody tr th:only-of-type {\n",
       "        vertical-align: middle;\n",
       "    }\n",
       "\n",
       "    .dataframe tbody tr th {\n",
       "        vertical-align: top;\n",
       "    }\n",
       "\n",
       "    .dataframe thead th {\n",
       "        text-align: right;\n",
       "    }\n",
       "</style>\n",
       "<table border=\"1\" class=\"dataframe\">\n",
       "  <thead>\n",
       "    <tr style=\"text-align: right;\">\n",
       "      <th></th>\n",
       "      <th>name</th>\n",
       "      <th>type</th>\n",
       "      <th>displayName</th>\n",
       "      <th>pipLocation</th>\n",
       "      <th>marginRate</th>\n",
       "    </tr>\n",
       "  </thead>\n",
       "  <tbody>\n",
       "    <tr>\n",
       "      <th>0</th>\n",
       "      <td>AUD_USD</td>\n",
       "      <td>CURRENCY</td>\n",
       "      <td>AUD/USD</td>\n",
       "      <td>-4</td>\n",
       "      <td>0.03</td>\n",
       "    </tr>\n",
       "    <tr>\n",
       "      <th>1</th>\n",
       "      <td>GBP_NZD</td>\n",
       "      <td>CURRENCY</td>\n",
       "      <td>GBP/NZD</td>\n",
       "      <td>-4</td>\n",
       "      <td>0.03</td>\n",
       "    </tr>\n",
       "    <tr>\n",
       "      <th>2</th>\n",
       "      <td>CHF_ZAR</td>\n",
       "      <td>CURRENCY</td>\n",
       "      <td>CHF/ZAR</td>\n",
       "      <td>-4</td>\n",
       "      <td>0.07</td>\n",
       "    </tr>\n",
       "    <tr>\n",
       "      <th>3</th>\n",
       "      <td>USD_CNH</td>\n",
       "      <td>CURRENCY</td>\n",
       "      <td>USD/CNH</td>\n",
       "      <td>-4</td>\n",
       "      <td>0.05</td>\n",
       "    </tr>\n",
       "    <tr>\n",
       "      <th>4</th>\n",
       "      <td>NZD_USD</td>\n",
       "      <td>CURRENCY</td>\n",
       "      <td>NZD/USD</td>\n",
       "      <td>-4</td>\n",
       "      <td>0.03</td>\n",
       "    </tr>\n",
       "    <tr>\n",
       "      <th>...</th>\n",
       "      <td>...</td>\n",
       "      <td>...</td>\n",
       "      <td>...</td>\n",
       "      <td>...</td>\n",
       "      <td>...</td>\n",
       "    </tr>\n",
       "    <tr>\n",
       "      <th>63</th>\n",
       "      <td>USD_SEK</td>\n",
       "      <td>CURRENCY</td>\n",
       "      <td>USD/SEK</td>\n",
       "      <td>-4</td>\n",
       "      <td>0.03</td>\n",
       "    </tr>\n",
       "    <tr>\n",
       "      <th>64</th>\n",
       "      <td>GBP_SGD</td>\n",
       "      <td>CURRENCY</td>\n",
       "      <td>GBP/SGD</td>\n",
       "      <td>-4</td>\n",
       "      <td>0.03</td>\n",
       "    </tr>\n",
       "    <tr>\n",
       "      <th>65</th>\n",
       "      <td>EUR_DKK</td>\n",
       "      <td>CURRENCY</td>\n",
       "      <td>EUR/DKK</td>\n",
       "      <td>-4</td>\n",
       "      <td>0.1</td>\n",
       "    </tr>\n",
       "    <tr>\n",
       "      <th>66</th>\n",
       "      <td>AUD_NZD</td>\n",
       "      <td>CURRENCY</td>\n",
       "      <td>AUD/NZD</td>\n",
       "      <td>-4</td>\n",
       "      <td>0.03</td>\n",
       "    </tr>\n",
       "    <tr>\n",
       "      <th>67</th>\n",
       "      <td>EUR_CZK</td>\n",
       "      <td>CURRENCY</td>\n",
       "      <td>EUR/CZK</td>\n",
       "      <td>-4</td>\n",
       "      <td>0.05</td>\n",
       "    </tr>\n",
       "  </tbody>\n",
       "</table>\n",
       "<p>68 rows × 5 columns</p>\n",
       "</div>"
      ],
      "text/plain": [
       "       name      type displayName  pipLocation marginRate\n",
       "0   AUD_USD  CURRENCY     AUD/USD           -4       0.03\n",
       "1   GBP_NZD  CURRENCY     GBP/NZD           -4       0.03\n",
       "2   CHF_ZAR  CURRENCY     CHF/ZAR           -4       0.07\n",
       "3   USD_CNH  CURRENCY     USD/CNH           -4       0.05\n",
       "4   NZD_USD  CURRENCY     NZD/USD           -4       0.03\n",
       "..      ...       ...         ...          ...        ...\n",
       "63  USD_SEK  CURRENCY     USD/SEK           -4       0.03\n",
       "64  GBP_SGD  CURRENCY     GBP/SGD           -4       0.03\n",
       "65  EUR_DKK  CURRENCY     EUR/DKK           -4        0.1\n",
       "66  AUD_NZD  CURRENCY     AUD/NZD           -4       0.03\n",
       "67  EUR_CZK  CURRENCY     EUR/CZK           -4       0.05\n",
       "\n",
       "[68 rows x 5 columns]"
      ]
     },
     "execution_count": 24,
     "metadata": {},
     "output_type": "execute_result"
    }
   ],
   "source": [
    "instrument_df"
   ]
  },
  {
   "cell_type": "code",
   "execution_count": 25,
   "metadata": {},
   "outputs": [],
   "source": [
    "instrument_df.to_pickle('./data/instruments.pkl')"
   ]
  },
  {
   "cell_type": "code",
   "execution_count": 26,
   "metadata": {},
   "outputs": [
    {
     "data": {
      "text/html": [
       "<div>\n",
       "<style scoped>\n",
       "    .dataframe tbody tr th:only-of-type {\n",
       "        vertical-align: middle;\n",
       "    }\n",
       "\n",
       "    .dataframe tbody tr th {\n",
       "        vertical-align: top;\n",
       "    }\n",
       "\n",
       "    .dataframe thead th {\n",
       "        text-align: right;\n",
       "    }\n",
       "</style>\n",
       "<table border=\"1\" class=\"dataframe\">\n",
       "  <thead>\n",
       "    <tr style=\"text-align: right;\">\n",
       "      <th></th>\n",
       "      <th>name</th>\n",
       "      <th>type</th>\n",
       "      <th>displayName</th>\n",
       "      <th>pipLocation</th>\n",
       "      <th>marginRate</th>\n",
       "    </tr>\n",
       "  </thead>\n",
       "  <tbody>\n",
       "    <tr>\n",
       "      <th>0</th>\n",
       "      <td>AUD_USD</td>\n",
       "      <td>CURRENCY</td>\n",
       "      <td>AUD/USD</td>\n",
       "      <td>-4</td>\n",
       "      <td>0.03</td>\n",
       "    </tr>\n",
       "    <tr>\n",
       "      <th>1</th>\n",
       "      <td>GBP_NZD</td>\n",
       "      <td>CURRENCY</td>\n",
       "      <td>GBP/NZD</td>\n",
       "      <td>-4</td>\n",
       "      <td>0.03</td>\n",
       "    </tr>\n",
       "    <tr>\n",
       "      <th>2</th>\n",
       "      <td>CHF_ZAR</td>\n",
       "      <td>CURRENCY</td>\n",
       "      <td>CHF/ZAR</td>\n",
       "      <td>-4</td>\n",
       "      <td>0.07</td>\n",
       "    </tr>\n",
       "    <tr>\n",
       "      <th>3</th>\n",
       "      <td>USD_CNH</td>\n",
       "      <td>CURRENCY</td>\n",
       "      <td>USD/CNH</td>\n",
       "      <td>-4</td>\n",
       "      <td>0.05</td>\n",
       "    </tr>\n",
       "    <tr>\n",
       "      <th>4</th>\n",
       "      <td>NZD_USD</td>\n",
       "      <td>CURRENCY</td>\n",
       "      <td>NZD/USD</td>\n",
       "      <td>-4</td>\n",
       "      <td>0.03</td>\n",
       "    </tr>\n",
       "    <tr>\n",
       "      <th>...</th>\n",
       "      <td>...</td>\n",
       "      <td>...</td>\n",
       "      <td>...</td>\n",
       "      <td>...</td>\n",
       "      <td>...</td>\n",
       "    </tr>\n",
       "    <tr>\n",
       "      <th>63</th>\n",
       "      <td>USD_SEK</td>\n",
       "      <td>CURRENCY</td>\n",
       "      <td>USD/SEK</td>\n",
       "      <td>-4</td>\n",
       "      <td>0.03</td>\n",
       "    </tr>\n",
       "    <tr>\n",
       "      <th>64</th>\n",
       "      <td>GBP_SGD</td>\n",
       "      <td>CURRENCY</td>\n",
       "      <td>GBP/SGD</td>\n",
       "      <td>-4</td>\n",
       "      <td>0.03</td>\n",
       "    </tr>\n",
       "    <tr>\n",
       "      <th>65</th>\n",
       "      <td>EUR_DKK</td>\n",
       "      <td>CURRENCY</td>\n",
       "      <td>EUR/DKK</td>\n",
       "      <td>-4</td>\n",
       "      <td>0.1</td>\n",
       "    </tr>\n",
       "    <tr>\n",
       "      <th>66</th>\n",
       "      <td>AUD_NZD</td>\n",
       "      <td>CURRENCY</td>\n",
       "      <td>AUD/NZD</td>\n",
       "      <td>-4</td>\n",
       "      <td>0.03</td>\n",
       "    </tr>\n",
       "    <tr>\n",
       "      <th>67</th>\n",
       "      <td>EUR_CZK</td>\n",
       "      <td>CURRENCY</td>\n",
       "      <td>EUR/CZK</td>\n",
       "      <td>-4</td>\n",
       "      <td>0.05</td>\n",
       "    </tr>\n",
       "  </tbody>\n",
       "</table>\n",
       "<p>68 rows × 5 columns</p>\n",
       "</div>"
      ],
      "text/plain": [
       "       name      type displayName  pipLocation marginRate\n",
       "0   AUD_USD  CURRENCY     AUD/USD           -4       0.03\n",
       "1   GBP_NZD  CURRENCY     GBP/NZD           -4       0.03\n",
       "2   CHF_ZAR  CURRENCY     CHF/ZAR           -4       0.07\n",
       "3   USD_CNH  CURRENCY     USD/CNH           -4       0.05\n",
       "4   NZD_USD  CURRENCY     NZD/USD           -4       0.03\n",
       "..      ...       ...         ...          ...        ...\n",
       "63  USD_SEK  CURRENCY     USD/SEK           -4       0.03\n",
       "64  GBP_SGD  CURRENCY     GBP/SGD           -4       0.03\n",
       "65  EUR_DKK  CURRENCY     EUR/DKK           -4        0.1\n",
       "66  AUD_NZD  CURRENCY     AUD/NZD           -4       0.03\n",
       "67  EUR_CZK  CURRENCY     EUR/CZK           -4       0.05\n",
       "\n",
       "[68 rows x 5 columns]"
      ]
     },
     "execution_count": 26,
     "metadata": {},
     "output_type": "execute_result"
    }
   ],
   "source": [
    "new_table = pd.read_pickle('./data/instruments.pkl')\n",
    "new_table"
   ]
  },
  {
   "cell_type": "code",
   "execution_count": null,
   "metadata": {},
   "outputs": [],
   "source": []
  }
 ],
 "metadata": {
  "kernelspec": {
   "display_name": "Python 3.9.13 ('gpu-data')",
   "language": "python",
   "name": "python3"
  },
  "language_info": {
   "codemirror_mode": {
    "name": "ipython",
    "version": 3
   },
   "file_extension": ".py",
   "mimetype": "text/x-python",
   "name": "python",
   "nbconvert_exporter": "python",
   "pygments_lexer": "ipython3",
   "version": "3.9.13"
  },
  "orig_nbformat": 4,
  "vscode": {
   "interpreter": {
    "hash": "5fc091cde34f289e745144a98398f23c71d812632c19536d781b1e8e4634b4dc"
   }
  }
 },
 "nbformat": 4,
 "nbformat_minor": 2
}
