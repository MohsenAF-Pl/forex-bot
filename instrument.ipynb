{
 "cells": [
  {
   "cell_type": "code",
   "execution_count": 1,
   "metadata": {},
   "outputs": [],
   "source": [
    "import requests\n",
    "import credentials"
   ]
  },
  {
   "cell_type": "code",
   "execution_count": 2,
   "metadata": {},
   "outputs": [],
   "source": [
    "session = requests.Session()"
   ]
  },
  {
   "cell_type": "code",
   "execution_count": 3,
   "metadata": {},
   "outputs": [],
   "source": [
    "instrument = \"EUR_USD\"\n",
    "count = 10\n",
    "granularity = \"H1\""
   ]
  },
  {
   "cell_type": "code",
   "execution_count": 8,
   "metadata": {},
   "outputs": [],
   "source": [
    "url = f\"{credentials.OANDA_URL}/accounts/{credentials.ACCOUNT_ID}/instruments\""
   ]
  },
  {
   "cell_type": "code",
   "execution_count": 9,
   "metadata": {},
   "outputs": [
    {
     "data": {
      "text/plain": [
       "'https://api-fxpractice.oanda.com/v3/accounts/101-001-22518407-001/instruments'"
      ]
     },
     "execution_count": 9,
     "metadata": {},
     "output_type": "execute_result"
    }
   ],
   "source": [
    "url"
   ]
  },
  {
   "cell_type": "code",
   "execution_count": 10,
   "metadata": {},
   "outputs": [],
   "source": [
    "response = session.get(url, params=None, headers=credentials.SECURE_HEADER)"
   ]
  },
  {
   "cell_type": "code",
   "execution_count": 11,
   "metadata": {},
   "outputs": [
    {
     "data": {
      "text/plain": [
       "200"
      ]
     },
     "execution_count": 11,
     "metadata": {},
     "output_type": "execute_result"
    }
   ],
   "source": [
    "response.status_code"
   ]
  },
  {
   "cell_type": "code",
   "execution_count": 14,
   "metadata": {},
   "outputs": [],
   "source": [
    "data = response.json()"
   ]
  },
  {
   "cell_type": "code",
   "execution_count": 15,
   "metadata": {},
   "outputs": [
    {
     "data": {
      "text/plain": [
       "dict_keys(['instruments', 'lastTransactionID'])"
      ]
     },
     "execution_count": 15,
     "metadata": {},
     "output_type": "execute_result"
    }
   ],
   "source": [
    "data.keys()"
   ]
  },
  {
   "cell_type": "code",
   "execution_count": 16,
   "metadata": {},
   "outputs": [],
   "source": [
    "instruments = data['instruments']"
   ]
  },
  {
   "cell_type": "code",
   "execution_count": 19,
   "metadata": {},
   "outputs": [
    {
     "data": {
      "text/plain": [
       "68"
      ]
     },
     "execution_count": 19,
     "metadata": {},
     "output_type": "execute_result"
    }
   ],
   "source": [
    "len(instruments)"
   ]
  },
  {
   "cell_type": "code",
   "execution_count": 20,
   "metadata": {},
   "outputs": [
    {
     "data": {
      "text/plain": [
       "dict_keys(['name', 'type', 'displayName', 'pipLocation', 'displayPrecision', 'tradeUnitsPrecision', 'minimumTradeSize', 'maximumTrailingStopDistance', 'minimumTrailingStopDistance', 'maximumPositionSize', 'maximumOrderUnits', 'marginRate', 'guaranteedStopLossOrderMode', 'tags', 'financing'])"
      ]
     },
     "execution_count": 20,
     "metadata": {},
     "output_type": "execute_result"
    }
   ],
   "source": [
    "instruments[0].keys()"
   ]
  },
  {
   "cell_type": "code",
   "execution_count": 22,
   "metadata": {},
   "outputs": [],
   "source": [
    "instrument_data = []\n",
    "for item in instruments:\n",
    "    new_ob = dict(\n",
    "        name = item['name'],\n",
    "        type = item['type'],\n",
    "        displayName = item['displayName'],\n",
    "        pipLocation = item['pipLocation'],\n",
    "        marginRate = item['marginRate']\n",
    "    )\n",
    "    instrument_data.append(new_ob)"
   ]
  },
  {
   "cell_type": "code",
   "execution_count": 25,
   "metadata": {},
   "outputs": [
    {
     "name": "stdout",
     "output_type": "stream",
     "text": [
      "{'name': 'EUR_DKK', 'type': 'CURRENCY', 'displayName': 'EUR/DKK', 'pipLocation': -4, 'marginRate': '0.1'}\n",
      "{'name': 'USD_MXN', 'type': 'CURRENCY', 'displayName': 'USD/MXN', 'pipLocation': -4, 'marginRate': '0.10'}\n",
      "{'name': 'GBP_USD', 'type': 'CURRENCY', 'displayName': 'GBP/USD', 'pipLocation': -4, 'marginRate': '0.03'}\n"
     ]
    }
   ],
   "source": [
    "for item in instrument_data[:3]:\n",
    "    print(item)"
   ]
  },
  {
   "cell_type": "code",
   "execution_count": 26,
   "metadata": {},
   "outputs": [],
   "source": [
    "import pandas as pd"
   ]
  },
  {
   "cell_type": "code",
   "execution_count": 27,
   "metadata": {},
   "outputs": [
    {
     "data": {
      "text/html": [
       "<div>\n",
       "<style scoped>\n",
       "    .dataframe tbody tr th:only-of-type {\n",
       "        vertical-align: middle;\n",
       "    }\n",
       "\n",
       "    .dataframe tbody tr th {\n",
       "        vertical-align: top;\n",
       "    }\n",
       "\n",
       "    .dataframe thead th {\n",
       "        text-align: right;\n",
       "    }\n",
       "</style>\n",
       "<table border=\"1\" class=\"dataframe\">\n",
       "  <thead>\n",
       "    <tr style=\"text-align: right;\">\n",
       "      <th></th>\n",
       "      <th>name</th>\n",
       "      <th>type</th>\n",
       "      <th>displayName</th>\n",
       "      <th>pipLocation</th>\n",
       "      <th>marginRate</th>\n",
       "    </tr>\n",
       "  </thead>\n",
       "  <tbody>\n",
       "    <tr>\n",
       "      <th>0</th>\n",
       "      <td>EUR_DKK</td>\n",
       "      <td>CURRENCY</td>\n",
       "      <td>EUR/DKK</td>\n",
       "      <td>-4</td>\n",
       "      <td>0.1</td>\n",
       "    </tr>\n",
       "    <tr>\n",
       "      <th>1</th>\n",
       "      <td>USD_MXN</td>\n",
       "      <td>CURRENCY</td>\n",
       "      <td>USD/MXN</td>\n",
       "      <td>-4</td>\n",
       "      <td>0.10</td>\n",
       "    </tr>\n",
       "    <tr>\n",
       "      <th>2</th>\n",
       "      <td>GBP_USD</td>\n",
       "      <td>CURRENCY</td>\n",
       "      <td>GBP/USD</td>\n",
       "      <td>-4</td>\n",
       "      <td>0.03</td>\n",
       "    </tr>\n",
       "    <tr>\n",
       "      <th>3</th>\n",
       "      <td>CAD_CHF</td>\n",
       "      <td>CURRENCY</td>\n",
       "      <td>CAD/CHF</td>\n",
       "      <td>-4</td>\n",
       "      <td>0.04</td>\n",
       "    </tr>\n",
       "    <tr>\n",
       "      <th>4</th>\n",
       "      <td>EUR_GBP</td>\n",
       "      <td>CURRENCY</td>\n",
       "      <td>EUR/GBP</td>\n",
       "      <td>-4</td>\n",
       "      <td>0.03</td>\n",
       "    </tr>\n",
       "    <tr>\n",
       "      <th>...</th>\n",
       "      <td>...</td>\n",
       "      <td>...</td>\n",
       "      <td>...</td>\n",
       "      <td>...</td>\n",
       "      <td>...</td>\n",
       "    </tr>\n",
       "    <tr>\n",
       "      <th>63</th>\n",
       "      <td>EUR_SGD</td>\n",
       "      <td>CURRENCY</td>\n",
       "      <td>EUR/SGD</td>\n",
       "      <td>-4</td>\n",
       "      <td>0.05</td>\n",
       "    </tr>\n",
       "    <tr>\n",
       "      <th>64</th>\n",
       "      <td>AUD_USD</td>\n",
       "      <td>CURRENCY</td>\n",
       "      <td>AUD/USD</td>\n",
       "      <td>-4</td>\n",
       "      <td>0.03</td>\n",
       "    </tr>\n",
       "    <tr>\n",
       "      <th>65</th>\n",
       "      <td>EUR_USD</td>\n",
       "      <td>CURRENCY</td>\n",
       "      <td>EUR/USD</td>\n",
       "      <td>-4</td>\n",
       "      <td>0.02</td>\n",
       "    </tr>\n",
       "    <tr>\n",
       "      <th>66</th>\n",
       "      <td>GBP_AUD</td>\n",
       "      <td>CURRENCY</td>\n",
       "      <td>GBP/AUD</td>\n",
       "      <td>-4</td>\n",
       "      <td>0.03</td>\n",
       "    </tr>\n",
       "    <tr>\n",
       "      <th>67</th>\n",
       "      <td>USD_PLN</td>\n",
       "      <td>CURRENCY</td>\n",
       "      <td>USD/PLN</td>\n",
       "      <td>-4</td>\n",
       "      <td>0.05</td>\n",
       "    </tr>\n",
       "  </tbody>\n",
       "</table>\n",
       "<p>68 rows × 5 columns</p>\n",
       "</div>"
      ],
      "text/plain": [
       "       name      type displayName  pipLocation marginRate\n",
       "0   EUR_DKK  CURRENCY     EUR/DKK           -4        0.1\n",
       "1   USD_MXN  CURRENCY     USD/MXN           -4       0.10\n",
       "2   GBP_USD  CURRENCY     GBP/USD           -4       0.03\n",
       "3   CAD_CHF  CURRENCY     CAD/CHF           -4       0.04\n",
       "4   EUR_GBP  CURRENCY     EUR/GBP           -4       0.03\n",
       "..      ...       ...         ...          ...        ...\n",
       "63  EUR_SGD  CURRENCY     EUR/SGD           -4       0.05\n",
       "64  AUD_USD  CURRENCY     AUD/USD           -4       0.03\n",
       "65  EUR_USD  CURRENCY     EUR/USD           -4       0.02\n",
       "66  GBP_AUD  CURRENCY     GBP/AUD           -4       0.03\n",
       "67  USD_PLN  CURRENCY     USD/PLN           -4       0.05\n",
       "\n",
       "[68 rows x 5 columns]"
      ]
     },
     "execution_count": 27,
     "metadata": {},
     "output_type": "execute_result"
    }
   ],
   "source": [
    "instrument_df = pd.DataFrame.from_dict(instrument_data)\n",
    "instrument_df"
   ]
  },
  {
   "cell_type": "code",
   "execution_count": 28,
   "metadata": {},
   "outputs": [],
   "source": [
    "instrument_df.to_pickle('instruments.pkl')"
   ]
  },
  {
   "cell_type": "code",
   "execution_count": 29,
   "metadata": {},
   "outputs": [
    {
     "data": {
      "text/html": [
       "<div>\n",
       "<style scoped>\n",
       "    .dataframe tbody tr th:only-of-type {\n",
       "        vertical-align: middle;\n",
       "    }\n",
       "\n",
       "    .dataframe tbody tr th {\n",
       "        vertical-align: top;\n",
       "    }\n",
       "\n",
       "    .dataframe thead th {\n",
       "        text-align: right;\n",
       "    }\n",
       "</style>\n",
       "<table border=\"1\" class=\"dataframe\">\n",
       "  <thead>\n",
       "    <tr style=\"text-align: right;\">\n",
       "      <th></th>\n",
       "      <th>name</th>\n",
       "      <th>type</th>\n",
       "      <th>displayName</th>\n",
       "      <th>pipLocation</th>\n",
       "      <th>marginRate</th>\n",
       "    </tr>\n",
       "  </thead>\n",
       "  <tbody>\n",
       "    <tr>\n",
       "      <th>0</th>\n",
       "      <td>EUR_DKK</td>\n",
       "      <td>CURRENCY</td>\n",
       "      <td>EUR/DKK</td>\n",
       "      <td>-4</td>\n",
       "      <td>0.1</td>\n",
       "    </tr>\n",
       "    <tr>\n",
       "      <th>1</th>\n",
       "      <td>USD_MXN</td>\n",
       "      <td>CURRENCY</td>\n",
       "      <td>USD/MXN</td>\n",
       "      <td>-4</td>\n",
       "      <td>0.10</td>\n",
       "    </tr>\n",
       "    <tr>\n",
       "      <th>2</th>\n",
       "      <td>GBP_USD</td>\n",
       "      <td>CURRENCY</td>\n",
       "      <td>GBP/USD</td>\n",
       "      <td>-4</td>\n",
       "      <td>0.03</td>\n",
       "    </tr>\n",
       "    <tr>\n",
       "      <th>3</th>\n",
       "      <td>CAD_CHF</td>\n",
       "      <td>CURRENCY</td>\n",
       "      <td>CAD/CHF</td>\n",
       "      <td>-4</td>\n",
       "      <td>0.04</td>\n",
       "    </tr>\n",
       "    <tr>\n",
       "      <th>4</th>\n",
       "      <td>EUR_GBP</td>\n",
       "      <td>CURRENCY</td>\n",
       "      <td>EUR/GBP</td>\n",
       "      <td>-4</td>\n",
       "      <td>0.03</td>\n",
       "    </tr>\n",
       "    <tr>\n",
       "      <th>...</th>\n",
       "      <td>...</td>\n",
       "      <td>...</td>\n",
       "      <td>...</td>\n",
       "      <td>...</td>\n",
       "      <td>...</td>\n",
       "    </tr>\n",
       "    <tr>\n",
       "      <th>63</th>\n",
       "      <td>EUR_SGD</td>\n",
       "      <td>CURRENCY</td>\n",
       "      <td>EUR/SGD</td>\n",
       "      <td>-4</td>\n",
       "      <td>0.05</td>\n",
       "    </tr>\n",
       "    <tr>\n",
       "      <th>64</th>\n",
       "      <td>AUD_USD</td>\n",
       "      <td>CURRENCY</td>\n",
       "      <td>AUD/USD</td>\n",
       "      <td>-4</td>\n",
       "      <td>0.03</td>\n",
       "    </tr>\n",
       "    <tr>\n",
       "      <th>65</th>\n",
       "      <td>EUR_USD</td>\n",
       "      <td>CURRENCY</td>\n",
       "      <td>EUR/USD</td>\n",
       "      <td>-4</td>\n",
       "      <td>0.02</td>\n",
       "    </tr>\n",
       "    <tr>\n",
       "      <th>66</th>\n",
       "      <td>GBP_AUD</td>\n",
       "      <td>CURRENCY</td>\n",
       "      <td>GBP/AUD</td>\n",
       "      <td>-4</td>\n",
       "      <td>0.03</td>\n",
       "    </tr>\n",
       "    <tr>\n",
       "      <th>67</th>\n",
       "      <td>USD_PLN</td>\n",
       "      <td>CURRENCY</td>\n",
       "      <td>USD/PLN</td>\n",
       "      <td>-4</td>\n",
       "      <td>0.05</td>\n",
       "    </tr>\n",
       "  </tbody>\n",
       "</table>\n",
       "<p>68 rows × 5 columns</p>\n",
       "</div>"
      ],
      "text/plain": [
       "       name      type displayName  pipLocation marginRate\n",
       "0   EUR_DKK  CURRENCY     EUR/DKK           -4        0.1\n",
       "1   USD_MXN  CURRENCY     USD/MXN           -4       0.10\n",
       "2   GBP_USD  CURRENCY     GBP/USD           -4       0.03\n",
       "3   CAD_CHF  CURRENCY     CAD/CHF           -4       0.04\n",
       "4   EUR_GBP  CURRENCY     EUR/GBP           -4       0.03\n",
       "..      ...       ...         ...          ...        ...\n",
       "63  EUR_SGD  CURRENCY     EUR/SGD           -4       0.05\n",
       "64  AUD_USD  CURRENCY     AUD/USD           -4       0.03\n",
       "65  EUR_USD  CURRENCY     EUR/USD           -4       0.02\n",
       "66  GBP_AUD  CURRENCY     GBP/AUD           -4       0.03\n",
       "67  USD_PLN  CURRENCY     USD/PLN           -4       0.05\n",
       "\n",
       "[68 rows x 5 columns]"
      ]
     },
     "execution_count": 29,
     "metadata": {},
     "output_type": "execute_result"
    }
   ],
   "source": [
    "df = pd.read_pickle('instruments.pkl')\n",
    "df"
   ]
  },
  {
   "cell_type": "code",
   "execution_count": null,
   "metadata": {},
   "outputs": [],
   "source": []
  }
 ],
 "metadata": {
  "kernelspec": {
   "display_name": "Python 3.9.7 ('forexBot': venv)",
   "language": "python",
   "name": "python3"
  },
  "language_info": {
   "codemirror_mode": {
    "name": "ipython",
    "version": 3
   },
   "file_extension": ".py",
   "mimetype": "text/x-python",
   "name": "python",
   "nbconvert_exporter": "python",
   "pygments_lexer": "ipython3",
   "version": "3.9.7"
  },
  "orig_nbformat": 4,
  "vscode": {
   "interpreter": {
    "hash": "cdeac6fb90bbdbe6069ef31f239a3e91804bc0eee30d2e3acd8e7f54039a8769"
   }
  }
 },
 "nbformat": 4,
 "nbformat_minor": 2
}
