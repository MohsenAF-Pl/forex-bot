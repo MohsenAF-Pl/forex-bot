{
 "cells": [
  {
   "cell_type": "markdown",
   "metadata": {},
   "source": [
    "we'll take the data from api according to the instruments we've gotten before\n",
    "convert them into dataframe and save them for furthure use"
   ]
  },
  {
   "cell_type": "code",
   "execution_count": 1,
   "metadata": {},
   "outputs": [],
   "source": [
    "import requests\n",
    "import authentication\n",
    "import pandas as pd"
   ]
  },
  {
   "cell_type": "code",
   "execution_count": 2,
   "metadata": {},
   "outputs": [],
   "source": [
    "session = requests.Session()"
   ]
  },
  {
   "cell_type": "code",
   "execution_count": 3,
   "metadata": {},
   "outputs": [],
   "source": [
    "ins_df = pd.read_pickle('./data/instruments.pkl')"
   ]
  },
  {
   "cell_type": "code",
   "execution_count": 4,
   "metadata": {},
   "outputs": [],
   "source": [
    "our_currencies = ['EUR', 'USD', 'GBP', 'JPY', 'CHF', 'NZD', 'CAD']"
   ]
  },
  {
   "cell_type": "code",
   "execution_count": 8,
   "metadata": {},
   "outputs": [
    {
     "name": "stdout",
     "output_type": "stream",
     "text": [
      "['AUD_HKD' 'USD_SGD' 'EUR_SEK' 'NZD_CHF' 'AUD_CHF' 'HKD_JPY' 'CAD_JPY'\n",
      " 'GBP_CHF' 'USD_THB' 'EUR_HKD' 'CHF_JPY' 'GBP_HKD' 'EUR_NZD' 'SGD_CHF'\n",
      " 'AUD_SGD' 'EUR_JPY' 'USD_CHF' 'USD_TRY' 'GBP_JPY' 'EUR_CZK' 'EUR_TRY'\n",
      " 'USD_JPY' 'SGD_JPY' 'GBP_ZAR' 'ZAR_JPY' 'TRY_JPY' 'AUD_USD' 'USD_CAD'\n",
      " 'USD_PLN' 'GBP_AUD' 'AUD_JPY' 'EUR_ZAR' 'EUR_USD' 'EUR_CAD' 'USD_HUF'\n",
      " 'EUR_CHF' 'NZD_CAD' 'EUR_SGD' 'NZD_JPY' 'CHF_HKD' 'USD_DKK' 'EUR_AUD'\n",
      " 'USD_ZAR' 'USD_CZK' 'GBP_SGD' 'USD_SEK' 'USD_MXN' 'GBP_USD' 'EUR_DKK'\n",
      " 'CAD_CHF' 'EUR_GBP' 'CAD_HKD' 'EUR_NOK' 'GBP_CAD' 'NZD_HKD' 'GBP_PLN'\n",
      " 'EUR_PLN' 'AUD_CAD' 'USD_HKD' 'CAD_SGD' 'GBP_NZD' 'CHF_ZAR' 'USD_CNH'\n",
      " 'NZD_USD' 'EUR_HUF' 'AUD_NZD' 'USD_NOK' 'NZD_SGD']\n",
      "68\n"
     ]
    }
   ],
   "source": [
    "a = (ins_df.name.unique())\n",
    "print(a)\n",
    "print(len(a))"
   ]
  },
  {
   "cell_type": "code",
   "execution_count": 13,
   "metadata": {},
   "outputs": [],
   "source": [
    "def fetch_candles(pair_name, count, granularity):\n",
    "    url = f\"{authentication.OANDA_URL}/instruments/{pair_name}/candles\"\n",
    "    params = dict(\n",
    "        count = count,\n",
    "        granularity = granularity,\n",
    "        price = \"MBA\"\n",
    "    )\n",
    "    response = session.get(url, params=params, headers=authentication.SECURE_HEADER)\n",
    "    return response.status_code, response.json()"
   ]
  },
  {
   "cell_type": "code",
   "execution_count": 18,
   "metadata": {},
   "outputs": [
    {
     "name": "stdout",
     "output_type": "stream",
     "text": [
      "200\n",
      "{'instrument': 'EUR_USD', 'granularity': 'H1', 'candles': [{'complete': True, 'volume': 12493, 'time': '2022-08-26T13:00:00.000000000Z', 'bid': {'o': '1.00318', 'h': '1.00745', 'l': '1.00288', 'c': '1.00618'}, 'mid': {'o': '1.00326', 'h': '1.00752', 'l': '1.00297', 'c': '1.00634'}, 'ask': {'o': '1.00334', 'h': '1.00760', 'l': '1.00305', 'c': '1.00650'}}, {'complete': True, 'volume': 20597, 'time': '2022-08-26T14:00:00.000000000Z', 'bid': {'o': '1.00617', 'h': '1.00893', 'l': '1.00139', 'c': '1.00139'}, 'mid': {'o': '1.00637', 'h': '1.00902', 'l': '1.00146', 'c': '1.00146'}, 'ask': {'o': '1.00657', 'h': '1.00911', 'l': '1.00154', 'c': '1.00154'}}, {'complete': True, 'volume': 9347, 'time': '2022-08-26T15:00:00.000000000Z', 'bid': {'o': '1.00140', 'h': '1.00204', 'l': '0.99835', 'c': '0.99964'}, 'mid': {'o': '1.00146', 'h': '1.00211', 'l': '0.99842', 'c': '0.99972'}, 'ask': {'o': '1.00153', 'h': '1.00218', 'l': '0.99850', 'c': '0.99980'}}, {'complete': True, 'volume': 5710, 'time': '2022-08-26T16:00:00.000000000Z', 'bid': {'o': '0.99972', 'h': '1.00022', 'l': '0.99746', 'c': '0.99791'}, 'mid': {'o': '0.99980', 'h': '1.00030', 'l': '0.99754', 'c': '0.99799'}, 'ask': {'o': '0.99989', 'h': '1.00038', 'l': '0.99762', 'c': '0.99807'}}, {'complete': True, 'volume': 3875, 'time': '2022-08-26T17:00:00.000000000Z', 'bid': {'o': '0.99792', 'h': '0.99824', 'l': '0.99580', 'c': '0.99691'}, 'mid': {'o': '0.99800', 'h': '0.99832', 'l': '0.99588', 'c': '0.99698'}, 'ask': {'o': '0.99807', 'h': '0.99840', 'l': '0.99595', 'c': '0.99705'}}, {'complete': True, 'volume': 3268, 'time': '2022-08-26T18:00:00.000000000Z', 'bid': {'o': '0.99689', 'h': '0.99728', 'l': '0.99580', 'c': '0.99637'}, 'mid': {'o': '0.99696', 'h': '0.99734', 'l': '0.99588', 'c': '0.99644'}, 'ask': {'o': '0.99704', 'h': '0.99742', 'l': '0.99596', 'c': '0.99650'}}, {'complete': True, 'volume': 3010, 'time': '2022-08-26T19:00:00.000000000Z', 'bid': {'o': '0.99632', 'h': '0.99667', 'l': '0.99557', 'c': '0.99650'}, 'mid': {'o': '0.99640', 'h': '0.99674', 'l': '0.99564', 'c': '0.99657'}, 'ask': {'o': '0.99648', 'h': '0.99680', 'l': '0.99572', 'c': '0.99664'}}, {'complete': True, 'volume': 1406, 'time': '2022-08-26T20:00:00.000000000Z', 'bid': {'o': '0.99648', 'h': '0.99685', 'l': '0.99580', 'c': '0.99603'}, 'mid': {'o': '0.99656', 'h': '0.99694', 'l': '0.99626', 'c': '0.99632'}, 'ask': {'o': '0.99663', 'h': '0.99702', 'l': '0.99639', 'c': '0.99660'}}, {'complete': True, 'volume': 3260, 'time': '2022-08-28T23:00:00.000000000Z', 'bid': {'o': '0.99449', 'h': '0.99463', 'l': '0.99341', 'c': '0.99350'}, 'mid': {'o': '0.99460', 'h': '0.99472', 'l': '0.99349', 'c': '0.99358'}, 'ask': {'o': '0.99470', 'h': '0.99482', 'l': '0.99357', 'c': '0.99367'}}, {'complete': True, 'volume': 4355, 'time': '2022-08-29T00:00:00.000000000Z', 'bid': {'o': '0.99352', 'h': '0.99446', 'l': '0.99278', 'c': '0.99294'}, 'mid': {'o': '0.99360', 'h': '0.99455', 'l': '0.99286', 'c': '0.99302'}, 'ask': {'o': '0.99367', 'h': '0.99464', 'l': '0.99295', 'c': '0.99311'}}, {'complete': True, 'volume': 3991, 'time': '2022-08-29T01:00:00.000000000Z', 'bid': {'o': '0.99297', 'h': '0.99370', 'l': '0.99174', 'c': '0.99295'}, 'mid': {'o': '0.99306', 'h': '0.99378', 'l': '0.99182', 'c': '0.99304'}, 'ask': {'o': '0.99314', 'h': '0.99387', 'l': '0.99191', 'c': '0.99312'}}, {'complete': True, 'volume': 2693, 'time': '2022-08-29T02:00:00.000000000Z', 'bid': {'o': '0.99293', 'h': '0.99341', 'l': '0.99235', 'c': '0.99271'}, 'mid': {'o': '0.99302', 'h': '0.99350', 'l': '0.99243', 'c': '0.99278'}, 'ask': {'o': '0.99310', 'h': '0.99358', 'l': '0.99251', 'c': '0.99286'}}, {'complete': True, 'volume': 2016, 'time': '2022-08-29T03:00:00.000000000Z', 'bid': {'o': '0.99271', 'h': '0.99284', 'l': '0.99208', 'c': '0.99233'}, 'mid': {'o': '0.99279', 'h': '0.99291', 'l': '0.99216', 'c': '0.99241'}, 'ask': {'o': '0.99287', 'h': '0.99298', 'l': '0.99224', 'c': '0.99249'}}, {'complete': True, 'volume': 2203, 'time': '2022-08-29T04:00:00.000000000Z', 'bid': {'o': '0.99231', 'h': '0.99275', 'l': '0.99140', 'c': '0.99158'}, 'mid': {'o': '0.99239', 'h': '0.99282', 'l': '0.99148', 'c': '0.99166'}, 'ask': {'o': '0.99247', 'h': '0.99289', 'l': '0.99155', 'c': '0.99173'}}, {'complete': True, 'volume': 3082, 'time': '2022-08-29T05:00:00.000000000Z', 'bid': {'o': '0.99160', 'h': '0.99243', 'l': '0.99135', 'c': '0.99230'}, 'mid': {'o': '0.99167', 'h': '0.99250', 'l': '0.99143', 'c': '0.99238'}, 'ask': {'o': '0.99174', 'h': '0.99257', 'l': '0.99150', 'c': '0.99245'}}, {'complete': True, 'volume': 4264, 'time': '2022-08-29T06:00:00.000000000Z', 'bid': {'o': '0.99229', 'h': '0.99432', 'l': '0.99204', 'c': '0.99358'}, 'mid': {'o': '0.99238', 'h': '0.99440', 'l': '0.99212', 'c': '0.99366'}, 'ask': {'o': '0.99246', 'h': '0.99447', 'l': '0.99219', 'c': '0.99374'}}, {'complete': True, 'volume': 5941, 'time': '2022-08-29T07:00:00.000000000Z', 'bid': {'o': '0.99357', 'h': '0.99499', 'l': '0.99311', 'c': '0.99425'}, 'mid': {'o': '0.99364', 'h': '0.99508', 'l': '0.99319', 'c': '0.99433'}, 'ask': {'o': '0.99371', 'h': '0.99516', 'l': '0.99327', 'c': '0.99441'}}, {'complete': True, 'volume': 4977, 'time': '2022-08-29T08:00:00.000000000Z', 'bid': {'o': '0.99423', 'h': '0.99433', 'l': '0.99193', 'c': '0.99377'}, 'mid': {'o': '0.99431', 'h': '0.99440', 'l': '0.99200', 'c': '0.99384'}, 'ask': {'o': '0.99439', 'h': '0.99449', 'l': '0.99207', 'c': '0.99392'}}, {'complete': True, 'volume': 5382, 'time': '2022-08-29T09:00:00.000000000Z', 'bid': {'o': '0.99375', 'h': '0.99656', 'l': '0.99373', 'c': '0.99619'}, 'mid': {'o': '0.99383', 'h': '0.99664', 'l': '0.99380', 'c': '0.99626'}, 'ask': {'o': '0.99391', 'h': '0.99671', 'l': '0.99387', 'c': '0.99633'}}, {'complete': False, 'volume': 3180, 'time': '2022-08-29T10:00:00.000000000Z', 'bid': {'o': '0.99617', 'h': '0.99866', 'l': '0.99593', 'c': '0.99822'}, 'mid': {'o': '0.99624', 'h': '0.99874', 'l': '0.99600', 'c': '0.99829'}, 'ask': {'o': '0.99630', 'h': '0.99882', 'l': '0.99607', 'c': '0.99836'}}]}\n"
     ]
    }
   ],
   "source": [
    "code, res = fetch_candles(\"EUR_USD\", '20', 'H1')\n",
    "print(code)\n",
    "print(res)"
   ]
  },
  {
   "cell_type": "code",
   "execution_count": 16,
   "metadata": {},
   "outputs": [],
   "source": [
    "def get_candles_df(json_response):\n",
    "\n",
    "    prices = ['mid', 'bid', 'ask']\n",
    "    ohlc = ['o', 'h', 'l', 'c']\n",
    "    \n",
    "    our_data = []\n",
    "    for candle in json_response['candles']:\n",
    "        if candle['complete'] == False:\n",
    "            continue\n",
    "        new_dict = {}\n",
    "        new_dict['time'] = candle['time']\n",
    "        new_dict['volume'] = candle['volume']\n",
    "        for price in prices:\n",
    "            for oh in ohlc:\n",
    "                new_dict[f\"{price}_{oh}\"] = candle[price][oh]\n",
    "        our_data.append(new_dict)\n",
    "    return pd.DataFrame.from_dict(our_data)"
   ]
  },
  {
   "cell_type": "code",
   "execution_count": 20,
   "metadata": {},
   "outputs": [],
   "source": [
    "df = get_candles_df(res)"
   ]
  },
  {
   "cell_type": "code",
   "execution_count": 21,
   "metadata": {},
   "outputs": [
    {
     "data": {
      "text/html": [
       "<div>\n",
       "<style scoped>\n",
       "    .dataframe tbody tr th:only-of-type {\n",
       "        vertical-align: middle;\n",
       "    }\n",
       "\n",
       "    .dataframe tbody tr th {\n",
       "        vertical-align: top;\n",
       "    }\n",
       "\n",
       "    .dataframe thead th {\n",
       "        text-align: right;\n",
       "    }\n",
       "</style>\n",
       "<table border=\"1\" class=\"dataframe\">\n",
       "  <thead>\n",
       "    <tr style=\"text-align: right;\">\n",
       "      <th></th>\n",
       "      <th>time</th>\n",
       "      <th>volume</th>\n",
       "      <th>mid_o</th>\n",
       "      <th>mid_h</th>\n",
       "      <th>mid_l</th>\n",
       "      <th>mid_c</th>\n",
       "      <th>bid_o</th>\n",
       "      <th>bid_h</th>\n",
       "      <th>bid_l</th>\n",
       "      <th>bid_c</th>\n",
       "      <th>ask_o</th>\n",
       "      <th>ask_h</th>\n",
       "      <th>ask_l</th>\n",
       "      <th>ask_c</th>\n",
       "    </tr>\n",
       "  </thead>\n",
       "  <tbody>\n",
       "    <tr>\n",
       "      <th>0</th>\n",
       "      <td>2022-08-26T13:00:00.000000000Z</td>\n",
       "      <td>12493</td>\n",
       "      <td>1.00326</td>\n",
       "      <td>1.00752</td>\n",
       "      <td>1.00297</td>\n",
       "      <td>1.00634</td>\n",
       "      <td>1.00318</td>\n",
       "      <td>1.00745</td>\n",
       "      <td>1.00288</td>\n",
       "      <td>1.00618</td>\n",
       "      <td>1.00334</td>\n",
       "      <td>1.00760</td>\n",
       "      <td>1.00305</td>\n",
       "      <td>1.00650</td>\n",
       "    </tr>\n",
       "    <tr>\n",
       "      <th>1</th>\n",
       "      <td>2022-08-26T14:00:00.000000000Z</td>\n",
       "      <td>20597</td>\n",
       "      <td>1.00637</td>\n",
       "      <td>1.00902</td>\n",
       "      <td>1.00146</td>\n",
       "      <td>1.00146</td>\n",
       "      <td>1.00617</td>\n",
       "      <td>1.00893</td>\n",
       "      <td>1.00139</td>\n",
       "      <td>1.00139</td>\n",
       "      <td>1.00657</td>\n",
       "      <td>1.00911</td>\n",
       "      <td>1.00154</td>\n",
       "      <td>1.00154</td>\n",
       "    </tr>\n",
       "    <tr>\n",
       "      <th>2</th>\n",
       "      <td>2022-08-26T15:00:00.000000000Z</td>\n",
       "      <td>9347</td>\n",
       "      <td>1.00146</td>\n",
       "      <td>1.00211</td>\n",
       "      <td>0.99842</td>\n",
       "      <td>0.99972</td>\n",
       "      <td>1.00140</td>\n",
       "      <td>1.00204</td>\n",
       "      <td>0.99835</td>\n",
       "      <td>0.99964</td>\n",
       "      <td>1.00153</td>\n",
       "      <td>1.00218</td>\n",
       "      <td>0.99850</td>\n",
       "      <td>0.99980</td>\n",
       "    </tr>\n",
       "    <tr>\n",
       "      <th>3</th>\n",
       "      <td>2022-08-26T16:00:00.000000000Z</td>\n",
       "      <td>5710</td>\n",
       "      <td>0.99980</td>\n",
       "      <td>1.00030</td>\n",
       "      <td>0.99754</td>\n",
       "      <td>0.99799</td>\n",
       "      <td>0.99972</td>\n",
       "      <td>1.00022</td>\n",
       "      <td>0.99746</td>\n",
       "      <td>0.99791</td>\n",
       "      <td>0.99989</td>\n",
       "      <td>1.00038</td>\n",
       "      <td>0.99762</td>\n",
       "      <td>0.99807</td>\n",
       "    </tr>\n",
       "    <tr>\n",
       "      <th>4</th>\n",
       "      <td>2022-08-26T17:00:00.000000000Z</td>\n",
       "      <td>3875</td>\n",
       "      <td>0.99800</td>\n",
       "      <td>0.99832</td>\n",
       "      <td>0.99588</td>\n",
       "      <td>0.99698</td>\n",
       "      <td>0.99792</td>\n",
       "      <td>0.99824</td>\n",
       "      <td>0.99580</td>\n",
       "      <td>0.99691</td>\n",
       "      <td>0.99807</td>\n",
       "      <td>0.99840</td>\n",
       "      <td>0.99595</td>\n",
       "      <td>0.99705</td>\n",
       "    </tr>\n",
       "  </tbody>\n",
       "</table>\n",
       "</div>"
      ],
      "text/plain": [
       "                             time  volume    mid_o    mid_h    mid_l    mid_c  \\\n",
       "0  2022-08-26T13:00:00.000000000Z   12493  1.00326  1.00752  1.00297  1.00634   \n",
       "1  2022-08-26T14:00:00.000000000Z   20597  1.00637  1.00902  1.00146  1.00146   \n",
       "2  2022-08-26T15:00:00.000000000Z    9347  1.00146  1.00211  0.99842  0.99972   \n",
       "3  2022-08-26T16:00:00.000000000Z    5710  0.99980  1.00030  0.99754  0.99799   \n",
       "4  2022-08-26T17:00:00.000000000Z    3875  0.99800  0.99832  0.99588  0.99698   \n",
       "\n",
       "     bid_o    bid_h    bid_l    bid_c    ask_o    ask_h    ask_l    ask_c  \n",
       "0  1.00318  1.00745  1.00288  1.00618  1.00334  1.00760  1.00305  1.00650  \n",
       "1  1.00617  1.00893  1.00139  1.00139  1.00657  1.00911  1.00154  1.00154  \n",
       "2  1.00140  1.00204  0.99835  0.99964  1.00153  1.00218  0.99850  0.99980  \n",
       "3  0.99972  1.00022  0.99746  0.99791  0.99989  1.00038  0.99762  0.99807  \n",
       "4  0.99792  0.99824  0.99580  0.99691  0.99807  0.99840  0.99595  0.99705  "
      ]
     },
     "execution_count": 21,
     "metadata": {},
     "output_type": "execute_result"
    }
   ],
   "source": [
    "df.head()"
   ]
  },
  {
   "cell_type": "code",
   "execution_count": 22,
   "metadata": {},
   "outputs": [],
   "source": [
    "def save_file(candle_df, pair, granularity):\n",
    "    candle_df.to_pickle(f'historical_data/{pair}_{granularity}.pkl')"
   ]
  },
  {
   "cell_type": "code",
   "execution_count": 23,
   "metadata": {},
   "outputs": [],
   "source": [
    "def create_data(pair, granularity):\n",
    "    code, json_data = fetch_candles(pair, 4000, granularity)\n",
    "    if code != 200:\n",
    "        print(pair, 'Error 200')\n",
    "        return\n",
    "    df = get_candles_df(json_data)\n",
    "    print(f\"{pair} loaded {df.shape[0]} candles from {df.time.min()} to {df.time.max()}\")\n",
    "    save_file(df, pair, granularity)"
   ]
  },
  {
   "cell_type": "code",
   "execution_count": 24,
   "metadata": {},
   "outputs": [
    {
     "name": "stdout",
     "output_type": "stream",
     "text": [
      "EUR_USD loaded 3999 candles from 2022-01-06T16:00:00.000000000Z to 2022-08-29T10:00:00.000000000Z\n",
      "EUR_GBP loaded 3999 candles from 2022-01-06T14:00:00.000000000Z to 2022-08-29T10:00:00.000000000Z\n",
      "EUR_JPY loaded 3999 candles from 2022-01-06T08:00:00.000000000Z to 2022-08-29T10:00:00.000000000Z\n",
      "EUR_CHF loaded 3999 candles from 2022-01-06T17:00:00.000000000Z to 2022-08-29T10:00:00.000000000Z\n",
      "EUR_NZD loaded 3999 candles from 2022-01-06T16:00:00.000000000Z to 2022-08-29T10:00:00.000000000Z\n",
      "EUR_CAD loaded 3999 candles from 2022-01-06T17:00:00.000000000Z to 2022-08-29T10:00:00.000000000Z\n",
      "USD_JPY loaded 3999 candles from 2022-01-06T16:00:00.000000000Z to 2022-08-29T10:00:00.000000000Z\n",
      "USD_CHF loaded 3999 candles from 2022-01-06T12:00:00.000000000Z to 2022-08-29T10:00:00.000000000Z\n",
      "USD_CAD loaded 3999 candles from 2022-01-06T17:00:00.000000000Z to 2022-08-29T10:00:00.000000000Z\n",
      "GBP_USD loaded 3999 candles from 2022-01-06T16:00:00.000000000Z to 2022-08-29T10:00:00.000000000Z\n",
      "GBP_JPY loaded 3999 candles from 2022-01-06T17:00:00.000000000Z to 2022-08-29T10:00:00.000000000Z\n",
      "GBP_CHF loaded 3999 candles from 2022-01-06T17:00:00.000000000Z to 2022-08-29T10:00:00.000000000Z\n",
      "GBP_NZD loaded 3999 candles from 2022-01-06T16:00:00.000000000Z to 2022-08-29T10:00:00.000000000Z\n",
      "GBP_CAD loaded 3999 candles from 2022-01-06T17:00:00.000000000Z to 2022-08-29T10:00:00.000000000Z\n",
      "CHF_JPY loaded 3999 candles from 2022-01-06T17:00:00.000000000Z to 2022-08-29T10:00:00.000000000Z\n",
      "NZD_USD loaded 3999 candles from 2022-01-06T11:00:00.000000000Z to 2022-08-29T10:00:00.000000000Z\n",
      "NZD_JPY loaded 3999 candles from 2022-01-06T16:00:00.000000000Z to 2022-08-29T10:00:00.000000000Z\n",
      "NZD_CHF loaded 3999 candles from 2022-01-06T10:00:00.000000000Z to 2022-08-29T10:00:00.000000000Z\n",
      "NZD_CAD loaded 3999 candles from 2022-01-06T16:00:00.000000000Z to 2022-08-29T10:00:00.000000000Z\n",
      "CAD_JPY loaded 3999 candles from 2022-01-06T17:00:00.000000000Z to 2022-08-29T10:00:00.000000000Z\n",
      "CAD_CHF loaded 3999 candles from 2022-01-06T17:00:00.000000000Z to 2022-08-29T10:00:00.000000000Z\n"
     ]
    }
   ],
   "source": [
    "for p1 in our_currencies:\n",
    "    for p2 in our_currencies:\n",
    "        pair = f\"{p1}_{p2}\"\n",
    "        if pair in ins_df.name.unique():\n",
    "            create_data(pair, \"H1\")"
   ]
  },
  {
   "cell_type": "code",
   "execution_count": null,
   "metadata": {},
   "outputs": [],
   "source": []
  },
  {
   "cell_type": "code",
   "execution_count": null,
   "metadata": {},
   "outputs": [],
   "source": []
  }
 ],
 "metadata": {
  "kernelspec": {
   "display_name": "Python 3.9.13 ('gpu-data')",
   "language": "python",
   "name": "python3"
  },
  "language_info": {
   "codemirror_mode": {
    "name": "ipython",
    "version": 3
   },
   "file_extension": ".py",
   "mimetype": "text/x-python",
   "name": "python",
   "nbconvert_exporter": "python",
   "pygments_lexer": "ipython3",
   "version": "3.9.13"
  },
  "orig_nbformat": 4,
  "vscode": {
   "interpreter": {
    "hash": "5fc091cde34f289e745144a98398f23c71d812632c19536d781b1e8e4634b4dc"
   }
  }
 },
 "nbformat": 4,
 "nbformat_minor": 2
}
