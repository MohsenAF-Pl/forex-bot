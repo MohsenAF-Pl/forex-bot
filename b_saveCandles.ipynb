{
 "cells": [
  {
   "cell_type": "markdown",
   "metadata": {},
   "source": [
    "we'll take the data from api according to the instruments we've gotten before\n",
    "convert them into dataframe and save them for furthure use"
   ]
  },
  {
   "cell_type": "code",
   "execution_count": 1,
   "metadata": {},
   "outputs": [],
   "source": [
    "import requests\n",
    "import authentication\n",
    "import pandas as pd"
   ]
  },
  {
   "cell_type": "code",
   "execution_count": 2,
   "metadata": {},
   "outputs": [],
   "source": [
    "session = requests.Session()"
   ]
  },
  {
   "cell_type": "code",
   "execution_count": 3,
   "metadata": {},
   "outputs": [],
   "source": [
    "ins_df = pd.read_pickle('./data/instruments.pkl')"
   ]
  },
  {
   "cell_type": "code",
   "execution_count": 4,
   "metadata": {},
   "outputs": [],
   "source": [
    "our_currencies = ['EUR', 'USD', 'GBP', 'JPY', 'CHF', 'NZD', 'CAD']"
   ]
  },
  {
   "cell_type": "code",
   "execution_count": 5,
   "metadata": {},
   "outputs": [
    {
     "name": "stdout",
     "output_type": "stream",
     "text": [
      "['AUD_USD' 'GBP_NZD' 'CHF_ZAR' 'USD_CNH' 'NZD_USD' 'NZD_SGD' 'USD_NOK'\n",
      " 'NZD_JPY' 'EUR_HUF' 'USD_CAD' 'ZAR_JPY' 'GBP_ZAR' 'SGD_JPY' 'USD_JPY'\n",
      " 'EUR_TRY' 'EUR_JPY' 'AUD_SGD' 'EUR_NZD' 'GBP_HKD' 'CHF_JPY' 'EUR_HKD'\n",
      " 'GBP_CAD' 'USD_THB' 'GBP_CHF' 'NZD_CHF' 'AUD_HKD' 'USD_CHF' 'SGD_CHF'\n",
      " 'USD_TRY' 'GBP_JPY' 'USD_PLN' 'GBP_AUD' 'HKD_JPY' 'AUD_CHF' 'EUR_SEK'\n",
      " 'USD_SGD' 'TRY_JPY' 'EUR_AUD' 'CHF_HKD' 'EUR_SGD' 'NZD_CAD' 'CAD_JPY'\n",
      " 'USD_CZK' 'USD_ZAR' 'USD_DKK' 'EUR_CHF' 'AUD_JPY' 'USD_HUF' 'EUR_CAD'\n",
      " 'EUR_ZAR' 'EUR_USD' 'GBP_USD' 'USD_MXN' 'NZD_HKD' 'USD_HKD' 'CAD_SGD'\n",
      " 'AUD_CAD' 'EUR_PLN' 'GBP_PLN' 'EUR_NOK' 'CAD_HKD' 'EUR_GBP' 'CAD_CHF'\n",
      " 'USD_SEK' 'GBP_SGD' 'EUR_DKK' 'AUD_NZD' 'EUR_CZK']\n",
      "68\n"
     ]
    }
   ],
   "source": [
    "a = (ins_df.name.unique())\n",
    "print(a)\n",
    "print(len(a))"
   ]
  },
  {
   "cell_type": "code",
   "execution_count": 6,
   "metadata": {},
   "outputs": [],
   "source": [
    "def fetch_candles(pair_name, count, granularity):\n",
    "    url = f\"{authentication.OANDA_URL}/instruments/{pair_name}/candles\"\n",
    "    params = dict(\n",
    "        count = count,\n",
    "        granularity = granularity,\n",
    "        price = \"MBA\"\n",
    "    )\n",
    "    response = session.get(url, params=params, headers=authentication.SECURE_HEADER)\n",
    "    return response.status_code, response.json()"
   ]
  },
  {
   "cell_type": "code",
   "execution_count": 7,
   "metadata": {},
   "outputs": [
    {
     "name": "stdout",
     "output_type": "stream",
     "text": [
      "200\n",
      "{'instrument': 'EUR_USD', 'granularity': 'H1', 'candles': [{'complete': True, 'volume': 5693, 'time': '2022-11-16T20:00:00.000000000Z', 'bid': {'o': '1.03914', 'h': '1.04040', 'l': '1.03822', 'c': '1.03970'}, 'mid': {'o': '1.03920', 'h': '1.04048', 'l': '1.03830', 'c': '1.03978'}, 'ask': {'o': '1.03927', 'h': '1.04056', 'l': '1.03838', 'c': '1.03986'}}, {'complete': True, 'volume': 2813, 'time': '2022-11-16T21:00:00.000000000Z', 'bid': {'o': '1.03970', 'h': '1.03984', 'l': '1.03881', 'c': '1.03934'}, 'mid': {'o': '1.03978', 'h': '1.03991', 'l': '1.03893', 'c': '1.03944'}, 'ask': {'o': '1.03987', 'h': '1.04000', 'l': '1.03903', 'c': '1.03954'}}, {'complete': True, 'volume': 4079, 'time': '2022-11-16T22:00:00.000000000Z', 'bid': {'o': '1.03885', 'h': '1.03953', 'l': '1.03856', 'c': '1.03925'}, 'mid': {'o': '1.03920', 'h': '1.03994', 'l': '1.03906', 'c': '1.03942'}, 'ask': {'o': '1.03954', 'h': '1.04044', 'l': '1.03948', 'c': '1.03959'}}, {'complete': True, 'volume': 2284, 'time': '2022-11-16T23:00:00.000000000Z', 'bid': {'o': '1.03933', 'h': '1.03975', 'l': '1.03906', 'c': '1.03927'}, 'mid': {'o': '1.03950', 'h': '1.03985', 'l': '1.03916', 'c': '1.03936'}, 'ask': {'o': '1.03968', 'h': '1.03995', 'l': '1.03924', 'c': '1.03944'}}, {'complete': True, 'volume': 3220, 'time': '2022-11-17T00:00:00.000000000Z', 'bid': {'o': '1.03928', 'h': '1.03943', 'l': '1.03848', 'c': '1.03857'}, 'mid': {'o': '1.03936', 'h': '1.03952', 'l': '1.03856', 'c': '1.03866'}, 'ask': {'o': '1.03944', 'h': '1.03962', 'l': '1.03863', 'c': '1.03875'}}, {'complete': True, 'volume': 4237, 'time': '2022-11-17T01:00:00.000000000Z', 'bid': {'o': '1.03857', 'h': '1.03905', 'l': '1.03733', 'c': '1.03766'}, 'mid': {'o': '1.03866', 'h': '1.03913', 'l': '1.03741', 'c': '1.03774'}, 'ask': {'o': '1.03874', 'h': '1.03921', 'l': '1.03749', 'c': '1.03783'}}, {'complete': True, 'volume': 4773, 'time': '2022-11-17T02:00:00.000000000Z', 'bid': {'o': '1.03765', 'h': '1.03791', 'l': '1.03614', 'c': '1.03695'}, 'mid': {'o': '1.03774', 'h': '1.03798', 'l': '1.03623', 'c': '1.03702'}, 'ask': {'o': '1.03783', 'h': '1.03806', 'l': '1.03631', 'c': '1.03709'}}, {'complete': True, 'volume': 4003, 'time': '2022-11-17T03:00:00.000000000Z', 'bid': {'o': '1.03697', 'h': '1.03734', 'l': '1.03589', 'c': '1.03712'}, 'mid': {'o': '1.03704', 'h': '1.03742', 'l': '1.03598', 'c': '1.03720'}, 'ask': {'o': '1.03712', 'h': '1.03749', 'l': '1.03605', 'c': '1.03728'}}, {'complete': True, 'volume': 3012, 'time': '2022-11-17T04:00:00.000000000Z', 'bid': {'o': '1.03715', 'h': '1.03804', 'l': '1.03689', 'c': '1.03702'}, 'mid': {'o': '1.03723', 'h': '1.03813', 'l': '1.03698', 'c': '1.03710'}, 'ask': {'o': '1.03731', 'h': '1.03822', 'l': '1.03707', 'c': '1.03719'}}, {'complete': True, 'volume': 3925, 'time': '2022-11-17T05:00:00.000000000Z', 'bid': {'o': '1.03704', 'h': '1.03826', 'l': '1.03676', 'c': '1.03795'}, 'mid': {'o': '1.03712', 'h': '1.03835', 'l': '1.03686', 'c': '1.03803'}, 'ask': {'o': '1.03721', 'h': '1.03844', 'l': '1.03694', 'c': '1.03811'}}, {'complete': True, 'volume': 4335, 'time': '2022-11-17T06:00:00.000000000Z', 'bid': {'o': '1.03793', 'h': '1.03921', 'l': '1.03763', 'c': '1.03870'}, 'mid': {'o': '1.03801', 'h': '1.03929', 'l': '1.03771', 'c': '1.03878'}, 'ask': {'o': '1.03809', 'h': '1.03937', 'l': '1.03779', 'c': '1.03887'}}, {'complete': True, 'volume': 6526, 'time': '2022-11-17T07:00:00.000000000Z', 'bid': {'o': '1.03868', 'h': '1.03943', 'l': '1.03693', 'c': '1.03921'}, 'mid': {'o': '1.03876', 'h': '1.03951', 'l': '1.03702', 'c': '1.03928'}, 'ask': {'o': '1.03885', 'h': '1.03959', 'l': '1.03710', 'c': '1.03936'}}, {'complete': True, 'volume': 9109, 'time': '2022-11-17T08:00:00.000000000Z', 'bid': {'o': '1.03920', 'h': '1.04060', 'l': '1.03843', 'c': '1.03855'}, 'mid': {'o': '1.03928', 'h': '1.04068', 'l': '1.03851', 'c': '1.03863'}, 'ask': {'o': '1.03937', 'h': '1.04076', 'l': '1.03858', 'c': '1.03871'}}, {'complete': True, 'volume': 7340, 'time': '2022-11-17T09:00:00.000000000Z', 'bid': {'o': '1.03855', 'h': '1.03867', 'l': '1.03561', 'c': '1.03631'}, 'mid': {'o': '1.03864', 'h': '1.03874', 'l': '1.03568', 'c': '1.03639'}, 'ask': {'o': '1.03872', 'h': '1.03881', 'l': '1.03576', 'c': '1.03647'}}, {'complete': True, 'volume': 7061, 'time': '2022-11-17T10:00:00.000000000Z', 'bid': {'o': '1.03630', 'h': '1.03695', 'l': '1.03351', 'c': '1.03373'}, 'mid': {'o': '1.03639', 'h': '1.03702', 'l': '1.03358', 'c': '1.03380'}, 'ask': {'o': '1.03648', 'h': '1.03710', 'l': '1.03365', 'c': '1.03388'}}, {'complete': True, 'volume': 7949, 'time': '2022-11-17T11:00:00.000000000Z', 'bid': {'o': '1.03372', 'h': '1.03506', 'l': '1.03267', 'c': '1.03458'}, 'mid': {'o': '1.03380', 'h': '1.03514', 'l': '1.03274', 'c': '1.03466'}, 'ask': {'o': '1.03388', 'h': '1.03522', 'l': '1.03280', 'c': '1.03473'}}, {'complete': True, 'volume': 10319, 'time': '2022-11-17T12:00:00.000000000Z', 'bid': {'o': '1.03460', 'h': '1.03543', 'l': '1.03201', 'c': '1.03319'}, 'mid': {'o': '1.03466', 'h': '1.03550', 'l': '1.03209', 'c': '1.03326'}, 'ask': {'o': '1.03473', 'h': '1.03557', 'l': '1.03217', 'c': '1.03334'}}, {'complete': True, 'volume': 14054, 'time': '2022-11-17T13:00:00.000000000Z', 'bid': {'o': '1.03317', 'h': '1.03526', 'l': '1.03101', 'c': '1.03117'}, 'mid': {'o': '1.03326', 'h': '1.03537', 'l': '1.03108', 'c': '1.03124'}, 'ask': {'o': '1.03334', 'h': '1.03550', 'l': '1.03114', 'c': '1.03130'}}, {'complete': True, 'volume': 12023, 'time': '2022-11-17T14:00:00.000000000Z', 'bid': {'o': '1.03117', 'h': '1.03477', 'l': '1.03046', 'c': '1.03343'}, 'mid': {'o': '1.03124', 'h': '1.03484', 'l': '1.03053', 'c': '1.03350'}, 'ask': {'o': '1.03132', 'h': '1.03492', 'l': '1.03059', 'c': '1.03357'}}, {'complete': False, 'volume': 1509, 'time': '2022-11-17T15:00:00.000000000Z', 'bid': {'o': '1.03344', 'h': '1.03430', 'l': '1.03316', 'c': '1.03370'}, 'mid': {'o': '1.03352', 'h': '1.03437', 'l': '1.03324', 'c': '1.03378'}, 'ask': {'o': '1.03359', 'h': '1.03445', 'l': '1.03333', 'c': '1.03385'}}]}\n"
     ]
    }
   ],
   "source": [
    "code, res = fetch_candles(\"EUR_USD\", '20', 'H1')\n",
    "print(code)\n",
    "print(res)"
   ]
  },
  {
   "cell_type": "code",
   "execution_count": 8,
   "metadata": {},
   "outputs": [],
   "source": [
    "def get_candles_df(json_response):\n",
    "\n",
    "    prices = ['mid', 'bid', 'ask']\n",
    "    ohlc = ['o', 'h', 'l', 'c']\n",
    "    \n",
    "    our_data = []\n",
    "    for candle in json_response['candles']:\n",
    "        if candle['complete'] == False:\n",
    "            continue\n",
    "        new_dict = {}\n",
    "        new_dict['time'] = candle['time']\n",
    "        new_dict['volume'] = candle['volume']\n",
    "        for price in prices:\n",
    "            for oh in ohlc:\n",
    "                new_dict[f\"{price}_{oh}\"] = candle[price][oh]\n",
    "        our_data.append(new_dict)\n",
    "    return pd.DataFrame.from_dict(our_data)"
   ]
  },
  {
   "cell_type": "code",
   "execution_count": 9,
   "metadata": {},
   "outputs": [],
   "source": [
    "df = get_candles_df(res)"
   ]
  },
  {
   "cell_type": "code",
   "execution_count": 10,
   "metadata": {},
   "outputs": [
    {
     "data": {
      "text/html": [
       "<div>\n",
       "<style scoped>\n",
       "    .dataframe tbody tr th:only-of-type {\n",
       "        vertical-align: middle;\n",
       "    }\n",
       "\n",
       "    .dataframe tbody tr th {\n",
       "        vertical-align: top;\n",
       "    }\n",
       "\n",
       "    .dataframe thead th {\n",
       "        text-align: right;\n",
       "    }\n",
       "</style>\n",
       "<table border=\"1\" class=\"dataframe\">\n",
       "  <thead>\n",
       "    <tr style=\"text-align: right;\">\n",
       "      <th></th>\n",
       "      <th>time</th>\n",
       "      <th>volume</th>\n",
       "      <th>mid_o</th>\n",
       "      <th>mid_h</th>\n",
       "      <th>mid_l</th>\n",
       "      <th>mid_c</th>\n",
       "      <th>bid_o</th>\n",
       "      <th>bid_h</th>\n",
       "      <th>bid_l</th>\n",
       "      <th>bid_c</th>\n",
       "      <th>ask_o</th>\n",
       "      <th>ask_h</th>\n",
       "      <th>ask_l</th>\n",
       "      <th>ask_c</th>\n",
       "    </tr>\n",
       "  </thead>\n",
       "  <tbody>\n",
       "    <tr>\n",
       "      <th>0</th>\n",
       "      <td>2022-11-16T20:00:00.000000000Z</td>\n",
       "      <td>5693</td>\n",
       "      <td>1.03920</td>\n",
       "      <td>1.04048</td>\n",
       "      <td>1.03830</td>\n",
       "      <td>1.03978</td>\n",
       "      <td>1.03914</td>\n",
       "      <td>1.04040</td>\n",
       "      <td>1.03822</td>\n",
       "      <td>1.03970</td>\n",
       "      <td>1.03927</td>\n",
       "      <td>1.04056</td>\n",
       "      <td>1.03838</td>\n",
       "      <td>1.03986</td>\n",
       "    </tr>\n",
       "    <tr>\n",
       "      <th>1</th>\n",
       "      <td>2022-11-16T21:00:00.000000000Z</td>\n",
       "      <td>2813</td>\n",
       "      <td>1.03978</td>\n",
       "      <td>1.03991</td>\n",
       "      <td>1.03893</td>\n",
       "      <td>1.03944</td>\n",
       "      <td>1.03970</td>\n",
       "      <td>1.03984</td>\n",
       "      <td>1.03881</td>\n",
       "      <td>1.03934</td>\n",
       "      <td>1.03987</td>\n",
       "      <td>1.04000</td>\n",
       "      <td>1.03903</td>\n",
       "      <td>1.03954</td>\n",
       "    </tr>\n",
       "    <tr>\n",
       "      <th>2</th>\n",
       "      <td>2022-11-16T22:00:00.000000000Z</td>\n",
       "      <td>4079</td>\n",
       "      <td>1.03920</td>\n",
       "      <td>1.03994</td>\n",
       "      <td>1.03906</td>\n",
       "      <td>1.03942</td>\n",
       "      <td>1.03885</td>\n",
       "      <td>1.03953</td>\n",
       "      <td>1.03856</td>\n",
       "      <td>1.03925</td>\n",
       "      <td>1.03954</td>\n",
       "      <td>1.04044</td>\n",
       "      <td>1.03948</td>\n",
       "      <td>1.03959</td>\n",
       "    </tr>\n",
       "    <tr>\n",
       "      <th>3</th>\n",
       "      <td>2022-11-16T23:00:00.000000000Z</td>\n",
       "      <td>2284</td>\n",
       "      <td>1.03950</td>\n",
       "      <td>1.03985</td>\n",
       "      <td>1.03916</td>\n",
       "      <td>1.03936</td>\n",
       "      <td>1.03933</td>\n",
       "      <td>1.03975</td>\n",
       "      <td>1.03906</td>\n",
       "      <td>1.03927</td>\n",
       "      <td>1.03968</td>\n",
       "      <td>1.03995</td>\n",
       "      <td>1.03924</td>\n",
       "      <td>1.03944</td>\n",
       "    </tr>\n",
       "    <tr>\n",
       "      <th>4</th>\n",
       "      <td>2022-11-17T00:00:00.000000000Z</td>\n",
       "      <td>3220</td>\n",
       "      <td>1.03936</td>\n",
       "      <td>1.03952</td>\n",
       "      <td>1.03856</td>\n",
       "      <td>1.03866</td>\n",
       "      <td>1.03928</td>\n",
       "      <td>1.03943</td>\n",
       "      <td>1.03848</td>\n",
       "      <td>1.03857</td>\n",
       "      <td>1.03944</td>\n",
       "      <td>1.03962</td>\n",
       "      <td>1.03863</td>\n",
       "      <td>1.03875</td>\n",
       "    </tr>\n",
       "  </tbody>\n",
       "</table>\n",
       "</div>"
      ],
      "text/plain": [
       "                             time  volume    mid_o    mid_h    mid_l    mid_c  \\\n",
       "0  2022-11-16T20:00:00.000000000Z    5693  1.03920  1.04048  1.03830  1.03978   \n",
       "1  2022-11-16T21:00:00.000000000Z    2813  1.03978  1.03991  1.03893  1.03944   \n",
       "2  2022-11-16T22:00:00.000000000Z    4079  1.03920  1.03994  1.03906  1.03942   \n",
       "3  2022-11-16T23:00:00.000000000Z    2284  1.03950  1.03985  1.03916  1.03936   \n",
       "4  2022-11-17T00:00:00.000000000Z    3220  1.03936  1.03952  1.03856  1.03866   \n",
       "\n",
       "     bid_o    bid_h    bid_l    bid_c    ask_o    ask_h    ask_l    ask_c  \n",
       "0  1.03914  1.04040  1.03822  1.03970  1.03927  1.04056  1.03838  1.03986  \n",
       "1  1.03970  1.03984  1.03881  1.03934  1.03987  1.04000  1.03903  1.03954  \n",
       "2  1.03885  1.03953  1.03856  1.03925  1.03954  1.04044  1.03948  1.03959  \n",
       "3  1.03933  1.03975  1.03906  1.03927  1.03968  1.03995  1.03924  1.03944  \n",
       "4  1.03928  1.03943  1.03848  1.03857  1.03944  1.03962  1.03863  1.03875  "
      ]
     },
     "execution_count": 10,
     "metadata": {},
     "output_type": "execute_result"
    }
   ],
   "source": [
    "df.head()"
   ]
  },
  {
   "cell_type": "code",
   "execution_count": 11,
   "metadata": {},
   "outputs": [],
   "source": [
    "def save_file(candle_df, pair, granularity):\n",
    "    candle_df.to_pickle(f'historical_data/{pair}_{granularity}.pkl')"
   ]
  },
  {
   "cell_type": "code",
   "execution_count": 12,
   "metadata": {},
   "outputs": [],
   "source": [
    "def create_data(pair, granularity):\n",
    "    code, json_data = fetch_candles(pair, 4000, granularity)\n",
    "    if code != 200:\n",
    "        print(pair, 'Error 200')\n",
    "        return\n",
    "    df = get_candles_df(json_data)\n",
    "    print(f\"{pair} loaded {df.shape[0]} candles from {df.time.min()} to {df.time.max()}\")\n",
    "    save_file(df, pair, granularity)"
   ]
  },
  {
   "cell_type": "code",
   "execution_count": 13,
   "metadata": {},
   "outputs": [
    {
     "name": "stdout",
     "output_type": "stream",
     "text": [
      "EUR_USD loaded 3999 candles from 2022-03-29T18:00:00.000000000Z to 2022-11-17T14:00:00.000000000Z\n",
      "EUR_GBP loaded 3999 candles from 2022-03-29T16:00:00.000000000Z to 2022-11-17T14:00:00.000000000Z\n",
      "EUR_JPY loaded 3999 candles from 2022-03-29T10:00:00.000000000Z to 2022-11-17T14:00:00.000000000Z\n",
      "EUR_CHF loaded 3999 candles from 2022-03-29T19:00:00.000000000Z to 2022-11-17T14:00:00.000000000Z\n",
      "EUR_NZD loaded 3999 candles from 2022-03-29T18:00:00.000000000Z to 2022-11-17T14:00:00.000000000Z\n",
      "EUR_CAD loaded 3999 candles from 2022-03-29T19:00:00.000000000Z to 2022-11-17T14:00:00.000000000Z\n",
      "USD_JPY loaded 3999 candles from 2022-03-29T18:00:00.000000000Z to 2022-11-17T14:00:00.000000000Z\n",
      "USD_CHF loaded 3999 candles from 2022-03-29T14:00:00.000000000Z to 2022-11-17T14:00:00.000000000Z\n",
      "USD_CAD loaded 3999 candles from 2022-03-29T19:00:00.000000000Z to 2022-11-17T14:00:00.000000000Z\n",
      "GBP_USD loaded 3999 candles from 2022-03-29T18:00:00.000000000Z to 2022-11-17T14:00:00.000000000Z\n",
      "GBP_JPY loaded 3999 candles from 2022-03-29T19:00:00.000000000Z to 2022-11-17T14:00:00.000000000Z\n",
      "GBP_CHF loaded 3999 candles from 2022-03-29T19:00:00.000000000Z to 2022-11-17T14:00:00.000000000Z\n",
      "GBP_NZD loaded 3999 candles from 2022-03-29T18:00:00.000000000Z to 2022-11-17T14:00:00.000000000Z\n",
      "GBP_CAD loaded 3999 candles from 2022-03-29T19:00:00.000000000Z to 2022-11-17T14:00:00.000000000Z\n",
      "CHF_JPY loaded 3999 candles from 2022-03-29T19:00:00.000000000Z to 2022-11-17T14:00:00.000000000Z\n",
      "NZD_USD loaded 3999 candles from 2022-03-29T13:00:00.000000000Z to 2022-11-17T14:00:00.000000000Z\n",
      "NZD_JPY loaded 3999 candles from 2022-03-29T18:00:00.000000000Z to 2022-11-17T14:00:00.000000000Z\n",
      "NZD_CHF loaded 3999 candles from 2022-03-29T12:00:00.000000000Z to 2022-11-17T14:00:00.000000000Z\n",
      "NZD_CAD loaded 3999 candles from 2022-03-29T18:00:00.000000000Z to 2022-11-17T14:00:00.000000000Z\n",
      "CAD_JPY loaded 3999 candles from 2022-03-29T19:00:00.000000000Z to 2022-11-17T14:00:00.000000000Z\n",
      "CAD_CHF loaded 3999 candles from 2022-03-29T19:00:00.000000000Z to 2022-11-17T14:00:00.000000000Z\n"
     ]
    }
   ],
   "source": [
    "for p1 in our_currencies:\n",
    "    for p2 in our_currencies:\n",
    "        pair = f\"{p1}_{p2}\"\n",
    "        if pair in ins_df.name.unique():\n",
    "            create_data(pair, \"H1\")"
   ]
  },
  {
   "cell_type": "code",
   "execution_count": null,
   "metadata": {},
   "outputs": [],
   "source": []
  },
  {
   "cell_type": "code",
   "execution_count": null,
   "metadata": {},
   "outputs": [],
   "source": []
  }
 ],
 "metadata": {
  "kernelspec": {
   "display_name": "Python 3.9.13 ('gpu-data')",
   "language": "python",
   "name": "python3"
  },
  "language_info": {
   "codemirror_mode": {
    "name": "ipython",
    "version": 3
   },
   "file_extension": ".py",
   "mimetype": "text/x-python",
   "name": "python",
   "nbconvert_exporter": "python",
   "pygments_lexer": "ipython3",
   "version": "3.9.13"
  },
  "orig_nbformat": 4,
  "vscode": {
   "interpreter": {
    "hash": "5fc091cde34f289e745144a98398f23c71d812632c19536d781b1e8e4634b4dc"
   }
  }
 },
 "nbformat": 4,
 "nbformat_minor": 2
}
