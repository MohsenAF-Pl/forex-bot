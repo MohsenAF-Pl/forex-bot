{
 "cells": [
  {
   "cell_type": "code",
   "execution_count": 1,
   "metadata": {},
   "outputs": [],
   "source": [
    "import pandas as pd\n",
    "import plotly.graph_objects as go"
   ]
  },
  {
   "cell_type": "code",
   "execution_count": 2,
   "metadata": {},
   "outputs": [],
   "source": [
    "ma_test_result = pd.read_pickle('./data/ma_test_result.pkl')\n",
    "all_trades = pd.read_pickle('./data/all_trades.pkl')"
   ]
  },
  {
   "cell_type": "code",
   "execution_count": 3,
   "metadata": {},
   "outputs": [
    {
     "data": {
      "text/plain": [
       "(21528, 11)"
      ]
     },
     "execution_count": 3,
     "metadata": {},
     "output_type": "execute_result"
    }
   ],
   "source": [
    "all_trades.shape"
   ]
  },
  {
   "cell_type": "code",
   "execution_count": 4,
   "metadata": {},
   "outputs": [
    {
     "data": {
      "text/plain": [
       "(357, 8)"
      ]
     },
     "execution_count": 4,
     "metadata": {},
     "output_type": "execute_result"
    }
   ],
   "source": [
    "ma_test_result.shape"
   ]
  },
  {
   "cell_type": "code",
   "execution_count": 5,
   "metadata": {},
   "outputs": [
    {
     "data": {
      "text/html": [
       "<div>\n",
       "<style scoped>\n",
       "    .dataframe tbody tr th:only-of-type {\n",
       "        vertical-align: middle;\n",
       "    }\n",
       "\n",
       "    .dataframe tbody tr th {\n",
       "        vertical-align: top;\n",
       "    }\n",
       "\n",
       "    .dataframe thead th {\n",
       "        text-align: right;\n",
       "    }\n",
       "</style>\n",
       "<table border=\"1\" class=\"dataframe\">\n",
       "  <thead>\n",
       "    <tr style=\"text-align: right;\">\n",
       "      <th></th>\n",
       "      <th>pair</th>\n",
       "      <th>num_trades</th>\n",
       "      <th>total_gain</th>\n",
       "      <th>mean_gain</th>\n",
       "      <th>min_gain</th>\n",
       "      <th>max_gain</th>\n",
       "      <th>mashort</th>\n",
       "      <th>malong</th>\n",
       "    </tr>\n",
       "  </thead>\n",
       "  <tbody>\n",
       "    <tr>\n",
       "      <th>0</th>\n",
       "      <td>GBP_USD</td>\n",
       "      <td>156</td>\n",
       "      <td>-171.5</td>\n",
       "      <td>-1.099359</td>\n",
       "      <td>-222.7</td>\n",
       "      <td>507.4</td>\n",
       "      <td>8</td>\n",
       "      <td>32</td>\n",
       "    </tr>\n",
       "    <tr>\n",
       "      <th>1</th>\n",
       "      <td>GBP_USD</td>\n",
       "      <td>138</td>\n",
       "      <td>344.2</td>\n",
       "      <td>2.494203</td>\n",
       "      <td>-242.7</td>\n",
       "      <td>492.7</td>\n",
       "      <td>16</td>\n",
       "      <td>32</td>\n",
       "    </tr>\n",
       "    <tr>\n",
       "      <th>2</th>\n",
       "      <td>GBP_USD</td>\n",
       "      <td>112</td>\n",
       "      <td>-445.1</td>\n",
       "      <td>-3.974107</td>\n",
       "      <td>-246.8</td>\n",
       "      <td>465.2</td>\n",
       "      <td>8</td>\n",
       "      <td>64</td>\n",
       "    </tr>\n",
       "    <tr>\n",
       "      <th>3</th>\n",
       "      <td>GBP_USD</td>\n",
       "      <td>88</td>\n",
       "      <td>-515.7</td>\n",
       "      <td>-5.860227</td>\n",
       "      <td>-305.7</td>\n",
       "      <td>459.8</td>\n",
       "      <td>16</td>\n",
       "      <td>64</td>\n",
       "    </tr>\n",
       "    <tr>\n",
       "      <th>4</th>\n",
       "      <td>GBP_USD</td>\n",
       "      <td>66</td>\n",
       "      <td>-0.3</td>\n",
       "      <td>-0.004545</td>\n",
       "      <td>-259.8</td>\n",
       "      <td>440.9</td>\n",
       "      <td>32</td>\n",
       "      <td>64</td>\n",
       "    </tr>\n",
       "  </tbody>\n",
       "</table>\n",
       "</div>"
      ],
      "text/plain": [
       "      pair  num_trades  total_gain  mean_gain  min_gain  max_gain  mashort  \\\n",
       "0  GBP_USD         156      -171.5  -1.099359    -222.7     507.4        8   \n",
       "1  GBP_USD         138       344.2   2.494203    -242.7     492.7       16   \n",
       "2  GBP_USD         112      -445.1  -3.974107    -246.8     465.2        8   \n",
       "3  GBP_USD          88      -515.7  -5.860227    -305.7     459.8       16   \n",
       "4  GBP_USD          66        -0.3  -0.004545    -259.8     440.9       32   \n",
       "\n",
       "   malong  \n",
       "0      32  \n",
       "1      32  \n",
       "2      64  \n",
       "3      64  \n",
       "4      64  "
      ]
     },
     "execution_count": 5,
     "metadata": {},
     "output_type": "execute_result"
    }
   ],
   "source": [
    "ma_test_result.head()"
   ]
  },
  {
   "cell_type": "code",
   "execution_count": 8,
   "metadata": {},
   "outputs": [],
   "source": [
    "ma_test_result = ma_test_result[['pair', 'num_trades', 'total_gain', 'mashort', 'malong']]"
   ]
  },
  {
   "cell_type": "code",
   "execution_count": 9,
   "metadata": {},
   "outputs": [
    {
     "data": {
      "text/html": [
       "<div>\n",
       "<style scoped>\n",
       "    .dataframe tbody tr th:only-of-type {\n",
       "        vertical-align: middle;\n",
       "    }\n",
       "\n",
       "    .dataframe tbody tr th {\n",
       "        vertical-align: top;\n",
       "    }\n",
       "\n",
       "    .dataframe thead th {\n",
       "        text-align: right;\n",
       "    }\n",
       "</style>\n",
       "<table border=\"1\" class=\"dataframe\">\n",
       "  <thead>\n",
       "    <tr style=\"text-align: right;\">\n",
       "      <th></th>\n",
       "      <th>pair</th>\n",
       "      <th>num_trades</th>\n",
       "      <th>total_gain</th>\n",
       "      <th>mashort</th>\n",
       "      <th>malong</th>\n",
       "    </tr>\n",
       "  </thead>\n",
       "  <tbody>\n",
       "    <tr>\n",
       "      <th>0</th>\n",
       "      <td>GBP_USD</td>\n",
       "      <td>156</td>\n",
       "      <td>-171.5</td>\n",
       "      <td>8</td>\n",
       "      <td>32</td>\n",
       "    </tr>\n",
       "    <tr>\n",
       "      <th>1</th>\n",
       "      <td>GBP_USD</td>\n",
       "      <td>138</td>\n",
       "      <td>344.2</td>\n",
       "      <td>16</td>\n",
       "      <td>32</td>\n",
       "    </tr>\n",
       "    <tr>\n",
       "      <th>2</th>\n",
       "      <td>GBP_USD</td>\n",
       "      <td>112</td>\n",
       "      <td>-445.1</td>\n",
       "      <td>8</td>\n",
       "      <td>64</td>\n",
       "    </tr>\n",
       "    <tr>\n",
       "      <th>3</th>\n",
       "      <td>GBP_USD</td>\n",
       "      <td>88</td>\n",
       "      <td>-515.7</td>\n",
       "      <td>16</td>\n",
       "      <td>64</td>\n",
       "    </tr>\n",
       "    <tr>\n",
       "      <th>4</th>\n",
       "      <td>GBP_USD</td>\n",
       "      <td>66</td>\n",
       "      <td>-0.3</td>\n",
       "      <td>32</td>\n",
       "      <td>64</td>\n",
       "    </tr>\n",
       "  </tbody>\n",
       "</table>\n",
       "</div>"
      ],
      "text/plain": [
       "      pair  num_trades  total_gain  mashort  malong\n",
       "0  GBP_USD         156      -171.5        8      32\n",
       "1  GBP_USD         138       344.2       16      32\n",
       "2  GBP_USD         112      -445.1        8      64\n",
       "3  GBP_USD          88      -515.7       16      64\n",
       "4  GBP_USD          66        -0.3       32      64"
      ]
     },
     "execution_count": 9,
     "metadata": {},
     "output_type": "execute_result"
    }
   ],
   "source": [
    "ma_test_result.head()"
   ]
  },
  {
   "cell_type": "code",
   "execution_count": 10,
   "metadata": {},
   "outputs": [],
   "source": [
    "ma_test_result['cross'] = 'ma_' + ma_test_result.mashort.map(str) + '_' + ma_test_result.malong.map(str)"
   ]
  },
  {
   "cell_type": "code",
   "execution_count": 11,
   "metadata": {},
   "outputs": [
    {
     "data": {
      "text/html": [
       "<div>\n",
       "<style scoped>\n",
       "    .dataframe tbody tr th:only-of-type {\n",
       "        vertical-align: middle;\n",
       "    }\n",
       "\n",
       "    .dataframe tbody tr th {\n",
       "        vertical-align: top;\n",
       "    }\n",
       "\n",
       "    .dataframe thead th {\n",
       "        text-align: right;\n",
       "    }\n",
       "</style>\n",
       "<table border=\"1\" class=\"dataframe\">\n",
       "  <thead>\n",
       "    <tr style=\"text-align: right;\">\n",
       "      <th></th>\n",
       "      <th>pair</th>\n",
       "      <th>num_trades</th>\n",
       "      <th>total_gain</th>\n",
       "      <th>mashort</th>\n",
       "      <th>malong</th>\n",
       "      <th>cross</th>\n",
       "    </tr>\n",
       "  </thead>\n",
       "  <tbody>\n",
       "    <tr>\n",
       "      <th>0</th>\n",
       "      <td>GBP_USD</td>\n",
       "      <td>156</td>\n",
       "      <td>-171.5</td>\n",
       "      <td>8</td>\n",
       "      <td>32</td>\n",
       "      <td>ma_8_32</td>\n",
       "    </tr>\n",
       "    <tr>\n",
       "      <th>1</th>\n",
       "      <td>GBP_USD</td>\n",
       "      <td>138</td>\n",
       "      <td>344.2</td>\n",
       "      <td>16</td>\n",
       "      <td>32</td>\n",
       "      <td>ma_16_32</td>\n",
       "    </tr>\n",
       "    <tr>\n",
       "      <th>2</th>\n",
       "      <td>GBP_USD</td>\n",
       "      <td>112</td>\n",
       "      <td>-445.1</td>\n",
       "      <td>8</td>\n",
       "      <td>64</td>\n",
       "      <td>ma_8_64</td>\n",
       "    </tr>\n",
       "    <tr>\n",
       "      <th>3</th>\n",
       "      <td>GBP_USD</td>\n",
       "      <td>88</td>\n",
       "      <td>-515.7</td>\n",
       "      <td>16</td>\n",
       "      <td>64</td>\n",
       "      <td>ma_16_64</td>\n",
       "    </tr>\n",
       "    <tr>\n",
       "      <th>4</th>\n",
       "      <td>GBP_USD</td>\n",
       "      <td>66</td>\n",
       "      <td>-0.3</td>\n",
       "      <td>32</td>\n",
       "      <td>64</td>\n",
       "      <td>ma_32_64</td>\n",
       "    </tr>\n",
       "  </tbody>\n",
       "</table>\n",
       "</div>"
      ],
      "text/plain": [
       "      pair  num_trades  total_gain  mashort  malong     cross\n",
       "0  GBP_USD         156      -171.5        8      32   ma_8_32\n",
       "1  GBP_USD         138       344.2       16      32  ma_16_32\n",
       "2  GBP_USD         112      -445.1        8      64   ma_8_64\n",
       "3  GBP_USD          88      -515.7       16      64  ma_16_64\n",
       "4  GBP_USD          66        -0.3       32      64  ma_32_64"
      ]
     },
     "execution_count": 11,
     "metadata": {},
     "output_type": "execute_result"
    }
   ],
   "source": [
    "ma_test_result.head()"
   ]
  },
  {
   "cell_type": "code",
   "execution_count": 12,
   "metadata": {},
   "outputs": [],
   "source": [
    "df_all_gains = ma_test_result.groupby(by=['cross', 'mashort', 'malong'], as_index=False).sum()"
   ]
  },
  {
   "cell_type": "code",
   "execution_count": 13,
   "metadata": {},
   "outputs": [
    {
     "data": {
      "text/html": [
       "<div>\n",
       "<style scoped>\n",
       "    .dataframe tbody tr th:only-of-type {\n",
       "        vertical-align: middle;\n",
       "    }\n",
       "\n",
       "    .dataframe tbody tr th {\n",
       "        vertical-align: top;\n",
       "    }\n",
       "\n",
       "    .dataframe thead th {\n",
       "        text-align: right;\n",
       "    }\n",
       "</style>\n",
       "<table border=\"1\" class=\"dataframe\">\n",
       "  <thead>\n",
       "    <tr style=\"text-align: right;\">\n",
       "      <th></th>\n",
       "      <th>cross</th>\n",
       "      <th>mashort</th>\n",
       "      <th>malong</th>\n",
       "      <th>num_trades</th>\n",
       "      <th>total_gain</th>\n",
       "    </tr>\n",
       "  </thead>\n",
       "  <tbody>\n",
       "    <tr>\n",
       "      <th>0</th>\n",
       "      <td>ma_16_128</td>\n",
       "      <td>16</td>\n",
       "      <td>128</td>\n",
       "      <td>985</td>\n",
       "      <td>4322.9</td>\n",
       "    </tr>\n",
       "    <tr>\n",
       "      <th>1</th>\n",
       "      <td>ma_16_256</td>\n",
       "      <td>16</td>\n",
       "      <td>256</td>\n",
       "      <td>632</td>\n",
       "      <td>-386.9</td>\n",
       "    </tr>\n",
       "    <tr>\n",
       "      <th>2</th>\n",
       "      <td>ma_16_32</td>\n",
       "      <td>16</td>\n",
       "      <td>32</td>\n",
       "      <td>2740</td>\n",
       "      <td>5775.4</td>\n",
       "    </tr>\n",
       "    <tr>\n",
       "      <th>3</th>\n",
       "      <td>ma_16_64</td>\n",
       "      <td>16</td>\n",
       "      <td>64</td>\n",
       "      <td>1564</td>\n",
       "      <td>4150.6</td>\n",
       "    </tr>\n",
       "    <tr>\n",
       "      <th>4</th>\n",
       "      <td>ma_16_96</td>\n",
       "      <td>16</td>\n",
       "      <td>96</td>\n",
       "      <td>1200</td>\n",
       "      <td>4856.8</td>\n",
       "    </tr>\n",
       "  </tbody>\n",
       "</table>\n",
       "</div>"
      ],
      "text/plain": [
       "       cross  mashort  malong  num_trades  total_gain\n",
       "0  ma_16_128       16     128         985      4322.9\n",
       "1  ma_16_256       16     256         632      -386.9\n",
       "2   ma_16_32       16      32        2740      5775.4\n",
       "3   ma_16_64       16      64        1564      4150.6\n",
       "4   ma_16_96       16      96        1200      4856.8"
      ]
     },
     "execution_count": 13,
     "metadata": {},
     "output_type": "execute_result"
    }
   ],
   "source": [
    "df_all_gains.head()"
   ]
  },
  {
   "cell_type": "code",
   "execution_count": 14,
   "metadata": {},
   "outputs": [],
   "source": [
    "df_all_gains.sort_values(by='total_gain', ascending=False, inplace=True)"
   ]
  },
  {
   "cell_type": "code",
   "execution_count": 15,
   "metadata": {},
   "outputs": [
    {
     "data": {
      "text/html": [
       "<div>\n",
       "<style scoped>\n",
       "    .dataframe tbody tr th:only-of-type {\n",
       "        vertical-align: middle;\n",
       "    }\n",
       "\n",
       "    .dataframe tbody tr th {\n",
       "        vertical-align: top;\n",
       "    }\n",
       "\n",
       "    .dataframe thead th {\n",
       "        text-align: right;\n",
       "    }\n",
       "</style>\n",
       "<table border=\"1\" class=\"dataframe\">\n",
       "  <thead>\n",
       "    <tr style=\"text-align: right;\">\n",
       "      <th></th>\n",
       "      <th>cross</th>\n",
       "      <th>mashort</th>\n",
       "      <th>malong</th>\n",
       "      <th>num_trades</th>\n",
       "      <th>total_gain</th>\n",
       "    </tr>\n",
       "  </thead>\n",
       "  <tbody>\n",
       "    <tr>\n",
       "      <th>14</th>\n",
       "      <td>ma_8_32</td>\n",
       "      <td>8</td>\n",
       "      <td>32</td>\n",
       "      <td>3110</td>\n",
       "      <td>8059.7</td>\n",
       "    </tr>\n",
       "    <tr>\n",
       "      <th>9</th>\n",
       "      <td>ma_64_128</td>\n",
       "      <td>64</td>\n",
       "      <td>128</td>\n",
       "      <td>642</td>\n",
       "      <td>6519.3</td>\n",
       "    </tr>\n",
       "    <tr>\n",
       "      <th>5</th>\n",
       "      <td>ma_32_128</td>\n",
       "      <td>32</td>\n",
       "      <td>128</td>\n",
       "      <td>762</td>\n",
       "      <td>6012.9</td>\n",
       "    </tr>\n",
       "    <tr>\n",
       "      <th>7</th>\n",
       "      <td>ma_32_64</td>\n",
       "      <td>32</td>\n",
       "      <td>64</td>\n",
       "      <td>1351</td>\n",
       "      <td>5898.8</td>\n",
       "    </tr>\n",
       "    <tr>\n",
       "      <th>2</th>\n",
       "      <td>ma_16_32</td>\n",
       "      <td>16</td>\n",
       "      <td>32</td>\n",
       "      <td>2740</td>\n",
       "      <td>5775.4</td>\n",
       "    </tr>\n",
       "  </tbody>\n",
       "</table>\n",
       "</div>"
      ],
      "text/plain": [
       "        cross  mashort  malong  num_trades  total_gain\n",
       "14    ma_8_32        8      32        3110      8059.7\n",
       "9   ma_64_128       64     128         642      6519.3\n",
       "5   ma_32_128       32     128         762      6012.9\n",
       "7    ma_32_64       32      64        1351      5898.8\n",
       "2    ma_16_32       16      32        2740      5775.4"
      ]
     },
     "execution_count": 15,
     "metadata": {},
     "output_type": "execute_result"
    }
   ],
   "source": [
    "df_all_gains.head()"
   ]
  },
  {
   "cell_type": "code",
   "execution_count": 16,
   "metadata": {},
   "outputs": [],
   "source": [
    "ma_8_32 = ma_test_result[ma_test_result.cross=='ma_8_32'].copy()"
   ]
  },
  {
   "cell_type": "code",
   "execution_count": 17,
   "metadata": {},
   "outputs": [],
   "source": [
    "ma_8_32.sort_values(by='total_gain', ascending=False, inplace=True)"
   ]
  },
  {
   "cell_type": "code",
   "execution_count": 18,
   "metadata": {},
   "outputs": [
    {
     "data": {
      "text/html": [
       "<div>\n",
       "<style scoped>\n",
       "    .dataframe tbody tr th:only-of-type {\n",
       "        vertical-align: middle;\n",
       "    }\n",
       "\n",
       "    .dataframe tbody tr th {\n",
       "        vertical-align: top;\n",
       "    }\n",
       "\n",
       "    .dataframe thead th {\n",
       "        text-align: right;\n",
       "    }\n",
       "</style>\n",
       "<table border=\"1\" class=\"dataframe\">\n",
       "  <thead>\n",
       "    <tr style=\"text-align: right;\">\n",
       "      <th></th>\n",
       "      <th>pair</th>\n",
       "      <th>num_trades</th>\n",
       "      <th>total_gain</th>\n",
       "      <th>mashort</th>\n",
       "      <th>malong</th>\n",
       "      <th>cross</th>\n",
       "    </tr>\n",
       "  </thead>\n",
       "  <tbody>\n",
       "    <tr>\n",
       "      <th>136</th>\n",
       "      <td>EUR_JPY</td>\n",
       "      <td>147</td>\n",
       "      <td>2385.8</td>\n",
       "      <td>8</td>\n",
       "      <td>32</td>\n",
       "      <td>ma_8_32</td>\n",
       "    </tr>\n",
       "    <tr>\n",
       "      <th>204</th>\n",
       "      <td>USD_JPY</td>\n",
       "      <td>134</td>\n",
       "      <td>2312.1</td>\n",
       "      <td>8</td>\n",
       "      <td>32</td>\n",
       "      <td>ma_8_32</td>\n",
       "    </tr>\n",
       "    <tr>\n",
       "      <th>340</th>\n",
       "      <td>CHF_JPY</td>\n",
       "      <td>143</td>\n",
       "      <td>1983.2</td>\n",
       "      <td>8</td>\n",
       "      <td>32</td>\n",
       "      <td>ma_8_32</td>\n",
       "    </tr>\n",
       "    <tr>\n",
       "      <th>238</th>\n",
       "      <td>CAD_JPY</td>\n",
       "      <td>139</td>\n",
       "      <td>1300.8</td>\n",
       "      <td>8</td>\n",
       "      <td>32</td>\n",
       "      <td>ma_8_32</td>\n",
       "    </tr>\n",
       "    <tr>\n",
       "      <th>119</th>\n",
       "      <td>EUR_CAD</td>\n",
       "      <td>136</td>\n",
       "      <td>1158.9</td>\n",
       "      <td>8</td>\n",
       "      <td>32</td>\n",
       "      <td>ma_8_32</td>\n",
       "    </tr>\n",
       "    <tr>\n",
       "      <th>34</th>\n",
       "      <td>GBP_JPY</td>\n",
       "      <td>157</td>\n",
       "      <td>830.2</td>\n",
       "      <td>8</td>\n",
       "      <td>32</td>\n",
       "      <td>ma_8_32</td>\n",
       "    </tr>\n",
       "    <tr>\n",
       "      <th>102</th>\n",
       "      <td>EUR_USD</td>\n",
       "      <td>138</td>\n",
       "      <td>718.6</td>\n",
       "      <td>8</td>\n",
       "      <td>32</td>\n",
       "      <td>ma_8_32</td>\n",
       "    </tr>\n",
       "    <tr>\n",
       "      <th>306</th>\n",
       "      <td>NZD_JPY</td>\n",
       "      <td>147</td>\n",
       "      <td>568.9</td>\n",
       "      <td>8</td>\n",
       "      <td>32</td>\n",
       "      <td>ma_8_32</td>\n",
       "    </tr>\n",
       "    <tr>\n",
       "      <th>170</th>\n",
       "      <td>EUR_CHF</td>\n",
       "      <td>145</td>\n",
       "      <td>426.3</td>\n",
       "      <td>8</td>\n",
       "      <td>32</td>\n",
       "      <td>ma_8_32</td>\n",
       "    </tr>\n",
       "    <tr>\n",
       "      <th>153</th>\n",
       "      <td>EUR_NZD</td>\n",
       "      <td>143</td>\n",
       "      <td>420.3</td>\n",
       "      <td>8</td>\n",
       "      <td>32</td>\n",
       "      <td>ma_8_32</td>\n",
       "    </tr>\n",
       "    <tr>\n",
       "      <th>221</th>\n",
       "      <td>USD_CHF</td>\n",
       "      <td>154</td>\n",
       "      <td>324.3</td>\n",
       "      <td>8</td>\n",
       "      <td>32</td>\n",
       "      <td>ma_8_32</td>\n",
       "    </tr>\n",
       "    <tr>\n",
       "      <th>289</th>\n",
       "      <td>NZD_CAD</td>\n",
       "      <td>137</td>\n",
       "      <td>297.6</td>\n",
       "      <td>8</td>\n",
       "      <td>32</td>\n",
       "      <td>ma_8_32</td>\n",
       "    </tr>\n",
       "    <tr>\n",
       "      <th>68</th>\n",
       "      <td>GBP_CHF</td>\n",
       "      <td>154</td>\n",
       "      <td>176.8</td>\n",
       "      <td>8</td>\n",
       "      <td>32</td>\n",
       "      <td>ma_8_32</td>\n",
       "    </tr>\n",
       "    <tr>\n",
       "      <th>187</th>\n",
       "      <td>USD_CAD</td>\n",
       "      <td>150</td>\n",
       "      <td>-96.4</td>\n",
       "      <td>8</td>\n",
       "      <td>32</td>\n",
       "      <td>ma_8_32</td>\n",
       "    </tr>\n",
       "    <tr>\n",
       "      <th>0</th>\n",
       "      <td>GBP_USD</td>\n",
       "      <td>156</td>\n",
       "      <td>-171.5</td>\n",
       "      <td>8</td>\n",
       "      <td>32</td>\n",
       "      <td>ma_8_32</td>\n",
       "    </tr>\n",
       "    <tr>\n",
       "      <th>255</th>\n",
       "      <td>CAD_CHF</td>\n",
       "      <td>142</td>\n",
       "      <td>-175.6</td>\n",
       "      <td>8</td>\n",
       "      <td>32</td>\n",
       "      <td>ma_8_32</td>\n",
       "    </tr>\n",
       "    <tr>\n",
       "      <th>272</th>\n",
       "      <td>NZD_USD</td>\n",
       "      <td>146</td>\n",
       "      <td>-340.3</td>\n",
       "      <td>8</td>\n",
       "      <td>32</td>\n",
       "      <td>ma_8_32</td>\n",
       "    </tr>\n",
       "    <tr>\n",
       "      <th>17</th>\n",
       "      <td>GBP_CAD</td>\n",
       "      <td>161</td>\n",
       "      <td>-522.2</td>\n",
       "      <td>8</td>\n",
       "      <td>32</td>\n",
       "      <td>ma_8_32</td>\n",
       "    </tr>\n",
       "    <tr>\n",
       "      <th>85</th>\n",
       "      <td>EUR_GBP</td>\n",
       "      <td>151</td>\n",
       "      <td>-703.2</td>\n",
       "      <td>8</td>\n",
       "      <td>32</td>\n",
       "      <td>ma_8_32</td>\n",
       "    </tr>\n",
       "    <tr>\n",
       "      <th>323</th>\n",
       "      <td>NZD_CHF</td>\n",
       "      <td>160</td>\n",
       "      <td>-1002.0</td>\n",
       "      <td>8</td>\n",
       "      <td>32</td>\n",
       "      <td>ma_8_32</td>\n",
       "    </tr>\n",
       "    <tr>\n",
       "      <th>51</th>\n",
       "      <td>GBP_NZD</td>\n",
       "      <td>170</td>\n",
       "      <td>-1832.9</td>\n",
       "      <td>8</td>\n",
       "      <td>32</td>\n",
       "      <td>ma_8_32</td>\n",
       "    </tr>\n",
       "  </tbody>\n",
       "</table>\n",
       "</div>"
      ],
      "text/plain": [
       "        pair  num_trades  total_gain  mashort  malong    cross\n",
       "136  EUR_JPY         147      2385.8        8      32  ma_8_32\n",
       "204  USD_JPY         134      2312.1        8      32  ma_8_32\n",
       "340  CHF_JPY         143      1983.2        8      32  ma_8_32\n",
       "238  CAD_JPY         139      1300.8        8      32  ma_8_32\n",
       "119  EUR_CAD         136      1158.9        8      32  ma_8_32\n",
       "34   GBP_JPY         157       830.2        8      32  ma_8_32\n",
       "102  EUR_USD         138       718.6        8      32  ma_8_32\n",
       "306  NZD_JPY         147       568.9        8      32  ma_8_32\n",
       "170  EUR_CHF         145       426.3        8      32  ma_8_32\n",
       "153  EUR_NZD         143       420.3        8      32  ma_8_32\n",
       "221  USD_CHF         154       324.3        8      32  ma_8_32\n",
       "289  NZD_CAD         137       297.6        8      32  ma_8_32\n",
       "68   GBP_CHF         154       176.8        8      32  ma_8_32\n",
       "187  USD_CAD         150       -96.4        8      32  ma_8_32\n",
       "0    GBP_USD         156      -171.5        8      32  ma_8_32\n",
       "255  CAD_CHF         142      -175.6        8      32  ma_8_32\n",
       "272  NZD_USD         146      -340.3        8      32  ma_8_32\n",
       "17   GBP_CAD         161      -522.2        8      32  ma_8_32\n",
       "85   EUR_GBP         151      -703.2        8      32  ma_8_32\n",
       "323  NZD_CHF         160     -1002.0        8      32  ma_8_32\n",
       "51   GBP_NZD         170     -1832.9        8      32  ma_8_32"
      ]
     },
     "execution_count": 18,
     "metadata": {},
     "output_type": "execute_result"
    }
   ],
   "source": [
    "ma_8_32"
   ]
  },
  {
   "cell_type": "code",
   "execution_count": 19,
   "metadata": {},
   "outputs": [
    {
     "data": {
      "text/plain": [
       "21"
      ]
     },
     "execution_count": 19,
     "metadata": {},
     "output_type": "execute_result"
    }
   ],
   "source": [
    "total_p = len(ma_8_32.pair.unique())\n",
    "total_p"
   ]
  },
  {
   "cell_type": "code",
   "execution_count": 20,
   "metadata": {},
   "outputs": [
    {
     "data": {
      "text/plain": [
       "13"
      ]
     },
     "execution_count": 20,
     "metadata": {},
     "output_type": "execute_result"
    }
   ],
   "source": [
    "ma_8_32[ma_8_32.total_gain>0].shape[0]"
   ]
  },
  {
   "cell_type": "code",
   "execution_count": 21,
   "metadata": {},
   "outputs": [
    {
     "name": "stdout",
     "output_type": "stream",
     "text": [
      "ma_8_32        13   62%\n",
      "ma_64_128      14   67%\n",
      "ma_32_128      14   67%\n",
      "ma_32_64       12   57%\n",
      "ma_16_32       12   57%\n",
      "ma_32_96       14   67%\n",
      "ma_16_96       14   67%\n",
      "ma_16_128      11   52%\n",
      "ma_16_64       11   52%\n",
      "ma_64_256      13   62%\n",
      "ma_8_64         9   43%\n",
      "ma_8_96        10   48%\n",
      "ma_32_256      11   52%\n",
      "ma_64_96       11   52%\n",
      "ma_8_128        9   43%\n",
      "ma_8_256       11   52%\n",
      "ma_16_256      11   52%\n"
     ]
    }
   ],
   "source": [
    "for cross in df_all_gains.cross.unique():\n",
    "    df_temp = ma_test_result[ma_test_result.cross==cross]\n",
    "    total_p = df_temp.shape[0]\n",
    "    n_good = df_temp[df_temp.total_gain>0].shape[0]\n",
    "    print(f\"{cross:12} {n_good:4} {(n_good/total_p)*100:4.0f}%\")"
   ]
  },
  {
   "cell_type": "code",
   "execution_count": 22,
   "metadata": {},
   "outputs": [],
   "source": [
    "crosses = df_all_gains.cross.unique()[:3]"
   ]
  },
  {
   "cell_type": "code",
   "execution_count": 23,
   "metadata": {},
   "outputs": [
    {
     "data": {
      "text/plain": [
       "array(['ma_8_32', 'ma_64_128', 'ma_32_128'], dtype=object)"
      ]
     },
     "execution_count": 23,
     "metadata": {},
     "output_type": "execute_result"
    }
   ],
   "source": [
    "crosses"
   ]
  },
  {
   "cell_type": "code",
   "execution_count": 24,
   "metadata": {},
   "outputs": [
    {
     "data": {
      "text/html": [
       "<div>\n",
       "<style scoped>\n",
       "    .dataframe tbody tr th:only-of-type {\n",
       "        vertical-align: middle;\n",
       "    }\n",
       "\n",
       "    .dataframe tbody tr th {\n",
       "        vertical-align: top;\n",
       "    }\n",
       "\n",
       "    .dataframe thead th {\n",
       "        text-align: right;\n",
       "    }\n",
       "</style>\n",
       "<table border=\"1\" class=\"dataframe\">\n",
       "  <thead>\n",
       "    <tr style=\"text-align: right;\">\n",
       "      <th></th>\n",
       "      <th>pair</th>\n",
       "      <th>num_trades</th>\n",
       "      <th>total_gain</th>\n",
       "      <th>mashort</th>\n",
       "      <th>malong</th>\n",
       "      <th>cross</th>\n",
       "    </tr>\n",
       "  </thead>\n",
       "  <tbody>\n",
       "    <tr>\n",
       "      <th>0</th>\n",
       "      <td>GBP_USD</td>\n",
       "      <td>156</td>\n",
       "      <td>-171.5</td>\n",
       "      <td>8</td>\n",
       "      <td>32</td>\n",
       "      <td>ma_8_32</td>\n",
       "    </tr>\n",
       "    <tr>\n",
       "      <th>1</th>\n",
       "      <td>GBP_USD</td>\n",
       "      <td>138</td>\n",
       "      <td>344.2</td>\n",
       "      <td>16</td>\n",
       "      <td>32</td>\n",
       "      <td>ma_16_32</td>\n",
       "    </tr>\n",
       "    <tr>\n",
       "      <th>2</th>\n",
       "      <td>GBP_USD</td>\n",
       "      <td>112</td>\n",
       "      <td>-445.1</td>\n",
       "      <td>8</td>\n",
       "      <td>64</td>\n",
       "      <td>ma_8_64</td>\n",
       "    </tr>\n",
       "    <tr>\n",
       "      <th>3</th>\n",
       "      <td>GBP_USD</td>\n",
       "      <td>88</td>\n",
       "      <td>-515.7</td>\n",
       "      <td>16</td>\n",
       "      <td>64</td>\n",
       "      <td>ma_16_64</td>\n",
       "    </tr>\n",
       "    <tr>\n",
       "      <th>4</th>\n",
       "      <td>GBP_USD</td>\n",
       "      <td>66</td>\n",
       "      <td>-0.3</td>\n",
       "      <td>32</td>\n",
       "      <td>64</td>\n",
       "      <td>ma_32_64</td>\n",
       "    </tr>\n",
       "  </tbody>\n",
       "</table>\n",
       "</div>"
      ],
      "text/plain": [
       "      pair  num_trades  total_gain  mashort  malong     cross\n",
       "0  GBP_USD         156      -171.5        8      32   ma_8_32\n",
       "1  GBP_USD         138       344.2       16      32  ma_16_32\n",
       "2  GBP_USD         112      -445.1        8      64   ma_8_64\n",
       "3  GBP_USD          88      -515.7       16      64  ma_16_64\n",
       "4  GBP_USD          66        -0.3       32      64  ma_32_64"
      ]
     },
     "execution_count": 24,
     "metadata": {},
     "output_type": "execute_result"
    }
   ],
   "source": [
    "ma_test_result.head()"
   ]
  },
  {
   "cell_type": "code",
   "execution_count": 25,
   "metadata": {},
   "outputs": [],
   "source": [
    "df_good = ma_test_result[(ma_test_result.cross.isin(crosses))&(ma_test_result.total_gain>0)].copy()"
   ]
  },
  {
   "cell_type": "code",
   "execution_count": 26,
   "metadata": {},
   "outputs": [
    {
     "data": {
      "text/html": [
       "<div>\n",
       "<style scoped>\n",
       "    .dataframe tbody tr th:only-of-type {\n",
       "        vertical-align: middle;\n",
       "    }\n",
       "\n",
       "    .dataframe tbody tr th {\n",
       "        vertical-align: top;\n",
       "    }\n",
       "\n",
       "    .dataframe thead th {\n",
       "        text-align: right;\n",
       "    }\n",
       "</style>\n",
       "<table border=\"1\" class=\"dataframe\">\n",
       "  <thead>\n",
       "    <tr style=\"text-align: right;\">\n",
       "      <th></th>\n",
       "      <th>pair</th>\n",
       "      <th>num_trades</th>\n",
       "      <th>total_gain</th>\n",
       "      <th>mashort</th>\n",
       "      <th>malong</th>\n",
       "      <th>cross</th>\n",
       "    </tr>\n",
       "  </thead>\n",
       "  <tbody>\n",
       "    <tr>\n",
       "      <th>11</th>\n",
       "      <td>GBP_USD</td>\n",
       "      <td>30</td>\n",
       "      <td>311.6</td>\n",
       "      <td>32</td>\n",
       "      <td>128</td>\n",
       "      <td>ma_32_128</td>\n",
       "    </tr>\n",
       "    <tr>\n",
       "      <th>12</th>\n",
       "      <td>GBP_USD</td>\n",
       "      <td>36</td>\n",
       "      <td>498.7</td>\n",
       "      <td>64</td>\n",
       "      <td>128</td>\n",
       "      <td>ma_64_128</td>\n",
       "    </tr>\n",
       "    <tr>\n",
       "      <th>34</th>\n",
       "      <td>GBP_JPY</td>\n",
       "      <td>157</td>\n",
       "      <td>830.2</td>\n",
       "      <td>8</td>\n",
       "      <td>32</td>\n",
       "      <td>ma_8_32</td>\n",
       "    </tr>\n",
       "    <tr>\n",
       "      <th>45</th>\n",
       "      <td>GBP_JPY</td>\n",
       "      <td>34</td>\n",
       "      <td>1436.3</td>\n",
       "      <td>32</td>\n",
       "      <td>128</td>\n",
       "      <td>ma_32_128</td>\n",
       "    </tr>\n",
       "    <tr>\n",
       "      <th>46</th>\n",
       "      <td>GBP_JPY</td>\n",
       "      <td>30</td>\n",
       "      <td>960.8</td>\n",
       "      <td>64</td>\n",
       "      <td>128</td>\n",
       "      <td>ma_64_128</td>\n",
       "    </tr>\n",
       "    <tr>\n",
       "      <th>68</th>\n",
       "      <td>GBP_CHF</td>\n",
       "      <td>154</td>\n",
       "      <td>176.8</td>\n",
       "      <td>8</td>\n",
       "      <td>32</td>\n",
       "      <td>ma_8_32</td>\n",
       "    </tr>\n",
       "    <tr>\n",
       "      <th>97</th>\n",
       "      <td>EUR_GBP</td>\n",
       "      <td>34</td>\n",
       "      <td>200.8</td>\n",
       "      <td>64</td>\n",
       "      <td>128</td>\n",
       "      <td>ma_64_128</td>\n",
       "    </tr>\n",
       "    <tr>\n",
       "      <th>102</th>\n",
       "      <td>EUR_USD</td>\n",
       "      <td>138</td>\n",
       "      <td>718.6</td>\n",
       "      <td>8</td>\n",
       "      <td>32</td>\n",
       "      <td>ma_8_32</td>\n",
       "    </tr>\n",
       "    <tr>\n",
       "      <th>113</th>\n",
       "      <td>EUR_USD</td>\n",
       "      <td>41</td>\n",
       "      <td>710.7</td>\n",
       "      <td>32</td>\n",
       "      <td>128</td>\n",
       "      <td>ma_32_128</td>\n",
       "    </tr>\n",
       "    <tr>\n",
       "      <th>114</th>\n",
       "      <td>EUR_USD</td>\n",
       "      <td>27</td>\n",
       "      <td>766.9</td>\n",
       "      <td>64</td>\n",
       "      <td>128</td>\n",
       "      <td>ma_64_128</td>\n",
       "    </tr>\n",
       "    <tr>\n",
       "      <th>119</th>\n",
       "      <td>EUR_CAD</td>\n",
       "      <td>136</td>\n",
       "      <td>1158.9</td>\n",
       "      <td>8</td>\n",
       "      <td>32</td>\n",
       "      <td>ma_8_32</td>\n",
       "    </tr>\n",
       "    <tr>\n",
       "      <th>130</th>\n",
       "      <td>EUR_CAD</td>\n",
       "      <td>52</td>\n",
       "      <td>555.9</td>\n",
       "      <td>32</td>\n",
       "      <td>128</td>\n",
       "      <td>ma_32_128</td>\n",
       "    </tr>\n",
       "    <tr>\n",
       "      <th>131</th>\n",
       "      <td>EUR_CAD</td>\n",
       "      <td>41</td>\n",
       "      <td>207.0</td>\n",
       "      <td>64</td>\n",
       "      <td>128</td>\n",
       "      <td>ma_64_128</td>\n",
       "    </tr>\n",
       "    <tr>\n",
       "      <th>136</th>\n",
       "      <td>EUR_JPY</td>\n",
       "      <td>147</td>\n",
       "      <td>2385.8</td>\n",
       "      <td>8</td>\n",
       "      <td>32</td>\n",
       "      <td>ma_8_32</td>\n",
       "    </tr>\n",
       "    <tr>\n",
       "      <th>147</th>\n",
       "      <td>EUR_JPY</td>\n",
       "      <td>25</td>\n",
       "      <td>1717.5</td>\n",
       "      <td>32</td>\n",
       "      <td>128</td>\n",
       "      <td>ma_32_128</td>\n",
       "    </tr>\n",
       "    <tr>\n",
       "      <th>148</th>\n",
       "      <td>EUR_JPY</td>\n",
       "      <td>25</td>\n",
       "      <td>1830.3</td>\n",
       "      <td>64</td>\n",
       "      <td>128</td>\n",
       "      <td>ma_64_128</td>\n",
       "    </tr>\n",
       "    <tr>\n",
       "      <th>153</th>\n",
       "      <td>EUR_NZD</td>\n",
       "      <td>143</td>\n",
       "      <td>420.3</td>\n",
       "      <td>8</td>\n",
       "      <td>32</td>\n",
       "      <td>ma_8_32</td>\n",
       "    </tr>\n",
       "    <tr>\n",
       "      <th>165</th>\n",
       "      <td>EUR_NZD</td>\n",
       "      <td>30</td>\n",
       "      <td>26.4</td>\n",
       "      <td>64</td>\n",
       "      <td>128</td>\n",
       "      <td>ma_64_128</td>\n",
       "    </tr>\n",
       "    <tr>\n",
       "      <th>170</th>\n",
       "      <td>EUR_CHF</td>\n",
       "      <td>145</td>\n",
       "      <td>426.3</td>\n",
       "      <td>8</td>\n",
       "      <td>32</td>\n",
       "      <td>ma_8_32</td>\n",
       "    </tr>\n",
       "    <tr>\n",
       "      <th>181</th>\n",
       "      <td>EUR_CHF</td>\n",
       "      <td>28</td>\n",
       "      <td>459.8</td>\n",
       "      <td>32</td>\n",
       "      <td>128</td>\n",
       "      <td>ma_32_128</td>\n",
       "    </tr>\n",
       "    <tr>\n",
       "      <th>182</th>\n",
       "      <td>EUR_CHF</td>\n",
       "      <td>27</td>\n",
       "      <td>533.9</td>\n",
       "      <td>64</td>\n",
       "      <td>128</td>\n",
       "      <td>ma_64_128</td>\n",
       "    </tr>\n",
       "    <tr>\n",
       "      <th>204</th>\n",
       "      <td>USD_JPY</td>\n",
       "      <td>134</td>\n",
       "      <td>2312.1</td>\n",
       "      <td>8</td>\n",
       "      <td>32</td>\n",
       "      <td>ma_8_32</td>\n",
       "    </tr>\n",
       "    <tr>\n",
       "      <th>215</th>\n",
       "      <td>USD_JPY</td>\n",
       "      <td>38</td>\n",
       "      <td>517.9</td>\n",
       "      <td>32</td>\n",
       "      <td>128</td>\n",
       "      <td>ma_32_128</td>\n",
       "    </tr>\n",
       "    <tr>\n",
       "      <th>216</th>\n",
       "      <td>USD_JPY</td>\n",
       "      <td>30</td>\n",
       "      <td>760.8</td>\n",
       "      <td>64</td>\n",
       "      <td>128</td>\n",
       "      <td>ma_64_128</td>\n",
       "    </tr>\n",
       "    <tr>\n",
       "      <th>221</th>\n",
       "      <td>USD_CHF</td>\n",
       "      <td>154</td>\n",
       "      <td>324.3</td>\n",
       "      <td>8</td>\n",
       "      <td>32</td>\n",
       "      <td>ma_8_32</td>\n",
       "    </tr>\n",
       "    <tr>\n",
       "      <th>232</th>\n",
       "      <td>USD_CHF</td>\n",
       "      <td>30</td>\n",
       "      <td>918.9</td>\n",
       "      <td>32</td>\n",
       "      <td>128</td>\n",
       "      <td>ma_32_128</td>\n",
       "    </tr>\n",
       "    <tr>\n",
       "      <th>233</th>\n",
       "      <td>USD_CHF</td>\n",
       "      <td>22</td>\n",
       "      <td>603.9</td>\n",
       "      <td>64</td>\n",
       "      <td>128</td>\n",
       "      <td>ma_64_128</td>\n",
       "    </tr>\n",
       "    <tr>\n",
       "      <th>238</th>\n",
       "      <td>CAD_JPY</td>\n",
       "      <td>139</td>\n",
       "      <td>1300.8</td>\n",
       "      <td>8</td>\n",
       "      <td>32</td>\n",
       "      <td>ma_8_32</td>\n",
       "    </tr>\n",
       "    <tr>\n",
       "      <th>249</th>\n",
       "      <td>CAD_JPY</td>\n",
       "      <td>31</td>\n",
       "      <td>623.4</td>\n",
       "      <td>32</td>\n",
       "      <td>128</td>\n",
       "      <td>ma_32_128</td>\n",
       "    </tr>\n",
       "    <tr>\n",
       "      <th>266</th>\n",
       "      <td>CAD_CHF</td>\n",
       "      <td>37</td>\n",
       "      <td>149.2</td>\n",
       "      <td>32</td>\n",
       "      <td>128</td>\n",
       "      <td>ma_32_128</td>\n",
       "    </tr>\n",
       "    <tr>\n",
       "      <th>283</th>\n",
       "      <td>NZD_USD</td>\n",
       "      <td>38</td>\n",
       "      <td>116.1</td>\n",
       "      <td>32</td>\n",
       "      <td>128</td>\n",
       "      <td>ma_32_128</td>\n",
       "    </tr>\n",
       "    <tr>\n",
       "      <th>284</th>\n",
       "      <td>NZD_USD</td>\n",
       "      <td>32</td>\n",
       "      <td>312.2</td>\n",
       "      <td>64</td>\n",
       "      <td>128</td>\n",
       "      <td>ma_64_128</td>\n",
       "    </tr>\n",
       "    <tr>\n",
       "      <th>289</th>\n",
       "      <td>NZD_CAD</td>\n",
       "      <td>137</td>\n",
       "      <td>297.6</td>\n",
       "      <td>8</td>\n",
       "      <td>32</td>\n",
       "      <td>ma_8_32</td>\n",
       "    </tr>\n",
       "    <tr>\n",
       "      <th>300</th>\n",
       "      <td>NZD_CAD</td>\n",
       "      <td>34</td>\n",
       "      <td>149.6</td>\n",
       "      <td>32</td>\n",
       "      <td>128</td>\n",
       "      <td>ma_32_128</td>\n",
       "    </tr>\n",
       "    <tr>\n",
       "      <th>301</th>\n",
       "      <td>NZD_CAD</td>\n",
       "      <td>29</td>\n",
       "      <td>610.2</td>\n",
       "      <td>64</td>\n",
       "      <td>128</td>\n",
       "      <td>ma_64_128</td>\n",
       "    </tr>\n",
       "    <tr>\n",
       "      <th>306</th>\n",
       "      <td>NZD_JPY</td>\n",
       "      <td>147</td>\n",
       "      <td>568.9</td>\n",
       "      <td>8</td>\n",
       "      <td>32</td>\n",
       "      <td>ma_8_32</td>\n",
       "    </tr>\n",
       "    <tr>\n",
       "      <th>317</th>\n",
       "      <td>NZD_JPY</td>\n",
       "      <td>34</td>\n",
       "      <td>639.2</td>\n",
       "      <td>32</td>\n",
       "      <td>128</td>\n",
       "      <td>ma_32_128</td>\n",
       "    </tr>\n",
       "    <tr>\n",
       "      <th>318</th>\n",
       "      <td>NZD_JPY</td>\n",
       "      <td>29</td>\n",
       "      <td>678.1</td>\n",
       "      <td>64</td>\n",
       "      <td>128</td>\n",
       "      <td>ma_64_128</td>\n",
       "    </tr>\n",
       "    <tr>\n",
       "      <th>340</th>\n",
       "      <td>CHF_JPY</td>\n",
       "      <td>143</td>\n",
       "      <td>1983.2</td>\n",
       "      <td>8</td>\n",
       "      <td>32</td>\n",
       "      <td>ma_8_32</td>\n",
       "    </tr>\n",
       "    <tr>\n",
       "      <th>351</th>\n",
       "      <td>CHF_JPY</td>\n",
       "      <td>31</td>\n",
       "      <td>1339.8</td>\n",
       "      <td>32</td>\n",
       "      <td>128</td>\n",
       "      <td>ma_32_128</td>\n",
       "    </tr>\n",
       "    <tr>\n",
       "      <th>352</th>\n",
       "      <td>CHF_JPY</td>\n",
       "      <td>25</td>\n",
       "      <td>1276.3</td>\n",
       "      <td>64</td>\n",
       "      <td>128</td>\n",
       "      <td>ma_64_128</td>\n",
       "    </tr>\n",
       "  </tbody>\n",
       "</table>\n",
       "</div>"
      ],
      "text/plain": [
       "        pair  num_trades  total_gain  mashort  malong      cross\n",
       "11   GBP_USD          30       311.6       32     128  ma_32_128\n",
       "12   GBP_USD          36       498.7       64     128  ma_64_128\n",
       "34   GBP_JPY         157       830.2        8      32    ma_8_32\n",
       "45   GBP_JPY          34      1436.3       32     128  ma_32_128\n",
       "46   GBP_JPY          30       960.8       64     128  ma_64_128\n",
       "68   GBP_CHF         154       176.8        8      32    ma_8_32\n",
       "97   EUR_GBP          34       200.8       64     128  ma_64_128\n",
       "102  EUR_USD         138       718.6        8      32    ma_8_32\n",
       "113  EUR_USD          41       710.7       32     128  ma_32_128\n",
       "114  EUR_USD          27       766.9       64     128  ma_64_128\n",
       "119  EUR_CAD         136      1158.9        8      32    ma_8_32\n",
       "130  EUR_CAD          52       555.9       32     128  ma_32_128\n",
       "131  EUR_CAD          41       207.0       64     128  ma_64_128\n",
       "136  EUR_JPY         147      2385.8        8      32    ma_8_32\n",
       "147  EUR_JPY          25      1717.5       32     128  ma_32_128\n",
       "148  EUR_JPY          25      1830.3       64     128  ma_64_128\n",
       "153  EUR_NZD         143       420.3        8      32    ma_8_32\n",
       "165  EUR_NZD          30        26.4       64     128  ma_64_128\n",
       "170  EUR_CHF         145       426.3        8      32    ma_8_32\n",
       "181  EUR_CHF          28       459.8       32     128  ma_32_128\n",
       "182  EUR_CHF          27       533.9       64     128  ma_64_128\n",
       "204  USD_JPY         134      2312.1        8      32    ma_8_32\n",
       "215  USD_JPY          38       517.9       32     128  ma_32_128\n",
       "216  USD_JPY          30       760.8       64     128  ma_64_128\n",
       "221  USD_CHF         154       324.3        8      32    ma_8_32\n",
       "232  USD_CHF          30       918.9       32     128  ma_32_128\n",
       "233  USD_CHF          22       603.9       64     128  ma_64_128\n",
       "238  CAD_JPY         139      1300.8        8      32    ma_8_32\n",
       "249  CAD_JPY          31       623.4       32     128  ma_32_128\n",
       "266  CAD_CHF          37       149.2       32     128  ma_32_128\n",
       "283  NZD_USD          38       116.1       32     128  ma_32_128\n",
       "284  NZD_USD          32       312.2       64     128  ma_64_128\n",
       "289  NZD_CAD         137       297.6        8      32    ma_8_32\n",
       "300  NZD_CAD          34       149.6       32     128  ma_32_128\n",
       "301  NZD_CAD          29       610.2       64     128  ma_64_128\n",
       "306  NZD_JPY         147       568.9        8      32    ma_8_32\n",
       "317  NZD_JPY          34       639.2       32     128  ma_32_128\n",
       "318  NZD_JPY          29       678.1       64     128  ma_64_128\n",
       "340  CHF_JPY         143      1983.2        8      32    ma_8_32\n",
       "351  CHF_JPY          31      1339.8       32     128  ma_32_128\n",
       "352  CHF_JPY          25      1276.3       64     128  ma_64_128"
      ]
     },
     "execution_count": 26,
     "metadata": {},
     "output_type": "execute_result"
    }
   ],
   "source": [
    "df_good"
   ]
  },
  {
   "cell_type": "code",
   "execution_count": 27,
   "metadata": {},
   "outputs": [],
   "source": [
    "our_pairs = list(df_good.pair.value_counts()[:9].index)"
   ]
  },
  {
   "cell_type": "code",
   "execution_count": 28,
   "metadata": {},
   "outputs": [
    {
     "data": {
      "text/plain": [
       "['EUR_CHF',\n",
       " 'GBP_JPY',\n",
       " 'NZD_JPY',\n",
       " 'NZD_CAD',\n",
       " 'USD_CHF',\n",
       " 'USD_JPY',\n",
       " 'CHF_JPY',\n",
       " 'EUR_JPY',\n",
       " 'EUR_CAD']"
      ]
     },
     "execution_count": 28,
     "metadata": {},
     "output_type": "execute_result"
    }
   ],
   "source": [
    "our_pairs"
   ]
  },
  {
   "cell_type": "code",
   "execution_count": 29,
   "metadata": {},
   "outputs": [],
   "source": [
    "all_trades['cross'] = 'ma_' + all_trades.mashort.map(str) + '_' + all_trades.malong.map(str)"
   ]
  },
  {
   "cell_type": "code",
   "execution_count": 30,
   "metadata": {},
   "outputs": [],
   "source": [
    "trades_cad_jpy = all_trades[(all_trades.cross=='ma_8_32')&(all_trades.pair=='CAD_JPY')].copy()"
   ]
  },
  {
   "cell_type": "code",
   "execution_count": 31,
   "metadata": {},
   "outputs": [
    {
     "data": {
      "text/html": [
       "<div>\n",
       "<style scoped>\n",
       "    .dataframe tbody tr th:only-of-type {\n",
       "        vertical-align: middle;\n",
       "    }\n",
       "\n",
       "    .dataframe tbody tr th {\n",
       "        vertical-align: top;\n",
       "    }\n",
       "\n",
       "    .dataframe thead th {\n",
       "        text-align: right;\n",
       "    }\n",
       "</style>\n",
       "<table border=\"1\" class=\"dataframe\">\n",
       "  <thead>\n",
       "    <tr style=\"text-align: right;\">\n",
       "      <th></th>\n",
       "      <th>time</th>\n",
       "      <th>mid_c</th>\n",
       "      <th>diff</th>\n",
       "      <th>diff_prev</th>\n",
       "      <th>is_trade</th>\n",
       "      <th>delta</th>\n",
       "      <th>gain</th>\n",
       "      <th>pair</th>\n",
       "      <th>mashort</th>\n",
       "      <th>malong</th>\n",
       "      <th>duration</th>\n",
       "      <th>cross</th>\n",
       "    </tr>\n",
       "  </thead>\n",
       "  <tbody>\n",
       "    <tr>\n",
       "      <th>46</th>\n",
       "      <td>2022-01-10 15:00:00+00:00</td>\n",
       "      <td>90.804</td>\n",
       "      <td>-0.089938</td>\n",
       "      <td>0.008688</td>\n",
       "      <td>-1</td>\n",
       "      <td>49.9</td>\n",
       "      <td>-49.9</td>\n",
       "      <td>CAD_JPY</td>\n",
       "      <td>8</td>\n",
       "      <td>32</td>\n",
       "      <td>20.0</td>\n",
       "      <td>ma_8_32</td>\n",
       "    </tr>\n",
       "    <tr>\n",
       "      <th>66</th>\n",
       "      <td>2022-01-11 11:00:00+00:00</td>\n",
       "      <td>91.303</td>\n",
       "      <td>0.018125</td>\n",
       "      <td>-0.003281</td>\n",
       "      <td>1</td>\n",
       "      <td>29.8</td>\n",
       "      <td>29.8</td>\n",
       "      <td>CAD_JPY</td>\n",
       "      <td>8</td>\n",
       "      <td>32</td>\n",
       "      <td>33.0</td>\n",
       "      <td>ma_8_32</td>\n",
       "    </tr>\n",
       "    <tr>\n",
       "      <th>99</th>\n",
       "      <td>2022-01-12 20:00:00+00:00</td>\n",
       "      <td>91.601</td>\n",
       "      <td>-0.015469</td>\n",
       "      <td>0.041687</td>\n",
       "      <td>-1</td>\n",
       "      <td>-36.3</td>\n",
       "      <td>36.3</td>\n",
       "      <td>CAD_JPY</td>\n",
       "      <td>8</td>\n",
       "      <td>32</td>\n",
       "      <td>102.0</td>\n",
       "      <td>ma_8_32</td>\n",
       "    </tr>\n",
       "    <tr>\n",
       "      <th>153</th>\n",
       "      <td>2022-01-17 02:00:00+00:00</td>\n",
       "      <td>91.238</td>\n",
       "      <td>0.030750</td>\n",
       "      <td>-0.024813</td>\n",
       "      <td>1</td>\n",
       "      <td>16.7</td>\n",
       "      <td>16.7</td>\n",
       "      <td>CAD_JPY</td>\n",
       "      <td>8</td>\n",
       "      <td>32</td>\n",
       "      <td>38.0</td>\n",
       "      <td>ma_8_32</td>\n",
       "    </tr>\n",
       "    <tr>\n",
       "      <th>191</th>\n",
       "      <td>2022-01-18 16:00:00+00:00</td>\n",
       "      <td>91.405</td>\n",
       "      <td>-0.025281</td>\n",
       "      <td>0.010688</td>\n",
       "      <td>-1</td>\n",
       "      <td>30.5</td>\n",
       "      <td>-30.5</td>\n",
       "      <td>CAD_JPY</td>\n",
       "      <td>8</td>\n",
       "      <td>32</td>\n",
       "      <td>10.0</td>\n",
       "      <td>ma_8_32</td>\n",
       "    </tr>\n",
       "  </tbody>\n",
       "</table>\n",
       "</div>"
      ],
      "text/plain": [
       "                         time   mid_c      diff  diff_prev  is_trade  delta  \\\n",
       "46  2022-01-10 15:00:00+00:00  90.804 -0.089938   0.008688        -1   49.9   \n",
       "66  2022-01-11 11:00:00+00:00  91.303  0.018125  -0.003281         1   29.8   \n",
       "99  2022-01-12 20:00:00+00:00  91.601 -0.015469   0.041687        -1  -36.3   \n",
       "153 2022-01-17 02:00:00+00:00  91.238  0.030750  -0.024813         1   16.7   \n",
       "191 2022-01-18 16:00:00+00:00  91.405 -0.025281   0.010688        -1   30.5   \n",
       "\n",
       "     gain     pair  mashort  malong  duration    cross  \n",
       "46  -49.9  CAD_JPY        8      32      20.0  ma_8_32  \n",
       "66   29.8  CAD_JPY        8      32      33.0  ma_8_32  \n",
       "99   36.3  CAD_JPY        8      32     102.0  ma_8_32  \n",
       "153  16.7  CAD_JPY        8      32      38.0  ma_8_32  \n",
       "191 -30.5  CAD_JPY        8      32      10.0  ma_8_32  "
      ]
     },
     "execution_count": 31,
     "metadata": {},
     "output_type": "execute_result"
    }
   ],
   "source": [
    "trades_cad_jpy.head()"
   ]
  },
  {
   "cell_type": "code",
   "execution_count": 32,
   "metadata": {},
   "outputs": [],
   "source": [
    "trades_cad_jpy['cum_gain'] = trades_cad_jpy.gain.cumsum()"
   ]
  },
  {
   "cell_type": "code",
   "execution_count": 33,
   "metadata": {},
   "outputs": [
    {
     "data": {
      "text/html": [
       "<div>\n",
       "<style scoped>\n",
       "    .dataframe tbody tr th:only-of-type {\n",
       "        vertical-align: middle;\n",
       "    }\n",
       "\n",
       "    .dataframe tbody tr th {\n",
       "        vertical-align: top;\n",
       "    }\n",
       "\n",
       "    .dataframe thead th {\n",
       "        text-align: right;\n",
       "    }\n",
       "</style>\n",
       "<table border=\"1\" class=\"dataframe\">\n",
       "  <thead>\n",
       "    <tr style=\"text-align: right;\">\n",
       "      <th></th>\n",
       "      <th>time</th>\n",
       "      <th>mid_c</th>\n",
       "      <th>diff</th>\n",
       "      <th>diff_prev</th>\n",
       "      <th>is_trade</th>\n",
       "      <th>delta</th>\n",
       "      <th>gain</th>\n",
       "      <th>pair</th>\n",
       "      <th>mashort</th>\n",
       "      <th>malong</th>\n",
       "      <th>duration</th>\n",
       "      <th>cross</th>\n",
       "      <th>cum_gain</th>\n",
       "    </tr>\n",
       "  </thead>\n",
       "  <tbody>\n",
       "    <tr>\n",
       "      <th>46</th>\n",
       "      <td>2022-01-10 15:00:00+00:00</td>\n",
       "      <td>90.804</td>\n",
       "      <td>-0.089938</td>\n",
       "      <td>0.008688</td>\n",
       "      <td>-1</td>\n",
       "      <td>49.9</td>\n",
       "      <td>-49.9</td>\n",
       "      <td>CAD_JPY</td>\n",
       "      <td>8</td>\n",
       "      <td>32</td>\n",
       "      <td>20.0</td>\n",
       "      <td>ma_8_32</td>\n",
       "      <td>-49.9</td>\n",
       "    </tr>\n",
       "    <tr>\n",
       "      <th>66</th>\n",
       "      <td>2022-01-11 11:00:00+00:00</td>\n",
       "      <td>91.303</td>\n",
       "      <td>0.018125</td>\n",
       "      <td>-0.003281</td>\n",
       "      <td>1</td>\n",
       "      <td>29.8</td>\n",
       "      <td>29.8</td>\n",
       "      <td>CAD_JPY</td>\n",
       "      <td>8</td>\n",
       "      <td>32</td>\n",
       "      <td>33.0</td>\n",
       "      <td>ma_8_32</td>\n",
       "      <td>-20.1</td>\n",
       "    </tr>\n",
       "    <tr>\n",
       "      <th>99</th>\n",
       "      <td>2022-01-12 20:00:00+00:00</td>\n",
       "      <td>91.601</td>\n",
       "      <td>-0.015469</td>\n",
       "      <td>0.041687</td>\n",
       "      <td>-1</td>\n",
       "      <td>-36.3</td>\n",
       "      <td>36.3</td>\n",
       "      <td>CAD_JPY</td>\n",
       "      <td>8</td>\n",
       "      <td>32</td>\n",
       "      <td>102.0</td>\n",
       "      <td>ma_8_32</td>\n",
       "      <td>16.2</td>\n",
       "    </tr>\n",
       "    <tr>\n",
       "      <th>153</th>\n",
       "      <td>2022-01-17 02:00:00+00:00</td>\n",
       "      <td>91.238</td>\n",
       "      <td>0.030750</td>\n",
       "      <td>-0.024813</td>\n",
       "      <td>1</td>\n",
       "      <td>16.7</td>\n",
       "      <td>16.7</td>\n",
       "      <td>CAD_JPY</td>\n",
       "      <td>8</td>\n",
       "      <td>32</td>\n",
       "      <td>38.0</td>\n",
       "      <td>ma_8_32</td>\n",
       "      <td>32.9</td>\n",
       "    </tr>\n",
       "    <tr>\n",
       "      <th>191</th>\n",
       "      <td>2022-01-18 16:00:00+00:00</td>\n",
       "      <td>91.405</td>\n",
       "      <td>-0.025281</td>\n",
       "      <td>0.010688</td>\n",
       "      <td>-1</td>\n",
       "      <td>30.5</td>\n",
       "      <td>-30.5</td>\n",
       "      <td>CAD_JPY</td>\n",
       "      <td>8</td>\n",
       "      <td>32</td>\n",
       "      <td>10.0</td>\n",
       "      <td>ma_8_32</td>\n",
       "      <td>2.4</td>\n",
       "    </tr>\n",
       "  </tbody>\n",
       "</table>\n",
       "</div>"
      ],
      "text/plain": [
       "                         time   mid_c      diff  diff_prev  is_trade  delta  \\\n",
       "46  2022-01-10 15:00:00+00:00  90.804 -0.089938   0.008688        -1   49.9   \n",
       "66  2022-01-11 11:00:00+00:00  91.303  0.018125  -0.003281         1   29.8   \n",
       "99  2022-01-12 20:00:00+00:00  91.601 -0.015469   0.041687        -1  -36.3   \n",
       "153 2022-01-17 02:00:00+00:00  91.238  0.030750  -0.024813         1   16.7   \n",
       "191 2022-01-18 16:00:00+00:00  91.405 -0.025281   0.010688        -1   30.5   \n",
       "\n",
       "     gain     pair  mashort  malong  duration    cross  cum_gain  \n",
       "46  -49.9  CAD_JPY        8      32      20.0  ma_8_32     -49.9  \n",
       "66   29.8  CAD_JPY        8      32      33.0  ma_8_32     -20.1  \n",
       "99   36.3  CAD_JPY        8      32     102.0  ma_8_32      16.2  \n",
       "153  16.7  CAD_JPY        8      32      38.0  ma_8_32      32.9  \n",
       "191 -30.5  CAD_JPY        8      32      10.0  ma_8_32       2.4  "
      ]
     },
     "execution_count": 33,
     "metadata": {},
     "output_type": "execute_result"
    }
   ],
   "source": [
    "trades_cad_jpy.head()"
   ]
  },
  {
   "cell_type": "code",
   "execution_count": 40,
   "metadata": {},
   "outputs": [],
   "source": [
    "def plot_line(df_plot, name):\n",
    "    fig = go.Figure()\n",
    "    fig.add_trace(go.Scatter(\n",
    "        x=df_plot.time,\n",
    "        y=df_plot.cum_gain,\n",
    "        line=dict(width=2, color='#3d825f'),\n",
    "        line_shape='spline',\n",
    "        name=name,\n",
    "        mode='lines'\n",
    "    ))\n",
    "    fig.update_layout(width=1000, height=400,\n",
    "        margin=dict(l=15,r=15,b=10),\n",
    "        font=dict(size=10,color='#3d825f'),\n",
    "        paper_bgcolor='#1e1e1e',\n",
    "        plot_bgcolor='#1e1e1e',\n",
    "        title=name)\n",
    "    fig.update_xaxes(\n",
    "        linewidth=1,\n",
    "        linecolor='#3a4a54',\n",
    "        showgrid=False,\n",
    "        zeroline=False\n",
    "    )\n",
    "    fig.update_yaxes(\n",
    "        linewidth=1,\n",
    "        linecolor='#3a4a54',\n",
    "        showgrid=False,\n",
    "        zeroline=False\n",
    "    )\n",
    "    fig.show()"
   ]
  },
  {
   "cell_type": "code",
   "execution_count": 41,
   "metadata": {},
   "outputs": [
    {
     "data": {
      "application/vnd.plotly.v1+json": {
       "config": {
        "plotlyServerURL": "https://plot.ly"
       },
       "data": [
        {
         "line": {
          "color": "#3d825f",
          "shape": "spline",
          "width": 2
         },
         "mode": "lines",
         "name": "cad_jpy",
         "type": "scatter",
         "x": [
          "2022-01-10T15:00:00+00:00",
          "2022-01-11T11:00:00+00:00",
          "2022-01-12T20:00:00+00:00",
          "2022-01-17T02:00:00+00:00",
          "2022-01-18T16:00:00+00:00",
          "2022-01-19T02:00:00+00:00",
          "2022-01-19T05:00:00+00:00",
          "2022-01-19T13:00:00+00:00",
          "2022-01-19T19:00:00+00:00",
          "2022-01-20T09:00:00+00:00",
          "2022-01-20T13:00:00+00:00",
          "2022-01-20T19:00:00+00:00",
          "2022-01-20T22:00:00+00:00",
          "2022-01-25T12:00:00+00:00",
          "2022-01-27T01:00:00+00:00",
          "2022-01-27T13:00:00+00:00",
          "2022-01-28T00:00:00+00:00",
          "2022-01-28T02:00:00+00:00",
          "2022-01-28T11:00:00+00:00",
          "2022-01-31T04:00:00+00:00",
          "2022-02-01T02:00:00+00:00",
          "2022-02-03T09:00:00+00:00",
          "2022-02-04T12:00:00+00:00",
          "2022-02-07T06:00:00+00:00",
          "2022-02-09T02:00:00+00:00",
          "2022-02-09T03:00:00+00:00",
          "2022-02-09T05:00:00+00:00",
          "2022-02-09T10:00:00+00:00",
          "2022-02-11T00:00:00+00:00",
          "2022-02-11T17:00:00+00:00",
          "2022-02-11T18:00:00+00:00",
          "2022-02-14T20:00:00+00:00",
          "2022-02-15T06:00:00+00:00",
          "2022-02-15T08:00:00+00:00",
          "2022-02-17T01:00:00+00:00",
          "2022-02-18T06:00:00+00:00",
          "2022-02-18T16:00:00+00:00",
          "2022-02-22T12:00:00+00:00",
          "2022-02-24T00:00:00+00:00",
          "2022-02-24T22:00:00+00:00",
          "2022-02-28T06:00:00+00:00",
          "2022-02-28T11:00:00+00:00",
          "2022-03-01T13:00:00+00:00",
          "2022-03-02T10:00:00+00:00",
          "2022-03-03T18:00:00+00:00",
          "2022-03-07T10:00:00+00:00",
          "2022-03-07T20:00:00+00:00",
          "2022-03-09T08:00:00+00:00",
          "2022-03-14T22:00:00+00:00",
          "2022-03-15T18:00:00+00:00",
          "2022-03-25T09:00:00+00:00",
          "2022-03-25T16:00:00+00:00",
          "2022-03-29T06:00:00+00:00",
          "2022-03-29T11:00:00+00:00",
          "2022-03-29T12:00:00+00:00",
          "2022-04-01T02:00:00+00:00",
          "2022-04-06T18:00:00+00:00",
          "2022-04-08T09:00:00+00:00",
          "2022-04-12T01:00:00+00:00",
          "2022-04-13T02:00:00+00:00",
          "2022-04-14T21:00:00+00:00",
          "2022-04-14T23:00:00+00:00",
          "2022-04-18T05:00:00+00:00",
          "2022-04-18T16:00:00+00:00",
          "2022-04-21T19:00:00+00:00",
          "2022-04-26T07:00:00+00:00",
          "2022-04-26T12:00:00+00:00",
          "2022-04-27T13:00:00+00:00",
          "2022-04-29T14:00:00+00:00",
          "2022-05-03T01:00:00+00:00",
          "2022-05-05T01:00:00+00:00",
          "2022-05-05T04:00:00+00:00",
          "2022-05-05T21:00:00+00:00",
          "2022-05-06T03:00:00+00:00",
          "2022-05-06T11:00:00+00:00",
          "2022-05-09T12:00:00+00:00",
          "2022-05-09T14:00:00+00:00",
          "2022-05-11T04:00:00+00:00",
          "2022-05-11T21:00:00+00:00",
          "2022-05-13T06:00:00+00:00",
          "2022-05-18T05:00:00+00:00",
          "2022-05-20T01:00:00+00:00",
          "2022-05-20T03:00:00+00:00",
          "2022-05-20T06:00:00+00:00",
          "2022-05-20T19:00:00+00:00",
          "2022-05-23T11:00:00+00:00",
          "2022-05-24T06:00:00+00:00",
          "2022-05-25T16:00:00+00:00",
          "2022-05-26T08:00:00+00:00",
          "2022-05-26T16:00:00+00:00",
          "2022-06-02T12:00:00+00:00",
          "2022-06-02T14:00:00+00:00",
          "2022-06-09T07:00:00+00:00",
          "2022-06-13T05:00:00+00:00",
          "2022-06-13T07:00:00+00:00",
          "2022-06-14T20:00:00+00:00",
          "2022-06-15T07:00:00+00:00",
          "2022-06-16T03:00:00+00:00",
          "2022-06-16T09:00:00+00:00",
          "2022-06-17T06:00:00+00:00",
          "2022-06-22T08:00:00+00:00",
          "2022-06-22T22:00:00+00:00",
          "2022-06-22T23:00:00+00:00",
          "2022-06-24T13:00:00+00:00",
          "2022-06-30T07:00:00+00:00",
          "2022-07-04T06:00:00+00:00",
          "2022-07-05T12:00:00+00:00",
          "2022-07-06T20:00:00+00:00",
          "2022-07-08T06:00:00+00:00",
          "2022-07-08T15:00:00+00:00",
          "2022-07-12T04:00:00+00:00",
          "2022-07-13T06:00:00+00:00",
          "2022-07-14T15:00:00+00:00",
          "2022-07-15T14:00:00+00:00",
          "2022-07-19T00:00:00+00:00",
          "2022-07-19T16:00:00+00:00",
          "2022-07-20T22:00:00+00:00",
          "2022-07-21T00:00:00+00:00",
          "2022-07-21T14:00:00+00:00",
          "2022-07-25T13:00:00+00:00",
          "2022-07-26T14:00:00+00:00",
          "2022-07-27T01:00:00+00:00",
          "2022-07-28T00:00:00+00:00",
          "2022-08-02T17:00:00+00:00",
          "2022-08-04T15:00:00+00:00",
          "2022-08-05T15:00:00+00:00",
          "2022-08-09T17:00:00+00:00",
          "2022-08-11T19:00:00+00:00",
          "2022-08-15T00:00:00+00:00",
          "2022-08-16T09:00:00+00:00",
          "2022-08-18T01:00:00+00:00",
          "2022-08-18T10:00:00+00:00",
          "2022-08-22T13:00:00+00:00",
          "2022-08-23T11:00:00+00:00",
          "2022-08-24T06:00:00+00:00",
          "2022-08-24T18:00:00+00:00",
          "2022-08-25T20:00:00+00:00",
          "2022-08-26T07:00:00+00:00",
          "2022-08-26T18:00:00+00:00"
         ],
         "y": [
          -49.89999999999952,
          -20.09999999999934,
          16.200000000000614,
          32.90000000000077,
          2.400000000001512,
          -29.599999999997806,
          -67.39999999999782,
          -97.59999999999849,
          -103.49999999999966,
          -115.99999999999966,
          -130.59999999999974,
          -158.59999999999985,
          -51.199999999998624,
          -44.599999999998374,
          -122.99999999999898,
          -161.099999999999,
          -174.99999999999858,
          -208.49999999999795,
          -228.8999999999973,
          -244.19999999999646,
          -221.19999999999607,
          -215.19999999999584,
          -246.7999999999961,
          -229.59999999999638,
          -237.59999999999621,
          -232.199999999996,
          -234.8999999999961,
          -227.59999999999678,
          -266.3999999999973,
          -341.6999999999973,
          -351.1999999999972,
          -380.6999999999974,
          -423.5999999999976,
          -421.4999999999975,
          -401.1999999999972,
          -450.09999999999764,
          -464.19999999999817,
          -493.99999999999835,
          -500.8999999999986,
          -479.79999999999876,
          -500.79999999999814,
          -491.3999999999973,
          -489.19999999999675,
          -448.99999999999665,
          -386.9999999999962,
          -434.1999999999956,
          -457.199999999996,
          -249.3999999999957,
          -277.7999999999949,
          164.00000000000574,
          89.00000000000574,
          196.70000000000556,
          176.10000000000525,
          94.60000000000406,
          105.90000000000401,
          181.10000000000497,
          211.80000000000518,
          267.30000000000445,
          221.40000000000413,
          254.3000000000049,
          237.8000000000057,
          254.0000000000063,
          211.20000000000658,
          346.80000000000604,
          511.60000000000565,
          433.80000000000507,
          406.200000000004,
          567.4000000000035,
          602.700000000003,
          614.8000000000025,
          578.8000000000025,
          564.3000000000029,
          530.6000000000026,
          512.600000000002,
          551.4000000000025,
          491.80000000000354,
          531.0000000000045,
          514.2000000000053,
          632.000000000005,
          825.0000000000043,
          908.6000000000042,
          857.4000000000042,
          822.4000000000033,
          805.3000000000027,
          786.3000000000029,
          772.2000000000038,
          815.8000000000045,
          768.8000000000046,
          687.2000000000044,
          983.6000000000042,
          936.2000000000039,
          1244.8000000000038,
          1326.5000000000045,
          1281.9000000000046,
          1313.600000000004,
          1248.800000000003,
          1216.200000000002,
          1069.8000000000022,
          993.7000000000027,
          1136.0000000000027,
          1112.7000000000023,
          1086.8000000000022,
          1163.3000000000022,
          1299.2000000000016,
          1333.600000000001,
          1272.7000000000003,
          1300.8999999999999,
          1319.7999999999993,
          1247.199999999998,
          1271.399999999997,
          1271.799999999996,
          1334.0999999999951,
          1297.9999999999948,
          1302.0999999999945,
          1233.2999999999943,
          1242.499999999994,
          1215.8999999999935,
          1161.5999999999929,
          1228.899999999993,
          1211.5999999999929,
          1173.9999999999923,
          1137.9999999999923,
          1414.9999999999918,
          1449.9999999999914,
          1364.3999999999905,
          1387.79999999999,
          1444.2999999999897,
          1436.1999999999894,
          1455.5999999999897,
          1496.9999999999898,
          1445.6999999999894,
          1492.5999999999888,
          1477.8999999999883,
          1458.9999999999875,
          1423.3999999999867,
          1418.5999999999865,
          1396.3999999999871,
          1359.199999999987,
          1300.7999999999868
         ]
        }
       ],
       "layout": {
        "font": {
         "color": "#3d825f",
         "size": 10
        },
        "height": 400,
        "margin": {
         "b": 10,
         "l": 15,
         "r": 15
        },
        "paper_bgcolor": "#1e1e1e",
        "plot_bgcolor": "#1e1e1e",
        "template": {
         "data": {
          "bar": [
           {
            "error_x": {
             "color": "#2a3f5f"
            },
            "error_y": {
             "color": "#2a3f5f"
            },
            "marker": {
             "line": {
              "color": "#E5ECF6",
              "width": 0.5
             },
             "pattern": {
              "fillmode": "overlay",
              "size": 10,
              "solidity": 0.2
             }
            },
            "type": "bar"
           }
          ],
          "barpolar": [
           {
            "marker": {
             "line": {
              "color": "#E5ECF6",
              "width": 0.5
             },
             "pattern": {
              "fillmode": "overlay",
              "size": 10,
              "solidity": 0.2
             }
            },
            "type": "barpolar"
           }
          ],
          "carpet": [
           {
            "aaxis": {
             "endlinecolor": "#2a3f5f",
             "gridcolor": "white",
             "linecolor": "white",
             "minorgridcolor": "white",
             "startlinecolor": "#2a3f5f"
            },
            "baxis": {
             "endlinecolor": "#2a3f5f",
             "gridcolor": "white",
             "linecolor": "white",
             "minorgridcolor": "white",
             "startlinecolor": "#2a3f5f"
            },
            "type": "carpet"
           }
          ],
          "choropleth": [
           {
            "colorbar": {
             "outlinewidth": 0,
             "ticks": ""
            },
            "type": "choropleth"
           }
          ],
          "contour": [
           {
            "colorbar": {
             "outlinewidth": 0,
             "ticks": ""
            },
            "colorscale": [
             [
              0,
              "#0d0887"
             ],
             [
              0.1111111111111111,
              "#46039f"
             ],
             [
              0.2222222222222222,
              "#7201a8"
             ],
             [
              0.3333333333333333,
              "#9c179e"
             ],
             [
              0.4444444444444444,
              "#bd3786"
             ],
             [
              0.5555555555555556,
              "#d8576b"
             ],
             [
              0.6666666666666666,
              "#ed7953"
             ],
             [
              0.7777777777777778,
              "#fb9f3a"
             ],
             [
              0.8888888888888888,
              "#fdca26"
             ],
             [
              1,
              "#f0f921"
             ]
            ],
            "type": "contour"
           }
          ],
          "contourcarpet": [
           {
            "colorbar": {
             "outlinewidth": 0,
             "ticks": ""
            },
            "type": "contourcarpet"
           }
          ],
          "heatmap": [
           {
            "colorbar": {
             "outlinewidth": 0,
             "ticks": ""
            },
            "colorscale": [
             [
              0,
              "#0d0887"
             ],
             [
              0.1111111111111111,
              "#46039f"
             ],
             [
              0.2222222222222222,
              "#7201a8"
             ],
             [
              0.3333333333333333,
              "#9c179e"
             ],
             [
              0.4444444444444444,
              "#bd3786"
             ],
             [
              0.5555555555555556,
              "#d8576b"
             ],
             [
              0.6666666666666666,
              "#ed7953"
             ],
             [
              0.7777777777777778,
              "#fb9f3a"
             ],
             [
              0.8888888888888888,
              "#fdca26"
             ],
             [
              1,
              "#f0f921"
             ]
            ],
            "type": "heatmap"
           }
          ],
          "heatmapgl": [
           {
            "colorbar": {
             "outlinewidth": 0,
             "ticks": ""
            },
            "colorscale": [
             [
              0,
              "#0d0887"
             ],
             [
              0.1111111111111111,
              "#46039f"
             ],
             [
              0.2222222222222222,
              "#7201a8"
             ],
             [
              0.3333333333333333,
              "#9c179e"
             ],
             [
              0.4444444444444444,
              "#bd3786"
             ],
             [
              0.5555555555555556,
              "#d8576b"
             ],
             [
              0.6666666666666666,
              "#ed7953"
             ],
             [
              0.7777777777777778,
              "#fb9f3a"
             ],
             [
              0.8888888888888888,
              "#fdca26"
             ],
             [
              1,
              "#f0f921"
             ]
            ],
            "type": "heatmapgl"
           }
          ],
          "histogram": [
           {
            "marker": {
             "pattern": {
              "fillmode": "overlay",
              "size": 10,
              "solidity": 0.2
             }
            },
            "type": "histogram"
           }
          ],
          "histogram2d": [
           {
            "colorbar": {
             "outlinewidth": 0,
             "ticks": ""
            },
            "colorscale": [
             [
              0,
              "#0d0887"
             ],
             [
              0.1111111111111111,
              "#46039f"
             ],
             [
              0.2222222222222222,
              "#7201a8"
             ],
             [
              0.3333333333333333,
              "#9c179e"
             ],
             [
              0.4444444444444444,
              "#bd3786"
             ],
             [
              0.5555555555555556,
              "#d8576b"
             ],
             [
              0.6666666666666666,
              "#ed7953"
             ],
             [
              0.7777777777777778,
              "#fb9f3a"
             ],
             [
              0.8888888888888888,
              "#fdca26"
             ],
             [
              1,
              "#f0f921"
             ]
            ],
            "type": "histogram2d"
           }
          ],
          "histogram2dcontour": [
           {
            "colorbar": {
             "outlinewidth": 0,
             "ticks": ""
            },
            "colorscale": [
             [
              0,
              "#0d0887"
             ],
             [
              0.1111111111111111,
              "#46039f"
             ],
             [
              0.2222222222222222,
              "#7201a8"
             ],
             [
              0.3333333333333333,
              "#9c179e"
             ],
             [
              0.4444444444444444,
              "#bd3786"
             ],
             [
              0.5555555555555556,
              "#d8576b"
             ],
             [
              0.6666666666666666,
              "#ed7953"
             ],
             [
              0.7777777777777778,
              "#fb9f3a"
             ],
             [
              0.8888888888888888,
              "#fdca26"
             ],
             [
              1,
              "#f0f921"
             ]
            ],
            "type": "histogram2dcontour"
           }
          ],
          "mesh3d": [
           {
            "colorbar": {
             "outlinewidth": 0,
             "ticks": ""
            },
            "type": "mesh3d"
           }
          ],
          "parcoords": [
           {
            "line": {
             "colorbar": {
              "outlinewidth": 0,
              "ticks": ""
             }
            },
            "type": "parcoords"
           }
          ],
          "pie": [
           {
            "automargin": true,
            "type": "pie"
           }
          ],
          "scatter": [
           {
            "fillpattern": {
             "fillmode": "overlay",
             "size": 10,
             "solidity": 0.2
            },
            "type": "scatter"
           }
          ],
          "scatter3d": [
           {
            "line": {
             "colorbar": {
              "outlinewidth": 0,
              "ticks": ""
             }
            },
            "marker": {
             "colorbar": {
              "outlinewidth": 0,
              "ticks": ""
             }
            },
            "type": "scatter3d"
           }
          ],
          "scattercarpet": [
           {
            "marker": {
             "colorbar": {
              "outlinewidth": 0,
              "ticks": ""
             }
            },
            "type": "scattercarpet"
           }
          ],
          "scattergeo": [
           {
            "marker": {
             "colorbar": {
              "outlinewidth": 0,
              "ticks": ""
             }
            },
            "type": "scattergeo"
           }
          ],
          "scattergl": [
           {
            "marker": {
             "colorbar": {
              "outlinewidth": 0,
              "ticks": ""
             }
            },
            "type": "scattergl"
           }
          ],
          "scattermapbox": [
           {
            "marker": {
             "colorbar": {
              "outlinewidth": 0,
              "ticks": ""
             }
            },
            "type": "scattermapbox"
           }
          ],
          "scatterpolar": [
           {
            "marker": {
             "colorbar": {
              "outlinewidth": 0,
              "ticks": ""
             }
            },
            "type": "scatterpolar"
           }
          ],
          "scatterpolargl": [
           {
            "marker": {
             "colorbar": {
              "outlinewidth": 0,
              "ticks": ""
             }
            },
            "type": "scatterpolargl"
           }
          ],
          "scatterternary": [
           {
            "marker": {
             "colorbar": {
              "outlinewidth": 0,
              "ticks": ""
             }
            },
            "type": "scatterternary"
           }
          ],
          "surface": [
           {
            "colorbar": {
             "outlinewidth": 0,
             "ticks": ""
            },
            "colorscale": [
             [
              0,
              "#0d0887"
             ],
             [
              0.1111111111111111,
              "#46039f"
             ],
             [
              0.2222222222222222,
              "#7201a8"
             ],
             [
              0.3333333333333333,
              "#9c179e"
             ],
             [
              0.4444444444444444,
              "#bd3786"
             ],
             [
              0.5555555555555556,
              "#d8576b"
             ],
             [
              0.6666666666666666,
              "#ed7953"
             ],
             [
              0.7777777777777778,
              "#fb9f3a"
             ],
             [
              0.8888888888888888,
              "#fdca26"
             ],
             [
              1,
              "#f0f921"
             ]
            ],
            "type": "surface"
           }
          ],
          "table": [
           {
            "cells": {
             "fill": {
              "color": "#EBF0F8"
             },
             "line": {
              "color": "white"
             }
            },
            "header": {
             "fill": {
              "color": "#C8D4E3"
             },
             "line": {
              "color": "white"
             }
            },
            "type": "table"
           }
          ]
         },
         "layout": {
          "annotationdefaults": {
           "arrowcolor": "#2a3f5f",
           "arrowhead": 0,
           "arrowwidth": 1
          },
          "autotypenumbers": "strict",
          "coloraxis": {
           "colorbar": {
            "outlinewidth": 0,
            "ticks": ""
           }
          },
          "colorscale": {
           "diverging": [
            [
             0,
             "#8e0152"
            ],
            [
             0.1,
             "#c51b7d"
            ],
            [
             0.2,
             "#de77ae"
            ],
            [
             0.3,
             "#f1b6da"
            ],
            [
             0.4,
             "#fde0ef"
            ],
            [
             0.5,
             "#f7f7f7"
            ],
            [
             0.6,
             "#e6f5d0"
            ],
            [
             0.7,
             "#b8e186"
            ],
            [
             0.8,
             "#7fbc41"
            ],
            [
             0.9,
             "#4d9221"
            ],
            [
             1,
             "#276419"
            ]
           ],
           "sequential": [
            [
             0,
             "#0d0887"
            ],
            [
             0.1111111111111111,
             "#46039f"
            ],
            [
             0.2222222222222222,
             "#7201a8"
            ],
            [
             0.3333333333333333,
             "#9c179e"
            ],
            [
             0.4444444444444444,
             "#bd3786"
            ],
            [
             0.5555555555555556,
             "#d8576b"
            ],
            [
             0.6666666666666666,
             "#ed7953"
            ],
            [
             0.7777777777777778,
             "#fb9f3a"
            ],
            [
             0.8888888888888888,
             "#fdca26"
            ],
            [
             1,
             "#f0f921"
            ]
           ],
           "sequentialminus": [
            [
             0,
             "#0d0887"
            ],
            [
             0.1111111111111111,
             "#46039f"
            ],
            [
             0.2222222222222222,
             "#7201a8"
            ],
            [
             0.3333333333333333,
             "#9c179e"
            ],
            [
             0.4444444444444444,
             "#bd3786"
            ],
            [
             0.5555555555555556,
             "#d8576b"
            ],
            [
             0.6666666666666666,
             "#ed7953"
            ],
            [
             0.7777777777777778,
             "#fb9f3a"
            ],
            [
             0.8888888888888888,
             "#fdca26"
            ],
            [
             1,
             "#f0f921"
            ]
           ]
          },
          "colorway": [
           "#636efa",
           "#EF553B",
           "#00cc96",
           "#ab63fa",
           "#FFA15A",
           "#19d3f3",
           "#FF6692",
           "#B6E880",
           "#FF97FF",
           "#FECB52"
          ],
          "font": {
           "color": "#2a3f5f"
          },
          "geo": {
           "bgcolor": "white",
           "lakecolor": "white",
           "landcolor": "#E5ECF6",
           "showlakes": true,
           "showland": true,
           "subunitcolor": "white"
          },
          "hoverlabel": {
           "align": "left"
          },
          "hovermode": "closest",
          "mapbox": {
           "style": "light"
          },
          "paper_bgcolor": "white",
          "plot_bgcolor": "#E5ECF6",
          "polar": {
           "angularaxis": {
            "gridcolor": "white",
            "linecolor": "white",
            "ticks": ""
           },
           "bgcolor": "#E5ECF6",
           "radialaxis": {
            "gridcolor": "white",
            "linecolor": "white",
            "ticks": ""
           }
          },
          "scene": {
           "xaxis": {
            "backgroundcolor": "#E5ECF6",
            "gridcolor": "white",
            "gridwidth": 2,
            "linecolor": "white",
            "showbackground": true,
            "ticks": "",
            "zerolinecolor": "white"
           },
           "yaxis": {
            "backgroundcolor": "#E5ECF6",
            "gridcolor": "white",
            "gridwidth": 2,
            "linecolor": "white",
            "showbackground": true,
            "ticks": "",
            "zerolinecolor": "white"
           },
           "zaxis": {
            "backgroundcolor": "#E5ECF6",
            "gridcolor": "white",
            "gridwidth": 2,
            "linecolor": "white",
            "showbackground": true,
            "ticks": "",
            "zerolinecolor": "white"
           }
          },
          "shapedefaults": {
           "line": {
            "color": "#2a3f5f"
           }
          },
          "ternary": {
           "aaxis": {
            "gridcolor": "white",
            "linecolor": "white",
            "ticks": ""
           },
           "baxis": {
            "gridcolor": "white",
            "linecolor": "white",
            "ticks": ""
           },
           "bgcolor": "#E5ECF6",
           "caxis": {
            "gridcolor": "white",
            "linecolor": "white",
            "ticks": ""
           }
          },
          "title": {
           "x": 0.05
          },
          "xaxis": {
           "automargin": true,
           "gridcolor": "white",
           "linecolor": "white",
           "ticks": "",
           "title": {
            "standoff": 15
           },
           "zerolinecolor": "white",
           "zerolinewidth": 2
          },
          "yaxis": {
           "automargin": true,
           "gridcolor": "white",
           "linecolor": "white",
           "ticks": "",
           "title": {
            "standoff": 15
           },
           "zerolinecolor": "white",
           "zerolinewidth": 2
          }
         }
        },
        "title": {
         "text": "cad_jpy"
        },
        "width": 1000,
        "xaxis": {
         "linecolor": "#3a4a54",
         "linewidth": 1,
         "showgrid": false,
         "zeroline": false
        },
        "yaxis": {
         "linecolor": "#3a4a54",
         "linewidth": 1,
         "showgrid": false,
         "zeroline": false
        }
       }
      }
     },
     "metadata": {},
     "output_type": "display_data"
    }
   ],
   "source": [
    "plot_line(trades_cad_jpy, 'cad_jpy')"
   ]
  },
  {
   "cell_type": "code",
   "execution_count": 42,
   "metadata": {},
   "outputs": [
    {
     "data": {
      "application/vnd.plotly.v1+json": {
       "config": {
        "plotlyServerURL": "https://plot.ly"
       },
       "data": [
        {
         "line": {
          "color": "#3d825f",
          "shape": "spline",
          "width": 2
         },
         "mode": "lines",
         "name": "EUR_CHF_ma_8_32",
         "type": "scatter",
         "x": [
          "2022-01-11T22:00:00+00:00",
          "2022-01-12T07:00:00+00:00",
          "2022-01-12T09:00:00+00:00",
          "2022-01-17T03:00:00+00:00",
          "2022-01-17T13:00:00+00:00",
          "2022-01-19T19:00:00+00:00",
          "2022-01-20T13:00:00+00:00",
          "2022-01-24T20:00:00+00:00",
          "2022-01-27T04:00:00+00:00",
          "2022-01-27T15:00:00+00:00",
          "2022-01-27T17:00:00+00:00",
          "2022-01-28T17:00:00+00:00",
          "2022-02-01T06:00:00+00:00",
          "2022-02-02T10:00:00+00:00",
          "2022-02-07T10:00:00+00:00",
          "2022-02-08T21:00:00+00:00",
          "2022-02-09T12:00:00+00:00",
          "2022-02-10T09:00:00+00:00",
          "2022-02-11T03:00:00+00:00",
          "2022-02-15T10:00:00+00:00",
          "2022-02-16T17:00:00+00:00",
          "2022-02-18T07:00:00+00:00",
          "2022-02-18T14:00:00+00:00",
          "2022-02-21T08:00:00+00:00",
          "2022-02-21T09:00:00+00:00",
          "2022-02-22T12:00:00+00:00",
          "2022-02-23T15:00:00+00:00",
          "2022-02-24T23:00:00+00:00",
          "2022-02-28T03:00:00+00:00",
          "2022-03-02T18:00:00+00:00",
          "2022-03-03T07:00:00+00:00",
          "2022-03-07T14:00:00+00:00",
          "2022-03-10T18:00:00+00:00",
          "2022-03-11T15:00:00+00:00",
          "2022-03-11T16:00:00+00:00",
          "2022-03-14T09:00:00+00:00",
          "2022-03-16T06:00:00+00:00",
          "2022-03-16T09:00:00+00:00",
          "2022-03-18T05:00:00+00:00",
          "2022-03-22T15:00:00+00:00",
          "2022-03-22T16:00:00+00:00",
          "2022-03-22T19:00:00+00:00",
          "2022-03-23T13:00:00+00:00",
          "2022-03-25T20:00:00+00:00",
          "2022-03-27T22:00:00+00:00",
          "2022-03-27T23:00:00+00:00",
          "2022-03-30T11:00:00+00:00",
          "2022-03-31T05:00:00+00:00",
          "2022-03-31T09:00:00+00:00",
          "2022-04-01T20:00:00+00:00",
          "2022-04-03T21:00:00+00:00",
          "2022-04-03T23:00:00+00:00",
          "2022-04-04T09:00:00+00:00",
          "2022-04-06T08:00:00+00:00",
          "2022-04-07T10:00:00+00:00",
          "2022-04-10T22:00:00+00:00",
          "2022-04-11T16:00:00+00:00",
          "2022-04-13T14:00:00+00:00",
          "2022-04-15T10:00:00+00:00",
          "2022-04-18T09:00:00+00:00",
          "2022-04-18T10:00:00+00:00",
          "2022-04-19T06:00:00+00:00",
          "2022-04-22T10:00:00+00:00",
          "2022-04-29T06:00:00+00:00",
          "2022-05-02T11:00:00+00:00",
          "2022-05-02T13:00:00+00:00",
          "2022-05-10T17:00:00+00:00",
          "2022-05-11T02:00:00+00:00",
          "2022-05-11T07:00:00+00:00",
          "2022-05-12T05:00:00+00:00",
          "2022-05-12T08:00:00+00:00",
          "2022-05-13T17:00:00+00:00",
          "2022-05-17T09:00:00+00:00",
          "2022-05-17T16:00:00+00:00",
          "2022-05-18T15:00:00+00:00",
          "2022-05-20T13:00:00+00:00",
          "2022-05-24T18:00:00+00:00",
          "2022-05-26T15:00:00+00:00",
          "2022-05-27T12:00:00+00:00",
          "2022-05-30T06:00:00+00:00",
          "2022-05-31T09:00:00+00:00",
          "2022-06-01T08:00:00+00:00",
          "2022-06-01T16:00:00+00:00",
          "2022-06-02T15:00:00+00:00",
          "2022-06-09T13:00:00+00:00",
          "2022-06-13T15:00:00+00:00",
          "2022-06-14T01:00:00+00:00",
          "2022-06-14T15:00:00+00:00",
          "2022-06-15T17:00:00+00:00",
          "2022-06-20T00:00:00+00:00",
          "2022-06-20T01:00:00+00:00",
          "2022-06-20T14:00:00+00:00",
          "2022-06-21T20:00:00+00:00",
          "2022-06-26T22:00:00+00:00",
          "2022-06-27T23:00:00+00:00",
          "2022-06-30T17:00:00+00:00",
          "2022-07-03T21:00:00+00:00",
          "2022-07-04T10:00:00+00:00",
          "2022-07-05T08:00:00+00:00",
          "2022-07-07T10:00:00+00:00",
          "2022-07-08T07:00:00+00:00",
          "2022-07-08T13:00:00+00:00",
          "2022-07-11T10:00:00+00:00",
          "2022-07-12T16:00:00+00:00",
          "2022-07-12T21:00:00+00:00",
          "2022-07-13T20:00:00+00:00",
          "2022-07-13T23:00:00+00:00",
          "2022-07-14T07:00:00+00:00",
          "2022-07-15T07:00:00+00:00",
          "2022-07-15T16:00:00+00:00",
          "2022-07-18T00:00:00+00:00",
          "2022-07-18T06:00:00+00:00",
          "2022-07-19T18:00:00+00:00",
          "2022-07-20T04:00:00+00:00",
          "2022-07-20T11:00:00+00:00",
          "2022-07-21T07:00:00+00:00",
          "2022-07-21T16:00:00+00:00",
          "2022-07-25T09:00:00+00:00",
          "2022-07-26T10:00:00+00:00",
          "2022-07-27T17:00:00+00:00",
          "2022-07-28T12:00:00+00:00",
          "2022-07-29T13:00:00+00:00",
          "2022-07-29T15:00:00+00:00",
          "2022-08-01T10:00:00+00:00",
          "2022-08-01T11:00:00+00:00",
          "2022-08-01T13:00:00+00:00",
          "2022-08-02T12:00:00+00:00",
          "2022-08-03T08:00:00+00:00",
          "2022-08-05T12:00:00+00:00",
          "2022-08-05T16:00:00+00:00",
          "2022-08-08T07:00:00+00:00",
          "2022-08-09T14:00:00+00:00",
          "2022-08-09T19:00:00+00:00",
          "2022-08-11T14:00:00+00:00",
          "2022-08-11T17:00:00+00:00",
          "2022-08-11T19:00:00+00:00",
          "2022-08-12T07:00:00+00:00",
          "2022-08-16T13:00:00+00:00",
          "2022-08-18T14:00:00+00:00",
          "2022-08-23T13:00:00+00:00",
          "2022-08-24T08:00:00+00:00",
          "2022-08-24T17:00:00+00:00",
          "2022-08-25T15:00:00+00:00",
          "2022-08-26T10:00:00+00:00",
          "2022-08-29T04:00:00+00:00"
         ],
         "y": [
          0.30000000000196536,
          -1.4999999999965041,
          51.400000000003665,
          31.900000000002482,
          65.20000000000081,
          61.70000000000009,
          94.7000000000009,
          116.30000000000251,
          106.20000000000296,
          97.90000000000188,
          89.30000000000105,
          107.39999999999972,
          114.4999999999996,
          277.8999999999998,
          274.4999999999997,
          267.6999999999996,
          254.99999999999855,
          249.69999999999936,
          318.89999999999975,
          311.09999999999974,
          326.99999999999955,
          298.09999999999894,
          294.69999999999885,
          280.4999999999991,
          286.29999999999933,
          248.89999999999856,
          275.8999999999978,
          253.29999999999853,
          346.8999999999989,
          309.1999999999984,
          437.9999999999984,
          582.4999999999991,
          574.0999999999996,
          543.7999999999987,
          493.79999999999757,
          559.0999999999968,
          543.5999999999974,
          589.8999999999987,
          689.4,
          691.1,
          678.6999999999987,
          636.2999999999985,
          666.4999999999987,
          670.799999999998,
          666.8999999999969,
          760.6999999999963,
          758.8999999999957,
          702.8999999999952,
          741.8999999999953,
          729.6999999999953,
          717.6999999999966,
          698.1999999999977,
          720.1999999999974,
          700.0999999999967,
          696.1999999999956,
          653.0999999999952,
          642.7999999999944,
          689.8999999999943,
          689.999999999995,
          686.5999999999949,
          676.6999999999945,
          814.9999999999945,
          901.499999999995,
          905.1999999999948,
          876.8999999999959,
          1085.8999999999974,
          1080.8999999999978,
          1060.8999999999978,
          1054.799999999998,
          984.8999999999974,
          961.4999999999973,
          971.9999999999973,
          935.4999999999958,
          850.299999999995,
          948.0999999999962,
          962.0999999999968,
          976.9999999999967,
          950.9999999999974,
          937.0999999999974,
          952.8999999999966,
          942.6999999999964,
          889.4999999999965,
          844.6999999999961,
          946.2999999999955,
          945.0999999999943,
          918.0999999999929,
          855.1999999999916,
          834.1999999999917,
          1074.8999999999921,
          1056.6999999999928,
          1025.2999999999936,
          1017.6999999999927,
          1089.099999999992,
          1099.799999999991,
          1217.6999999999907,
          1224.1999999999912,
          1202.8999999999915,
          1114.5999999999915,
          1142.3999999999905,
          1112.6999999999903,
          1068.9999999999905,
          1056.0999999999904,
          1094.49999999999,
          1074.2999999999897,
          1083.29999999999,
          1080.0999999999901,
          1043.5999999999908,
          999.2999999999914,
          976.2999999999918,
          958.699999999992,
          926.9999999999919,
          969.0999999999913,
          961.4999999999903,
          924.49999999999,
          884.2999999999897,
          832.499999999989,
          850.5999999999888,
          789.6999999999895,
          814.2999999999896,
          776.0999999999891,
          770.0999999999887,
          738.4999999999882,
          708.4999999999882,
          693.0999999999883,
          672.4999999999889,
          656.6999999999897,
          608.8999999999896,
          610.0999999999897,
          585.4999999999906,
          560.0999999999907,
          596.2999999999903,
          596.8999999999897,
          617.299999999989,
          613.899999999989,
          609.2999999999888,
          591.4999999999887,
          632.7999999999895,
          640.6999999999902,
          679.6999999999903,
          621.0999999999905,
          561.7999999999905,
          539.4999999999899,
          503.2999999999892,
          478.29999999998864,
          426.2999999999888
         ]
        }
       ],
       "layout": {
        "font": {
         "color": "#3d825f",
         "size": 10
        },
        "height": 400,
        "margin": {
         "b": 10,
         "l": 15,
         "r": 15
        },
        "paper_bgcolor": "#1e1e1e",
        "plot_bgcolor": "#1e1e1e",
        "template": {
         "data": {
          "bar": [
           {
            "error_x": {
             "color": "#2a3f5f"
            },
            "error_y": {
             "color": "#2a3f5f"
            },
            "marker": {
             "line": {
              "color": "#E5ECF6",
              "width": 0.5
             },
             "pattern": {
              "fillmode": "overlay",
              "size": 10,
              "solidity": 0.2
             }
            },
            "type": "bar"
           }
          ],
          "barpolar": [
           {
            "marker": {
             "line": {
              "color": "#E5ECF6",
              "width": 0.5
             },
             "pattern": {
              "fillmode": "overlay",
              "size": 10,
              "solidity": 0.2
             }
            },
            "type": "barpolar"
           }
          ],
          "carpet": [
           {
            "aaxis": {
             "endlinecolor": "#2a3f5f",
             "gridcolor": "white",
             "linecolor": "white",
             "minorgridcolor": "white",
             "startlinecolor": "#2a3f5f"
            },
            "baxis": {
             "endlinecolor": "#2a3f5f",
             "gridcolor": "white",
             "linecolor": "white",
             "minorgridcolor": "white",
             "startlinecolor": "#2a3f5f"
            },
            "type": "carpet"
           }
          ],
          "choropleth": [
           {
            "colorbar": {
             "outlinewidth": 0,
             "ticks": ""
            },
            "type": "choropleth"
           }
          ],
          "contour": [
           {
            "colorbar": {
             "outlinewidth": 0,
             "ticks": ""
            },
            "colorscale": [
             [
              0,
              "#0d0887"
             ],
             [
              0.1111111111111111,
              "#46039f"
             ],
             [
              0.2222222222222222,
              "#7201a8"
             ],
             [
              0.3333333333333333,
              "#9c179e"
             ],
             [
              0.4444444444444444,
              "#bd3786"
             ],
             [
              0.5555555555555556,
              "#d8576b"
             ],
             [
              0.6666666666666666,
              "#ed7953"
             ],
             [
              0.7777777777777778,
              "#fb9f3a"
             ],
             [
              0.8888888888888888,
              "#fdca26"
             ],
             [
              1,
              "#f0f921"
             ]
            ],
            "type": "contour"
           }
          ],
          "contourcarpet": [
           {
            "colorbar": {
             "outlinewidth": 0,
             "ticks": ""
            },
            "type": "contourcarpet"
           }
          ],
          "heatmap": [
           {
            "colorbar": {
             "outlinewidth": 0,
             "ticks": ""
            },
            "colorscale": [
             [
              0,
              "#0d0887"
             ],
             [
              0.1111111111111111,
              "#46039f"
             ],
             [
              0.2222222222222222,
              "#7201a8"
             ],
             [
              0.3333333333333333,
              "#9c179e"
             ],
             [
              0.4444444444444444,
              "#bd3786"
             ],
             [
              0.5555555555555556,
              "#d8576b"
             ],
             [
              0.6666666666666666,
              "#ed7953"
             ],
             [
              0.7777777777777778,
              "#fb9f3a"
             ],
             [
              0.8888888888888888,
              "#fdca26"
             ],
             [
              1,
              "#f0f921"
             ]
            ],
            "type": "heatmap"
           }
          ],
          "heatmapgl": [
           {
            "colorbar": {
             "outlinewidth": 0,
             "ticks": ""
            },
            "colorscale": [
             [
              0,
              "#0d0887"
             ],
             [
              0.1111111111111111,
              "#46039f"
             ],
             [
              0.2222222222222222,
              "#7201a8"
             ],
             [
              0.3333333333333333,
              "#9c179e"
             ],
             [
              0.4444444444444444,
              "#bd3786"
             ],
             [
              0.5555555555555556,
              "#d8576b"
             ],
             [
              0.6666666666666666,
              "#ed7953"
             ],
             [
              0.7777777777777778,
              "#fb9f3a"
             ],
             [
              0.8888888888888888,
              "#fdca26"
             ],
             [
              1,
              "#f0f921"
             ]
            ],
            "type": "heatmapgl"
           }
          ],
          "histogram": [
           {
            "marker": {
             "pattern": {
              "fillmode": "overlay",
              "size": 10,
              "solidity": 0.2
             }
            },
            "type": "histogram"
           }
          ],
          "histogram2d": [
           {
            "colorbar": {
             "outlinewidth": 0,
             "ticks": ""
            },
            "colorscale": [
             [
              0,
              "#0d0887"
             ],
             [
              0.1111111111111111,
              "#46039f"
             ],
             [
              0.2222222222222222,
              "#7201a8"
             ],
             [
              0.3333333333333333,
              "#9c179e"
             ],
             [
              0.4444444444444444,
              "#bd3786"
             ],
             [
              0.5555555555555556,
              "#d8576b"
             ],
             [
              0.6666666666666666,
              "#ed7953"
             ],
             [
              0.7777777777777778,
              "#fb9f3a"
             ],
             [
              0.8888888888888888,
              "#fdca26"
             ],
             [
              1,
              "#f0f921"
             ]
            ],
            "type": "histogram2d"
           }
          ],
          "histogram2dcontour": [
           {
            "colorbar": {
             "outlinewidth": 0,
             "ticks": ""
            },
            "colorscale": [
             [
              0,
              "#0d0887"
             ],
             [
              0.1111111111111111,
              "#46039f"
             ],
             [
              0.2222222222222222,
              "#7201a8"
             ],
             [
              0.3333333333333333,
              "#9c179e"
             ],
             [
              0.4444444444444444,
              "#bd3786"
             ],
             [
              0.5555555555555556,
              "#d8576b"
             ],
             [
              0.6666666666666666,
              "#ed7953"
             ],
             [
              0.7777777777777778,
              "#fb9f3a"
             ],
             [
              0.8888888888888888,
              "#fdca26"
             ],
             [
              1,
              "#f0f921"
             ]
            ],
            "type": "histogram2dcontour"
           }
          ],
          "mesh3d": [
           {
            "colorbar": {
             "outlinewidth": 0,
             "ticks": ""
            },
            "type": "mesh3d"
           }
          ],
          "parcoords": [
           {
            "line": {
             "colorbar": {
              "outlinewidth": 0,
              "ticks": ""
             }
            },
            "type": "parcoords"
           }
          ],
          "pie": [
           {
            "automargin": true,
            "type": "pie"
           }
          ],
          "scatter": [
           {
            "fillpattern": {
             "fillmode": "overlay",
             "size": 10,
             "solidity": 0.2
            },
            "type": "scatter"
           }
          ],
          "scatter3d": [
           {
            "line": {
             "colorbar": {
              "outlinewidth": 0,
              "ticks": ""
             }
            },
            "marker": {
             "colorbar": {
              "outlinewidth": 0,
              "ticks": ""
             }
            },
            "type": "scatter3d"
           }
          ],
          "scattercarpet": [
           {
            "marker": {
             "colorbar": {
              "outlinewidth": 0,
              "ticks": ""
             }
            },
            "type": "scattercarpet"
           }
          ],
          "scattergeo": [
           {
            "marker": {
             "colorbar": {
              "outlinewidth": 0,
              "ticks": ""
             }
            },
            "type": "scattergeo"
           }
          ],
          "scattergl": [
           {
            "marker": {
             "colorbar": {
              "outlinewidth": 0,
              "ticks": ""
             }
            },
            "type": "scattergl"
           }
          ],
          "scattermapbox": [
           {
            "marker": {
             "colorbar": {
              "outlinewidth": 0,
              "ticks": ""
             }
            },
            "type": "scattermapbox"
           }
          ],
          "scatterpolar": [
           {
            "marker": {
             "colorbar": {
              "outlinewidth": 0,
              "ticks": ""
             }
            },
            "type": "scatterpolar"
           }
          ],
          "scatterpolargl": [
           {
            "marker": {
             "colorbar": {
              "outlinewidth": 0,
              "ticks": ""
             }
            },
            "type": "scatterpolargl"
           }
          ],
          "scatterternary": [
           {
            "marker": {
             "colorbar": {
              "outlinewidth": 0,
              "ticks": ""
             }
            },
            "type": "scatterternary"
           }
          ],
          "surface": [
           {
            "colorbar": {
             "outlinewidth": 0,
             "ticks": ""
            },
            "colorscale": [
             [
              0,
              "#0d0887"
             ],
             [
              0.1111111111111111,
              "#46039f"
             ],
             [
              0.2222222222222222,
              "#7201a8"
             ],
             [
              0.3333333333333333,
              "#9c179e"
             ],
             [
              0.4444444444444444,
              "#bd3786"
             ],
             [
              0.5555555555555556,
              "#d8576b"
             ],
             [
              0.6666666666666666,
              "#ed7953"
             ],
             [
              0.7777777777777778,
              "#fb9f3a"
             ],
             [
              0.8888888888888888,
              "#fdca26"
             ],
             [
              1,
              "#f0f921"
             ]
            ],
            "type": "surface"
           }
          ],
          "table": [
           {
            "cells": {
             "fill": {
              "color": "#EBF0F8"
             },
             "line": {
              "color": "white"
             }
            },
            "header": {
             "fill": {
              "color": "#C8D4E3"
             },
             "line": {
              "color": "white"
             }
            },
            "type": "table"
           }
          ]
         },
         "layout": {
          "annotationdefaults": {
           "arrowcolor": "#2a3f5f",
           "arrowhead": 0,
           "arrowwidth": 1
          },
          "autotypenumbers": "strict",
          "coloraxis": {
           "colorbar": {
            "outlinewidth": 0,
            "ticks": ""
           }
          },
          "colorscale": {
           "diverging": [
            [
             0,
             "#8e0152"
            ],
            [
             0.1,
             "#c51b7d"
            ],
            [
             0.2,
             "#de77ae"
            ],
            [
             0.3,
             "#f1b6da"
            ],
            [
             0.4,
             "#fde0ef"
            ],
            [
             0.5,
             "#f7f7f7"
            ],
            [
             0.6,
             "#e6f5d0"
            ],
            [
             0.7,
             "#b8e186"
            ],
            [
             0.8,
             "#7fbc41"
            ],
            [
             0.9,
             "#4d9221"
            ],
            [
             1,
             "#276419"
            ]
           ],
           "sequential": [
            [
             0,
             "#0d0887"
            ],
            [
             0.1111111111111111,
             "#46039f"
            ],
            [
             0.2222222222222222,
             "#7201a8"
            ],
            [
             0.3333333333333333,
             "#9c179e"
            ],
            [
             0.4444444444444444,
             "#bd3786"
            ],
            [
             0.5555555555555556,
             "#d8576b"
            ],
            [
             0.6666666666666666,
             "#ed7953"
            ],
            [
             0.7777777777777778,
             "#fb9f3a"
            ],
            [
             0.8888888888888888,
             "#fdca26"
            ],
            [
             1,
             "#f0f921"
            ]
           ],
           "sequentialminus": [
            [
             0,
             "#0d0887"
            ],
            [
             0.1111111111111111,
             "#46039f"
            ],
            [
             0.2222222222222222,
             "#7201a8"
            ],
            [
             0.3333333333333333,
             "#9c179e"
            ],
            [
             0.4444444444444444,
             "#bd3786"
            ],
            [
             0.5555555555555556,
             "#d8576b"
            ],
            [
             0.6666666666666666,
             "#ed7953"
            ],
            [
             0.7777777777777778,
             "#fb9f3a"
            ],
            [
             0.8888888888888888,
             "#fdca26"
            ],
            [
             1,
             "#f0f921"
            ]
           ]
          },
          "colorway": [
           "#636efa",
           "#EF553B",
           "#00cc96",
           "#ab63fa",
           "#FFA15A",
           "#19d3f3",
           "#FF6692",
           "#B6E880",
           "#FF97FF",
           "#FECB52"
          ],
          "font": {
           "color": "#2a3f5f"
          },
          "geo": {
           "bgcolor": "white",
           "lakecolor": "white",
           "landcolor": "#E5ECF6",
           "showlakes": true,
           "showland": true,
           "subunitcolor": "white"
          },
          "hoverlabel": {
           "align": "left"
          },
          "hovermode": "closest",
          "mapbox": {
           "style": "light"
          },
          "paper_bgcolor": "white",
          "plot_bgcolor": "#E5ECF6",
          "polar": {
           "angularaxis": {
            "gridcolor": "white",
            "linecolor": "white",
            "ticks": ""
           },
           "bgcolor": "#E5ECF6",
           "radialaxis": {
            "gridcolor": "white",
            "linecolor": "white",
            "ticks": ""
           }
          },
          "scene": {
           "xaxis": {
            "backgroundcolor": "#E5ECF6",
            "gridcolor": "white",
            "gridwidth": 2,
            "linecolor": "white",
            "showbackground": true,
            "ticks": "",
            "zerolinecolor": "white"
           },
           "yaxis": {
            "backgroundcolor": "#E5ECF6",
            "gridcolor": "white",
            "gridwidth": 2,
            "linecolor": "white",
            "showbackground": true,
            "ticks": "",
            "zerolinecolor": "white"
           },
           "zaxis": {
            "backgroundcolor": "#E5ECF6",
            "gridcolor": "white",
            "gridwidth": 2,
            "linecolor": "white",
            "showbackground": true,
            "ticks": "",
            "zerolinecolor": "white"
           }
          },
          "shapedefaults": {
           "line": {
            "color": "#2a3f5f"
           }
          },
          "ternary": {
           "aaxis": {
            "gridcolor": "white",
            "linecolor": "white",
            "ticks": ""
           },
           "baxis": {
            "gridcolor": "white",
            "linecolor": "white",
            "ticks": ""
           },
           "bgcolor": "#E5ECF6",
           "caxis": {
            "gridcolor": "white",
            "linecolor": "white",
            "ticks": ""
           }
          },
          "title": {
           "x": 0.05
          },
          "xaxis": {
           "automargin": true,
           "gridcolor": "white",
           "linecolor": "white",
           "ticks": "",
           "title": {
            "standoff": 15
           },
           "zerolinecolor": "white",
           "zerolinewidth": 2
          },
          "yaxis": {
           "automargin": true,
           "gridcolor": "white",
           "linecolor": "white",
           "ticks": "",
           "title": {
            "standoff": 15
           },
           "zerolinecolor": "white",
           "zerolinewidth": 2
          }
         }
        },
        "title": {
         "text": "EUR_CHF_ma_8_32"
        },
        "width": 1000,
        "xaxis": {
         "linecolor": "#3a4a54",
         "linewidth": 1,
         "showgrid": false,
         "zeroline": false
        },
        "yaxis": {
         "linecolor": "#3a4a54",
         "linewidth": 1,
         "showgrid": false,
         "zeroline": false
        }
       }
      }
     },
     "metadata": {},
     "output_type": "display_data"
    },
    {
     "data": {
      "application/vnd.plotly.v1+json": {
       "config": {
        "plotlyServerURL": "https://plot.ly"
       },
       "data": [
        {
         "line": {
          "color": "#3d825f",
          "shape": "spline",
          "width": 2
         },
         "mode": "lines",
         "name": "GBP_JPY_ma_8_32",
         "type": "scatter",
         "x": [
          "2022-01-10T12:00:00+00:00",
          "2022-01-11T09:00:00+00:00",
          "2022-01-12T20:00:00+00:00",
          "2022-01-17T01:00:00+00:00",
          "2022-01-18T01:00:00+00:00",
          "2022-01-18T02:00:00+00:00",
          "2022-01-18T11:00:00+00:00",
          "2022-01-19T14:00:00+00:00",
          "2022-01-19T21:00:00+00:00",
          "2022-01-20T06:00:00+00:00",
          "2022-01-20T12:00:00+00:00",
          "2022-01-25T13:00:00+00:00",
          "2022-01-27T06:00:00+00:00",
          "2022-01-27T13:00:00+00:00",
          "2022-01-28T19:00:00+00:00",
          "2022-01-31T03:00:00+00:00",
          "2022-01-31T22:00:00+00:00",
          "2022-02-01T15:00:00+00:00",
          "2022-02-04T13:00:00+00:00",
          "2022-02-08T01:00:00+00:00",
          "2022-02-09T19:00:00+00:00",
          "2022-02-10T09:00:00+00:00",
          "2022-02-11T11:00:00+00:00",
          "2022-02-11T12:00:00+00:00",
          "2022-02-11T19:00:00+00:00",
          "2022-02-14T23:00:00+00:00",
          "2022-02-15T06:00:00+00:00",
          "2022-02-15T08:00:00+00:00",
          "2022-02-17T04:00:00+00:00",
          "2022-02-18T05:00:00+00:00",
          "2022-02-18T17:00:00+00:00",
          "2022-02-21T09:00:00+00:00",
          "2022-02-21T12:00:00+00:00",
          "2022-02-22T17:00:00+00:00",
          "2022-02-23T17:00:00+00:00",
          "2022-02-25T05:00:00+00:00",
          "2022-02-28T02:00:00+00:00",
          "2022-02-28T13:00:00+00:00",
          "2022-02-28T17:00:00+00:00",
          "2022-03-01T05:00:00+00:00",
          "2022-03-01T09:00:00+00:00",
          "2022-03-02T14:00:00+00:00",
          "2022-03-03T17:00:00+00:00",
          "2022-03-08T12:00:00+00:00",
          "2022-03-10T15:00:00+00:00",
          "2022-03-11T08:00:00+00:00",
          "2022-03-17T19:00:00+00:00",
          "2022-03-18T05:00:00+00:00",
          "2022-03-23T13:00:00+00:00",
          "2022-03-24T09:00:00+00:00",
          "2022-03-25T09:00:00+00:00",
          "2022-03-25T18:00:00+00:00",
          "2022-03-29T04:00:00+00:00",
          "2022-03-31T03:00:00+00:00",
          "2022-03-31T09:00:00+00:00",
          "2022-04-01T01:00:00+00:00",
          "2022-04-05T04:00:00+00:00",
          "2022-04-05T08:00:00+00:00",
          "2022-04-06T21:00:00+00:00",
          "2022-04-07T11:00:00+00:00",
          "2022-04-08T07:00:00+00:00",
          "2022-04-08T18:00:00+00:00",
          "2022-04-12T12:00:00+00:00",
          "2022-04-13T05:00:00+00:00",
          "2022-04-14T17:00:00+00:00",
          "2022-04-14T21:00:00+00:00",
          "2022-04-18T04:00:00+00:00",
          "2022-04-18T19:00:00+00:00",
          "2022-04-20T10:00:00+00:00",
          "2022-04-21T03:00:00+00:00",
          "2022-04-21T23:00:00+00:00",
          "2022-04-22T02:00:00+00:00",
          "2022-04-22T04:00:00+00:00",
          "2022-04-27T16:00:00+00:00",
          "2022-04-29T19:00:00+00:00",
          "2022-05-01T22:00:00+00:00",
          "2022-05-02T14:00:00+00:00",
          "2022-05-03T13:00:00+00:00",
          "2022-05-03T15:00:00+00:00",
          "2022-05-04T21:00:00+00:00",
          "2022-05-05T06:00:00+00:00",
          "2022-05-08T21:00:00+00:00",
          "2022-05-09T03:00:00+00:00",
          "2022-05-09T10:00:00+00:00",
          "2022-05-09T19:00:00+00:00",
          "2022-05-11T05:00:00+00:00",
          "2022-05-11T11:00:00+00:00",
          "2022-05-11T13:00:00+00:00",
          "2022-05-11T16:00:00+00:00",
          "2022-05-13T06:00:00+00:00",
          "2022-05-18T08:00:00+00:00",
          "2022-05-19T17:00:00+00:00",
          "2022-05-24T08:00:00+00:00",
          "2022-05-25T14:00:00+00:00",
          "2022-05-26T12:00:00+00:00",
          "2022-05-26T15:00:00+00:00",
          "2022-05-31T11:00:00+00:00",
          "2022-05-31T13:00:00+00:00",
          "2022-06-01T19:00:00+00:00",
          "2022-06-02T10:00:00+00:00",
          "2022-06-06T01:00:00+00:00",
          "2022-06-06T08:00:00+00:00",
          "2022-06-09T07:00:00+00:00",
          "2022-06-09T21:00:00+00:00",
          "2022-06-09T22:00:00+00:00",
          "2022-06-15T13:00:00+00:00",
          "2022-06-16T10:00:00+00:00",
          "2022-06-16T19:00:00+00:00",
          "2022-06-20T08:00:00+00:00",
          "2022-06-20T09:00:00+00:00",
          "2022-06-22T07:00:00+00:00",
          "2022-06-22T20:00:00+00:00",
          "2022-06-23T00:00:00+00:00",
          "2022-06-24T09:00:00+00:00",
          "2022-06-27T04:00:00+00:00",
          "2022-06-27T08:00:00+00:00",
          "2022-06-28T19:00:00+00:00",
          "2022-07-04T07:00:00+00:00",
          "2022-07-05T11:00:00+00:00",
          "2022-07-06T21:00:00+00:00",
          "2022-07-08T08:00:00+00:00",
          "2022-07-08T16:00:00+00:00",
          "2022-07-11T16:00:00+00:00",
          "2022-07-13T03:00:00+00:00",
          "2022-07-15T10:00:00+00:00",
          "2022-07-15T19:00:00+00:00",
          "2022-07-19T05:00:00+00:00",
          "2022-07-19T09:00:00+00:00",
          "2022-07-20T13:00:00+00:00",
          "2022-07-21T06:00:00+00:00",
          "2022-07-21T09:00:00+00:00",
          "2022-07-21T10:00:00+00:00",
          "2022-07-21T11:00:00+00:00",
          "2022-07-21T12:00:00+00:00",
          "2022-07-21T13:00:00+00:00",
          "2022-07-25T11:00:00+00:00",
          "2022-07-26T11:00:00+00:00",
          "2022-07-26T21:00:00+00:00",
          "2022-07-28T05:00:00+00:00",
          "2022-08-02T18:00:00+00:00",
          "2022-08-04T14:00:00+00:00",
          "2022-08-05T14:00:00+00:00",
          "2022-08-08T18:00:00+00:00",
          "2022-08-09T09:00:00+00:00",
          "2022-08-10T02:00:00+00:00",
          "2022-08-11T21:00:00+00:00",
          "2022-08-12T14:00:00+00:00",
          "2022-08-16T10:00:00+00:00",
          "2022-08-18T01:00:00+00:00",
          "2022-08-22T04:00:00+00:00",
          "2022-08-22T09:00:00+00:00",
          "2022-08-23T14:00:00+00:00",
          "2022-08-24T05:00:00+00:00",
          "2022-08-24T20:00:00+00:00",
          "2022-08-25T15:00:00+00:00",
          "2022-08-26T08:00:00+00:00",
          "2022-08-26T20:00:00+00:00"
         ],
         "y": [
          -64.50000000000102,
          -63.00000000000239,
          -5.300000000002569,
          -14.700000000001978,
          -49.10000000000139,
          -118.6000000000007,
          -118.80000000000166,
          -157.60000000000218,
          -191.50000000000205,
          -235.80000000000325,
          -22.800000000003706,
          34.99999999999659,
          -5.400000000003047,
          -20.000000000001705,
          -91.20000000000061,
          -108.70000000000175,
          -136.3000000000028,
          -52.000000000003865,
          -69.60000000000548,
          -45.100000000005025,
          -129.0000000000049,
          -110.60000000000514,
          -123.70000000000516,
          -253.0000000000058,
          -271.6000000000065,
          -305.60000000000684,
          -385.400000000007,
          -423.20000000000846,
          -459.6000000000089,
          -509.200000000007,
          -542.0000000000044,
          -565.900000000002,
          -550.200000000001,
          -579.6999999999997,
          -462.3999999999995,
          -510.9000000000009,
          -551.400000000001,
          -605.4000000000002,
          -629.8000000000002,
          -672.5999999999999,
          -678.1999999999982,
          -670.8999999999975,
          -422.2999999999985,
          -355.19999999999925,
          -402.4000000000001,
          -70.60000000000173,
          -96.4000000000027,
          179.79999999999734,
          57.399999999998386,
          38.39999999999861,
          -51.50000000000148,
          -0.40000000000190994,
          106.29999999999598,
          61.799999999993815,
          -6.500000000008299,
          2.4999999999891998,
          -33.20000000001073,
          29.099999999991155,
          -8.20000000000789,
          -45.00000000000739,
          -83.20000000000789,
          3.9999999999906777,
          -35.40000000000987,
          94.39999999999031,
          101.89999999998918,
          128.79999999998688,
          105.69999999998458,
          275.39999999998486,
          220.59999999998752,
          210.4999999999876,
          191.99999999998738,
          143.19999999998743,
          723.2999999999862,
          923.9999999999867,
          871.9999999999885,
          804.9999999999898,
          825.9999999999906,
          814.999999999992,
          766.399999999993,
          693.1999999999931,
          817.799999999994,
          791.6999999999945,
          707.1999999999946,
          582.9999999999956,
          559.0999999999951,
          519.0999999999946,
          429.1999999999945,
          266.79999999999495,
          515.2999999999963,
          785.7999999999976,
          812.5999999999976,
          760.9999999999985,
          696.7999999999989,
          699.199999999999,
          672.2000000000008,
          801.600000000002,
          730.8000000000021,
          772.3000000000013,
          739.7999999999996,
          764.7999999999996,
          630.6000000000012,
          871.9000000000023,
          757.9000000000036,
          755.600000000004,
          1296.8000000000047,
          1230.0000000000068,
          1095.0000000000073,
          1280.0000000000068,
          1275.5000000000082,
          1382.8000000000088,
          1293.8000000000075,
          1272.1000000000063,
          1346.5000000000064,
          1284.1000000000067,
          1205.400000000006,
          1179.4000000000042,
          1356.8000000000043,
          1253.5000000000055,
          1372.2000000000066,
          1372.2000000000066,
          1205.200000000005,
          1166.0000000000055,
          1167.4000000000065,
          1264.0000000000073,
          1246.8000000000075,
          1316.4000000000074,
          1277.800000000008,
          1274.800000000008,
          1239.6000000000076,
          1228.5000000000086,
          1220.3000000000093,
          1184.6000000000095,
          1139.6000000000106,
          1058.1000000000108,
          1088.4000000000106,
          987.4000000000115,
          888.6000000000115,
          899.800000000011,
          1201.200000000012,
          1139.9000000000121,
          939.8000000000117,
          897.600000000012,
          823.7000000000115,
          781.0000000000123,
          865.4000000000145,
          843.2000000000165,
          911.6000000000163,
          1018.8000000000137,
          1024.800000000011,
          947.6000000000091,
          956.8000000000076,
          943.6000000000071,
          905.8000000000085,
          879.0000000000084,
          870.4000000000071,
          868.4000000000061,
          830.2000000000056
         ]
        }
       ],
       "layout": {
        "font": {
         "color": "#3d825f",
         "size": 10
        },
        "height": 400,
        "margin": {
         "b": 10,
         "l": 15,
         "r": 15
        },
        "paper_bgcolor": "#1e1e1e",
        "plot_bgcolor": "#1e1e1e",
        "template": {
         "data": {
          "bar": [
           {
            "error_x": {
             "color": "#2a3f5f"
            },
            "error_y": {
             "color": "#2a3f5f"
            },
            "marker": {
             "line": {
              "color": "#E5ECF6",
              "width": 0.5
             },
             "pattern": {
              "fillmode": "overlay",
              "size": 10,
              "solidity": 0.2
             }
            },
            "type": "bar"
           }
          ],
          "barpolar": [
           {
            "marker": {
             "line": {
              "color": "#E5ECF6",
              "width": 0.5
             },
             "pattern": {
              "fillmode": "overlay",
              "size": 10,
              "solidity": 0.2
             }
            },
            "type": "barpolar"
           }
          ],
          "carpet": [
           {
            "aaxis": {
             "endlinecolor": "#2a3f5f",
             "gridcolor": "white",
             "linecolor": "white",
             "minorgridcolor": "white",
             "startlinecolor": "#2a3f5f"
            },
            "baxis": {
             "endlinecolor": "#2a3f5f",
             "gridcolor": "white",
             "linecolor": "white",
             "minorgridcolor": "white",
             "startlinecolor": "#2a3f5f"
            },
            "type": "carpet"
           }
          ],
          "choropleth": [
           {
            "colorbar": {
             "outlinewidth": 0,
             "ticks": ""
            },
            "type": "choropleth"
           }
          ],
          "contour": [
           {
            "colorbar": {
             "outlinewidth": 0,
             "ticks": ""
            },
            "colorscale": [
             [
              0,
              "#0d0887"
             ],
             [
              0.1111111111111111,
              "#46039f"
             ],
             [
              0.2222222222222222,
              "#7201a8"
             ],
             [
              0.3333333333333333,
              "#9c179e"
             ],
             [
              0.4444444444444444,
              "#bd3786"
             ],
             [
              0.5555555555555556,
              "#d8576b"
             ],
             [
              0.6666666666666666,
              "#ed7953"
             ],
             [
              0.7777777777777778,
              "#fb9f3a"
             ],
             [
              0.8888888888888888,
              "#fdca26"
             ],
             [
              1,
              "#f0f921"
             ]
            ],
            "type": "contour"
           }
          ],
          "contourcarpet": [
           {
            "colorbar": {
             "outlinewidth": 0,
             "ticks": ""
            },
            "type": "contourcarpet"
           }
          ],
          "heatmap": [
           {
            "colorbar": {
             "outlinewidth": 0,
             "ticks": ""
            },
            "colorscale": [
             [
              0,
              "#0d0887"
             ],
             [
              0.1111111111111111,
              "#46039f"
             ],
             [
              0.2222222222222222,
              "#7201a8"
             ],
             [
              0.3333333333333333,
              "#9c179e"
             ],
             [
              0.4444444444444444,
              "#bd3786"
             ],
             [
              0.5555555555555556,
              "#d8576b"
             ],
             [
              0.6666666666666666,
              "#ed7953"
             ],
             [
              0.7777777777777778,
              "#fb9f3a"
             ],
             [
              0.8888888888888888,
              "#fdca26"
             ],
             [
              1,
              "#f0f921"
             ]
            ],
            "type": "heatmap"
           }
          ],
          "heatmapgl": [
           {
            "colorbar": {
             "outlinewidth": 0,
             "ticks": ""
            },
            "colorscale": [
             [
              0,
              "#0d0887"
             ],
             [
              0.1111111111111111,
              "#46039f"
             ],
             [
              0.2222222222222222,
              "#7201a8"
             ],
             [
              0.3333333333333333,
              "#9c179e"
             ],
             [
              0.4444444444444444,
              "#bd3786"
             ],
             [
              0.5555555555555556,
              "#d8576b"
             ],
             [
              0.6666666666666666,
              "#ed7953"
             ],
             [
              0.7777777777777778,
              "#fb9f3a"
             ],
             [
              0.8888888888888888,
              "#fdca26"
             ],
             [
              1,
              "#f0f921"
             ]
            ],
            "type": "heatmapgl"
           }
          ],
          "histogram": [
           {
            "marker": {
             "pattern": {
              "fillmode": "overlay",
              "size": 10,
              "solidity": 0.2
             }
            },
            "type": "histogram"
           }
          ],
          "histogram2d": [
           {
            "colorbar": {
             "outlinewidth": 0,
             "ticks": ""
            },
            "colorscale": [
             [
              0,
              "#0d0887"
             ],
             [
              0.1111111111111111,
              "#46039f"
             ],
             [
              0.2222222222222222,
              "#7201a8"
             ],
             [
              0.3333333333333333,
              "#9c179e"
             ],
             [
              0.4444444444444444,
              "#bd3786"
             ],
             [
              0.5555555555555556,
              "#d8576b"
             ],
             [
              0.6666666666666666,
              "#ed7953"
             ],
             [
              0.7777777777777778,
              "#fb9f3a"
             ],
             [
              0.8888888888888888,
              "#fdca26"
             ],
             [
              1,
              "#f0f921"
             ]
            ],
            "type": "histogram2d"
           }
          ],
          "histogram2dcontour": [
           {
            "colorbar": {
             "outlinewidth": 0,
             "ticks": ""
            },
            "colorscale": [
             [
              0,
              "#0d0887"
             ],
             [
              0.1111111111111111,
              "#46039f"
             ],
             [
              0.2222222222222222,
              "#7201a8"
             ],
             [
              0.3333333333333333,
              "#9c179e"
             ],
             [
              0.4444444444444444,
              "#bd3786"
             ],
             [
              0.5555555555555556,
              "#d8576b"
             ],
             [
              0.6666666666666666,
              "#ed7953"
             ],
             [
              0.7777777777777778,
              "#fb9f3a"
             ],
             [
              0.8888888888888888,
              "#fdca26"
             ],
             [
              1,
              "#f0f921"
             ]
            ],
            "type": "histogram2dcontour"
           }
          ],
          "mesh3d": [
           {
            "colorbar": {
             "outlinewidth": 0,
             "ticks": ""
            },
            "type": "mesh3d"
           }
          ],
          "parcoords": [
           {
            "line": {
             "colorbar": {
              "outlinewidth": 0,
              "ticks": ""
             }
            },
            "type": "parcoords"
           }
          ],
          "pie": [
           {
            "automargin": true,
            "type": "pie"
           }
          ],
          "scatter": [
           {
            "fillpattern": {
             "fillmode": "overlay",
             "size": 10,
             "solidity": 0.2
            },
            "type": "scatter"
           }
          ],
          "scatter3d": [
           {
            "line": {
             "colorbar": {
              "outlinewidth": 0,
              "ticks": ""
             }
            },
            "marker": {
             "colorbar": {
              "outlinewidth": 0,
              "ticks": ""
             }
            },
            "type": "scatter3d"
           }
          ],
          "scattercarpet": [
           {
            "marker": {
             "colorbar": {
              "outlinewidth": 0,
              "ticks": ""
             }
            },
            "type": "scattercarpet"
           }
          ],
          "scattergeo": [
           {
            "marker": {
             "colorbar": {
              "outlinewidth": 0,
              "ticks": ""
             }
            },
            "type": "scattergeo"
           }
          ],
          "scattergl": [
           {
            "marker": {
             "colorbar": {
              "outlinewidth": 0,
              "ticks": ""
             }
            },
            "type": "scattergl"
           }
          ],
          "scattermapbox": [
           {
            "marker": {
             "colorbar": {
              "outlinewidth": 0,
              "ticks": ""
             }
            },
            "type": "scattermapbox"
           }
          ],
          "scatterpolar": [
           {
            "marker": {
             "colorbar": {
              "outlinewidth": 0,
              "ticks": ""
             }
            },
            "type": "scatterpolar"
           }
          ],
          "scatterpolargl": [
           {
            "marker": {
             "colorbar": {
              "outlinewidth": 0,
              "ticks": ""
             }
            },
            "type": "scatterpolargl"
           }
          ],
          "scatterternary": [
           {
            "marker": {
             "colorbar": {
              "outlinewidth": 0,
              "ticks": ""
             }
            },
            "type": "scatterternary"
           }
          ],
          "surface": [
           {
            "colorbar": {
             "outlinewidth": 0,
             "ticks": ""
            },
            "colorscale": [
             [
              0,
              "#0d0887"
             ],
             [
              0.1111111111111111,
              "#46039f"
             ],
             [
              0.2222222222222222,
              "#7201a8"
             ],
             [
              0.3333333333333333,
              "#9c179e"
             ],
             [
              0.4444444444444444,
              "#bd3786"
             ],
             [
              0.5555555555555556,
              "#d8576b"
             ],
             [
              0.6666666666666666,
              "#ed7953"
             ],
             [
              0.7777777777777778,
              "#fb9f3a"
             ],
             [
              0.8888888888888888,
              "#fdca26"
             ],
             [
              1,
              "#f0f921"
             ]
            ],
            "type": "surface"
           }
          ],
          "table": [
           {
            "cells": {
             "fill": {
              "color": "#EBF0F8"
             },
             "line": {
              "color": "white"
             }
            },
            "header": {
             "fill": {
              "color": "#C8D4E3"
             },
             "line": {
              "color": "white"
             }
            },
            "type": "table"
           }
          ]
         },
         "layout": {
          "annotationdefaults": {
           "arrowcolor": "#2a3f5f",
           "arrowhead": 0,
           "arrowwidth": 1
          },
          "autotypenumbers": "strict",
          "coloraxis": {
           "colorbar": {
            "outlinewidth": 0,
            "ticks": ""
           }
          },
          "colorscale": {
           "diverging": [
            [
             0,
             "#8e0152"
            ],
            [
             0.1,
             "#c51b7d"
            ],
            [
             0.2,
             "#de77ae"
            ],
            [
             0.3,
             "#f1b6da"
            ],
            [
             0.4,
             "#fde0ef"
            ],
            [
             0.5,
             "#f7f7f7"
            ],
            [
             0.6,
             "#e6f5d0"
            ],
            [
             0.7,
             "#b8e186"
            ],
            [
             0.8,
             "#7fbc41"
            ],
            [
             0.9,
             "#4d9221"
            ],
            [
             1,
             "#276419"
            ]
           ],
           "sequential": [
            [
             0,
             "#0d0887"
            ],
            [
             0.1111111111111111,
             "#46039f"
            ],
            [
             0.2222222222222222,
             "#7201a8"
            ],
            [
             0.3333333333333333,
             "#9c179e"
            ],
            [
             0.4444444444444444,
             "#bd3786"
            ],
            [
             0.5555555555555556,
             "#d8576b"
            ],
            [
             0.6666666666666666,
             "#ed7953"
            ],
            [
             0.7777777777777778,
             "#fb9f3a"
            ],
            [
             0.8888888888888888,
             "#fdca26"
            ],
            [
             1,
             "#f0f921"
            ]
           ],
           "sequentialminus": [
            [
             0,
             "#0d0887"
            ],
            [
             0.1111111111111111,
             "#46039f"
            ],
            [
             0.2222222222222222,
             "#7201a8"
            ],
            [
             0.3333333333333333,
             "#9c179e"
            ],
            [
             0.4444444444444444,
             "#bd3786"
            ],
            [
             0.5555555555555556,
             "#d8576b"
            ],
            [
             0.6666666666666666,
             "#ed7953"
            ],
            [
             0.7777777777777778,
             "#fb9f3a"
            ],
            [
             0.8888888888888888,
             "#fdca26"
            ],
            [
             1,
             "#f0f921"
            ]
           ]
          },
          "colorway": [
           "#636efa",
           "#EF553B",
           "#00cc96",
           "#ab63fa",
           "#FFA15A",
           "#19d3f3",
           "#FF6692",
           "#B6E880",
           "#FF97FF",
           "#FECB52"
          ],
          "font": {
           "color": "#2a3f5f"
          },
          "geo": {
           "bgcolor": "white",
           "lakecolor": "white",
           "landcolor": "#E5ECF6",
           "showlakes": true,
           "showland": true,
           "subunitcolor": "white"
          },
          "hoverlabel": {
           "align": "left"
          },
          "hovermode": "closest",
          "mapbox": {
           "style": "light"
          },
          "paper_bgcolor": "white",
          "plot_bgcolor": "#E5ECF6",
          "polar": {
           "angularaxis": {
            "gridcolor": "white",
            "linecolor": "white",
            "ticks": ""
           },
           "bgcolor": "#E5ECF6",
           "radialaxis": {
            "gridcolor": "white",
            "linecolor": "white",
            "ticks": ""
           }
          },
          "scene": {
           "xaxis": {
            "backgroundcolor": "#E5ECF6",
            "gridcolor": "white",
            "gridwidth": 2,
            "linecolor": "white",
            "showbackground": true,
            "ticks": "",
            "zerolinecolor": "white"
           },
           "yaxis": {
            "backgroundcolor": "#E5ECF6",
            "gridcolor": "white",
            "gridwidth": 2,
            "linecolor": "white",
            "showbackground": true,
            "ticks": "",
            "zerolinecolor": "white"
           },
           "zaxis": {
            "backgroundcolor": "#E5ECF6",
            "gridcolor": "white",
            "gridwidth": 2,
            "linecolor": "white",
            "showbackground": true,
            "ticks": "",
            "zerolinecolor": "white"
           }
          },
          "shapedefaults": {
           "line": {
            "color": "#2a3f5f"
           }
          },
          "ternary": {
           "aaxis": {
            "gridcolor": "white",
            "linecolor": "white",
            "ticks": ""
           },
           "baxis": {
            "gridcolor": "white",
            "linecolor": "white",
            "ticks": ""
           },
           "bgcolor": "#E5ECF6",
           "caxis": {
            "gridcolor": "white",
            "linecolor": "white",
            "ticks": ""
           }
          },
          "title": {
           "x": 0.05
          },
          "xaxis": {
           "automargin": true,
           "gridcolor": "white",
           "linecolor": "white",
           "ticks": "",
           "title": {
            "standoff": 15
           },
           "zerolinecolor": "white",
           "zerolinewidth": 2
          },
          "yaxis": {
           "automargin": true,
           "gridcolor": "white",
           "linecolor": "white",
           "ticks": "",
           "title": {
            "standoff": 15
           },
           "zerolinecolor": "white",
           "zerolinewidth": 2
          }
         }
        },
        "title": {
         "text": "GBP_JPY_ma_8_32"
        },
        "width": 1000,
        "xaxis": {
         "linecolor": "#3a4a54",
         "linewidth": 1,
         "showgrid": false,
         "zeroline": false
        },
        "yaxis": {
         "linecolor": "#3a4a54",
         "linewidth": 1,
         "showgrid": false,
         "zeroline": false
        }
       }
      }
     },
     "metadata": {},
     "output_type": "display_data"
    },
    {
     "data": {
      "application/vnd.plotly.v1+json": {
       "config": {
        "plotlyServerURL": "https://plot.ly"
       },
       "data": [
        {
         "line": {
          "color": "#3d825f",
          "shape": "spline",
          "width": 2
         },
         "mode": "lines",
         "name": "NZD_JPY_ma_8_32",
         "type": "scatter",
         "x": [
          "2022-01-10T12:00:00+00:00",
          "2022-01-11T10:00:00+00:00",
          "2022-01-13T19:00:00+00:00",
          "2022-01-17T08:00:00+00:00",
          "2022-01-18T08:00:00+00:00",
          "2022-01-19T11:00:00+00:00",
          "2022-01-19T22:00:00+00:00",
          "2022-01-25T01:00:00+00:00",
          "2022-01-25T04:00:00+00:00",
          "2022-01-25T22:00:00+00:00",
          "2022-01-27T01:00:00+00:00",
          "2022-01-27T15:00:00+00:00",
          "2022-01-27T18:00:00+00:00",
          "2022-01-31T06:00:00+00:00",
          "2022-01-31T23:00:00+00:00",
          "2022-02-01T14:00:00+00:00",
          "2022-02-02T14:00:00+00:00",
          "2022-02-03T10:00:00+00:00",
          "2022-02-04T12:00:00+00:00",
          "2022-02-07T18:00:00+00:00",
          "2022-02-11T01:00:00+00:00",
          "2022-02-15T02:00:00+00:00",
          "2022-02-17T19:00:00+00:00",
          "2022-02-18T05:00:00+00:00",
          "2022-02-18T20:00:00+00:00",
          "2022-02-21T07:00:00+00:00",
          "2022-02-21T18:00:00+00:00",
          "2022-02-22T11:00:00+00:00",
          "2022-02-24T00:00:00+00:00",
          "2022-02-25T01:00:00+00:00",
          "2022-02-28T03:00:00+00:00",
          "2022-02-28T12:00:00+00:00",
          "2022-03-01T15:00:00+00:00",
          "2022-03-02T04:00:00+00:00",
          "2022-03-07T18:00:00+00:00",
          "2022-03-08T14:00:00+00:00",
          "2022-03-08T21:00:00+00:00",
          "2022-03-09T06:00:00+00:00",
          "2022-03-13T22:00:00+00:00",
          "2022-03-13T23:00:00+00:00",
          "2022-03-14T20:00:00+00:00",
          "2022-03-15T16:00:00+00:00",
          "2022-03-21T14:00:00+00:00",
          "2022-03-22T01:00:00+00:00",
          "2022-03-25T10:00:00+00:00",
          "2022-03-25T19:00:00+00:00",
          "2022-03-28T19:00:00+00:00",
          "2022-03-29T01:00:00+00:00",
          "2022-03-29T02:00:00+00:00",
          "2022-03-29T23:00:00+00:00",
          "2022-03-30T03:00:00+00:00",
          "2022-03-30T15:00:00+00:00",
          "2022-03-30T22:00:00+00:00",
          "2022-03-31T02:00:00+00:00",
          "2022-03-31T06:00:00+00:00",
          "2022-04-01T05:00:00+00:00",
          "2022-04-06T15:00:00+00:00",
          "2022-04-11T05:00:00+00:00",
          "2022-04-13T08:00:00+00:00",
          "2022-04-14T08:00:00+00:00",
          "2022-04-17T21:00:00+00:00",
          "2022-04-18T22:00:00+00:00",
          "2022-04-20T23:00:00+00:00",
          "2022-04-21T06:00:00+00:00",
          "2022-04-21T15:00:00+00:00",
          "2022-04-26T04:00:00+00:00",
          "2022-04-26T13:00:00+00:00",
          "2022-04-27T12:00:00+00:00",
          "2022-04-29T14:00:00+00:00",
          "2022-05-03T01:00:00+00:00",
          "2022-05-03T10:00:00+00:00",
          "2022-05-03T22:00:00+00:00",
          "2022-05-04T19:00:00+00:00",
          "2022-05-05T06:00:00+00:00",
          "2022-05-05T19:00:00+00:00",
          "2022-05-06T04:00:00+00:00",
          "2022-05-06T05:00:00+00:00",
          "2022-05-06T19:00:00+00:00",
          "2022-05-08T22:00:00+00:00",
          "2022-05-11T07:00:00+00:00",
          "2022-05-11T20:00:00+00:00",
          "2022-05-13T07:00:00+00:00",
          "2022-05-16T07:00:00+00:00",
          "2022-05-16T11:00:00+00:00",
          "2022-05-18T07:00:00+00:00",
          "2022-05-19T16:00:00+00:00",
          "2022-05-22T21:00:00+00:00",
          "2022-05-22T22:00:00+00:00",
          "2022-05-24T03:00:00+00:00",
          "2022-05-25T04:00:00+00:00",
          "2022-05-26T08:00:00+00:00",
          "2022-05-26T22:00:00+00:00",
          "2022-05-31T11:00:00+00:00",
          "2022-05-31T17:00:00+00:00",
          "2022-06-06T01:00:00+00:00",
          "2022-06-06T10:00:00+00:00",
          "2022-06-09T07:00:00+00:00",
          "2022-06-15T01:00:00+00:00",
          "2022-06-15T07:00:00+00:00",
          "2022-06-15T14:00:00+00:00",
          "2022-06-16T10:00:00+00:00",
          "2022-06-16T22:00:00+00:00",
          "2022-06-22T04:00:00+00:00",
          "2022-06-24T07:00:00+00:00",
          "2022-06-27T07:00:00+00:00",
          "2022-06-27T08:00:00+00:00",
          "2022-06-28T01:00:00+00:00",
          "2022-06-28T07:00:00+00:00",
          "2022-06-28T18:00:00+00:00",
          "2022-07-04T05:00:00+00:00",
          "2022-07-05T10:00:00+00:00",
          "2022-07-06T23:00:00+00:00",
          "2022-07-08T05:00:00+00:00",
          "2022-07-08T16:00:00+00:00",
          "2022-07-11T16:00:00+00:00",
          "2022-07-13T02:00:00+00:00",
          "2022-07-18T11:00:00+00:00",
          "2022-07-18T12:00:00+00:00",
          "2022-07-18T17:00:00+00:00",
          "2022-07-19T08:00:00+00:00",
          "2022-07-20T19:00:00+00:00",
          "2022-07-25T12:00:00+00:00",
          "2022-07-26T10:00:00+00:00",
          "2022-07-27T02:00:00+00:00",
          "2022-07-27T09:00:00+00:00",
          "2022-07-27T21:00:00+00:00",
          "2022-07-28T02:00:00+00:00",
          "2022-08-01T14:00:00+00:00",
          "2022-08-01T18:00:00+00:00",
          "2022-08-02T20:00:00+00:00",
          "2022-08-04T17:00:00+00:00",
          "2022-08-05T15:00:00+00:00",
          "2022-08-15T04:00:00+00:00",
          "2022-08-16T13:00:00+00:00",
          "2022-08-17T13:00:00+00:00",
          "2022-08-18T14:00:00+00:00",
          "2022-08-19T15:00:00+00:00",
          "2022-08-22T04:00:00+00:00",
          "2022-08-22T20:00:00+00:00",
          "2022-08-22T22:00:00+00:00",
          "2022-08-23T06:00:00+00:00",
          "2022-08-23T13:00:00+00:00",
          "2022-08-24T02:00:00+00:00",
          "2022-08-24T21:00:00+00:00",
          "2022-08-25T23:00:00+00:00",
          "2022-08-26T13:00:00+00:00",
          "2022-08-26T14:00:00+00:00"
         ],
         "y": [
          -21.300000000000807,
          8.899999999998442,
          51.79999999999865,
          25.499999999999545,
          17.900000000000205,
          -2.2999999999996135,
          134.70000000000084,
          102.40000000000151,
          77.50000000000199,
          58.00000000000267,
          36.90000000000282,
          8.700000000003172,
          3.1000000000034333,
          -16.699999999997317,
          -32.89999999999793,
          -40.69999999999823,
          -73.69999999999806,
          -68.29999999999785,
          -75.89999999999861,
          26.300000000000523,
          105.29999999999973,
          147.49999999999943,
          106.49999999999977,
          79.09999999999968,
          61.89999999999998,
          35.90000000000089,
          -28.899999999998727,
          -34.499999999998465,
          -11.099999999997578,
          -28.899999999997306,
          -91.29999999999825,
          -97.09999999999894,
          -116.4999999999992,
          -29.09999999999968,
          -46.09999999999985,
          -70.09999999999934,
          -83.69999999999891,
          26.80000000000149,
          15.100000000002467,
          -17.699999999996407,
          -42.89999999999594,
          181.90000000000452,
          175.70000000000476,
          428.6000000000044,
          402.50000000000483,
          439.00000000000574,
          443.9000000000064,
          418.70000000000687,
          385.90000000000657,
          304.0000000000063,
          261.4000000000061,
          254.10000000000537,
          242.5000000000054,
          174.80000000000615,
          153.50000000000676,
          263.8000000000076,
          294.1000000000088,
          302.70000000001005,
          311.10000000001037,
          325.60000000000997,
          323.9000000000104,
          441.1000000000115,
          432.3000000000121,
          408.0000000000126,
          562.6000000000133,
          457.3000000000136,
          467.7000000000135,
          494.30000000001263,
          519.1000000000117,
          472.5000000000109,
          445.1000000000108,
          370.00000000001177,
          227.30000000001252,
          143.30000000001218,
          113.00000000001103,
          105.70000000001028,
          114.70000000001062,
          99.600000000011,
          244.1000000000103,
          211.40000000000907,
          343.20000000000886,
          383.80000000000945,
          346.00000000000944,
          438.0000000000096,
          494.5000000000094,
          523.1000000000095,
          499.50000000001046,
          512.3000000000104,
          480.6000000000097,
          415.1000000000096,
          375.1000000000104,
          491.5000000000106,
          455.9000000000097,
          563.7000000000086,
          537.5000000000085,
          610.4000000000085,
          771.900000000008,
          717.3000000000088,
          690.2000000000087,
          616.0000000000082,
          517.0000000000086,
          625.9000000000085,
          696.3000000000079,
          755.8000000000078,
          749.1000000000085,
          724.1000000000085,
          695.0000000000075,
          662.5000000000073,
          749.1000000000072,
          700.5000000000068,
          712.1000000000067,
          722.3000000000071,
          682.2000000000075,
          681.500000000007,
          692.3000000000061,
          821.5000000000063,
          809.0000000000063,
          773.1000000000054,
          700.5000000000055,
          732.1000000000057,
          785.7000000000058,
          748.6000000000063,
          731.4000000000066,
          721.9000000000067,
          692.7000000000065,
          617.3000000000061,
          726.7000000000055,
          704.2000000000046,
          723.5000000000043,
          786.9000000000044,
          737.9000000000035,
          848.500000000003,
          871.3000000000025,
          833.5000000000025,
          835.2000000000035,
          809.3000000000034,
          761.5000000000025,
          736.0000000000016,
          728.1000000000008,
          694.5000000000009,
          652.9000000000012,
          616.5000000000008,
          595.700000000001,
          598.5000000000016,
          583.200000000001,
          558.1000000000005,
          568.9000000000009
         ]
        }
       ],
       "layout": {
        "font": {
         "color": "#3d825f",
         "size": 10
        },
        "height": 400,
        "margin": {
         "b": 10,
         "l": 15,
         "r": 15
        },
        "paper_bgcolor": "#1e1e1e",
        "plot_bgcolor": "#1e1e1e",
        "template": {
         "data": {
          "bar": [
           {
            "error_x": {
             "color": "#2a3f5f"
            },
            "error_y": {
             "color": "#2a3f5f"
            },
            "marker": {
             "line": {
              "color": "#E5ECF6",
              "width": 0.5
             },
             "pattern": {
              "fillmode": "overlay",
              "size": 10,
              "solidity": 0.2
             }
            },
            "type": "bar"
           }
          ],
          "barpolar": [
           {
            "marker": {
             "line": {
              "color": "#E5ECF6",
              "width": 0.5
             },
             "pattern": {
              "fillmode": "overlay",
              "size": 10,
              "solidity": 0.2
             }
            },
            "type": "barpolar"
           }
          ],
          "carpet": [
           {
            "aaxis": {
             "endlinecolor": "#2a3f5f",
             "gridcolor": "white",
             "linecolor": "white",
             "minorgridcolor": "white",
             "startlinecolor": "#2a3f5f"
            },
            "baxis": {
             "endlinecolor": "#2a3f5f",
             "gridcolor": "white",
             "linecolor": "white",
             "minorgridcolor": "white",
             "startlinecolor": "#2a3f5f"
            },
            "type": "carpet"
           }
          ],
          "choropleth": [
           {
            "colorbar": {
             "outlinewidth": 0,
             "ticks": ""
            },
            "type": "choropleth"
           }
          ],
          "contour": [
           {
            "colorbar": {
             "outlinewidth": 0,
             "ticks": ""
            },
            "colorscale": [
             [
              0,
              "#0d0887"
             ],
             [
              0.1111111111111111,
              "#46039f"
             ],
             [
              0.2222222222222222,
              "#7201a8"
             ],
             [
              0.3333333333333333,
              "#9c179e"
             ],
             [
              0.4444444444444444,
              "#bd3786"
             ],
             [
              0.5555555555555556,
              "#d8576b"
             ],
             [
              0.6666666666666666,
              "#ed7953"
             ],
             [
              0.7777777777777778,
              "#fb9f3a"
             ],
             [
              0.8888888888888888,
              "#fdca26"
             ],
             [
              1,
              "#f0f921"
             ]
            ],
            "type": "contour"
           }
          ],
          "contourcarpet": [
           {
            "colorbar": {
             "outlinewidth": 0,
             "ticks": ""
            },
            "type": "contourcarpet"
           }
          ],
          "heatmap": [
           {
            "colorbar": {
             "outlinewidth": 0,
             "ticks": ""
            },
            "colorscale": [
             [
              0,
              "#0d0887"
             ],
             [
              0.1111111111111111,
              "#46039f"
             ],
             [
              0.2222222222222222,
              "#7201a8"
             ],
             [
              0.3333333333333333,
              "#9c179e"
             ],
             [
              0.4444444444444444,
              "#bd3786"
             ],
             [
              0.5555555555555556,
              "#d8576b"
             ],
             [
              0.6666666666666666,
              "#ed7953"
             ],
             [
              0.7777777777777778,
              "#fb9f3a"
             ],
             [
              0.8888888888888888,
              "#fdca26"
             ],
             [
              1,
              "#f0f921"
             ]
            ],
            "type": "heatmap"
           }
          ],
          "heatmapgl": [
           {
            "colorbar": {
             "outlinewidth": 0,
             "ticks": ""
            },
            "colorscale": [
             [
              0,
              "#0d0887"
             ],
             [
              0.1111111111111111,
              "#46039f"
             ],
             [
              0.2222222222222222,
              "#7201a8"
             ],
             [
              0.3333333333333333,
              "#9c179e"
             ],
             [
              0.4444444444444444,
              "#bd3786"
             ],
             [
              0.5555555555555556,
              "#d8576b"
             ],
             [
              0.6666666666666666,
              "#ed7953"
             ],
             [
              0.7777777777777778,
              "#fb9f3a"
             ],
             [
              0.8888888888888888,
              "#fdca26"
             ],
             [
              1,
              "#f0f921"
             ]
            ],
            "type": "heatmapgl"
           }
          ],
          "histogram": [
           {
            "marker": {
             "pattern": {
              "fillmode": "overlay",
              "size": 10,
              "solidity": 0.2
             }
            },
            "type": "histogram"
           }
          ],
          "histogram2d": [
           {
            "colorbar": {
             "outlinewidth": 0,
             "ticks": ""
            },
            "colorscale": [
             [
              0,
              "#0d0887"
             ],
             [
              0.1111111111111111,
              "#46039f"
             ],
             [
              0.2222222222222222,
              "#7201a8"
             ],
             [
              0.3333333333333333,
              "#9c179e"
             ],
             [
              0.4444444444444444,
              "#bd3786"
             ],
             [
              0.5555555555555556,
              "#d8576b"
             ],
             [
              0.6666666666666666,
              "#ed7953"
             ],
             [
              0.7777777777777778,
              "#fb9f3a"
             ],
             [
              0.8888888888888888,
              "#fdca26"
             ],
             [
              1,
              "#f0f921"
             ]
            ],
            "type": "histogram2d"
           }
          ],
          "histogram2dcontour": [
           {
            "colorbar": {
             "outlinewidth": 0,
             "ticks": ""
            },
            "colorscale": [
             [
              0,
              "#0d0887"
             ],
             [
              0.1111111111111111,
              "#46039f"
             ],
             [
              0.2222222222222222,
              "#7201a8"
             ],
             [
              0.3333333333333333,
              "#9c179e"
             ],
             [
              0.4444444444444444,
              "#bd3786"
             ],
             [
              0.5555555555555556,
              "#d8576b"
             ],
             [
              0.6666666666666666,
              "#ed7953"
             ],
             [
              0.7777777777777778,
              "#fb9f3a"
             ],
             [
              0.8888888888888888,
              "#fdca26"
             ],
             [
              1,
              "#f0f921"
             ]
            ],
            "type": "histogram2dcontour"
           }
          ],
          "mesh3d": [
           {
            "colorbar": {
             "outlinewidth": 0,
             "ticks": ""
            },
            "type": "mesh3d"
           }
          ],
          "parcoords": [
           {
            "line": {
             "colorbar": {
              "outlinewidth": 0,
              "ticks": ""
             }
            },
            "type": "parcoords"
           }
          ],
          "pie": [
           {
            "automargin": true,
            "type": "pie"
           }
          ],
          "scatter": [
           {
            "fillpattern": {
             "fillmode": "overlay",
             "size": 10,
             "solidity": 0.2
            },
            "type": "scatter"
           }
          ],
          "scatter3d": [
           {
            "line": {
             "colorbar": {
              "outlinewidth": 0,
              "ticks": ""
             }
            },
            "marker": {
             "colorbar": {
              "outlinewidth": 0,
              "ticks": ""
             }
            },
            "type": "scatter3d"
           }
          ],
          "scattercarpet": [
           {
            "marker": {
             "colorbar": {
              "outlinewidth": 0,
              "ticks": ""
             }
            },
            "type": "scattercarpet"
           }
          ],
          "scattergeo": [
           {
            "marker": {
             "colorbar": {
              "outlinewidth": 0,
              "ticks": ""
             }
            },
            "type": "scattergeo"
           }
          ],
          "scattergl": [
           {
            "marker": {
             "colorbar": {
              "outlinewidth": 0,
              "ticks": ""
             }
            },
            "type": "scattergl"
           }
          ],
          "scattermapbox": [
           {
            "marker": {
             "colorbar": {
              "outlinewidth": 0,
              "ticks": ""
             }
            },
            "type": "scattermapbox"
           }
          ],
          "scatterpolar": [
           {
            "marker": {
             "colorbar": {
              "outlinewidth": 0,
              "ticks": ""
             }
            },
            "type": "scatterpolar"
           }
          ],
          "scatterpolargl": [
           {
            "marker": {
             "colorbar": {
              "outlinewidth": 0,
              "ticks": ""
             }
            },
            "type": "scatterpolargl"
           }
          ],
          "scatterternary": [
           {
            "marker": {
             "colorbar": {
              "outlinewidth": 0,
              "ticks": ""
             }
            },
            "type": "scatterternary"
           }
          ],
          "surface": [
           {
            "colorbar": {
             "outlinewidth": 0,
             "ticks": ""
            },
            "colorscale": [
             [
              0,
              "#0d0887"
             ],
             [
              0.1111111111111111,
              "#46039f"
             ],
             [
              0.2222222222222222,
              "#7201a8"
             ],
             [
              0.3333333333333333,
              "#9c179e"
             ],
             [
              0.4444444444444444,
              "#bd3786"
             ],
             [
              0.5555555555555556,
              "#d8576b"
             ],
             [
              0.6666666666666666,
              "#ed7953"
             ],
             [
              0.7777777777777778,
              "#fb9f3a"
             ],
             [
              0.8888888888888888,
              "#fdca26"
             ],
             [
              1,
              "#f0f921"
             ]
            ],
            "type": "surface"
           }
          ],
          "table": [
           {
            "cells": {
             "fill": {
              "color": "#EBF0F8"
             },
             "line": {
              "color": "white"
             }
            },
            "header": {
             "fill": {
              "color": "#C8D4E3"
             },
             "line": {
              "color": "white"
             }
            },
            "type": "table"
           }
          ]
         },
         "layout": {
          "annotationdefaults": {
           "arrowcolor": "#2a3f5f",
           "arrowhead": 0,
           "arrowwidth": 1
          },
          "autotypenumbers": "strict",
          "coloraxis": {
           "colorbar": {
            "outlinewidth": 0,
            "ticks": ""
           }
          },
          "colorscale": {
           "diverging": [
            [
             0,
             "#8e0152"
            ],
            [
             0.1,
             "#c51b7d"
            ],
            [
             0.2,
             "#de77ae"
            ],
            [
             0.3,
             "#f1b6da"
            ],
            [
             0.4,
             "#fde0ef"
            ],
            [
             0.5,
             "#f7f7f7"
            ],
            [
             0.6,
             "#e6f5d0"
            ],
            [
             0.7,
             "#b8e186"
            ],
            [
             0.8,
             "#7fbc41"
            ],
            [
             0.9,
             "#4d9221"
            ],
            [
             1,
             "#276419"
            ]
           ],
           "sequential": [
            [
             0,
             "#0d0887"
            ],
            [
             0.1111111111111111,
             "#46039f"
            ],
            [
             0.2222222222222222,
             "#7201a8"
            ],
            [
             0.3333333333333333,
             "#9c179e"
            ],
            [
             0.4444444444444444,
             "#bd3786"
            ],
            [
             0.5555555555555556,
             "#d8576b"
            ],
            [
             0.6666666666666666,
             "#ed7953"
            ],
            [
             0.7777777777777778,
             "#fb9f3a"
            ],
            [
             0.8888888888888888,
             "#fdca26"
            ],
            [
             1,
             "#f0f921"
            ]
           ],
           "sequentialminus": [
            [
             0,
             "#0d0887"
            ],
            [
             0.1111111111111111,
             "#46039f"
            ],
            [
             0.2222222222222222,
             "#7201a8"
            ],
            [
             0.3333333333333333,
             "#9c179e"
            ],
            [
             0.4444444444444444,
             "#bd3786"
            ],
            [
             0.5555555555555556,
             "#d8576b"
            ],
            [
             0.6666666666666666,
             "#ed7953"
            ],
            [
             0.7777777777777778,
             "#fb9f3a"
            ],
            [
             0.8888888888888888,
             "#fdca26"
            ],
            [
             1,
             "#f0f921"
            ]
           ]
          },
          "colorway": [
           "#636efa",
           "#EF553B",
           "#00cc96",
           "#ab63fa",
           "#FFA15A",
           "#19d3f3",
           "#FF6692",
           "#B6E880",
           "#FF97FF",
           "#FECB52"
          ],
          "font": {
           "color": "#2a3f5f"
          },
          "geo": {
           "bgcolor": "white",
           "lakecolor": "white",
           "landcolor": "#E5ECF6",
           "showlakes": true,
           "showland": true,
           "subunitcolor": "white"
          },
          "hoverlabel": {
           "align": "left"
          },
          "hovermode": "closest",
          "mapbox": {
           "style": "light"
          },
          "paper_bgcolor": "white",
          "plot_bgcolor": "#E5ECF6",
          "polar": {
           "angularaxis": {
            "gridcolor": "white",
            "linecolor": "white",
            "ticks": ""
           },
           "bgcolor": "#E5ECF6",
           "radialaxis": {
            "gridcolor": "white",
            "linecolor": "white",
            "ticks": ""
           }
          },
          "scene": {
           "xaxis": {
            "backgroundcolor": "#E5ECF6",
            "gridcolor": "white",
            "gridwidth": 2,
            "linecolor": "white",
            "showbackground": true,
            "ticks": "",
            "zerolinecolor": "white"
           },
           "yaxis": {
            "backgroundcolor": "#E5ECF6",
            "gridcolor": "white",
            "gridwidth": 2,
            "linecolor": "white",
            "showbackground": true,
            "ticks": "",
            "zerolinecolor": "white"
           },
           "zaxis": {
            "backgroundcolor": "#E5ECF6",
            "gridcolor": "white",
            "gridwidth": 2,
            "linecolor": "white",
            "showbackground": true,
            "ticks": "",
            "zerolinecolor": "white"
           }
          },
          "shapedefaults": {
           "line": {
            "color": "#2a3f5f"
           }
          },
          "ternary": {
           "aaxis": {
            "gridcolor": "white",
            "linecolor": "white",
            "ticks": ""
           },
           "baxis": {
            "gridcolor": "white",
            "linecolor": "white",
            "ticks": ""
           },
           "bgcolor": "#E5ECF6",
           "caxis": {
            "gridcolor": "white",
            "linecolor": "white",
            "ticks": ""
           }
          },
          "title": {
           "x": 0.05
          },
          "xaxis": {
           "automargin": true,
           "gridcolor": "white",
           "linecolor": "white",
           "ticks": "",
           "title": {
            "standoff": 15
           },
           "zerolinecolor": "white",
           "zerolinewidth": 2
          },
          "yaxis": {
           "automargin": true,
           "gridcolor": "white",
           "linecolor": "white",
           "ticks": "",
           "title": {
            "standoff": 15
           },
           "zerolinecolor": "white",
           "zerolinewidth": 2
          }
         }
        },
        "title": {
         "text": "NZD_JPY_ma_8_32"
        },
        "width": 1000,
        "xaxis": {
         "linecolor": "#3a4a54",
         "linewidth": 1,
         "showgrid": false,
         "zeroline": false
        },
        "yaxis": {
         "linecolor": "#3a4a54",
         "linewidth": 1,
         "showgrid": false,
         "zeroline": false
        }
       }
      }
     },
     "metadata": {},
     "output_type": "display_data"
    },
    {
     "data": {
      "application/vnd.plotly.v1+json": {
       "config": {
        "plotlyServerURL": "https://plot.ly"
       },
       "data": [
        {
         "line": {
          "color": "#3d825f",
          "shape": "spline",
          "width": 2
         },
         "mode": "lines",
         "name": "NZD_CAD_ma_8_32",
         "type": "scatter",
         "x": [
          "2022-01-10T21:00:00+00:00",
          "2022-01-11T11:00:00+00:00",
          "2022-01-12T17:00:00+00:00",
          "2022-01-14T06:00:00+00:00",
          "2022-01-19T08:00:00+00:00",
          "2022-01-20T03:00:00+00:00",
          "2022-01-21T21:00:00+00:00",
          "2022-01-25T07:00:00+00:00",
          "2022-01-26T22:00:00+00:00",
          "2022-01-27T00:00:00+00:00",
          "2022-01-31T10:00:00+00:00",
          "2022-01-31T21:00:00+00:00",
          "2022-02-01T11:00:00+00:00",
          "2022-02-02T19:00:00+00:00",
          "2022-02-03T10:00:00+00:00",
          "2022-02-04T13:00:00+00:00",
          "2022-02-08T06:00:00+00:00",
          "2022-02-11T05:00:00+00:00",
          "2022-02-15T06:00:00+00:00",
          "2022-02-15T12:00:00+00:00",
          "2022-02-15T15:00:00+00:00",
          "2022-02-16T12:00:00+00:00",
          "2022-02-16T18:00:00+00:00",
          "2022-02-22T00:00:00+00:00",
          "2022-02-22T07:00:00+00:00",
          "2022-02-24T01:00:00+00:00",
          "2022-02-25T08:00:00+00:00",
          "2022-02-27T22:00:00+00:00",
          "2022-02-28T13:00:00+00:00",
          "2022-03-02T13:00:00+00:00",
          "2022-03-03T16:00:00+00:00",
          "2022-03-07T16:00:00+00:00",
          "2022-03-08T03:00:00+00:00",
          "2022-03-08T04:00:00+00:00",
          "2022-03-08T11:00:00+00:00",
          "2022-03-09T20:00:00+00:00",
          "2022-03-10T10:00:00+00:00",
          "2022-03-10T19:00:00+00:00",
          "2022-03-10T20:00:00+00:00",
          "2022-03-11T00:00:00+00:00",
          "2022-03-15T11:00:00+00:00",
          "2022-03-15T21:00:00+00:00",
          "2022-03-16T17:00:00+00:00",
          "2022-03-18T10:00:00+00:00",
          "2022-03-18T16:00:00+00:00",
          "2022-03-21T10:00:00+00:00",
          "2022-03-22T10:00:00+00:00",
          "2022-03-23T17:00:00+00:00",
          "2022-03-23T18:00:00+00:00",
          "2022-03-24T04:00:00+00:00",
          "2022-03-25T07:00:00+00:00",
          "2022-03-25T14:00:00+00:00",
          "2022-03-29T17:00:00+00:00",
          "2022-03-31T09:00:00+00:00",
          "2022-04-04T02:00:00+00:00",
          "2022-04-05T19:00:00+00:00",
          "2022-04-07T18:00:00+00:00",
          "2022-04-08T02:00:00+00:00",
          "2022-04-11T14:00:00+00:00",
          "2022-04-13T05:00:00+00:00",
          "2022-04-14T16:00:00+00:00",
          "2022-04-15T02:00:00+00:00",
          "2022-04-19T13:00:00+00:00",
          "2022-04-20T18:00:00+00:00",
          "2022-04-25T17:00:00+00:00",
          "2022-04-26T20:00:00+00:00",
          "2022-04-27T11:00:00+00:00",
          "2022-04-27T14:00:00+00:00",
          "2022-05-03T02:00:00+00:00",
          "2022-05-03T08:00:00+00:00",
          "2022-05-04T17:00:00+00:00",
          "2022-05-04T18:00:00+00:00",
          "2022-05-05T06:00:00+00:00",
          "2022-05-05T18:00:00+00:00",
          "2022-05-06T15:00:00+00:00",
          "2022-05-09T03:00:00+00:00",
          "2022-05-10T06:00:00+00:00",
          "2022-05-10T12:00:00+00:00",
          "2022-05-11T09:00:00+00:00",
          "2022-05-11T18:00:00+00:00",
          "2022-05-16T13:00:00+00:00",
          "2022-05-16T21:00:00+00:00",
          "2022-05-16T23:00:00+00:00",
          "2022-05-18T14:00:00+00:00",
          "2022-05-19T11:00:00+00:00",
          "2022-05-24T00:00:00+00:00",
          "2022-05-24T17:00:00+00:00",
          "2022-05-26T06:00:00+00:00",
          "2022-05-27T04:00:00+00:00",
          "2022-05-30T10:00:00+00:00",
          "2022-06-02T10:00:00+00:00",
          "2022-06-03T10:00:00+00:00",
          "2022-06-09T08:00:00+00:00",
          "2022-06-10T20:00:00+00:00",
          "2022-06-15T07:00:00+00:00",
          "2022-06-19T21:00:00+00:00",
          "2022-06-20T00:00:00+00:00",
          "2022-06-20T01:00:00+00:00",
          "2022-06-20T02:00:00+00:00",
          "2022-06-20T21:00:00+00:00",
          "2022-06-23T13:00:00+00:00",
          "2022-06-24T18:00:00+00:00",
          "2022-06-30T08:00:00+00:00",
          "2022-07-01T03:00:00+00:00",
          "2022-07-04T02:00:00+00:00",
          "2022-07-04T19:00:00+00:00",
          "2022-07-05T17:00:00+00:00",
          "2022-07-06T19:00:00+00:00",
          "2022-07-07T05:00:00+00:00",
          "2022-07-07T13:00:00+00:00",
          "2022-07-12T12:00:00+00:00",
          "2022-07-13T15:00:00+00:00",
          "2022-07-14T11:00:00+00:00",
          "2022-07-15T19:00:00+00:00",
          "2022-07-18T02:00:00+00:00",
          "2022-07-18T06:00:00+00:00",
          "2022-07-19T08:00:00+00:00",
          "2022-07-20T17:00:00+00:00",
          "2022-07-21T20:00:00+00:00",
          "2022-07-25T15:00:00+00:00",
          "2022-07-27T23:00:00+00:00",
          "2022-07-29T14:00:00+00:00",
          "2022-08-01T06:00:00+00:00",
          "2022-08-02T09:00:00+00:00",
          "2022-08-03T21:00:00+00:00",
          "2022-08-05T14:00:00+00:00",
          "2022-08-08T12:00:00+00:00",
          "2022-08-09T02:00:00+00:00",
          "2022-08-09T14:00:00+00:00",
          "2022-08-15T06:00:00+00:00",
          "2022-08-18T15:00:00+00:00",
          "2022-08-18T20:00:00+00:00",
          "2022-08-22T08:00:00+00:00",
          "2022-08-23T10:00:00+00:00",
          "2022-08-23T17:00:00+00:00",
          "2022-08-23T22:00:00+00:00",
          "2022-08-25T05:00:00+00:00"
         ],
         "y": [
          -24.500000000000632,
          -39.100000000000804,
          -26.700000000000614,
          66.29999999999913,
          40.999999999998806,
          46.59999999999886,
          39.599999999998516,
          58.49999999999799,
          53.59999999999808,
          98.59999999999867,
          81.39999999999924,
          46.599999999999966,
          61.600000000000534,
          36.00000000000047,
          32.6000000000004,
          36.40000000000087,
          64.60000000000132,
          84.20000000000093,
          66.70000000000064,
          24.000000000000682,
          -7.899999999999579,
          -47.399999999999665,
          38.100000000000904,
          27.700000000001605,
          66.0000000000016,
          85.00000000000173,
          38.00000000000247,
          -3.599999999996939,
          14.000000000002899,
          7.100000000002105,
          123.50000000000193,
          93.80000000000166,
          80.00000000000118,
          46.00000000000159,
          46.80000000000239,
          30.5000000000033,
          11.600000000003828,
          6.900000000004123,
          -3.3999999999956305,
          73.80000000000386,
          35.60000000000341,
          11.800000000002925,
          14.600000000002394,
          -29.499999999997854,
          -56.49999999999821,
          -102.39999999999804,
          -85.29999999999815,
          -111.09999999999842,
          -141.199999999998,
          -129.1999999999982,
          -153.19999999999888,
          -103.19999999999884,
          -74.79999999999819,
          -55.199999999997466,
          -50.49999999999665,
          -48.799999999996615,
          -61.799999999997404,
          -22.999999999997463,
          -38.19999999999712,
          7.800000000003365,
          -8.799999999996583,
          36.0000000000027,
          39.600000000001856,
          110.80000000000089,
          98.70000000000044,
          90.00000000000007,
          53.5999999999992,
          141.19999999999908,
          104.99999999999952,
          106.3999999999998,
          98.89999999999952,
          57.39999999999854,
          -2.700000000002163,
          -46.40000000000201,
          -109.20000000000152,
          -123.40000000000128,
          -156.40000000000097,
          -183.00000000000094,
          -230.0000000000013,
          -166.50000000000165,
          -171.20000000000135,
          -167.8000000000013,
          -144.60000000000142,
          -159.0000000000014,
          -68.30000000000118,
          -105.20000000000088,
          -90.90000000000157,
          -113.80000000000172,
          -125.2000000000009,
          -57.90000000000076,
          -72.80000000000067,
          38.29999999999997,
          55.600000000000065,
          115.39999999999992,
          276.80000000000035,
          284.50000000000085,
          279.9000000000007,
          264.69999999999993,
          253.19999999999897,
          302.6999999999991,
          298.4999999999993,
          414.49999999999875,
          350.6999999999982,
          332.59999999999843,
          314.9999999999986,
          274.4999999999986,
          269.0999999999987,
          242.49999999999875,
          217.89999999999858,
          247.39999999999867,
          228.8999999999996,
          204.60000000000028,
          222.40000000000032,
          197.20000000000064,
          159.6000000000008,
          96.20000000000067,
          55.20000000000075,
          35.10000000000008,
          28.399999999999487,
          44.79999999999923,
          57.39999999999962,
          34.00000000000065,
          64.20000000000087,
          96.90000000000083,
          118.60000000000088,
          106.80000000000018,
          96.49999999999932,
          85.79999999999916,
          200.29999999999987,
          292.80000000000075,
          281.60000000000065,
          324.19999999999993,
          308.59999999999985,
          300.40000000000055,
          306.8000000000014,
          314.70000000000203,
          297.6000000000021
         ]
        }
       ],
       "layout": {
        "font": {
         "color": "#3d825f",
         "size": 10
        },
        "height": 400,
        "margin": {
         "b": 10,
         "l": 15,
         "r": 15
        },
        "paper_bgcolor": "#1e1e1e",
        "plot_bgcolor": "#1e1e1e",
        "template": {
         "data": {
          "bar": [
           {
            "error_x": {
             "color": "#2a3f5f"
            },
            "error_y": {
             "color": "#2a3f5f"
            },
            "marker": {
             "line": {
              "color": "#E5ECF6",
              "width": 0.5
             },
             "pattern": {
              "fillmode": "overlay",
              "size": 10,
              "solidity": 0.2
             }
            },
            "type": "bar"
           }
          ],
          "barpolar": [
           {
            "marker": {
             "line": {
              "color": "#E5ECF6",
              "width": 0.5
             },
             "pattern": {
              "fillmode": "overlay",
              "size": 10,
              "solidity": 0.2
             }
            },
            "type": "barpolar"
           }
          ],
          "carpet": [
           {
            "aaxis": {
             "endlinecolor": "#2a3f5f",
             "gridcolor": "white",
             "linecolor": "white",
             "minorgridcolor": "white",
             "startlinecolor": "#2a3f5f"
            },
            "baxis": {
             "endlinecolor": "#2a3f5f",
             "gridcolor": "white",
             "linecolor": "white",
             "minorgridcolor": "white",
             "startlinecolor": "#2a3f5f"
            },
            "type": "carpet"
           }
          ],
          "choropleth": [
           {
            "colorbar": {
             "outlinewidth": 0,
             "ticks": ""
            },
            "type": "choropleth"
           }
          ],
          "contour": [
           {
            "colorbar": {
             "outlinewidth": 0,
             "ticks": ""
            },
            "colorscale": [
             [
              0,
              "#0d0887"
             ],
             [
              0.1111111111111111,
              "#46039f"
             ],
             [
              0.2222222222222222,
              "#7201a8"
             ],
             [
              0.3333333333333333,
              "#9c179e"
             ],
             [
              0.4444444444444444,
              "#bd3786"
             ],
             [
              0.5555555555555556,
              "#d8576b"
             ],
             [
              0.6666666666666666,
              "#ed7953"
             ],
             [
              0.7777777777777778,
              "#fb9f3a"
             ],
             [
              0.8888888888888888,
              "#fdca26"
             ],
             [
              1,
              "#f0f921"
             ]
            ],
            "type": "contour"
           }
          ],
          "contourcarpet": [
           {
            "colorbar": {
             "outlinewidth": 0,
             "ticks": ""
            },
            "type": "contourcarpet"
           }
          ],
          "heatmap": [
           {
            "colorbar": {
             "outlinewidth": 0,
             "ticks": ""
            },
            "colorscale": [
             [
              0,
              "#0d0887"
             ],
             [
              0.1111111111111111,
              "#46039f"
             ],
             [
              0.2222222222222222,
              "#7201a8"
             ],
             [
              0.3333333333333333,
              "#9c179e"
             ],
             [
              0.4444444444444444,
              "#bd3786"
             ],
             [
              0.5555555555555556,
              "#d8576b"
             ],
             [
              0.6666666666666666,
              "#ed7953"
             ],
             [
              0.7777777777777778,
              "#fb9f3a"
             ],
             [
              0.8888888888888888,
              "#fdca26"
             ],
             [
              1,
              "#f0f921"
             ]
            ],
            "type": "heatmap"
           }
          ],
          "heatmapgl": [
           {
            "colorbar": {
             "outlinewidth": 0,
             "ticks": ""
            },
            "colorscale": [
             [
              0,
              "#0d0887"
             ],
             [
              0.1111111111111111,
              "#46039f"
             ],
             [
              0.2222222222222222,
              "#7201a8"
             ],
             [
              0.3333333333333333,
              "#9c179e"
             ],
             [
              0.4444444444444444,
              "#bd3786"
             ],
             [
              0.5555555555555556,
              "#d8576b"
             ],
             [
              0.6666666666666666,
              "#ed7953"
             ],
             [
              0.7777777777777778,
              "#fb9f3a"
             ],
             [
              0.8888888888888888,
              "#fdca26"
             ],
             [
              1,
              "#f0f921"
             ]
            ],
            "type": "heatmapgl"
           }
          ],
          "histogram": [
           {
            "marker": {
             "pattern": {
              "fillmode": "overlay",
              "size": 10,
              "solidity": 0.2
             }
            },
            "type": "histogram"
           }
          ],
          "histogram2d": [
           {
            "colorbar": {
             "outlinewidth": 0,
             "ticks": ""
            },
            "colorscale": [
             [
              0,
              "#0d0887"
             ],
             [
              0.1111111111111111,
              "#46039f"
             ],
             [
              0.2222222222222222,
              "#7201a8"
             ],
             [
              0.3333333333333333,
              "#9c179e"
             ],
             [
              0.4444444444444444,
              "#bd3786"
             ],
             [
              0.5555555555555556,
              "#d8576b"
             ],
             [
              0.6666666666666666,
              "#ed7953"
             ],
             [
              0.7777777777777778,
              "#fb9f3a"
             ],
             [
              0.8888888888888888,
              "#fdca26"
             ],
             [
              1,
              "#f0f921"
             ]
            ],
            "type": "histogram2d"
           }
          ],
          "histogram2dcontour": [
           {
            "colorbar": {
             "outlinewidth": 0,
             "ticks": ""
            },
            "colorscale": [
             [
              0,
              "#0d0887"
             ],
             [
              0.1111111111111111,
              "#46039f"
             ],
             [
              0.2222222222222222,
              "#7201a8"
             ],
             [
              0.3333333333333333,
              "#9c179e"
             ],
             [
              0.4444444444444444,
              "#bd3786"
             ],
             [
              0.5555555555555556,
              "#d8576b"
             ],
             [
              0.6666666666666666,
              "#ed7953"
             ],
             [
              0.7777777777777778,
              "#fb9f3a"
             ],
             [
              0.8888888888888888,
              "#fdca26"
             ],
             [
              1,
              "#f0f921"
             ]
            ],
            "type": "histogram2dcontour"
           }
          ],
          "mesh3d": [
           {
            "colorbar": {
             "outlinewidth": 0,
             "ticks": ""
            },
            "type": "mesh3d"
           }
          ],
          "parcoords": [
           {
            "line": {
             "colorbar": {
              "outlinewidth": 0,
              "ticks": ""
             }
            },
            "type": "parcoords"
           }
          ],
          "pie": [
           {
            "automargin": true,
            "type": "pie"
           }
          ],
          "scatter": [
           {
            "fillpattern": {
             "fillmode": "overlay",
             "size": 10,
             "solidity": 0.2
            },
            "type": "scatter"
           }
          ],
          "scatter3d": [
           {
            "line": {
             "colorbar": {
              "outlinewidth": 0,
              "ticks": ""
             }
            },
            "marker": {
             "colorbar": {
              "outlinewidth": 0,
              "ticks": ""
             }
            },
            "type": "scatter3d"
           }
          ],
          "scattercarpet": [
           {
            "marker": {
             "colorbar": {
              "outlinewidth": 0,
              "ticks": ""
             }
            },
            "type": "scattercarpet"
           }
          ],
          "scattergeo": [
           {
            "marker": {
             "colorbar": {
              "outlinewidth": 0,
              "ticks": ""
             }
            },
            "type": "scattergeo"
           }
          ],
          "scattergl": [
           {
            "marker": {
             "colorbar": {
              "outlinewidth": 0,
              "ticks": ""
             }
            },
            "type": "scattergl"
           }
          ],
          "scattermapbox": [
           {
            "marker": {
             "colorbar": {
              "outlinewidth": 0,
              "ticks": ""
             }
            },
            "type": "scattermapbox"
           }
          ],
          "scatterpolar": [
           {
            "marker": {
             "colorbar": {
              "outlinewidth": 0,
              "ticks": ""
             }
            },
            "type": "scatterpolar"
           }
          ],
          "scatterpolargl": [
           {
            "marker": {
             "colorbar": {
              "outlinewidth": 0,
              "ticks": ""
             }
            },
            "type": "scatterpolargl"
           }
          ],
          "scatterternary": [
           {
            "marker": {
             "colorbar": {
              "outlinewidth": 0,
              "ticks": ""
             }
            },
            "type": "scatterternary"
           }
          ],
          "surface": [
           {
            "colorbar": {
             "outlinewidth": 0,
             "ticks": ""
            },
            "colorscale": [
             [
              0,
              "#0d0887"
             ],
             [
              0.1111111111111111,
              "#46039f"
             ],
             [
              0.2222222222222222,
              "#7201a8"
             ],
             [
              0.3333333333333333,
              "#9c179e"
             ],
             [
              0.4444444444444444,
              "#bd3786"
             ],
             [
              0.5555555555555556,
              "#d8576b"
             ],
             [
              0.6666666666666666,
              "#ed7953"
             ],
             [
              0.7777777777777778,
              "#fb9f3a"
             ],
             [
              0.8888888888888888,
              "#fdca26"
             ],
             [
              1,
              "#f0f921"
             ]
            ],
            "type": "surface"
           }
          ],
          "table": [
           {
            "cells": {
             "fill": {
              "color": "#EBF0F8"
             },
             "line": {
              "color": "white"
             }
            },
            "header": {
             "fill": {
              "color": "#C8D4E3"
             },
             "line": {
              "color": "white"
             }
            },
            "type": "table"
           }
          ]
         },
         "layout": {
          "annotationdefaults": {
           "arrowcolor": "#2a3f5f",
           "arrowhead": 0,
           "arrowwidth": 1
          },
          "autotypenumbers": "strict",
          "coloraxis": {
           "colorbar": {
            "outlinewidth": 0,
            "ticks": ""
           }
          },
          "colorscale": {
           "diverging": [
            [
             0,
             "#8e0152"
            ],
            [
             0.1,
             "#c51b7d"
            ],
            [
             0.2,
             "#de77ae"
            ],
            [
             0.3,
             "#f1b6da"
            ],
            [
             0.4,
             "#fde0ef"
            ],
            [
             0.5,
             "#f7f7f7"
            ],
            [
             0.6,
             "#e6f5d0"
            ],
            [
             0.7,
             "#b8e186"
            ],
            [
             0.8,
             "#7fbc41"
            ],
            [
             0.9,
             "#4d9221"
            ],
            [
             1,
             "#276419"
            ]
           ],
           "sequential": [
            [
             0,
             "#0d0887"
            ],
            [
             0.1111111111111111,
             "#46039f"
            ],
            [
             0.2222222222222222,
             "#7201a8"
            ],
            [
             0.3333333333333333,
             "#9c179e"
            ],
            [
             0.4444444444444444,
             "#bd3786"
            ],
            [
             0.5555555555555556,
             "#d8576b"
            ],
            [
             0.6666666666666666,
             "#ed7953"
            ],
            [
             0.7777777777777778,
             "#fb9f3a"
            ],
            [
             0.8888888888888888,
             "#fdca26"
            ],
            [
             1,
             "#f0f921"
            ]
           ],
           "sequentialminus": [
            [
             0,
             "#0d0887"
            ],
            [
             0.1111111111111111,
             "#46039f"
            ],
            [
             0.2222222222222222,
             "#7201a8"
            ],
            [
             0.3333333333333333,
             "#9c179e"
            ],
            [
             0.4444444444444444,
             "#bd3786"
            ],
            [
             0.5555555555555556,
             "#d8576b"
            ],
            [
             0.6666666666666666,
             "#ed7953"
            ],
            [
             0.7777777777777778,
             "#fb9f3a"
            ],
            [
             0.8888888888888888,
             "#fdca26"
            ],
            [
             1,
             "#f0f921"
            ]
           ]
          },
          "colorway": [
           "#636efa",
           "#EF553B",
           "#00cc96",
           "#ab63fa",
           "#FFA15A",
           "#19d3f3",
           "#FF6692",
           "#B6E880",
           "#FF97FF",
           "#FECB52"
          ],
          "font": {
           "color": "#2a3f5f"
          },
          "geo": {
           "bgcolor": "white",
           "lakecolor": "white",
           "landcolor": "#E5ECF6",
           "showlakes": true,
           "showland": true,
           "subunitcolor": "white"
          },
          "hoverlabel": {
           "align": "left"
          },
          "hovermode": "closest",
          "mapbox": {
           "style": "light"
          },
          "paper_bgcolor": "white",
          "plot_bgcolor": "#E5ECF6",
          "polar": {
           "angularaxis": {
            "gridcolor": "white",
            "linecolor": "white",
            "ticks": ""
           },
           "bgcolor": "#E5ECF6",
           "radialaxis": {
            "gridcolor": "white",
            "linecolor": "white",
            "ticks": ""
           }
          },
          "scene": {
           "xaxis": {
            "backgroundcolor": "#E5ECF6",
            "gridcolor": "white",
            "gridwidth": 2,
            "linecolor": "white",
            "showbackground": true,
            "ticks": "",
            "zerolinecolor": "white"
           },
           "yaxis": {
            "backgroundcolor": "#E5ECF6",
            "gridcolor": "white",
            "gridwidth": 2,
            "linecolor": "white",
            "showbackground": true,
            "ticks": "",
            "zerolinecolor": "white"
           },
           "zaxis": {
            "backgroundcolor": "#E5ECF6",
            "gridcolor": "white",
            "gridwidth": 2,
            "linecolor": "white",
            "showbackground": true,
            "ticks": "",
            "zerolinecolor": "white"
           }
          },
          "shapedefaults": {
           "line": {
            "color": "#2a3f5f"
           }
          },
          "ternary": {
           "aaxis": {
            "gridcolor": "white",
            "linecolor": "white",
            "ticks": ""
           },
           "baxis": {
            "gridcolor": "white",
            "linecolor": "white",
            "ticks": ""
           },
           "bgcolor": "#E5ECF6",
           "caxis": {
            "gridcolor": "white",
            "linecolor": "white",
            "ticks": ""
           }
          },
          "title": {
           "x": 0.05
          },
          "xaxis": {
           "automargin": true,
           "gridcolor": "white",
           "linecolor": "white",
           "ticks": "",
           "title": {
            "standoff": 15
           },
           "zerolinecolor": "white",
           "zerolinewidth": 2
          },
          "yaxis": {
           "automargin": true,
           "gridcolor": "white",
           "linecolor": "white",
           "ticks": "",
           "title": {
            "standoff": 15
           },
           "zerolinecolor": "white",
           "zerolinewidth": 2
          }
         }
        },
        "title": {
         "text": "NZD_CAD_ma_8_32"
        },
        "width": 1000,
        "xaxis": {
         "linecolor": "#3a4a54",
         "linewidth": 1,
         "showgrid": false,
         "zeroline": false
        },
        "yaxis": {
         "linecolor": "#3a4a54",
         "linewidth": 1,
         "showgrid": false,
         "zeroline": false
        }
       }
      }
     },
     "metadata": {},
     "output_type": "display_data"
    },
    {
     "data": {
      "application/vnd.plotly.v1+json": {
       "config": {
        "plotlyServerURL": "https://plot.ly"
       },
       "data": [
        {
         "line": {
          "color": "#3d825f",
          "shape": "spline",
          "width": 2
         },
         "mode": "lines",
         "name": "USD_CHF_ma_8_32",
         "type": "scatter",
         "x": [
          "2022-01-10T09:00:00+00:00",
          "2022-01-11T18:00:00+00:00",
          "2022-01-14T15:00:00+00:00",
          "2022-01-17T23:00:00+00:00",
          "2022-01-18T05:00:00+00:00",
          "2022-01-19T10:00:00+00:00",
          "2022-01-20T18:00:00+00:00",
          "2022-01-21T07:00:00+00:00",
          "2022-01-24T06:00:00+00:00",
          "2022-01-24T12:00:00+00:00",
          "2022-01-24T15:00:00+00:00",
          "2022-01-28T18:00:00+00:00",
          "2022-01-30T23:00:00+00:00",
          "2022-01-31T18:00:00+00:00",
          "2022-02-03T08:00:00+00:00",
          "2022-02-04T04:00:00+00:00",
          "2022-02-04T09:00:00+00:00",
          "2022-02-07T14:00:00+00:00",
          "2022-02-08T07:00:00+00:00",
          "2022-02-08T13:00:00+00:00",
          "2022-02-08T17:00:00+00:00",
          "2022-02-09T08:00:00+00:00",
          "2022-02-10T03:00:00+00:00",
          "2022-02-10T09:00:00+00:00",
          "2022-02-10T11:00:00+00:00",
          "2022-02-11T19:00:00+00:00",
          "2022-02-14T17:00:00+00:00",
          "2022-02-15T00:00:00+00:00",
          "2022-02-15T15:00:00+00:00",
          "2022-02-16T10:00:00+00:00",
          "2022-02-18T07:00:00+00:00",
          "2022-02-18T14:00:00+00:00",
          "2022-02-18T17:00:00+00:00",
          "2022-02-21T04:00:00+00:00",
          "2022-02-22T11:00:00+00:00",
          "2022-02-23T14:00:00+00:00",
          "2022-02-24T10:00:00+00:00",
          "2022-02-28T09:00:00+00:00",
          "2022-03-01T17:00:00+00:00",
          "2022-03-03T09:00:00+00:00",
          "2022-03-07T01:00:00+00:00",
          "2022-03-09T12:00:00+00:00",
          "2022-03-10T14:00:00+00:00",
          "2022-03-16T08:00:00+00:00",
          "2022-03-16T10:00:00+00:00",
          "2022-03-16T11:00:00+00:00",
          "2022-03-16T13:00:00+00:00",
          "2022-03-17T02:00:00+00:00",
          "2022-03-21T22:00:00+00:00",
          "2022-03-22T16:00:00+00:00",
          "2022-03-23T07:00:00+00:00",
          "2022-03-23T17:00:00+00:00",
          "2022-03-25T18:00:00+00:00",
          "2022-03-29T03:00:00+00:00",
          "2022-03-29T10:00:00+00:00",
          "2022-03-29T13:00:00+00:00",
          "2022-03-31T12:00:00+00:00",
          "2022-03-31T13:00:00+00:00",
          "2022-04-01T01:00:00+00:00",
          "2022-04-04T19:00:00+00:00",
          "2022-04-04T21:00:00+00:00",
          "2022-04-05T04:00:00+00:00",
          "2022-04-05T16:00:00+00:00",
          "2022-04-07T07:00:00+00:00",
          "2022-04-07T08:00:00+00:00",
          "2022-04-08T20:00:00+00:00",
          "2022-04-11T03:00:00+00:00",
          "2022-04-11T12:00:00+00:00",
          "2022-04-12T21:00:00+00:00",
          "2022-04-14T06:00:00+00:00",
          "2022-04-14T10:00:00+00:00",
          "2022-04-20T12:00:00+00:00",
          "2022-04-21T04:00:00+00:00",
          "2022-04-21T10:00:00+00:00",
          "2022-04-21T14:00:00+00:00",
          "2022-04-29T06:00:00+00:00",
          "2022-04-29T19:00:00+00:00",
          "2022-05-03T15:00:00+00:00",
          "2022-05-03T19:00:00+00:00",
          "2022-05-05T06:00:00+00:00",
          "2022-05-05T15:00:00+00:00",
          "2022-05-10T05:00:00+00:00",
          "2022-05-10T10:00:00+00:00",
          "2022-05-11T08:00:00+00:00",
          "2022-05-11T23:00:00+00:00",
          "2022-05-13T14:00:00+00:00",
          "2022-05-13T18:00:00+00:00",
          "2022-05-15T22:00:00+00:00",
          "2022-05-15T23:00:00+00:00",
          "2022-05-16T20:00:00+00:00",
          "2022-05-18T10:00:00+00:00",
          "2022-05-18T16:00:00+00:00",
          "2022-05-20T15:00:00+00:00",
          "2022-05-23T05:00:00+00:00",
          "2022-05-25T10:00:00+00:00",
          "2022-05-26T00:00:00+00:00",
          "2022-05-30T12:00:00+00:00",
          "2022-05-30T21:00:00+00:00",
          "2022-05-30T23:00:00+00:00",
          "2022-05-31T17:00:00+00:00",
          "2022-06-01T00:00:00+00:00",
          "2022-06-02T08:00:00+00:00",
          "2022-06-03T12:00:00+00:00",
          "2022-06-09T13:00:00+00:00",
          "2022-06-09T19:00:00+00:00",
          "2022-06-14T09:00:00+00:00",
          "2022-06-14T16:00:00+00:00",
          "2022-06-15T20:00:00+00:00",
          "2022-06-17T18:00:00+00:00",
          "2022-06-20T05:00:00+00:00",
          "2022-06-20T23:00:00+00:00",
          "2022-06-21T02:00:00+00:00",
          "2022-06-21T05:00:00+00:00",
          "2022-06-21T06:00:00+00:00",
          "2022-06-22T01:00:00+00:00",
          "2022-06-22T13:00:00+00:00",
          "2022-06-23T10:00:00+00:00",
          "2022-06-23T16:00:00+00:00",
          "2022-06-27T12:00:00+00:00",
          "2022-06-27T17:00:00+00:00",
          "2022-06-28T16:00:00+00:00",
          "2022-06-29T08:00:00+00:00",
          "2022-06-30T08:00:00+00:00",
          "2022-06-30T20:00:00+00:00",
          "2022-07-01T04:00:00+00:00",
          "2022-07-04T06:00:00+00:00",
          "2022-07-04T13:00:00+00:00",
          "2022-07-07T05:00:00+00:00",
          "2022-07-07T09:00:00+00:00",
          "2022-07-12T18:00:00+00:00",
          "2022-07-14T02:00:00+00:00",
          "2022-07-15T04:00:00+00:00",
          "2022-07-18T21:00:00+00:00",
          "2022-07-19T08:00:00+00:00",
          "2022-07-20T12:00:00+00:00",
          "2022-07-21T15:00:00+00:00",
          "2022-07-25T13:00:00+00:00",
          "2022-07-26T14:00:00+00:00",
          "2022-07-27T16:00:00+00:00",
          "2022-07-27T21:00:00+00:00",
          "2022-08-02T08:00:00+00:00",
          "2022-08-04T12:00:00+00:00",
          "2022-08-05T13:00:00+00:00",
          "2022-08-08T10:00:00+00:00",
          "2022-08-12T00:00:00+00:00",
          "2022-08-14T23:00:00+00:00",
          "2022-08-15T05:00:00+00:00",
          "2022-08-23T19:00:00+00:00",
          "2022-08-24T02:00:00+00:00",
          "2022-08-24T08:00:00+00:00",
          "2022-08-24T16:00:00+00:00",
          "2022-08-25T05:00:00+00:00",
          "2022-08-26T05:00:00+00:00",
          "2022-08-26T13:00:00+00:00"
         ],
         "y": [
          29.000000000000135,
          149.00000000000023,
          169.80000000000103,
          154.9000000000011,
          154.80000000000047,
          134.99999999999955,
          109.89999999999942,
          117.80000000000011,
          94.50000000000068,
          57.40000000000077,
          214.00000000000082,
          214.10000000000147,
          173.40000000000242,
          229.60000000000312,
          211.6000000000029,
          196.20000000000303,
          217.00000000000384,
          194.60000000000363,
          177.50000000000261,
          168.20000000000164,
          156.9000000000009,
          155.5000000000006,
          152.80000000000067,
          139.40000000000057,
          144.20000000000093,
          142.50000000000088,
          124.39999999999999,
          94.99999999999946,
          76.99999999999922,
          116.79999999999905,
          108.39999999999841,
          97.49999999999807,
          84.99999999999834,
          93.09999999999812,
          79.59999999999738,
          11.299999999997354,
          -7.700000000002774,
          21.699999999996653,
          23.699999999996432,
          14.199999999996368,
          85.59999999999671,
          61.999999999997534,
          159.19999999999814,
          150.79999999999862,
          140.5999999999995,
          134.89999999999992,
          129.50000000000006,
          194.8000000000004,
          191.00000000000105,
          181.60000000000164,
          151.00000000000213,
          151.80000000000294,
          171.60000000000386,
          141.1000000000039,
          88.600000000003,
          148.00000000000244,
          127.00000000000253,
          108.4000000000028,
          130.0000000000033,
          131.4000000000036,
          132.00000000000307,
          100.30000000000301,
          127.20000000000272,
          120.60000000000167,
          132.00000000000085,
          113.40000000000002,
          84.49999999999943,
          90.59999999999943,
          98.79999999999986,
          84.19999999999969,
          219.6999999999992,
          196.19999999999956,
          169.3999999999994,
          129.09999999999852,
          323.1999999999978,
          311.199999999998,
          368.799999999999,
          369.9999999999991,
          343.7999999999984,
          225.29999999999814,
          265.79999999999814,
          219.79999999999765,
          144.19999999999754,
          84.59999999999789,
          158.49999999999687,
          149.29999999999654,
          143.6999999999976,
          142.79999999999836,
          138.09999999999866,
          191.89999999999804,
          99.59999999999734,
          223.09999999999707,
          192.79999999999728,
          271.3999999999971,
          244.89999999999668,
          257.999999999997,
          235.3999999999977,
          230.79999999999865,
          222.59999999999934,
          196.69999999999953,
          203.79999999999941,
          185.39999999999878,
          288.5999999999988,
          209.89999999999947,
          334.5999999999993,
          241.19999999999914,
          156.7999999999991,
          393.8999999999992,
          350.79999999999995,
          337.8000000000003,
          334.6000000000004,
          333.20000000000016,
          319.89999999999964,
          301.5999999999997,
          239.39999999999964,
          198.1999999999995,
          147.2999999999991,
          151.09999999999846,
          105.69999999999857,
          96.69999999999845,
          85.09999999999795,
          81.39999999999813,
          72.7999999999984,
          54.999999999998366,
          75.59999999999788,
          52.59999999999708,
          130.79999999999646,
          95.39999999999658,
          189.6999999999971,
          190.59999999999744,
          199.39999999999736,
          251.99999999999667,
          178.4999999999959,
          179.39999999999515,
          173.1999999999945,
          226.19999999999422,
          209.39999999999407,
          176.99999999999386,
          117.39999999999421,
          197.79999999999467,
          271.2999999999943,
          242.99999999999434,
          199.59999999999422,
          355.9999999999941,
          357.3999999999944,
          352.6999999999947,
          568.6999999999953,
          550.3999999999953,
          513.5999999999951,
          466.1999999999955,
          438.0999999999957,
          438.19999999999527,
          391.49999999999466,
          324.29999999999404
         ]
        }
       ],
       "layout": {
        "font": {
         "color": "#3d825f",
         "size": 10
        },
        "height": 400,
        "margin": {
         "b": 10,
         "l": 15,
         "r": 15
        },
        "paper_bgcolor": "#1e1e1e",
        "plot_bgcolor": "#1e1e1e",
        "template": {
         "data": {
          "bar": [
           {
            "error_x": {
             "color": "#2a3f5f"
            },
            "error_y": {
             "color": "#2a3f5f"
            },
            "marker": {
             "line": {
              "color": "#E5ECF6",
              "width": 0.5
             },
             "pattern": {
              "fillmode": "overlay",
              "size": 10,
              "solidity": 0.2
             }
            },
            "type": "bar"
           }
          ],
          "barpolar": [
           {
            "marker": {
             "line": {
              "color": "#E5ECF6",
              "width": 0.5
             },
             "pattern": {
              "fillmode": "overlay",
              "size": 10,
              "solidity": 0.2
             }
            },
            "type": "barpolar"
           }
          ],
          "carpet": [
           {
            "aaxis": {
             "endlinecolor": "#2a3f5f",
             "gridcolor": "white",
             "linecolor": "white",
             "minorgridcolor": "white",
             "startlinecolor": "#2a3f5f"
            },
            "baxis": {
             "endlinecolor": "#2a3f5f",
             "gridcolor": "white",
             "linecolor": "white",
             "minorgridcolor": "white",
             "startlinecolor": "#2a3f5f"
            },
            "type": "carpet"
           }
          ],
          "choropleth": [
           {
            "colorbar": {
             "outlinewidth": 0,
             "ticks": ""
            },
            "type": "choropleth"
           }
          ],
          "contour": [
           {
            "colorbar": {
             "outlinewidth": 0,
             "ticks": ""
            },
            "colorscale": [
             [
              0,
              "#0d0887"
             ],
             [
              0.1111111111111111,
              "#46039f"
             ],
             [
              0.2222222222222222,
              "#7201a8"
             ],
             [
              0.3333333333333333,
              "#9c179e"
             ],
             [
              0.4444444444444444,
              "#bd3786"
             ],
             [
              0.5555555555555556,
              "#d8576b"
             ],
             [
              0.6666666666666666,
              "#ed7953"
             ],
             [
              0.7777777777777778,
              "#fb9f3a"
             ],
             [
              0.8888888888888888,
              "#fdca26"
             ],
             [
              1,
              "#f0f921"
             ]
            ],
            "type": "contour"
           }
          ],
          "contourcarpet": [
           {
            "colorbar": {
             "outlinewidth": 0,
             "ticks": ""
            },
            "type": "contourcarpet"
           }
          ],
          "heatmap": [
           {
            "colorbar": {
             "outlinewidth": 0,
             "ticks": ""
            },
            "colorscale": [
             [
              0,
              "#0d0887"
             ],
             [
              0.1111111111111111,
              "#46039f"
             ],
             [
              0.2222222222222222,
              "#7201a8"
             ],
             [
              0.3333333333333333,
              "#9c179e"
             ],
             [
              0.4444444444444444,
              "#bd3786"
             ],
             [
              0.5555555555555556,
              "#d8576b"
             ],
             [
              0.6666666666666666,
              "#ed7953"
             ],
             [
              0.7777777777777778,
              "#fb9f3a"
             ],
             [
              0.8888888888888888,
              "#fdca26"
             ],
             [
              1,
              "#f0f921"
             ]
            ],
            "type": "heatmap"
           }
          ],
          "heatmapgl": [
           {
            "colorbar": {
             "outlinewidth": 0,
             "ticks": ""
            },
            "colorscale": [
             [
              0,
              "#0d0887"
             ],
             [
              0.1111111111111111,
              "#46039f"
             ],
             [
              0.2222222222222222,
              "#7201a8"
             ],
             [
              0.3333333333333333,
              "#9c179e"
             ],
             [
              0.4444444444444444,
              "#bd3786"
             ],
             [
              0.5555555555555556,
              "#d8576b"
             ],
             [
              0.6666666666666666,
              "#ed7953"
             ],
             [
              0.7777777777777778,
              "#fb9f3a"
             ],
             [
              0.8888888888888888,
              "#fdca26"
             ],
             [
              1,
              "#f0f921"
             ]
            ],
            "type": "heatmapgl"
           }
          ],
          "histogram": [
           {
            "marker": {
             "pattern": {
              "fillmode": "overlay",
              "size": 10,
              "solidity": 0.2
             }
            },
            "type": "histogram"
           }
          ],
          "histogram2d": [
           {
            "colorbar": {
             "outlinewidth": 0,
             "ticks": ""
            },
            "colorscale": [
             [
              0,
              "#0d0887"
             ],
             [
              0.1111111111111111,
              "#46039f"
             ],
             [
              0.2222222222222222,
              "#7201a8"
             ],
             [
              0.3333333333333333,
              "#9c179e"
             ],
             [
              0.4444444444444444,
              "#bd3786"
             ],
             [
              0.5555555555555556,
              "#d8576b"
             ],
             [
              0.6666666666666666,
              "#ed7953"
             ],
             [
              0.7777777777777778,
              "#fb9f3a"
             ],
             [
              0.8888888888888888,
              "#fdca26"
             ],
             [
              1,
              "#f0f921"
             ]
            ],
            "type": "histogram2d"
           }
          ],
          "histogram2dcontour": [
           {
            "colorbar": {
             "outlinewidth": 0,
             "ticks": ""
            },
            "colorscale": [
             [
              0,
              "#0d0887"
             ],
             [
              0.1111111111111111,
              "#46039f"
             ],
             [
              0.2222222222222222,
              "#7201a8"
             ],
             [
              0.3333333333333333,
              "#9c179e"
             ],
             [
              0.4444444444444444,
              "#bd3786"
             ],
             [
              0.5555555555555556,
              "#d8576b"
             ],
             [
              0.6666666666666666,
              "#ed7953"
             ],
             [
              0.7777777777777778,
              "#fb9f3a"
             ],
             [
              0.8888888888888888,
              "#fdca26"
             ],
             [
              1,
              "#f0f921"
             ]
            ],
            "type": "histogram2dcontour"
           }
          ],
          "mesh3d": [
           {
            "colorbar": {
             "outlinewidth": 0,
             "ticks": ""
            },
            "type": "mesh3d"
           }
          ],
          "parcoords": [
           {
            "line": {
             "colorbar": {
              "outlinewidth": 0,
              "ticks": ""
             }
            },
            "type": "parcoords"
           }
          ],
          "pie": [
           {
            "automargin": true,
            "type": "pie"
           }
          ],
          "scatter": [
           {
            "fillpattern": {
             "fillmode": "overlay",
             "size": 10,
             "solidity": 0.2
            },
            "type": "scatter"
           }
          ],
          "scatter3d": [
           {
            "line": {
             "colorbar": {
              "outlinewidth": 0,
              "ticks": ""
             }
            },
            "marker": {
             "colorbar": {
              "outlinewidth": 0,
              "ticks": ""
             }
            },
            "type": "scatter3d"
           }
          ],
          "scattercarpet": [
           {
            "marker": {
             "colorbar": {
              "outlinewidth": 0,
              "ticks": ""
             }
            },
            "type": "scattercarpet"
           }
          ],
          "scattergeo": [
           {
            "marker": {
             "colorbar": {
              "outlinewidth": 0,
              "ticks": ""
             }
            },
            "type": "scattergeo"
           }
          ],
          "scattergl": [
           {
            "marker": {
             "colorbar": {
              "outlinewidth": 0,
              "ticks": ""
             }
            },
            "type": "scattergl"
           }
          ],
          "scattermapbox": [
           {
            "marker": {
             "colorbar": {
              "outlinewidth": 0,
              "ticks": ""
             }
            },
            "type": "scattermapbox"
           }
          ],
          "scatterpolar": [
           {
            "marker": {
             "colorbar": {
              "outlinewidth": 0,
              "ticks": ""
             }
            },
            "type": "scatterpolar"
           }
          ],
          "scatterpolargl": [
           {
            "marker": {
             "colorbar": {
              "outlinewidth": 0,
              "ticks": ""
             }
            },
            "type": "scatterpolargl"
           }
          ],
          "scatterternary": [
           {
            "marker": {
             "colorbar": {
              "outlinewidth": 0,
              "ticks": ""
             }
            },
            "type": "scatterternary"
           }
          ],
          "surface": [
           {
            "colorbar": {
             "outlinewidth": 0,
             "ticks": ""
            },
            "colorscale": [
             [
              0,
              "#0d0887"
             ],
             [
              0.1111111111111111,
              "#46039f"
             ],
             [
              0.2222222222222222,
              "#7201a8"
             ],
             [
              0.3333333333333333,
              "#9c179e"
             ],
             [
              0.4444444444444444,
              "#bd3786"
             ],
             [
              0.5555555555555556,
              "#d8576b"
             ],
             [
              0.6666666666666666,
              "#ed7953"
             ],
             [
              0.7777777777777778,
              "#fb9f3a"
             ],
             [
              0.8888888888888888,
              "#fdca26"
             ],
             [
              1,
              "#f0f921"
             ]
            ],
            "type": "surface"
           }
          ],
          "table": [
           {
            "cells": {
             "fill": {
              "color": "#EBF0F8"
             },
             "line": {
              "color": "white"
             }
            },
            "header": {
             "fill": {
              "color": "#C8D4E3"
             },
             "line": {
              "color": "white"
             }
            },
            "type": "table"
           }
          ]
         },
         "layout": {
          "annotationdefaults": {
           "arrowcolor": "#2a3f5f",
           "arrowhead": 0,
           "arrowwidth": 1
          },
          "autotypenumbers": "strict",
          "coloraxis": {
           "colorbar": {
            "outlinewidth": 0,
            "ticks": ""
           }
          },
          "colorscale": {
           "diverging": [
            [
             0,
             "#8e0152"
            ],
            [
             0.1,
             "#c51b7d"
            ],
            [
             0.2,
             "#de77ae"
            ],
            [
             0.3,
             "#f1b6da"
            ],
            [
             0.4,
             "#fde0ef"
            ],
            [
             0.5,
             "#f7f7f7"
            ],
            [
             0.6,
             "#e6f5d0"
            ],
            [
             0.7,
             "#b8e186"
            ],
            [
             0.8,
             "#7fbc41"
            ],
            [
             0.9,
             "#4d9221"
            ],
            [
             1,
             "#276419"
            ]
           ],
           "sequential": [
            [
             0,
             "#0d0887"
            ],
            [
             0.1111111111111111,
             "#46039f"
            ],
            [
             0.2222222222222222,
             "#7201a8"
            ],
            [
             0.3333333333333333,
             "#9c179e"
            ],
            [
             0.4444444444444444,
             "#bd3786"
            ],
            [
             0.5555555555555556,
             "#d8576b"
            ],
            [
             0.6666666666666666,
             "#ed7953"
            ],
            [
             0.7777777777777778,
             "#fb9f3a"
            ],
            [
             0.8888888888888888,
             "#fdca26"
            ],
            [
             1,
             "#f0f921"
            ]
           ],
           "sequentialminus": [
            [
             0,
             "#0d0887"
            ],
            [
             0.1111111111111111,
             "#46039f"
            ],
            [
             0.2222222222222222,
             "#7201a8"
            ],
            [
             0.3333333333333333,
             "#9c179e"
            ],
            [
             0.4444444444444444,
             "#bd3786"
            ],
            [
             0.5555555555555556,
             "#d8576b"
            ],
            [
             0.6666666666666666,
             "#ed7953"
            ],
            [
             0.7777777777777778,
             "#fb9f3a"
            ],
            [
             0.8888888888888888,
             "#fdca26"
            ],
            [
             1,
             "#f0f921"
            ]
           ]
          },
          "colorway": [
           "#636efa",
           "#EF553B",
           "#00cc96",
           "#ab63fa",
           "#FFA15A",
           "#19d3f3",
           "#FF6692",
           "#B6E880",
           "#FF97FF",
           "#FECB52"
          ],
          "font": {
           "color": "#2a3f5f"
          },
          "geo": {
           "bgcolor": "white",
           "lakecolor": "white",
           "landcolor": "#E5ECF6",
           "showlakes": true,
           "showland": true,
           "subunitcolor": "white"
          },
          "hoverlabel": {
           "align": "left"
          },
          "hovermode": "closest",
          "mapbox": {
           "style": "light"
          },
          "paper_bgcolor": "white",
          "plot_bgcolor": "#E5ECF6",
          "polar": {
           "angularaxis": {
            "gridcolor": "white",
            "linecolor": "white",
            "ticks": ""
           },
           "bgcolor": "#E5ECF6",
           "radialaxis": {
            "gridcolor": "white",
            "linecolor": "white",
            "ticks": ""
           }
          },
          "scene": {
           "xaxis": {
            "backgroundcolor": "#E5ECF6",
            "gridcolor": "white",
            "gridwidth": 2,
            "linecolor": "white",
            "showbackground": true,
            "ticks": "",
            "zerolinecolor": "white"
           },
           "yaxis": {
            "backgroundcolor": "#E5ECF6",
            "gridcolor": "white",
            "gridwidth": 2,
            "linecolor": "white",
            "showbackground": true,
            "ticks": "",
            "zerolinecolor": "white"
           },
           "zaxis": {
            "backgroundcolor": "#E5ECF6",
            "gridcolor": "white",
            "gridwidth": 2,
            "linecolor": "white",
            "showbackground": true,
            "ticks": "",
            "zerolinecolor": "white"
           }
          },
          "shapedefaults": {
           "line": {
            "color": "#2a3f5f"
           }
          },
          "ternary": {
           "aaxis": {
            "gridcolor": "white",
            "linecolor": "white",
            "ticks": ""
           },
           "baxis": {
            "gridcolor": "white",
            "linecolor": "white",
            "ticks": ""
           },
           "bgcolor": "#E5ECF6",
           "caxis": {
            "gridcolor": "white",
            "linecolor": "white",
            "ticks": ""
           }
          },
          "title": {
           "x": 0.05
          },
          "xaxis": {
           "automargin": true,
           "gridcolor": "white",
           "linecolor": "white",
           "ticks": "",
           "title": {
            "standoff": 15
           },
           "zerolinecolor": "white",
           "zerolinewidth": 2
          },
          "yaxis": {
           "automargin": true,
           "gridcolor": "white",
           "linecolor": "white",
           "ticks": "",
           "title": {
            "standoff": 15
           },
           "zerolinecolor": "white",
           "zerolinewidth": 2
          }
         }
        },
        "title": {
         "text": "USD_CHF_ma_8_32"
        },
        "width": 1000,
        "xaxis": {
         "linecolor": "#3a4a54",
         "linewidth": 1,
         "showgrid": false,
         "zeroline": false
        },
        "yaxis": {
         "linecolor": "#3a4a54",
         "linewidth": 1,
         "showgrid": false,
         "zeroline": false
        }
       }
      }
     },
     "metadata": {},
     "output_type": "display_data"
    },
    {
     "data": {
      "application/vnd.plotly.v1+json": {
       "config": {
        "plotlyServerURL": "https://plot.ly"
       },
       "data": [
        {
         "line": {
          "color": "#3d825f",
          "shape": "spline",
          "width": 2
         },
         "mode": "lines",
         "name": "USD_JPY_ma_8_32",
         "type": "scatter",
         "x": [
          "2022-01-10T08:00:00+00:00",
          "2022-01-10T11:00:00+00:00",
          "2022-01-11T13:00:00+00:00",
          "2022-01-12T01:00:00+00:00",
          "2022-01-12T09:00:00+00:00",
          "2022-01-12T13:00:00+00:00",
          "2022-01-14T21:00:00+00:00",
          "2022-01-18T16:00:00+00:00",
          "2022-01-20T10:00:00+00:00",
          "2022-01-20T11:00:00+00:00",
          "2022-01-24T04:00:00+00:00",
          "2022-01-24T09:00:00+00:00",
          "2022-01-24T16:00:00+00:00",
          "2022-01-25T08:00:00+00:00",
          "2022-01-25T09:00:00+00:00",
          "2022-01-25T21:00:00+00:00",
          "2022-01-26T07:00:00+00:00",
          "2022-01-28T17:00:00+00:00",
          "2022-01-31T04:00:00+00:00",
          "2022-01-31T16:00:00+00:00",
          "2022-02-03T08:00:00+00:00",
          "2022-02-07T12:00:00+00:00",
          "2022-02-08T02:00:00+00:00",
          "2022-02-09T07:00:00+00:00",
          "2022-02-09T22:00:00+00:00",
          "2022-02-11T16:00:00+00:00",
          "2022-02-14T19:00:00+00:00",
          "2022-02-15T05:00:00+00:00",
          "2022-02-15T10:00:00+00:00",
          "2022-02-16T14:00:00+00:00",
          "2022-02-18T07:00:00+00:00",
          "2022-02-20T23:00:00+00:00",
          "2022-02-22T12:00:00+00:00",
          "2022-02-23T19:00:00+00:00",
          "2022-02-24T16:00:00+00:00",
          "2022-02-28T13:00:00+00:00",
          "2022-03-02T04:00:00+00:00",
          "2022-03-03T19:00:00+00:00",
          "2022-03-07T13:00:00+00:00",
          "2022-03-15T12:00:00+00:00",
          "2022-03-15T18:00:00+00:00",
          "2022-03-17T16:00:00+00:00",
          "2022-03-18T05:00:00+00:00",
          "2022-03-25T07:00:00+00:00",
          "2022-03-25T18:00:00+00:00",
          "2022-03-29T07:00:00+00:00",
          "2022-03-31T04:00:00+00:00",
          "2022-03-31T11:00:00+00:00",
          "2022-04-01T02:00:00+00:00",
          "2022-04-05T03:00:00+00:00",
          "2022-04-05T11:00:00+00:00",
          "2022-04-07T00:00:00+00:00",
          "2022-04-07T12:00:00+00:00",
          "2022-04-12T14:00:00+00:00",
          "2022-04-13T01:00:00+00:00",
          "2022-04-13T22:00:00+00:00",
          "2022-04-14T16:00:00+00:00",
          "2022-04-20T09:00:00+00:00",
          "2022-04-21T06:00:00+00:00",
          "2022-04-22T08:00:00+00:00",
          "2022-04-22T14:00:00+00:00",
          "2022-04-25T07:00:00+00:00",
          "2022-04-27T06:00:00+00:00",
          "2022-04-29T08:00:00+00:00",
          "2022-05-02T05:00:00+00:00",
          "2022-05-03T02:00:00+00:00",
          "2022-05-03T21:00:00+00:00",
          "2022-05-04T11:00:00+00:00",
          "2022-05-05T12:00:00+00:00",
          "2022-05-09T17:00:00+00:00",
          "2022-05-10T21:00:00+00:00",
          "2022-05-11T08:00:00+00:00",
          "2022-05-13T07:00:00+00:00",
          "2022-05-16T07:00:00+00:00",
          "2022-05-16T10:00:00+00:00",
          "2022-05-16T17:00:00+00:00",
          "2022-05-17T05:00:00+00:00",
          "2022-05-18T03:00:00+00:00",
          "2022-05-20T11:00:00+00:00",
          "2022-05-23T00:00:00+00:00",
          "2022-05-23T18:00:00+00:00",
          "2022-05-24T08:00:00+00:00",
          "2022-05-25T11:00:00+00:00",
          "2022-05-26T08:00:00+00:00",
          "2022-05-26T18:00:00+00:00",
          "2022-05-26T22:00:00+00:00",
          "2022-05-27T13:00:00+00:00",
          "2022-05-27T18:00:00+00:00",
          "2022-05-27T19:00:00+00:00",
          "2022-06-02T12:00:00+00:00",
          "2022-06-03T09:00:00+00:00",
          "2022-06-09T09:00:00+00:00",
          "2022-06-09T19:00:00+00:00",
          "2022-06-10T07:00:00+00:00",
          "2022-06-10T16:00:00+00:00",
          "2022-06-13T13:00:00+00:00",
          "2022-06-14T07:00:00+00:00",
          "2022-06-15T10:00:00+00:00",
          "2022-06-17T05:00:00+00:00",
          "2022-06-20T13:00:00+00:00",
          "2022-06-20T16:00:00+00:00",
          "2022-06-22T13:00:00+00:00",
          "2022-06-24T14:00:00+00:00",
          "2022-06-27T03:00:00+00:00",
          "2022-06-27T10:00:00+00:00",
          "2022-06-30T09:00:00+00:00",
          "2022-07-04T09:00:00+00:00",
          "2022-07-05T18:00:00+00:00",
          "2022-07-06T19:00:00+00:00",
          "2022-07-08T03:00:00+00:00",
          "2022-07-08T13:00:00+00:00",
          "2022-07-12T10:00:00+00:00",
          "2022-07-13T06:00:00+00:00",
          "2022-07-15T10:00:00+00:00",
          "2022-07-19T20:00:00+00:00",
          "2022-07-21T17:00:00+00:00",
          "2022-07-25T14:00:00+00:00",
          "2022-07-27T22:00:00+00:00",
          "2022-08-02T17:00:00+00:00",
          "2022-08-04T15:00:00+00:00",
          "2022-08-05T13:00:00+00:00",
          "2022-08-08T16:00:00+00:00",
          "2022-08-09T11:00:00+00:00",
          "2022-08-10T08:00:00+00:00",
          "2022-08-11T20:00:00+00:00",
          "2022-08-15T03:00:00+00:00",
          "2022-08-16T02:00:00+00:00",
          "2022-08-18T15:00:00+00:00",
          "2022-08-18T16:00:00+00:00",
          "2022-08-23T07:00:00+00:00",
          "2022-08-23T10:00:00+00:00",
          "2022-08-23T14:00:00+00:00",
          "2022-08-24T16:00:00+00:00",
          "2022-08-25T06:00:00+00:00"
         ],
         "y": [
          -33.80000000000081,
          -63.60000000000099,
          -95.6000000000003,
          -102.59999999999962,
          -117.79999999999973,
          -15.30000000000058,
          25.99999999999909,
          60.199999999998965,
          62.599999999999056,
          99.09999999999854,
          68.59999999999786,
          46.79999999999751,
          54.09999999999684,
          38.599999999996726,
          19.499999999996476,
          7.3999999999955435,
          132.7999999999946,
          108.09999999999462,
          85.1999999999947,
          143.2999999999936,
          172.39999999999327,
          130.59999999999405,
          132.29999999999507,
          117.69999999999499,
          153.99999999999494,
          179.1999999999959,
          146.19999999999607,
          115.39999999999537,
          95.79999999999416,
          127.99999999999301,
          112.7999999999929,
          101.19999999999294,
          89.59999999999297,
          39.69999999999345,
          25.699999999993395,
          54.199999999993054,
          92.29999999999308,
          104.59999999999354,
          372.49999999999375,
          338.39999999999435,
          347.49999999999517,
          313.2999999999953,
          612.1999999999957,
          573.0999999999966,
          717.1999999999969,
          851.7999999999972,
          791.7999999999978,
          688.9999999999973,
          675.3999999999962,
          634.599999999996,
          701.8999999999962,
          663.3999999999958,
          782.5999999999951,
          740.7999999999945,
          740.7999999999945,
          706.8999999999946,
          919.7999999999937,
          924.799999999992,
          949.9999999999901,
          938.3999999999887,
          920.599999999989,
          947.1999999999896,
          1163.9999999999889,
          1133.7999999999897,
          1092.599999999992,
          1079.3999999999942,
          1061.3999999999965,
          1065.699999999997,
          1114.699999999998,
          1110.5999999999983,
          1052.999999999999,
          1158.6000000000004,
          1214.2000000000016,
          1219.2000000000028,
          1215.2000000000035,
          1208.0000000000032,
          1186.8000000000015,
          1294.8,
          1261.1999999999987,
          1242.9999999999984,
          1196.7999999999981,
          1242.7999999999975,
          1213.8999999999974,
          1164.1999999999973,
          1151.9999999999973,
          1169.199999999997,
          1190.1999999999964,
          1186.7999999999959,
          1438.0999999999963,
          1393.999999999996,
          1732.3999999999946,
          1635.9999999999948,
          1553.9999999999955,
          1483.9999999999966,
          1416.9999999999977,
          1339.299999999999,
          1337.5999999999995,
          1368.9999999999986,
          1468.699999999997,
          1471.3999999999958,
          1549.999999999996,
          1611.3999999999965,
          1571.399999999996,
          1531.699999999994,
          1633.499999999994,
          1712.2999999999952,
          1731.299999999995,
          1709.1999999999946,
          1681.7999999999945,
          1614.6999999999953,
          1672.999999999995,
          1637.5999999999935,
          1787.3999999999926,
          1837.5999999999935,
          1800.799999999994,
          1915.099999999994,
          1891.299999999994,
          2257.999999999994,
          2307.8999999999937,
          2148.3999999999937,
          2122.9999999999945,
          2077.599999999994,
          2066.799999999994,
          2264.799999999993,
          2285.099999999993,
          2267.799999999993,
          2461.29999999999,
          2426.999999999988,
          2590.2999999999865,
          2573.2999999999847,
          2454.7999999999847,
          2373.5999999999835,
          2332.4999999999836,
          2312.099999999986
         ]
        }
       ],
       "layout": {
        "font": {
         "color": "#3d825f",
         "size": 10
        },
        "height": 400,
        "margin": {
         "b": 10,
         "l": 15,
         "r": 15
        },
        "paper_bgcolor": "#1e1e1e",
        "plot_bgcolor": "#1e1e1e",
        "template": {
         "data": {
          "bar": [
           {
            "error_x": {
             "color": "#2a3f5f"
            },
            "error_y": {
             "color": "#2a3f5f"
            },
            "marker": {
             "line": {
              "color": "#E5ECF6",
              "width": 0.5
             },
             "pattern": {
              "fillmode": "overlay",
              "size": 10,
              "solidity": 0.2
             }
            },
            "type": "bar"
           }
          ],
          "barpolar": [
           {
            "marker": {
             "line": {
              "color": "#E5ECF6",
              "width": 0.5
             },
             "pattern": {
              "fillmode": "overlay",
              "size": 10,
              "solidity": 0.2
             }
            },
            "type": "barpolar"
           }
          ],
          "carpet": [
           {
            "aaxis": {
             "endlinecolor": "#2a3f5f",
             "gridcolor": "white",
             "linecolor": "white",
             "minorgridcolor": "white",
             "startlinecolor": "#2a3f5f"
            },
            "baxis": {
             "endlinecolor": "#2a3f5f",
             "gridcolor": "white",
             "linecolor": "white",
             "minorgridcolor": "white",
             "startlinecolor": "#2a3f5f"
            },
            "type": "carpet"
           }
          ],
          "choropleth": [
           {
            "colorbar": {
             "outlinewidth": 0,
             "ticks": ""
            },
            "type": "choropleth"
           }
          ],
          "contour": [
           {
            "colorbar": {
             "outlinewidth": 0,
             "ticks": ""
            },
            "colorscale": [
             [
              0,
              "#0d0887"
             ],
             [
              0.1111111111111111,
              "#46039f"
             ],
             [
              0.2222222222222222,
              "#7201a8"
             ],
             [
              0.3333333333333333,
              "#9c179e"
             ],
             [
              0.4444444444444444,
              "#bd3786"
             ],
             [
              0.5555555555555556,
              "#d8576b"
             ],
             [
              0.6666666666666666,
              "#ed7953"
             ],
             [
              0.7777777777777778,
              "#fb9f3a"
             ],
             [
              0.8888888888888888,
              "#fdca26"
             ],
             [
              1,
              "#f0f921"
             ]
            ],
            "type": "contour"
           }
          ],
          "contourcarpet": [
           {
            "colorbar": {
             "outlinewidth": 0,
             "ticks": ""
            },
            "type": "contourcarpet"
           }
          ],
          "heatmap": [
           {
            "colorbar": {
             "outlinewidth": 0,
             "ticks": ""
            },
            "colorscale": [
             [
              0,
              "#0d0887"
             ],
             [
              0.1111111111111111,
              "#46039f"
             ],
             [
              0.2222222222222222,
              "#7201a8"
             ],
             [
              0.3333333333333333,
              "#9c179e"
             ],
             [
              0.4444444444444444,
              "#bd3786"
             ],
             [
              0.5555555555555556,
              "#d8576b"
             ],
             [
              0.6666666666666666,
              "#ed7953"
             ],
             [
              0.7777777777777778,
              "#fb9f3a"
             ],
             [
              0.8888888888888888,
              "#fdca26"
             ],
             [
              1,
              "#f0f921"
             ]
            ],
            "type": "heatmap"
           }
          ],
          "heatmapgl": [
           {
            "colorbar": {
             "outlinewidth": 0,
             "ticks": ""
            },
            "colorscale": [
             [
              0,
              "#0d0887"
             ],
             [
              0.1111111111111111,
              "#46039f"
             ],
             [
              0.2222222222222222,
              "#7201a8"
             ],
             [
              0.3333333333333333,
              "#9c179e"
             ],
             [
              0.4444444444444444,
              "#bd3786"
             ],
             [
              0.5555555555555556,
              "#d8576b"
             ],
             [
              0.6666666666666666,
              "#ed7953"
             ],
             [
              0.7777777777777778,
              "#fb9f3a"
             ],
             [
              0.8888888888888888,
              "#fdca26"
             ],
             [
              1,
              "#f0f921"
             ]
            ],
            "type": "heatmapgl"
           }
          ],
          "histogram": [
           {
            "marker": {
             "pattern": {
              "fillmode": "overlay",
              "size": 10,
              "solidity": 0.2
             }
            },
            "type": "histogram"
           }
          ],
          "histogram2d": [
           {
            "colorbar": {
             "outlinewidth": 0,
             "ticks": ""
            },
            "colorscale": [
             [
              0,
              "#0d0887"
             ],
             [
              0.1111111111111111,
              "#46039f"
             ],
             [
              0.2222222222222222,
              "#7201a8"
             ],
             [
              0.3333333333333333,
              "#9c179e"
             ],
             [
              0.4444444444444444,
              "#bd3786"
             ],
             [
              0.5555555555555556,
              "#d8576b"
             ],
             [
              0.6666666666666666,
              "#ed7953"
             ],
             [
              0.7777777777777778,
              "#fb9f3a"
             ],
             [
              0.8888888888888888,
              "#fdca26"
             ],
             [
              1,
              "#f0f921"
             ]
            ],
            "type": "histogram2d"
           }
          ],
          "histogram2dcontour": [
           {
            "colorbar": {
             "outlinewidth": 0,
             "ticks": ""
            },
            "colorscale": [
             [
              0,
              "#0d0887"
             ],
             [
              0.1111111111111111,
              "#46039f"
             ],
             [
              0.2222222222222222,
              "#7201a8"
             ],
             [
              0.3333333333333333,
              "#9c179e"
             ],
             [
              0.4444444444444444,
              "#bd3786"
             ],
             [
              0.5555555555555556,
              "#d8576b"
             ],
             [
              0.6666666666666666,
              "#ed7953"
             ],
             [
              0.7777777777777778,
              "#fb9f3a"
             ],
             [
              0.8888888888888888,
              "#fdca26"
             ],
             [
              1,
              "#f0f921"
             ]
            ],
            "type": "histogram2dcontour"
           }
          ],
          "mesh3d": [
           {
            "colorbar": {
             "outlinewidth": 0,
             "ticks": ""
            },
            "type": "mesh3d"
           }
          ],
          "parcoords": [
           {
            "line": {
             "colorbar": {
              "outlinewidth": 0,
              "ticks": ""
             }
            },
            "type": "parcoords"
           }
          ],
          "pie": [
           {
            "automargin": true,
            "type": "pie"
           }
          ],
          "scatter": [
           {
            "fillpattern": {
             "fillmode": "overlay",
             "size": 10,
             "solidity": 0.2
            },
            "type": "scatter"
           }
          ],
          "scatter3d": [
           {
            "line": {
             "colorbar": {
              "outlinewidth": 0,
              "ticks": ""
             }
            },
            "marker": {
             "colorbar": {
              "outlinewidth": 0,
              "ticks": ""
             }
            },
            "type": "scatter3d"
           }
          ],
          "scattercarpet": [
           {
            "marker": {
             "colorbar": {
              "outlinewidth": 0,
              "ticks": ""
             }
            },
            "type": "scattercarpet"
           }
          ],
          "scattergeo": [
           {
            "marker": {
             "colorbar": {
              "outlinewidth": 0,
              "ticks": ""
             }
            },
            "type": "scattergeo"
           }
          ],
          "scattergl": [
           {
            "marker": {
             "colorbar": {
              "outlinewidth": 0,
              "ticks": ""
             }
            },
            "type": "scattergl"
           }
          ],
          "scattermapbox": [
           {
            "marker": {
             "colorbar": {
              "outlinewidth": 0,
              "ticks": ""
             }
            },
            "type": "scattermapbox"
           }
          ],
          "scatterpolar": [
           {
            "marker": {
             "colorbar": {
              "outlinewidth": 0,
              "ticks": ""
             }
            },
            "type": "scatterpolar"
           }
          ],
          "scatterpolargl": [
           {
            "marker": {
             "colorbar": {
              "outlinewidth": 0,
              "ticks": ""
             }
            },
            "type": "scatterpolargl"
           }
          ],
          "scatterternary": [
           {
            "marker": {
             "colorbar": {
              "outlinewidth": 0,
              "ticks": ""
             }
            },
            "type": "scatterternary"
           }
          ],
          "surface": [
           {
            "colorbar": {
             "outlinewidth": 0,
             "ticks": ""
            },
            "colorscale": [
             [
              0,
              "#0d0887"
             ],
             [
              0.1111111111111111,
              "#46039f"
             ],
             [
              0.2222222222222222,
              "#7201a8"
             ],
             [
              0.3333333333333333,
              "#9c179e"
             ],
             [
              0.4444444444444444,
              "#bd3786"
             ],
             [
              0.5555555555555556,
              "#d8576b"
             ],
             [
              0.6666666666666666,
              "#ed7953"
             ],
             [
              0.7777777777777778,
              "#fb9f3a"
             ],
             [
              0.8888888888888888,
              "#fdca26"
             ],
             [
              1,
              "#f0f921"
             ]
            ],
            "type": "surface"
           }
          ],
          "table": [
           {
            "cells": {
             "fill": {
              "color": "#EBF0F8"
             },
             "line": {
              "color": "white"
             }
            },
            "header": {
             "fill": {
              "color": "#C8D4E3"
             },
             "line": {
              "color": "white"
             }
            },
            "type": "table"
           }
          ]
         },
         "layout": {
          "annotationdefaults": {
           "arrowcolor": "#2a3f5f",
           "arrowhead": 0,
           "arrowwidth": 1
          },
          "autotypenumbers": "strict",
          "coloraxis": {
           "colorbar": {
            "outlinewidth": 0,
            "ticks": ""
           }
          },
          "colorscale": {
           "diverging": [
            [
             0,
             "#8e0152"
            ],
            [
             0.1,
             "#c51b7d"
            ],
            [
             0.2,
             "#de77ae"
            ],
            [
             0.3,
             "#f1b6da"
            ],
            [
             0.4,
             "#fde0ef"
            ],
            [
             0.5,
             "#f7f7f7"
            ],
            [
             0.6,
             "#e6f5d0"
            ],
            [
             0.7,
             "#b8e186"
            ],
            [
             0.8,
             "#7fbc41"
            ],
            [
             0.9,
             "#4d9221"
            ],
            [
             1,
             "#276419"
            ]
           ],
           "sequential": [
            [
             0,
             "#0d0887"
            ],
            [
             0.1111111111111111,
             "#46039f"
            ],
            [
             0.2222222222222222,
             "#7201a8"
            ],
            [
             0.3333333333333333,
             "#9c179e"
            ],
            [
             0.4444444444444444,
             "#bd3786"
            ],
            [
             0.5555555555555556,
             "#d8576b"
            ],
            [
             0.6666666666666666,
             "#ed7953"
            ],
            [
             0.7777777777777778,
             "#fb9f3a"
            ],
            [
             0.8888888888888888,
             "#fdca26"
            ],
            [
             1,
             "#f0f921"
            ]
           ],
           "sequentialminus": [
            [
             0,
             "#0d0887"
            ],
            [
             0.1111111111111111,
             "#46039f"
            ],
            [
             0.2222222222222222,
             "#7201a8"
            ],
            [
             0.3333333333333333,
             "#9c179e"
            ],
            [
             0.4444444444444444,
             "#bd3786"
            ],
            [
             0.5555555555555556,
             "#d8576b"
            ],
            [
             0.6666666666666666,
             "#ed7953"
            ],
            [
             0.7777777777777778,
             "#fb9f3a"
            ],
            [
             0.8888888888888888,
             "#fdca26"
            ],
            [
             1,
             "#f0f921"
            ]
           ]
          },
          "colorway": [
           "#636efa",
           "#EF553B",
           "#00cc96",
           "#ab63fa",
           "#FFA15A",
           "#19d3f3",
           "#FF6692",
           "#B6E880",
           "#FF97FF",
           "#FECB52"
          ],
          "font": {
           "color": "#2a3f5f"
          },
          "geo": {
           "bgcolor": "white",
           "lakecolor": "white",
           "landcolor": "#E5ECF6",
           "showlakes": true,
           "showland": true,
           "subunitcolor": "white"
          },
          "hoverlabel": {
           "align": "left"
          },
          "hovermode": "closest",
          "mapbox": {
           "style": "light"
          },
          "paper_bgcolor": "white",
          "plot_bgcolor": "#E5ECF6",
          "polar": {
           "angularaxis": {
            "gridcolor": "white",
            "linecolor": "white",
            "ticks": ""
           },
           "bgcolor": "#E5ECF6",
           "radialaxis": {
            "gridcolor": "white",
            "linecolor": "white",
            "ticks": ""
           }
          },
          "scene": {
           "xaxis": {
            "backgroundcolor": "#E5ECF6",
            "gridcolor": "white",
            "gridwidth": 2,
            "linecolor": "white",
            "showbackground": true,
            "ticks": "",
            "zerolinecolor": "white"
           },
           "yaxis": {
            "backgroundcolor": "#E5ECF6",
            "gridcolor": "white",
            "gridwidth": 2,
            "linecolor": "white",
            "showbackground": true,
            "ticks": "",
            "zerolinecolor": "white"
           },
           "zaxis": {
            "backgroundcolor": "#E5ECF6",
            "gridcolor": "white",
            "gridwidth": 2,
            "linecolor": "white",
            "showbackground": true,
            "ticks": "",
            "zerolinecolor": "white"
           }
          },
          "shapedefaults": {
           "line": {
            "color": "#2a3f5f"
           }
          },
          "ternary": {
           "aaxis": {
            "gridcolor": "white",
            "linecolor": "white",
            "ticks": ""
           },
           "baxis": {
            "gridcolor": "white",
            "linecolor": "white",
            "ticks": ""
           },
           "bgcolor": "#E5ECF6",
           "caxis": {
            "gridcolor": "white",
            "linecolor": "white",
            "ticks": ""
           }
          },
          "title": {
           "x": 0.05
          },
          "xaxis": {
           "automargin": true,
           "gridcolor": "white",
           "linecolor": "white",
           "ticks": "",
           "title": {
            "standoff": 15
           },
           "zerolinecolor": "white",
           "zerolinewidth": 2
          },
          "yaxis": {
           "automargin": true,
           "gridcolor": "white",
           "linecolor": "white",
           "ticks": "",
           "title": {
            "standoff": 15
           },
           "zerolinecolor": "white",
           "zerolinewidth": 2
          }
         }
        },
        "title": {
         "text": "USD_JPY_ma_8_32"
        },
        "width": 1000,
        "xaxis": {
         "linecolor": "#3a4a54",
         "linewidth": 1,
         "showgrid": false,
         "zeroline": false
        },
        "yaxis": {
         "linecolor": "#3a4a54",
         "linewidth": 1,
         "showgrid": false,
         "zeroline": false
        }
       }
      }
     },
     "metadata": {},
     "output_type": "display_data"
    },
    {
     "data": {
      "application/vnd.plotly.v1+json": {
       "config": {
        "plotlyServerURL": "https://plot.ly"
       },
       "data": [
        {
         "line": {
          "color": "#3d825f",
          "shape": "spline",
          "width": 2
         },
         "mode": "lines",
         "name": "CHF_JPY_ma_8_32",
         "type": "scatter",
         "x": [
          "2022-01-10T10:00:00+00:00",
          "2022-01-11T15:00:00+00:00",
          "2022-01-13T20:00:00+00:00",
          "2022-01-17T03:00:00+00:00",
          "2022-01-18T14:00:00+00:00",
          "2022-01-20T05:00:00+00:00",
          "2022-01-20T13:00:00+00:00",
          "2022-01-21T12:00:00+00:00",
          "2022-01-24T08:00:00+00:00",
          "2022-01-26T10:00:00+00:00",
          "2022-01-26T12:00:00+00:00",
          "2022-01-26T13:00:00+00:00",
          "2022-01-27T02:00:00+00:00",
          "2022-01-28T04:00:00+00:00",
          "2022-01-28T17:00:00+00:00",
          "2022-01-31T06:00:00+00:00",
          "2022-01-31T10:00:00+00:00",
          "2022-01-31T19:00:00+00:00",
          "2022-02-02T13:00:00+00:00",
          "2022-02-02T21:00:00+00:00",
          "2022-02-03T03:00:00+00:00",
          "2022-02-03T12:00:00+00:00",
          "2022-02-04T12:00:00+00:00",
          "2022-02-07T18:00:00+00:00",
          "2022-02-09T05:00:00+00:00",
          "2022-02-09T10:00:00+00:00",
          "2022-02-11T06:00:00+00:00",
          "2022-02-14T19:00:00+00:00",
          "2022-02-15T23:00:00+00:00",
          "2022-02-16T00:00:00+00:00",
          "2022-02-17T07:00:00+00:00",
          "2022-02-18T07:00:00+00:00",
          "2022-02-18T20:00:00+00:00",
          "2022-02-21T09:00:00+00:00",
          "2022-02-22T08:00:00+00:00",
          "2022-02-23T11:00:00+00:00",
          "2022-02-24T05:00:00+00:00",
          "2022-02-25T01:00:00+00:00",
          "2022-02-25T13:00:00+00:00",
          "2022-02-25T21:00:00+00:00",
          "2022-02-27T22:00:00+00:00",
          "2022-02-27T23:00:00+00:00",
          "2022-02-28T01:00:00+00:00",
          "2022-02-28T08:00:00+00:00",
          "2022-03-01T12:00:00+00:00",
          "2022-03-02T08:00:00+00:00",
          "2022-03-04T05:00:00+00:00",
          "2022-03-08T06:00:00+00:00",
          "2022-03-08T16:00:00+00:00",
          "2022-03-09T05:00:00+00:00",
          "2022-03-10T17:00:00+00:00",
          "2022-03-11T04:00:00+00:00",
          "2022-03-15T07:00:00+00:00",
          "2022-03-16T04:00:00+00:00",
          "2022-03-23T13:00:00+00:00",
          "2022-03-23T17:00:00+00:00",
          "2022-03-25T18:00:00+00:00",
          "2022-03-28T02:00:00+00:00",
          "2022-03-29T08:00:00+00:00",
          "2022-03-30T15:00:00+00:00",
          "2022-03-31T11:00:00+00:00",
          "2022-04-01T02:00:00+00:00",
          "2022-04-04T02:00:00+00:00",
          "2022-04-04T16:00:00+00:00",
          "2022-04-05T03:00:00+00:00",
          "2022-04-05T10:00:00+00:00",
          "2022-04-06T11:00:00+00:00",
          "2022-04-07T12:00:00+00:00",
          "2022-04-08T02:00:00+00:00",
          "2022-04-08T11:00:00+00:00",
          "2022-04-12T14:00:00+00:00",
          "2022-04-13T05:00:00+00:00",
          "2022-04-13T17:00:00+00:00",
          "2022-04-15T06:00:00+00:00",
          "2022-04-18T12:00:00+00:00",
          "2022-04-18T13:00:00+00:00",
          "2022-04-20T06:00:00+00:00",
          "2022-04-21T07:00:00+00:00",
          "2022-04-21T18:00:00+00:00",
          "2022-04-27T21:00:00+00:00",
          "2022-04-29T09:00:00+00:00",
          "2022-05-05T02:00:00+00:00",
          "2022-05-05T13:00:00+00:00",
          "2022-05-06T10:00:00+00:00",
          "2022-05-06T13:00:00+00:00",
          "2022-05-06T14:00:00+00:00",
          "2022-05-06T16:00:00+00:00",
          "2022-05-11T09:00:00+00:00",
          "2022-05-11T20:00:00+00:00",
          "2022-05-13T11:00:00+00:00",
          "2022-05-16T06:00:00+00:00",
          "2022-05-16T22:00:00+00:00",
          "2022-05-18T08:00:00+00:00",
          "2022-05-19T02:00:00+00:00",
          "2022-05-20T17:00:00+00:00",
          "2022-05-23T09:00:00+00:00",
          "2022-05-24T12:00:00+00:00",
          "2022-05-25T14:00:00+00:00",
          "2022-05-26T11:00:00+00:00",
          "2022-05-26T14:00:00+00:00",
          "2022-06-06T17:00:00+00:00",
          "2022-06-07T00:00:00+00:00",
          "2022-06-07T15:00:00+00:00",
          "2022-06-07T16:00:00+00:00",
          "2022-06-09T07:00:00+00:00",
          "2022-06-09T19:00:00+00:00",
          "2022-06-10T00:00:00+00:00",
          "2022-06-14T09:00:00+00:00",
          "2022-06-14T17:00:00+00:00",
          "2022-06-14T23:00:00+00:00",
          "2022-06-15T07:00:00+00:00",
          "2022-06-16T03:00:00+00:00",
          "2022-06-23T06:00:00+00:00",
          "2022-06-24T10:00:00+00:00",
          "2022-06-30T09:00:00+00:00",
          "2022-07-04T09:00:00+00:00",
          "2022-07-05T12:00:00+00:00",
          "2022-07-06T21:00:00+00:00",
          "2022-07-07T14:00:00+00:00",
          "2022-07-11T01:00:00+00:00",
          "2022-07-12T01:00:00+00:00",
          "2022-07-13T03:00:00+00:00",
          "2022-07-18T12:00:00+00:00",
          "2022-07-19T09:00:00+00:00",
          "2022-07-20T14:00:00+00:00",
          "2022-07-21T04:00:00+00:00",
          "2022-07-21T19:00:00+00:00",
          "2022-07-25T15:00:00+00:00",
          "2022-07-26T13:00:00+00:00",
          "2022-07-26T14:00:00+00:00",
          "2022-07-28T00:00:00+00:00",
          "2022-08-02T19:00:00+00:00",
          "2022-08-04T17:00:00+00:00",
          "2022-08-05T12:00:00+00:00",
          "2022-08-10T14:00:00+00:00",
          "2022-08-11T18:00:00+00:00",
          "2022-08-15T03:00:00+00:00",
          "2022-08-16T09:00:00+00:00",
          "2022-08-18T12:00:00+00:00",
          "2022-08-18T21:00:00+00:00",
          "2022-08-22T13:00:00+00:00",
          "2022-08-24T21:00:00+00:00",
          "2022-08-25T12:00:00+00:00"
         ],
         "y": [
          62.5,
          107.69999999999982,
          118.80000000000024,
          112.5,
          116.19999999999919,
          80.29999999999973,
          83.70000000000033,
          75.80000000000098,
          126.90000000000197,
          125.70000000000192,
          109.2000000000013,
          84.30000000000035,
          72.2999999999999,
          40.69999999999965,
          21.79999999999893,
          5.299999999998306,
          -44.700000000001694,
          -33.70000000000175,
          -47.500000000002274,
          -51.70000000000243,
          -58.70000000000317,
          -55.10000000000446,
          -51.50000000000574,
          -20.800000000006946,
          -40.300000000007685,
          -44.500000000007844,
          -28.500000000008185,
          -19.30000000000831,
          -21.500000000007446,
          -13.900000000006685,
          -11.100000000006105,
          -21.100000000005537,
          -44.20000000000499,
          -42.90000000000447,
          -41.70000000000442,
          -83.10000000000457,
          -97.10000000000463,
          -119.30000000000405,
          -136.3000000000028,
          -156.50000000000261,
          -166.60000000000252,
          -175.30000000000143,
          -205.30000000000115,
          -186.9000000000014,
          -206.40000000000214,
          -175.00000000000284,
          -88.3000000000024,
          -130.9000000000026,
          -169.60000000000264,
          -162.10000000000235,
          -213.7000000000029,
          -170.1000000000036,
          -171.90000000000367,
          170.49999999999557,
          83.59999999999559,
          199.0999999999957,
          153.69999999999493,
          192.79999999999404,
          190.29999999999347,
          131.29999999999313,
          17.199999999991178,
          -5.700000000010164,
          -13.700000000011414,
          -29.900000000012028,
          -70.70000000001073,
          -69.90000000000975,
          -78.2000000000096,
          -103.9000000000101,
          -130.3000000000111,
          52.09999999998729,
          42.099999999985016,
          9.29999999998472,
          16.59999999998547,
          -7.400000000015439,
          -17.300000000017235,
          87.49999999998295,
          77.89999999998258,
          -1.700000000019486,
          184.69999999998095,
          364.4999999999811,
          536.499999999981,
          505.4999999999808,
          505.4999999999808,
          445.0999999999823,
          393.2999999999822,
          377.29999999998256,
          468.59999999998365,
          415.49999999998306,
          586.2999999999829,
          532.2999999999837,
          506.79999999998415,
          584.8999999999847,
          498.79999999998574,
          560.2999999999867,
          469.09999999998604,
          476.4999999999844,
          449.09999999998433,
          443.7999999999846,
          412.89999999998486,
          730.599999999987,
          696.1999999999875,
          705.4999999999865,
          699.6999999999872,
          706.3999999999879,
          628.9999999999878,
          604.7999999999888,
          776.4999999999901,
          741.0999999999916,
          681.7999999999927,
          630.9999999999917,
          617.2999999999917,
          1255.099999999993,
          1278.699999999992,
          1384.1999999999898,
          1481.9999999999877,
          1423.1999999999855,
          1481.2999999999843,
          1451.699999999985,
          1424.499999999986,
          1369.9999999999873,
          1350.2999999999897,
          1532.699999999991,
          1476.2999999999915,
          1503.6999999999916,
          1486.69999999999,
          1453.699999999989,
          1504.3999999999894,
          1498.8999999999915,
          1464.5999999999926,
          1462.4999999999911,
          1751.6999999999907,
          1783.4999999999918,
          1720.399999999992,
          1777.0999999999926,
          1717.099999999993,
          1741.6999999999912,
          1759.89999999999,
          1824.7999999999902,
          1804.899999999989,
          1901.8999999999887,
          2020.59999999999,
          2008.499999999989,
          1983.1999999999875
         ]
        }
       ],
       "layout": {
        "font": {
         "color": "#3d825f",
         "size": 10
        },
        "height": 400,
        "margin": {
         "b": 10,
         "l": 15,
         "r": 15
        },
        "paper_bgcolor": "#1e1e1e",
        "plot_bgcolor": "#1e1e1e",
        "template": {
         "data": {
          "bar": [
           {
            "error_x": {
             "color": "#2a3f5f"
            },
            "error_y": {
             "color": "#2a3f5f"
            },
            "marker": {
             "line": {
              "color": "#E5ECF6",
              "width": 0.5
             },
             "pattern": {
              "fillmode": "overlay",
              "size": 10,
              "solidity": 0.2
             }
            },
            "type": "bar"
           }
          ],
          "barpolar": [
           {
            "marker": {
             "line": {
              "color": "#E5ECF6",
              "width": 0.5
             },
             "pattern": {
              "fillmode": "overlay",
              "size": 10,
              "solidity": 0.2
             }
            },
            "type": "barpolar"
           }
          ],
          "carpet": [
           {
            "aaxis": {
             "endlinecolor": "#2a3f5f",
             "gridcolor": "white",
             "linecolor": "white",
             "minorgridcolor": "white",
             "startlinecolor": "#2a3f5f"
            },
            "baxis": {
             "endlinecolor": "#2a3f5f",
             "gridcolor": "white",
             "linecolor": "white",
             "minorgridcolor": "white",
             "startlinecolor": "#2a3f5f"
            },
            "type": "carpet"
           }
          ],
          "choropleth": [
           {
            "colorbar": {
             "outlinewidth": 0,
             "ticks": ""
            },
            "type": "choropleth"
           }
          ],
          "contour": [
           {
            "colorbar": {
             "outlinewidth": 0,
             "ticks": ""
            },
            "colorscale": [
             [
              0,
              "#0d0887"
             ],
             [
              0.1111111111111111,
              "#46039f"
             ],
             [
              0.2222222222222222,
              "#7201a8"
             ],
             [
              0.3333333333333333,
              "#9c179e"
             ],
             [
              0.4444444444444444,
              "#bd3786"
             ],
             [
              0.5555555555555556,
              "#d8576b"
             ],
             [
              0.6666666666666666,
              "#ed7953"
             ],
             [
              0.7777777777777778,
              "#fb9f3a"
             ],
             [
              0.8888888888888888,
              "#fdca26"
             ],
             [
              1,
              "#f0f921"
             ]
            ],
            "type": "contour"
           }
          ],
          "contourcarpet": [
           {
            "colorbar": {
             "outlinewidth": 0,
             "ticks": ""
            },
            "type": "contourcarpet"
           }
          ],
          "heatmap": [
           {
            "colorbar": {
             "outlinewidth": 0,
             "ticks": ""
            },
            "colorscale": [
             [
              0,
              "#0d0887"
             ],
             [
              0.1111111111111111,
              "#46039f"
             ],
             [
              0.2222222222222222,
              "#7201a8"
             ],
             [
              0.3333333333333333,
              "#9c179e"
             ],
             [
              0.4444444444444444,
              "#bd3786"
             ],
             [
              0.5555555555555556,
              "#d8576b"
             ],
             [
              0.6666666666666666,
              "#ed7953"
             ],
             [
              0.7777777777777778,
              "#fb9f3a"
             ],
             [
              0.8888888888888888,
              "#fdca26"
             ],
             [
              1,
              "#f0f921"
             ]
            ],
            "type": "heatmap"
           }
          ],
          "heatmapgl": [
           {
            "colorbar": {
             "outlinewidth": 0,
             "ticks": ""
            },
            "colorscale": [
             [
              0,
              "#0d0887"
             ],
             [
              0.1111111111111111,
              "#46039f"
             ],
             [
              0.2222222222222222,
              "#7201a8"
             ],
             [
              0.3333333333333333,
              "#9c179e"
             ],
             [
              0.4444444444444444,
              "#bd3786"
             ],
             [
              0.5555555555555556,
              "#d8576b"
             ],
             [
              0.6666666666666666,
              "#ed7953"
             ],
             [
              0.7777777777777778,
              "#fb9f3a"
             ],
             [
              0.8888888888888888,
              "#fdca26"
             ],
             [
              1,
              "#f0f921"
             ]
            ],
            "type": "heatmapgl"
           }
          ],
          "histogram": [
           {
            "marker": {
             "pattern": {
              "fillmode": "overlay",
              "size": 10,
              "solidity": 0.2
             }
            },
            "type": "histogram"
           }
          ],
          "histogram2d": [
           {
            "colorbar": {
             "outlinewidth": 0,
             "ticks": ""
            },
            "colorscale": [
             [
              0,
              "#0d0887"
             ],
             [
              0.1111111111111111,
              "#46039f"
             ],
             [
              0.2222222222222222,
              "#7201a8"
             ],
             [
              0.3333333333333333,
              "#9c179e"
             ],
             [
              0.4444444444444444,
              "#bd3786"
             ],
             [
              0.5555555555555556,
              "#d8576b"
             ],
             [
              0.6666666666666666,
              "#ed7953"
             ],
             [
              0.7777777777777778,
              "#fb9f3a"
             ],
             [
              0.8888888888888888,
              "#fdca26"
             ],
             [
              1,
              "#f0f921"
             ]
            ],
            "type": "histogram2d"
           }
          ],
          "histogram2dcontour": [
           {
            "colorbar": {
             "outlinewidth": 0,
             "ticks": ""
            },
            "colorscale": [
             [
              0,
              "#0d0887"
             ],
             [
              0.1111111111111111,
              "#46039f"
             ],
             [
              0.2222222222222222,
              "#7201a8"
             ],
             [
              0.3333333333333333,
              "#9c179e"
             ],
             [
              0.4444444444444444,
              "#bd3786"
             ],
             [
              0.5555555555555556,
              "#d8576b"
             ],
             [
              0.6666666666666666,
              "#ed7953"
             ],
             [
              0.7777777777777778,
              "#fb9f3a"
             ],
             [
              0.8888888888888888,
              "#fdca26"
             ],
             [
              1,
              "#f0f921"
             ]
            ],
            "type": "histogram2dcontour"
           }
          ],
          "mesh3d": [
           {
            "colorbar": {
             "outlinewidth": 0,
             "ticks": ""
            },
            "type": "mesh3d"
           }
          ],
          "parcoords": [
           {
            "line": {
             "colorbar": {
              "outlinewidth": 0,
              "ticks": ""
             }
            },
            "type": "parcoords"
           }
          ],
          "pie": [
           {
            "automargin": true,
            "type": "pie"
           }
          ],
          "scatter": [
           {
            "fillpattern": {
             "fillmode": "overlay",
             "size": 10,
             "solidity": 0.2
            },
            "type": "scatter"
           }
          ],
          "scatter3d": [
           {
            "line": {
             "colorbar": {
              "outlinewidth": 0,
              "ticks": ""
             }
            },
            "marker": {
             "colorbar": {
              "outlinewidth": 0,
              "ticks": ""
             }
            },
            "type": "scatter3d"
           }
          ],
          "scattercarpet": [
           {
            "marker": {
             "colorbar": {
              "outlinewidth": 0,
              "ticks": ""
             }
            },
            "type": "scattercarpet"
           }
          ],
          "scattergeo": [
           {
            "marker": {
             "colorbar": {
              "outlinewidth": 0,
              "ticks": ""
             }
            },
            "type": "scattergeo"
           }
          ],
          "scattergl": [
           {
            "marker": {
             "colorbar": {
              "outlinewidth": 0,
              "ticks": ""
             }
            },
            "type": "scattergl"
           }
          ],
          "scattermapbox": [
           {
            "marker": {
             "colorbar": {
              "outlinewidth": 0,
              "ticks": ""
             }
            },
            "type": "scattermapbox"
           }
          ],
          "scatterpolar": [
           {
            "marker": {
             "colorbar": {
              "outlinewidth": 0,
              "ticks": ""
             }
            },
            "type": "scatterpolar"
           }
          ],
          "scatterpolargl": [
           {
            "marker": {
             "colorbar": {
              "outlinewidth": 0,
              "ticks": ""
             }
            },
            "type": "scatterpolargl"
           }
          ],
          "scatterternary": [
           {
            "marker": {
             "colorbar": {
              "outlinewidth": 0,
              "ticks": ""
             }
            },
            "type": "scatterternary"
           }
          ],
          "surface": [
           {
            "colorbar": {
             "outlinewidth": 0,
             "ticks": ""
            },
            "colorscale": [
             [
              0,
              "#0d0887"
             ],
             [
              0.1111111111111111,
              "#46039f"
             ],
             [
              0.2222222222222222,
              "#7201a8"
             ],
             [
              0.3333333333333333,
              "#9c179e"
             ],
             [
              0.4444444444444444,
              "#bd3786"
             ],
             [
              0.5555555555555556,
              "#d8576b"
             ],
             [
              0.6666666666666666,
              "#ed7953"
             ],
             [
              0.7777777777777778,
              "#fb9f3a"
             ],
             [
              0.8888888888888888,
              "#fdca26"
             ],
             [
              1,
              "#f0f921"
             ]
            ],
            "type": "surface"
           }
          ],
          "table": [
           {
            "cells": {
             "fill": {
              "color": "#EBF0F8"
             },
             "line": {
              "color": "white"
             }
            },
            "header": {
             "fill": {
              "color": "#C8D4E3"
             },
             "line": {
              "color": "white"
             }
            },
            "type": "table"
           }
          ]
         },
         "layout": {
          "annotationdefaults": {
           "arrowcolor": "#2a3f5f",
           "arrowhead": 0,
           "arrowwidth": 1
          },
          "autotypenumbers": "strict",
          "coloraxis": {
           "colorbar": {
            "outlinewidth": 0,
            "ticks": ""
           }
          },
          "colorscale": {
           "diverging": [
            [
             0,
             "#8e0152"
            ],
            [
             0.1,
             "#c51b7d"
            ],
            [
             0.2,
             "#de77ae"
            ],
            [
             0.3,
             "#f1b6da"
            ],
            [
             0.4,
             "#fde0ef"
            ],
            [
             0.5,
             "#f7f7f7"
            ],
            [
             0.6,
             "#e6f5d0"
            ],
            [
             0.7,
             "#b8e186"
            ],
            [
             0.8,
             "#7fbc41"
            ],
            [
             0.9,
             "#4d9221"
            ],
            [
             1,
             "#276419"
            ]
           ],
           "sequential": [
            [
             0,
             "#0d0887"
            ],
            [
             0.1111111111111111,
             "#46039f"
            ],
            [
             0.2222222222222222,
             "#7201a8"
            ],
            [
             0.3333333333333333,
             "#9c179e"
            ],
            [
             0.4444444444444444,
             "#bd3786"
            ],
            [
             0.5555555555555556,
             "#d8576b"
            ],
            [
             0.6666666666666666,
             "#ed7953"
            ],
            [
             0.7777777777777778,
             "#fb9f3a"
            ],
            [
             0.8888888888888888,
             "#fdca26"
            ],
            [
             1,
             "#f0f921"
            ]
           ],
           "sequentialminus": [
            [
             0,
             "#0d0887"
            ],
            [
             0.1111111111111111,
             "#46039f"
            ],
            [
             0.2222222222222222,
             "#7201a8"
            ],
            [
             0.3333333333333333,
             "#9c179e"
            ],
            [
             0.4444444444444444,
             "#bd3786"
            ],
            [
             0.5555555555555556,
             "#d8576b"
            ],
            [
             0.6666666666666666,
             "#ed7953"
            ],
            [
             0.7777777777777778,
             "#fb9f3a"
            ],
            [
             0.8888888888888888,
             "#fdca26"
            ],
            [
             1,
             "#f0f921"
            ]
           ]
          },
          "colorway": [
           "#636efa",
           "#EF553B",
           "#00cc96",
           "#ab63fa",
           "#FFA15A",
           "#19d3f3",
           "#FF6692",
           "#B6E880",
           "#FF97FF",
           "#FECB52"
          ],
          "font": {
           "color": "#2a3f5f"
          },
          "geo": {
           "bgcolor": "white",
           "lakecolor": "white",
           "landcolor": "#E5ECF6",
           "showlakes": true,
           "showland": true,
           "subunitcolor": "white"
          },
          "hoverlabel": {
           "align": "left"
          },
          "hovermode": "closest",
          "mapbox": {
           "style": "light"
          },
          "paper_bgcolor": "white",
          "plot_bgcolor": "#E5ECF6",
          "polar": {
           "angularaxis": {
            "gridcolor": "white",
            "linecolor": "white",
            "ticks": ""
           },
           "bgcolor": "#E5ECF6",
           "radialaxis": {
            "gridcolor": "white",
            "linecolor": "white",
            "ticks": ""
           }
          },
          "scene": {
           "xaxis": {
            "backgroundcolor": "#E5ECF6",
            "gridcolor": "white",
            "gridwidth": 2,
            "linecolor": "white",
            "showbackground": true,
            "ticks": "",
            "zerolinecolor": "white"
           },
           "yaxis": {
            "backgroundcolor": "#E5ECF6",
            "gridcolor": "white",
            "gridwidth": 2,
            "linecolor": "white",
            "showbackground": true,
            "ticks": "",
            "zerolinecolor": "white"
           },
           "zaxis": {
            "backgroundcolor": "#E5ECF6",
            "gridcolor": "white",
            "gridwidth": 2,
            "linecolor": "white",
            "showbackground": true,
            "ticks": "",
            "zerolinecolor": "white"
           }
          },
          "shapedefaults": {
           "line": {
            "color": "#2a3f5f"
           }
          },
          "ternary": {
           "aaxis": {
            "gridcolor": "white",
            "linecolor": "white",
            "ticks": ""
           },
           "baxis": {
            "gridcolor": "white",
            "linecolor": "white",
            "ticks": ""
           },
           "bgcolor": "#E5ECF6",
           "caxis": {
            "gridcolor": "white",
            "linecolor": "white",
            "ticks": ""
           }
          },
          "title": {
           "x": 0.05
          },
          "xaxis": {
           "automargin": true,
           "gridcolor": "white",
           "linecolor": "white",
           "ticks": "",
           "title": {
            "standoff": 15
           },
           "zerolinecolor": "white",
           "zerolinewidth": 2
          },
          "yaxis": {
           "automargin": true,
           "gridcolor": "white",
           "linecolor": "white",
           "ticks": "",
           "title": {
            "standoff": 15
           },
           "zerolinecolor": "white",
           "zerolinewidth": 2
          }
         }
        },
        "title": {
         "text": "CHF_JPY_ma_8_32"
        },
        "width": 1000,
        "xaxis": {
         "linecolor": "#3a4a54",
         "linewidth": 1,
         "showgrid": false,
         "zeroline": false
        },
        "yaxis": {
         "linecolor": "#3a4a54",
         "linewidth": 1,
         "showgrid": false,
         "zeroline": false
        }
       }
      }
     },
     "metadata": {},
     "output_type": "display_data"
    },
    {
     "data": {
      "application/vnd.plotly.v1+json": {
       "config": {
        "plotlyServerURL": "https://plot.ly"
       },
       "data": [
        {
         "line": {
          "color": "#3d825f",
          "shape": "spline",
          "width": 2
         },
         "mode": "lines",
         "name": "EUR_JPY_ma_8_32",
         "type": "scatter",
         "x": [
          "2022-01-10T11:00:00+00:00",
          "2022-01-11T09:00:00+00:00",
          "2022-01-12T22:00:00+00:00",
          "2022-01-13T09:00:00+00:00",
          "2022-01-13T16:00:00+00:00",
          "2022-01-17T03:00:00+00:00",
          "2022-01-18T12:00:00+00:00",
          "2022-01-20T04:00:00+00:00",
          "2022-01-20T13:00:00+00:00",
          "2022-01-24T02:00:00+00:00",
          "2022-01-24T07:00:00+00:00",
          "2022-01-24T22:00:00+00:00",
          "2022-01-25T06:00:00+00:00",
          "2022-01-26T04:00:00+00:00",
          "2022-01-27T03:00:00+00:00",
          "2022-01-28T05:00:00+00:00",
          "2022-01-28T18:00:00+00:00",
          "2022-01-31T03:00:00+00:00",
          "2022-02-01T16:00:00+00:00",
          "2022-02-02T01:00:00+00:00",
          "2022-02-03T04:00:00+00:00",
          "2022-02-03T07:00:00+00:00",
          "2022-02-07T08:00:00+00:00",
          "2022-02-08T02:00:00+00:00",
          "2022-02-08T14:00:00+00:00",
          "2022-02-08T15:00:00+00:00",
          "2022-02-11T05:00:00+00:00",
          "2022-02-15T09:00:00+00:00",
          "2022-02-16T18:00:00+00:00",
          "2022-02-18T07:00:00+00:00",
          "2022-02-18T16:00:00+00:00",
          "2022-02-22T12:00:00+00:00",
          "2022-02-23T18:00:00+00:00",
          "2022-02-25T00:00:00+00:00",
          "2022-02-28T03:00:00+00:00",
          "2022-03-02T16:00:00+00:00",
          "2022-03-03T15:00:00+00:00",
          "2022-03-07T18:00:00+00:00",
          "2022-03-10T17:00:00+00:00",
          "2022-03-11T06:00:00+00:00",
          "2022-03-13T21:00:00+00:00",
          "2022-03-13T23:00:00+00:00",
          "2022-03-15T21:00:00+00:00",
          "2022-03-16T01:00:00+00:00",
          "2022-03-18T14:00:00+00:00",
          "2022-03-18T19:00:00+00:00",
          "2022-03-21T16:00:00+00:00",
          "2022-03-22T00:00:00+00:00",
          "2022-03-23T13:00:00+00:00",
          "2022-03-23T22:00:00+00:00",
          "2022-03-24T02:00:00+00:00",
          "2022-03-24T07:00:00+00:00",
          "2022-03-25T12:00:00+00:00",
          "2022-03-28T02:00:00+00:00",
          "2022-03-30T03:00:00+00:00",
          "2022-03-30T19:00:00+00:00",
          "2022-03-31T10:00:00+00:00",
          "2022-04-01T06:00:00+00:00",
          "2022-04-04T07:00:00+00:00",
          "2022-04-05T14:00:00+00:00",
          "2022-04-06T21:00:00+00:00",
          "2022-04-07T13:00:00+00:00",
          "2022-04-07T14:00:00+00:00",
          "2022-04-07T16:00:00+00:00",
          "2022-04-07T20:00:00+00:00",
          "2022-04-08T12:00:00+00:00",
          "2022-04-12T06:00:00+00:00",
          "2022-04-13T07:00:00+00:00",
          "2022-04-14T13:00:00+00:00",
          "2022-04-15T04:00:00+00:00",
          "2022-04-18T08:00:00+00:00",
          "2022-04-18T16:00:00+00:00",
          "2022-04-20T13:00:00+00:00",
          "2022-04-21T04:00:00+00:00",
          "2022-04-21T23:00:00+00:00",
          "2022-04-28T01:00:00+00:00",
          "2022-04-29T12:00:00+00:00",
          "2022-05-03T12:00:00+00:00",
          "2022-05-04T08:00:00+00:00",
          "2022-05-04T14:00:00+00:00",
          "2022-05-05T18:00:00+00:00",
          "2022-05-06T00:00:00+00:00",
          "2022-05-09T18:00:00+00:00",
          "2022-05-10T08:00:00+00:00",
          "2022-05-10T09:00:00+00:00",
          "2022-05-13T19:00:00+00:00",
          "2022-05-18T09:00:00+00:00",
          "2022-05-19T17:00:00+00:00",
          "2022-05-20T18:00:00+00:00",
          "2022-05-23T08:00:00+00:00",
          "2022-05-24T14:00:00+00:00",
          "2022-05-25T21:00:00+00:00",
          "2022-05-26T09:00:00+00:00",
          "2022-05-26T14:00:00+00:00",
          "2022-05-27T14:00:00+00:00",
          "2022-05-29T22:00:00+00:00",
          "2022-05-31T11:00:00+00:00",
          "2022-05-31T16:00:00+00:00",
          "2022-06-09T10:00:00+00:00",
          "2022-06-14T10:00:00+00:00",
          "2022-06-15T14:00:00+00:00",
          "2022-06-16T23:00:00+00:00",
          "2022-06-22T07:00:00+00:00",
          "2022-06-22T17:00:00+00:00",
          "2022-06-23T05:00:00+00:00",
          "2022-06-24T12:00:00+00:00",
          "2022-06-28T20:00:00+00:00",
          "2022-06-29T14:00:00+00:00",
          "2022-06-29T17:00:00+00:00",
          "2022-07-04T09:00:00+00:00",
          "2022-07-05T10:00:00+00:00",
          "2022-07-07T06:00:00+00:00",
          "2022-07-07T17:00:00+00:00",
          "2022-07-08T16:00:00+00:00",
          "2022-07-11T16:00:00+00:00",
          "2022-07-13T06:00:00+00:00",
          "2022-07-19T05:00:00+00:00",
          "2022-07-19T07:00:00+00:00",
          "2022-07-20T14:00:00+00:00",
          "2022-07-21T06:00:00+00:00",
          "2022-07-21T17:00:00+00:00",
          "2022-07-25T12:00:00+00:00",
          "2022-07-26T10:00:00+00:00",
          "2022-07-27T07:00:00+00:00",
          "2022-07-28T03:00:00+00:00",
          "2022-08-02T19:00:00+00:00",
          "2022-08-04T18:00:00+00:00",
          "2022-08-04T22:00:00+00:00",
          "2022-08-04T23:00:00+00:00",
          "2022-08-05T03:00:00+00:00",
          "2022-08-08T18:00:00+00:00",
          "2022-08-09T00:00:00+00:00",
          "2022-08-09T01:00:00+00:00",
          "2022-08-09T02:00:00+00:00",
          "2022-08-09T03:00:00+00:00",
          "2022-08-09T07:00:00+00:00",
          "2022-08-10T09:00:00+00:00",
          "2022-08-10T10:00:00+00:00",
          "2022-08-10T12:00:00+00:00",
          "2022-08-11T18:00:00+00:00",
          "2022-08-12T17:00:00+00:00",
          "2022-08-16T11:00:00+00:00",
          "2022-08-18T13:00:00+00:00",
          "2022-08-19T05:00:00+00:00",
          "2022-08-22T09:00:00+00:00",
          "2022-08-24T18:00:00+00:00",
          "2022-08-25T14:00:00+00:00"
         ],
         "y": [
          -16.29999999999825,
          28.30000000000439,
          9.900000000004638,
          -52.199999999996294,
          -40.99999999999682,
          -59.39999999999657,
          5.6843418860808015e-12,
          -40.79999999999302,
          7.600000000007867,
          -9.79999999998995,
          -37.19999999999004,
          -72.19999999999231,
          -73.49999999999284,
          -82.59999999999366,
          -92.39999999999498,
          -109.99999999999375,
          -147.19999999999231,
          -142.69999999999072,
          -176.7999999999887,
          -175.79999999998677,
          -185.3999999999843,
          30.800000000016325,
          2.3000000000166665,
          -12.999999999982492,
          -37.899999999982015,
          -18.699999999981287,
          82.40000000001828,
          109.30000000001883,
          163.9000000000209,
          108.9000000000226,
          79.6000000000248,
          13.90000000002658,
          74.90000000002794,
          20.20000000002824,
          67.3000000000286,
          24.40000000002982,
          262.40000000002937,
          470.4000000000292,
          388.60000000003083,
          358.100000000033,
          322.50000000003354,
          427.4000000000342,
          410.2000000000345,
          588.9000000000351,
          571.2000000000359,
          573.400000000035,
          564.9000000000342,
          627.0000000000323,
          542.1000000000305,
          532.7000000000311,
          495.30000000003156,
          538.8000000000318,
          470.600000000033,
          529.0000000000333,
          466.2000000000319,
          378.5000000000309,
          314.8000000000309,
          283.2000000000306,
          326.10000000003083,
          330.00000000002956,
          293.6000000000291,
          286.80000000003076,
          329.2000000000314,
          339.1000000000304,
          326.6000000000304,
          477.6000000000323,
          470.00000000003297,
          375.80000000003224,
          285.4000000000326,
          295.9000000000344,
          284.50000000003683,
          474.2000000000388,
          437.20000000003836,
          449.6000000000379,
          790.4000000000394,
          915.8000000000413,
          889.2000000000422,
          846.900000000042,
          820.8000000000425,
          821.4000000000425,
          779.5000000000414,
          793.6000000000405,
          809.8000000000411,
          781.6000000000429,
          1053.0000000000427,
          1193.300000000042,
          1250.8000000000409,
          1192.6000000000386,
          1089.6000000000386,
          1080.8000000000393,
          1059.50000000004,
          1044.60000000004,
          976.6000000000392,
          946.8000000000391,
          913.8000000000378,
          997.2000000000381,
          934.50000000004,
          1429.10000000004,
          1711.6000000000388,
          1715.200000000039,
          1760.6000000000397,
          2106.4000000000397,
          2014.000000000039,
          1939.20000000004,
          2048.0000000000423,
          2155.300000000043,
          2147.800000000041,
          2080.2000000000394,
          2202.6000000000386,
          2064.800000000037,
          2214.600000000036,
          2176.7000000000367,
          2151.1000000000367,
          2134.2000000000357,
          2195.800000000037,
          2433.2000000000394,
          2330.40000000004,
          2326.600000000039,
          2313.2000000000376,
          2234.2000000000385,
          2281.200000000041,
          2162.8000000000416,
          2144.00000000004,
          2073.5000000000387,
          2361.2000000000367,
          2451.1000000000367,
          2456.8000000000384,
          2430.6000000000386,
          2383.0000000000387,
          2483.20000000004,
          2474.100000000039,
          2460.0000000000373,
          2445.2000000000376,
          2456.000000000038,
          2435.4000000000365,
          2459.4000000000347,
          2436.400000000033,
          2358.600000000031,
          2382.600000000029,
          2354.800000000027,
          2440.7000000000253,
          2497.4000000000233,
          2431.000000000022,
          2393.4000000000215,
          2431.20000000002,
          2417.50000000002,
          2385.800000000022
         ]
        }
       ],
       "layout": {
        "font": {
         "color": "#3d825f",
         "size": 10
        },
        "height": 400,
        "margin": {
         "b": 10,
         "l": 15,
         "r": 15
        },
        "paper_bgcolor": "#1e1e1e",
        "plot_bgcolor": "#1e1e1e",
        "template": {
         "data": {
          "bar": [
           {
            "error_x": {
             "color": "#2a3f5f"
            },
            "error_y": {
             "color": "#2a3f5f"
            },
            "marker": {
             "line": {
              "color": "#E5ECF6",
              "width": 0.5
             },
             "pattern": {
              "fillmode": "overlay",
              "size": 10,
              "solidity": 0.2
             }
            },
            "type": "bar"
           }
          ],
          "barpolar": [
           {
            "marker": {
             "line": {
              "color": "#E5ECF6",
              "width": 0.5
             },
             "pattern": {
              "fillmode": "overlay",
              "size": 10,
              "solidity": 0.2
             }
            },
            "type": "barpolar"
           }
          ],
          "carpet": [
           {
            "aaxis": {
             "endlinecolor": "#2a3f5f",
             "gridcolor": "white",
             "linecolor": "white",
             "minorgridcolor": "white",
             "startlinecolor": "#2a3f5f"
            },
            "baxis": {
             "endlinecolor": "#2a3f5f",
             "gridcolor": "white",
             "linecolor": "white",
             "minorgridcolor": "white",
             "startlinecolor": "#2a3f5f"
            },
            "type": "carpet"
           }
          ],
          "choropleth": [
           {
            "colorbar": {
             "outlinewidth": 0,
             "ticks": ""
            },
            "type": "choropleth"
           }
          ],
          "contour": [
           {
            "colorbar": {
             "outlinewidth": 0,
             "ticks": ""
            },
            "colorscale": [
             [
              0,
              "#0d0887"
             ],
             [
              0.1111111111111111,
              "#46039f"
             ],
             [
              0.2222222222222222,
              "#7201a8"
             ],
             [
              0.3333333333333333,
              "#9c179e"
             ],
             [
              0.4444444444444444,
              "#bd3786"
             ],
             [
              0.5555555555555556,
              "#d8576b"
             ],
             [
              0.6666666666666666,
              "#ed7953"
             ],
             [
              0.7777777777777778,
              "#fb9f3a"
             ],
             [
              0.8888888888888888,
              "#fdca26"
             ],
             [
              1,
              "#f0f921"
             ]
            ],
            "type": "contour"
           }
          ],
          "contourcarpet": [
           {
            "colorbar": {
             "outlinewidth": 0,
             "ticks": ""
            },
            "type": "contourcarpet"
           }
          ],
          "heatmap": [
           {
            "colorbar": {
             "outlinewidth": 0,
             "ticks": ""
            },
            "colorscale": [
             [
              0,
              "#0d0887"
             ],
             [
              0.1111111111111111,
              "#46039f"
             ],
             [
              0.2222222222222222,
              "#7201a8"
             ],
             [
              0.3333333333333333,
              "#9c179e"
             ],
             [
              0.4444444444444444,
              "#bd3786"
             ],
             [
              0.5555555555555556,
              "#d8576b"
             ],
             [
              0.6666666666666666,
              "#ed7953"
             ],
             [
              0.7777777777777778,
              "#fb9f3a"
             ],
             [
              0.8888888888888888,
              "#fdca26"
             ],
             [
              1,
              "#f0f921"
             ]
            ],
            "type": "heatmap"
           }
          ],
          "heatmapgl": [
           {
            "colorbar": {
             "outlinewidth": 0,
             "ticks": ""
            },
            "colorscale": [
             [
              0,
              "#0d0887"
             ],
             [
              0.1111111111111111,
              "#46039f"
             ],
             [
              0.2222222222222222,
              "#7201a8"
             ],
             [
              0.3333333333333333,
              "#9c179e"
             ],
             [
              0.4444444444444444,
              "#bd3786"
             ],
             [
              0.5555555555555556,
              "#d8576b"
             ],
             [
              0.6666666666666666,
              "#ed7953"
             ],
             [
              0.7777777777777778,
              "#fb9f3a"
             ],
             [
              0.8888888888888888,
              "#fdca26"
             ],
             [
              1,
              "#f0f921"
             ]
            ],
            "type": "heatmapgl"
           }
          ],
          "histogram": [
           {
            "marker": {
             "pattern": {
              "fillmode": "overlay",
              "size": 10,
              "solidity": 0.2
             }
            },
            "type": "histogram"
           }
          ],
          "histogram2d": [
           {
            "colorbar": {
             "outlinewidth": 0,
             "ticks": ""
            },
            "colorscale": [
             [
              0,
              "#0d0887"
             ],
             [
              0.1111111111111111,
              "#46039f"
             ],
             [
              0.2222222222222222,
              "#7201a8"
             ],
             [
              0.3333333333333333,
              "#9c179e"
             ],
             [
              0.4444444444444444,
              "#bd3786"
             ],
             [
              0.5555555555555556,
              "#d8576b"
             ],
             [
              0.6666666666666666,
              "#ed7953"
             ],
             [
              0.7777777777777778,
              "#fb9f3a"
             ],
             [
              0.8888888888888888,
              "#fdca26"
             ],
             [
              1,
              "#f0f921"
             ]
            ],
            "type": "histogram2d"
           }
          ],
          "histogram2dcontour": [
           {
            "colorbar": {
             "outlinewidth": 0,
             "ticks": ""
            },
            "colorscale": [
             [
              0,
              "#0d0887"
             ],
             [
              0.1111111111111111,
              "#46039f"
             ],
             [
              0.2222222222222222,
              "#7201a8"
             ],
             [
              0.3333333333333333,
              "#9c179e"
             ],
             [
              0.4444444444444444,
              "#bd3786"
             ],
             [
              0.5555555555555556,
              "#d8576b"
             ],
             [
              0.6666666666666666,
              "#ed7953"
             ],
             [
              0.7777777777777778,
              "#fb9f3a"
             ],
             [
              0.8888888888888888,
              "#fdca26"
             ],
             [
              1,
              "#f0f921"
             ]
            ],
            "type": "histogram2dcontour"
           }
          ],
          "mesh3d": [
           {
            "colorbar": {
             "outlinewidth": 0,
             "ticks": ""
            },
            "type": "mesh3d"
           }
          ],
          "parcoords": [
           {
            "line": {
             "colorbar": {
              "outlinewidth": 0,
              "ticks": ""
             }
            },
            "type": "parcoords"
           }
          ],
          "pie": [
           {
            "automargin": true,
            "type": "pie"
           }
          ],
          "scatter": [
           {
            "fillpattern": {
             "fillmode": "overlay",
             "size": 10,
             "solidity": 0.2
            },
            "type": "scatter"
           }
          ],
          "scatter3d": [
           {
            "line": {
             "colorbar": {
              "outlinewidth": 0,
              "ticks": ""
             }
            },
            "marker": {
             "colorbar": {
              "outlinewidth": 0,
              "ticks": ""
             }
            },
            "type": "scatter3d"
           }
          ],
          "scattercarpet": [
           {
            "marker": {
             "colorbar": {
              "outlinewidth": 0,
              "ticks": ""
             }
            },
            "type": "scattercarpet"
           }
          ],
          "scattergeo": [
           {
            "marker": {
             "colorbar": {
              "outlinewidth": 0,
              "ticks": ""
             }
            },
            "type": "scattergeo"
           }
          ],
          "scattergl": [
           {
            "marker": {
             "colorbar": {
              "outlinewidth": 0,
              "ticks": ""
             }
            },
            "type": "scattergl"
           }
          ],
          "scattermapbox": [
           {
            "marker": {
             "colorbar": {
              "outlinewidth": 0,
              "ticks": ""
             }
            },
            "type": "scattermapbox"
           }
          ],
          "scatterpolar": [
           {
            "marker": {
             "colorbar": {
              "outlinewidth": 0,
              "ticks": ""
             }
            },
            "type": "scatterpolar"
           }
          ],
          "scatterpolargl": [
           {
            "marker": {
             "colorbar": {
              "outlinewidth": 0,
              "ticks": ""
             }
            },
            "type": "scatterpolargl"
           }
          ],
          "scatterternary": [
           {
            "marker": {
             "colorbar": {
              "outlinewidth": 0,
              "ticks": ""
             }
            },
            "type": "scatterternary"
           }
          ],
          "surface": [
           {
            "colorbar": {
             "outlinewidth": 0,
             "ticks": ""
            },
            "colorscale": [
             [
              0,
              "#0d0887"
             ],
             [
              0.1111111111111111,
              "#46039f"
             ],
             [
              0.2222222222222222,
              "#7201a8"
             ],
             [
              0.3333333333333333,
              "#9c179e"
             ],
             [
              0.4444444444444444,
              "#bd3786"
             ],
             [
              0.5555555555555556,
              "#d8576b"
             ],
             [
              0.6666666666666666,
              "#ed7953"
             ],
             [
              0.7777777777777778,
              "#fb9f3a"
             ],
             [
              0.8888888888888888,
              "#fdca26"
             ],
             [
              1,
              "#f0f921"
             ]
            ],
            "type": "surface"
           }
          ],
          "table": [
           {
            "cells": {
             "fill": {
              "color": "#EBF0F8"
             },
             "line": {
              "color": "white"
             }
            },
            "header": {
             "fill": {
              "color": "#C8D4E3"
             },
             "line": {
              "color": "white"
             }
            },
            "type": "table"
           }
          ]
         },
         "layout": {
          "annotationdefaults": {
           "arrowcolor": "#2a3f5f",
           "arrowhead": 0,
           "arrowwidth": 1
          },
          "autotypenumbers": "strict",
          "coloraxis": {
           "colorbar": {
            "outlinewidth": 0,
            "ticks": ""
           }
          },
          "colorscale": {
           "diverging": [
            [
             0,
             "#8e0152"
            ],
            [
             0.1,
             "#c51b7d"
            ],
            [
             0.2,
             "#de77ae"
            ],
            [
             0.3,
             "#f1b6da"
            ],
            [
             0.4,
             "#fde0ef"
            ],
            [
             0.5,
             "#f7f7f7"
            ],
            [
             0.6,
             "#e6f5d0"
            ],
            [
             0.7,
             "#b8e186"
            ],
            [
             0.8,
             "#7fbc41"
            ],
            [
             0.9,
             "#4d9221"
            ],
            [
             1,
             "#276419"
            ]
           ],
           "sequential": [
            [
             0,
             "#0d0887"
            ],
            [
             0.1111111111111111,
             "#46039f"
            ],
            [
             0.2222222222222222,
             "#7201a8"
            ],
            [
             0.3333333333333333,
             "#9c179e"
            ],
            [
             0.4444444444444444,
             "#bd3786"
            ],
            [
             0.5555555555555556,
             "#d8576b"
            ],
            [
             0.6666666666666666,
             "#ed7953"
            ],
            [
             0.7777777777777778,
             "#fb9f3a"
            ],
            [
             0.8888888888888888,
             "#fdca26"
            ],
            [
             1,
             "#f0f921"
            ]
           ],
           "sequentialminus": [
            [
             0,
             "#0d0887"
            ],
            [
             0.1111111111111111,
             "#46039f"
            ],
            [
             0.2222222222222222,
             "#7201a8"
            ],
            [
             0.3333333333333333,
             "#9c179e"
            ],
            [
             0.4444444444444444,
             "#bd3786"
            ],
            [
             0.5555555555555556,
             "#d8576b"
            ],
            [
             0.6666666666666666,
             "#ed7953"
            ],
            [
             0.7777777777777778,
             "#fb9f3a"
            ],
            [
             0.8888888888888888,
             "#fdca26"
            ],
            [
             1,
             "#f0f921"
            ]
           ]
          },
          "colorway": [
           "#636efa",
           "#EF553B",
           "#00cc96",
           "#ab63fa",
           "#FFA15A",
           "#19d3f3",
           "#FF6692",
           "#B6E880",
           "#FF97FF",
           "#FECB52"
          ],
          "font": {
           "color": "#2a3f5f"
          },
          "geo": {
           "bgcolor": "white",
           "lakecolor": "white",
           "landcolor": "#E5ECF6",
           "showlakes": true,
           "showland": true,
           "subunitcolor": "white"
          },
          "hoverlabel": {
           "align": "left"
          },
          "hovermode": "closest",
          "mapbox": {
           "style": "light"
          },
          "paper_bgcolor": "white",
          "plot_bgcolor": "#E5ECF6",
          "polar": {
           "angularaxis": {
            "gridcolor": "white",
            "linecolor": "white",
            "ticks": ""
           },
           "bgcolor": "#E5ECF6",
           "radialaxis": {
            "gridcolor": "white",
            "linecolor": "white",
            "ticks": ""
           }
          },
          "scene": {
           "xaxis": {
            "backgroundcolor": "#E5ECF6",
            "gridcolor": "white",
            "gridwidth": 2,
            "linecolor": "white",
            "showbackground": true,
            "ticks": "",
            "zerolinecolor": "white"
           },
           "yaxis": {
            "backgroundcolor": "#E5ECF6",
            "gridcolor": "white",
            "gridwidth": 2,
            "linecolor": "white",
            "showbackground": true,
            "ticks": "",
            "zerolinecolor": "white"
           },
           "zaxis": {
            "backgroundcolor": "#E5ECF6",
            "gridcolor": "white",
            "gridwidth": 2,
            "linecolor": "white",
            "showbackground": true,
            "ticks": "",
            "zerolinecolor": "white"
           }
          },
          "shapedefaults": {
           "line": {
            "color": "#2a3f5f"
           }
          },
          "ternary": {
           "aaxis": {
            "gridcolor": "white",
            "linecolor": "white",
            "ticks": ""
           },
           "baxis": {
            "gridcolor": "white",
            "linecolor": "white",
            "ticks": ""
           },
           "bgcolor": "#E5ECF6",
           "caxis": {
            "gridcolor": "white",
            "linecolor": "white",
            "ticks": ""
           }
          },
          "title": {
           "x": 0.05
          },
          "xaxis": {
           "automargin": true,
           "gridcolor": "white",
           "linecolor": "white",
           "ticks": "",
           "title": {
            "standoff": 15
           },
           "zerolinecolor": "white",
           "zerolinewidth": 2
          },
          "yaxis": {
           "automargin": true,
           "gridcolor": "white",
           "linecolor": "white",
           "ticks": "",
           "title": {
            "standoff": 15
           },
           "zerolinecolor": "white",
           "zerolinewidth": 2
          }
         }
        },
        "title": {
         "text": "EUR_JPY_ma_8_32"
        },
        "width": 1000,
        "xaxis": {
         "linecolor": "#3a4a54",
         "linewidth": 1,
         "showgrid": false,
         "zeroline": false
        },
        "yaxis": {
         "linecolor": "#3a4a54",
         "linewidth": 1,
         "showgrid": false,
         "zeroline": false
        }
       }
      }
     },
     "metadata": {},
     "output_type": "display_data"
    },
    {
     "data": {
      "application/vnd.plotly.v1+json": {
       "config": {
        "plotlyServerURL": "https://plot.ly"
       },
       "data": [
        {
         "line": {
          "color": "#3d825f",
          "shape": "spline",
          "width": 2
         },
         "mode": "lines",
         "name": "EUR_CAD_ma_8_32",
         "type": "scatter",
         "x": [
          "2022-01-10T19:00:00+00:00",
          "2022-01-11T12:00:00+00:00",
          "2022-01-12T19:00:00+00:00",
          "2022-01-14T11:00:00+00:00",
          "2022-01-14T18:00:00+00:00",
          "2022-01-16T23:00:00+00:00",
          "2022-01-19T20:00:00+00:00",
          "2022-01-20T12:00:00+00:00",
          "2022-01-21T05:00:00+00:00",
          "2022-01-25T10:00:00+00:00",
          "2022-01-27T00:00:00+00:00",
          "2022-01-27T12:00:00+00:00",
          "2022-01-28T10:00:00+00:00",
          "2022-01-31T06:00:00+00:00",
          "2022-01-31T14:00:00+00:00",
          "2022-02-07T07:00:00+00:00",
          "2022-02-08T17:00:00+00:00",
          "2022-02-09T16:00:00+00:00",
          "2022-02-10T15:00:00+00:00",
          "2022-02-11T09:00:00+00:00",
          "2022-02-15T10:00:00+00:00",
          "2022-02-16T08:00:00+00:00",
          "2022-02-17T01:00:00+00:00",
          "2022-02-17T17:00:00+00:00",
          "2022-02-18T02:00:00+00:00",
          "2022-02-18T05:00:00+00:00",
          "2022-02-18T18:00:00+00:00",
          "2022-02-21T18:00:00+00:00",
          "2022-02-22T14:00:00+00:00",
          "2022-02-23T08:00:00+00:00",
          "2022-02-25T16:00:00+00:00",
          "2022-02-25T21:00:00+00:00",
          "2022-03-07T18:00:00+00:00",
          "2022-03-10T15:00:00+00:00",
          "2022-03-14T11:00:00+00:00",
          "2022-03-15T18:00:00+00:00",
          "2022-03-16T21:00:00+00:00",
          "2022-03-17T09:00:00+00:00",
          "2022-03-17T13:00:00+00:00",
          "2022-03-18T04:00:00+00:00",
          "2022-03-22T17:00:00+00:00",
          "2022-03-23T10:00:00+00:00",
          "2022-03-25T04:00:00+00:00",
          "2022-03-25T15:00:00+00:00",
          "2022-03-28T15:00:00+00:00",
          "2022-03-31T13:00:00+00:00",
          "2022-04-04T05:00:00+00:00",
          "2022-04-04T06:00:00+00:00",
          "2022-04-06T12:00:00+00:00",
          "2022-04-08T00:00:00+00:00",
          "2022-04-10T23:00:00+00:00",
          "2022-04-12T12:00:00+00:00",
          "2022-04-13T14:00:00+00:00",
          "2022-04-13T20:00:00+00:00",
          "2022-04-14T04:00:00+00:00",
          "2022-04-14T11:00:00+00:00",
          "2022-04-15T18:00:00+00:00",
          "2022-04-17T21:00:00+00:00",
          "2022-04-17T23:00:00+00:00",
          "2022-04-18T15:00:00+00:00",
          "2022-04-19T13:00:00+00:00",
          "2022-04-20T12:00:00+00:00",
          "2022-04-21T10:00:00+00:00",
          "2022-04-25T09:00:00+00:00",
          "2022-04-26T20:00:00+00:00",
          "2022-04-26T21:00:00+00:00",
          "2022-04-27T00:00:00+00:00",
          "2022-04-27T02:00:00+00:00",
          "2022-04-29T16:00:00+00:00",
          "2022-05-02T22:00:00+00:00",
          "2022-05-03T14:00:00+00:00",
          "2022-05-03T20:00:00+00:00",
          "2022-05-04T18:00:00+00:00",
          "2022-05-05T10:00:00+00:00",
          "2022-05-05T21:00:00+00:00",
          "2022-05-10T17:00:00+00:00",
          "2022-05-16T09:00:00+00:00",
          "2022-05-16T14:00:00+00:00",
          "2022-05-17T12:00:00+00:00",
          "2022-05-18T13:00:00+00:00",
          "2022-05-19T13:00:00+00:00",
          "2022-05-20T12:00:00+00:00",
          "2022-05-22T22:00:00+00:00",
          "2022-05-25T08:00:00+00:00",
          "2022-05-26T07:00:00+00:00",
          "2022-05-26T21:00:00+00:00",
          "2022-05-27T01:00:00+00:00",
          "2022-05-27T08:00:00+00:00",
          "2022-06-02T10:00:00+00:00",
          "2022-06-03T09:00:00+00:00",
          "2022-06-08T12:00:00+00:00",
          "2022-06-10T14:00:00+00:00",
          "2022-06-14T06:00:00+00:00",
          "2022-06-15T16:00:00+00:00",
          "2022-06-16T15:00:00+00:00",
          "2022-06-20T19:00:00+00:00",
          "2022-06-21T15:00:00+00:00",
          "2022-06-21T16:00:00+00:00",
          "2022-06-22T10:00:00+00:00",
          "2022-06-23T10:00:00+00:00",
          "2022-06-23T23:00:00+00:00",
          "2022-06-24T15:00:00+00:00",
          "2022-06-27T13:00:00+00:00",
          "2022-06-28T01:00:00+00:00",
          "2022-06-30T20:00:00+00:00",
          "2022-07-01T15:00:00+00:00",
          "2022-07-12T16:00:00+00:00",
          "2022-07-13T04:00:00+00:00",
          "2022-07-13T14:00:00+00:00",
          "2022-07-13T15:00:00+00:00",
          "2022-07-14T10:00:00+00:00",
          "2022-07-15T16:00:00+00:00",
          "2022-07-18T10:00:00+00:00",
          "2022-07-19T21:00:00+00:00",
          "2022-07-21T08:00:00+00:00",
          "2022-07-21T21:00:00+00:00",
          "2022-07-21T22:00:00+00:00",
          "2022-07-22T04:00:00+00:00",
          "2022-07-22T18:00:00+00:00",
          "2022-07-25T16:00:00+00:00",
          "2022-07-27T17:00:00+00:00",
          "2022-07-28T11:00:00+00:00",
          "2022-07-29T04:00:00+00:00",
          "2022-08-02T13:00:00+00:00",
          "2022-08-04T11:00:00+00:00",
          "2022-08-05T19:00:00+00:00",
          "2022-08-09T10:00:00+00:00",
          "2022-08-10T22:00:00+00:00",
          "2022-08-11T11:00:00+00:00",
          "2022-08-12T03:00:00+00:00",
          "2022-08-15T10:00:00+00:00",
          "2022-08-15T21:00:00+00:00",
          "2022-08-17T10:00:00+00:00",
          "2022-08-18T12:00:00+00:00",
          "2022-08-24T17:00:00+00:00",
          "2022-08-25T11:00:00+00:00"
         ],
         "y": [
          -32.600000000000406,
          -22.599999999999287,
          -34.79999999999927,
          -67.60000000000099,
          -90.20000000000249,
          36.999999999995936,
          17.899999999995153,
          6.399999999995309,
          85.79999999999589,
          94.9999999999962,
          15.599999999995632,
          -58.40000000000509,
          -91.600000000005,
          -159.00000000000466,
          95.3999999999944,
          113.09999999999268,
          95.39999999999219,
          80.39999999999162,
          64.39999999999117,
          131.0999999999907,
          147.69999999999064,
          142.19999999999234,
          104.3999999999934,
          81.79999999999411,
          74.79999999999488,
          65.19999999999638,
          59.49999999999679,
          43.99999999999517,
          25.499999999993875,
          106.79999999999357,
          73.99999999999409,
          464.599999999995,
          624.9999999999956,
          732.9999999999948,
          740.9999999999939,
          737.5999999999938,
          737.7999999999929,
          708.5999999999925,
          667.5999999999926,
          775.3999999999927,
          752.5999999999943,
          779.1999999999954,
          703.3999999999962,
          669.9999999999973,
          769.3999999999978,
          825.1999999999992,
          802.3000000000002,
          942.0000000000006,
          958.4000000000015,
          937.800000000002,
          963.8000000000013,
          981.1999999999998,
          964.7999999999989,
          956.1999999999981,
          902.5999999999977,
          912.2999999999992,
          911.8000000000003,
          901.6000000000001,
          870.2999999999994,
          853.5999999999988,
          790.1999999999987,
          743.3999999999985,
          810.7999999999981,
          845.199999999997,
          845.6999999999958,
          855.7999999999954,
          825.7999999999943,
          908.9999999999931,
          918.8999999999935,
          905.1999999999948,
          869.3999999999957,
          874.1999999999961,
          881.1999999999953,
          860.7999999999948,
          1038.599999999996,
          1267.999999999998,
          1217.3999999999996,
          1118.2000000000003,
          1096.5000000000002,
          1086.800000000001,
          1087.800000000001,
          1041.0999999999995,
          1180.2999999999988,
          1189.3999999999985,
          1202.0999999999974,
          1182.5999999999963,
          1127.0999999999967,
          1272.9999999999977,
          1250.5999999999976,
          1292.4999999999968,
          1304.7999999999952,
          1332.4999999999945,
          1356.6999999999955,
          1217.999999999995,
          1261.5999999999942,
          1275.0999999999938,
          1243.799999999993,
          1193.5999999999926,
          1147.9999999999936,
          1094.5999999999947,
          1044.499999999995,
          998.5999999999963,
          948.9999999999977,
          1063.2999999999981,
          1008.6999999999979,
          1374.9999999999973,
          1359.199999999996,
          1320.9999999999943,
          1283.7999999999927,
          1194.7999999999913,
          1185.6999999999916,
          1153.8999999999921,
          1147.1999999999925,
          1158.3999999999926,
          1165.399999999992,
          1161.8999999999912,
          1127.1999999999903,
          1083.599999999991,
          1049.7999999999915,
          1129.199999999992,
          1039.7999999999927,
          935.9999999999922,
          994.9999999999923,
          1060.199999999993,
          1156.1999999999935,
          1171.199999999994,
          1181.5999999999954,
          1154.9999999999966,
          1127.3999999999978,
          1127.5999999999992,
          1076.0999999999995,
          1066.4000000000003,
          1061.0000000000005,
          1246.4999999999989,
          1207.399999999998,
          1158.8999999999978
         ]
        }
       ],
       "layout": {
        "font": {
         "color": "#3d825f",
         "size": 10
        },
        "height": 400,
        "margin": {
         "b": 10,
         "l": 15,
         "r": 15
        },
        "paper_bgcolor": "#1e1e1e",
        "plot_bgcolor": "#1e1e1e",
        "template": {
         "data": {
          "bar": [
           {
            "error_x": {
             "color": "#2a3f5f"
            },
            "error_y": {
             "color": "#2a3f5f"
            },
            "marker": {
             "line": {
              "color": "#E5ECF6",
              "width": 0.5
             },
             "pattern": {
              "fillmode": "overlay",
              "size": 10,
              "solidity": 0.2
             }
            },
            "type": "bar"
           }
          ],
          "barpolar": [
           {
            "marker": {
             "line": {
              "color": "#E5ECF6",
              "width": 0.5
             },
             "pattern": {
              "fillmode": "overlay",
              "size": 10,
              "solidity": 0.2
             }
            },
            "type": "barpolar"
           }
          ],
          "carpet": [
           {
            "aaxis": {
             "endlinecolor": "#2a3f5f",
             "gridcolor": "white",
             "linecolor": "white",
             "minorgridcolor": "white",
             "startlinecolor": "#2a3f5f"
            },
            "baxis": {
             "endlinecolor": "#2a3f5f",
             "gridcolor": "white",
             "linecolor": "white",
             "minorgridcolor": "white",
             "startlinecolor": "#2a3f5f"
            },
            "type": "carpet"
           }
          ],
          "choropleth": [
           {
            "colorbar": {
             "outlinewidth": 0,
             "ticks": ""
            },
            "type": "choropleth"
           }
          ],
          "contour": [
           {
            "colorbar": {
             "outlinewidth": 0,
             "ticks": ""
            },
            "colorscale": [
             [
              0,
              "#0d0887"
             ],
             [
              0.1111111111111111,
              "#46039f"
             ],
             [
              0.2222222222222222,
              "#7201a8"
             ],
             [
              0.3333333333333333,
              "#9c179e"
             ],
             [
              0.4444444444444444,
              "#bd3786"
             ],
             [
              0.5555555555555556,
              "#d8576b"
             ],
             [
              0.6666666666666666,
              "#ed7953"
             ],
             [
              0.7777777777777778,
              "#fb9f3a"
             ],
             [
              0.8888888888888888,
              "#fdca26"
             ],
             [
              1,
              "#f0f921"
             ]
            ],
            "type": "contour"
           }
          ],
          "contourcarpet": [
           {
            "colorbar": {
             "outlinewidth": 0,
             "ticks": ""
            },
            "type": "contourcarpet"
           }
          ],
          "heatmap": [
           {
            "colorbar": {
             "outlinewidth": 0,
             "ticks": ""
            },
            "colorscale": [
             [
              0,
              "#0d0887"
             ],
             [
              0.1111111111111111,
              "#46039f"
             ],
             [
              0.2222222222222222,
              "#7201a8"
             ],
             [
              0.3333333333333333,
              "#9c179e"
             ],
             [
              0.4444444444444444,
              "#bd3786"
             ],
             [
              0.5555555555555556,
              "#d8576b"
             ],
             [
              0.6666666666666666,
              "#ed7953"
             ],
             [
              0.7777777777777778,
              "#fb9f3a"
             ],
             [
              0.8888888888888888,
              "#fdca26"
             ],
             [
              1,
              "#f0f921"
             ]
            ],
            "type": "heatmap"
           }
          ],
          "heatmapgl": [
           {
            "colorbar": {
             "outlinewidth": 0,
             "ticks": ""
            },
            "colorscale": [
             [
              0,
              "#0d0887"
             ],
             [
              0.1111111111111111,
              "#46039f"
             ],
             [
              0.2222222222222222,
              "#7201a8"
             ],
             [
              0.3333333333333333,
              "#9c179e"
             ],
             [
              0.4444444444444444,
              "#bd3786"
             ],
             [
              0.5555555555555556,
              "#d8576b"
             ],
             [
              0.6666666666666666,
              "#ed7953"
             ],
             [
              0.7777777777777778,
              "#fb9f3a"
             ],
             [
              0.8888888888888888,
              "#fdca26"
             ],
             [
              1,
              "#f0f921"
             ]
            ],
            "type": "heatmapgl"
           }
          ],
          "histogram": [
           {
            "marker": {
             "pattern": {
              "fillmode": "overlay",
              "size": 10,
              "solidity": 0.2
             }
            },
            "type": "histogram"
           }
          ],
          "histogram2d": [
           {
            "colorbar": {
             "outlinewidth": 0,
             "ticks": ""
            },
            "colorscale": [
             [
              0,
              "#0d0887"
             ],
             [
              0.1111111111111111,
              "#46039f"
             ],
             [
              0.2222222222222222,
              "#7201a8"
             ],
             [
              0.3333333333333333,
              "#9c179e"
             ],
             [
              0.4444444444444444,
              "#bd3786"
             ],
             [
              0.5555555555555556,
              "#d8576b"
             ],
             [
              0.6666666666666666,
              "#ed7953"
             ],
             [
              0.7777777777777778,
              "#fb9f3a"
             ],
             [
              0.8888888888888888,
              "#fdca26"
             ],
             [
              1,
              "#f0f921"
             ]
            ],
            "type": "histogram2d"
           }
          ],
          "histogram2dcontour": [
           {
            "colorbar": {
             "outlinewidth": 0,
             "ticks": ""
            },
            "colorscale": [
             [
              0,
              "#0d0887"
             ],
             [
              0.1111111111111111,
              "#46039f"
             ],
             [
              0.2222222222222222,
              "#7201a8"
             ],
             [
              0.3333333333333333,
              "#9c179e"
             ],
             [
              0.4444444444444444,
              "#bd3786"
             ],
             [
              0.5555555555555556,
              "#d8576b"
             ],
             [
              0.6666666666666666,
              "#ed7953"
             ],
             [
              0.7777777777777778,
              "#fb9f3a"
             ],
             [
              0.8888888888888888,
              "#fdca26"
             ],
             [
              1,
              "#f0f921"
             ]
            ],
            "type": "histogram2dcontour"
           }
          ],
          "mesh3d": [
           {
            "colorbar": {
             "outlinewidth": 0,
             "ticks": ""
            },
            "type": "mesh3d"
           }
          ],
          "parcoords": [
           {
            "line": {
             "colorbar": {
              "outlinewidth": 0,
              "ticks": ""
             }
            },
            "type": "parcoords"
           }
          ],
          "pie": [
           {
            "automargin": true,
            "type": "pie"
           }
          ],
          "scatter": [
           {
            "fillpattern": {
             "fillmode": "overlay",
             "size": 10,
             "solidity": 0.2
            },
            "type": "scatter"
           }
          ],
          "scatter3d": [
           {
            "line": {
             "colorbar": {
              "outlinewidth": 0,
              "ticks": ""
             }
            },
            "marker": {
             "colorbar": {
              "outlinewidth": 0,
              "ticks": ""
             }
            },
            "type": "scatter3d"
           }
          ],
          "scattercarpet": [
           {
            "marker": {
             "colorbar": {
              "outlinewidth": 0,
              "ticks": ""
             }
            },
            "type": "scattercarpet"
           }
          ],
          "scattergeo": [
           {
            "marker": {
             "colorbar": {
              "outlinewidth": 0,
              "ticks": ""
             }
            },
            "type": "scattergeo"
           }
          ],
          "scattergl": [
           {
            "marker": {
             "colorbar": {
              "outlinewidth": 0,
              "ticks": ""
             }
            },
            "type": "scattergl"
           }
          ],
          "scattermapbox": [
           {
            "marker": {
             "colorbar": {
              "outlinewidth": 0,
              "ticks": ""
             }
            },
            "type": "scattermapbox"
           }
          ],
          "scatterpolar": [
           {
            "marker": {
             "colorbar": {
              "outlinewidth": 0,
              "ticks": ""
             }
            },
            "type": "scatterpolar"
           }
          ],
          "scatterpolargl": [
           {
            "marker": {
             "colorbar": {
              "outlinewidth": 0,
              "ticks": ""
             }
            },
            "type": "scatterpolargl"
           }
          ],
          "scatterternary": [
           {
            "marker": {
             "colorbar": {
              "outlinewidth": 0,
              "ticks": ""
             }
            },
            "type": "scatterternary"
           }
          ],
          "surface": [
           {
            "colorbar": {
             "outlinewidth": 0,
             "ticks": ""
            },
            "colorscale": [
             [
              0,
              "#0d0887"
             ],
             [
              0.1111111111111111,
              "#46039f"
             ],
             [
              0.2222222222222222,
              "#7201a8"
             ],
             [
              0.3333333333333333,
              "#9c179e"
             ],
             [
              0.4444444444444444,
              "#bd3786"
             ],
             [
              0.5555555555555556,
              "#d8576b"
             ],
             [
              0.6666666666666666,
              "#ed7953"
             ],
             [
              0.7777777777777778,
              "#fb9f3a"
             ],
             [
              0.8888888888888888,
              "#fdca26"
             ],
             [
              1,
              "#f0f921"
             ]
            ],
            "type": "surface"
           }
          ],
          "table": [
           {
            "cells": {
             "fill": {
              "color": "#EBF0F8"
             },
             "line": {
              "color": "white"
             }
            },
            "header": {
             "fill": {
              "color": "#C8D4E3"
             },
             "line": {
              "color": "white"
             }
            },
            "type": "table"
           }
          ]
         },
         "layout": {
          "annotationdefaults": {
           "arrowcolor": "#2a3f5f",
           "arrowhead": 0,
           "arrowwidth": 1
          },
          "autotypenumbers": "strict",
          "coloraxis": {
           "colorbar": {
            "outlinewidth": 0,
            "ticks": ""
           }
          },
          "colorscale": {
           "diverging": [
            [
             0,
             "#8e0152"
            ],
            [
             0.1,
             "#c51b7d"
            ],
            [
             0.2,
             "#de77ae"
            ],
            [
             0.3,
             "#f1b6da"
            ],
            [
             0.4,
             "#fde0ef"
            ],
            [
             0.5,
             "#f7f7f7"
            ],
            [
             0.6,
             "#e6f5d0"
            ],
            [
             0.7,
             "#b8e186"
            ],
            [
             0.8,
             "#7fbc41"
            ],
            [
             0.9,
             "#4d9221"
            ],
            [
             1,
             "#276419"
            ]
           ],
           "sequential": [
            [
             0,
             "#0d0887"
            ],
            [
             0.1111111111111111,
             "#46039f"
            ],
            [
             0.2222222222222222,
             "#7201a8"
            ],
            [
             0.3333333333333333,
             "#9c179e"
            ],
            [
             0.4444444444444444,
             "#bd3786"
            ],
            [
             0.5555555555555556,
             "#d8576b"
            ],
            [
             0.6666666666666666,
             "#ed7953"
            ],
            [
             0.7777777777777778,
             "#fb9f3a"
            ],
            [
             0.8888888888888888,
             "#fdca26"
            ],
            [
             1,
             "#f0f921"
            ]
           ],
           "sequentialminus": [
            [
             0,
             "#0d0887"
            ],
            [
             0.1111111111111111,
             "#46039f"
            ],
            [
             0.2222222222222222,
             "#7201a8"
            ],
            [
             0.3333333333333333,
             "#9c179e"
            ],
            [
             0.4444444444444444,
             "#bd3786"
            ],
            [
             0.5555555555555556,
             "#d8576b"
            ],
            [
             0.6666666666666666,
             "#ed7953"
            ],
            [
             0.7777777777777778,
             "#fb9f3a"
            ],
            [
             0.8888888888888888,
             "#fdca26"
            ],
            [
             1,
             "#f0f921"
            ]
           ]
          },
          "colorway": [
           "#636efa",
           "#EF553B",
           "#00cc96",
           "#ab63fa",
           "#FFA15A",
           "#19d3f3",
           "#FF6692",
           "#B6E880",
           "#FF97FF",
           "#FECB52"
          ],
          "font": {
           "color": "#2a3f5f"
          },
          "geo": {
           "bgcolor": "white",
           "lakecolor": "white",
           "landcolor": "#E5ECF6",
           "showlakes": true,
           "showland": true,
           "subunitcolor": "white"
          },
          "hoverlabel": {
           "align": "left"
          },
          "hovermode": "closest",
          "mapbox": {
           "style": "light"
          },
          "paper_bgcolor": "white",
          "plot_bgcolor": "#E5ECF6",
          "polar": {
           "angularaxis": {
            "gridcolor": "white",
            "linecolor": "white",
            "ticks": ""
           },
           "bgcolor": "#E5ECF6",
           "radialaxis": {
            "gridcolor": "white",
            "linecolor": "white",
            "ticks": ""
           }
          },
          "scene": {
           "xaxis": {
            "backgroundcolor": "#E5ECF6",
            "gridcolor": "white",
            "gridwidth": 2,
            "linecolor": "white",
            "showbackground": true,
            "ticks": "",
            "zerolinecolor": "white"
           },
           "yaxis": {
            "backgroundcolor": "#E5ECF6",
            "gridcolor": "white",
            "gridwidth": 2,
            "linecolor": "white",
            "showbackground": true,
            "ticks": "",
            "zerolinecolor": "white"
           },
           "zaxis": {
            "backgroundcolor": "#E5ECF6",
            "gridcolor": "white",
            "gridwidth": 2,
            "linecolor": "white",
            "showbackground": true,
            "ticks": "",
            "zerolinecolor": "white"
           }
          },
          "shapedefaults": {
           "line": {
            "color": "#2a3f5f"
           }
          },
          "ternary": {
           "aaxis": {
            "gridcolor": "white",
            "linecolor": "white",
            "ticks": ""
           },
           "baxis": {
            "gridcolor": "white",
            "linecolor": "white",
            "ticks": ""
           },
           "bgcolor": "#E5ECF6",
           "caxis": {
            "gridcolor": "white",
            "linecolor": "white",
            "ticks": ""
           }
          },
          "title": {
           "x": 0.05
          },
          "xaxis": {
           "automargin": true,
           "gridcolor": "white",
           "linecolor": "white",
           "ticks": "",
           "title": {
            "standoff": 15
           },
           "zerolinecolor": "white",
           "zerolinewidth": 2
          },
          "yaxis": {
           "automargin": true,
           "gridcolor": "white",
           "linecolor": "white",
           "ticks": "",
           "title": {
            "standoff": 15
           },
           "zerolinecolor": "white",
           "zerolinewidth": 2
          }
         }
        },
        "title": {
         "text": "EUR_CAD_ma_8_32"
        },
        "width": 1000,
        "xaxis": {
         "linecolor": "#3a4a54",
         "linewidth": 1,
         "showgrid": false,
         "zeroline": false
        },
        "yaxis": {
         "linecolor": "#3a4a54",
         "linewidth": 1,
         "showgrid": false,
         "zeroline": false
        }
       }
      }
     },
     "metadata": {},
     "output_type": "display_data"
    }
   ],
   "source": [
    "c = 'ma_8_32'\n",
    "for p in our_pairs:\n",
    "    temp_df = all_trades[(all_trades.cross==c)&(all_trades.pair==p)].copy()\n",
    "    temp_df['cum_gain'] = temp_df.gain.cumsum()\n",
    "    plot_line(temp_df, p+'_'+c)"
   ]
  },
  {
   "cell_type": "code",
   "execution_count": 44,
   "metadata": {},
   "outputs": [
    {
     "data": {
      "application/vnd.plotly.v1+json": {
       "config": {
        "plotlyServerURL": "https://plot.ly"
       },
       "data": [
        {
         "line": {
          "color": "#3d825f",
          "shape": "spline",
          "width": 2
         },
         "mode": "lines",
         "name": "ma_8_32",
         "type": "scatter",
         "x": [
          "2022-01-10T05:00:00+00:00",
          "2022-01-10T06:00:00+00:00",
          "2022-01-10T08:00:00+00:00",
          "2022-01-10T09:00:00+00:00",
          "2022-01-10T10:00:00+00:00",
          "2022-01-10T11:00:00+00:00",
          "2022-01-10T12:00:00+00:00",
          "2022-01-10T14:00:00+00:00",
          "2022-01-10T15:00:00+00:00",
          "2022-01-10T17:00:00+00:00",
          "2022-01-10T18:00:00+00:00",
          "2022-01-10T19:00:00+00:00",
          "2022-01-10T21:00:00+00:00",
          "2022-01-11T02:00:00+00:00",
          "2022-01-11T04:00:00+00:00",
          "2022-01-11T07:00:00+00:00",
          "2022-01-11T09:00:00+00:00",
          "2022-01-11T10:00:00+00:00",
          "2022-01-11T11:00:00+00:00",
          "2022-01-11T12:00:00+00:00",
          "2022-01-11T13:00:00+00:00",
          "2022-01-11T14:00:00+00:00",
          "2022-01-11T15:00:00+00:00",
          "2022-01-11T17:00:00+00:00",
          "2022-01-11T18:00:00+00:00",
          "2022-01-11T19:00:00+00:00",
          "2022-01-11T22:00:00+00:00",
          "2022-01-11T23:00:00+00:00",
          "2022-01-12T01:00:00+00:00",
          "2022-01-12T02:00:00+00:00",
          "2022-01-12T03:00:00+00:00",
          "2022-01-12T06:00:00+00:00",
          "2022-01-12T07:00:00+00:00",
          "2022-01-12T09:00:00+00:00",
          "2022-01-12T12:00:00+00:00",
          "2022-01-12T13:00:00+00:00",
          "2022-01-12T14:00:00+00:00",
          "2022-01-12T15:00:00+00:00",
          "2022-01-12T16:00:00+00:00",
          "2022-01-12T17:00:00+00:00",
          "2022-01-12T19:00:00+00:00",
          "2022-01-12T20:00:00+00:00",
          "2022-01-12T21:00:00+00:00",
          "2022-01-12T22:00:00+00:00",
          "2022-01-13T03:00:00+00:00",
          "2022-01-13T09:00:00+00:00",
          "2022-01-13T16:00:00+00:00",
          "2022-01-13T18:00:00+00:00",
          "2022-01-13T19:00:00+00:00",
          "2022-01-13T20:00:00+00:00",
          "2022-01-13T21:00:00+00:00",
          "2022-01-13T22:00:00+00:00",
          "2022-01-13T23:00:00+00:00",
          "2022-01-14T00:00:00+00:00",
          "2022-01-14T01:00:00+00:00",
          "2022-01-14T02:00:00+00:00",
          "2022-01-14T06:00:00+00:00",
          "2022-01-14T09:00:00+00:00",
          "2022-01-14T11:00:00+00:00",
          "2022-01-14T12:00:00+00:00",
          "2022-01-14T13:00:00+00:00",
          "2022-01-14T14:00:00+00:00",
          "2022-01-14T15:00:00+00:00",
          "2022-01-14T16:00:00+00:00",
          "2022-01-14T18:00:00+00:00",
          "2022-01-14T21:00:00+00:00",
          "2022-01-16T23:00:00+00:00",
          "2022-01-17T01:00:00+00:00",
          "2022-01-17T02:00:00+00:00",
          "2022-01-17T03:00:00+00:00",
          "2022-01-17T04:00:00+00:00",
          "2022-01-17T08:00:00+00:00",
          "2022-01-17T10:00:00+00:00",
          "2022-01-17T11:00:00+00:00",
          "2022-01-17T12:00:00+00:00",
          "2022-01-17T13:00:00+00:00",
          "2022-01-17T14:00:00+00:00",
          "2022-01-17T23:00:00+00:00",
          "2022-01-18T01:00:00+00:00",
          "2022-01-18T02:00:00+00:00",
          "2022-01-18T05:00:00+00:00",
          "2022-01-18T08:00:00+00:00",
          "2022-01-18T11:00:00+00:00",
          "2022-01-18T12:00:00+00:00",
          "2022-01-18T14:00:00+00:00",
          "2022-01-18T16:00:00+00:00",
          "2022-01-18T17:00:00+00:00",
          "2022-01-18T18:00:00+00:00",
          "2022-01-18T23:00:00+00:00",
          "2022-01-19T01:00:00+00:00",
          "2022-01-19T02:00:00+00:00",
          "2022-01-19T05:00:00+00:00",
          "2022-01-19T06:00:00+00:00",
          "2022-01-19T07:00:00+00:00",
          "2022-01-19T08:00:00+00:00",
          "2022-01-19T10:00:00+00:00",
          "2022-01-19T11:00:00+00:00",
          "2022-01-19T13:00:00+00:00",
          "2022-01-19T14:00:00+00:00",
          "2022-01-19T16:00:00+00:00",
          "2022-01-19T17:00:00+00:00",
          "2022-01-19T19:00:00+00:00",
          "2022-01-19T20:00:00+00:00",
          "2022-01-19T21:00:00+00:00",
          "2022-01-19T22:00:00+00:00",
          "2022-01-19T23:00:00+00:00",
          "2022-01-20T00:00:00+00:00",
          "2022-01-20T01:00:00+00:00",
          "2022-01-20T02:00:00+00:00",
          "2022-01-20T03:00:00+00:00",
          "2022-01-20T04:00:00+00:00",
          "2022-01-20T05:00:00+00:00",
          "2022-01-20T06:00:00+00:00",
          "2022-01-20T07:00:00+00:00",
          "2022-01-20T09:00:00+00:00",
          "2022-01-20T10:00:00+00:00",
          "2022-01-20T11:00:00+00:00",
          "2022-01-20T12:00:00+00:00",
          "2022-01-20T13:00:00+00:00",
          "2022-01-20T14:00:00+00:00",
          "2022-01-20T15:00:00+00:00",
          "2022-01-20T16:00:00+00:00",
          "2022-01-20T17:00:00+00:00",
          "2022-01-20T18:00:00+00:00",
          "2022-01-20T19:00:00+00:00",
          "2022-01-20T21:00:00+00:00",
          "2022-01-20T22:00:00+00:00",
          "2022-01-21T00:00:00+00:00",
          "2022-01-21T01:00:00+00:00",
          "2022-01-21T02:00:00+00:00",
          "2022-01-21T03:00:00+00:00",
          "2022-01-21T04:00:00+00:00",
          "2022-01-21T05:00:00+00:00",
          "2022-01-21T07:00:00+00:00",
          "2022-01-21T10:00:00+00:00",
          "2022-01-21T12:00:00+00:00",
          "2022-01-21T19:00:00+00:00",
          "2022-01-21T21:00:00+00:00",
          "2022-01-24T02:00:00+00:00",
          "2022-01-24T04:00:00+00:00",
          "2022-01-24T06:00:00+00:00",
          "2022-01-24T07:00:00+00:00",
          "2022-01-24T08:00:00+00:00",
          "2022-01-24T09:00:00+00:00",
          "2022-01-24T11:00:00+00:00",
          "2022-01-24T12:00:00+00:00",
          "2022-01-24T15:00:00+00:00",
          "2022-01-24T16:00:00+00:00",
          "2022-01-24T20:00:00+00:00",
          "2022-01-24T22:00:00+00:00",
          "2022-01-25T01:00:00+00:00",
          "2022-01-25T04:00:00+00:00",
          "2022-01-25T06:00:00+00:00",
          "2022-01-25T07:00:00+00:00",
          "2022-01-25T08:00:00+00:00",
          "2022-01-25T09:00:00+00:00",
          "2022-01-25T10:00:00+00:00",
          "2022-01-25T11:00:00+00:00",
          "2022-01-25T12:00:00+00:00",
          "2022-01-25T13:00:00+00:00",
          "2022-01-25T17:00:00+00:00",
          "2022-01-25T18:00:00+00:00",
          "2022-01-25T20:00:00+00:00",
          "2022-01-25T21:00:00+00:00",
          "2022-01-25T22:00:00+00:00",
          "2022-01-26T01:00:00+00:00",
          "2022-01-26T04:00:00+00:00",
          "2022-01-26T06:00:00+00:00",
          "2022-01-26T07:00:00+00:00",
          "2022-01-26T10:00:00+00:00",
          "2022-01-26T11:00:00+00:00",
          "2022-01-26T12:00:00+00:00",
          "2022-01-26T13:00:00+00:00",
          "2022-01-26T18:00:00+00:00",
          "2022-01-26T20:00:00+00:00",
          "2022-01-26T21:00:00+00:00",
          "2022-01-26T22:00:00+00:00",
          "2022-01-27T00:00:00+00:00",
          "2022-01-27T01:00:00+00:00",
          "2022-01-27T02:00:00+00:00",
          "2022-01-27T03:00:00+00:00",
          "2022-01-27T04:00:00+00:00",
          "2022-01-27T06:00:00+00:00",
          "2022-01-27T07:00:00+00:00",
          "2022-01-27T11:00:00+00:00",
          "2022-01-27T12:00:00+00:00",
          "2022-01-27T13:00:00+00:00",
          "2022-01-27T14:00:00+00:00",
          "2022-01-27T15:00:00+00:00",
          "2022-01-27T17:00:00+00:00",
          "2022-01-27T18:00:00+00:00",
          "2022-01-27T21:00:00+00:00",
          "2022-01-27T23:00:00+00:00",
          "2022-01-28T00:00:00+00:00",
          "2022-01-28T02:00:00+00:00",
          "2022-01-28T04:00:00+00:00",
          "2022-01-28T05:00:00+00:00",
          "2022-01-28T09:00:00+00:00",
          "2022-01-28T10:00:00+00:00",
          "2022-01-28T11:00:00+00:00",
          "2022-01-28T15:00:00+00:00",
          "2022-01-28T17:00:00+00:00",
          "2022-01-28T18:00:00+00:00",
          "2022-01-28T19:00:00+00:00",
          "2022-01-28T21:00:00+00:00",
          "2022-01-30T23:00:00+00:00",
          "2022-01-31T02:00:00+00:00",
          "2022-01-31T03:00:00+00:00",
          "2022-01-31T04:00:00+00:00",
          "2022-01-31T06:00:00+00:00",
          "2022-01-31T08:00:00+00:00",
          "2022-01-31T10:00:00+00:00",
          "2022-01-31T14:00:00+00:00",
          "2022-01-31T15:00:00+00:00",
          "2022-01-31T16:00:00+00:00",
          "2022-01-31T18:00:00+00:00",
          "2022-01-31T19:00:00+00:00",
          "2022-01-31T20:00:00+00:00",
          "2022-01-31T21:00:00+00:00",
          "2022-01-31T22:00:00+00:00",
          "2022-01-31T23:00:00+00:00",
          "2022-02-01T00:00:00+00:00",
          "2022-02-01T02:00:00+00:00",
          "2022-02-01T06:00:00+00:00",
          "2022-02-01T07:00:00+00:00",
          "2022-02-01T10:00:00+00:00",
          "2022-02-01T11:00:00+00:00",
          "2022-02-01T14:00:00+00:00",
          "2022-02-01T15:00:00+00:00",
          "2022-02-01T16:00:00+00:00",
          "2022-02-01T19:00:00+00:00",
          "2022-02-01T22:00:00+00:00",
          "2022-02-02T01:00:00+00:00",
          "2022-02-02T10:00:00+00:00",
          "2022-02-02T11:00:00+00:00",
          "2022-02-02T12:00:00+00:00",
          "2022-02-02T13:00:00+00:00",
          "2022-02-02T14:00:00+00:00",
          "2022-02-02T18:00:00+00:00",
          "2022-02-02T19:00:00+00:00",
          "2022-02-02T21:00:00+00:00",
          "2022-02-03T03:00:00+00:00",
          "2022-02-03T04:00:00+00:00",
          "2022-02-03T06:00:00+00:00",
          "2022-02-03T07:00:00+00:00",
          "2022-02-03T08:00:00+00:00",
          "2022-02-03T09:00:00+00:00",
          "2022-02-03T10:00:00+00:00",
          "2022-02-03T12:00:00+00:00",
          "2022-02-03T13:00:00+00:00",
          "2022-02-03T14:00:00+00:00",
          "2022-02-03T16:00:00+00:00",
          "2022-02-03T19:00:00+00:00",
          "2022-02-04T04:00:00+00:00",
          "2022-02-04T08:00:00+00:00",
          "2022-02-04T09:00:00+00:00",
          "2022-02-04T11:00:00+00:00",
          "2022-02-04T12:00:00+00:00",
          "2022-02-04T13:00:00+00:00",
          "2022-02-04T14:00:00+00:00",
          "2022-02-04T17:00:00+00:00",
          "2022-02-04T21:00:00+00:00",
          "2022-02-06T22:00:00+00:00",
          "2022-02-07T00:00:00+00:00",
          "2022-02-07T02:00:00+00:00",
          "2022-02-07T03:00:00+00:00",
          "2022-02-07T06:00:00+00:00",
          "2022-02-07T07:00:00+00:00",
          "2022-02-07T08:00:00+00:00",
          "2022-02-07T09:00:00+00:00",
          "2022-02-07T10:00:00+00:00",
          "2022-02-07T12:00:00+00:00",
          "2022-02-07T14:00:00+00:00",
          "2022-02-07T16:00:00+00:00",
          "2022-02-07T18:00:00+00:00",
          "2022-02-07T19:00:00+00:00",
          "2022-02-07T20:00:00+00:00",
          "2022-02-08T01:00:00+00:00",
          "2022-02-08T02:00:00+00:00",
          "2022-02-08T03:00:00+00:00",
          "2022-02-08T06:00:00+00:00",
          "2022-02-08T07:00:00+00:00",
          "2022-02-08T11:00:00+00:00",
          "2022-02-08T13:00:00+00:00",
          "2022-02-08T14:00:00+00:00",
          "2022-02-08T15:00:00+00:00",
          "2022-02-08T17:00:00+00:00",
          "2022-02-08T21:00:00+00:00",
          "2022-02-08T23:00:00+00:00",
          "2022-02-09T02:00:00+00:00",
          "2022-02-09T03:00:00+00:00",
          "2022-02-09T04:00:00+00:00",
          "2022-02-09T05:00:00+00:00",
          "2022-02-09T07:00:00+00:00",
          "2022-02-09T08:00:00+00:00",
          "2022-02-09T10:00:00+00:00",
          "2022-02-09T12:00:00+00:00",
          "2022-02-09T16:00:00+00:00",
          "2022-02-09T17:00:00+00:00",
          "2022-02-09T19:00:00+00:00",
          "2022-02-09T22:00:00+00:00",
          "2022-02-10T01:00:00+00:00",
          "2022-02-10T03:00:00+00:00",
          "2022-02-10T09:00:00+00:00",
          "2022-02-10T11:00:00+00:00",
          "2022-02-10T12:00:00+00:00",
          "2022-02-10T13:00:00+00:00",
          "2022-02-10T15:00:00+00:00",
          "2022-02-10T16:00:00+00:00",
          "2022-02-10T19:00:00+00:00",
          "2022-02-10T22:00:00+00:00",
          "2022-02-10T23:00:00+00:00",
          "2022-02-11T00:00:00+00:00",
          "2022-02-11T01:00:00+00:00",
          "2022-02-11T02:00:00+00:00",
          "2022-02-11T03:00:00+00:00",
          "2022-02-11T05:00:00+00:00",
          "2022-02-11T06:00:00+00:00",
          "2022-02-11T09:00:00+00:00",
          "2022-02-11T11:00:00+00:00",
          "2022-02-11T12:00:00+00:00",
          "2022-02-11T13:00:00+00:00",
          "2022-02-11T14:00:00+00:00",
          "2022-02-11T15:00:00+00:00",
          "2022-02-11T16:00:00+00:00",
          "2022-02-11T17:00:00+00:00",
          "2022-02-11T18:00:00+00:00",
          "2022-02-11T19:00:00+00:00",
          "2022-02-11T20:00:00+00:00",
          "2022-02-11T21:00:00+00:00",
          "2022-02-13T22:00:00+00:00",
          "2022-02-13T23:00:00+00:00",
          "2022-02-14T01:00:00+00:00",
          "2022-02-14T04:00:00+00:00",
          "2022-02-14T06:00:00+00:00",
          "2022-02-14T17:00:00+00:00",
          "2022-02-14T19:00:00+00:00",
          "2022-02-14T20:00:00+00:00",
          "2022-02-14T22:00:00+00:00",
          "2022-02-14T23:00:00+00:00",
          "2022-02-15T00:00:00+00:00",
          "2022-02-15T02:00:00+00:00",
          "2022-02-15T04:00:00+00:00",
          "2022-02-15T05:00:00+00:00",
          "2022-02-15T06:00:00+00:00",
          "2022-02-15T07:00:00+00:00",
          "2022-02-15T08:00:00+00:00",
          "2022-02-15T09:00:00+00:00",
          "2022-02-15T10:00:00+00:00",
          "2022-02-15T11:00:00+00:00",
          "2022-02-15T12:00:00+00:00",
          "2022-02-15T15:00:00+00:00",
          "2022-02-15T18:00:00+00:00",
          "2022-02-15T22:00:00+00:00",
          "2022-02-15T23:00:00+00:00",
          "2022-02-16T00:00:00+00:00",
          "2022-02-16T03:00:00+00:00",
          "2022-02-16T08:00:00+00:00",
          "2022-02-16T10:00:00+00:00",
          "2022-02-16T12:00:00+00:00",
          "2022-02-16T14:00:00+00:00",
          "2022-02-16T16:00:00+00:00",
          "2022-02-16T17:00:00+00:00",
          "2022-02-16T18:00:00+00:00",
          "2022-02-16T19:00:00+00:00",
          "2022-02-16T20:00:00+00:00",
          "2022-02-17T01:00:00+00:00",
          "2022-02-17T04:00:00+00:00",
          "2022-02-17T05:00:00+00:00",
          "2022-02-17T07:00:00+00:00",
          "2022-02-17T12:00:00+00:00",
          "2022-02-17T17:00:00+00:00",
          "2022-02-17T19:00:00+00:00",
          "2022-02-17T20:00:00+00:00",
          "2022-02-17T22:00:00+00:00",
          "2022-02-17T23:00:00+00:00",
          "2022-02-18T02:00:00+00:00",
          "2022-02-18T04:00:00+00:00",
          "2022-02-18T05:00:00+00:00",
          "2022-02-18T06:00:00+00:00",
          "2022-02-18T07:00:00+00:00",
          "2022-02-18T14:00:00+00:00",
          "2022-02-18T15:00:00+00:00",
          "2022-02-18T16:00:00+00:00",
          "2022-02-18T17:00:00+00:00",
          "2022-02-18T18:00:00+00:00",
          "2022-02-18T19:00:00+00:00",
          "2022-02-18T20:00:00+00:00",
          "2022-02-20T23:00:00+00:00",
          "2022-02-21T04:00:00+00:00",
          "2022-02-21T05:00:00+00:00",
          "2022-02-21T06:00:00+00:00",
          "2022-02-21T07:00:00+00:00",
          "2022-02-21T08:00:00+00:00",
          "2022-02-21T09:00:00+00:00",
          "2022-02-21T10:00:00+00:00",
          "2022-02-21T12:00:00+00:00",
          "2022-02-21T15:00:00+00:00",
          "2022-02-21T18:00:00+00:00",
          "2022-02-21T19:00:00+00:00",
          "2022-02-21T23:00:00+00:00",
          "2022-02-22T00:00:00+00:00",
          "2022-02-22T01:00:00+00:00",
          "2022-02-22T05:00:00+00:00",
          "2022-02-22T07:00:00+00:00",
          "2022-02-22T08:00:00+00:00",
          "2022-02-22T10:00:00+00:00",
          "2022-02-22T11:00:00+00:00",
          "2022-02-22T12:00:00+00:00",
          "2022-02-22T13:00:00+00:00",
          "2022-02-22T14:00:00+00:00",
          "2022-02-22T15:00:00+00:00",
          "2022-02-22T17:00:00+00:00",
          "2022-02-22T21:00:00+00:00",
          "2022-02-22T22:00:00+00:00",
          "2022-02-23T03:00:00+00:00",
          "2022-02-23T07:00:00+00:00",
          "2022-02-23T08:00:00+00:00",
          "2022-02-23T10:00:00+00:00",
          "2022-02-23T11:00:00+00:00",
          "2022-02-23T14:00:00+00:00",
          "2022-02-23T15:00:00+00:00",
          "2022-02-23T16:00:00+00:00",
          "2022-02-23T17:00:00+00:00",
          "2022-02-23T18:00:00+00:00",
          "2022-02-23T19:00:00+00:00",
          "2022-02-23T21:00:00+00:00",
          "2022-02-24T00:00:00+00:00",
          "2022-02-24T01:00:00+00:00",
          "2022-02-24T03:00:00+00:00",
          "2022-02-24T05:00:00+00:00",
          "2022-02-24T07:00:00+00:00",
          "2022-02-24T10:00:00+00:00",
          "2022-02-24T13:00:00+00:00",
          "2022-02-24T14:00:00+00:00",
          "2022-02-24T16:00:00+00:00",
          "2022-02-24T18:00:00+00:00",
          "2022-02-24T19:00:00+00:00",
          "2022-02-24T20:00:00+00:00",
          "2022-02-24T22:00:00+00:00",
          "2022-02-24T23:00:00+00:00",
          "2022-02-25T00:00:00+00:00",
          "2022-02-25T01:00:00+00:00",
          "2022-02-25T05:00:00+00:00",
          "2022-02-25T06:00:00+00:00",
          "2022-02-25T07:00:00+00:00",
          "2022-02-25T08:00:00+00:00",
          "2022-02-25T10:00:00+00:00",
          "2022-02-25T11:00:00+00:00",
          "2022-02-25T13:00:00+00:00",
          "2022-02-25T16:00:00+00:00",
          "2022-02-25T21:00:00+00:00",
          "2022-02-27T22:00:00+00:00",
          "2022-02-27T23:00:00+00:00",
          "2022-02-28T01:00:00+00:00",
          "2022-02-28T02:00:00+00:00",
          "2022-02-28T03:00:00+00:00",
          "2022-02-28T05:00:00+00:00",
          "2022-02-28T06:00:00+00:00",
          "2022-02-28T08:00:00+00:00",
          "2022-02-28T09:00:00+00:00",
          "2022-02-28T11:00:00+00:00",
          "2022-02-28T12:00:00+00:00",
          "2022-02-28T13:00:00+00:00",
          "2022-02-28T15:00:00+00:00",
          "2022-02-28T17:00:00+00:00",
          "2022-03-01T02:00:00+00:00",
          "2022-03-01T04:00:00+00:00",
          "2022-03-01T05:00:00+00:00",
          "2022-03-01T09:00:00+00:00",
          "2022-03-01T12:00:00+00:00",
          "2022-03-01T13:00:00+00:00",
          "2022-03-01T15:00:00+00:00",
          "2022-03-01T17:00:00+00:00",
          "2022-03-01T18:00:00+00:00",
          "2022-03-01T19:00:00+00:00",
          "2022-03-01T21:00:00+00:00",
          "2022-03-02T00:00:00+00:00",
          "2022-03-02T02:00:00+00:00",
          "2022-03-02T04:00:00+00:00",
          "2022-03-02T08:00:00+00:00",
          "2022-03-02T10:00:00+00:00",
          "2022-03-02T13:00:00+00:00",
          "2022-03-02T14:00:00+00:00",
          "2022-03-02T16:00:00+00:00",
          "2022-03-02T17:00:00+00:00",
          "2022-03-02T18:00:00+00:00",
          "2022-03-02T19:00:00+00:00",
          "2022-03-02T23:00:00+00:00",
          "2022-03-03T04:00:00+00:00",
          "2022-03-03T05:00:00+00:00",
          "2022-03-03T07:00:00+00:00",
          "2022-03-03T09:00:00+00:00",
          "2022-03-03T14:00:00+00:00",
          "2022-03-03T15:00:00+00:00",
          "2022-03-03T16:00:00+00:00",
          "2022-03-03T17:00:00+00:00",
          "2022-03-03T18:00:00+00:00",
          "2022-03-03T19:00:00+00:00",
          "2022-03-04T00:00:00+00:00",
          "2022-03-04T05:00:00+00:00",
          "2022-03-04T16:00:00+00:00",
          "2022-03-07T01:00:00+00:00",
          "2022-03-07T03:00:00+00:00",
          "2022-03-07T05:00:00+00:00",
          "2022-03-07T10:00:00+00:00",
          "2022-03-07T13:00:00+00:00",
          "2022-03-07T14:00:00+00:00",
          "2022-03-07T16:00:00+00:00",
          "2022-03-07T18:00:00+00:00",
          "2022-03-07T20:00:00+00:00",
          "2022-03-07T22:00:00+00:00",
          "2022-03-08T01:00:00+00:00",
          "2022-03-08T03:00:00+00:00",
          "2022-03-08T04:00:00+00:00",
          "2022-03-08T06:00:00+00:00",
          "2022-03-08T08:00:00+00:00",
          "2022-03-08T11:00:00+00:00",
          "2022-03-08T12:00:00+00:00",
          "2022-03-08T13:00:00+00:00",
          "2022-03-08T14:00:00+00:00",
          "2022-03-08T16:00:00+00:00",
          "2022-03-08T17:00:00+00:00",
          "2022-03-08T21:00:00+00:00",
          "2022-03-09T05:00:00+00:00",
          "2022-03-09T06:00:00+00:00",
          "2022-03-09T07:00:00+00:00",
          "2022-03-09T08:00:00+00:00",
          "2022-03-09T10:00:00+00:00",
          "2022-03-09T11:00:00+00:00",
          "2022-03-09T12:00:00+00:00",
          "2022-03-09T13:00:00+00:00",
          "2022-03-09T19:00:00+00:00",
          "2022-03-09T20:00:00+00:00",
          "2022-03-10T01:00:00+00:00",
          "2022-03-10T03:00:00+00:00",
          "2022-03-10T08:00:00+00:00",
          "2022-03-10T10:00:00+00:00",
          "2022-03-10T11:00:00+00:00",
          "2022-03-10T13:00:00+00:00",
          "2022-03-10T14:00:00+00:00",
          "2022-03-10T15:00:00+00:00",
          "2022-03-10T16:00:00+00:00",
          "2022-03-10T17:00:00+00:00",
          "2022-03-10T18:00:00+00:00",
          "2022-03-10T19:00:00+00:00",
          "2022-03-10T20:00:00+00:00",
          "2022-03-11T00:00:00+00:00",
          "2022-03-11T01:00:00+00:00",
          "2022-03-11T04:00:00+00:00",
          "2022-03-11T06:00:00+00:00",
          "2022-03-11T08:00:00+00:00",
          "2022-03-11T15:00:00+00:00",
          "2022-03-11T16:00:00+00:00",
          "2022-03-13T21:00:00+00:00",
          "2022-03-13T22:00:00+00:00",
          "2022-03-13T23:00:00+00:00",
          "2022-03-14T00:00:00+00:00",
          "2022-03-14T05:00:00+00:00",
          "2022-03-14T09:00:00+00:00",
          "2022-03-14T10:00:00+00:00",
          "2022-03-14T11:00:00+00:00",
          "2022-03-14T13:00:00+00:00",
          "2022-03-14T16:00:00+00:00",
          "2022-03-14T20:00:00+00:00",
          "2022-03-14T22:00:00+00:00",
          "2022-03-15T07:00:00+00:00",
          "2022-03-15T11:00:00+00:00",
          "2022-03-15T12:00:00+00:00",
          "2022-03-15T13:00:00+00:00",
          "2022-03-15T14:00:00+00:00",
          "2022-03-15T16:00:00+00:00",
          "2022-03-15T17:00:00+00:00",
          "2022-03-15T18:00:00+00:00",
          "2022-03-15T19:00:00+00:00",
          "2022-03-15T20:00:00+00:00",
          "2022-03-15T21:00:00+00:00",
          "2022-03-16T01:00:00+00:00",
          "2022-03-16T04:00:00+00:00",
          "2022-03-16T06:00:00+00:00",
          "2022-03-16T08:00:00+00:00",
          "2022-03-16T09:00:00+00:00",
          "2022-03-16T10:00:00+00:00",
          "2022-03-16T11:00:00+00:00",
          "2022-03-16T13:00:00+00:00",
          "2022-03-16T16:00:00+00:00",
          "2022-03-16T17:00:00+00:00",
          "2022-03-16T20:00:00+00:00",
          "2022-03-16T21:00:00+00:00",
          "2022-03-17T02:00:00+00:00",
          "2022-03-17T09:00:00+00:00",
          "2022-03-17T11:00:00+00:00",
          "2022-03-17T12:00:00+00:00",
          "2022-03-17T13:00:00+00:00",
          "2022-03-17T14:00:00+00:00",
          "2022-03-17T16:00:00+00:00",
          "2022-03-17T17:00:00+00:00",
          "2022-03-17T19:00:00+00:00",
          "2022-03-18T01:00:00+00:00",
          "2022-03-18T02:00:00+00:00",
          "2022-03-18T03:00:00+00:00",
          "2022-03-18T04:00:00+00:00",
          "2022-03-18T05:00:00+00:00",
          "2022-03-18T09:00:00+00:00",
          "2022-03-18T10:00:00+00:00",
          "2022-03-18T11:00:00+00:00",
          "2022-03-18T13:00:00+00:00",
          "2022-03-18T14:00:00+00:00",
          "2022-03-18T16:00:00+00:00",
          "2022-03-18T18:00:00+00:00",
          "2022-03-18T19:00:00+00:00",
          "2022-03-21T01:00:00+00:00",
          "2022-03-21T06:00:00+00:00",
          "2022-03-21T08:00:00+00:00",
          "2022-03-21T10:00:00+00:00",
          "2022-03-21T11:00:00+00:00",
          "2022-03-21T12:00:00+00:00",
          "2022-03-21T14:00:00+00:00",
          "2022-03-21T15:00:00+00:00",
          "2022-03-21T16:00:00+00:00",
          "2022-03-21T19:00:00+00:00",
          "2022-03-21T20:00:00+00:00",
          "2022-03-21T22:00:00+00:00",
          "2022-03-22T00:00:00+00:00",
          "2022-03-22T01:00:00+00:00",
          "2022-03-22T04:00:00+00:00",
          "2022-03-22T09:00:00+00:00",
          "2022-03-22T10:00:00+00:00",
          "2022-03-22T11:00:00+00:00",
          "2022-03-22T15:00:00+00:00",
          "2022-03-22T16:00:00+00:00",
          "2022-03-22T17:00:00+00:00",
          "2022-03-22T19:00:00+00:00",
          "2022-03-22T23:00:00+00:00",
          "2022-03-23T07:00:00+00:00",
          "2022-03-23T09:00:00+00:00",
          "2022-03-23T10:00:00+00:00",
          "2022-03-23T11:00:00+00:00",
          "2022-03-23T12:00:00+00:00",
          "2022-03-23T13:00:00+00:00",
          "2022-03-23T14:00:00+00:00",
          "2022-03-23T17:00:00+00:00",
          "2022-03-23T18:00:00+00:00",
          "2022-03-23T19:00:00+00:00",
          "2022-03-23T22:00:00+00:00",
          "2022-03-24T02:00:00+00:00",
          "2022-03-24T04:00:00+00:00",
          "2022-03-24T06:00:00+00:00",
          "2022-03-24T07:00:00+00:00",
          "2022-03-24T08:00:00+00:00",
          "2022-03-24T09:00:00+00:00",
          "2022-03-24T11:00:00+00:00",
          "2022-03-24T13:00:00+00:00",
          "2022-03-24T19:00:00+00:00",
          "2022-03-24T20:00:00+00:00",
          "2022-03-25T01:00:00+00:00",
          "2022-03-25T02:00:00+00:00",
          "2022-03-25T04:00:00+00:00",
          "2022-03-25T07:00:00+00:00",
          "2022-03-25T09:00:00+00:00",
          "2022-03-25T10:00:00+00:00",
          "2022-03-25T12:00:00+00:00",
          "2022-03-25T13:00:00+00:00",
          "2022-03-25T14:00:00+00:00",
          "2022-03-25T15:00:00+00:00",
          "2022-03-25T16:00:00+00:00",
          "2022-03-25T17:00:00+00:00",
          "2022-03-25T18:00:00+00:00",
          "2022-03-25T19:00:00+00:00",
          "2022-03-25T20:00:00+00:00",
          "2022-03-27T22:00:00+00:00",
          "2022-03-27T23:00:00+00:00",
          "2022-03-28T02:00:00+00:00",
          "2022-03-28T10:00:00+00:00",
          "2022-03-28T11:00:00+00:00",
          "2022-03-28T14:00:00+00:00",
          "2022-03-28T15:00:00+00:00",
          "2022-03-28T16:00:00+00:00",
          "2022-03-28T18:00:00+00:00",
          "2022-03-28T19:00:00+00:00",
          "2022-03-29T01:00:00+00:00",
          "2022-03-29T02:00:00+00:00",
          "2022-03-29T03:00:00+00:00",
          "2022-03-29T04:00:00+00:00",
          "2022-03-29T06:00:00+00:00",
          "2022-03-29T07:00:00+00:00",
          "2022-03-29T08:00:00+00:00",
          "2022-03-29T09:00:00+00:00",
          "2022-03-29T10:00:00+00:00",
          "2022-03-29T11:00:00+00:00",
          "2022-03-29T12:00:00+00:00",
          "2022-03-29T13:00:00+00:00",
          "2022-03-29T14:00:00+00:00",
          "2022-03-29T15:00:00+00:00",
          "2022-03-29T16:00:00+00:00",
          "2022-03-29T17:00:00+00:00",
          "2022-03-29T20:00:00+00:00",
          "2022-03-29T22:00:00+00:00",
          "2022-03-29T23:00:00+00:00",
          "2022-03-30T03:00:00+00:00",
          "2022-03-30T04:00:00+00:00",
          "2022-03-30T05:00:00+00:00",
          "2022-03-30T09:00:00+00:00",
          "2022-03-30T11:00:00+00:00",
          "2022-03-30T15:00:00+00:00",
          "2022-03-30T19:00:00+00:00",
          "2022-03-30T20:00:00+00:00",
          "2022-03-30T22:00:00+00:00",
          "2022-03-31T01:00:00+00:00",
          "2022-03-31T02:00:00+00:00",
          "2022-03-31T03:00:00+00:00",
          "2022-03-31T04:00:00+00:00",
          "2022-03-31T05:00:00+00:00",
          "2022-03-31T06:00:00+00:00",
          "2022-03-31T09:00:00+00:00",
          "2022-03-31T10:00:00+00:00",
          "2022-03-31T11:00:00+00:00",
          "2022-03-31T12:00:00+00:00",
          "2022-03-31T13:00:00+00:00",
          "2022-03-31T15:00:00+00:00",
          "2022-03-31T17:00:00+00:00",
          "2022-03-31T19:00:00+00:00",
          "2022-04-01T00:00:00+00:00",
          "2022-04-01T01:00:00+00:00",
          "2022-04-01T02:00:00+00:00",
          "2022-04-01T04:00:00+00:00",
          "2022-04-01T05:00:00+00:00",
          "2022-04-01T06:00:00+00:00",
          "2022-04-01T11:00:00+00:00",
          "2022-04-01T13:00:00+00:00",
          "2022-04-01T14:00:00+00:00",
          "2022-04-01T17:00:00+00:00",
          "2022-04-01T18:00:00+00:00",
          "2022-04-01T19:00:00+00:00",
          "2022-04-01T20:00:00+00:00",
          "2022-04-03T21:00:00+00:00",
          "2022-04-03T23:00:00+00:00",
          "2022-04-04T01:00:00+00:00",
          "2022-04-04T02:00:00+00:00",
          "2022-04-04T05:00:00+00:00",
          "2022-04-04T06:00:00+00:00",
          "2022-04-04T07:00:00+00:00",
          "2022-04-04T09:00:00+00:00",
          "2022-04-04T11:00:00+00:00",
          "2022-04-04T16:00:00+00:00",
          "2022-04-04T17:00:00+00:00",
          "2022-04-04T19:00:00+00:00",
          "2022-04-04T20:00:00+00:00",
          "2022-04-04T21:00:00+00:00",
          "2022-04-04T22:00:00+00:00",
          "2022-04-05T00:00:00+00:00",
          "2022-04-05T03:00:00+00:00",
          "2022-04-05T04:00:00+00:00",
          "2022-04-05T08:00:00+00:00",
          "2022-04-05T10:00:00+00:00",
          "2022-04-05T11:00:00+00:00",
          "2022-04-05T14:00:00+00:00",
          "2022-04-05T16:00:00+00:00",
          "2022-04-05T18:00:00+00:00",
          "2022-04-05T19:00:00+00:00",
          "2022-04-05T21:00:00+00:00",
          "2022-04-05T22:00:00+00:00",
          "2022-04-06T00:00:00+00:00",
          "2022-04-06T01:00:00+00:00",
          "2022-04-06T07:00:00+00:00",
          "2022-04-06T08:00:00+00:00",
          "2022-04-06T09:00:00+00:00",
          "2022-04-06T10:00:00+00:00",
          "2022-04-06T11:00:00+00:00",
          "2022-04-06T12:00:00+00:00",
          "2022-04-06T15:00:00+00:00",
          "2022-04-06T17:00:00+00:00",
          "2022-04-06T18:00:00+00:00",
          "2022-04-06T20:00:00+00:00",
          "2022-04-06T21:00:00+00:00",
          "2022-04-06T22:00:00+00:00",
          "2022-04-07T00:00:00+00:00",
          "2022-04-07T01:00:00+00:00",
          "2022-04-07T04:00:00+00:00",
          "2022-04-07T05:00:00+00:00",
          "2022-04-07T07:00:00+00:00",
          "2022-04-07T08:00:00+00:00",
          "2022-04-07T09:00:00+00:00",
          "2022-04-07T10:00:00+00:00",
          "2022-04-07T11:00:00+00:00",
          "2022-04-07T12:00:00+00:00",
          "2022-04-07T13:00:00+00:00",
          "2022-04-07T14:00:00+00:00",
          "2022-04-07T16:00:00+00:00",
          "2022-04-07T18:00:00+00:00",
          "2022-04-07T19:00:00+00:00",
          "2022-04-07T20:00:00+00:00",
          "2022-04-07T23:00:00+00:00",
          "2022-04-08T00:00:00+00:00",
          "2022-04-08T02:00:00+00:00",
          "2022-04-08T04:00:00+00:00",
          "2022-04-08T07:00:00+00:00",
          "2022-04-08T08:00:00+00:00",
          "2022-04-08T09:00:00+00:00",
          "2022-04-08T10:00:00+00:00",
          "2022-04-08T11:00:00+00:00",
          "2022-04-08T12:00:00+00:00",
          "2022-04-08T18:00:00+00:00",
          "2022-04-08T19:00:00+00:00",
          "2022-04-08T20:00:00+00:00",
          "2022-04-10T21:00:00+00:00",
          "2022-04-10T22:00:00+00:00",
          "2022-04-10T23:00:00+00:00",
          "2022-04-11T03:00:00+00:00",
          "2022-04-11T05:00:00+00:00",
          "2022-04-11T10:00:00+00:00",
          "2022-04-11T12:00:00+00:00",
          "2022-04-11T13:00:00+00:00",
          "2022-04-11T14:00:00+00:00",
          "2022-04-11T16:00:00+00:00",
          "2022-04-11T18:00:00+00:00",
          "2022-04-11T20:00:00+00:00",
          "2022-04-11T22:00:00+00:00",
          "2022-04-12T01:00:00+00:00",
          "2022-04-12T04:00:00+00:00",
          "2022-04-12T06:00:00+00:00",
          "2022-04-12T08:00:00+00:00",
          "2022-04-12T09:00:00+00:00",
          "2022-04-12T11:00:00+00:00",
          "2022-04-12T12:00:00+00:00",
          "2022-04-12T14:00:00+00:00",
          "2022-04-12T15:00:00+00:00",
          "2022-04-12T16:00:00+00:00",
          "2022-04-12T17:00:00+00:00",
          "2022-04-12T20:00:00+00:00",
          "2022-04-12T21:00:00+00:00",
          "2022-04-13T00:00:00+00:00",
          "2022-04-13T01:00:00+00:00",
          "2022-04-13T02:00:00+00:00",
          "2022-04-13T05:00:00+00:00",
          "2022-04-13T06:00:00+00:00",
          "2022-04-13T07:00:00+00:00",
          "2022-04-13T08:00:00+00:00",
          "2022-04-13T10:00:00+00:00",
          "2022-04-13T12:00:00+00:00",
          "2022-04-13T13:00:00+00:00",
          "2022-04-13T14:00:00+00:00",
          "2022-04-13T15:00:00+00:00",
          "2022-04-13T17:00:00+00:00",
          "2022-04-13T20:00:00+00:00",
          "2022-04-13T22:00:00+00:00",
          "2022-04-14T03:00:00+00:00",
          "2022-04-14T04:00:00+00:00",
          "2022-04-14T06:00:00+00:00",
          "2022-04-14T08:00:00+00:00",
          "2022-04-14T10:00:00+00:00",
          "2022-04-14T11:00:00+00:00",
          "2022-04-14T12:00:00+00:00",
          "2022-04-14T13:00:00+00:00",
          "2022-04-14T14:00:00+00:00",
          "2022-04-14T16:00:00+00:00",
          "2022-04-14T17:00:00+00:00",
          "2022-04-14T21:00:00+00:00",
          "2022-04-14T23:00:00+00:00",
          "2022-04-15T01:00:00+00:00",
          "2022-04-15T02:00:00+00:00",
          "2022-04-15T04:00:00+00:00",
          "2022-04-15T06:00:00+00:00",
          "2022-04-15T10:00:00+00:00",
          "2022-04-15T17:00:00+00:00",
          "2022-04-15T18:00:00+00:00",
          "2022-04-15T19:00:00+00:00",
          "2022-04-15T20:00:00+00:00",
          "2022-04-17T21:00:00+00:00",
          "2022-04-17T23:00:00+00:00",
          "2022-04-18T04:00:00+00:00",
          "2022-04-18T05:00:00+00:00",
          "2022-04-18T08:00:00+00:00",
          "2022-04-18T09:00:00+00:00",
          "2022-04-18T10:00:00+00:00",
          "2022-04-18T12:00:00+00:00",
          "2022-04-18T13:00:00+00:00",
          "2022-04-18T15:00:00+00:00",
          "2022-04-18T16:00:00+00:00",
          "2022-04-18T17:00:00+00:00",
          "2022-04-18T18:00:00+00:00",
          "2022-04-18T19:00:00+00:00",
          "2022-04-18T22:00:00+00:00",
          "2022-04-19T01:00:00+00:00",
          "2022-04-19T02:00:00+00:00",
          "2022-04-19T03:00:00+00:00",
          "2022-04-19T05:00:00+00:00",
          "2022-04-19T06:00:00+00:00",
          "2022-04-19T07:00:00+00:00",
          "2022-04-19T10:00:00+00:00",
          "2022-04-19T11:00:00+00:00",
          "2022-04-19T13:00:00+00:00",
          "2022-04-19T15:00:00+00:00",
          "2022-04-19T16:00:00+00:00",
          "2022-04-19T17:00:00+00:00",
          "2022-04-20T00:00:00+00:00",
          "2022-04-20T01:00:00+00:00",
          "2022-04-20T04:00:00+00:00",
          "2022-04-20T06:00:00+00:00",
          "2022-04-20T08:00:00+00:00",
          "2022-04-20T09:00:00+00:00",
          "2022-04-20T10:00:00+00:00",
          "2022-04-20T12:00:00+00:00",
          "2022-04-20T13:00:00+00:00",
          "2022-04-20T14:00:00+00:00",
          "2022-04-20T16:00:00+00:00",
          "2022-04-20T18:00:00+00:00",
          "2022-04-20T23:00:00+00:00",
          "2022-04-21T01:00:00+00:00",
          "2022-04-21T03:00:00+00:00",
          "2022-04-21T04:00:00+00:00",
          "2022-04-21T05:00:00+00:00",
          "2022-04-21T06:00:00+00:00",
          "2022-04-21T07:00:00+00:00",
          "2022-04-21T10:00:00+00:00",
          "2022-04-21T11:00:00+00:00",
          "2022-04-21T13:00:00+00:00",
          "2022-04-21T14:00:00+00:00",
          "2022-04-21T15:00:00+00:00",
          "2022-04-21T16:00:00+00:00",
          "2022-04-21T17:00:00+00:00",
          "2022-04-21T18:00:00+00:00",
          "2022-04-21T19:00:00+00:00",
          "2022-04-21T20:00:00+00:00",
          "2022-04-21T23:00:00+00:00",
          "2022-04-22T02:00:00+00:00",
          "2022-04-22T04:00:00+00:00",
          "2022-04-22T05:00:00+00:00",
          "2022-04-22T07:00:00+00:00",
          "2022-04-22T08:00:00+00:00",
          "2022-04-22T10:00:00+00:00",
          "2022-04-22T12:00:00+00:00",
          "2022-04-22T13:00:00+00:00",
          "2022-04-22T14:00:00+00:00",
          "2022-04-25T03:00:00+00:00",
          "2022-04-25T07:00:00+00:00",
          "2022-04-25T08:00:00+00:00",
          "2022-04-25T09:00:00+00:00",
          "2022-04-25T13:00:00+00:00",
          "2022-04-25T17:00:00+00:00",
          "2022-04-25T20:00:00+00:00",
          "2022-04-25T21:00:00+00:00",
          "2022-04-25T23:00:00+00:00",
          "2022-04-26T00:00:00+00:00",
          "2022-04-26T04:00:00+00:00",
          "2022-04-26T06:00:00+00:00",
          "2022-04-26T07:00:00+00:00",
          "2022-04-26T10:00:00+00:00",
          "2022-04-26T12:00:00+00:00",
          "2022-04-26T13:00:00+00:00",
          "2022-04-26T15:00:00+00:00",
          "2022-04-26T16:00:00+00:00",
          "2022-04-26T20:00:00+00:00",
          "2022-04-26T21:00:00+00:00",
          "2022-04-27T00:00:00+00:00",
          "2022-04-27T02:00:00+00:00",
          "2022-04-27T05:00:00+00:00",
          "2022-04-27T06:00:00+00:00",
          "2022-04-27T10:00:00+00:00",
          "2022-04-27T11:00:00+00:00",
          "2022-04-27T12:00:00+00:00",
          "2022-04-27T13:00:00+00:00",
          "2022-04-27T14:00:00+00:00",
          "2022-04-27T16:00:00+00:00",
          "2022-04-27T21:00:00+00:00",
          "2022-04-28T01:00:00+00:00",
          "2022-04-28T02:00:00+00:00",
          "2022-04-28T03:00:00+00:00",
          "2022-04-28T05:00:00+00:00",
          "2022-04-28T12:00:00+00:00",
          "2022-04-28T13:00:00+00:00",
          "2022-04-28T19:00:00+00:00",
          "2022-04-28T20:00:00+00:00",
          "2022-04-29T03:00:00+00:00",
          "2022-04-29T05:00:00+00:00",
          "2022-04-29T06:00:00+00:00",
          "2022-04-29T07:00:00+00:00",
          "2022-04-29T08:00:00+00:00",
          "2022-04-29T09:00:00+00:00",
          "2022-04-29T10:00:00+00:00",
          "2022-04-29T12:00:00+00:00",
          "2022-04-29T14:00:00+00:00",
          "2022-04-29T16:00:00+00:00",
          "2022-04-29T18:00:00+00:00",
          "2022-04-29T19:00:00+00:00",
          "2022-05-01T22:00:00+00:00",
          "2022-05-02T03:00:00+00:00",
          "2022-05-02T05:00:00+00:00",
          "2022-05-02T11:00:00+00:00",
          "2022-05-02T12:00:00+00:00",
          "2022-05-02T13:00:00+00:00",
          "2022-05-02T14:00:00+00:00",
          "2022-05-02T16:00:00+00:00",
          "2022-05-02T19:00:00+00:00",
          "2022-05-02T20:00:00+00:00",
          "2022-05-02T22:00:00+00:00",
          "2022-05-02T23:00:00+00:00",
          "2022-05-03T01:00:00+00:00",
          "2022-05-03T02:00:00+00:00",
          "2022-05-03T04:00:00+00:00",
          "2022-05-03T08:00:00+00:00",
          "2022-05-03T10:00:00+00:00",
          "2022-05-03T11:00:00+00:00",
          "2022-05-03T12:00:00+00:00",
          "2022-05-03T13:00:00+00:00",
          "2022-05-03T14:00:00+00:00",
          "2022-05-03T15:00:00+00:00",
          "2022-05-03T16:00:00+00:00",
          "2022-05-03T17:00:00+00:00",
          "2022-05-03T18:00:00+00:00",
          "2022-05-03T19:00:00+00:00",
          "2022-05-03T20:00:00+00:00",
          "2022-05-03T21:00:00+00:00",
          "2022-05-03T22:00:00+00:00",
          "2022-05-03T23:00:00+00:00",
          "2022-05-04T00:00:00+00:00",
          "2022-05-04T01:00:00+00:00",
          "2022-05-04T05:00:00+00:00",
          "2022-05-04T07:00:00+00:00",
          "2022-05-04T08:00:00+00:00",
          "2022-05-04T11:00:00+00:00",
          "2022-05-04T12:00:00+00:00",
          "2022-05-04T14:00:00+00:00",
          "2022-05-04T17:00:00+00:00",
          "2022-05-04T18:00:00+00:00",
          "2022-05-04T19:00:00+00:00",
          "2022-05-04T20:00:00+00:00",
          "2022-05-04T21:00:00+00:00",
          "2022-05-05T00:00:00+00:00",
          "2022-05-05T01:00:00+00:00",
          "2022-05-05T02:00:00+00:00",
          "2022-05-05T03:00:00+00:00",
          "2022-05-05T04:00:00+00:00",
          "2022-05-05T05:00:00+00:00",
          "2022-05-05T06:00:00+00:00",
          "2022-05-05T07:00:00+00:00",
          "2022-05-05T09:00:00+00:00",
          "2022-05-05T10:00:00+00:00",
          "2022-05-05T11:00:00+00:00",
          "2022-05-05T12:00:00+00:00",
          "2022-05-05T13:00:00+00:00",
          "2022-05-05T14:00:00+00:00",
          "2022-05-05T15:00:00+00:00",
          "2022-05-05T17:00:00+00:00",
          "2022-05-05T18:00:00+00:00",
          "2022-05-05T19:00:00+00:00",
          "2022-05-05T20:00:00+00:00",
          "2022-05-05T21:00:00+00:00",
          "2022-05-06T00:00:00+00:00",
          "2022-05-06T03:00:00+00:00",
          "2022-05-06T04:00:00+00:00",
          "2022-05-06T05:00:00+00:00",
          "2022-05-06T07:00:00+00:00",
          "2022-05-06T10:00:00+00:00",
          "2022-05-06T11:00:00+00:00",
          "2022-05-06T12:00:00+00:00",
          "2022-05-06T13:00:00+00:00",
          "2022-05-06T14:00:00+00:00",
          "2022-05-06T15:00:00+00:00",
          "2022-05-06T16:00:00+00:00",
          "2022-05-06T18:00:00+00:00",
          "2022-05-06T19:00:00+00:00",
          "2022-05-08T21:00:00+00:00",
          "2022-05-08T22:00:00+00:00",
          "2022-05-09T00:00:00+00:00",
          "2022-05-09T02:00:00+00:00",
          "2022-05-09T03:00:00+00:00",
          "2022-05-09T08:00:00+00:00",
          "2022-05-09T10:00:00+00:00",
          "2022-05-09T12:00:00+00:00",
          "2022-05-09T14:00:00+00:00",
          "2022-05-09T15:00:00+00:00",
          "2022-05-09T16:00:00+00:00",
          "2022-05-09T17:00:00+00:00",
          "2022-05-09T18:00:00+00:00",
          "2022-05-09T19:00:00+00:00",
          "2022-05-10T05:00:00+00:00",
          "2022-05-10T06:00:00+00:00",
          "2022-05-10T08:00:00+00:00",
          "2022-05-10T09:00:00+00:00",
          "2022-05-10T10:00:00+00:00",
          "2022-05-10T12:00:00+00:00",
          "2022-05-10T13:00:00+00:00",
          "2022-05-10T14:00:00+00:00",
          "2022-05-10T15:00:00+00:00",
          "2022-05-10T16:00:00+00:00",
          "2022-05-10T17:00:00+00:00",
          "2022-05-10T20:00:00+00:00",
          "2022-05-10T21:00:00+00:00",
          "2022-05-10T22:00:00+00:00",
          "2022-05-11T00:00:00+00:00",
          "2022-05-11T02:00:00+00:00",
          "2022-05-11T04:00:00+00:00",
          "2022-05-11T05:00:00+00:00",
          "2022-05-11T06:00:00+00:00",
          "2022-05-11T07:00:00+00:00",
          "2022-05-11T08:00:00+00:00",
          "2022-05-11T09:00:00+00:00",
          "2022-05-11T10:00:00+00:00",
          "2022-05-11T11:00:00+00:00",
          "2022-05-11T13:00:00+00:00",
          "2022-05-11T16:00:00+00:00",
          "2022-05-11T17:00:00+00:00",
          "2022-05-11T18:00:00+00:00",
          "2022-05-11T19:00:00+00:00",
          "2022-05-11T20:00:00+00:00",
          "2022-05-11T21:00:00+00:00",
          "2022-05-11T22:00:00+00:00",
          "2022-05-11T23:00:00+00:00",
          "2022-05-12T04:00:00+00:00",
          "2022-05-12T05:00:00+00:00",
          "2022-05-12T08:00:00+00:00",
          "2022-05-12T09:00:00+00:00",
          "2022-05-12T13:00:00+00:00",
          "2022-05-12T15:00:00+00:00",
          "2022-05-12T17:00:00+00:00",
          "2022-05-12T20:00:00+00:00",
          "2022-05-13T04:00:00+00:00",
          "2022-05-13T06:00:00+00:00",
          "2022-05-13T07:00:00+00:00",
          "2022-05-13T08:00:00+00:00",
          "2022-05-13T10:00:00+00:00",
          "2022-05-13T11:00:00+00:00",
          "2022-05-13T13:00:00+00:00",
          "2022-05-13T14:00:00+00:00",
          "2022-05-13T17:00:00+00:00",
          "2022-05-13T18:00:00+00:00",
          "2022-05-13T19:00:00+00:00",
          "2022-05-15T22:00:00+00:00",
          "2022-05-15T23:00:00+00:00",
          "2022-05-16T04:00:00+00:00",
          "2022-05-16T06:00:00+00:00",
          "2022-05-16T07:00:00+00:00",
          "2022-05-16T09:00:00+00:00",
          "2022-05-16T10:00:00+00:00",
          "2022-05-16T11:00:00+00:00",
          "2022-05-16T12:00:00+00:00",
          "2022-05-16T13:00:00+00:00",
          "2022-05-16T14:00:00+00:00",
          "2022-05-16T16:00:00+00:00",
          "2022-05-16T17:00:00+00:00",
          "2022-05-16T20:00:00+00:00",
          "2022-05-16T21:00:00+00:00",
          "2022-05-16T22:00:00+00:00",
          "2022-05-16T23:00:00+00:00",
          "2022-05-17T05:00:00+00:00",
          "2022-05-17T06:00:00+00:00",
          "2022-05-17T09:00:00+00:00",
          "2022-05-17T10:00:00+00:00",
          "2022-05-17T12:00:00+00:00",
          "2022-05-17T16:00:00+00:00",
          "2022-05-18T03:00:00+00:00",
          "2022-05-18T05:00:00+00:00",
          "2022-05-18T07:00:00+00:00",
          "2022-05-18T08:00:00+00:00",
          "2022-05-18T09:00:00+00:00",
          "2022-05-18T10:00:00+00:00",
          "2022-05-18T11:00:00+00:00",
          "2022-05-18T13:00:00+00:00",
          "2022-05-18T14:00:00+00:00",
          "2022-05-18T15:00:00+00:00",
          "2022-05-18T16:00:00+00:00",
          "2022-05-18T19:00:00+00:00",
          "2022-05-19T00:00:00+00:00",
          "2022-05-19T02:00:00+00:00",
          "2022-05-19T04:00:00+00:00",
          "2022-05-19T07:00:00+00:00",
          "2022-05-19T08:00:00+00:00",
          "2022-05-19T09:00:00+00:00",
          "2022-05-19T11:00:00+00:00",
          "2022-05-19T13:00:00+00:00",
          "2022-05-19T16:00:00+00:00",
          "2022-05-19T17:00:00+00:00",
          "2022-05-19T21:00:00+00:00",
          "2022-05-20T01:00:00+00:00",
          "2022-05-20T02:00:00+00:00",
          "2022-05-20T03:00:00+00:00",
          "2022-05-20T06:00:00+00:00",
          "2022-05-20T11:00:00+00:00",
          "2022-05-20T12:00:00+00:00",
          "2022-05-20T13:00:00+00:00",
          "2022-05-20T15:00:00+00:00",
          "2022-05-20T16:00:00+00:00",
          "2022-05-20T17:00:00+00:00",
          "2022-05-20T18:00:00+00:00",
          "2022-05-20T19:00:00+00:00",
          "2022-05-22T21:00:00+00:00",
          "2022-05-22T22:00:00+00:00",
          "2022-05-22T23:00:00+00:00",
          "2022-05-23T00:00:00+00:00",
          "2022-05-23T02:00:00+00:00",
          "2022-05-23T04:00:00+00:00",
          "2022-05-23T05:00:00+00:00",
          "2022-05-23T08:00:00+00:00",
          "2022-05-23T09:00:00+00:00",
          "2022-05-23T11:00:00+00:00",
          "2022-05-23T12:00:00+00:00",
          "2022-05-23T14:00:00+00:00",
          "2022-05-23T15:00:00+00:00",
          "2022-05-23T17:00:00+00:00",
          "2022-05-23T18:00:00+00:00",
          "2022-05-23T22:00:00+00:00",
          "2022-05-24T00:00:00+00:00",
          "2022-05-24T02:00:00+00:00",
          "2022-05-24T03:00:00+00:00",
          "2022-05-24T04:00:00+00:00",
          "2022-05-24T06:00:00+00:00",
          "2022-05-24T08:00:00+00:00",
          "2022-05-24T09:00:00+00:00",
          "2022-05-24T12:00:00+00:00",
          "2022-05-24T14:00:00+00:00",
          "2022-05-24T17:00:00+00:00",
          "2022-05-24T18:00:00+00:00",
          "2022-05-24T20:00:00+00:00",
          "2022-05-25T03:00:00+00:00",
          "2022-05-25T04:00:00+00:00",
          "2022-05-25T07:00:00+00:00",
          "2022-05-25T08:00:00+00:00",
          "2022-05-25T10:00:00+00:00",
          "2022-05-25T11:00:00+00:00",
          "2022-05-25T14:00:00+00:00",
          "2022-05-25T15:00:00+00:00",
          "2022-05-25T16:00:00+00:00",
          "2022-05-25T17:00:00+00:00",
          "2022-05-25T18:00:00+00:00",
          "2022-05-25T20:00:00+00:00",
          "2022-05-25T21:00:00+00:00",
          "2022-05-26T00:00:00+00:00",
          "2022-05-26T04:00:00+00:00",
          "2022-05-26T05:00:00+00:00",
          "2022-05-26T06:00:00+00:00",
          "2022-05-26T07:00:00+00:00",
          "2022-05-26T08:00:00+00:00",
          "2022-05-26T09:00:00+00:00",
          "2022-05-26T11:00:00+00:00",
          "2022-05-26T12:00:00+00:00",
          "2022-05-26T13:00:00+00:00",
          "2022-05-26T14:00:00+00:00",
          "2022-05-26T15:00:00+00:00",
          "2022-05-26T16:00:00+00:00",
          "2022-05-26T17:00:00+00:00",
          "2022-05-26T18:00:00+00:00",
          "2022-05-26T21:00:00+00:00",
          "2022-05-26T22:00:00+00:00",
          "2022-05-27T01:00:00+00:00",
          "2022-05-27T03:00:00+00:00",
          "2022-05-27T04:00:00+00:00",
          "2022-05-27T05:00:00+00:00",
          "2022-05-27T08:00:00+00:00",
          "2022-05-27T12:00:00+00:00",
          "2022-05-27T13:00:00+00:00",
          "2022-05-27T14:00:00+00:00",
          "2022-05-27T15:00:00+00:00",
          "2022-05-27T18:00:00+00:00",
          "2022-05-27T19:00:00+00:00",
          "2022-05-29T22:00:00+00:00",
          "2022-05-30T00:00:00+00:00",
          "2022-05-30T06:00:00+00:00",
          "2022-05-30T10:00:00+00:00",
          "2022-05-30T11:00:00+00:00",
          "2022-05-30T12:00:00+00:00",
          "2022-05-30T21:00:00+00:00",
          "2022-05-30T23:00:00+00:00",
          "2022-05-31T02:00:00+00:00",
          "2022-05-31T03:00:00+00:00",
          "2022-05-31T04:00:00+00:00",
          "2022-05-31T08:00:00+00:00",
          "2022-05-31T09:00:00+00:00",
          "2022-05-31T10:00:00+00:00",
          "2022-05-31T11:00:00+00:00",
          "2022-05-31T12:00:00+00:00",
          "2022-05-31T13:00:00+00:00",
          "2022-05-31T16:00:00+00:00",
          "2022-05-31T17:00:00+00:00",
          "2022-06-01T00:00:00+00:00",
          "2022-06-01T02:00:00+00:00",
          "2022-06-01T04:00:00+00:00",
          "2022-06-01T08:00:00+00:00",
          "2022-06-01T09:00:00+00:00",
          "2022-06-01T12:00:00+00:00",
          "2022-06-01T13:00:00+00:00",
          "2022-06-01T14:00:00+00:00",
          "2022-06-01T16:00:00+00:00",
          "2022-06-01T19:00:00+00:00",
          "2022-06-01T20:00:00+00:00",
          "2022-06-01T21:00:00+00:00",
          "2022-06-02T05:00:00+00:00",
          "2022-06-02T07:00:00+00:00",
          "2022-06-02T08:00:00+00:00",
          "2022-06-02T09:00:00+00:00",
          "2022-06-02T10:00:00+00:00",
          "2022-06-02T11:00:00+00:00",
          "2022-06-02T12:00:00+00:00",
          "2022-06-02T13:00:00+00:00",
          "2022-06-02T14:00:00+00:00",
          "2022-06-02T15:00:00+00:00",
          "2022-06-02T16:00:00+00:00",
          "2022-06-02T17:00:00+00:00",
          "2022-06-02T19:00:00+00:00",
          "2022-06-03T09:00:00+00:00",
          "2022-06-03T10:00:00+00:00",
          "2022-06-03T11:00:00+00:00",
          "2022-06-03T12:00:00+00:00",
          "2022-06-03T13:00:00+00:00",
          "2022-06-03T14:00:00+00:00",
          "2022-06-03T15:00:00+00:00",
          "2022-06-03T16:00:00+00:00",
          "2022-06-03T19:00:00+00:00",
          "2022-06-03T20:00:00+00:00",
          "2022-06-06T01:00:00+00:00",
          "2022-06-06T08:00:00+00:00",
          "2022-06-06T09:00:00+00:00",
          "2022-06-06T10:00:00+00:00",
          "2022-06-06T11:00:00+00:00",
          "2022-06-06T12:00:00+00:00",
          "2022-06-06T13:00:00+00:00",
          "2022-06-06T15:00:00+00:00",
          "2022-06-06T17:00:00+00:00",
          "2022-06-06T21:00:00+00:00",
          "2022-06-06T23:00:00+00:00",
          "2022-06-07T00:00:00+00:00",
          "2022-06-07T02:00:00+00:00",
          "2022-06-07T05:00:00+00:00",
          "2022-06-07T07:00:00+00:00",
          "2022-06-07T12:00:00+00:00",
          "2022-06-07T13:00:00+00:00",
          "2022-06-07T14:00:00+00:00",
          "2022-06-07T15:00:00+00:00",
          "2022-06-07T16:00:00+00:00",
          "2022-06-07T19:00:00+00:00",
          "2022-06-07T20:00:00+00:00",
          "2022-06-07T21:00:00+00:00",
          "2022-06-08T07:00:00+00:00",
          "2022-06-08T08:00:00+00:00",
          "2022-06-08T10:00:00+00:00",
          "2022-06-08T11:00:00+00:00",
          "2022-06-08T12:00:00+00:00",
          "2022-06-08T13:00:00+00:00",
          "2022-06-08T14:00:00+00:00",
          "2022-06-08T18:00:00+00:00",
          "2022-06-08T20:00:00+00:00",
          "2022-06-08T21:00:00+00:00",
          "2022-06-09T07:00:00+00:00",
          "2022-06-09T08:00:00+00:00",
          "2022-06-09T09:00:00+00:00",
          "2022-06-09T10:00:00+00:00",
          "2022-06-09T12:00:00+00:00",
          "2022-06-09T13:00:00+00:00",
          "2022-06-09T14:00:00+00:00",
          "2022-06-09T19:00:00+00:00",
          "2022-06-09T21:00:00+00:00",
          "2022-06-09T22:00:00+00:00",
          "2022-06-10T00:00:00+00:00",
          "2022-06-10T07:00:00+00:00",
          "2022-06-10T08:00:00+00:00",
          "2022-06-10T10:00:00+00:00",
          "2022-06-10T11:00:00+00:00",
          "2022-06-10T13:00:00+00:00",
          "2022-06-10T14:00:00+00:00",
          "2022-06-10T15:00:00+00:00",
          "2022-06-10T16:00:00+00:00",
          "2022-06-10T17:00:00+00:00",
          "2022-06-10T20:00:00+00:00",
          "2022-06-13T00:00:00+00:00",
          "2022-06-13T05:00:00+00:00",
          "2022-06-13T07:00:00+00:00",
          "2022-06-13T08:00:00+00:00",
          "2022-06-13T13:00:00+00:00",
          "2022-06-13T15:00:00+00:00",
          "2022-06-13T18:00:00+00:00",
          "2022-06-14T00:00:00+00:00",
          "2022-06-14T01:00:00+00:00",
          "2022-06-14T04:00:00+00:00",
          "2022-06-14T05:00:00+00:00",
          "2022-06-14T06:00:00+00:00",
          "2022-06-14T07:00:00+00:00",
          "2022-06-14T09:00:00+00:00",
          "2022-06-14T10:00:00+00:00",
          "2022-06-14T11:00:00+00:00",
          "2022-06-14T15:00:00+00:00",
          "2022-06-14T16:00:00+00:00",
          "2022-06-14T17:00:00+00:00",
          "2022-06-14T19:00:00+00:00",
          "2022-06-14T20:00:00+00:00",
          "2022-06-14T23:00:00+00:00",
          "2022-06-15T01:00:00+00:00",
          "2022-06-15T02:00:00+00:00",
          "2022-06-15T06:00:00+00:00",
          "2022-06-15T07:00:00+00:00",
          "2022-06-15T10:00:00+00:00",
          "2022-06-15T11:00:00+00:00",
          "2022-06-15T12:00:00+00:00",
          "2022-06-15T13:00:00+00:00",
          "2022-06-15T14:00:00+00:00",
          "2022-06-15T16:00:00+00:00",
          "2022-06-15T17:00:00+00:00",
          "2022-06-15T20:00:00+00:00",
          "2022-06-16T00:00:00+00:00",
          "2022-06-16T02:00:00+00:00",
          "2022-06-16T03:00:00+00:00",
          "2022-06-16T06:00:00+00:00",
          "2022-06-16T07:00:00+00:00",
          "2022-06-16T08:00:00+00:00",
          "2022-06-16T09:00:00+00:00",
          "2022-06-16T10:00:00+00:00",
          "2022-06-16T12:00:00+00:00",
          "2022-06-16T15:00:00+00:00",
          "2022-06-16T19:00:00+00:00",
          "2022-06-16T22:00:00+00:00",
          "2022-06-16T23:00:00+00:00",
          "2022-06-17T05:00:00+00:00",
          "2022-06-17T06:00:00+00:00",
          "2022-06-17T07:00:00+00:00",
          "2022-06-17T11:00:00+00:00",
          "2022-06-17T13:00:00+00:00",
          "2022-06-17T14:00:00+00:00",
          "2022-06-17T15:00:00+00:00",
          "2022-06-17T18:00:00+00:00",
          "2022-06-19T21:00:00+00:00",
          "2022-06-20T00:00:00+00:00",
          "2022-06-20T01:00:00+00:00",
          "2022-06-20T02:00:00+00:00",
          "2022-06-20T05:00:00+00:00",
          "2022-06-20T06:00:00+00:00",
          "2022-06-20T08:00:00+00:00",
          "2022-06-20T09:00:00+00:00",
          "2022-06-20T12:00:00+00:00",
          "2022-06-20T13:00:00+00:00",
          "2022-06-20T14:00:00+00:00",
          "2022-06-20T16:00:00+00:00",
          "2022-06-20T17:00:00+00:00",
          "2022-06-20T19:00:00+00:00",
          "2022-06-20T21:00:00+00:00",
          "2022-06-20T23:00:00+00:00",
          "2022-06-21T01:00:00+00:00",
          "2022-06-21T02:00:00+00:00",
          "2022-06-21T05:00:00+00:00",
          "2022-06-21T06:00:00+00:00",
          "2022-06-21T11:00:00+00:00",
          "2022-06-21T12:00:00+00:00",
          "2022-06-21T13:00:00+00:00",
          "2022-06-21T15:00:00+00:00",
          "2022-06-21T16:00:00+00:00",
          "2022-06-21T19:00:00+00:00",
          "2022-06-21T20:00:00+00:00",
          "2022-06-21T21:00:00+00:00",
          "2022-06-21T22:00:00+00:00",
          "2022-06-21T23:00:00+00:00",
          "2022-06-22T01:00:00+00:00",
          "2022-06-22T04:00:00+00:00",
          "2022-06-22T07:00:00+00:00",
          "2022-06-22T08:00:00+00:00",
          "2022-06-22T10:00:00+00:00",
          "2022-06-22T11:00:00+00:00",
          "2022-06-22T13:00:00+00:00",
          "2022-06-22T15:00:00+00:00",
          "2022-06-22T16:00:00+00:00",
          "2022-06-22T17:00:00+00:00",
          "2022-06-22T18:00:00+00:00",
          "2022-06-22T20:00:00+00:00",
          "2022-06-22T22:00:00+00:00",
          "2022-06-22T23:00:00+00:00",
          "2022-06-23T00:00:00+00:00",
          "2022-06-23T02:00:00+00:00",
          "2022-06-23T05:00:00+00:00",
          "2022-06-23T06:00:00+00:00",
          "2022-06-23T07:00:00+00:00",
          "2022-06-23T10:00:00+00:00",
          "2022-06-23T11:00:00+00:00",
          "2022-06-23T12:00:00+00:00",
          "2022-06-23T13:00:00+00:00",
          "2022-06-23T14:00:00+00:00",
          "2022-06-23T16:00:00+00:00",
          "2022-06-23T17:00:00+00:00",
          "2022-06-23T18:00:00+00:00",
          "2022-06-23T19:00:00+00:00",
          "2022-06-23T21:00:00+00:00",
          "2022-06-23T22:00:00+00:00",
          "2022-06-23T23:00:00+00:00",
          "2022-06-24T00:00:00+00:00",
          "2022-06-24T01:00:00+00:00",
          "2022-06-24T07:00:00+00:00",
          "2022-06-24T09:00:00+00:00",
          "2022-06-24T10:00:00+00:00",
          "2022-06-24T11:00:00+00:00",
          "2022-06-24T12:00:00+00:00",
          "2022-06-24T13:00:00+00:00",
          "2022-06-24T14:00:00+00:00",
          "2022-06-24T15:00:00+00:00",
          "2022-06-24T16:00:00+00:00",
          "2022-06-24T18:00:00+00:00",
          "2022-06-24T19:00:00+00:00",
          "2022-06-26T22:00:00+00:00",
          "2022-06-27T03:00:00+00:00",
          "2022-06-27T04:00:00+00:00",
          "2022-06-27T05:00:00+00:00",
          "2022-06-27T07:00:00+00:00",
          "2022-06-27T08:00:00+00:00",
          "2022-06-27T09:00:00+00:00",
          "2022-06-27T10:00:00+00:00",
          "2022-06-27T12:00:00+00:00",
          "2022-06-27T13:00:00+00:00",
          "2022-06-27T16:00:00+00:00",
          "2022-06-27T17:00:00+00:00",
          "2022-06-27T18:00:00+00:00",
          "2022-06-27T20:00:00+00:00",
          "2022-06-27T22:00:00+00:00",
          "2022-06-27T23:00:00+00:00",
          "2022-06-28T01:00:00+00:00",
          "2022-06-28T04:00:00+00:00",
          "2022-06-28T07:00:00+00:00",
          "2022-06-28T11:00:00+00:00",
          "2022-06-28T16:00:00+00:00",
          "2022-06-28T18:00:00+00:00",
          "2022-06-28T19:00:00+00:00",
          "2022-06-28T20:00:00+00:00",
          "2022-06-29T01:00:00+00:00",
          "2022-06-29T05:00:00+00:00",
          "2022-06-29T08:00:00+00:00",
          "2022-06-29T11:00:00+00:00",
          "2022-06-29T14:00:00+00:00",
          "2022-06-29T16:00:00+00:00",
          "2022-06-29T17:00:00+00:00",
          "2022-06-29T18:00:00+00:00",
          "2022-06-29T19:00:00+00:00",
          "2022-06-30T06:00:00+00:00",
          "2022-06-30T07:00:00+00:00",
          "2022-06-30T08:00:00+00:00",
          "2022-06-30T09:00:00+00:00",
          "2022-06-30T10:00:00+00:00",
          "2022-06-30T12:00:00+00:00",
          "2022-06-30T13:00:00+00:00",
          "2022-06-30T15:00:00+00:00",
          "2022-06-30T17:00:00+00:00",
          "2022-06-30T18:00:00+00:00",
          "2022-06-30T19:00:00+00:00",
          "2022-06-30T20:00:00+00:00",
          "2022-06-30T22:00:00+00:00",
          "2022-06-30T23:00:00+00:00",
          "2022-07-01T00:00:00+00:00",
          "2022-07-01T03:00:00+00:00",
          "2022-07-01T04:00:00+00:00",
          "2022-07-01T05:00:00+00:00",
          "2022-07-01T06:00:00+00:00",
          "2022-07-01T07:00:00+00:00",
          "2022-07-01T11:00:00+00:00",
          "2022-07-01T15:00:00+00:00",
          "2022-07-01T18:00:00+00:00",
          "2022-07-01T19:00:00+00:00",
          "2022-07-03T21:00:00+00:00",
          "2022-07-03T22:00:00+00:00",
          "2022-07-03T23:00:00+00:00",
          "2022-07-04T02:00:00+00:00",
          "2022-07-04T04:00:00+00:00",
          "2022-07-04T05:00:00+00:00",
          "2022-07-04T06:00:00+00:00",
          "2022-07-04T07:00:00+00:00",
          "2022-07-04T09:00:00+00:00",
          "2022-07-04T10:00:00+00:00",
          "2022-07-04T12:00:00+00:00",
          "2022-07-04T13:00:00+00:00",
          "2022-07-04T17:00:00+00:00",
          "2022-07-04T19:00:00+00:00",
          "2022-07-04T20:00:00+00:00",
          "2022-07-04T21:00:00+00:00",
          "2022-07-04T23:00:00+00:00",
          "2022-07-05T05:00:00+00:00",
          "2022-07-05T07:00:00+00:00",
          "2022-07-05T08:00:00+00:00",
          "2022-07-05T09:00:00+00:00",
          "2022-07-05T10:00:00+00:00",
          "2022-07-05T11:00:00+00:00",
          "2022-07-05T12:00:00+00:00",
          "2022-07-05T16:00:00+00:00",
          "2022-07-05T17:00:00+00:00",
          "2022-07-05T18:00:00+00:00",
          "2022-07-05T19:00:00+00:00",
          "2022-07-05T21:00:00+00:00",
          "2022-07-06T10:00:00+00:00",
          "2022-07-06T11:00:00+00:00",
          "2022-07-06T12:00:00+00:00",
          "2022-07-06T16:00:00+00:00",
          "2022-07-06T19:00:00+00:00",
          "2022-07-06T20:00:00+00:00",
          "2022-07-06T21:00:00+00:00",
          "2022-07-06T23:00:00+00:00",
          "2022-07-07T00:00:00+00:00",
          "2022-07-07T04:00:00+00:00",
          "2022-07-07T05:00:00+00:00",
          "2022-07-07T06:00:00+00:00",
          "2022-07-07T09:00:00+00:00",
          "2022-07-07T10:00:00+00:00",
          "2022-07-07T12:00:00+00:00",
          "2022-07-07T13:00:00+00:00",
          "2022-07-07T14:00:00+00:00",
          "2022-07-07T17:00:00+00:00",
          "2022-07-08T03:00:00+00:00",
          "2022-07-08T05:00:00+00:00",
          "2022-07-08T06:00:00+00:00",
          "2022-07-08T07:00:00+00:00",
          "2022-07-08T08:00:00+00:00",
          "2022-07-08T09:00:00+00:00",
          "2022-07-08T11:00:00+00:00",
          "2022-07-08T13:00:00+00:00",
          "2022-07-08T15:00:00+00:00",
          "2022-07-08T16:00:00+00:00",
          "2022-07-08T17:00:00+00:00",
          "2022-07-08T18:00:00+00:00",
          "2022-07-08T19:00:00+00:00",
          "2022-07-08T20:00:00+00:00",
          "2022-07-10T23:00:00+00:00",
          "2022-07-11T00:00:00+00:00",
          "2022-07-11T01:00:00+00:00",
          "2022-07-11T04:00:00+00:00",
          "2022-07-11T05:00:00+00:00",
          "2022-07-11T07:00:00+00:00",
          "2022-07-11T09:00:00+00:00",
          "2022-07-11T10:00:00+00:00",
          "2022-07-11T11:00:00+00:00",
          "2022-07-11T12:00:00+00:00",
          "2022-07-11T14:00:00+00:00",
          "2022-07-11T15:00:00+00:00",
          "2022-07-11T16:00:00+00:00",
          "2022-07-11T20:00:00+00:00",
          "2022-07-11T21:00:00+00:00",
          "2022-07-11T23:00:00+00:00",
          "2022-07-12T01:00:00+00:00",
          "2022-07-12T04:00:00+00:00",
          "2022-07-12T05:00:00+00:00",
          "2022-07-12T10:00:00+00:00",
          "2022-07-12T11:00:00+00:00",
          "2022-07-12T12:00:00+00:00",
          "2022-07-12T14:00:00+00:00",
          "2022-07-12T15:00:00+00:00",
          "2022-07-12T16:00:00+00:00",
          "2022-07-12T17:00:00+00:00",
          "2022-07-12T18:00:00+00:00",
          "2022-07-12T19:00:00+00:00",
          "2022-07-12T21:00:00+00:00",
          "2022-07-13T00:00:00+00:00",
          "2022-07-13T01:00:00+00:00",
          "2022-07-13T02:00:00+00:00",
          "2022-07-13T03:00:00+00:00",
          "2022-07-13T04:00:00+00:00",
          "2022-07-13T06:00:00+00:00",
          "2022-07-13T07:00:00+00:00",
          "2022-07-13T10:00:00+00:00",
          "2022-07-13T14:00:00+00:00",
          "2022-07-13T15:00:00+00:00",
          "2022-07-13T16:00:00+00:00",
          "2022-07-13T19:00:00+00:00",
          "2022-07-13T20:00:00+00:00",
          "2022-07-13T23:00:00+00:00",
          "2022-07-14T00:00:00+00:00",
          "2022-07-14T02:00:00+00:00",
          "2022-07-14T06:00:00+00:00",
          "2022-07-14T07:00:00+00:00",
          "2022-07-14T09:00:00+00:00",
          "2022-07-14T10:00:00+00:00",
          "2022-07-14T11:00:00+00:00",
          "2022-07-14T15:00:00+00:00",
          "2022-07-14T16:00:00+00:00",
          "2022-07-14T19:00:00+00:00",
          "2022-07-14T22:00:00+00:00",
          "2022-07-15T03:00:00+00:00",
          "2022-07-15T04:00:00+00:00",
          "2022-07-15T07:00:00+00:00",
          "2022-07-15T10:00:00+00:00",
          "2022-07-15T11:00:00+00:00",
          "2022-07-15T12:00:00+00:00",
          "2022-07-15T14:00:00+00:00",
          "2022-07-15T16:00:00+00:00",
          "2022-07-15T19:00:00+00:00",
          "2022-07-15T20:00:00+00:00",
          "2022-07-17T22:00:00+00:00",
          "2022-07-18T00:00:00+00:00",
          "2022-07-18T02:00:00+00:00",
          "2022-07-18T06:00:00+00:00",
          "2022-07-18T07:00:00+00:00",
          "2022-07-18T08:00:00+00:00",
          "2022-07-18T09:00:00+00:00",
          "2022-07-18T10:00:00+00:00",
          "2022-07-18T11:00:00+00:00",
          "2022-07-18T12:00:00+00:00",
          "2022-07-18T17:00:00+00:00",
          "2022-07-18T19:00:00+00:00",
          "2022-07-18T20:00:00+00:00",
          "2022-07-18T21:00:00+00:00",
          "2022-07-18T23:00:00+00:00",
          "2022-07-19T00:00:00+00:00",
          "2022-07-19T03:00:00+00:00",
          "2022-07-19T05:00:00+00:00",
          "2022-07-19T06:00:00+00:00",
          "2022-07-19T07:00:00+00:00",
          "2022-07-19T08:00:00+00:00",
          "2022-07-19T09:00:00+00:00",
          "2022-07-19T16:00:00+00:00",
          "2022-07-19T18:00:00+00:00",
          "2022-07-19T20:00:00+00:00",
          "2022-07-19T21:00:00+00:00",
          "2022-07-19T22:00:00+00:00",
          "2022-07-20T04:00:00+00:00",
          "2022-07-20T11:00:00+00:00",
          "2022-07-20T12:00:00+00:00",
          "2022-07-20T13:00:00+00:00",
          "2022-07-20T14:00:00+00:00",
          "2022-07-20T17:00:00+00:00",
          "2022-07-20T18:00:00+00:00",
          "2022-07-20T19:00:00+00:00",
          "2022-07-20T22:00:00+00:00",
          "2022-07-20T23:00:00+00:00",
          "2022-07-21T00:00:00+00:00",
          "2022-07-21T04:00:00+00:00",
          "2022-07-21T06:00:00+00:00",
          "2022-07-21T07:00:00+00:00",
          "2022-07-21T08:00:00+00:00",
          "2022-07-21T09:00:00+00:00",
          "2022-07-21T10:00:00+00:00",
          "2022-07-21T11:00:00+00:00",
          "2022-07-21T12:00:00+00:00",
          "2022-07-21T13:00:00+00:00",
          "2022-07-21T14:00:00+00:00",
          "2022-07-21T15:00:00+00:00",
          "2022-07-21T16:00:00+00:00",
          "2022-07-21T17:00:00+00:00",
          "2022-07-21T19:00:00+00:00",
          "2022-07-21T20:00:00+00:00",
          "2022-07-21T21:00:00+00:00",
          "2022-07-21T22:00:00+00:00",
          "2022-07-21T23:00:00+00:00",
          "2022-07-22T01:00:00+00:00",
          "2022-07-22T04:00:00+00:00",
          "2022-07-22T05:00:00+00:00",
          "2022-07-22T07:00:00+00:00",
          "2022-07-22T12:00:00+00:00",
          "2022-07-22T14:00:00+00:00",
          "2022-07-22T16:00:00+00:00",
          "2022-07-22T18:00:00+00:00",
          "2022-07-22T19:00:00+00:00",
          "2022-07-22T20:00:00+00:00",
          "2022-07-24T22:00:00+00:00",
          "2022-07-24T23:00:00+00:00",
          "2022-07-25T00:00:00+00:00",
          "2022-07-25T04:00:00+00:00",
          "2022-07-25T05:00:00+00:00",
          "2022-07-25T08:00:00+00:00",
          "2022-07-25T09:00:00+00:00",
          "2022-07-25T10:00:00+00:00",
          "2022-07-25T11:00:00+00:00",
          "2022-07-25T12:00:00+00:00",
          "2022-07-25T13:00:00+00:00",
          "2022-07-25T14:00:00+00:00",
          "2022-07-25T15:00:00+00:00",
          "2022-07-25T16:00:00+00:00",
          "2022-07-25T19:00:00+00:00",
          "2022-07-26T09:00:00+00:00",
          "2022-07-26T10:00:00+00:00",
          "2022-07-26T11:00:00+00:00",
          "2022-07-26T13:00:00+00:00",
          "2022-07-26T14:00:00+00:00",
          "2022-07-26T18:00:00+00:00",
          "2022-07-26T21:00:00+00:00",
          "2022-07-27T01:00:00+00:00",
          "2022-07-27T02:00:00+00:00",
          "2022-07-27T03:00:00+00:00",
          "2022-07-27T07:00:00+00:00",
          "2022-07-27T08:00:00+00:00",
          "2022-07-27T09:00:00+00:00",
          "2022-07-27T16:00:00+00:00",
          "2022-07-27T17:00:00+00:00",
          "2022-07-27T18:00:00+00:00",
          "2022-07-27T19:00:00+00:00",
          "2022-07-27T21:00:00+00:00",
          "2022-07-27T22:00:00+00:00",
          "2022-07-27T23:00:00+00:00",
          "2022-07-28T00:00:00+00:00",
          "2022-07-28T01:00:00+00:00",
          "2022-07-28T02:00:00+00:00",
          "2022-07-28T03:00:00+00:00",
          "2022-07-28T05:00:00+00:00",
          "2022-07-28T06:00:00+00:00",
          "2022-07-28T10:00:00+00:00",
          "2022-07-28T11:00:00+00:00",
          "2022-07-28T12:00:00+00:00",
          "2022-07-28T14:00:00+00:00",
          "2022-07-28T15:00:00+00:00",
          "2022-07-28T16:00:00+00:00",
          "2022-07-28T18:00:00+00:00",
          "2022-07-28T19:00:00+00:00",
          "2022-07-28T23:00:00+00:00",
          "2022-07-29T04:00:00+00:00",
          "2022-07-29T08:00:00+00:00",
          "2022-07-29T11:00:00+00:00",
          "2022-07-29T12:00:00+00:00",
          "2022-07-29T13:00:00+00:00",
          "2022-07-29T14:00:00+00:00",
          "2022-07-29T15:00:00+00:00",
          "2022-07-29T20:00:00+00:00",
          "2022-07-31T21:00:00+00:00",
          "2022-07-31T22:00:00+00:00",
          "2022-07-31T23:00:00+00:00",
          "2022-08-01T03:00:00+00:00",
          "2022-08-01T04:00:00+00:00",
          "2022-08-01T06:00:00+00:00",
          "2022-08-01T07:00:00+00:00",
          "2022-08-01T08:00:00+00:00",
          "2022-08-01T09:00:00+00:00",
          "2022-08-01T10:00:00+00:00",
          "2022-08-01T11:00:00+00:00",
          "2022-08-01T13:00:00+00:00",
          "2022-08-01T14:00:00+00:00",
          "2022-08-01T18:00:00+00:00",
          "2022-08-02T00:00:00+00:00",
          "2022-08-02T04:00:00+00:00",
          "2022-08-02T05:00:00+00:00",
          "2022-08-02T06:00:00+00:00",
          "2022-08-02T07:00:00+00:00",
          "2022-08-02T08:00:00+00:00",
          "2022-08-02T09:00:00+00:00",
          "2022-08-02T10:00:00+00:00",
          "2022-08-02T12:00:00+00:00",
          "2022-08-02T13:00:00+00:00",
          "2022-08-02T14:00:00+00:00",
          "2022-08-02T16:00:00+00:00",
          "2022-08-02T17:00:00+00:00",
          "2022-08-02T18:00:00+00:00",
          "2022-08-02T19:00:00+00:00",
          "2022-08-02T20:00:00+00:00",
          "2022-08-03T05:00:00+00:00",
          "2022-08-03T06:00:00+00:00",
          "2022-08-03T08:00:00+00:00",
          "2022-08-03T09:00:00+00:00",
          "2022-08-03T11:00:00+00:00",
          "2022-08-03T14:00:00+00:00",
          "2022-08-03T15:00:00+00:00",
          "2022-08-03T20:00:00+00:00",
          "2022-08-03T21:00:00+00:00",
          "2022-08-04T08:00:00+00:00",
          "2022-08-04T10:00:00+00:00",
          "2022-08-04T11:00:00+00:00",
          "2022-08-04T12:00:00+00:00",
          "2022-08-04T14:00:00+00:00",
          "2022-08-04T15:00:00+00:00",
          "2022-08-04T17:00:00+00:00",
          "2022-08-04T18:00:00+00:00",
          "2022-08-04T20:00:00+00:00",
          "2022-08-04T21:00:00+00:00",
          "2022-08-04T22:00:00+00:00",
          "2022-08-04T23:00:00+00:00",
          "2022-08-05T03:00:00+00:00",
          "2022-08-05T04:00:00+00:00",
          "2022-08-05T05:00:00+00:00",
          "2022-08-05T09:00:00+00:00",
          "2022-08-05T11:00:00+00:00",
          "2022-08-05T12:00:00+00:00",
          "2022-08-05T13:00:00+00:00",
          "2022-08-05T14:00:00+00:00",
          "2022-08-05T15:00:00+00:00",
          "2022-08-05T16:00:00+00:00",
          "2022-08-05T18:00:00+00:00",
          "2022-08-05T19:00:00+00:00",
          "2022-08-05T20:00:00+00:00",
          "2022-08-08T00:00:00+00:00",
          "2022-08-08T03:00:00+00:00",
          "2022-08-08T07:00:00+00:00",
          "2022-08-08T08:00:00+00:00",
          "2022-08-08T09:00:00+00:00",
          "2022-08-08T10:00:00+00:00",
          "2022-08-08T11:00:00+00:00",
          "2022-08-08T12:00:00+00:00",
          "2022-08-08T16:00:00+00:00",
          "2022-08-08T18:00:00+00:00",
          "2022-08-08T19:00:00+00:00",
          "2022-08-08T20:00:00+00:00",
          "2022-08-08T22:00:00+00:00",
          "2022-08-09T00:00:00+00:00",
          "2022-08-09T01:00:00+00:00",
          "2022-08-09T02:00:00+00:00",
          "2022-08-09T03:00:00+00:00",
          "2022-08-09T07:00:00+00:00",
          "2022-08-09T09:00:00+00:00",
          "2022-08-09T10:00:00+00:00",
          "2022-08-09T11:00:00+00:00",
          "2022-08-09T12:00:00+00:00",
          "2022-08-09T14:00:00+00:00",
          "2022-08-09T16:00:00+00:00",
          "2022-08-09T17:00:00+00:00",
          "2022-08-09T18:00:00+00:00",
          "2022-08-09T19:00:00+00:00",
          "2022-08-09T20:00:00+00:00",
          "2022-08-10T01:00:00+00:00",
          "2022-08-10T02:00:00+00:00",
          "2022-08-10T04:00:00+00:00",
          "2022-08-10T08:00:00+00:00",
          "2022-08-10T09:00:00+00:00",
          "2022-08-10T10:00:00+00:00",
          "2022-08-10T11:00:00+00:00",
          "2022-08-10T12:00:00+00:00",
          "2022-08-10T14:00:00+00:00",
          "2022-08-10T18:00:00+00:00",
          "2022-08-10T22:00:00+00:00",
          "2022-08-11T02:00:00+00:00",
          "2022-08-11T05:00:00+00:00",
          "2022-08-11T10:00:00+00:00",
          "2022-08-11T11:00:00+00:00",
          "2022-08-11T14:00:00+00:00",
          "2022-08-11T17:00:00+00:00",
          "2022-08-11T18:00:00+00:00",
          "2022-08-11T19:00:00+00:00",
          "2022-08-11T20:00:00+00:00",
          "2022-08-11T21:00:00+00:00",
          "2022-08-12T00:00:00+00:00",
          "2022-08-12T03:00:00+00:00",
          "2022-08-12T04:00:00+00:00",
          "2022-08-12T07:00:00+00:00",
          "2022-08-12T12:00:00+00:00",
          "2022-08-12T14:00:00+00:00",
          "2022-08-12T15:00:00+00:00",
          "2022-08-12T17:00:00+00:00",
          "2022-08-12T19:00:00+00:00",
          "2022-08-14T23:00:00+00:00",
          "2022-08-15T00:00:00+00:00",
          "2022-08-15T03:00:00+00:00",
          "2022-08-15T04:00:00+00:00",
          "2022-08-15T05:00:00+00:00",
          "2022-08-15T06:00:00+00:00",
          "2022-08-15T07:00:00+00:00",
          "2022-08-15T09:00:00+00:00",
          "2022-08-15T10:00:00+00:00",
          "2022-08-15T21:00:00+00:00",
          "2022-08-16T02:00:00+00:00",
          "2022-08-16T05:00:00+00:00",
          "2022-08-16T09:00:00+00:00",
          "2022-08-16T10:00:00+00:00",
          "2022-08-16T11:00:00+00:00",
          "2022-08-16T13:00:00+00:00",
          "2022-08-16T14:00:00+00:00",
          "2022-08-16T17:00:00+00:00",
          "2022-08-16T19:00:00+00:00",
          "2022-08-17T03:00:00+00:00",
          "2022-08-17T04:00:00+00:00",
          "2022-08-17T08:00:00+00:00",
          "2022-08-17T10:00:00+00:00",
          "2022-08-17T12:00:00+00:00",
          "2022-08-17T13:00:00+00:00",
          "2022-08-17T14:00:00+00:00",
          "2022-08-17T17:00:00+00:00",
          "2022-08-17T18:00:00+00:00",
          "2022-08-17T21:00:00+00:00",
          "2022-08-18T00:00:00+00:00",
          "2022-08-18T01:00:00+00:00",
          "2022-08-18T05:00:00+00:00",
          "2022-08-18T07:00:00+00:00",
          "2022-08-18T10:00:00+00:00",
          "2022-08-18T12:00:00+00:00",
          "2022-08-18T13:00:00+00:00",
          "2022-08-18T14:00:00+00:00",
          "2022-08-18T15:00:00+00:00",
          "2022-08-18T16:00:00+00:00",
          "2022-08-18T17:00:00+00:00",
          "2022-08-18T18:00:00+00:00",
          "2022-08-18T20:00:00+00:00",
          "2022-08-18T21:00:00+00:00",
          "2022-08-19T01:00:00+00:00",
          "2022-08-19T05:00:00+00:00",
          "2022-08-19T08:00:00+00:00",
          "2022-08-19T10:00:00+00:00",
          "2022-08-19T15:00:00+00:00",
          "2022-08-19T18:00:00+00:00",
          "2022-08-22T04:00:00+00:00",
          "2022-08-22T05:00:00+00:00",
          "2022-08-22T06:00:00+00:00",
          "2022-08-22T07:00:00+00:00",
          "2022-08-22T08:00:00+00:00",
          "2022-08-22T09:00:00+00:00",
          "2022-08-22T10:00:00+00:00",
          "2022-08-22T13:00:00+00:00",
          "2022-08-22T14:00:00+00:00",
          "2022-08-22T15:00:00+00:00",
          "2022-08-22T18:00:00+00:00",
          "2022-08-22T20:00:00+00:00",
          "2022-08-22T22:00:00+00:00",
          "2022-08-23T06:00:00+00:00",
          "2022-08-23T07:00:00+00:00",
          "2022-08-23T10:00:00+00:00",
          "2022-08-23T11:00:00+00:00",
          "2022-08-23T12:00:00+00:00",
          "2022-08-23T13:00:00+00:00",
          "2022-08-23T14:00:00+00:00",
          "2022-08-23T16:00:00+00:00",
          "2022-08-23T17:00:00+00:00",
          "2022-08-23T19:00:00+00:00",
          "2022-08-23T22:00:00+00:00",
          "2022-08-24T00:00:00+00:00",
          "2022-08-24T02:00:00+00:00",
          "2022-08-24T04:00:00+00:00",
          "2022-08-24T05:00:00+00:00",
          "2022-08-24T06:00:00+00:00",
          "2022-08-24T07:00:00+00:00",
          "2022-08-24T08:00:00+00:00",
          "2022-08-24T09:00:00+00:00",
          "2022-08-24T10:00:00+00:00",
          "2022-08-24T12:00:00+00:00",
          "2022-08-24T13:00:00+00:00",
          "2022-08-24T14:00:00+00:00",
          "2022-08-24T16:00:00+00:00",
          "2022-08-24T17:00:00+00:00",
          "2022-08-24T18:00:00+00:00",
          "2022-08-24T19:00:00+00:00",
          "2022-08-24T20:00:00+00:00",
          "2022-08-24T21:00:00+00:00",
          "2022-08-24T22:00:00+00:00",
          "2022-08-25T01:00:00+00:00",
          "2022-08-25T03:00:00+00:00",
          "2022-08-25T04:00:00+00:00",
          "2022-08-25T05:00:00+00:00",
          "2022-08-25T06:00:00+00:00",
          "2022-08-25T07:00:00+00:00",
          "2022-08-25T11:00:00+00:00",
          "2022-08-25T12:00:00+00:00",
          "2022-08-25T14:00:00+00:00",
          "2022-08-25T15:00:00+00:00",
          "2022-08-25T17:00:00+00:00",
          "2022-08-25T19:00:00+00:00",
          "2022-08-25T20:00:00+00:00",
          "2022-08-25T22:00:00+00:00",
          "2022-08-25T23:00:00+00:00",
          "2022-08-26T00:00:00+00:00",
          "2022-08-26T02:00:00+00:00",
          "2022-08-26T05:00:00+00:00",
          "2022-08-26T07:00:00+00:00",
          "2022-08-26T08:00:00+00:00",
          "2022-08-26T10:00:00+00:00",
          "2022-08-26T11:00:00+00:00",
          "2022-08-26T13:00:00+00:00",
          "2022-08-26T14:00:00+00:00",
          "2022-08-26T18:00:00+00:00",
          "2022-08-26T20:00:00+00:00",
          "2022-08-29T04:00:00+00:00"
         ],
         "y": [
          -41.80000000000072,
          -42.20000000000001,
          -76.00000000000082,
          -47.00000000000069,
          15.49999999999931,
          -45.99999999999787,
          -129.20000000000044,
          -207.60000000000002,
          -257.49999999999955,
          -332.3999999999995,
          -372.3999999999996,
          -405,
          -429.5000000000006,
          -304.2000000000013,
          -219.20000000000067,
          -87.30000000000032,
          -41.19999999999905,
          -10.999999999999801,
          4.2000000000002125,
          14.200000000001332,
          -17.799999999997986,
          12.00000000000184,
          26.000000000001542,
          26.200000000001744,
          209.100000000002,
          206.10000000000124,
          206.40000000000322,
          262.2000000000035,
          255.2000000000042,
          251.7000000000046,
          233.30000000000507,
          192.90000000000242,
          191.10000000000394,
          228.80000000000402,
          200.39999999999893,
          302.89999999999804,
          329.99999999999795,
          333.39999999999804,
          344.1999999999978,
          356.599999999998,
          344.399999999998,
          438.39999999999776,
          431.39999999999856,
          412.9999999999988,
          403.7999999999985,
          341.69999999999754,
          352.899999999997,
          371.49999999999784,
          414.39999999999804,
          425.49999999999847,
          421.3999999999983,
          389.09999999999764,
          372.69999999999675,
          426.29999999999706,
          491.2999999999977,
          559.0999999999977,
          623.0999999999963,
          577.8999999999954,
          544.299999999994,
          540.6999999999927,
          663.3999999999927,
          643.6999999999924,
          664.4999999999933,
          665.999999999992,
          643.3999999999905,
          684.6999999999903,
          796.699999999989,
          808.899999999989,
          825.5999999999891,
          781.3999999999879,
          898.2999999999877,
          871.9999999999886,
          861.1999999999889,
          841.1999999999889,
          855.9999999999903,
          889.2999999999887,
          840.4999999999887,
          825.5999999999889,
          791.1999999999895,
          721.6999999999902,
          667.9999999999892,
          660.3999999999899,
          660.1999999999889,
          719.5999999999912,
          723.2999999999904,
          644.7999999999921,
          662.7999999999923,
          665.3999999999927,
          651.6999999999929,
          620.0999999999924,
          588.0999999999931,
          550.2999999999931,
          529.8999999999938,
          490.6999999999924,
          465.3999999999921,
          445.59999999999116,
          375.8999999999912,
          345.69999999999055,
          306.89999999999003,
          266.7999999999893,
          270.79999999998887,
          261.39999999998696,
          242.29999999998617,
          194.4999999999863,
          331.49999999998676,
          308.09999999998666,
          249.39999999998847,
          174.2999999999894,
          150.39999999998938,
          155.99999999998943,
          115.19999999999072,
          79.29999999999126,
          34.99999999999005,
          3.799999999989936,
          -27.800000000008627,
          -25.400000000008536,
          -56.50000000001003,
          120.49999999999014,
          190.69999999999234,
          170.09999999999172,
          179.7999999999931,
          -71.00000000000679,
          -114.50000000000756,
          -139.6000000000077,
          -167.6000000000078,
          -61.50000000000662,
          139.3999999999943,
          298.3999999999945,
          403.79999999999444,
          490.69999999999527,
          546.9999999999955,
          487.9999999999953,
          610.1999999999954,
          618.099999999996,
          544.699999999997,
          521.8999999999977,
          512.3999999999976,
          505.39999999999725,
          487.99999999999943,
          457.49999999999875,
          452.1999999999973,
          424.7999999999972,
          475.8999999999982,
          454.09999999999786,
          432.49999999999847,
          395.39999999999856,
          551.9999999999986,
          559.2999999999979,
          580.8999999999995,
          545.8999999999972,
          511.8999999999979,
          486.99999999999835,
          478.49999999999727,
          560.5999999999956,
          545.0999999999955,
          525.9999999999952,
          592.8999999999961,
          544.6999999999956,
          551.2999999999959,
          605.3999999999963,
          557.1999999999981,
          512.1999999999987,
          485.3999999999985,
          473.29999999999757,
          420.1999999999991,
          396.3999999999986,
          387.2999999999978,
          352.4999999999985,
          477.8999999999976,
          607.0999999999992,
          591.999999999998,
          575.4999999999973,
          550.5999999999963,
          761.7999999999943,
          946.599999999997,
          847.1999999999964,
          842.2999999999965,
          745.7999999999961,
          557.3999999999961,
          545.3999999999957,
          535.5999999999943,
          525.4999999999948,
          485.09999999999513,
          452.7999999999945,
          459.8999999999944,
          341.1999999999939,
          179.8999999999943,
          83.09999999999519,
          46.59999999999446,
          37.99999999999363,
          32.399999999993895,
          89.19999999999408,
          108.09999999999354,
          94.19999999999396,
          60.69999999999459,
          29.09999999999434,
          11.499999999995566,
          -14.600000000004446,
          -47.800000000004346,
          -68.2000000000037,
          64.59999999999589,
          172.29999999999606,
          135.19999999999814,
          63.99999999999923,
          67.70000000000016,
          27.000000000001094,
          -6.59999999999809,
          -42.29999999999758,
          -29.09999999999522,
          -152.49999999999653,
          -282.1999999999958,
          -349.3999999999952,
          -164.79999999999598,
          -264.8999999999945,
          -206.79999999999563,
          -239.0999999999952,
          -228.09999999999525,
          -220.89999999999472,
          -279.4999999999945,
          -307.09999999999553,
          -291.69999999999675,
          -323.99999999999517,
          -300.99999999999477,
          -293.89999999999486,
          -332.7999999999921,
          -377.0999999999892,
          -261.9999999999857,
          -269.79999999998597,
          -218.89999999998824,
          -272.2999999999861,
          -291.19999999998555,
          -237.2999999999855,
          -236.29999999998356,
          -72.89999999998335,
          -86.09999999998101,
          -119.6999999999813,
          -144.19999999998197,
          -194.69999999998097,
          -243.59999999998047,
          -269.19999999998055,
          -295.99999999998,
          -302.99999999998073,
          -312.59999999997825,
          -320.19999999997697,
          -103.99999999997635,
          -95.19999999997755,
          -196.3999999999757,
          -246.59999999997672,
          -404.7999999999788,
          -486.59999999997956,
          -353.3999999999785,
          -263.49999999998016,
          -298.29999999997943,
          -313.6999999999793,
          -314.39999999997946,
          -271.19999999997844,
          -229.19999999997862,
          -304.99999999998226,
          -354.1999999999833,
          -364.49999999998414,
          -383.49999999998425,
          -389.0999999999854,
          -418.3999999999864,
          -405.1999999999865,
          -407.69999999998737,
          -378.0999999999866,
          -360.8999999999869,
          -380.99999999998977,
          -330.09999999999104,
          -343.0999999999896,
          -318.7999999999903,
          -319.3999999999894,
          -341.7999999999896,
          -345.7999999999903,
          -169.09999999999297,
          -161.3999999999925,
          -156.39999999999304,
          -131.8999999999926,
          -145.89999999999114,
          -142.89999999999148,
          -126.99999999998946,
          -144.09999999999047,
          -186.79999999999043,
          -222.69999999999249,
          -247.599999999992,
          -280.699999999992,
          -309.6999999999932,
          -316.49999999999335,
          -207.79999999999177,
          -215.7999999999916,
          -210.3999999999914,
          -217.99999999999233,
          -253.2999999999935,
          -283.39999999999407,
          -302.69999999999396,
          -299.5999999999948,
          -312.29999999999586,
          -441.69999999999646,
          -456.1999999999971,
          -573.7999999999979,
          -537.499999999998,
          -561.6999999999988,
          -564.3999999999987,
          -605.7999999999988,
          -631.8999999999988,
          -582.3999999999999,
          -551.3999999999988,
          -567.3999999999993,
          -398.8000000000005,
          -547.4999999999999,
          -565.7999999999998,
          -559.1999999999999,
          -614.3000000000006,
          -479.0000000000012,
          -530.300000000002,
          -461.1000000000016,
          -340.4000000000024,
          -324.40000000000276,
          -257.70000000000323,
          -270.80000000000325,
          -400.1000000000039,
          -431.300000000004,
          -520.5000000000043,
          -569.400000000005,
          -590.7000000000022,
          -710.3000000000015,
          -735.8000000000019,
          -752.100000000002,
          -734.6000000000016,
          -744.4000000000015,
          -739.0000000000016,
          -734.2000000000012,
          -718.400000000002,
          -772.9000000000016,
          -765.1000000000015,
          -783.2000000000024,
          -871.3000000000018,
          -921.2000000000013,
          -933.7000000000011,
          -967.7000000000014,
          -997.100000000002,
          -954.9000000000023,
          -944.2000000000032,
          -1004.9000000000044,
          -1052.900000000005,
          -1055.0000000000055,
          -1057.6000000000065,
          -1030.700000000006,
          -1068.200000000009,
          -1118.4000000000092,
          -1161.1000000000092,
          -1211.0000000000098,
          -1247.0000000000102,
          -1206.500000000009,
          -1206.7000000000062,
          -1207.7000000000062,
          -856.5000000000058,
          -862.0000000000041,
          -822.2000000000043,
          -861.7000000000044,
          -829.5000000000055,
          -821.9000000000045,
          -806.0000000000048,
          -686.900000000002,
          -680.9000000000027,
          -645.5000000000017,
          -663.0000000000003,
          -725.4000000000001,
          -740.0000000000002,
          -737.1999999999996,
          -776.9999999999983,
          -799.5999999999976,
          -852.3999999999969,
          -921.1999999999947,
          -945.6999999999942,
          -960.899999999994,
          -967.8999999999932,
          -979.2999999999923,
          -1148.5999999999867,
          -1251.8999999999883,
          -1411.5999999999863,
          -1446.599999999987,
          -1501.9999999999845,
          -1533.199999999983,
          -1578.4999999999802,
          -1584.1999999999798,
          -1623.6999999999798,
          -1663.999999999979,
          -1725.799999999975,
          -1755.8999999999724,
          -1795.999999999973,
          -1856.7999999999727,
          -1906.9999999999704,
          -1921.1999999999703,
          -1937.999999999967,
          -1955.599999999967,
          -1977.4999999999668,
          -1982.6999999999653,
          -2062.9999999999663,
          -2044.3999999999644,
          -2148.0999999999653,
          -2158.4999999999645,
          -2176.499999999965,
          -1997.699999999966,
          -1959.399999999966,
          -1958.199999999966,
          -1941.3999999999658,
          -1986.2999999999654,
          -2170.0999999999644,
          -2199.0999999999635,
          -2217.599999999965,
          -2300.1999999999643,
          -2329.699999999963,
          -2363.699999999964,
          -2462.5999999999635,
          -2480.3999999999637,
          -2485.7999999999633,
          -2404.4999999999636,
          -2052.699999999964,
          -2094.099999999964,
          -2195.3999999999637,
          -2121.399999999963,
          -1949.8999999999628,
          -1730.1999999999623,
          -1669.199999999961,
          -1720.7999999999604,
          -1693.2999999999602,
          -1676.7999999999595,
          -1582.9999999999588,
          -1622.3999999999583,
          -1713.9999999999582,
          -1775.299999999958,
          -1794.2999999999581,
          -1795.1999999999573,
          -1826.499999999956,
          -1840.499999999956,
          -1805.599999999956,
          -1859.0999999999535,
          -1885.4999999999534,
          -1864.3999999999535,
          -1886.9999999999527,
          -1941.6999999999525,
          -1983.1999999999516,
          -2038.6999999999523,
          -2095.899999999953,
          -2148.299999999952,
          -2195.299999999951,
          -2190.2999999999515,
          -2207.299999999952,
          -2224.2999999999506,
          -2287.0999999999513,
          -1916.6999999999503,
          -1968.3999999999496,
          -2017.0999999999485,
          -2047.0999999999483,
          -2156.5999999999462,
          -2214.6999999999475,
          -1529.8999999999487,
          -1551.6999999999477,
          -1533.2999999999479,
          -1503.8999999999485,
          -1313.899999999948,
          -1321.299999999948,
          -1378.8999999999448,
          -1452.999999999944,
          -1477.3999999999442,
          -1483.3999999999446,
          -1515.6999999999452,
          -1558.499999999945,
          -1564.0999999999433,
          -1535.8999999999446,
          -1533.699999999944,
          -1560.499999999944,
          -1558.4999999999443,
          -1645.899999999945,
          -1669.8999999999446,
          -1697.6999999999446,
          -1718.1999999999446,
          -1637.9999999999443,
          -1522.699999999945,
          -1491.2999999999456,
          -1414.9999999999454,
          -1414.8999999999469,
          -1404.0999999999476,
          -1441.0999999999456,
          -1475.2999999999454,
          -1512.9999999999459,
          -1583.5999999999444,
          -1598.2999999999452,
          -1397.2999999999452,
          -1446.099999999945,
          -1377.8999999999446,
          -1387.3999999999446,
          -950.9999999999434,
          -615.5999999999452,
          -285.39999999994365,
          -15.999999999944919,
          80.90000000005546,
          93.20000000005592,
          9.000000000057213,
          95.70000000005766,
          147.60000000005795,
          219.0000000000583,
          209.70000000005842,
          147.9000000000599,
          100.70000000006047,
          322.0000000000596,
          577.1000000000599,
          585.2000000000597,
          1077.0000000000605,
          1018.0000000000607,
          1006.6000000000604,
          1066.3000000000607,
          1052.5000000000603,
          1018.5000000000607,
          975.9000000000606,
          1085.8000000000611,
          1086.600000000062,
          1153.7000000000612,
          1162.800000000061,
          1113.6000000000606,
          1059.2000000000621,
          1039.8000000000616,
          1026.2000000000621,
          1015.1000000000615,
          1125.600000000062,
          1133.5000000000628,
          1341.300000000063,
          1422.500000000062,
          1476.6000000000613,
          1453.000000000062,
          1396.2000000000608,
          1321.6000000000606,
          1305.3000000000616,
          1284.5000000000618,
          1278.1000000000622,
          1292.500000000062,
          1321.7000000000623,
          1295.1000000000613,
          1489.10000000006,
          1599.9000000000608,
          1725.1000000000593,
          1788.800000000059,
          1655.4000000000601,
          1647.0000000000607,
          1642.3000000000611,
          1621.6000000000608,
          1698.8000000000604,
          1678.200000000061,
          1721.8000000000602,
          1691.3000000000625,
          2077.700000000061,
          1974.2000000000594,
          2022.0000000000573,
          1986.4000000000578,
          1974.700000000059,
          2046.8000000000607,
          2164.100000000061,
          2166.9000000000615,
          2182.7000000000594,
          2285.9000000000583,
          2293.9000000000574,
          2294.9000000000574,
          2251.0000000000573,
          2225.800000000058,
          2197.4000000000588,
          2321.0000000000587,
          2282.8000000000584,
          2248.700000000059,
          2320.1000000000595,
          2422.3000000000598,
          2658.6000000000613,
          2837.700000000062,
          3481.000000000065,
          3436.9000000000624,
          3415.9000000000624,
          3374.9000000000624,
          3553.600000000063,
          3896.0000000000623,
          3880.5000000000628,
          3872.100000000063,
          3969.800000000064,
          3959.600000000065,
          3953.900000000065,
          3930.7000000000653,
          3875.1000000000654,
          3877.9000000000647,
          3832.5000000000646,
          3832.7000000000635,
          3898.0000000000637,
          3868.8000000000634,
          3705.600000000062,
          3702.9000000000624,
          3661.9000000000624,
          3633.700000000062,
          3612.1000000000627,
          3589.100000000063,
          3563.300000000062,
          3551.600000000062,
          3550.400000000061,
          3530.100000000059,
          3637.900000000059,
          4312.500000000061,
          4264.20000000006,
          4240.40000000006,
          4226.800000000059,
          4217.400000000059,
          4193.40000000006,
          4166.40000000006,
          4129.40000000006,
          4112.000000000057,
          4050.0000000000573,
          3964.600000000057,
          3941.000000000057,
          3852.7000000000567,
          3799.200000000057,
          3790.5000000000578,
          3774.4000000000574,
          3712.600000000059,
          3704.100000000058,
          3729.6000000000586,
          3745.500000000058,
          3741.700000000059,
          3720.600000000058,
          4188.800000000058,
          4245.200000000058,
          4243.500000000058,
          4283.900000000059,
          4224.000000000059,
          4225.700000000059,
          4181.600000000059,
          4159.100000000061,
          4116.700000000061,
          4106.700000000061,
          4018.100000000061,
          4050.3000000000607,
          4076.900000000062,
          4061.0000000000623,
          4311.600000000063,
          4027.700000000061,
          4025.0000000000623,
          4115.500000000063,
          4074.200000000063,
          4088.0000000000637,
          4078.600000000064,
          4041.2000000000644,
          4053.2000000000644,
          4029.7000000000635,
          4073.2000000000635,
          4058.6000000000654,
          4039.600000000066,
          4016.6000000000663,
          3938.300000000066,
          3926.800000000066,
          3909.000000000065,
          3866.300000000064,
          3813.0000000000646,
          3737.2000000000653,
          3674.1000000000654,
          3509.2000000000653,
          3483.100000000066,
          3414.900000000067,
          3407.1000000000668,
          3457.1000000000668,
          3423.7000000000676,
          3480.200000000067,
          3459.500000000069,
          3580.5000000000705,
          3578.800000000072,
          3630.700000000072,
          3626.800000000071,
          3681.1000000000718,
          3778.6000000000713,
          3797.200000000071,
          3896.200000000071,
          3825.4000000000715,
          3913.2000000000726,
          3898.4000000000733,
          3868.6000000000736,
          3979.900000000074,
          3954.700000000075,
          3921.9000000000747,
          3891.4000000000747,
          3998.1000000000727,
          3977.5000000000723,
          4112.100000000073,
          4115.800000000073,
          4067.9000000000724,
          4015.4000000000715,
          3933.90000000007,
          3945.20000000007,
          3969.5000000000705,
          3944.3000000000698,
          4014.700000000069,
          4096.500000000068,
          4129.40000000007,
          4074.0000000000696,
          4050.7000000000703,
          3968.80000000007,
          3863.4000000000688,
          3827.800000000069,
          3834.400000000068,
          3851.4000000000683,
          3849.6000000000677,
          3817.600000000067,
          3729.900000000066,
          3708.0000000000646,
          3696.4000000000647,
          3694.600000000064,
          3626.9000000000647,
          3582.4000000000624,
          3522.400000000063,
          3534.8000000000643,
          3513.500000000065,
          3503.800000000064,
          3619.5000000000646,
          3432.7000000000617,
          3411.7000000000617,
          3448.9000000000633,
          3460.8000000000634,
          3441.3000000000643,
          3445.000000000064,
          3441.800000000065,
          3469.300000000063,
          3550.9000000000615,
          3515.10000000006,
          3625.4000000000606,
          3602.1000000000613,
          3599.6000000000627,
          3586.2000000000635,
          3582.3000000000648,
          3539.2000000000644,
          3522.8000000000634,
          3512.400000000064,
          3496.200000000065,
          3484.200000000066,
          3453.9000000000674,
          3889.900000000067,
          3886.6000000000663,
          3923.6000000000677,
          4063.300000000068,
          4110.8000000000675,
          4132.8000000000675,
          4114.600000000066,
          4098.400000000065,
          4083.0000000000664,
          4083.600000000066,
          4122.900000000066,
          4123.5000000000655,
          4126.000000000066,
          4095.600000000067,
          4014.000000000068,
          3946.600000000068,
          4008.90000000007,
          4009.700000000071,
          4077.0000000000714,
          4080.90000000007,
          4107.80000000007,
          4102.900000000069,
          4104.600000000069,
          4215.300000000068,
          4296.700000000066,
          4517.600000000068,
          4480.3000000000675,
          4442.600000000068,
          4422.500000000067,
          4487.200000000067,
          4576.400000000068,
          4568.100000000068,
          4584.500000000068,
          4611.90000000007,
          4687.300000000071,
          4718.000000000071,
          4728.60000000007,
          4654.900000000071,
          4652.30000000007,
          4613.800000000069,
          4594.400000000069,
          4572.20000000007,
          4555.6000000000695,
          4549.000000000068,
          4549.400000000068,
          4531.600000000069,
          4527.700000000067,
          4490.900000000068,
          4584.400000000067,
          4620.800000000069,
          4643.50000000007,
          4637.000000000069,
          4624.000000000068,
          4603.200000000069,
          4568.700000000069,
          4485.200000000071,
          4464.600000000071,
          4477.00000000007,
          4472.60000000007,
          4434.40000000007,
          4441.20000000007,
          4557.000000000071,
          4589.200000000071,
          4790.6000000000695,
          4941.600000000071,
          5028.80000000007,
          4989.70000000007,
          4971.100000000069,
          4944.600000000069,
          4901.500000000068,
          4927.500000000067,
          4935.3000000000675,
          4943.900000000069,
          4953.700000000069,
          4959.800000000069,
          4961.20000000007,
          4946.00000000007,
          4935.700000000069,
          5007.600000000068,
          5016.200000000066,
          5021.300000000067,
          4975.400000000066,
          4934.500000000066,
          4926.900000000067,
          4846.600000000067,
          4807.100000000067,
          4766.100000000067,
          4744.100000000065,
          4692.300000000062,
          4630.500000000061,
          4609.800000000061,
          4605.9000000000615,
          4536.4000000000615,
          4544.600000000062,
          4519.500000000062,
          4519.500000000062,
          4513.400000000062,
          4656.400000000062,
          4622.700000000063,
          4622.200000000061,
          4590.200000000061,
          4502.100000000061,
          4657.4000000000615,
          4641.300000000061,
          4750.80000000006,
          4736.900000000061,
          4590.300000000061,
          4581.70000000006,
          4547.80000000006,
          4567.700000000061,
          4475.4000000000615,
          4460.800000000061,
          4475.300000000061,
          4610.80000000006,
          4620.500000000062,
          4594.500000000063,
          4504.100000000063,
          4420.600000000065,
          4652.400000000063,
          4697.400000000062,
          4698.600000000063,
          4714.800000000064,
          4765.700000000064,
          4810.500000000064,
          4823.100000000066,
          4799.100000000065,
          4877.800000000067,
          4898.800000000067,
          4890.100000000068,
          4887.600000000067,
          4887.300000000066,
          4917.700000000066,
          4867.000000000066,
          4843.900000000064,
          4801.100000000064,
          4789.700000000066,
          4786.300000000067,
          4776.400000000066,
          4766.500000000065,
          4871.300000000065,
          4854.600000000064,
          5179.900000000065,
          5262.600000000065,
          5261.800000000064,
          5431.500000000064,
          5548.700000000064,
          5598.800000000064,
          5670.600000000063,
          5654.200000000063,
          5709.600000000064,
          5847.900000000064,
          5828.500000000064,
          5873.000000000065,
          5863.500000000065,
          5803.7000000000635,
          5653.600000000061,
          5631.80000000006,
          5611.60000000006,
          5649.60000000006,
          5657.30000000006,
          5690.50000000006,
          5680.90000000006,
          5664.300000000059,
          5669.3000000000575,
          5614.50000000006,
          5544.20000000006,
          5507.200000000059,
          5470.600000000059,
          5409.100000000058,
          5480.300000000057,
          5471.500000000057,
          5438.200000000058,
          5822.400000000059,
          5808.000000000058,
          5792.200000000059,
          5773.200000000058,
          5663.400000000057,
          5690.5000000000555,
          5775.100000000056,
          5931.700000000056,
          6125.800000000056,
          6787.800000000057,
          6968.400000000056,
          6908.200000000057,
          7389.300000000057,
          7595.600000000056,
          7583.600000000056,
          7905.900000000057,
          7857.100000000057,
          8437.200000000055,
          8516.600000000057,
          8620.000000000056,
          8608.400000000054,
          8694.900000000054,
          9062.000000000055,
          9016.100000000053,
          8998.300000000054,
          8869.900000000054,
          8896.500000000055,
          8999.000000000056,
          9033.400000000056,
          9086.900000000056,
          9074.800000000056,
          9031.600000000055,
          8958.200000000055,
          8922.100000000055,
          8839.900000000054,
          8734.600000000055,
          8695.200000000055,
          8617.400000000054,
          8625.100000000053,
          8597.500000000053,
          8561.800000000052,
          8594.700000000052,
          8574.90000000005,
          8467.900000000049,
          8478.00000000005,
          8448.000000000047,
          8531.200000000046,
          8573.800000000045,
          8790.600000000044,
          8669.600000000044,
          8633.200000000043,
          8627.000000000042,
          8744.200000000043,
          8831.800000000043,
          9072.900000000043,
          9252.700000000044,
          9378.100000000046,
          9355.600000000048,
          9303.60000000005,
          9280.800000000048,
          9231.600000000048,
          9192.200000000048,
          9144.800000000048,
          9125.400000000049,
          8962.600000000048,
          8871.100000000048,
          8883.000000000045,
          8883.800000000047,
          8853.600000000048,
          9025.600000000048,
          9211.100000000046,
          9304.100000000046,
          9364.200000000044,
          9356.900000000045,
          9346.600000000046,
          9322.400000000047,
          9255.400000000049,
          9211.800000000047,
          9170.60000000005,
          9142.30000000005,
          9122.10000000005,
          9331.100000000051,
          9352.100000000051,
          9316.000000000051,
          9278.800000000048,
          9266.00000000005,
          9252.30000000005,
          9211.30000000005,
          9176.800000000048,
          9076.90000000005,
          9053.10000000005,
          9011.900000000049,
          8905.70000000005,
          8891.10000000005,
          8716.10000000005,
          8705.100000000051,
          8669.300000000052,
          8621.900000000052,
          8617.600000000051,
          8400.700000000052,
          8440.300000000052,
          8380.500000000051,
          8371.100000000051,
          8353.100000000053,
          8278.000000000055,
          8278.400000000054,
          8275.900000000056,
          8234.400000000058,
          8193.600000000059,
          8179.900000000058,
          8088.900000000059,
          8093.200000000059,
          8031.500000000059,
          8032.1000000000595,
          7896.30000000006,
          7769.100000000058,
          7019.100000000059,
          6903.300000000058,
          6699.900000000058,
          6658.900000000058,
          6622.900000000058,
          6591.900000000058,
          6447.200000000058,
          6522.800000000058,
          6553.400000000059,
          6470.600000000058,
          6321.8000000000575,
          6305.600000000058,
          6285.200000000057,
          6345.700000000056,
          6394.700000000057,
          6394.700000000057,
          6354.300000000057,
          6540.600000000057,
          6586.500000000057,
          6500.900000000056,
          6755.700000000054,
          6756.600000000055,
          6900.700000000056,
          6914.800000000056,
          6896.800000000055,
          6889.500000000054,
          6898.500000000054,
          6906.800000000054,
          6820.800000000054,
          6856.400000000054,
          6784.000000000053,
          6678.200000000054,
          6662.200000000054,
          6599.400000000055,
          6834.900000000055,
          6811.900000000055,
          6848.100000000056,
          6822.000000000056,
          7174.800000000055,
          7156.900000000056,
          7142.400000000057,
          7043.700000000057,
          6997.3000000000575,
          6873.100000000059,
          6813.50000000006,
          6845.900000000061,
          6835.30000000006,
          6802.80000000006,
          6798.700000000061,
          6822.300000000062,
          6784.900000000062,
          6738.9000000000615,
          6705.9000000000615,
          6677.7000000000635,
          6949.100000000063,
          6873.500000000063,
          6846.900000000062,
          6825.300000000063,
          6802.900000000062,
          6813.000000000063,
          6817.800000000061,
          7022.100000000064,
          7024.800000000064,
          6928.0000000000655,
          6922.0000000000655,
          6928.700000000065,
          6908.700000000065,
          6891.900000000066,
          6851.900000000065,
          6795.700000000065,
          6654.800000000066,
          6652.600000000067,
          6431.400000000063,
          6598.700000000063,
          6508.800000000063,
          6346.400000000063,
          6594.900000000065,
          6807.0000000000655,
          6870.5000000000655,
          6873.0000000000655,
          7175.600000000065,
          7293.400000000065,
          7339.300000000065,
          7319.800000000065,
          7297.700000000066,
          7227.800000000066,
          7204.400000000066,
          7210.400000000065,
          7213.400000000065,
          7187.200000000067,
          7166.600000000066,
          7230.000000000066,
          7386.600000000067,
          7806.5000000000655,
          7902.700000000067,
          7892.8000000000675,
          7818.200000000067,
          7764.200000000068,
          7637.900000000069,
          7624.400000000069,
          8009.800000000071,
          8004.200000000073,
          8144.500000000072,
          8143.600000000072,
          8138.900000000072,
          8009.9000000000715,
          7882.100000000072,
          7833.000000000072,
          7701.200000000073,
          7697.2000000000735,
          7850.600000000074,
          7752.800000000073,
          7717.000000000072,
          7617.800000000073,
          7626.300000000072,
          7619.100000000071,
          7672.900000000071,
          7676.30000000007,
          7754.400000000071,
          7777.60000000007,
          7756.400000000069,
          7787.600000000069,
          7751.100000000067,
          7684.000000000066,
          7622.700000000067,
          7471.400000000065,
          7579.400000000063,
          7663.000000000063,
          7690.300000000062,
          7804.100000000062,
          7675.10000000006,
          7511.6000000000595,
          7363.20000000006,
          7348.300000000061,
          7333.9000000000615,
          7480.700000000063,
          7689.400000000062,
          7652.200000000063,
          7572.800000000062,
          7634.300000000063,
          7621.400000000062,
          7611.000000000063,
          7609.900000000064,
          7644.700000000064,
          7797.5000000000655,
          7779.100000000065,
          7807.700000000065,
          7697.900000000064,
          7680.100000000064,
          7628.900000000064,
          7577.500000000065,
          7542.500000000064,
          7535.800000000062,
          7524.300000000061,
          7401.900000000058,
          7339.500000000057,
          7266.200000000055,
          7226.800000000055,
          7092.300000000055,
          6875.5000000000555,
          6856.5000000000555,
          6832.900000000056,
          6999.700000000055,
          6979.800000000054,
          6961.600000000054,
          7057.500000000054,
          7050.200000000054,
          7128.800000000054,
          7182.700000000054,
          7190.100000000053,
          7176.000000000054,
          7222.800000000054,
          7281.300000000053,
          7236.900000000053,
          7218.800000000054,
          7172.600000000053,
          7070.300000000051,
          7033.4000000000515,
          7010.100000000051,
          6978.400000000051,
          6986.000000000052,
          7029.600000000052,
          6911.400000000054,
          6831.400000000054,
          6770.000000000054,
          6748.700000000054,
          6763.000000000054,
          6777.900000000053,
          6786.2000000000535,
          6731.200000000055,
          6616.500000000055,
          6614.600000000054,
          6623.7000000000535,
          6597.2000000000535,
          6568.300000000053,
          6553.500000000053,
          6532.2000000000535,
          6485.2000000000535,
          6462.2000000000535,
          6483.5000000000555,
          6601.300000000056,
          6586.400000000056,
          6599.500000000056,
          6627.900000000056,
          6618.800000000057,
          6540.500000000059,
          6553.200000000058,
          6381.900000000059,
          6313.900000000058,
          6283.000000000058,
          6256.00000000006,
          6233.500000000062,
          6503.400000000063,
          6606.800000000065,
          6877.000000000066,
          6883.000000000065,
          6870.800000000065,
          6851.300000000064,
          7043.500000000065,
          6952.600000000064,
          6979.600000000064,
          6989.200000000064,
          7062.600000000066,
          7401.700000000067,
          7387.8000000000675,
          7408.800000000067,
          7356.600000000064,
          7309.300000000065,
          7305.900000000064,
          7557.200000000064,
          7640.600000000065,
          7655.000000000064,
          7659.000000000064,
          7718.700000000065,
          7702.600000000064,
          7680.000000000065,
          7675.400000000065,
          7667.200000000066,
          7728.900000000066,
          7752.800000000066,
          7803.200000000065,
          7720.500000000066,
          7710.300000000067,
          7641.200000000065,
          7472.100000000067,
          7400.700000000065,
          7429.400000000065,
          7924.000000000065,
          8005.900000000063,
          8012.000000000064,
          7999.000000000064,
          7945.600000000062,
          7892.400000000062,
          7888.000000000063,
          7860.000000000064,
          7852.100000000063,
          7831.500000000062,
          7786.700000000062,
          7754.20000000006,
          7723.000000000061,
          7695.000000000062,
          7671.300000000061,
          7655.1000000000595,
          7636.700000000059,
          7657.400000000059,
          7645.100000000059,
          7542.000000000056,
          7450.5000000000555,
          7488.400000000055,
          7791.200000000056,
          7868.900000000054,
          7873.400000000055,
          8027.600000000055,
          8064.200000000055,
          8444.500000000053,
          8555.600000000053,
          8544.000000000055,
          8647.200000000055,
          8866.200000000055,
          8825.800000000056,
          8808.900000000056,
          8798.900000000056,
          8765.500000000055,
          8717.500000000055,
          8557.100000000057,
          8774.500000000056,
          8963.400000000058,
          8934.50000000006,
          8857.20000000006,
          8826.10000000006,
          8755.400000000061,
          8745.000000000062,
          8718.100000000062,
          8734.700000000063,
          8689.900000000061,
          8699.20000000006,
          8607.60000000006,
          8524.10000000006,
          8470.500000000062,
          8462.300000000063,
          8481.000000000064,
          8436.200000000064,
          8430.400000000065,
          8294.700000000066,
          8275.700000000066,
          8237.900000000067,
          8165.100000000068,
          8224.400000000067,
          8180.400000000067,
          8145.300000000067,
          8081.500000000067,
          8509.500000000067,
          8507.700000000068,
          8483.900000000069,
          8491.600000000068,
          8457.000000000067,
          8839.400000000065,
          8712.800000000067,
          8735.800000000067,
          8683.700000000068,
          8966.200000000066,
          8937.600000000068,
          9102.600000000066,
          8888.700000000064,
          8907.200000000066,
          8900.100000000066,
          9586.100000000068,
          9775.700000000068,
          9705.70000000007,
          9741.900000000069,
          9711.800000000068,
          9678.000000000067,
          9806.400000000067,
          9834.100000000066,
          9889.900000000067,
          9907.00000000007,
          9906.60000000007,
          9966.400000000069,
          9993.800000000068,
          9949.200000000068,
          9980.900000000067,
          10052.900000000069,
          9975.20000000007,
          9948.200000000068,
          9923.900000000069,
          9891.200000000068,
          9828.300000000067,
          9775.000000000065,
          9776.400000000065,
          9800.600000000066,
          9709.700000000068,
          9580.900000000069,
          9584.50000000007,
          9531.300000000068,
          9510.300000000068,
          9401.100000000068,
          9341.800000000068,
          9313.600000000068,
          9248.800000000067,
          9198.000000000065,
          9143.400000000067,
          9080.200000000068,
          9055.200000000068,
          9143.200000000068,
          9357.100000000068,
          9188.30000000007,
          9215.50000000007,
          9128.100000000071,
          9186.900000000072,
          8977.200000000073,
          9157.100000000073,
          9347.300000000072,
          9303.200000000072,
          9145.300000000072,
          9636.700000000073,
          9516.200000000072,
          9559.200000000072,
          9616.800000000072,
          9540.700000000072,
          9278.900000000072,
          9345.000000000073,
          9317.800000000072,
          9502.800000000072,
          9611.700000000072,
          9957.500000000071,
          10057.20000000007,
          10199.50000000007,
          10171.20000000007,
          10131.000000000071,
          10073.400000000072,
          9859.800000000072,
          9905.800000000072,
          9852.400000000072,
          9860.100000000073,
          9837.300000000074,
          9790.700000000073,
          9779.200000000072,
          9768.40000000007,
          9755.70000000007,
          9751.200000000072,
          9818.500000000073,
          9797.800000000072,
          9800.500000000071,
          9792.90000000007,
          9875.70000000007,
          9905.900000000069,
          9927.800000000068,
          10102.800000000068,
          10099.600000000068,
          10226.400000000069,
          10225.00000000007,
          10211.700000000068,
          10193.400000000069,
          10257.20000000007,
          10216.70000000007,
          10212.20000000007,
          10180.900000000069,
          10141.800000000068,
          10144.10000000007,
          10222.900000000069,
          10202.300000000068,
          10225.300000000068,
          10232.70000000007,
          10146.80000000007,
          10198.900000000069,
          10017.500000000067,
          9973.200000000066,
          9927.600000000068,
          9846.400000000069,
          9866.60000000007,
          9791.500000000071,
          9702.20000000007,
          9627.40000000007,
          9594.90000000007,
          9573.20000000007,
          9547.30000000007,
          9623.80000000007,
          9698.20000000007,
          9702.80000000007,
          9811.600000000073,
          9835.200000000072,
          9648.000000000073,
          9491.400000000074,
          9445.100000000073,
          9421.500000000075,
          9399.000000000075,
          9406.300000000074,
          9366.600000000073,
          9313.100000000073,
          9299.300000000074,
          9292.300000000074,
          9284.700000000073,
          9309.300000000072,
          9229.900000000074,
          9187.900000000074,
          9100.900000000076,
          9206.300000000077,
          9143.900000000078,
          9343.600000000075,
          9317.900000000076,
          9383.300000000076,
          9464.300000000076,
          9433.900000000076,
          9388.000000000078,
          9554.600000000077,
          9688.100000000075,
          9679.200000000073,
          9689.900000000072,
          9712.80000000007,
          9634.10000000007,
          9628.700000000068,
          9622.00000000007,
          9536.900000000067,
          9509.000000000065,
          9610.800000000065,
          9612.500000000065,
          9562.900000000067,
          9708.800000000067,
          9815.500000000067,
          9806.400000000067,
          9798.600000000068,
          9901.400000000069,
          10019.300000000068,
          10104.500000000067,
          10097.200000000068,
          10064.700000000068,
          10155.200000000068,
          10143.600000000068,
          10230.200000000068,
          10407.600000000068,
          10395.500000000065,
          10400.200000000064,
          10358.000000000064,
          10354.300000000065,
          10313.500000000065,
          10245.900000000063,
          10197.300000000063,
          10319.700000000063,
          10326.300000000061,
          10331.900000000061,
          10263.90000000006,
          10298.30000000006,
          10198.900000000058,
          10354.100000000057,
          10266.200000000057,
          10235.000000000056,
          10169.600000000057,
          10136.800000000057,
          10143.300000000057,
          10093.500000000058,
          10050.700000000057,
          9978.300000000057,
          9985.500000000058,
          9987.600000000057,
          9956.400000000056,
          9938.300000000056,
          9871.700000000055,
          9868.700000000057,
          9802.600000000057,
          9830.000000000056,
          9835.400000000056,
          10185.500000000056,
          10164.100000000057,
          10175.200000000055,
          10153.900000000056,
          10113.000000000055,
          10116.300000000056,
          10098.700000000055,
          10118.800000000056,
          10070.200000000055,
          9986.300000000054,
          9883.000000000055,
          9705.40000000005,
          9588.30000000005,
          9521.80000000005,
          9600.00000000005,
          9538.00000000005,
          9497.50000000005,
          9464.50000000005,
          9436.600000000048,
          9426.700000000048,
          9290.900000000049,
          9718.40000000005,
          9769.100000000048,
          9879.300000000048,
          10332.600000000046,
          10443.500000000047,
          10529.800000000047,
          10570.000000000045,
          10564.600000000046,
          10542.500000000045,
          10461.000000000044,
          10454.500000000044,
          10422.400000000043,
          10327.20000000004,
          10408.90000000004,
          10363.50000000004,
          10309.50000000004,
          10243.700000000037,
          10214.100000000039,
          10224.30000000004,
          10244.20000000004,
          10169.00000000004,
          10115.60000000004,
          10209.900000000041,
          10287.00000000004,
          10257.30000000004,
          10289.90000000004,
          10319.40000000004,
          10292.20000000004,
          10266.60000000004,
          10199.500000000042,
          10159.400000000041,
          10086.80000000004,
          10018.200000000039,
          9803.700000000037,
          9735.100000000039,
          9842.000000000036,
          9868.000000000036,
          9892.200000000035,
          9810.900000000034,
          9769.500000000033,
          9735.300000000034,
          9684.100000000033,
          9677.900000000034,
          9676.100000000033,
          9654.000000000033,
          9599.500000000035,
          9688.400000000032,
          9795.700000000033,
          9819.400000000034,
          9867.200000000033,
          9890.800000000034,
          9883.200000000033,
          9828.200000000035,
          9791.700000000035,
          9761.600000000035,
          9835.400000000036,
          9885.30000000004,
          9843.00000000004,
          9822.40000000004,
          9802.700000000043,
          9803.100000000042,
          9816.100000000042,
          9780.70000000004,
          9727.900000000041,
          9709.400000000043,
          9701.700000000043,
          9669.400000000041,
          9633.40000000004,
          9602.00000000004,
          9526.900000000038,
          9489.400000000036,
          9498.400000000036,
          9483.100000000035,
          9456.900000000036,
          9586.100000000037,
          9823.00000000004,
          9766.800000000041,
          10202.600000000042,
          10191.400000000041,
          10172.100000000042,
          10134.90000000004,
          10020.800000000037,
          9943.900000000038,
          9881.500000000038,
          9848.700000000039,
          9841.600000000039,
          9825.900000000038,
          9830.80000000004,
          9760.200000000039,
          9710.50000000004,
          9580.800000000041,
          9571.70000000004,
          9320.400000000045,
          9284.300000000045,
          9248.800000000045,
          9224.400000000045,
          9254.200000000044,
          9439.500000000044,
          9492.100000000042,
          9469.100000000042,
          9502.100000000044,
          9640.900000000045,
          9648.300000000045,
          9652.400000000045,
          9589.900000000047,
          9634.300000000047,
          9568.300000000045,
          9553.100000000046,
          9420.000000000044,
          9382.400000000043,
          9361.100000000042,
          9362.500000000042,
          9338.90000000004,
          9300.90000000004,
          9294.20000000004,
          9281.70000000004,
          9169.40000000004,
          9096.80000000004,
          9080.80000000004,
          9017.40000000004,
          8943.90000000004,
          8934.50000000004,
          8865.700000000039,
          8848.50000000004,
          8771.60000000004,
          8744.50000000004,
          8662.000000000038,
          8681.300000000037,
          8763.400000000038,
          8772.600000000039,
          8765.500000000038,
          8728.700000000039,
          8739.90000000004,
          8739.80000000004,
          8702.80000000004,
          8640.600000000039,
          8580.400000000038,
          8545.200000000037,
          8512.800000000034,
          8492.700000000033,
          8463.400000000032,
          8502.200000000033,
          8475.600000000033,
          8449.000000000035,
          8427.000000000035,
          8370.600000000033,
          8261.900000000036,
          8176.200000000035,
          8183.200000000034,
          8175.000000000035,
          8139.300000000035,
          8125.000000000035,
          7963.500000000035,
          7993.800000000034,
          8061.100000000034,
          8114.100000000034,
          8132.2000000000335,
          8293.500000000036,
          8320.400000000038,
          8227.500000000038,
          8150.200000000036,
          8115.5000000000355,
          8030.000000000037,
          8026.600000000039,
          7983.000000000039,
          7935.900000000039,
          7707.6000000000395,
          7667.900000000039,
          7597.700000000039,
          7532.000000000039,
          7498.20000000004,
          7462.6000000000395,
          7401.6000000000395,
          7503.200000000041,
          7453.700000000041,
          7399.9000000000415,
          7372.100000000041,
          7315.500000000041,
          7287.800000000041,
          7189.10000000004,
          7242.30000000004,
          7110.800000000041,
          6914.10000000004,
          6880.00000000004,
          6856.20000000004,
          6867.100000000041,
          7002.900000000042,
          6964.100000000043,
          6939.800000000042,
          6853.400000000041,
          6706.200000000039,
          6671.90000000004,
          6566.600000000037,
          6631.200000000038,
          6642.400000000038,
          6606.400000000038,
          6596.900000000038,
          6709.300000000037,
          6638.800000000036,
          6601.200000000036,
          6575.100000000037,
          6498.8000000000375,
          6298.000000000037,
          6254.100000000036,
          6230.800000000034,
          6235.800000000034,
          6564.800000000034,
          6577.400000000034,
          7143.600000000033,
          7118.7000000000335,
          7228.100000000033,
          7515.800000000031,
          7817.200000000032,
          7806.600000000033,
          7687.700000000034,
          7583.900000000034,
          7577.900000000034,
          7567.900000000033,
          7555.400000000033,
          7548.800000000035,
          7564.800000000036,
          7563.900000000035,
          7598.700000000034,
          7657.700000000034,
          7640.200000000034,
          7585.200000000036,
          7539.900000000035,
          7360.700000000034,
          7321.900000000034,
          7294.600000000034,
          7246.800000000034,
          7260.800000000032,
          7259.100000000032,
          7249.400000000033,
          7360.300000000034,
          7345.800000000033,
          7376.000000000033,
          7320.2000000000335,
          7260.700000000035,
          7269.900000000037,
          7254.500000000037,
          7233.900000000038,
          7218.100000000039,
          7195.600000000038,
          7229.300000000038,
          7268.300000000038,
          7253.00000000004,
          7215.70000000004,
          7208.10000000004,
          7218.00000000004,
          7301.900000000039,
          7334.600000000039,
          7347.10000000004,
          7299.30000000004,
          7438.500000000042,
          7451.800000000042,
          7435.200000000042,
          7520.10000000004,
          7458.80000000004,
          7580.500000000042,
          7643.9000000000415,
          7619.200000000042,
          7574.600000000042,
          7578.100000000042,
          7599.300000000042,
          7599.800000000043,
          7640.400000000043,
          7745.100000000043,
          7769.300000000043,
          7791.000000000043,
          7774.700000000043,
          7679.100000000042,
          7703.100000000042,
          7684.400000000043,
          7494.800000000043,
          7249.700000000043,
          7150.80000000004,
          7156.500000000042,
          7128.900000000043,
          7111.800000000042,
          7085.600000000042,
          7038.000000000042,
          7138.200000000043,
          7161.900000000042,
          7170.300000000043,
          7159.300000000042,
          7122.200000000041,
          7098.100000000043,
          7006.000000000042,
          6952.000000000042,
          7086.000000000041,
          7098.300000000042,
          7091.4000000000415,
          7106.400000000042,
          7107.900000000043,
          7102.900000000044,
          7071.400000000044,
          7095.600000000043,
          7158.800000000044,
          7214.000000000044,
          7372.900000000044,
          7291.800000000046,
          7272.400000000045,
          7227.000000000045,
          7144.000000000044,
          7153.400000000043,
          7160.000000000044,
          7112.400000000045,
          7098.300000000043,
          7083.500000000044,
          7083.600000000044,
          7063.000000000042,
          7087.00000000004,
          6976.10000000004,
          6986.500000000042,
          6975.700000000042,
          6928.000000000045,
          7043.100000000045,
          6972.100000000045,
          7028.600000000045,
          6972.600000000044,
          6993.000000000044,
          7250.800000000045,
          7616.700000000046,
          7748.300000000049,
          7739.100000000049,
          8032.500000000046,
          8009.500000000045,
          7931.700000000043,
          7998.100000000042,
          8072.700000000039,
          7990.70000000004,
          7979.000000000041,
          7952.400000000042,
          8035.800000000043,
          8053.400000000042,
          8038.400000000043,
          8010.800000000045,
          8007.400000000045,
          8002.800000000045,
          7999.60000000004,
          8068.800000000039,
          8092.90000000004,
          8070.700000000042,
          8072.100000000042,
          8072.300000000044,
          8219.900000000043,
          8261.200000000044,
          8350.500000000044,
          8418.900000000043,
          8416.900000000045,
          8502.800000000043,
          8485.200000000043,
          8480.500000000044,
          8499.900000000043,
          8500.800000000041,
          8609.400000000041,
          8825.400000000041,
          8917.900000000041,
          9169.500000000042,
          9137.50000000004,
          9086.00000000004,
          9076.300000000041,
          9269.80000000004,
          9250.200000000039,
          9370.80000000004,
          9478.000000000036,
          9591.300000000034,
          9561.400000000034,
          9521.300000000034,
          9439.400000000034,
          9438.200000000033,
          9440.200000000033,
          9392.000000000035,
          9424.800000000036,
          9420.500000000036,
          9425.700000000037,
          9427.400000000038,
          9614.300000000037,
          9606.600000000037,
          9745.800000000037,
          9718.400000000038,
          9693.400000000038,
          9648.100000000035,
          9876.100000000035,
          10058.400000000036,
          10078.300000000036,
          10243.900000000032,
          9983.80000000003,
          9975.90000000003,
          9925.100000000028,
          10088.400000000025,
          10189.800000000023,
          10246.600000000024,
          10289.200000000023,
          10386.200000000023,
          10407.600000000022,
          10370.000000000022,
          10335.60000000002,
          10324.70000000002,
          10276.90000000002,
          10209.10000000002,
          10106.400000000018,
          10123.100000000019,
          10216.80000000002,
          10205.90000000002,
          10214.900000000018,
          10284.400000000014,
          10247.000000000015,
          10330.800000000016,
          10361.400000000016,
          10295.000000000016,
          10305.800000000017,
          10297.900000000016,
          10264.300000000016,
          10222.700000000015,
          10205.700000000013,
          10079.000000000015,
          10060.100000000013,
          10070.900000000012,
          9975.900000000012,
          9761.200000000012,
          9735.500000000011,
          9741.900000000012,
          9723.600000000013,
          9731.500000000015,
          9706.600000000015,
          9649.000000000015,
          9616.400000000016,
          9578.600000000017,
          9508.300000000016,
          9493.600000000015,
          9386.900000000016,
          9372.100000000015,
          9284.400000000014,
          9222.000000000015,
          9178.800000000016,
          9166.200000000017,
          9097.000000000016,
          9037.600000000015,
          9019.100000000015,
          9019.600000000017,
          8990.600000000015,
          8981.300000000014,
          9005.300000000016,
          8986.600000000017,
          8978.200000000017,
          8947.600000000017,
          8930.600000000017,
          8910.200000000019,
          8873.50000000002,
          8825.00000000002,
          8799.700000000019,
          8743.500000000022,
          8698.70000000002,
          8672.10000000002,
          8682.400000000021,
          8660.200000000023,
          8622.70000000002,
          8605.500000000022,
          8596.800000000023,
          8593.800000000023,
          8559.900000000021,
          8476.40000000002,
          8474.400000000018,
          8449.400000000018,
          8387.80000000002,
          8295.500000000018,
          8208.300000000017,
          8149.900000000017,
          8111.700000000016,
          8059.700000000016
         ]
        }
       ],
       "layout": {
        "font": {
         "color": "#3d825f",
         "size": 10
        },
        "height": 400,
        "margin": {
         "b": 10,
         "l": 15,
         "r": 15
        },
        "paper_bgcolor": "#1e1e1e",
        "plot_bgcolor": "#1e1e1e",
        "template": {
         "data": {
          "bar": [
           {
            "error_x": {
             "color": "#2a3f5f"
            },
            "error_y": {
             "color": "#2a3f5f"
            },
            "marker": {
             "line": {
              "color": "#E5ECF6",
              "width": 0.5
             },
             "pattern": {
              "fillmode": "overlay",
              "size": 10,
              "solidity": 0.2
             }
            },
            "type": "bar"
           }
          ],
          "barpolar": [
           {
            "marker": {
             "line": {
              "color": "#E5ECF6",
              "width": 0.5
             },
             "pattern": {
              "fillmode": "overlay",
              "size": 10,
              "solidity": 0.2
             }
            },
            "type": "barpolar"
           }
          ],
          "carpet": [
           {
            "aaxis": {
             "endlinecolor": "#2a3f5f",
             "gridcolor": "white",
             "linecolor": "white",
             "minorgridcolor": "white",
             "startlinecolor": "#2a3f5f"
            },
            "baxis": {
             "endlinecolor": "#2a3f5f",
             "gridcolor": "white",
             "linecolor": "white",
             "minorgridcolor": "white",
             "startlinecolor": "#2a3f5f"
            },
            "type": "carpet"
           }
          ],
          "choropleth": [
           {
            "colorbar": {
             "outlinewidth": 0,
             "ticks": ""
            },
            "type": "choropleth"
           }
          ],
          "contour": [
           {
            "colorbar": {
             "outlinewidth": 0,
             "ticks": ""
            },
            "colorscale": [
             [
              0,
              "#0d0887"
             ],
             [
              0.1111111111111111,
              "#46039f"
             ],
             [
              0.2222222222222222,
              "#7201a8"
             ],
             [
              0.3333333333333333,
              "#9c179e"
             ],
             [
              0.4444444444444444,
              "#bd3786"
             ],
             [
              0.5555555555555556,
              "#d8576b"
             ],
             [
              0.6666666666666666,
              "#ed7953"
             ],
             [
              0.7777777777777778,
              "#fb9f3a"
             ],
             [
              0.8888888888888888,
              "#fdca26"
             ],
             [
              1,
              "#f0f921"
             ]
            ],
            "type": "contour"
           }
          ],
          "contourcarpet": [
           {
            "colorbar": {
             "outlinewidth": 0,
             "ticks": ""
            },
            "type": "contourcarpet"
           }
          ],
          "heatmap": [
           {
            "colorbar": {
             "outlinewidth": 0,
             "ticks": ""
            },
            "colorscale": [
             [
              0,
              "#0d0887"
             ],
             [
              0.1111111111111111,
              "#46039f"
             ],
             [
              0.2222222222222222,
              "#7201a8"
             ],
             [
              0.3333333333333333,
              "#9c179e"
             ],
             [
              0.4444444444444444,
              "#bd3786"
             ],
             [
              0.5555555555555556,
              "#d8576b"
             ],
             [
              0.6666666666666666,
              "#ed7953"
             ],
             [
              0.7777777777777778,
              "#fb9f3a"
             ],
             [
              0.8888888888888888,
              "#fdca26"
             ],
             [
              1,
              "#f0f921"
             ]
            ],
            "type": "heatmap"
           }
          ],
          "heatmapgl": [
           {
            "colorbar": {
             "outlinewidth": 0,
             "ticks": ""
            },
            "colorscale": [
             [
              0,
              "#0d0887"
             ],
             [
              0.1111111111111111,
              "#46039f"
             ],
             [
              0.2222222222222222,
              "#7201a8"
             ],
             [
              0.3333333333333333,
              "#9c179e"
             ],
             [
              0.4444444444444444,
              "#bd3786"
             ],
             [
              0.5555555555555556,
              "#d8576b"
             ],
             [
              0.6666666666666666,
              "#ed7953"
             ],
             [
              0.7777777777777778,
              "#fb9f3a"
             ],
             [
              0.8888888888888888,
              "#fdca26"
             ],
             [
              1,
              "#f0f921"
             ]
            ],
            "type": "heatmapgl"
           }
          ],
          "histogram": [
           {
            "marker": {
             "pattern": {
              "fillmode": "overlay",
              "size": 10,
              "solidity": 0.2
             }
            },
            "type": "histogram"
           }
          ],
          "histogram2d": [
           {
            "colorbar": {
             "outlinewidth": 0,
             "ticks": ""
            },
            "colorscale": [
             [
              0,
              "#0d0887"
             ],
             [
              0.1111111111111111,
              "#46039f"
             ],
             [
              0.2222222222222222,
              "#7201a8"
             ],
             [
              0.3333333333333333,
              "#9c179e"
             ],
             [
              0.4444444444444444,
              "#bd3786"
             ],
             [
              0.5555555555555556,
              "#d8576b"
             ],
             [
              0.6666666666666666,
              "#ed7953"
             ],
             [
              0.7777777777777778,
              "#fb9f3a"
             ],
             [
              0.8888888888888888,
              "#fdca26"
             ],
             [
              1,
              "#f0f921"
             ]
            ],
            "type": "histogram2d"
           }
          ],
          "histogram2dcontour": [
           {
            "colorbar": {
             "outlinewidth": 0,
             "ticks": ""
            },
            "colorscale": [
             [
              0,
              "#0d0887"
             ],
             [
              0.1111111111111111,
              "#46039f"
             ],
             [
              0.2222222222222222,
              "#7201a8"
             ],
             [
              0.3333333333333333,
              "#9c179e"
             ],
             [
              0.4444444444444444,
              "#bd3786"
             ],
             [
              0.5555555555555556,
              "#d8576b"
             ],
             [
              0.6666666666666666,
              "#ed7953"
             ],
             [
              0.7777777777777778,
              "#fb9f3a"
             ],
             [
              0.8888888888888888,
              "#fdca26"
             ],
             [
              1,
              "#f0f921"
             ]
            ],
            "type": "histogram2dcontour"
           }
          ],
          "mesh3d": [
           {
            "colorbar": {
             "outlinewidth": 0,
             "ticks": ""
            },
            "type": "mesh3d"
           }
          ],
          "parcoords": [
           {
            "line": {
             "colorbar": {
              "outlinewidth": 0,
              "ticks": ""
             }
            },
            "type": "parcoords"
           }
          ],
          "pie": [
           {
            "automargin": true,
            "type": "pie"
           }
          ],
          "scatter": [
           {
            "fillpattern": {
             "fillmode": "overlay",
             "size": 10,
             "solidity": 0.2
            },
            "type": "scatter"
           }
          ],
          "scatter3d": [
           {
            "line": {
             "colorbar": {
              "outlinewidth": 0,
              "ticks": ""
             }
            },
            "marker": {
             "colorbar": {
              "outlinewidth": 0,
              "ticks": ""
             }
            },
            "type": "scatter3d"
           }
          ],
          "scattercarpet": [
           {
            "marker": {
             "colorbar": {
              "outlinewidth": 0,
              "ticks": ""
             }
            },
            "type": "scattercarpet"
           }
          ],
          "scattergeo": [
           {
            "marker": {
             "colorbar": {
              "outlinewidth": 0,
              "ticks": ""
             }
            },
            "type": "scattergeo"
           }
          ],
          "scattergl": [
           {
            "marker": {
             "colorbar": {
              "outlinewidth": 0,
              "ticks": ""
             }
            },
            "type": "scattergl"
           }
          ],
          "scattermapbox": [
           {
            "marker": {
             "colorbar": {
              "outlinewidth": 0,
              "ticks": ""
             }
            },
            "type": "scattermapbox"
           }
          ],
          "scatterpolar": [
           {
            "marker": {
             "colorbar": {
              "outlinewidth": 0,
              "ticks": ""
             }
            },
            "type": "scatterpolar"
           }
          ],
          "scatterpolargl": [
           {
            "marker": {
             "colorbar": {
              "outlinewidth": 0,
              "ticks": ""
             }
            },
            "type": "scatterpolargl"
           }
          ],
          "scatterternary": [
           {
            "marker": {
             "colorbar": {
              "outlinewidth": 0,
              "ticks": ""
             }
            },
            "type": "scatterternary"
           }
          ],
          "surface": [
           {
            "colorbar": {
             "outlinewidth": 0,
             "ticks": ""
            },
            "colorscale": [
             [
              0,
              "#0d0887"
             ],
             [
              0.1111111111111111,
              "#46039f"
             ],
             [
              0.2222222222222222,
              "#7201a8"
             ],
             [
              0.3333333333333333,
              "#9c179e"
             ],
             [
              0.4444444444444444,
              "#bd3786"
             ],
             [
              0.5555555555555556,
              "#d8576b"
             ],
             [
              0.6666666666666666,
              "#ed7953"
             ],
             [
              0.7777777777777778,
              "#fb9f3a"
             ],
             [
              0.8888888888888888,
              "#fdca26"
             ],
             [
              1,
              "#f0f921"
             ]
            ],
            "type": "surface"
           }
          ],
          "table": [
           {
            "cells": {
             "fill": {
              "color": "#EBF0F8"
             },
             "line": {
              "color": "white"
             }
            },
            "header": {
             "fill": {
              "color": "#C8D4E3"
             },
             "line": {
              "color": "white"
             }
            },
            "type": "table"
           }
          ]
         },
         "layout": {
          "annotationdefaults": {
           "arrowcolor": "#2a3f5f",
           "arrowhead": 0,
           "arrowwidth": 1
          },
          "autotypenumbers": "strict",
          "coloraxis": {
           "colorbar": {
            "outlinewidth": 0,
            "ticks": ""
           }
          },
          "colorscale": {
           "diverging": [
            [
             0,
             "#8e0152"
            ],
            [
             0.1,
             "#c51b7d"
            ],
            [
             0.2,
             "#de77ae"
            ],
            [
             0.3,
             "#f1b6da"
            ],
            [
             0.4,
             "#fde0ef"
            ],
            [
             0.5,
             "#f7f7f7"
            ],
            [
             0.6,
             "#e6f5d0"
            ],
            [
             0.7,
             "#b8e186"
            ],
            [
             0.8,
             "#7fbc41"
            ],
            [
             0.9,
             "#4d9221"
            ],
            [
             1,
             "#276419"
            ]
           ],
           "sequential": [
            [
             0,
             "#0d0887"
            ],
            [
             0.1111111111111111,
             "#46039f"
            ],
            [
             0.2222222222222222,
             "#7201a8"
            ],
            [
             0.3333333333333333,
             "#9c179e"
            ],
            [
             0.4444444444444444,
             "#bd3786"
            ],
            [
             0.5555555555555556,
             "#d8576b"
            ],
            [
             0.6666666666666666,
             "#ed7953"
            ],
            [
             0.7777777777777778,
             "#fb9f3a"
            ],
            [
             0.8888888888888888,
             "#fdca26"
            ],
            [
             1,
             "#f0f921"
            ]
           ],
           "sequentialminus": [
            [
             0,
             "#0d0887"
            ],
            [
             0.1111111111111111,
             "#46039f"
            ],
            [
             0.2222222222222222,
             "#7201a8"
            ],
            [
             0.3333333333333333,
             "#9c179e"
            ],
            [
             0.4444444444444444,
             "#bd3786"
            ],
            [
             0.5555555555555556,
             "#d8576b"
            ],
            [
             0.6666666666666666,
             "#ed7953"
            ],
            [
             0.7777777777777778,
             "#fb9f3a"
            ],
            [
             0.8888888888888888,
             "#fdca26"
            ],
            [
             1,
             "#f0f921"
            ]
           ]
          },
          "colorway": [
           "#636efa",
           "#EF553B",
           "#00cc96",
           "#ab63fa",
           "#FFA15A",
           "#19d3f3",
           "#FF6692",
           "#B6E880",
           "#FF97FF",
           "#FECB52"
          ],
          "font": {
           "color": "#2a3f5f"
          },
          "geo": {
           "bgcolor": "white",
           "lakecolor": "white",
           "landcolor": "#E5ECF6",
           "showlakes": true,
           "showland": true,
           "subunitcolor": "white"
          },
          "hoverlabel": {
           "align": "left"
          },
          "hovermode": "closest",
          "mapbox": {
           "style": "light"
          },
          "paper_bgcolor": "white",
          "plot_bgcolor": "#E5ECF6",
          "polar": {
           "angularaxis": {
            "gridcolor": "white",
            "linecolor": "white",
            "ticks": ""
           },
           "bgcolor": "#E5ECF6",
           "radialaxis": {
            "gridcolor": "white",
            "linecolor": "white",
            "ticks": ""
           }
          },
          "scene": {
           "xaxis": {
            "backgroundcolor": "#E5ECF6",
            "gridcolor": "white",
            "gridwidth": 2,
            "linecolor": "white",
            "showbackground": true,
            "ticks": "",
            "zerolinecolor": "white"
           },
           "yaxis": {
            "backgroundcolor": "#E5ECF6",
            "gridcolor": "white",
            "gridwidth": 2,
            "linecolor": "white",
            "showbackground": true,
            "ticks": "",
            "zerolinecolor": "white"
           },
           "zaxis": {
            "backgroundcolor": "#E5ECF6",
            "gridcolor": "white",
            "gridwidth": 2,
            "linecolor": "white",
            "showbackground": true,
            "ticks": "",
            "zerolinecolor": "white"
           }
          },
          "shapedefaults": {
           "line": {
            "color": "#2a3f5f"
           }
          },
          "ternary": {
           "aaxis": {
            "gridcolor": "white",
            "linecolor": "white",
            "ticks": ""
           },
           "baxis": {
            "gridcolor": "white",
            "linecolor": "white",
            "ticks": ""
           },
           "bgcolor": "#E5ECF6",
           "caxis": {
            "gridcolor": "white",
            "linecolor": "white",
            "ticks": ""
           }
          },
          "title": {
           "x": 0.05
          },
          "xaxis": {
           "automargin": true,
           "gridcolor": "white",
           "linecolor": "white",
           "ticks": "",
           "title": {
            "standoff": 15
           },
           "zerolinecolor": "white",
           "zerolinewidth": 2
          },
          "yaxis": {
           "automargin": true,
           "gridcolor": "white",
           "linecolor": "white",
           "ticks": "",
           "title": {
            "standoff": 15
           },
           "zerolinecolor": "white",
           "zerolinewidth": 2
          }
         }
        },
        "title": {
         "text": "ma_8_32"
        },
        "width": 1000,
        "xaxis": {
         "linecolor": "#3a4a54",
         "linewidth": 1,
         "showgrid": false,
         "zeroline": false
        },
        "yaxis": {
         "linecolor": "#3a4a54",
         "linewidth": 1,
         "showgrid": false,
         "zeroline": false
        }
       }
      }
     },
     "metadata": {},
     "output_type": "display_data"
    },
    {
     "data": {
      "application/vnd.plotly.v1+json": {
       "config": {
        "plotlyServerURL": "https://plot.ly"
       },
       "data": [
        {
         "line": {
          "color": "#3d825f",
          "shape": "spline",
          "width": 2
         },
         "mode": "lines",
         "name": "ma_64_128",
         "type": "scatter",
         "x": [
          "2022-01-14T05:00:00+00:00",
          "2022-01-14T09:00:00+00:00",
          "2022-01-14T11:00:00+00:00",
          "2022-01-14T12:00:00+00:00",
          "2022-01-14T14:00:00+00:00",
          "2022-01-14T15:00:00+00:00",
          "2022-01-14T20:00:00+00:00",
          "2022-01-16T23:00:00+00:00",
          "2022-01-17T00:00:00+00:00",
          "2022-01-17T07:00:00+00:00",
          "2022-01-17T12:00:00+00:00",
          "2022-01-17T21:00:00+00:00",
          "2022-01-17T22:00:00+00:00",
          "2022-01-18T00:00:00+00:00",
          "2022-01-18T06:00:00+00:00",
          "2022-01-18T11:00:00+00:00",
          "2022-01-18T12:00:00+00:00",
          "2022-01-18T14:00:00+00:00",
          "2022-01-18T18:00:00+00:00",
          "2022-01-18T22:00:00+00:00",
          "2022-01-18T23:00:00+00:00",
          "2022-01-19T06:00:00+00:00",
          "2022-01-19T08:00:00+00:00",
          "2022-01-19T09:00:00+00:00",
          "2022-01-19T11:00:00+00:00",
          "2022-01-19T16:00:00+00:00",
          "2022-01-19T22:00:00+00:00",
          "2022-01-20T17:00:00+00:00",
          "2022-01-21T05:00:00+00:00",
          "2022-01-21T14:00:00+00:00",
          "2022-01-23T22:00:00+00:00",
          "2022-01-24T03:00:00+00:00",
          "2022-01-24T05:00:00+00:00",
          "2022-01-24T13:00:00+00:00",
          "2022-01-24T20:00:00+00:00",
          "2022-01-25T08:00:00+00:00",
          "2022-01-26T07:00:00+00:00",
          "2022-01-27T00:00:00+00:00",
          "2022-01-27T01:00:00+00:00",
          "2022-01-27T12:00:00+00:00",
          "2022-01-27T14:00:00+00:00",
          "2022-01-27T18:00:00+00:00",
          "2022-01-27T20:00:00+00:00",
          "2022-01-27T23:00:00+00:00",
          "2022-01-28T01:00:00+00:00",
          "2022-01-28T02:00:00+00:00",
          "2022-01-31T00:00:00+00:00",
          "2022-01-31T23:00:00+00:00",
          "2022-02-01T10:00:00+00:00",
          "2022-02-01T12:00:00+00:00",
          "2022-02-01T17:00:00+00:00",
          "2022-02-01T20:00:00+00:00",
          "2022-02-02T02:00:00+00:00",
          "2022-02-02T05:00:00+00:00",
          "2022-02-02T09:00:00+00:00",
          "2022-02-02T12:00:00+00:00",
          "2022-02-02T13:00:00+00:00",
          "2022-02-02T16:00:00+00:00",
          "2022-02-02T17:00:00+00:00",
          "2022-02-02T22:00:00+00:00",
          "2022-02-03T02:00:00+00:00",
          "2022-02-04T00:00:00+00:00",
          "2022-02-04T01:00:00+00:00",
          "2022-02-04T02:00:00+00:00",
          "2022-02-04T16:00:00+00:00",
          "2022-02-07T06:00:00+00:00",
          "2022-02-07T09:00:00+00:00",
          "2022-02-07T13:00:00+00:00",
          "2022-02-07T20:00:00+00:00",
          "2022-02-08T03:00:00+00:00",
          "2022-02-08T13:00:00+00:00",
          "2022-02-08T23:00:00+00:00",
          "2022-02-09T02:00:00+00:00",
          "2022-02-09T03:00:00+00:00",
          "2022-02-09T07:00:00+00:00",
          "2022-02-09T14:00:00+00:00",
          "2022-02-09T17:00:00+00:00",
          "2022-02-10T01:00:00+00:00",
          "2022-02-10T05:00:00+00:00",
          "2022-02-10T13:00:00+00:00",
          "2022-02-10T16:00:00+00:00",
          "2022-02-10T20:00:00+00:00",
          "2022-02-10T21:00:00+00:00",
          "2022-02-11T12:00:00+00:00",
          "2022-02-14T06:00:00+00:00",
          "2022-02-14T12:00:00+00:00",
          "2022-02-14T15:00:00+00:00",
          "2022-02-14T17:00:00+00:00",
          "2022-02-14T20:00:00+00:00",
          "2022-02-14T23:00:00+00:00",
          "2022-02-15T01:00:00+00:00",
          "2022-02-15T03:00:00+00:00",
          "2022-02-15T06:00:00+00:00",
          "2022-02-15T08:00:00+00:00",
          "2022-02-15T12:00:00+00:00",
          "2022-02-15T17:00:00+00:00",
          "2022-02-15T20:00:00+00:00",
          "2022-02-16T10:00:00+00:00",
          "2022-02-16T15:00:00+00:00",
          "2022-02-16T20:00:00+00:00",
          "2022-02-17T05:00:00+00:00",
          "2022-02-17T08:00:00+00:00",
          "2022-02-17T09:00:00+00:00",
          "2022-02-17T13:00:00+00:00",
          "2022-02-17T14:00:00+00:00",
          "2022-02-17T15:00:00+00:00",
          "2022-02-17T19:00:00+00:00",
          "2022-02-17T22:00:00+00:00",
          "2022-02-17T23:00:00+00:00",
          "2022-02-18T02:00:00+00:00",
          "2022-02-18T07:00:00+00:00",
          "2022-02-18T11:00:00+00:00",
          "2022-02-18T18:00:00+00:00",
          "2022-02-21T04:00:00+00:00",
          "2022-02-21T17:00:00+00:00",
          "2022-02-21T18:00:00+00:00",
          "2022-02-22T00:00:00+00:00",
          "2022-02-22T07:00:00+00:00",
          "2022-02-22T10:00:00+00:00",
          "2022-02-22T14:00:00+00:00",
          "2022-02-22T20:00:00+00:00",
          "2022-02-23T14:00:00+00:00",
          "2022-02-23T21:00:00+00:00",
          "2022-02-24T06:00:00+00:00",
          "2022-02-24T12:00:00+00:00",
          "2022-02-24T15:00:00+00:00",
          "2022-02-24T18:00:00+00:00",
          "2022-02-25T11:00:00+00:00",
          "2022-02-25T20:00:00+00:00",
          "2022-02-28T01:00:00+00:00",
          "2022-02-28T05:00:00+00:00",
          "2022-02-28T08:00:00+00:00",
          "2022-02-28T13:00:00+00:00",
          "2022-03-01T02:00:00+00:00",
          "2022-03-01T07:00:00+00:00",
          "2022-03-01T08:00:00+00:00",
          "2022-03-01T17:00:00+00:00",
          "2022-03-02T01:00:00+00:00",
          "2022-03-02T10:00:00+00:00",
          "2022-03-02T11:00:00+00:00",
          "2022-03-02T20:00:00+00:00",
          "2022-03-04T03:00:00+00:00",
          "2022-03-07T11:00:00+00:00",
          "2022-03-07T15:00:00+00:00",
          "2022-03-07T19:00:00+00:00",
          "2022-03-08T06:00:00+00:00",
          "2022-03-09T11:00:00+00:00",
          "2022-03-09T12:00:00+00:00",
          "2022-03-09T20:00:00+00:00",
          "2022-03-10T00:00:00+00:00",
          "2022-03-10T05:00:00+00:00",
          "2022-03-10T08:00:00+00:00",
          "2022-03-10T12:00:00+00:00",
          "2022-03-10T13:00:00+00:00",
          "2022-03-10T20:00:00+00:00",
          "2022-03-10T22:00:00+00:00",
          "2022-03-11T03:00:00+00:00",
          "2022-03-11T04:00:00+00:00",
          "2022-03-11T08:00:00+00:00",
          "2022-03-11T10:00:00+00:00",
          "2022-03-11T20:00:00+00:00",
          "2022-03-11T21:00:00+00:00",
          "2022-03-14T01:00:00+00:00",
          "2022-03-14T17:00:00+00:00",
          "2022-03-15T04:00:00+00:00",
          "2022-03-15T16:00:00+00:00",
          "2022-03-16T03:00:00+00:00",
          "2022-03-16T19:00:00+00:00",
          "2022-03-17T05:00:00+00:00",
          "2022-03-17T09:00:00+00:00",
          "2022-03-17T11:00:00+00:00",
          "2022-03-17T21:00:00+00:00",
          "2022-03-18T02:00:00+00:00",
          "2022-03-18T07:00:00+00:00",
          "2022-03-18T10:00:00+00:00",
          "2022-03-18T14:00:00+00:00",
          "2022-03-20T23:00:00+00:00",
          "2022-03-21T03:00:00+00:00",
          "2022-03-22T01:00:00+00:00",
          "2022-03-22T02:00:00+00:00",
          "2022-03-23T00:00:00+00:00",
          "2022-03-23T23:00:00+00:00",
          "2022-03-24T03:00:00+00:00",
          "2022-03-25T09:00:00+00:00",
          "2022-03-25T13:00:00+00:00",
          "2022-03-27T23:00:00+00:00",
          "2022-03-28T11:00:00+00:00",
          "2022-03-28T15:00:00+00:00",
          "2022-03-28T20:00:00+00:00",
          "2022-03-29T04:00:00+00:00",
          "2022-03-29T08:00:00+00:00",
          "2022-03-29T18:00:00+00:00",
          "2022-03-29T19:00:00+00:00",
          "2022-03-29T22:00:00+00:00",
          "2022-03-30T14:00:00+00:00",
          "2022-03-31T00:00:00+00:00",
          "2022-03-31T03:00:00+00:00",
          "2022-03-31T08:00:00+00:00",
          "2022-03-31T11:00:00+00:00",
          "2022-03-31T13:00:00+00:00",
          "2022-03-31T16:00:00+00:00",
          "2022-03-31T17:00:00+00:00",
          "2022-04-01T00:00:00+00:00",
          "2022-04-01T14:00:00+00:00",
          "2022-04-01T17:00:00+00:00",
          "2022-04-01T20:00:00+00:00",
          "2022-04-04T05:00:00+00:00",
          "2022-04-04T09:00:00+00:00",
          "2022-04-04T14:00:00+00:00",
          "2022-04-04T16:00:00+00:00",
          "2022-04-04T17:00:00+00:00",
          "2022-04-04T18:00:00+00:00",
          "2022-04-05T05:00:00+00:00",
          "2022-04-05T07:00:00+00:00",
          "2022-04-05T08:00:00+00:00",
          "2022-04-05T12:00:00+00:00",
          "2022-04-05T15:00:00+00:00",
          "2022-04-05T17:00:00+00:00",
          "2022-04-05T18:00:00+00:00",
          "2022-04-05T20:00:00+00:00",
          "2022-04-06T00:00:00+00:00",
          "2022-04-06T07:00:00+00:00",
          "2022-04-06T10:00:00+00:00",
          "2022-04-07T13:00:00+00:00",
          "2022-04-07T21:00:00+00:00",
          "2022-04-08T04:00:00+00:00",
          "2022-04-08T05:00:00+00:00",
          "2022-04-08T06:00:00+00:00",
          "2022-04-08T18:00:00+00:00",
          "2022-04-10T21:00:00+00:00",
          "2022-04-10T22:00:00+00:00",
          "2022-04-11T04:00:00+00:00",
          "2022-04-11T06:00:00+00:00",
          "2022-04-11T10:00:00+00:00",
          "2022-04-12T02:00:00+00:00",
          "2022-04-13T01:00:00+00:00",
          "2022-04-13T03:00:00+00:00",
          "2022-04-13T22:00:00+00:00",
          "2022-04-14T10:00:00+00:00",
          "2022-04-14T12:00:00+00:00",
          "2022-04-14T15:00:00+00:00",
          "2022-04-14T17:00:00+00:00",
          "2022-04-14T20:00:00+00:00",
          "2022-04-15T00:00:00+00:00",
          "2022-04-15T06:00:00+00:00",
          "2022-04-15T12:00:00+00:00",
          "2022-04-15T20:00:00+00:00",
          "2022-04-18T04:00:00+00:00",
          "2022-04-19T02:00:00+00:00",
          "2022-04-19T11:00:00+00:00",
          "2022-04-19T12:00:00+00:00",
          "2022-04-19T15:00:00+00:00",
          "2022-04-19T22:00:00+00:00",
          "2022-04-20T13:00:00+00:00",
          "2022-04-20T18:00:00+00:00",
          "2022-04-21T02:00:00+00:00",
          "2022-04-21T11:00:00+00:00",
          "2022-04-21T14:00:00+00:00",
          "2022-04-22T05:00:00+00:00",
          "2022-04-22T08:00:00+00:00",
          "2022-04-22T18:00:00+00:00",
          "2022-04-22T20:00:00+00:00",
          "2022-04-25T04:00:00+00:00",
          "2022-04-25T06:00:00+00:00",
          "2022-04-25T07:00:00+00:00",
          "2022-04-25T08:00:00+00:00",
          "2022-04-25T11:00:00+00:00",
          "2022-04-25T14:00:00+00:00",
          "2022-04-25T15:00:00+00:00",
          "2022-04-25T19:00:00+00:00",
          "2022-04-25T23:00:00+00:00",
          "2022-04-26T06:00:00+00:00",
          "2022-04-26T17:00:00+00:00",
          "2022-04-26T20:00:00+00:00",
          "2022-04-27T18:00:00+00:00",
          "2022-04-28T05:00:00+00:00",
          "2022-04-28T13:00:00+00:00",
          "2022-04-28T19:00:00+00:00",
          "2022-04-29T07:00:00+00:00",
          "2022-04-29T15:00:00+00:00",
          "2022-04-29T17:00:00+00:00",
          "2022-05-02T00:00:00+00:00",
          "2022-05-02T03:00:00+00:00",
          "2022-05-02T04:00:00+00:00",
          "2022-05-02T10:00:00+00:00",
          "2022-05-03T00:00:00+00:00",
          "2022-05-03T03:00:00+00:00",
          "2022-05-03T13:00:00+00:00",
          "2022-05-03T19:00:00+00:00",
          "2022-05-03T22:00:00+00:00",
          "2022-05-04T01:00:00+00:00",
          "2022-05-04T09:00:00+00:00",
          "2022-05-04T20:00:00+00:00",
          "2022-05-04T21:00:00+00:00",
          "2022-05-04T22:00:00+00:00",
          "2022-05-04T23:00:00+00:00",
          "2022-05-05T01:00:00+00:00",
          "2022-05-05T06:00:00+00:00",
          "2022-05-05T07:00:00+00:00",
          "2022-05-05T08:00:00+00:00",
          "2022-05-05T10:00:00+00:00",
          "2022-05-05T12:00:00+00:00",
          "2022-05-05T23:00:00+00:00",
          "2022-05-06T00:00:00+00:00",
          "2022-05-06T01:00:00+00:00",
          "2022-05-06T04:00:00+00:00",
          "2022-05-06T13:00:00+00:00",
          "2022-05-06T20:00:00+00:00",
          "2022-05-08T21:00:00+00:00",
          "2022-05-08T22:00:00+00:00",
          "2022-05-09T01:00:00+00:00",
          "2022-05-09T13:00:00+00:00",
          "2022-05-09T22:00:00+00:00",
          "2022-05-10T01:00:00+00:00",
          "2022-05-10T05:00:00+00:00",
          "2022-05-10T15:00:00+00:00",
          "2022-05-10T16:00:00+00:00",
          "2022-05-10T23:00:00+00:00",
          "2022-05-11T01:00:00+00:00",
          "2022-05-11T22:00:00+00:00",
          "2022-05-12T01:00:00+00:00",
          "2022-05-13T05:00:00+00:00",
          "2022-05-13T06:00:00+00:00",
          "2022-05-13T07:00:00+00:00",
          "2022-05-13T08:00:00+00:00",
          "2022-05-13T09:00:00+00:00",
          "2022-05-13T12:00:00+00:00",
          "2022-05-16T06:00:00+00:00",
          "2022-05-16T12:00:00+00:00",
          "2022-05-16T17:00:00+00:00",
          "2022-05-16T22:00:00+00:00",
          "2022-05-17T10:00:00+00:00",
          "2022-05-17T14:00:00+00:00",
          "2022-05-17T16:00:00+00:00",
          "2022-05-17T20:00:00+00:00",
          "2022-05-17T21:00:00+00:00",
          "2022-05-17T22:00:00+00:00",
          "2022-05-18T07:00:00+00:00",
          "2022-05-18T15:00:00+00:00",
          "2022-05-18T16:00:00+00:00",
          "2022-05-18T17:00:00+00:00",
          "2022-05-18T19:00:00+00:00",
          "2022-05-18T23:00:00+00:00",
          "2022-05-19T10:00:00+00:00",
          "2022-05-19T14:00:00+00:00",
          "2022-05-19T16:00:00+00:00",
          "2022-05-19T19:00:00+00:00",
          "2022-05-19T22:00:00+00:00",
          "2022-05-20T08:00:00+00:00",
          "2022-05-20T13:00:00+00:00",
          "2022-05-20T17:00:00+00:00",
          "2022-05-20T18:00:00+00:00",
          "2022-05-20T19:00:00+00:00",
          "2022-05-23T12:00:00+00:00",
          "2022-05-23T23:00:00+00:00",
          "2022-05-24T04:00:00+00:00",
          "2022-05-25T20:00:00+00:00",
          "2022-05-25T21:00:00+00:00",
          "2022-05-26T06:00:00+00:00",
          "2022-05-26T10:00:00+00:00",
          "2022-05-26T16:00:00+00:00",
          "2022-05-27T10:00:00+00:00",
          "2022-05-27T13:00:00+00:00",
          "2022-05-27T15:00:00+00:00",
          "2022-05-29T22:00:00+00:00",
          "2022-05-30T03:00:00+00:00",
          "2022-05-30T04:00:00+00:00",
          "2022-05-30T10:00:00+00:00",
          "2022-05-30T13:00:00+00:00",
          "2022-05-30T17:00:00+00:00",
          "2022-05-30T20:00:00+00:00",
          "2022-05-31T02:00:00+00:00",
          "2022-05-31T05:00:00+00:00",
          "2022-05-31T20:00:00+00:00",
          "2022-06-01T06:00:00+00:00",
          "2022-06-01T19:00:00+00:00",
          "2022-06-01T20:00:00+00:00",
          "2022-06-02T02:00:00+00:00",
          "2022-06-02T09:00:00+00:00",
          "2022-06-02T10:00:00+00:00",
          "2022-06-02T21:00:00+00:00",
          "2022-06-05T23:00:00+00:00",
          "2022-06-06T02:00:00+00:00",
          "2022-06-06T08:00:00+00:00",
          "2022-06-06T13:00:00+00:00",
          "2022-06-06T14:00:00+00:00",
          "2022-06-06T18:00:00+00:00",
          "2022-06-07T04:00:00+00:00",
          "2022-06-07T06:00:00+00:00",
          "2022-06-07T12:00:00+00:00",
          "2022-06-07T20:00:00+00:00",
          "2022-06-07T23:00:00+00:00",
          "2022-06-08T10:00:00+00:00",
          "2022-06-08T14:00:00+00:00",
          "2022-06-09T09:00:00+00:00",
          "2022-06-09T21:00:00+00:00",
          "2022-06-09T23:00:00+00:00",
          "2022-06-10T02:00:00+00:00",
          "2022-06-10T11:00:00+00:00",
          "2022-06-10T16:00:00+00:00",
          "2022-06-13T01:00:00+00:00",
          "2022-06-13T10:00:00+00:00",
          "2022-06-13T12:00:00+00:00",
          "2022-06-13T13:00:00+00:00",
          "2022-06-13T14:00:00+00:00",
          "2022-06-13T15:00:00+00:00",
          "2022-06-13T16:00:00+00:00",
          "2022-06-14T07:00:00+00:00",
          "2022-06-14T08:00:00+00:00",
          "2022-06-14T13:00:00+00:00",
          "2022-06-14T23:00:00+00:00",
          "2022-06-15T08:00:00+00:00",
          "2022-06-16T18:00:00+00:00",
          "2022-06-17T02:00:00+00:00",
          "2022-06-17T04:00:00+00:00",
          "2022-06-17T07:00:00+00:00",
          "2022-06-17T13:00:00+00:00",
          "2022-06-17T14:00:00+00:00",
          "2022-06-17T16:00:00+00:00",
          "2022-06-17T18:00:00+00:00",
          "2022-06-17T19:00:00+00:00",
          "2022-06-19T22:00:00+00:00",
          "2022-06-20T01:00:00+00:00",
          "2022-06-20T09:00:00+00:00",
          "2022-06-21T06:00:00+00:00",
          "2022-06-21T12:00:00+00:00",
          "2022-06-21T22:00:00+00:00",
          "2022-06-22T10:00:00+00:00",
          "2022-06-22T21:00:00+00:00",
          "2022-06-23T00:00:00+00:00",
          "2022-06-23T01:00:00+00:00",
          "2022-06-23T07:00:00+00:00",
          "2022-06-23T16:00:00+00:00",
          "2022-06-23T18:00:00+00:00",
          "2022-06-24T04:00:00+00:00",
          "2022-06-24T08:00:00+00:00",
          "2022-06-24T12:00:00+00:00",
          "2022-06-24T20:00:00+00:00",
          "2022-06-26T22:00:00+00:00",
          "2022-06-27T00:00:00+00:00",
          "2022-06-27T02:00:00+00:00",
          "2022-06-27T13:00:00+00:00",
          "2022-06-28T01:00:00+00:00",
          "2022-06-28T04:00:00+00:00",
          "2022-06-28T05:00:00+00:00",
          "2022-06-28T14:00:00+00:00",
          "2022-06-28T15:00:00+00:00",
          "2022-06-28T21:00:00+00:00",
          "2022-06-29T01:00:00+00:00",
          "2022-06-29T02:00:00+00:00",
          "2022-06-29T04:00:00+00:00",
          "2022-06-29T06:00:00+00:00",
          "2022-06-29T11:00:00+00:00",
          "2022-06-29T20:00:00+00:00",
          "2022-06-30T13:00:00+00:00",
          "2022-06-30T21:00:00+00:00",
          "2022-07-01T02:00:00+00:00",
          "2022-07-01T03:00:00+00:00",
          "2022-07-01T13:00:00+00:00",
          "2022-07-04T03:00:00+00:00",
          "2022-07-04T06:00:00+00:00",
          "2022-07-04T08:00:00+00:00",
          "2022-07-04T13:00:00+00:00",
          "2022-07-04T16:00:00+00:00",
          "2022-07-05T19:00:00+00:00",
          "2022-07-06T03:00:00+00:00",
          "2022-07-06T16:00:00+00:00",
          "2022-07-07T01:00:00+00:00",
          "2022-07-08T05:00:00+00:00",
          "2022-07-11T06:00:00+00:00",
          "2022-07-11T09:00:00+00:00",
          "2022-07-11T16:00:00+00:00",
          "2022-07-11T18:00:00+00:00",
          "2022-07-11T23:00:00+00:00",
          "2022-07-13T10:00:00+00:00",
          "2022-07-13T12:00:00+00:00",
          "2022-07-13T18:00:00+00:00",
          "2022-07-13T21:00:00+00:00",
          "2022-07-13T23:00:00+00:00",
          "2022-07-14T00:00:00+00:00",
          "2022-07-15T00:00:00+00:00",
          "2022-07-15T08:00:00+00:00",
          "2022-07-15T09:00:00+00:00",
          "2022-07-15T20:00:00+00:00",
          "2022-07-17T21:00:00+00:00",
          "2022-07-18T04:00:00+00:00",
          "2022-07-18T10:00:00+00:00",
          "2022-07-18T11:00:00+00:00",
          "2022-07-18T12:00:00+00:00",
          "2022-07-18T16:00:00+00:00",
          "2022-07-18T22:00:00+00:00",
          "2022-07-19T03:00:00+00:00",
          "2022-07-19T09:00:00+00:00",
          "2022-07-20T04:00:00+00:00",
          "2022-07-20T06:00:00+00:00",
          "2022-07-20T10:00:00+00:00",
          "2022-07-21T03:00:00+00:00",
          "2022-07-21T18:00:00+00:00",
          "2022-07-21T21:00:00+00:00",
          "2022-07-22T04:00:00+00:00",
          "2022-07-22T15:00:00+00:00",
          "2022-07-22T18:00:00+00:00",
          "2022-07-24T22:00:00+00:00",
          "2022-07-24T23:00:00+00:00",
          "2022-07-25T03:00:00+00:00",
          "2022-07-25T04:00:00+00:00",
          "2022-07-25T07:00:00+00:00",
          "2022-07-25T12:00:00+00:00",
          "2022-07-25T15:00:00+00:00",
          "2022-07-25T22:00:00+00:00",
          "2022-07-26T06:00:00+00:00",
          "2022-07-26T10:00:00+00:00",
          "2022-07-26T23:00:00+00:00",
          "2022-07-27T16:00:00+00:00",
          "2022-07-27T18:00:00+00:00",
          "2022-07-27T21:00:00+00:00",
          "2022-07-29T15:00:00+00:00",
          "2022-08-01T00:00:00+00:00",
          "2022-08-01T18:00:00+00:00",
          "2022-08-01T21:00:00+00:00",
          "2022-08-02T15:00:00+00:00",
          "2022-08-03T02:00:00+00:00",
          "2022-08-03T03:00:00+00:00",
          "2022-08-03T06:00:00+00:00",
          "2022-08-03T18:00:00+00:00",
          "2022-08-03T20:00:00+00:00",
          "2022-08-03T21:00:00+00:00",
          "2022-08-04T01:00:00+00:00",
          "2022-08-04T02:00:00+00:00",
          "2022-08-04T04:00:00+00:00",
          "2022-08-04T10:00:00+00:00",
          "2022-08-04T11:00:00+00:00",
          "2022-08-04T14:00:00+00:00",
          "2022-08-04T19:00:00+00:00",
          "2022-08-04T22:00:00+00:00",
          "2022-08-04T23:00:00+00:00",
          "2022-08-05T00:00:00+00:00",
          "2022-08-05T01:00:00+00:00",
          "2022-08-05T05:00:00+00:00",
          "2022-08-05T06:00:00+00:00",
          "2022-08-05T08:00:00+00:00",
          "2022-08-05T15:00:00+00:00",
          "2022-08-08T01:00:00+00:00",
          "2022-08-08T02:00:00+00:00",
          "2022-08-08T04:00:00+00:00",
          "2022-08-08T06:00:00+00:00",
          "2022-08-08T21:00:00+00:00",
          "2022-08-08T22:00:00+00:00",
          "2022-08-09T07:00:00+00:00",
          "2022-08-09T08:00:00+00:00",
          "2022-08-09T20:00:00+00:00",
          "2022-08-10T10:00:00+00:00",
          "2022-08-10T15:00:00+00:00",
          "2022-08-10T16:00:00+00:00",
          "2022-08-11T02:00:00+00:00",
          "2022-08-11T11:00:00+00:00",
          "2022-08-11T15:00:00+00:00",
          "2022-08-12T00:00:00+00:00",
          "2022-08-12T02:00:00+00:00",
          "2022-08-12T07:00:00+00:00",
          "2022-08-15T03:00:00+00:00",
          "2022-08-16T03:00:00+00:00",
          "2022-08-16T04:00:00+00:00",
          "2022-08-16T09:00:00+00:00",
          "2022-08-16T11:00:00+00:00",
          "2022-08-16T23:00:00+00:00",
          "2022-08-17T00:00:00+00:00",
          "2022-08-17T01:00:00+00:00",
          "2022-08-17T02:00:00+00:00",
          "2022-08-17T12:00:00+00:00",
          "2022-08-17T17:00:00+00:00",
          "2022-08-17T19:00:00+00:00",
          "2022-08-17T21:00:00+00:00",
          "2022-08-18T04:00:00+00:00",
          "2022-08-18T06:00:00+00:00",
          "2022-08-18T13:00:00+00:00",
          "2022-08-18T21:00:00+00:00",
          "2022-08-19T12:00:00+00:00",
          "2022-08-19T20:00:00+00:00",
          "2022-08-22T12:00:00+00:00",
          "2022-08-23T17:00:00+00:00",
          "2022-08-23T22:00:00+00:00",
          "2022-08-24T10:00:00+00:00",
          "2022-08-25T21:00:00+00:00",
          "2022-08-25T22:00:00+00:00",
          "2022-08-26T07:00:00+00:00"
         ],
         "y": [
          -40.599999999999525,
          -50.19999999999989,
          -9.799999999999457,
          37.50000000000177,
          96.8000000000019,
          179.30000000000075,
          120.20000000000104,
          215.5000000000003,
          153.50000000000128,
          122.50000000000026,
          327.90000000000043,
          324.8000000000001,
          282.2999999999993,
          275.30000000000115,
          563.7999999999993,
          711.199999999999,
          639.5999999999984,
          707.3999999999985,
          761.5999999999983,
          757.1999999999972,
          769.3999999999971,
          691.9999999999964,
          675.3999999999953,
          507.59999999999565,
          441.899999999996,
          476.79999999999495,
          419.79999999999455,
          217.29999999999578,
          135.49999999999457,
          126.09999999999516,
          260.39999999999566,
          194.99999999999574,
          315.7999999999944,
          258.7999999999951,
          150.69999999999527,
          321.1999999999954,
          321.1999999999954,
          296.29999999999444,
          490.09999999999616,
          487.0999999999965,
          410.8999999999969,
          398.3999999999972,
          325.0999999999966,
          289.09999999999616,
          486.39999999999463,
          446.89999999999503,
          411.7999999999949,
          552.099999999994,
          760.8999999999941,
          792.5999999999933,
          770.6999999999931,
          756.9999999999931,
          773.2999999999932,
          908.499999999993,
          872.2999999999934,
          956.6999999999933,
          896.8999999999935,
          873.099999999993,
          903.6999999999936,
          962.399999999994,
          911.5999999999942,
          793.6999999999946,
          777.0999999999947,
          791.6999999999948,
          647.2999999999947,
          593.9999999999942,
          658.6999999999948,
          681.0999999999951,
          672.8999999999958,
          643.5999999999959,
          576.6999999999962,
          567.4999999999969,
          528.3999999999961,
          467.9999999999957,
          444.3999999999965,
          366.4999999999969,
          304.1999999999973,
          284.9999999999981,
          308.5999999999995,
          355.50000000000034,
          410.30000000000075,
          422.9000000000011,
          744.7000000000021,
          742.500000000001,
          723.3000000000018,
          744.1000000000026,
          1026.6000000000029,
          910.2000000000041,
          814.600000000004,
          813.8000000000045,
          766.4000000000049,
          721.8000000000051,
          622.0000000000058,
          583.9000000000071,
          570.4000000000052,
          601.300000000005,
          593.1000000000067,
          489.7000000000088,
          433.2000000000095,
          1316.4000000000112,
          1269.4000000000096,
          1230.2000000000105,
          1200.30000000001,
          1177.7000000000096,
          2188.1000000000095,
          2188.600000000011,
          2448.6000000000113,
          2401.100000000011,
          2356.7000000000107,
          2297.5000000000095,
          2247.30000000001,
          2175.7000000000116,
          2106.1000000000117,
          2064.1000000000117,
          2353.5000000000114,
          2638.3000000000106,
          2888.100000000011,
          2851.9000000000115,
          2843.7000000000135,
          2834.300000000014,
          2775.5000000000127,
          3147.900000000012,
          3363.4000000000115,
          3751.800000000011,
          3646.000000000012,
          3515.200000000012,
          3506.9000000000124,
          3499.700000000013,
          3439.300000000013,
          3362.200000000013,
          3339.800000000014,
          3294.900000000015,
          3239.100000000016,
          3882.500000000017,
          3778.700000000016,
          3684.1000000000163,
          3757.2000000000166,
          3699.8000000000156,
          3692.200000000016,
          3666.1000000000163,
          3750.900000000017,
          3763.5000000000173,
          3841.3000000000175,
          3814.900000000018,
          3547.2000000000166,
          3503.4000000000165,
          4062.6000000000163,
          4103.600000000016,
          3980.5000000000155,
          4011.500000000014,
          4038.0000000000146,
          4795.400000000014,
          4630.900000000013,
          4455.200000000014,
          4582.400000000012,
          4683.600000000012,
          5485.100000000014,
          6105.100000000013,
          6964.000000000013,
          7075.300000000014,
          7281.800000000013,
          7265.700000000013,
          7175.400000000012,
          7246.600000000012,
          7205.500000000012,
          6975.000000000012,
          6900.200000000012,
          6910.400000000011,
          6912.200000000012,
          6917.000000000012,
          6887.4000000000115,
          6901.000000000012,
          6999.000000000012,
          7132.500000000012,
          7209.600000000013,
          7162.800000000013,
          7183.400000000013,
          7193.400000000013,
          7157.700000000013,
          7169.500000000012,
          7102.900000000013,
          7059.500000000013,
          6974.500000000014,
          7073.300000000013,
          7159.700000000013,
          7224.700000000012,
          7218.500000000012,
          7217.300000000012,
          7205.700000000012,
          7158.9000000000115,
          6963.400000000012,
          6879.800000000012,
          6776.900000000013,
          6659.600000000013,
          6463.000000000013,
          6395.800000000012,
          6357.300000000013,
          6282.500000000013,
          6106.100000000013,
          6006.600000000014,
          5926.2000000000135,
          5942.600000000013,
          5973.600000000013,
          5991.600000000013,
          6015.100000000014,
          5936.300000000012,
          5863.200000000013,
          5730.500000000012,
          5763.100000000011,
          5728.700000000012,
          5700.500000000011,
          5701.30000000001,
          6673.600000000011,
          6665.800000000011,
          6500.4000000000115,
          6352.300000000012,
          6179.4000000000115,
          6148.100000000012,
          6177.900000000012,
          6109.700000000012,
          6075.900000000012,
          6014.400000000012,
          5994.000000000012,
          6033.9000000000115,
          6174.4000000000115,
          6732.000000000011,
          7009.300000000011,
          6965.700000000012,
          7000.100000000011,
          7137.500000000011,
          7310.000000000011,
          7259.300000000012,
          7180.500000000013,
          7114.400000000012,
          6839.000000000014,
          6789.400000000012,
          6680.800000000013,
          6675.600000000012,
          6538.600000000011,
          6464.4000000000115,
          6349.500000000012,
          6791.300000000012,
          6838.700000000013,
          6863.900000000013,
          6926.500000000013,
          6862.600000000011,
          6675.200000000012,
          6701.000000000012,
          6833.500000000012,
          6630.700000000012,
          6472.10000000001,
          6433.30000000001,
          6345.10000000001,
          6426.90000000001,
          6202.900000000008,
          6045.200000000007,
          5879.100000000007,
          5761.300000000007,
          5623.700000000006,
          6014.100000000006,
          5843.900000000005,
          6208.900000000004,
          5954.700000000004,
          6009.500000000005,
          6007.100000000004,
          6033.300000000002,
          5996.300000000003,
          5952.800000000002,
          5734.200000000003,
          5822.100000000001,
          5730.400000000001,
          5428.6,
          5388.999999999998,
          5070.699999999998,
          5122.5999999999985,
          4947.199999999997,
          4781.099999999997,
          4827.599999999996,
          4765.999999999995,
          4707.899999999997,
          4690.499999999997,
          4409.399999999997,
          4446.699999999996,
          4744.699999999994,
          4694.199999999994,
          4822.9999999999945,
          4850.199999999993,
          4699.399999999993,
          4712.499999999993,
          5034.899999999994,
          5054.9999999999945,
          4990.299999999993,
          5088.799999999993,
          5249.199999999992,
          5251.3999999999905,
          5120.499999999991,
          5056.99999999999,
          4986.59999999999,
          4906.999999999991,
          4723.999999999991,
          4565.499999999989,
          4484.699999999988,
          4412.2999999999865,
          4039.6999999999857,
          3890.999999999985,
          3798.299999999986,
          3709.6999999999853,
          3640.8999999999864,
          3610.6999999999857,
          3545.799999999987,
          3649.099999999987,
          3633.6999999999884,
          3569.4999999999873,
          3615.3999999999883,
          3578.4999999999886,
          3514.299999999988,
          3417.0999999999863,
          3229.4999999999873,
          3177.6999999999875,
          3418.099999999987,
          3588.8999999999896,
          3636.7999999999893,
          3519.3999999999883,
          3484.9999999999895,
          3413.89999999999,
          3352.89999999999,
          3248.49999999999,
          3428.09999999999,
          3521.3999999999905,
          3317.8999999999896,
          3204.5999999999904,
          3128.59999999999,
          3143.399999999989,
          3290.499999999989,
          3076.899999999987,
          2877.6999999999875,
          2817.699999999988,
          2951.0999999999894,
          3052.899999999988,
          3291.699999999988,
          3744.099999999988,
          3803.3999999999896,
          3936.999999999989,
          3942.4999999999895,
          3961.4999999999895,
          4048.2999999999897,
          3994.6999999999894,
          3991.79999999999,
          4014.39999999999,
          4111.99999999999,
          3850.3999999999887,
          3890.3999999999887,
          3794.7999999999897,
          3997.19999999999,
          4336.599999999988,
          4295.699999999988,
          4225.199999999988,
          4233.7999999999865,
          4144.499999999987,
          4102.499999999988,
          4070.2999999999884,
          3926.999999999987,
          3968.199999999988,
          4254.19999999999,
          4236.199999999991,
          4640.29999999999,
          4657.89999999999,
          4888.199999999988,
          4792.19999999999,
          4954.29999999999,
          5099.599999999989,
          5483.69999999999,
          5429.59999999999,
          5589.3999999999905,
          5625.699999999991,
          5681.299999999991,
          5498.699999999992,
          5457.799999999992,
          5429.299999999992,
          5336.699999999992,
          5356.399999999992,
          5352.599999999992,
          5331.199999999992,
          5307.499999999992,
          5204.999999999992,
          5243.199999999991,
          5250.099999999991,
          5236.299999999992,
          5324.699999999992,
          5460.299999999992,
          5460.499999999994,
          5673.699999999993,
          5642.199999999993,
          5614.499999999994,
          5640.999999999994,
          5582.399999999994,
          5416.899999999993,
          5665.899999999992,
          5915.099999999993,
          5991.099999999991,
          6272.299999999992,
          6236.399999999991,
          6544.599999999992,
          6420.499999999992,
          5909.799999999992,
          6047.9999999999945,
          6515.399999999994,
          6258.4999999999945,
          6227.899999999995,
          6067.699999999994,
          5996.399999999993,
          6089.999999999994,
          5774.599999999994,
          5681.699999999993,
          5779.099999999993,
          5823.399999999993,
          5780.599999999993,
          5755.699999999994,
          5762.899999999996,
          5767.399999999997,
          5574.999999999997,
          5648.499999999998,
          5635.799999999997,
          5678.199999999998,
          5685.399999999998,
          5589.499999999997,
          5374.999999999997,
          5201.699999999996,
          5212.599999999994,
          5313.799999999994,
          5283.399999999994,
          5543.699999999994,
          5488.899999999995,
          5493.899999999994,
          5483.699999999993,
          5469.899999999991,
          5384.099999999991,
          5310.899999999991,
          5354.999999999992,
          5208.899999999992,
          5125.299999999991,
          5646.09999999999,
          5645.399999999991,
          5649.999999999992,
          5595.999999999992,
          5618.699999999992,
          5527.299999999993,
          5328.099999999991,
          5304.099999999992,
          5285.499999999993,
          5541.299999999992,
          5449.6999999999925,
          5521.299999999993,
          5824.899999999994,
          5866.099999999995,
          6029.499999999996,
          5971.299999999997,
          6183.799999999997,
          6243.999999999996,
          6504.599999999997,
          6848.799999999995,
          6804.899999999995,
          6824.499999999995,
          6873.399999999996,
          6890.399999999996,
          6876.2999999999965,
          6808.499999999996,
          6918.899999999997,
          6867.599999999996,
          6939.299999999996,
          6935.2999999999965,
          6848.799999999996,
          6812.799999999995,
          6787.199999999996,
          6936.999999999995,
          6860.799999999996,
          6972.399999999994,
          6963.999999999993,
          6926.999999999993,
          6858.399999999992,
          6694.199999999993,
          6692.399999999992,
          6687.1999999999925,
          6677.999999999992,
          6835.099999999992,
          6960.599999999993,
          6936.199999999993,
          6818.699999999992,
          6833.399999999992,
          6737.599999999993,
          6605.999999999993,
          6657.999999999992,
          6742.099999999992,
          6679.599999999991,
          7209.999999999992,
          7128.399999999992,
          7100.399999999991,
          7064.899999999992,
          7108.999999999993,
          7068.599999999992,
          7132.999999999992,
          6839.599999999989,
          6810.099999999989,
          7109.899999999991,
          7346.699999999991,
          7322.899999999991,
          7401.59999999999,
          7634.5999999999885,
          7679.999999999988,
          7745.5999999999885,
          7933.299999999988,
          7864.299999999989,
          7865.499999999988,
          7877.399999999989,
          7859.799999999989,
          7482.799999999988,
          7587.299999999987,
          7564.49999999999,
          7568.59999999999,
          7546.099999999989,
          7495.499999999989,
          7461.299999999989,
          7527.5999999999885,
          7428.59999999999,
          7391.99999999999,
          7367.39999999999,
          7455.099999999989,
          7362.49999999999,
          7338.99999999999,
          7309.19999999999,
          7255.69999999999,
          7155.999999999989,
          7162.299999999989,
          7116.699999999988,
          7198.499999999989,
          7465.099999999988,
          7581.199999999988,
          7681.999999999989,
          7886.7999999999865,
          7895.7999999999865,
          7997.999999999987,
          8002.999999999986,
          8053.699999999986,
          8028.199999999985,
          8184.799999999986,
          7973.4999999999845,
          7938.499999999984,
          7990.799999999985,
          7931.399999999984,
          7953.399999999984,
          8042.199999999984,
          8071.599999999985,
          7939.799999999983,
          7798.399999999985,
          7661.599999999986,
          7470.799999999985,
          7449.799999999985,
          7426.199999999986,
          7422.999999999985,
          7477.899999999986,
          7425.699999999984,
          7680.599999999985,
          7915.499999999985,
          7947.299999999985,
          7876.599999999985,
          8097.399999999985,
          8223.499999999985,
          8235.899999999987,
          8288.499999999987,
          8119.499999999988,
          7939.099999999988,
          7931.7999999999865,
          7815.399999999988,
          7739.599999999989,
          7638.599999999989,
          7599.799999999992,
          7536.299999999991,
          7466.199999999991,
          7430.19999999999,
          7411.299999999989,
          7263.8999999999905,
          7052.499999999991,
          6973.89999999999,
          6744.29999999999,
          6638.3999999999905,
          6519.299999999989
         ]
        }
       ],
       "layout": {
        "font": {
         "color": "#3d825f",
         "size": 10
        },
        "height": 400,
        "margin": {
         "b": 10,
         "l": 15,
         "r": 15
        },
        "paper_bgcolor": "#1e1e1e",
        "plot_bgcolor": "#1e1e1e",
        "template": {
         "data": {
          "bar": [
           {
            "error_x": {
             "color": "#2a3f5f"
            },
            "error_y": {
             "color": "#2a3f5f"
            },
            "marker": {
             "line": {
              "color": "#E5ECF6",
              "width": 0.5
             },
             "pattern": {
              "fillmode": "overlay",
              "size": 10,
              "solidity": 0.2
             }
            },
            "type": "bar"
           }
          ],
          "barpolar": [
           {
            "marker": {
             "line": {
              "color": "#E5ECF6",
              "width": 0.5
             },
             "pattern": {
              "fillmode": "overlay",
              "size": 10,
              "solidity": 0.2
             }
            },
            "type": "barpolar"
           }
          ],
          "carpet": [
           {
            "aaxis": {
             "endlinecolor": "#2a3f5f",
             "gridcolor": "white",
             "linecolor": "white",
             "minorgridcolor": "white",
             "startlinecolor": "#2a3f5f"
            },
            "baxis": {
             "endlinecolor": "#2a3f5f",
             "gridcolor": "white",
             "linecolor": "white",
             "minorgridcolor": "white",
             "startlinecolor": "#2a3f5f"
            },
            "type": "carpet"
           }
          ],
          "choropleth": [
           {
            "colorbar": {
             "outlinewidth": 0,
             "ticks": ""
            },
            "type": "choropleth"
           }
          ],
          "contour": [
           {
            "colorbar": {
             "outlinewidth": 0,
             "ticks": ""
            },
            "colorscale": [
             [
              0,
              "#0d0887"
             ],
             [
              0.1111111111111111,
              "#46039f"
             ],
             [
              0.2222222222222222,
              "#7201a8"
             ],
             [
              0.3333333333333333,
              "#9c179e"
             ],
             [
              0.4444444444444444,
              "#bd3786"
             ],
             [
              0.5555555555555556,
              "#d8576b"
             ],
             [
              0.6666666666666666,
              "#ed7953"
             ],
             [
              0.7777777777777778,
              "#fb9f3a"
             ],
             [
              0.8888888888888888,
              "#fdca26"
             ],
             [
              1,
              "#f0f921"
             ]
            ],
            "type": "contour"
           }
          ],
          "contourcarpet": [
           {
            "colorbar": {
             "outlinewidth": 0,
             "ticks": ""
            },
            "type": "contourcarpet"
           }
          ],
          "heatmap": [
           {
            "colorbar": {
             "outlinewidth": 0,
             "ticks": ""
            },
            "colorscale": [
             [
              0,
              "#0d0887"
             ],
             [
              0.1111111111111111,
              "#46039f"
             ],
             [
              0.2222222222222222,
              "#7201a8"
             ],
             [
              0.3333333333333333,
              "#9c179e"
             ],
             [
              0.4444444444444444,
              "#bd3786"
             ],
             [
              0.5555555555555556,
              "#d8576b"
             ],
             [
              0.6666666666666666,
              "#ed7953"
             ],
             [
              0.7777777777777778,
              "#fb9f3a"
             ],
             [
              0.8888888888888888,
              "#fdca26"
             ],
             [
              1,
              "#f0f921"
             ]
            ],
            "type": "heatmap"
           }
          ],
          "heatmapgl": [
           {
            "colorbar": {
             "outlinewidth": 0,
             "ticks": ""
            },
            "colorscale": [
             [
              0,
              "#0d0887"
             ],
             [
              0.1111111111111111,
              "#46039f"
             ],
             [
              0.2222222222222222,
              "#7201a8"
             ],
             [
              0.3333333333333333,
              "#9c179e"
             ],
             [
              0.4444444444444444,
              "#bd3786"
             ],
             [
              0.5555555555555556,
              "#d8576b"
             ],
             [
              0.6666666666666666,
              "#ed7953"
             ],
             [
              0.7777777777777778,
              "#fb9f3a"
             ],
             [
              0.8888888888888888,
              "#fdca26"
             ],
             [
              1,
              "#f0f921"
             ]
            ],
            "type": "heatmapgl"
           }
          ],
          "histogram": [
           {
            "marker": {
             "pattern": {
              "fillmode": "overlay",
              "size": 10,
              "solidity": 0.2
             }
            },
            "type": "histogram"
           }
          ],
          "histogram2d": [
           {
            "colorbar": {
             "outlinewidth": 0,
             "ticks": ""
            },
            "colorscale": [
             [
              0,
              "#0d0887"
             ],
             [
              0.1111111111111111,
              "#46039f"
             ],
             [
              0.2222222222222222,
              "#7201a8"
             ],
             [
              0.3333333333333333,
              "#9c179e"
             ],
             [
              0.4444444444444444,
              "#bd3786"
             ],
             [
              0.5555555555555556,
              "#d8576b"
             ],
             [
              0.6666666666666666,
              "#ed7953"
             ],
             [
              0.7777777777777778,
              "#fb9f3a"
             ],
             [
              0.8888888888888888,
              "#fdca26"
             ],
             [
              1,
              "#f0f921"
             ]
            ],
            "type": "histogram2d"
           }
          ],
          "histogram2dcontour": [
           {
            "colorbar": {
             "outlinewidth": 0,
             "ticks": ""
            },
            "colorscale": [
             [
              0,
              "#0d0887"
             ],
             [
              0.1111111111111111,
              "#46039f"
             ],
             [
              0.2222222222222222,
              "#7201a8"
             ],
             [
              0.3333333333333333,
              "#9c179e"
             ],
             [
              0.4444444444444444,
              "#bd3786"
             ],
             [
              0.5555555555555556,
              "#d8576b"
             ],
             [
              0.6666666666666666,
              "#ed7953"
             ],
             [
              0.7777777777777778,
              "#fb9f3a"
             ],
             [
              0.8888888888888888,
              "#fdca26"
             ],
             [
              1,
              "#f0f921"
             ]
            ],
            "type": "histogram2dcontour"
           }
          ],
          "mesh3d": [
           {
            "colorbar": {
             "outlinewidth": 0,
             "ticks": ""
            },
            "type": "mesh3d"
           }
          ],
          "parcoords": [
           {
            "line": {
             "colorbar": {
              "outlinewidth": 0,
              "ticks": ""
             }
            },
            "type": "parcoords"
           }
          ],
          "pie": [
           {
            "automargin": true,
            "type": "pie"
           }
          ],
          "scatter": [
           {
            "fillpattern": {
             "fillmode": "overlay",
             "size": 10,
             "solidity": 0.2
            },
            "type": "scatter"
           }
          ],
          "scatter3d": [
           {
            "line": {
             "colorbar": {
              "outlinewidth": 0,
              "ticks": ""
             }
            },
            "marker": {
             "colorbar": {
              "outlinewidth": 0,
              "ticks": ""
             }
            },
            "type": "scatter3d"
           }
          ],
          "scattercarpet": [
           {
            "marker": {
             "colorbar": {
              "outlinewidth": 0,
              "ticks": ""
             }
            },
            "type": "scattercarpet"
           }
          ],
          "scattergeo": [
           {
            "marker": {
             "colorbar": {
              "outlinewidth": 0,
              "ticks": ""
             }
            },
            "type": "scattergeo"
           }
          ],
          "scattergl": [
           {
            "marker": {
             "colorbar": {
              "outlinewidth": 0,
              "ticks": ""
             }
            },
            "type": "scattergl"
           }
          ],
          "scattermapbox": [
           {
            "marker": {
             "colorbar": {
              "outlinewidth": 0,
              "ticks": ""
             }
            },
            "type": "scattermapbox"
           }
          ],
          "scatterpolar": [
           {
            "marker": {
             "colorbar": {
              "outlinewidth": 0,
              "ticks": ""
             }
            },
            "type": "scatterpolar"
           }
          ],
          "scatterpolargl": [
           {
            "marker": {
             "colorbar": {
              "outlinewidth": 0,
              "ticks": ""
             }
            },
            "type": "scatterpolargl"
           }
          ],
          "scatterternary": [
           {
            "marker": {
             "colorbar": {
              "outlinewidth": 0,
              "ticks": ""
             }
            },
            "type": "scatterternary"
           }
          ],
          "surface": [
           {
            "colorbar": {
             "outlinewidth": 0,
             "ticks": ""
            },
            "colorscale": [
             [
              0,
              "#0d0887"
             ],
             [
              0.1111111111111111,
              "#46039f"
             ],
             [
              0.2222222222222222,
              "#7201a8"
             ],
             [
              0.3333333333333333,
              "#9c179e"
             ],
             [
              0.4444444444444444,
              "#bd3786"
             ],
             [
              0.5555555555555556,
              "#d8576b"
             ],
             [
              0.6666666666666666,
              "#ed7953"
             ],
             [
              0.7777777777777778,
              "#fb9f3a"
             ],
             [
              0.8888888888888888,
              "#fdca26"
             ],
             [
              1,
              "#f0f921"
             ]
            ],
            "type": "surface"
           }
          ],
          "table": [
           {
            "cells": {
             "fill": {
              "color": "#EBF0F8"
             },
             "line": {
              "color": "white"
             }
            },
            "header": {
             "fill": {
              "color": "#C8D4E3"
             },
             "line": {
              "color": "white"
             }
            },
            "type": "table"
           }
          ]
         },
         "layout": {
          "annotationdefaults": {
           "arrowcolor": "#2a3f5f",
           "arrowhead": 0,
           "arrowwidth": 1
          },
          "autotypenumbers": "strict",
          "coloraxis": {
           "colorbar": {
            "outlinewidth": 0,
            "ticks": ""
           }
          },
          "colorscale": {
           "diverging": [
            [
             0,
             "#8e0152"
            ],
            [
             0.1,
             "#c51b7d"
            ],
            [
             0.2,
             "#de77ae"
            ],
            [
             0.3,
             "#f1b6da"
            ],
            [
             0.4,
             "#fde0ef"
            ],
            [
             0.5,
             "#f7f7f7"
            ],
            [
             0.6,
             "#e6f5d0"
            ],
            [
             0.7,
             "#b8e186"
            ],
            [
             0.8,
             "#7fbc41"
            ],
            [
             0.9,
             "#4d9221"
            ],
            [
             1,
             "#276419"
            ]
           ],
           "sequential": [
            [
             0,
             "#0d0887"
            ],
            [
             0.1111111111111111,
             "#46039f"
            ],
            [
             0.2222222222222222,
             "#7201a8"
            ],
            [
             0.3333333333333333,
             "#9c179e"
            ],
            [
             0.4444444444444444,
             "#bd3786"
            ],
            [
             0.5555555555555556,
             "#d8576b"
            ],
            [
             0.6666666666666666,
             "#ed7953"
            ],
            [
             0.7777777777777778,
             "#fb9f3a"
            ],
            [
             0.8888888888888888,
             "#fdca26"
            ],
            [
             1,
             "#f0f921"
            ]
           ],
           "sequentialminus": [
            [
             0,
             "#0d0887"
            ],
            [
             0.1111111111111111,
             "#46039f"
            ],
            [
             0.2222222222222222,
             "#7201a8"
            ],
            [
             0.3333333333333333,
             "#9c179e"
            ],
            [
             0.4444444444444444,
             "#bd3786"
            ],
            [
             0.5555555555555556,
             "#d8576b"
            ],
            [
             0.6666666666666666,
             "#ed7953"
            ],
            [
             0.7777777777777778,
             "#fb9f3a"
            ],
            [
             0.8888888888888888,
             "#fdca26"
            ],
            [
             1,
             "#f0f921"
            ]
           ]
          },
          "colorway": [
           "#636efa",
           "#EF553B",
           "#00cc96",
           "#ab63fa",
           "#FFA15A",
           "#19d3f3",
           "#FF6692",
           "#B6E880",
           "#FF97FF",
           "#FECB52"
          ],
          "font": {
           "color": "#2a3f5f"
          },
          "geo": {
           "bgcolor": "white",
           "lakecolor": "white",
           "landcolor": "#E5ECF6",
           "showlakes": true,
           "showland": true,
           "subunitcolor": "white"
          },
          "hoverlabel": {
           "align": "left"
          },
          "hovermode": "closest",
          "mapbox": {
           "style": "light"
          },
          "paper_bgcolor": "white",
          "plot_bgcolor": "#E5ECF6",
          "polar": {
           "angularaxis": {
            "gridcolor": "white",
            "linecolor": "white",
            "ticks": ""
           },
           "bgcolor": "#E5ECF6",
           "radialaxis": {
            "gridcolor": "white",
            "linecolor": "white",
            "ticks": ""
           }
          },
          "scene": {
           "xaxis": {
            "backgroundcolor": "#E5ECF6",
            "gridcolor": "white",
            "gridwidth": 2,
            "linecolor": "white",
            "showbackground": true,
            "ticks": "",
            "zerolinecolor": "white"
           },
           "yaxis": {
            "backgroundcolor": "#E5ECF6",
            "gridcolor": "white",
            "gridwidth": 2,
            "linecolor": "white",
            "showbackground": true,
            "ticks": "",
            "zerolinecolor": "white"
           },
           "zaxis": {
            "backgroundcolor": "#E5ECF6",
            "gridcolor": "white",
            "gridwidth": 2,
            "linecolor": "white",
            "showbackground": true,
            "ticks": "",
            "zerolinecolor": "white"
           }
          },
          "shapedefaults": {
           "line": {
            "color": "#2a3f5f"
           }
          },
          "ternary": {
           "aaxis": {
            "gridcolor": "white",
            "linecolor": "white",
            "ticks": ""
           },
           "baxis": {
            "gridcolor": "white",
            "linecolor": "white",
            "ticks": ""
           },
           "bgcolor": "#E5ECF6",
           "caxis": {
            "gridcolor": "white",
            "linecolor": "white",
            "ticks": ""
           }
          },
          "title": {
           "x": 0.05
          },
          "xaxis": {
           "automargin": true,
           "gridcolor": "white",
           "linecolor": "white",
           "ticks": "",
           "title": {
            "standoff": 15
           },
           "zerolinecolor": "white",
           "zerolinewidth": 2
          },
          "yaxis": {
           "automargin": true,
           "gridcolor": "white",
           "linecolor": "white",
           "ticks": "",
           "title": {
            "standoff": 15
           },
           "zerolinecolor": "white",
           "zerolinewidth": 2
          }
         }
        },
        "title": {
         "text": "ma_64_128"
        },
        "width": 1000,
        "xaxis": {
         "linecolor": "#3a4a54",
         "linewidth": 1,
         "showgrid": false,
         "zeroline": false
        },
        "yaxis": {
         "linecolor": "#3a4a54",
         "linewidth": 1,
         "showgrid": false,
         "zeroline": false
        }
       }
      }
     },
     "metadata": {},
     "output_type": "display_data"
    },
    {
     "data": {
      "application/vnd.plotly.v1+json": {
       "config": {
        "plotlyServerURL": "https://plot.ly"
       },
       "data": [
        {
         "line": {
          "color": "#3d825f",
          "shape": "spline",
          "width": 2
         },
         "mode": "lines",
         "name": "ma_32_128",
         "type": "scatter",
         "x": [
          "2022-01-14T03:00:00+00:00",
          "2022-01-14T07:00:00+00:00",
          "2022-01-14T15:00:00+00:00",
          "2022-01-14T16:00:00+00:00",
          "2022-01-14T18:00:00+00:00",
          "2022-01-17T02:00:00+00:00",
          "2022-01-17T05:00:00+00:00",
          "2022-01-17T12:00:00+00:00",
          "2022-01-17T13:00:00+00:00",
          "2022-01-17T16:00:00+00:00",
          "2022-01-17T23:00:00+00:00",
          "2022-01-18T04:00:00+00:00",
          "2022-01-18T07:00:00+00:00",
          "2022-01-18T13:00:00+00:00",
          "2022-01-18T20:00:00+00:00",
          "2022-01-19T00:00:00+00:00",
          "2022-01-19T05:00:00+00:00",
          "2022-01-19T07:00:00+00:00",
          "2022-01-19T14:00:00+00:00",
          "2022-01-20T11:00:00+00:00",
          "2022-01-21T03:00:00+00:00",
          "2022-01-21T05:00:00+00:00",
          "2022-01-21T17:00:00+00:00",
          "2022-01-21T19:00:00+00:00",
          "2022-01-21T20:00:00+00:00",
          "2022-01-23T23:00:00+00:00",
          "2022-01-24T07:00:00+00:00",
          "2022-01-24T19:00:00+00:00",
          "2022-01-25T14:00:00+00:00",
          "2022-01-26T05:00:00+00:00",
          "2022-01-26T16:00:00+00:00",
          "2022-01-26T17:00:00+00:00",
          "2022-01-27T03:00:00+00:00",
          "2022-01-27T08:00:00+00:00",
          "2022-01-27T12:00:00+00:00",
          "2022-01-27T13:00:00+00:00",
          "2022-01-31T12:00:00+00:00",
          "2022-01-31T22:00:00+00:00",
          "2022-02-01T07:00:00+00:00",
          "2022-02-01T11:00:00+00:00",
          "2022-02-01T12:00:00+00:00",
          "2022-02-01T14:00:00+00:00",
          "2022-02-01T18:00:00+00:00",
          "2022-02-01T21:00:00+00:00",
          "2022-02-01T23:00:00+00:00",
          "2022-02-02T01:00:00+00:00",
          "2022-02-02T03:00:00+00:00",
          "2022-02-02T04:00:00+00:00",
          "2022-02-02T07:00:00+00:00",
          "2022-02-02T09:00:00+00:00",
          "2022-02-02T20:00:00+00:00",
          "2022-02-03T02:00:00+00:00",
          "2022-02-03T05:00:00+00:00",
          "2022-02-03T08:00:00+00:00",
          "2022-02-03T12:00:00+00:00",
          "2022-02-03T13:00:00+00:00",
          "2022-02-03T23:00:00+00:00",
          "2022-02-04T04:00:00+00:00",
          "2022-02-04T07:00:00+00:00",
          "2022-02-04T15:00:00+00:00",
          "2022-02-04T20:00:00+00:00",
          "2022-02-04T21:00:00+00:00",
          "2022-02-07T07:00:00+00:00",
          "2022-02-07T09:00:00+00:00",
          "2022-02-07T12:00:00+00:00",
          "2022-02-07T18:00:00+00:00",
          "2022-02-07T21:00:00+00:00",
          "2022-02-08T02:00:00+00:00",
          "2022-02-08T05:00:00+00:00",
          "2022-02-08T07:00:00+00:00",
          "2022-02-08T10:00:00+00:00",
          "2022-02-08T18:00:00+00:00",
          "2022-02-09T01:00:00+00:00",
          "2022-02-09T09:00:00+00:00",
          "2022-02-09T13:00:00+00:00",
          "2022-02-09T17:00:00+00:00",
          "2022-02-10T05:00:00+00:00",
          "2022-02-10T15:00:00+00:00",
          "2022-02-10T17:00:00+00:00",
          "2022-02-10T20:00:00+00:00",
          "2022-02-11T06:00:00+00:00",
          "2022-02-11T12:00:00+00:00",
          "2022-02-11T20:00:00+00:00",
          "2022-02-14T00:00:00+00:00",
          "2022-02-14T01:00:00+00:00",
          "2022-02-14T02:00:00+00:00",
          "2022-02-14T03:00:00+00:00",
          "2022-02-14T07:00:00+00:00",
          "2022-02-14T09:00:00+00:00",
          "2022-02-14T10:00:00+00:00",
          "2022-02-14T14:00:00+00:00",
          "2022-02-14T17:00:00+00:00",
          "2022-02-14T18:00:00+00:00",
          "2022-02-14T19:00:00+00:00",
          "2022-02-14T23:00:00+00:00",
          "2022-02-15T10:00:00+00:00",
          "2022-02-15T17:00:00+00:00",
          "2022-02-15T23:00:00+00:00",
          "2022-02-16T09:00:00+00:00",
          "2022-02-16T10:00:00+00:00",
          "2022-02-16T13:00:00+00:00",
          "2022-02-16T14:00:00+00:00",
          "2022-02-16T15:00:00+00:00",
          "2022-02-16T16:00:00+00:00",
          "2022-02-16T17:00:00+00:00",
          "2022-02-16T18:00:00+00:00",
          "2022-02-16T19:00:00+00:00",
          "2022-02-16T20:00:00+00:00",
          "2022-02-16T21:00:00+00:00",
          "2022-02-16T23:00:00+00:00",
          "2022-02-17T01:00:00+00:00",
          "2022-02-17T02:00:00+00:00",
          "2022-02-17T03:00:00+00:00",
          "2022-02-17T09:00:00+00:00",
          "2022-02-17T11:00:00+00:00",
          "2022-02-17T14:00:00+00:00",
          "2022-02-18T08:00:00+00:00",
          "2022-02-18T09:00:00+00:00",
          "2022-02-21T02:00:00+00:00",
          "2022-02-21T06:00:00+00:00",
          "2022-02-21T13:00:00+00:00",
          "2022-02-21T16:00:00+00:00",
          "2022-02-22T13:00:00+00:00",
          "2022-02-22T15:00:00+00:00",
          "2022-02-22T20:00:00+00:00",
          "2022-02-23T03:00:00+00:00",
          "2022-02-23T05:00:00+00:00",
          "2022-02-23T15:00:00+00:00",
          "2022-02-23T18:00:00+00:00",
          "2022-02-24T01:00:00+00:00",
          "2022-02-24T02:00:00+00:00",
          "2022-02-24T06:00:00+00:00",
          "2022-02-24T10:00:00+00:00",
          "2022-02-24T11:00:00+00:00",
          "2022-02-24T14:00:00+00:00",
          "2022-02-24T19:00:00+00:00",
          "2022-02-24T22:00:00+00:00",
          "2022-02-24T23:00:00+00:00",
          "2022-02-25T06:00:00+00:00",
          "2022-02-25T11:00:00+00:00",
          "2022-02-25T13:00:00+00:00",
          "2022-02-25T18:00:00+00:00",
          "2022-02-25T19:00:00+00:00",
          "2022-02-28T15:00:00+00:00",
          "2022-02-28T21:00:00+00:00",
          "2022-02-28T22:00:00+00:00",
          "2022-03-01T05:00:00+00:00",
          "2022-03-01T13:00:00+00:00",
          "2022-03-01T16:00:00+00:00",
          "2022-03-02T04:00:00+00:00",
          "2022-03-03T00:00:00+00:00",
          "2022-03-03T10:00:00+00:00",
          "2022-03-03T11:00:00+00:00",
          "2022-03-03T23:00:00+00:00",
          "2022-03-04T12:00:00+00:00",
          "2022-03-04T14:00:00+00:00",
          "2022-03-04T19:00:00+00:00",
          "2022-03-04T20:00:00+00:00",
          "2022-03-04T21:00:00+00:00",
          "2022-03-07T06:00:00+00:00",
          "2022-03-07T11:00:00+00:00",
          "2022-03-08T09:00:00+00:00",
          "2022-03-08T18:00:00+00:00",
          "2022-03-09T04:00:00+00:00",
          "2022-03-09T11:00:00+00:00",
          "2022-03-09T14:00:00+00:00",
          "2022-03-09T18:00:00+00:00",
          "2022-03-09T23:00:00+00:00",
          "2022-03-10T00:00:00+00:00",
          "2022-03-10T07:00:00+00:00",
          "2022-03-10T11:00:00+00:00",
          "2022-03-10T14:00:00+00:00",
          "2022-03-10T16:00:00+00:00",
          "2022-03-10T20:00:00+00:00",
          "2022-03-11T08:00:00+00:00",
          "2022-03-11T15:00:00+00:00",
          "2022-03-13T21:00:00+00:00",
          "2022-03-13T23:00:00+00:00",
          "2022-03-14T10:00:00+00:00",
          "2022-03-14T22:00:00+00:00",
          "2022-03-15T02:00:00+00:00",
          "2022-03-15T12:00:00+00:00",
          "2022-03-15T15:00:00+00:00",
          "2022-03-15T17:00:00+00:00",
          "2022-03-15T19:00:00+00:00",
          "2022-03-16T02:00:00+00:00",
          "2022-03-16T07:00:00+00:00",
          "2022-03-16T10:00:00+00:00",
          "2022-03-17T00:00:00+00:00",
          "2022-03-17T01:00:00+00:00",
          "2022-03-17T06:00:00+00:00",
          "2022-03-17T07:00:00+00:00",
          "2022-03-17T16:00:00+00:00",
          "2022-03-17T18:00:00+00:00",
          "2022-03-17T19:00:00+00:00",
          "2022-03-17T22:00:00+00:00",
          "2022-03-18T10:00:00+00:00",
          "2022-03-21T04:00:00+00:00",
          "2022-03-21T09:00:00+00:00",
          "2022-03-21T11:00:00+00:00",
          "2022-03-22T08:00:00+00:00",
          "2022-03-22T19:00:00+00:00",
          "2022-03-23T02:00:00+00:00",
          "2022-03-24T09:00:00+00:00",
          "2022-03-24T12:00:00+00:00",
          "2022-03-25T09:00:00+00:00",
          "2022-03-25T14:00:00+00:00",
          "2022-03-25T20:00:00+00:00",
          "2022-03-28T13:00:00+00:00",
          "2022-03-28T17:00:00+00:00",
          "2022-03-28T18:00:00+00:00",
          "2022-03-28T20:00:00+00:00",
          "2022-03-29T01:00:00+00:00",
          "2022-03-29T06:00:00+00:00",
          "2022-03-29T14:00:00+00:00",
          "2022-03-29T20:00:00+00:00",
          "2022-03-30T07:00:00+00:00",
          "2022-03-30T09:00:00+00:00",
          "2022-03-30T16:00:00+00:00",
          "2022-03-30T17:00:00+00:00",
          "2022-03-30T18:00:00+00:00",
          "2022-03-31T01:00:00+00:00",
          "2022-03-31T02:00:00+00:00",
          "2022-03-31T04:00:00+00:00",
          "2022-04-01T01:00:00+00:00",
          "2022-04-01T06:00:00+00:00",
          "2022-04-01T07:00:00+00:00",
          "2022-04-01T08:00:00+00:00",
          "2022-04-01T11:00:00+00:00",
          "2022-04-03T22:00:00+00:00",
          "2022-04-04T00:00:00+00:00",
          "2022-04-04T08:00:00+00:00",
          "2022-04-04T11:00:00+00:00",
          "2022-04-04T12:00:00+00:00",
          "2022-04-04T14:00:00+00:00",
          "2022-04-04T15:00:00+00:00",
          "2022-04-04T16:00:00+00:00",
          "2022-04-04T18:00:00+00:00",
          "2022-04-04T23:00:00+00:00",
          "2022-04-05T00:00:00+00:00",
          "2022-04-05T01:00:00+00:00",
          "2022-04-05T05:00:00+00:00",
          "2022-04-05T07:00:00+00:00",
          "2022-04-05T15:00:00+00:00",
          "2022-04-05T18:00:00+00:00",
          "2022-04-06T19:00:00+00:00",
          "2022-04-06T21:00:00+00:00",
          "2022-04-07T10:00:00+00:00",
          "2022-04-07T12:00:00+00:00",
          "2022-04-08T01:00:00+00:00",
          "2022-04-08T05:00:00+00:00",
          "2022-04-08T06:00:00+00:00",
          "2022-04-08T10:00:00+00:00",
          "2022-04-11T00:00:00+00:00",
          "2022-04-11T06:00:00+00:00",
          "2022-04-11T10:00:00+00:00",
          "2022-04-11T11:00:00+00:00",
          "2022-04-11T13:00:00+00:00",
          "2022-04-12T03:00:00+00:00",
          "2022-04-12T06:00:00+00:00",
          "2022-04-12T13:00:00+00:00",
          "2022-04-13T02:00:00+00:00",
          "2022-04-13T14:00:00+00:00",
          "2022-04-13T23:00:00+00:00",
          "2022-04-14T02:00:00+00:00",
          "2022-04-14T05:00:00+00:00",
          "2022-04-14T07:00:00+00:00",
          "2022-04-14T10:00:00+00:00",
          "2022-04-14T21:00:00+00:00",
          "2022-04-14T23:00:00+00:00",
          "2022-04-15T02:00:00+00:00",
          "2022-04-15T05:00:00+00:00",
          "2022-04-15T11:00:00+00:00",
          "2022-04-15T19:00:00+00:00",
          "2022-04-18T03:00:00+00:00",
          "2022-04-18T13:00:00+00:00",
          "2022-04-18T18:00:00+00:00",
          "2022-04-19T03:00:00+00:00",
          "2022-04-19T10:00:00+00:00",
          "2022-04-19T19:00:00+00:00",
          "2022-04-19T21:00:00+00:00",
          "2022-04-20T05:00:00+00:00",
          "2022-04-20T13:00:00+00:00",
          "2022-04-20T20:00:00+00:00",
          "2022-04-20T21:00:00+00:00",
          "2022-04-20T22:00:00+00:00",
          "2022-04-21T07:00:00+00:00",
          "2022-04-21T14:00:00+00:00",
          "2022-04-22T03:00:00+00:00",
          "2022-04-22T05:00:00+00:00",
          "2022-04-22T07:00:00+00:00",
          "2022-04-22T08:00:00+00:00",
          "2022-04-22T10:00:00+00:00",
          "2022-04-22T15:00:00+00:00",
          "2022-04-22T18:00:00+00:00",
          "2022-04-22T20:00:00+00:00",
          "2022-04-24T23:00:00+00:00",
          "2022-04-25T01:00:00+00:00",
          "2022-04-25T06:00:00+00:00",
          "2022-04-25T12:00:00+00:00",
          "2022-04-26T00:00:00+00:00",
          "2022-04-26T04:00:00+00:00",
          "2022-04-26T05:00:00+00:00",
          "2022-04-26T23:00:00+00:00",
          "2022-04-28T00:00:00+00:00",
          "2022-04-28T04:00:00+00:00",
          "2022-04-28T07:00:00+00:00",
          "2022-04-28T17:00:00+00:00",
          "2022-04-28T21:00:00+00:00",
          "2022-04-29T05:00:00+00:00",
          "2022-04-29T06:00:00+00:00",
          "2022-04-29T07:00:00+00:00",
          "2022-04-29T16:00:00+00:00",
          "2022-05-02T01:00:00+00:00",
          "2022-05-02T05:00:00+00:00",
          "2022-05-02T08:00:00+00:00",
          "2022-05-02T13:00:00+00:00",
          "2022-05-03T00:00:00+00:00",
          "2022-05-03T12:00:00+00:00",
          "2022-05-03T21:00:00+00:00",
          "2022-05-04T03:00:00+00:00",
          "2022-05-04T07:00:00+00:00",
          "2022-05-04T14:00:00+00:00",
          "2022-05-04T16:00:00+00:00",
          "2022-05-04T17:00:00+00:00",
          "2022-05-04T18:00:00+00:00",
          "2022-05-04T20:00:00+00:00",
          "2022-05-04T21:00:00+00:00",
          "2022-05-05T01:00:00+00:00",
          "2022-05-05T08:00:00+00:00",
          "2022-05-05T12:00:00+00:00",
          "2022-05-05T13:00:00+00:00",
          "2022-05-05T14:00:00+00:00",
          "2022-05-05T16:00:00+00:00",
          "2022-05-05T17:00:00+00:00",
          "2022-05-05T19:00:00+00:00",
          "2022-05-06T00:00:00+00:00",
          "2022-05-06T03:00:00+00:00",
          "2022-05-06T06:00:00+00:00",
          "2022-05-06T08:00:00+00:00",
          "2022-05-06T11:00:00+00:00",
          "2022-05-06T15:00:00+00:00",
          "2022-05-06T17:00:00+00:00",
          "2022-05-09T07:00:00+00:00",
          "2022-05-09T12:00:00+00:00",
          "2022-05-09T14:00:00+00:00",
          "2022-05-09T19:00:00+00:00",
          "2022-05-09T20:00:00+00:00",
          "2022-05-09T22:00:00+00:00",
          "2022-05-10T02:00:00+00:00",
          "2022-05-10T04:00:00+00:00",
          "2022-05-10T06:00:00+00:00",
          "2022-05-10T08:00:00+00:00",
          "2022-05-11T04:00:00+00:00",
          "2022-05-11T07:00:00+00:00",
          "2022-05-11T10:00:00+00:00",
          "2022-05-12T04:00:00+00:00",
          "2022-05-12T12:00:00+00:00",
          "2022-05-12T16:00:00+00:00",
          "2022-05-12T18:00:00+00:00",
          "2022-05-12T21:00:00+00:00",
          "2022-05-13T03:00:00+00:00",
          "2022-05-13T16:00:00+00:00",
          "2022-05-13T17:00:00+00:00",
          "2022-05-16T01:00:00+00:00",
          "2022-05-16T08:00:00+00:00",
          "2022-05-16T16:00:00+00:00",
          "2022-05-17T02:00:00+00:00",
          "2022-05-17T03:00:00+00:00",
          "2022-05-17T07:00:00+00:00",
          "2022-05-17T10:00:00+00:00",
          "2022-05-17T18:00:00+00:00",
          "2022-05-17T21:00:00+00:00",
          "2022-05-17T23:00:00+00:00",
          "2022-05-18T00:00:00+00:00",
          "2022-05-18T06:00:00+00:00",
          "2022-05-18T07:00:00+00:00",
          "2022-05-18T15:00:00+00:00",
          "2022-05-19T01:00:00+00:00",
          "2022-05-19T02:00:00+00:00",
          "2022-05-19T05:00:00+00:00",
          "2022-05-19T07:00:00+00:00",
          "2022-05-19T09:00:00+00:00",
          "2022-05-19T12:00:00+00:00",
          "2022-05-19T15:00:00+00:00",
          "2022-05-19T19:00:00+00:00",
          "2022-05-20T03:00:00+00:00",
          "2022-05-20T05:00:00+00:00",
          "2022-05-20T09:00:00+00:00",
          "2022-05-20T11:00:00+00:00",
          "2022-05-20T16:00:00+00:00",
          "2022-05-20T17:00:00+00:00",
          "2022-05-23T01:00:00+00:00",
          "2022-05-23T23:00:00+00:00",
          "2022-05-24T14:00:00+00:00",
          "2022-05-25T00:00:00+00:00",
          "2022-05-25T10:00:00+00:00",
          "2022-05-25T22:00:00+00:00",
          "2022-05-26T06:00:00+00:00",
          "2022-05-26T09:00:00+00:00",
          "2022-05-26T12:00:00+00:00",
          "2022-05-26T23:00:00+00:00",
          "2022-05-27T03:00:00+00:00",
          "2022-05-27T11:00:00+00:00",
          "2022-05-27T16:00:00+00:00",
          "2022-05-27T18:00:00+00:00",
          "2022-05-29T21:00:00+00:00",
          "2022-05-30T01:00:00+00:00",
          "2022-05-30T07:00:00+00:00",
          "2022-05-30T08:00:00+00:00",
          "2022-05-30T11:00:00+00:00",
          "2022-05-30T18:00:00+00:00",
          "2022-05-30T21:00:00+00:00",
          "2022-05-31T11:00:00+00:00",
          "2022-05-31T19:00:00+00:00",
          "2022-06-01T04:00:00+00:00",
          "2022-06-01T09:00:00+00:00",
          "2022-06-01T12:00:00+00:00",
          "2022-06-01T16:00:00+00:00",
          "2022-06-02T06:00:00+00:00",
          "2022-06-02T23:00:00+00:00",
          "2022-06-03T05:00:00+00:00",
          "2022-06-03T08:00:00+00:00",
          "2022-06-03T11:00:00+00:00",
          "2022-06-03T14:00:00+00:00",
          "2022-06-06T01:00:00+00:00",
          "2022-06-06T05:00:00+00:00",
          "2022-06-06T12:00:00+00:00",
          "2022-06-06T18:00:00+00:00",
          "2022-06-06T20:00:00+00:00",
          "2022-06-07T06:00:00+00:00",
          "2022-06-07T16:00:00+00:00",
          "2022-06-08T06:00:00+00:00",
          "2022-06-08T20:00:00+00:00",
          "2022-06-09T10:00:00+00:00",
          "2022-06-09T11:00:00+00:00",
          "2022-06-09T17:00:00+00:00",
          "2022-06-09T18:00:00+00:00",
          "2022-06-09T20:00:00+00:00",
          "2022-06-09T22:00:00+00:00",
          "2022-06-10T02:00:00+00:00",
          "2022-06-10T16:00:00+00:00",
          "2022-06-10T18:00:00+00:00",
          "2022-06-12T21:00:00+00:00",
          "2022-06-13T00:00:00+00:00",
          "2022-06-13T01:00:00+00:00",
          "2022-06-13T04:00:00+00:00",
          "2022-06-13T05:00:00+00:00",
          "2022-06-13T08:00:00+00:00",
          "2022-06-13T10:00:00+00:00",
          "2022-06-13T11:00:00+00:00",
          "2022-06-13T12:00:00+00:00",
          "2022-06-13T14:00:00+00:00",
          "2022-06-13T16:00:00+00:00",
          "2022-06-14T19:00:00+00:00",
          "2022-06-15T11:00:00+00:00",
          "2022-06-16T08:00:00+00:00",
          "2022-06-16T10:00:00+00:00",
          "2022-06-16T14:00:00+00:00",
          "2022-06-16T16:00:00+00:00",
          "2022-06-16T17:00:00+00:00",
          "2022-06-16T20:00:00+00:00",
          "2022-06-16T23:00:00+00:00",
          "2022-06-17T00:00:00+00:00",
          "2022-06-17T01:00:00+00:00",
          "2022-06-17T03:00:00+00:00",
          "2022-06-17T13:00:00+00:00",
          "2022-06-17T17:00:00+00:00",
          "2022-06-17T19:00:00+00:00",
          "2022-06-20T03:00:00+00:00",
          "2022-06-20T11:00:00+00:00",
          "2022-06-20T20:00:00+00:00",
          "2022-06-21T19:00:00+00:00",
          "2022-06-21T20:00:00+00:00",
          "2022-06-22T03:00:00+00:00",
          "2022-06-22T09:00:00+00:00",
          "2022-06-22T11:00:00+00:00",
          "2022-06-22T12:00:00+00:00",
          "2022-06-23T01:00:00+00:00",
          "2022-06-23T07:00:00+00:00",
          "2022-06-23T12:00:00+00:00",
          "2022-06-24T02:00:00+00:00",
          "2022-06-24T04:00:00+00:00",
          "2022-06-24T05:00:00+00:00",
          "2022-06-24T08:00:00+00:00",
          "2022-06-24T12:00:00+00:00",
          "2022-06-24T15:00:00+00:00",
          "2022-06-24T16:00:00+00:00",
          "2022-06-24T17:00:00+00:00",
          "2022-06-24T18:00:00+00:00",
          "2022-06-26T21:00:00+00:00",
          "2022-06-27T04:00:00+00:00",
          "2022-06-27T08:00:00+00:00",
          "2022-06-27T12:00:00+00:00",
          "2022-06-27T13:00:00+00:00",
          "2022-06-27T19:00:00+00:00",
          "2022-06-27T23:00:00+00:00",
          "2022-06-28T00:00:00+00:00",
          "2022-06-28T09:00:00+00:00",
          "2022-06-28T12:00:00+00:00",
          "2022-06-28T15:00:00+00:00",
          "2022-06-28T16:00:00+00:00",
          "2022-06-29T04:00:00+00:00",
          "2022-06-29T06:00:00+00:00",
          "2022-06-29T08:00:00+00:00",
          "2022-06-29T18:00:00+00:00",
          "2022-06-29T22:00:00+00:00",
          "2022-06-30T12:00:00+00:00",
          "2022-06-30T20:00:00+00:00",
          "2022-06-30T21:00:00+00:00",
          "2022-07-01T04:00:00+00:00",
          "2022-07-01T06:00:00+00:00",
          "2022-07-01T11:00:00+00:00",
          "2022-07-01T12:00:00+00:00",
          "2022-07-01T13:00:00+00:00",
          "2022-07-01T19:00:00+00:00",
          "2022-07-04T11:00:00+00:00",
          "2022-07-04T15:00:00+00:00",
          "2022-07-04T19:00:00+00:00",
          "2022-07-04T20:00:00+00:00",
          "2022-07-04T21:00:00+00:00",
          "2022-07-05T04:00:00+00:00",
          "2022-07-05T15:00:00+00:00",
          "2022-07-05T20:00:00+00:00",
          "2022-07-05T21:00:00+00:00",
          "2022-07-06T05:00:00+00:00",
          "2022-07-06T08:00:00+00:00",
          "2022-07-06T18:00:00+00:00",
          "2022-07-07T00:00:00+00:00",
          "2022-07-07T10:00:00+00:00",
          "2022-07-07T18:00:00+00:00",
          "2022-07-08T04:00:00+00:00",
          "2022-07-08T06:00:00+00:00",
          "2022-07-08T13:00:00+00:00",
          "2022-07-08T15:00:00+00:00",
          "2022-07-08T16:00:00+00:00",
          "2022-07-10T22:00:00+00:00",
          "2022-07-11T09:00:00+00:00",
          "2022-07-11T18:00:00+00:00",
          "2022-07-12T04:00:00+00:00",
          "2022-07-12T20:00:00+00:00",
          "2022-07-13T00:00:00+00:00",
          "2022-07-13T13:00:00+00:00",
          "2022-07-13T15:00:00+00:00",
          "2022-07-13T18:00:00+00:00",
          "2022-07-13T20:00:00+00:00",
          "2022-07-13T22:00:00+00:00",
          "2022-07-14T04:00:00+00:00",
          "2022-07-14T08:00:00+00:00",
          "2022-07-14T09:00:00+00:00",
          "2022-07-14T16:00:00+00:00",
          "2022-07-14T17:00:00+00:00",
          "2022-07-15T01:00:00+00:00",
          "2022-07-15T06:00:00+00:00",
          "2022-07-15T11:00:00+00:00",
          "2022-07-15T19:00:00+00:00",
          "2022-07-17T21:00:00+00:00",
          "2022-07-17T22:00:00+00:00",
          "2022-07-18T03:00:00+00:00",
          "2022-07-18T06:00:00+00:00",
          "2022-07-18T09:00:00+00:00",
          "2022-07-18T12:00:00+00:00",
          "2022-07-18T13:00:00+00:00",
          "2022-07-18T18:00:00+00:00",
          "2022-07-19T01:00:00+00:00",
          "2022-07-19T06:00:00+00:00",
          "2022-07-19T09:00:00+00:00",
          "2022-07-19T10:00:00+00:00",
          "2022-07-19T16:00:00+00:00",
          "2022-07-19T17:00:00+00:00",
          "2022-07-19T22:00:00+00:00",
          "2022-07-20T11:00:00+00:00",
          "2022-07-20T13:00:00+00:00",
          "2022-07-20T15:00:00+00:00",
          "2022-07-20T16:00:00+00:00",
          "2022-07-21T07:00:00+00:00",
          "2022-07-21T16:00:00+00:00",
          "2022-07-22T07:00:00+00:00",
          "2022-07-22T08:00:00+00:00",
          "2022-07-22T10:00:00+00:00",
          "2022-07-22T12:00:00+00:00",
          "2022-07-22T13:00:00+00:00",
          "2022-07-22T16:00:00+00:00",
          "2022-07-22T18:00:00+00:00",
          "2022-07-22T19:00:00+00:00",
          "2022-07-25T09:00:00+00:00",
          "2022-07-25T12:00:00+00:00",
          "2022-07-25T15:00:00+00:00",
          "2022-07-26T05:00:00+00:00",
          "2022-07-26T06:00:00+00:00",
          "2022-07-26T10:00:00+00:00",
          "2022-07-26T14:00:00+00:00",
          "2022-07-26T21:00:00+00:00",
          "2022-07-27T03:00:00+00:00",
          "2022-07-27T08:00:00+00:00",
          "2022-07-27T11:00:00+00:00",
          "2022-07-27T15:00:00+00:00",
          "2022-07-27T20:00:00+00:00",
          "2022-07-28T06:00:00+00:00",
          "2022-07-28T12:00:00+00:00",
          "2022-07-28T22:00:00+00:00",
          "2022-07-29T01:00:00+00:00",
          "2022-07-29T20:00:00+00:00",
          "2022-08-01T08:00:00+00:00",
          "2022-08-02T00:00:00+00:00",
          "2022-08-02T05:00:00+00:00",
          "2022-08-02T15:00:00+00:00",
          "2022-08-02T23:00:00+00:00",
          "2022-08-03T06:00:00+00:00",
          "2022-08-03T10:00:00+00:00",
          "2022-08-03T11:00:00+00:00",
          "2022-08-03T12:00:00+00:00",
          "2022-08-03T17:00:00+00:00",
          "2022-08-03T23:00:00+00:00",
          "2022-08-04T01:00:00+00:00",
          "2022-08-04T02:00:00+00:00",
          "2022-08-04T03:00:00+00:00",
          "2022-08-04T07:00:00+00:00",
          "2022-08-04T08:00:00+00:00",
          "2022-08-04T12:00:00+00:00",
          "2022-08-04T16:00:00+00:00",
          "2022-08-04T17:00:00+00:00",
          "2022-08-04T19:00:00+00:00",
          "2022-08-05T00:00:00+00:00",
          "2022-08-05T02:00:00+00:00",
          "2022-08-05T08:00:00+00:00",
          "2022-08-05T09:00:00+00:00",
          "2022-08-05T13:00:00+00:00",
          "2022-08-05T16:00:00+00:00",
          "2022-08-05T17:00:00+00:00",
          "2022-08-08T02:00:00+00:00",
          "2022-08-08T08:00:00+00:00",
          "2022-08-08T16:00:00+00:00",
          "2022-08-09T00:00:00+00:00",
          "2022-08-09T02:00:00+00:00",
          "2022-08-09T06:00:00+00:00",
          "2022-08-09T08:00:00+00:00",
          "2022-08-09T09:00:00+00:00",
          "2022-08-09T10:00:00+00:00",
          "2022-08-10T04:00:00+00:00",
          "2022-08-10T08:00:00+00:00",
          "2022-08-10T13:00:00+00:00",
          "2022-08-10T14:00:00+00:00",
          "2022-08-10T18:00:00+00:00",
          "2022-08-10T22:00:00+00:00",
          "2022-08-11T01:00:00+00:00",
          "2022-08-11T04:00:00+00:00",
          "2022-08-11T05:00:00+00:00",
          "2022-08-11T11:00:00+00:00",
          "2022-08-12T00:00:00+00:00",
          "2022-08-12T18:00:00+00:00",
          "2022-08-15T09:00:00+00:00",
          "2022-08-15T13:00:00+00:00",
          "2022-08-15T17:00:00+00:00",
          "2022-08-15T19:00:00+00:00",
          "2022-08-15T20:00:00+00:00",
          "2022-08-16T02:00:00+00:00",
          "2022-08-16T06:00:00+00:00",
          "2022-08-16T08:00:00+00:00",
          "2022-08-16T18:00:00+00:00",
          "2022-08-16T23:00:00+00:00",
          "2022-08-17T08:00:00+00:00",
          "2022-08-17T09:00:00+00:00",
          "2022-08-17T10:00:00+00:00",
          "2022-08-17T15:00:00+00:00",
          "2022-08-17T21:00:00+00:00",
          "2022-08-18T00:00:00+00:00",
          "2022-08-18T12:00:00+00:00",
          "2022-08-18T16:00:00+00:00",
          "2022-08-18T22:00:00+00:00",
          "2022-08-19T00:00:00+00:00",
          "2022-08-19T14:00:00+00:00",
          "2022-08-22T13:00:00+00:00",
          "2022-08-22T22:00:00+00:00",
          "2022-08-23T06:00:00+00:00",
          "2022-08-23T16:00:00+00:00",
          "2022-08-23T23:00:00+00:00",
          "2022-08-24T00:00:00+00:00",
          "2022-08-24T16:00:00+00:00",
          "2022-08-24T19:00:00+00:00",
          "2022-08-25T15:00:00+00:00",
          "2022-08-25T18:00:00+00:00",
          "2022-08-25T20:00:00+00:00",
          "2022-08-26T02:00:00+00:00",
          "2022-08-26T13:00:00+00:00",
          "2022-08-29T07:00:00+00:00"
         ],
         "y": [
          118.2000000000008,
          50.00000000000058,
          134.60000000000082,
          284.9999999999999,
          208.39999999999952,
          89.09999999999957,
          490.3000000000011,
          465.5000000000006,
          508.70000000000164,
          673.6000000000017,
          827.0000000000008,
          730.6000000000009,
          866.5000000000008,
          832.0000000000009,
          753.8000000000004,
          698.8000000000009,
          658.2000000000013,
          698.0000000000009,
          545.1000000000006,
          539.5000000000009,
          514.5000000000009,
          800.7000000000019,
          734.7000000000024,
          667.3000000000017,
          766.000000000002,
          750.8000000000023,
          706.2000000000032,
          814.3000000000031,
          851.7000000000039,
          869.000000000004,
          909.2000000000041,
          850.3000000000035,
          856.9000000000034,
          781.5000000000024,
          951.3000000000031,
          890.3000000000031,
          1109.100000000005,
          1320.9000000000046,
          1325.7000000000048,
          1354.3000000000034,
          1524.1000000000033,
          1474.1000000000022,
          1449.5000000000032,
          1422.100000000003,
          1368.7000000000025,
          1248.600000000004,
          1240.2000000000046,
          1242.4000000000046,
          1237.6000000000045,
          1235.000000000003,
          1229.7000000000025,
          1210.1000000000029,
          1307.400000000003,
          1324.6000000000024,
          1273.4000000000024,
          1328.600000000002,
          1300.0000000000023,
          1262.400000000002,
          1195.8000000000052,
          1232.2000000000041,
          1135.0000000000068,
          1064.3000000000054,
          1067.5000000000052,
          1018.8000000000058,
          999.6000000000055,
          885.9000000000052,
          854.2000000000052,
          809.4000000000048,
          735.8000000000044,
          704.3000000000045,
          704.6000000000042,
          680.8000000000037,
          658.3000000000039,
          632.6000000000043,
          611.2000000000063,
          572.3000000000068,
          595.7000000000069,
          500.10000000000673,
          596.400000000007,
          666.2000000000069,
          614.200000000006,
          595.4000000000071,
          903.4000000000087,
          770.6000000000091,
          762.7000000000096,
          1038.2000000000091,
          978.0000000000089,
          943.4000000000085,
          761.8000000000079,
          712.2000000000085,
          652.4000000000086,
          671.8000000000088,
          594.4000000000087,
          514.300000000008,
          484.5000000000082,
          468.80000000000746,
          461.70000000000755,
          473.10000000000787,
          448.1000000000084,
          353.10000000000997,
          293.1000000000099,
          290.70000000001124,
          302.50000000001216,
          345.80000000001286,
          363.10000000001355,
          326.1000000000132,
          1145.9000000000149,
          1107.8000000000143,
          1068.6000000000147,
          1033.8000000000154,
          1025.3000000000147,
          2044.6000000000154,
          2186.6000000000154,
          2108.7000000000157,
          2070.3000000000156,
          2013.7000000000153,
          1932.5000000000168,
          1866.9000000000178,
          1839.9000000000165,
          1796.0000000000152,
          2293.1000000000167,
          2432.6000000000176,
          2420.2000000000176,
          2407.600000000017,
          2848.9000000000174,
          2814.900000000017,
          2771.300000000018,
          2786.0000000000177,
          3429.400000000016,
          3333.7000000000153,
          3275.700000000015,
          3150.2000000000153,
          3161.500000000015,
          3054.3000000000147,
          2993.3000000000147,
          2916.000000000015,
          2835.2000000000144,
          2761.1000000000145,
          2738.7000000000144,
          2841.300000000014,
          2768.500000000014,
          2736.7000000000144,
          3362.5000000000155,
          3303.9000000000156,
          3254.000000000016,
          3294.8000000000156,
          3226.3000000000156,
          3157.8000000000156,
          3169.0000000000146,
          3116.8000000000147,
          3041.100000000014,
          2869.2000000000144,
          2802.6000000000145,
          2861.000000000014,
          2918.2000000000144,
          2834.400000000015,
          2878.2000000000157,
          2812.800000000016,
          2737.800000000016,
          2740.800000000016,
          2845.200000000016,
          3460.2000000000166,
          3513.200000000016,
          3367.400000000016,
          3475.000000000017,
          3301.000000000016,
          4032.100000000014,
          3919.0000000000146,
          3839.5000000000155,
          3835.700000000017,
          4608.0000000000155,
          5394.300000000016,
          6301.500000000016,
          6308.700000000017,
          6264.200000000016,
          6255.800000000016,
          6113.600000000014,
          6083.400000000014,
          5992.500000000014,
          5831.000000000013,
          5779.400000000012,
          5662.900000000011,
          5597.10000000001,
          5596.00000000001,
          5618.300000000009,
          5765.700000000009,
          5831.700000000008,
          6024.900000000008,
          5980.8000000000075,
          6002.400000000007,
          6056.600000000007,
          5984.600000000007,
          5927.200000000007,
          6076.100000000006,
          6271.600000000006,
          6257.300000000006,
          6260.500000000006,
          6269.900000000007,
          6283.700000000006,
          6142.900000000008,
          6050.500000000009,
          5961.1000000000095,
          5827.30000000001,
          5988.30000000001,
          6114.300000000009,
          6110.90000000001,
          6083.700000000009,
          6044.1000000000095,
          6086.6000000000095,
          6015.1000000000095,
          5929.300000000009,
          5907.700000000009,
          5894.800000000008,
          5854.600000000007,
          5798.300000000007,
          5768.600000000005,
          5757.700000000004,
          5691.500000000004,
          5623.400000000002,
          5592.600000000001,
          5488.4000000000015,
          5424.300000000002,
          5345.4000000000015,
          5303.700000000002,
          5345.000000000001,
          5258.800000000002,
          5140.3,
          5103.800000000001,
          5077.200000000003,
          5328.500000000004,
          5434.2000000000035,
          5478.700000000004,
          5960.100000000004,
          5905.100000000006,
          6172.200000000005,
          6586.700000000006,
          6583.200000000005,
          6479.300000000007,
          6473.900000000007,
          6445.100000000006,
          6387.200000000006,
          6353.200000000006,
          6350.0000000000055,
          6363.0000000000055,
          6375.000000000005,
          6891.400000000005,
          7017.7000000000035,
          7295.400000000004,
          7279.900000000005,
          7325.600000000006,
          7277.600000000006,
          7271.200000000005,
          7351.800000000005,
          7554.500000000004,
          7531.300000000005,
          7465.0000000000055,
          7425.5000000000055,
          7340.700000000005,
          7273.500000000007,
          7235.300000000007,
          7201.300000000006,
          7227.000000000006,
          7281.400000000008,
          7877.000000000007,
          7774.400000000011,
          7857.60000000001,
          7776.600000000008,
          7866.000000000009,
          7859.70000000001,
          7828.30000000001,
          7693.70000000001,
          7656.40000000001,
          7607.100000000009,
          7611.800000000008,
          7485.600000000009,
          7377.600000000009,
          7618.000000000009,
          7540.6000000000095,
          7438.700000000011,
          7340.100000000011,
          7270.500000000012,
          7356.900000000012,
          7157.800000000011,
          7042.300000000009,
          6929.200000000009,
          6863.400000000009,
          6675.400000000007,
          6754.800000000006,
          6535.300000000005,
          6765.800000000005,
          6747.400000000004,
          7010.000000000004,
          6997.300000000006,
          7170.200000000005,
          7166.800000000006,
          7348.000000000007,
          7213.000000000006,
          7466.100000000006,
          7419.5000000000055,
          7453.100000000004,
          7228.300000000002,
          6969.8,
          7025.1,
          7076.5,
          6886.299999999999,
          6819.699999999997,
          6884.799999999997,
          6762.199999999996,
          6601.699999999997,
          6490.399999999997,
          6470.599999999996,
          6391.199999999997,
          6444.7999999999965,
          6402.599999999998,
          6416.899999999998,
          6584.199999999997,
          6426.599999999997,
          6710.999999999996,
          6643.599999999997,
          6618.399999999996,
          6573.799999999995,
          6668.399999999995,
          6787.399999999997,
          6727.099999999997,
          6694.399999999996,
          6640.199999999996,
          6647.199999999998,
          6520.799999999997,
          6222.399999999997,
          6174.999999999997,
          6150.199999999997,
          6086.399999999998,
          6073.799999999997,
          5810.799999999997,
          5770.499999999996,
          5773.099999999997,
          5880.799999999997,
          5817.299999999999,
          5739.299999999999,
          5679.999999999999,
          5674,
          5716.8,
          5852.3,
          5836.299999999999,
          5940.499999999998,
          5972.899999999997,
          5954.899999999997,
          5942.699999999997,
          5926.2999999999965,
          5822.199999999999,
          5763.099999999999,
          5617.1,
          5586.000000000001,
          5584.100000000002,
          5656.300000000003,
          5707.900000000002,
          5604.300000000003,
          5527.400000000003,
          5464.400000000003,
          5440.800000000004,
          5438.000000000004,
          5455.100000000005,
          5361.700000000006,
          5307.400000000006,
          5380.800000000005,
          5327.700000000004,
          5260.100000000004,
          5152.5000000000055,
          5478.000000000006,
          5389.700000000007,
          5156.300000000008,
          5339.300000000008,
          5660.300000000008,
          5694.8000000000075,
          6069.300000000008,
          6169.100000000009,
          6058.000000000009,
          6126.90000000001,
          6158.1000000000095,
          6306.000000000009,
          6342.00000000001,
          6385.400000000011,
          6214.800000000012,
          6391.600000000013,
          6443.400000000014,
          6443.700000000015,
          6403.000000000016,
          6774.400000000016,
          6734.900000000018,
          6794.000000000018,
          7473.700000000018,
          7425.20000000002,
          7371.20000000002,
          7370.00000000002,
          7185.20000000002,
          7101.700000000019,
          7018.700000000017,
          7004.700000000016,
          6998.700000000017,
          7605.700000000016,
          7556.800000000017,
          7647.400000000015,
          7561.700000000015,
          7484.600000000017,
          8025.900000000016,
          7992.200000000016,
          7971.900000000016,
          8144.100000000016,
          8301.500000000016,
          8502.800000000016,
          8465.000000000015,
          9019.300000000014,
          8951.100000000013,
          9084.100000000013,
          9061.200000000013,
          9029.400000000014,
          9044.800000000016,
          8967.200000000013,
          8818.400000000014,
          8759.200000000013,
          8740.200000000013,
          8711.300000000014,
          8672.800000000014,
          8634.700000000013,
          8701.400000000012,
          8721.700000000012,
          8825.200000000012,
          9009.100000000011,
          8983.400000000012,
          8971.900000000012,
          9020.300000000012,
          8966.000000000011,
          8932.200000000012,
          8854.700000000012,
          8801.40000000001,
          9017.40000000001,
          9135.90000000001,
          9369.900000000009,
          9051.00000000001,
          8996.600000000008,
          9289.000000000007,
          9591.400000000007,
          9628.900000000007,
          9669.600000000006,
          9655.800000000005,
          9597.100000000006,
          9638.800000000007,
          10155.500000000007,
          10104.100000000008,
          10044.100000000008,
          9675.400000000007,
          9620.200000000004,
          9523.400000000003,
          9448.900000000003,
          9575.600000000002,
          9325.500000000002,
          9620.900000000003,
          9443.100000000002,
          9417.100000000002,
          9229.1,
          9151.7,
          9103.800000000001,
          9461.5,
          9230.3,
          9092.6,
          9095.199999999999,
          9160.699999999999,
          9134.8,
          9164.7,
          9159.599999999999,
          9058.699999999999,
          9034.4,
          8970.199999999999,
          9076.799999999997,
          9102.999999999996,
          9181.199999999995,
          9158.199999999995,
          9096.999999999995,
          9046.999999999996,
          8939.799999999996,
          8912.399999999996,
          8758.899999999998,
          8536.699999999999,
          8400.3,
          8290.699999999999,
          8118.599999999999,
          8109.399999999999,
          8113.699999999998,
          8111.499999999999,
          8024.699999999999,
          8480.399999999998,
          8696.699999999995,
          8627.099999999995,
          8611.799999999994,
          8608.499999999995,
          8433.299999999994,
          8451.499999999993,
          8443.699999999993,
          8415.299999999992,
          8317.39999999999,
          8341.69999999999,
          8555.799999999992,
          8518.499999999993,
          8903.499999999993,
          9016.999999999993,
          9234.799999999992,
          9195.799999999992,
          9415.599999999993,
          9356.899999999992,
          9216.099999999991,
          9062.299999999992,
          8998.69999999999,
          8962.29999999999,
          9074.09999999999,
          9031.699999999988,
          9032.699999999988,
          9075.499999999989,
          9360.49999999999,
          9490.89999999999,
          9284.09999999999,
          9312.19999999999,
          9256.899999999989,
          9179.899999999989,
          9115.29999999999,
          8984.59999999999,
          8923.19999999999,
          8883.399999999989,
          8889.999999999989,
          8947.19999999999,
          9178.899999999987,
          9121.499999999985,
          9142.499999999985,
          9082.899999999983,
          9022.499999999985,
          8993.099999999986,
          9056.999999999985,
          9022.999999999985,
          9087.599999999984,
          9053.799999999983,
          9010.899999999981,
          9046.799999999981,
          8902.399999999981,
          8882.799999999981,
          8928.49999999998,
          9041.39999999998,
          9155.399999999981,
          9138.799999999981,
          9040.29999999998,
          9024.89999999998,
          8900.79999999998,
          8919.199999999979,
          8929.99999999998,
          8888.79999999998,
          8892.099999999979,
          8882.499999999978,
          8897.599999999979,
          8974.199999999979,
          9149.49999999998,
          9179.29999999998,
          9107.39999999998,
          9021.29999999998,
          9289.49999999998,
          9206.399999999981,
          9085.499999999982,
          9027.699999999983,
          8937.699999999984,
          8927.099999999984,
          8888.499999999984,
          8902.099999999984,
          9324.799999999985,
          9325.699999999984,
          9361.699999999984,
          9290.299999999983,
          9250.399999999983,
          9291.699999999983,
          9330.499999999984,
          9251.399999999983,
          9304.699999999984,
          9244.399999999983,
          9279.999999999984,
          9304.599999999982,
          9516.799999999983,
          9664.799999999983,
          9708.499999999982,
          9633.599999999982,
          9705.099999999982,
          9793.399999999981,
          9783.599999999982,
          9775.59999999998,
          9771.09999999998,
          9786.69999999998,
          9723.69999999998,
          9693.69999999998,
          9622.699999999979,
          9571.79999999998,
          9430.79999999998,
          9284.29999999998,
          9205.599999999979,
          9181.299999999977,
          9317.499999999976,
          9291.099999999977,
          9394.799999999977,
          9342.999999999978,
          9281.499999999976,
          9230.199999999975,
          9197.999999999975,
          9202.599999999975,
          8965.099999999973,
          8935.499999999973,
          8899.499999999973,
          8851.799999999972,
          8774.599999999971,
          8500.199999999968,
          8391.899999999969,
          8405.19999999997,
          8360.09999999997,
          8335.599999999971,
          8387.699999999973,
          8240.899999999972,
          8413.199999999973,
          8412.299999999974,
          8561.899999999974,
          8525.699999999973,
          8484.399999999974,
          8423.799999999974,
          8380.199999999972,
          8453.099999999971,
          8393.199999999972,
          8439.199999999972,
          8394.699999999972,
          8336.79999999997,
          8302.39999999997,
          8298.49999999997,
          8371.39999999997,
          8427.49999999997,
          8484.69999999997,
          8531.399999999969,
          8491.699999999968,
          8484.699999999968,
          8374.69999999997,
          8327.799999999968,
          8244.399999999969,
          8215.999999999969,
          8056.499999999968,
          7918.099999999967,
          7885.899999999967,
          7784.299999999969,
          7699.799999999969,
          7606.199999999969,
          7601.99999999997,
          7604.599999999971,
          7846.39999999997,
          7981.3999999999705,
          8040.099999999971,
          7946.899999999972,
          7921.299999999972,
          7910.599999999972,
          7931.299999999972,
          8044.899999999972,
          8269.799999999972,
          8245.899999999972,
          8247.199999999973,
          7993.699999999974,
          7896.799999999975,
          7721.099999999974,
          7602.699999999975,
          7552.499999999976,
          7500.699999999977,
          7469.899999999976,
          7564.399999999976,
          7572.2999999999765,
          7594.899999999977,
          7583.299999999978,
          7512.799999999978,
          7148.8999999999805,
          7083.39999999998,
          6943.699999999981,
          6896.199999999981,
          6807.899999999981,
          6701.799999999981,
          6637.09999999998,
          6522.3999999999805,
          6319.3999999999805,
          6174.29999999998,
          6054.199999999981,
          6012.899999999981
         ]
        }
       ],
       "layout": {
        "font": {
         "color": "#3d825f",
         "size": 10
        },
        "height": 400,
        "margin": {
         "b": 10,
         "l": 15,
         "r": 15
        },
        "paper_bgcolor": "#1e1e1e",
        "plot_bgcolor": "#1e1e1e",
        "template": {
         "data": {
          "bar": [
           {
            "error_x": {
             "color": "#2a3f5f"
            },
            "error_y": {
             "color": "#2a3f5f"
            },
            "marker": {
             "line": {
              "color": "#E5ECF6",
              "width": 0.5
             },
             "pattern": {
              "fillmode": "overlay",
              "size": 10,
              "solidity": 0.2
             }
            },
            "type": "bar"
           }
          ],
          "barpolar": [
           {
            "marker": {
             "line": {
              "color": "#E5ECF6",
              "width": 0.5
             },
             "pattern": {
              "fillmode": "overlay",
              "size": 10,
              "solidity": 0.2
             }
            },
            "type": "barpolar"
           }
          ],
          "carpet": [
           {
            "aaxis": {
             "endlinecolor": "#2a3f5f",
             "gridcolor": "white",
             "linecolor": "white",
             "minorgridcolor": "white",
             "startlinecolor": "#2a3f5f"
            },
            "baxis": {
             "endlinecolor": "#2a3f5f",
             "gridcolor": "white",
             "linecolor": "white",
             "minorgridcolor": "white",
             "startlinecolor": "#2a3f5f"
            },
            "type": "carpet"
           }
          ],
          "choropleth": [
           {
            "colorbar": {
             "outlinewidth": 0,
             "ticks": ""
            },
            "type": "choropleth"
           }
          ],
          "contour": [
           {
            "colorbar": {
             "outlinewidth": 0,
             "ticks": ""
            },
            "colorscale": [
             [
              0,
              "#0d0887"
             ],
             [
              0.1111111111111111,
              "#46039f"
             ],
             [
              0.2222222222222222,
              "#7201a8"
             ],
             [
              0.3333333333333333,
              "#9c179e"
             ],
             [
              0.4444444444444444,
              "#bd3786"
             ],
             [
              0.5555555555555556,
              "#d8576b"
             ],
             [
              0.6666666666666666,
              "#ed7953"
             ],
             [
              0.7777777777777778,
              "#fb9f3a"
             ],
             [
              0.8888888888888888,
              "#fdca26"
             ],
             [
              1,
              "#f0f921"
             ]
            ],
            "type": "contour"
           }
          ],
          "contourcarpet": [
           {
            "colorbar": {
             "outlinewidth": 0,
             "ticks": ""
            },
            "type": "contourcarpet"
           }
          ],
          "heatmap": [
           {
            "colorbar": {
             "outlinewidth": 0,
             "ticks": ""
            },
            "colorscale": [
             [
              0,
              "#0d0887"
             ],
             [
              0.1111111111111111,
              "#46039f"
             ],
             [
              0.2222222222222222,
              "#7201a8"
             ],
             [
              0.3333333333333333,
              "#9c179e"
             ],
             [
              0.4444444444444444,
              "#bd3786"
             ],
             [
              0.5555555555555556,
              "#d8576b"
             ],
             [
              0.6666666666666666,
              "#ed7953"
             ],
             [
              0.7777777777777778,
              "#fb9f3a"
             ],
             [
              0.8888888888888888,
              "#fdca26"
             ],
             [
              1,
              "#f0f921"
             ]
            ],
            "type": "heatmap"
           }
          ],
          "heatmapgl": [
           {
            "colorbar": {
             "outlinewidth": 0,
             "ticks": ""
            },
            "colorscale": [
             [
              0,
              "#0d0887"
             ],
             [
              0.1111111111111111,
              "#46039f"
             ],
             [
              0.2222222222222222,
              "#7201a8"
             ],
             [
              0.3333333333333333,
              "#9c179e"
             ],
             [
              0.4444444444444444,
              "#bd3786"
             ],
             [
              0.5555555555555556,
              "#d8576b"
             ],
             [
              0.6666666666666666,
              "#ed7953"
             ],
             [
              0.7777777777777778,
              "#fb9f3a"
             ],
             [
              0.8888888888888888,
              "#fdca26"
             ],
             [
              1,
              "#f0f921"
             ]
            ],
            "type": "heatmapgl"
           }
          ],
          "histogram": [
           {
            "marker": {
             "pattern": {
              "fillmode": "overlay",
              "size": 10,
              "solidity": 0.2
             }
            },
            "type": "histogram"
           }
          ],
          "histogram2d": [
           {
            "colorbar": {
             "outlinewidth": 0,
             "ticks": ""
            },
            "colorscale": [
             [
              0,
              "#0d0887"
             ],
             [
              0.1111111111111111,
              "#46039f"
             ],
             [
              0.2222222222222222,
              "#7201a8"
             ],
             [
              0.3333333333333333,
              "#9c179e"
             ],
             [
              0.4444444444444444,
              "#bd3786"
             ],
             [
              0.5555555555555556,
              "#d8576b"
             ],
             [
              0.6666666666666666,
              "#ed7953"
             ],
             [
              0.7777777777777778,
              "#fb9f3a"
             ],
             [
              0.8888888888888888,
              "#fdca26"
             ],
             [
              1,
              "#f0f921"
             ]
            ],
            "type": "histogram2d"
           }
          ],
          "histogram2dcontour": [
           {
            "colorbar": {
             "outlinewidth": 0,
             "ticks": ""
            },
            "colorscale": [
             [
              0,
              "#0d0887"
             ],
             [
              0.1111111111111111,
              "#46039f"
             ],
             [
              0.2222222222222222,
              "#7201a8"
             ],
             [
              0.3333333333333333,
              "#9c179e"
             ],
             [
              0.4444444444444444,
              "#bd3786"
             ],
             [
              0.5555555555555556,
              "#d8576b"
             ],
             [
              0.6666666666666666,
              "#ed7953"
             ],
             [
              0.7777777777777778,
              "#fb9f3a"
             ],
             [
              0.8888888888888888,
              "#fdca26"
             ],
             [
              1,
              "#f0f921"
             ]
            ],
            "type": "histogram2dcontour"
           }
          ],
          "mesh3d": [
           {
            "colorbar": {
             "outlinewidth": 0,
             "ticks": ""
            },
            "type": "mesh3d"
           }
          ],
          "parcoords": [
           {
            "line": {
             "colorbar": {
              "outlinewidth": 0,
              "ticks": ""
             }
            },
            "type": "parcoords"
           }
          ],
          "pie": [
           {
            "automargin": true,
            "type": "pie"
           }
          ],
          "scatter": [
           {
            "fillpattern": {
             "fillmode": "overlay",
             "size": 10,
             "solidity": 0.2
            },
            "type": "scatter"
           }
          ],
          "scatter3d": [
           {
            "line": {
             "colorbar": {
              "outlinewidth": 0,
              "ticks": ""
             }
            },
            "marker": {
             "colorbar": {
              "outlinewidth": 0,
              "ticks": ""
             }
            },
            "type": "scatter3d"
           }
          ],
          "scattercarpet": [
           {
            "marker": {
             "colorbar": {
              "outlinewidth": 0,
              "ticks": ""
             }
            },
            "type": "scattercarpet"
           }
          ],
          "scattergeo": [
           {
            "marker": {
             "colorbar": {
              "outlinewidth": 0,
              "ticks": ""
             }
            },
            "type": "scattergeo"
           }
          ],
          "scattergl": [
           {
            "marker": {
             "colorbar": {
              "outlinewidth": 0,
              "ticks": ""
             }
            },
            "type": "scattergl"
           }
          ],
          "scattermapbox": [
           {
            "marker": {
             "colorbar": {
              "outlinewidth": 0,
              "ticks": ""
             }
            },
            "type": "scattermapbox"
           }
          ],
          "scatterpolar": [
           {
            "marker": {
             "colorbar": {
              "outlinewidth": 0,
              "ticks": ""
             }
            },
            "type": "scatterpolar"
           }
          ],
          "scatterpolargl": [
           {
            "marker": {
             "colorbar": {
              "outlinewidth": 0,
              "ticks": ""
             }
            },
            "type": "scatterpolargl"
           }
          ],
          "scatterternary": [
           {
            "marker": {
             "colorbar": {
              "outlinewidth": 0,
              "ticks": ""
             }
            },
            "type": "scatterternary"
           }
          ],
          "surface": [
           {
            "colorbar": {
             "outlinewidth": 0,
             "ticks": ""
            },
            "colorscale": [
             [
              0,
              "#0d0887"
             ],
             [
              0.1111111111111111,
              "#46039f"
             ],
             [
              0.2222222222222222,
              "#7201a8"
             ],
             [
              0.3333333333333333,
              "#9c179e"
             ],
             [
              0.4444444444444444,
              "#bd3786"
             ],
             [
              0.5555555555555556,
              "#d8576b"
             ],
             [
              0.6666666666666666,
              "#ed7953"
             ],
             [
              0.7777777777777778,
              "#fb9f3a"
             ],
             [
              0.8888888888888888,
              "#fdca26"
             ],
             [
              1,
              "#f0f921"
             ]
            ],
            "type": "surface"
           }
          ],
          "table": [
           {
            "cells": {
             "fill": {
              "color": "#EBF0F8"
             },
             "line": {
              "color": "white"
             }
            },
            "header": {
             "fill": {
              "color": "#C8D4E3"
             },
             "line": {
              "color": "white"
             }
            },
            "type": "table"
           }
          ]
         },
         "layout": {
          "annotationdefaults": {
           "arrowcolor": "#2a3f5f",
           "arrowhead": 0,
           "arrowwidth": 1
          },
          "autotypenumbers": "strict",
          "coloraxis": {
           "colorbar": {
            "outlinewidth": 0,
            "ticks": ""
           }
          },
          "colorscale": {
           "diverging": [
            [
             0,
             "#8e0152"
            ],
            [
             0.1,
             "#c51b7d"
            ],
            [
             0.2,
             "#de77ae"
            ],
            [
             0.3,
             "#f1b6da"
            ],
            [
             0.4,
             "#fde0ef"
            ],
            [
             0.5,
             "#f7f7f7"
            ],
            [
             0.6,
             "#e6f5d0"
            ],
            [
             0.7,
             "#b8e186"
            ],
            [
             0.8,
             "#7fbc41"
            ],
            [
             0.9,
             "#4d9221"
            ],
            [
             1,
             "#276419"
            ]
           ],
           "sequential": [
            [
             0,
             "#0d0887"
            ],
            [
             0.1111111111111111,
             "#46039f"
            ],
            [
             0.2222222222222222,
             "#7201a8"
            ],
            [
             0.3333333333333333,
             "#9c179e"
            ],
            [
             0.4444444444444444,
             "#bd3786"
            ],
            [
             0.5555555555555556,
             "#d8576b"
            ],
            [
             0.6666666666666666,
             "#ed7953"
            ],
            [
             0.7777777777777778,
             "#fb9f3a"
            ],
            [
             0.8888888888888888,
             "#fdca26"
            ],
            [
             1,
             "#f0f921"
            ]
           ],
           "sequentialminus": [
            [
             0,
             "#0d0887"
            ],
            [
             0.1111111111111111,
             "#46039f"
            ],
            [
             0.2222222222222222,
             "#7201a8"
            ],
            [
             0.3333333333333333,
             "#9c179e"
            ],
            [
             0.4444444444444444,
             "#bd3786"
            ],
            [
             0.5555555555555556,
             "#d8576b"
            ],
            [
             0.6666666666666666,
             "#ed7953"
            ],
            [
             0.7777777777777778,
             "#fb9f3a"
            ],
            [
             0.8888888888888888,
             "#fdca26"
            ],
            [
             1,
             "#f0f921"
            ]
           ]
          },
          "colorway": [
           "#636efa",
           "#EF553B",
           "#00cc96",
           "#ab63fa",
           "#FFA15A",
           "#19d3f3",
           "#FF6692",
           "#B6E880",
           "#FF97FF",
           "#FECB52"
          ],
          "font": {
           "color": "#2a3f5f"
          },
          "geo": {
           "bgcolor": "white",
           "lakecolor": "white",
           "landcolor": "#E5ECF6",
           "showlakes": true,
           "showland": true,
           "subunitcolor": "white"
          },
          "hoverlabel": {
           "align": "left"
          },
          "hovermode": "closest",
          "mapbox": {
           "style": "light"
          },
          "paper_bgcolor": "white",
          "plot_bgcolor": "#E5ECF6",
          "polar": {
           "angularaxis": {
            "gridcolor": "white",
            "linecolor": "white",
            "ticks": ""
           },
           "bgcolor": "#E5ECF6",
           "radialaxis": {
            "gridcolor": "white",
            "linecolor": "white",
            "ticks": ""
           }
          },
          "scene": {
           "xaxis": {
            "backgroundcolor": "#E5ECF6",
            "gridcolor": "white",
            "gridwidth": 2,
            "linecolor": "white",
            "showbackground": true,
            "ticks": "",
            "zerolinecolor": "white"
           },
           "yaxis": {
            "backgroundcolor": "#E5ECF6",
            "gridcolor": "white",
            "gridwidth": 2,
            "linecolor": "white",
            "showbackground": true,
            "ticks": "",
            "zerolinecolor": "white"
           },
           "zaxis": {
            "backgroundcolor": "#E5ECF6",
            "gridcolor": "white",
            "gridwidth": 2,
            "linecolor": "white",
            "showbackground": true,
            "ticks": "",
            "zerolinecolor": "white"
           }
          },
          "shapedefaults": {
           "line": {
            "color": "#2a3f5f"
           }
          },
          "ternary": {
           "aaxis": {
            "gridcolor": "white",
            "linecolor": "white",
            "ticks": ""
           },
           "baxis": {
            "gridcolor": "white",
            "linecolor": "white",
            "ticks": ""
           },
           "bgcolor": "#E5ECF6",
           "caxis": {
            "gridcolor": "white",
            "linecolor": "white",
            "ticks": ""
           }
          },
          "title": {
           "x": 0.05
          },
          "xaxis": {
           "automargin": true,
           "gridcolor": "white",
           "linecolor": "white",
           "ticks": "",
           "title": {
            "standoff": 15
           },
           "zerolinecolor": "white",
           "zerolinewidth": 2
          },
          "yaxis": {
           "automargin": true,
           "gridcolor": "white",
           "linecolor": "white",
           "ticks": "",
           "title": {
            "standoff": 15
           },
           "zerolinecolor": "white",
           "zerolinewidth": 2
          }
         }
        },
        "title": {
         "text": "ma_32_128"
        },
        "width": 1000,
        "xaxis": {
         "linecolor": "#3a4a54",
         "linewidth": 1,
         "showgrid": false,
         "zeroline": false
        },
        "yaxis": {
         "linecolor": "#3a4a54",
         "linewidth": 1,
         "showgrid": false,
         "zeroline": false
        }
       }
      }
     },
     "metadata": {},
     "output_type": "display_data"
    }
   ],
   "source": [
    "for c in crosses:\n",
    "    temp_df = all_trades[(all_trades.cross==c)].copy()\n",
    "    temp_df = temp_df.groupby(by='time', as_index=False).sum()\n",
    "    temp_df['cum_gain'] = temp_df.gain.cumsum()\n",
    "    plot_line(temp_df, c)"
   ]
  },
  {
   "cell_type": "code",
   "execution_count": null,
   "metadata": {},
   "outputs": [],
   "source": []
  }
 ],
 "metadata": {
  "kernelspec": {
   "display_name": "Python 3.9.13 ('gpu-data')",
   "language": "python",
   "name": "python3"
  },
  "language_info": {
   "codemirror_mode": {
    "name": "ipython",
    "version": 3
   },
   "file_extension": ".py",
   "mimetype": "text/x-python",
   "name": "python",
   "nbconvert_exporter": "python",
   "pygments_lexer": "ipython3",
   "version": "3.9.13"
  },
  "orig_nbformat": 4,
  "vscode": {
   "interpreter": {
    "hash": "5fc091cde34f289e745144a98398f23c71d812632c19536d781b1e8e4634b4dc"
   }
  }
 },
 "nbformat": 4,
 "nbformat_minor": 2
}
