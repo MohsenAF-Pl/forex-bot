{
 "cells": [
  {
   "cell_type": "code",
   "execution_count": 6,
   "metadata": {},
   "outputs": [],
   "source": [
    "import pandas as pd\n",
    "import plotly.graph_objects as go"
   ]
  },
  {
   "cell_type": "code",
   "execution_count": 7,
   "metadata": {},
   "outputs": [],
   "source": [
    "ma_test_result = pd.read_pickle('./data/ma_test_result.pkl')\n",
    "all_trades = pd.read_pickle('./data/all_trades.pkl')"
   ]
  },
  {
   "cell_type": "code",
   "execution_count": 8,
   "metadata": {},
   "outputs": [
    {
     "data": {
      "text/plain": [
       "(21393, 11)"
      ]
     },
     "execution_count": 8,
     "metadata": {},
     "output_type": "execute_result"
    }
   ],
   "source": [
    "all_trades.shape"
   ]
  },
  {
   "cell_type": "code",
   "execution_count": 9,
   "metadata": {},
   "outputs": [
    {
     "data": {
      "text/plain": [
       "(357, 8)"
      ]
     },
     "execution_count": 9,
     "metadata": {},
     "output_type": "execute_result"
    }
   ],
   "source": [
    "ma_test_result.shape"
   ]
  },
  {
   "cell_type": "code",
   "execution_count": 10,
   "metadata": {},
   "outputs": [
    {
     "data": {
      "text/html": [
       "<div>\n",
       "<style scoped>\n",
       "    .dataframe tbody tr th:only-of-type {\n",
       "        vertical-align: middle;\n",
       "    }\n",
       "\n",
       "    .dataframe tbody tr th {\n",
       "        vertical-align: top;\n",
       "    }\n",
       "\n",
       "    .dataframe thead th {\n",
       "        text-align: right;\n",
       "    }\n",
       "</style>\n",
       "<table border=\"1\" class=\"dataframe\">\n",
       "  <thead>\n",
       "    <tr style=\"text-align: right;\">\n",
       "      <th></th>\n",
       "      <th>pair</th>\n",
       "      <th>num_trades</th>\n",
       "      <th>total_gain</th>\n",
       "      <th>mean_gain</th>\n",
       "      <th>min_gain</th>\n",
       "      <th>max_gain</th>\n",
       "      <th>mashort</th>\n",
       "      <th>malong</th>\n",
       "    </tr>\n",
       "  </thead>\n",
       "  <tbody>\n",
       "    <tr>\n",
       "      <th>0</th>\n",
       "      <td>GBP_USD</td>\n",
       "      <td>150</td>\n",
       "      <td>135.4</td>\n",
       "      <td>0.902667</td>\n",
       "      <td>-222.7</td>\n",
       "      <td>507.4</td>\n",
       "      <td>8</td>\n",
       "      <td>32</td>\n",
       "    </tr>\n",
       "    <tr>\n",
       "      <th>1</th>\n",
       "      <td>GBP_USD</td>\n",
       "      <td>134</td>\n",
       "      <td>599.8</td>\n",
       "      <td>4.476119</td>\n",
       "      <td>-265.1</td>\n",
       "      <td>534.4</td>\n",
       "      <td>16</td>\n",
       "      <td>32</td>\n",
       "    </tr>\n",
       "    <tr>\n",
       "      <th>2</th>\n",
       "      <td>GBP_USD</td>\n",
       "      <td>93</td>\n",
       "      <td>710.4</td>\n",
       "      <td>7.638710</td>\n",
       "      <td>-287.1</td>\n",
       "      <td>503.7</td>\n",
       "      <td>8</td>\n",
       "      <td>64</td>\n",
       "    </tr>\n",
       "    <tr>\n",
       "      <th>3</th>\n",
       "      <td>GBP_USD</td>\n",
       "      <td>75</td>\n",
       "      <td>843.3</td>\n",
       "      <td>11.244000</td>\n",
       "      <td>-305.7</td>\n",
       "      <td>496.2</td>\n",
       "      <td>16</td>\n",
       "      <td>64</td>\n",
       "    </tr>\n",
       "    <tr>\n",
       "      <th>4</th>\n",
       "      <td>GBP_USD</td>\n",
       "      <td>61</td>\n",
       "      <td>1920.9</td>\n",
       "      <td>31.490164</td>\n",
       "      <td>-282.5</td>\n",
       "      <td>719.5</td>\n",
       "      <td>32</td>\n",
       "      <td>64</td>\n",
       "    </tr>\n",
       "  </tbody>\n",
       "</table>\n",
       "</div>"
      ],
      "text/plain": [
       "      pair  num_trades  total_gain  mean_gain  min_gain  max_gain  mashort  \\\n",
       "0  GBP_USD         150       135.4   0.902667    -222.7     507.4        8   \n",
       "1  GBP_USD         134       599.8   4.476119    -265.1     534.4       16   \n",
       "2  GBP_USD          93       710.4   7.638710    -287.1     503.7        8   \n",
       "3  GBP_USD          75       843.3  11.244000    -305.7     496.2       16   \n",
       "4  GBP_USD          61      1920.9  31.490164    -282.5     719.5       32   \n",
       "\n",
       "   malong  \n",
       "0      32  \n",
       "1      32  \n",
       "2      64  \n",
       "3      64  \n",
       "4      64  "
      ]
     },
     "execution_count": 10,
     "metadata": {},
     "output_type": "execute_result"
    }
   ],
   "source": [
    "ma_test_result.head()"
   ]
  },
  {
   "cell_type": "code",
   "execution_count": 11,
   "metadata": {},
   "outputs": [],
   "source": [
    "ma_test_result = ma_test_result[['pair', 'num_trades', 'total_gain', 'mashort', 'malong']]"
   ]
  },
  {
   "cell_type": "code",
   "execution_count": 12,
   "metadata": {},
   "outputs": [
    {
     "data": {
      "text/html": [
       "<div>\n",
       "<style scoped>\n",
       "    .dataframe tbody tr th:only-of-type {\n",
       "        vertical-align: middle;\n",
       "    }\n",
       "\n",
       "    .dataframe tbody tr th {\n",
       "        vertical-align: top;\n",
       "    }\n",
       "\n",
       "    .dataframe thead th {\n",
       "        text-align: right;\n",
       "    }\n",
       "</style>\n",
       "<table border=\"1\" class=\"dataframe\">\n",
       "  <thead>\n",
       "    <tr style=\"text-align: right;\">\n",
       "      <th></th>\n",
       "      <th>pair</th>\n",
       "      <th>num_trades</th>\n",
       "      <th>total_gain</th>\n",
       "      <th>mashort</th>\n",
       "      <th>malong</th>\n",
       "    </tr>\n",
       "  </thead>\n",
       "  <tbody>\n",
       "    <tr>\n",
       "      <th>0</th>\n",
       "      <td>GBP_USD</td>\n",
       "      <td>150</td>\n",
       "      <td>135.4</td>\n",
       "      <td>8</td>\n",
       "      <td>32</td>\n",
       "    </tr>\n",
       "    <tr>\n",
       "      <th>1</th>\n",
       "      <td>GBP_USD</td>\n",
       "      <td>134</td>\n",
       "      <td>599.8</td>\n",
       "      <td>16</td>\n",
       "      <td>32</td>\n",
       "    </tr>\n",
       "    <tr>\n",
       "      <th>2</th>\n",
       "      <td>GBP_USD</td>\n",
       "      <td>93</td>\n",
       "      <td>710.4</td>\n",
       "      <td>8</td>\n",
       "      <td>64</td>\n",
       "    </tr>\n",
       "    <tr>\n",
       "      <th>3</th>\n",
       "      <td>GBP_USD</td>\n",
       "      <td>75</td>\n",
       "      <td>843.3</td>\n",
       "      <td>16</td>\n",
       "      <td>64</td>\n",
       "    </tr>\n",
       "    <tr>\n",
       "      <th>4</th>\n",
       "      <td>GBP_USD</td>\n",
       "      <td>61</td>\n",
       "      <td>1920.9</td>\n",
       "      <td>32</td>\n",
       "      <td>64</td>\n",
       "    </tr>\n",
       "  </tbody>\n",
       "</table>\n",
       "</div>"
      ],
      "text/plain": [
       "      pair  num_trades  total_gain  mashort  malong\n",
       "0  GBP_USD         150       135.4        8      32\n",
       "1  GBP_USD         134       599.8       16      32\n",
       "2  GBP_USD          93       710.4        8      64\n",
       "3  GBP_USD          75       843.3       16      64\n",
       "4  GBP_USD          61      1920.9       32      64"
      ]
     },
     "execution_count": 12,
     "metadata": {},
     "output_type": "execute_result"
    }
   ],
   "source": [
    "ma_test_result.head()"
   ]
  },
  {
   "cell_type": "code",
   "execution_count": 13,
   "metadata": {},
   "outputs": [],
   "source": [
    "ma_test_result['cross'] = 'ma_' + ma_test_result.mashort.map(str) + '_' + ma_test_result.malong.map(str)"
   ]
  },
  {
   "cell_type": "code",
   "execution_count": 14,
   "metadata": {},
   "outputs": [
    {
     "data": {
      "text/html": [
       "<div>\n",
       "<style scoped>\n",
       "    .dataframe tbody tr th:only-of-type {\n",
       "        vertical-align: middle;\n",
       "    }\n",
       "\n",
       "    .dataframe tbody tr th {\n",
       "        vertical-align: top;\n",
       "    }\n",
       "\n",
       "    .dataframe thead th {\n",
       "        text-align: right;\n",
       "    }\n",
       "</style>\n",
       "<table border=\"1\" class=\"dataframe\">\n",
       "  <thead>\n",
       "    <tr style=\"text-align: right;\">\n",
       "      <th></th>\n",
       "      <th>pair</th>\n",
       "      <th>num_trades</th>\n",
       "      <th>total_gain</th>\n",
       "      <th>mashort</th>\n",
       "      <th>malong</th>\n",
       "      <th>cross</th>\n",
       "    </tr>\n",
       "  </thead>\n",
       "  <tbody>\n",
       "    <tr>\n",
       "      <th>0</th>\n",
       "      <td>GBP_USD</td>\n",
       "      <td>150</td>\n",
       "      <td>135.4</td>\n",
       "      <td>8</td>\n",
       "      <td>32</td>\n",
       "      <td>ma_8_32</td>\n",
       "    </tr>\n",
       "    <tr>\n",
       "      <th>1</th>\n",
       "      <td>GBP_USD</td>\n",
       "      <td>134</td>\n",
       "      <td>599.8</td>\n",
       "      <td>16</td>\n",
       "      <td>32</td>\n",
       "      <td>ma_16_32</td>\n",
       "    </tr>\n",
       "    <tr>\n",
       "      <th>2</th>\n",
       "      <td>GBP_USD</td>\n",
       "      <td>93</td>\n",
       "      <td>710.4</td>\n",
       "      <td>8</td>\n",
       "      <td>64</td>\n",
       "      <td>ma_8_64</td>\n",
       "    </tr>\n",
       "    <tr>\n",
       "      <th>3</th>\n",
       "      <td>GBP_USD</td>\n",
       "      <td>75</td>\n",
       "      <td>843.3</td>\n",
       "      <td>16</td>\n",
       "      <td>64</td>\n",
       "      <td>ma_16_64</td>\n",
       "    </tr>\n",
       "    <tr>\n",
       "      <th>4</th>\n",
       "      <td>GBP_USD</td>\n",
       "      <td>61</td>\n",
       "      <td>1920.9</td>\n",
       "      <td>32</td>\n",
       "      <td>64</td>\n",
       "      <td>ma_32_64</td>\n",
       "    </tr>\n",
       "  </tbody>\n",
       "</table>\n",
       "</div>"
      ],
      "text/plain": [
       "      pair  num_trades  total_gain  mashort  malong     cross\n",
       "0  GBP_USD         150       135.4        8      32   ma_8_32\n",
       "1  GBP_USD         134       599.8       16      32  ma_16_32\n",
       "2  GBP_USD          93       710.4        8      64   ma_8_64\n",
       "3  GBP_USD          75       843.3       16      64  ma_16_64\n",
       "4  GBP_USD          61      1920.9       32      64  ma_32_64"
      ]
     },
     "execution_count": 14,
     "metadata": {},
     "output_type": "execute_result"
    }
   ],
   "source": [
    "ma_test_result.head()"
   ]
  },
  {
   "cell_type": "code",
   "execution_count": 15,
   "metadata": {},
   "outputs": [],
   "source": [
    "df_all_gains = ma_test_result.groupby(by=['cross', 'mashort', 'malong'], as_index=False).sum()"
   ]
  },
  {
   "cell_type": "code",
   "execution_count": 16,
   "metadata": {},
   "outputs": [
    {
     "data": {
      "text/html": [
       "<div>\n",
       "<style scoped>\n",
       "    .dataframe tbody tr th:only-of-type {\n",
       "        vertical-align: middle;\n",
       "    }\n",
       "\n",
       "    .dataframe tbody tr th {\n",
       "        vertical-align: top;\n",
       "    }\n",
       "\n",
       "    .dataframe thead th {\n",
       "        text-align: right;\n",
       "    }\n",
       "</style>\n",
       "<table border=\"1\" class=\"dataframe\">\n",
       "  <thead>\n",
       "    <tr style=\"text-align: right;\">\n",
       "      <th></th>\n",
       "      <th>cross</th>\n",
       "      <th>mashort</th>\n",
       "      <th>malong</th>\n",
       "      <th>num_trades</th>\n",
       "      <th>total_gain</th>\n",
       "    </tr>\n",
       "  </thead>\n",
       "  <tbody>\n",
       "    <tr>\n",
       "      <th>0</th>\n",
       "      <td>ma_16_128</td>\n",
       "      <td>16</td>\n",
       "      <td>128</td>\n",
       "      <td>961</td>\n",
       "      <td>-419.2</td>\n",
       "    </tr>\n",
       "    <tr>\n",
       "      <th>1</th>\n",
       "      <td>ma_16_256</td>\n",
       "      <td>16</td>\n",
       "      <td>256</td>\n",
       "      <td>639</td>\n",
       "      <td>-6292.4</td>\n",
       "    </tr>\n",
       "    <tr>\n",
       "      <th>2</th>\n",
       "      <td>ma_16_32</td>\n",
       "      <td>16</td>\n",
       "      <td>32</td>\n",
       "      <td>2815</td>\n",
       "      <td>-3024.8</td>\n",
       "    </tr>\n",
       "    <tr>\n",
       "      <th>3</th>\n",
       "      <td>ma_16_64</td>\n",
       "      <td>16</td>\n",
       "      <td>64</td>\n",
       "      <td>1556</td>\n",
       "      <td>-144.2</td>\n",
       "    </tr>\n",
       "    <tr>\n",
       "      <th>4</th>\n",
       "      <td>ma_16_96</td>\n",
       "      <td>16</td>\n",
       "      <td>96</td>\n",
       "      <td>1140</td>\n",
       "      <td>2371.0</td>\n",
       "    </tr>\n",
       "  </tbody>\n",
       "</table>\n",
       "</div>"
      ],
      "text/plain": [
       "       cross  mashort  malong  num_trades  total_gain\n",
       "0  ma_16_128       16     128         961      -419.2\n",
       "1  ma_16_256       16     256         639     -6292.4\n",
       "2   ma_16_32       16      32        2815     -3024.8\n",
       "3   ma_16_64       16      64        1556      -144.2\n",
       "4   ma_16_96       16      96        1140      2371.0"
      ]
     },
     "execution_count": 16,
     "metadata": {},
     "output_type": "execute_result"
    }
   ],
   "source": [
    "df_all_gains.head()"
   ]
  },
  {
   "cell_type": "code",
   "execution_count": 17,
   "metadata": {},
   "outputs": [],
   "source": [
    "df_all_gains.sort_values(by='total_gain', ascending=False, inplace=True)"
   ]
  },
  {
   "cell_type": "code",
   "execution_count": 18,
   "metadata": {},
   "outputs": [
    {
     "data": {
      "text/html": [
       "<div>\n",
       "<style scoped>\n",
       "    .dataframe tbody tr th:only-of-type {\n",
       "        vertical-align: middle;\n",
       "    }\n",
       "\n",
       "    .dataframe tbody tr th {\n",
       "        vertical-align: top;\n",
       "    }\n",
       "\n",
       "    .dataframe thead th {\n",
       "        text-align: right;\n",
       "    }\n",
       "</style>\n",
       "<table border=\"1\" class=\"dataframe\">\n",
       "  <thead>\n",
       "    <tr style=\"text-align: right;\">\n",
       "      <th></th>\n",
       "      <th>cross</th>\n",
       "      <th>mashort</th>\n",
       "      <th>malong</th>\n",
       "      <th>num_trades</th>\n",
       "      <th>total_gain</th>\n",
       "    </tr>\n",
       "  </thead>\n",
       "  <tbody>\n",
       "    <tr>\n",
       "      <th>7</th>\n",
       "      <td>ma_32_64</td>\n",
       "      <td>32</td>\n",
       "      <td>64</td>\n",
       "      <td>1369</td>\n",
       "      <td>4405.5</td>\n",
       "    </tr>\n",
       "    <tr>\n",
       "      <th>14</th>\n",
       "      <td>ma_8_32</td>\n",
       "      <td>8</td>\n",
       "      <td>32</td>\n",
       "      <td>3152</td>\n",
       "      <td>3462.7</td>\n",
       "    </tr>\n",
       "    <tr>\n",
       "      <th>4</th>\n",
       "      <td>ma_16_96</td>\n",
       "      <td>16</td>\n",
       "      <td>96</td>\n",
       "      <td>1140</td>\n",
       "      <td>2371.0</td>\n",
       "    </tr>\n",
       "    <tr>\n",
       "      <th>16</th>\n",
       "      <td>ma_8_96</td>\n",
       "      <td>8</td>\n",
       "      <td>96</td>\n",
       "      <td>1520</td>\n",
       "      <td>1922.7</td>\n",
       "    </tr>\n",
       "    <tr>\n",
       "      <th>8</th>\n",
       "      <td>ma_32_96</td>\n",
       "      <td>32</td>\n",
       "      <td>96</td>\n",
       "      <td>922</td>\n",
       "      <td>821.2</td>\n",
       "    </tr>\n",
       "  </tbody>\n",
       "</table>\n",
       "</div>"
      ],
      "text/plain": [
       "       cross  mashort  malong  num_trades  total_gain\n",
       "7   ma_32_64       32      64        1369      4405.5\n",
       "14   ma_8_32        8      32        3152      3462.7\n",
       "4   ma_16_96       16      96        1140      2371.0\n",
       "16   ma_8_96        8      96        1520      1922.7\n",
       "8   ma_32_96       32      96         922       821.2"
      ]
     },
     "execution_count": 18,
     "metadata": {},
     "output_type": "execute_result"
    }
   ],
   "source": [
    "df_all_gains.head()"
   ]
  },
  {
   "cell_type": "code",
   "execution_count": 19,
   "metadata": {},
   "outputs": [],
   "source": [
    "ma_8_32 = ma_test_result[ma_test_result.cross=='ma_8_32'].copy()"
   ]
  },
  {
   "cell_type": "code",
   "execution_count": 20,
   "metadata": {},
   "outputs": [],
   "source": [
    "ma_8_32.sort_values(by='total_gain', ascending=False, inplace=True)"
   ]
  },
  {
   "cell_type": "code",
   "execution_count": 21,
   "metadata": {},
   "outputs": [
    {
     "data": {
      "text/html": [
       "<div>\n",
       "<style scoped>\n",
       "    .dataframe tbody tr th:only-of-type {\n",
       "        vertical-align: middle;\n",
       "    }\n",
       "\n",
       "    .dataframe tbody tr th {\n",
       "        vertical-align: top;\n",
       "    }\n",
       "\n",
       "    .dataframe thead th {\n",
       "        text-align: right;\n",
       "    }\n",
       "</style>\n",
       "<table border=\"1\" class=\"dataframe\">\n",
       "  <thead>\n",
       "    <tr style=\"text-align: right;\">\n",
       "      <th></th>\n",
       "      <th>pair</th>\n",
       "      <th>num_trades</th>\n",
       "      <th>total_gain</th>\n",
       "      <th>mashort</th>\n",
       "      <th>malong</th>\n",
       "      <th>cross</th>\n",
       "    </tr>\n",
       "  </thead>\n",
       "  <tbody>\n",
       "    <tr>\n",
       "      <th>34</th>\n",
       "      <td>GBP_JPY</td>\n",
       "      <td>147</td>\n",
       "      <td>3232.2</td>\n",
       "      <td>8</td>\n",
       "      <td>32</td>\n",
       "      <td>ma_8_32</td>\n",
       "    </tr>\n",
       "    <tr>\n",
       "      <th>136</th>\n",
       "      <td>EUR_JPY</td>\n",
       "      <td>151</td>\n",
       "      <td>2725.6</td>\n",
       "      <td>8</td>\n",
       "      <td>32</td>\n",
       "      <td>ma_8_32</td>\n",
       "    </tr>\n",
       "    <tr>\n",
       "      <th>340</th>\n",
       "      <td>CHF_JPY</td>\n",
       "      <td>128</td>\n",
       "      <td>2368.0</td>\n",
       "      <td>8</td>\n",
       "      <td>32</td>\n",
       "      <td>ma_8_32</td>\n",
       "    </tr>\n",
       "    <tr>\n",
       "      <th>204</th>\n",
       "      <td>USD_JPY</td>\n",
       "      <td>134</td>\n",
       "      <td>1302.8</td>\n",
       "      <td>8</td>\n",
       "      <td>32</td>\n",
       "      <td>ma_8_32</td>\n",
       "    </tr>\n",
       "    <tr>\n",
       "      <th>17</th>\n",
       "      <td>GBP_CAD</td>\n",
       "      <td>155</td>\n",
       "      <td>526.9</td>\n",
       "      <td>8</td>\n",
       "      <td>32</td>\n",
       "      <td>ma_8_32</td>\n",
       "    </tr>\n",
       "    <tr>\n",
       "      <th>238</th>\n",
       "      <td>CAD_JPY</td>\n",
       "      <td>149</td>\n",
       "      <td>492.7</td>\n",
       "      <td>8</td>\n",
       "      <td>32</td>\n",
       "      <td>ma_8_32</td>\n",
       "    </tr>\n",
       "    <tr>\n",
       "      <th>306</th>\n",
       "      <td>NZD_JPY</td>\n",
       "      <td>141</td>\n",
       "      <td>445.4</td>\n",
       "      <td>8</td>\n",
       "      <td>32</td>\n",
       "      <td>ma_8_32</td>\n",
       "    </tr>\n",
       "    <tr>\n",
       "      <th>68</th>\n",
       "      <td>GBP_CHF</td>\n",
       "      <td>160</td>\n",
       "      <td>297.7</td>\n",
       "      <td>8</td>\n",
       "      <td>32</td>\n",
       "      <td>ma_8_32</td>\n",
       "    </tr>\n",
       "    <tr>\n",
       "      <th>0</th>\n",
       "      <td>GBP_USD</td>\n",
       "      <td>150</td>\n",
       "      <td>135.4</td>\n",
       "      <td>8</td>\n",
       "      <td>32</td>\n",
       "      <td>ma_8_32</td>\n",
       "    </tr>\n",
       "    <tr>\n",
       "      <th>255</th>\n",
       "      <td>CAD_CHF</td>\n",
       "      <td>134</td>\n",
       "      <td>97.9</td>\n",
       "      <td>8</td>\n",
       "      <td>32</td>\n",
       "      <td>ma_8_32</td>\n",
       "    </tr>\n",
       "    <tr>\n",
       "      <th>102</th>\n",
       "      <td>EUR_USD</td>\n",
       "      <td>152</td>\n",
       "      <td>62.2</td>\n",
       "      <td>8</td>\n",
       "      <td>32</td>\n",
       "      <td>ma_8_32</td>\n",
       "    </tr>\n",
       "    <tr>\n",
       "      <th>289</th>\n",
       "      <td>NZD_CAD</td>\n",
       "      <td>148</td>\n",
       "      <td>36.3</td>\n",
       "      <td>8</td>\n",
       "      <td>32</td>\n",
       "      <td>ma_8_32</td>\n",
       "    </tr>\n",
       "    <tr>\n",
       "      <th>221</th>\n",
       "      <td>USD_CHF</td>\n",
       "      <td>156</td>\n",
       "      <td>-158.2</td>\n",
       "      <td>8</td>\n",
       "      <td>32</td>\n",
       "      <td>ma_8_32</td>\n",
       "    </tr>\n",
       "    <tr>\n",
       "      <th>119</th>\n",
       "      <td>EUR_CAD</td>\n",
       "      <td>142</td>\n",
       "      <td>-262.6</td>\n",
       "      <td>8</td>\n",
       "      <td>32</td>\n",
       "      <td>ma_8_32</td>\n",
       "    </tr>\n",
       "    <tr>\n",
       "      <th>187</th>\n",
       "      <td>USD_CAD</td>\n",
       "      <td>149</td>\n",
       "      <td>-599.7</td>\n",
       "      <td>8</td>\n",
       "      <td>32</td>\n",
       "      <td>ma_8_32</td>\n",
       "    </tr>\n",
       "    <tr>\n",
       "      <th>170</th>\n",
       "      <td>EUR_CHF</td>\n",
       "      <td>146</td>\n",
       "      <td>-614.4</td>\n",
       "      <td>8</td>\n",
       "      <td>32</td>\n",
       "      <td>ma_8_32</td>\n",
       "    </tr>\n",
       "    <tr>\n",
       "      <th>85</th>\n",
       "      <td>EUR_GBP</td>\n",
       "      <td>166</td>\n",
       "      <td>-772.2</td>\n",
       "      <td>8</td>\n",
       "      <td>32</td>\n",
       "      <td>ma_8_32</td>\n",
       "    </tr>\n",
       "    <tr>\n",
       "      <th>323</th>\n",
       "      <td>NZD_CHF</td>\n",
       "      <td>149</td>\n",
       "      <td>-786.1</td>\n",
       "      <td>8</td>\n",
       "      <td>32</td>\n",
       "      <td>ma_8_32</td>\n",
       "    </tr>\n",
       "    <tr>\n",
       "      <th>272</th>\n",
       "      <td>NZD_USD</td>\n",
       "      <td>166</td>\n",
       "      <td>-1317.8</td>\n",
       "      <td>8</td>\n",
       "      <td>32</td>\n",
       "      <td>ma_8_32</td>\n",
       "    </tr>\n",
       "    <tr>\n",
       "      <th>51</th>\n",
       "      <td>GBP_NZD</td>\n",
       "      <td>164</td>\n",
       "      <td>-1646.1</td>\n",
       "      <td>8</td>\n",
       "      <td>32</td>\n",
       "      <td>ma_8_32</td>\n",
       "    </tr>\n",
       "    <tr>\n",
       "      <th>153</th>\n",
       "      <td>EUR_NZD</td>\n",
       "      <td>165</td>\n",
       "      <td>-2103.3</td>\n",
       "      <td>8</td>\n",
       "      <td>32</td>\n",
       "      <td>ma_8_32</td>\n",
       "    </tr>\n",
       "  </tbody>\n",
       "</table>\n",
       "</div>"
      ],
      "text/plain": [
       "        pair  num_trades  total_gain  mashort  malong    cross\n",
       "34   GBP_JPY         147      3232.2        8      32  ma_8_32\n",
       "136  EUR_JPY         151      2725.6        8      32  ma_8_32\n",
       "340  CHF_JPY         128      2368.0        8      32  ma_8_32\n",
       "204  USD_JPY         134      1302.8        8      32  ma_8_32\n",
       "17   GBP_CAD         155       526.9        8      32  ma_8_32\n",
       "238  CAD_JPY         149       492.7        8      32  ma_8_32\n",
       "306  NZD_JPY         141       445.4        8      32  ma_8_32\n",
       "68   GBP_CHF         160       297.7        8      32  ma_8_32\n",
       "0    GBP_USD         150       135.4        8      32  ma_8_32\n",
       "255  CAD_CHF         134        97.9        8      32  ma_8_32\n",
       "102  EUR_USD         152        62.2        8      32  ma_8_32\n",
       "289  NZD_CAD         148        36.3        8      32  ma_8_32\n",
       "221  USD_CHF         156      -158.2        8      32  ma_8_32\n",
       "119  EUR_CAD         142      -262.6        8      32  ma_8_32\n",
       "187  USD_CAD         149      -599.7        8      32  ma_8_32\n",
       "170  EUR_CHF         146      -614.4        8      32  ma_8_32\n",
       "85   EUR_GBP         166      -772.2        8      32  ma_8_32\n",
       "323  NZD_CHF         149      -786.1        8      32  ma_8_32\n",
       "272  NZD_USD         166     -1317.8        8      32  ma_8_32\n",
       "51   GBP_NZD         164     -1646.1        8      32  ma_8_32\n",
       "153  EUR_NZD         165     -2103.3        8      32  ma_8_32"
      ]
     },
     "execution_count": 21,
     "metadata": {},
     "output_type": "execute_result"
    }
   ],
   "source": [
    "ma_8_32"
   ]
  },
  {
   "cell_type": "code",
   "execution_count": 22,
   "metadata": {},
   "outputs": [
    {
     "data": {
      "text/plain": [
       "21"
      ]
     },
     "execution_count": 22,
     "metadata": {},
     "output_type": "execute_result"
    }
   ],
   "source": [
    "total_p = len(ma_8_32.pair.unique())\n",
    "total_p"
   ]
  },
  {
   "cell_type": "code",
   "execution_count": 23,
   "metadata": {},
   "outputs": [
    {
     "data": {
      "text/plain": [
       "12"
      ]
     },
     "execution_count": 23,
     "metadata": {},
     "output_type": "execute_result"
    }
   ],
   "source": [
    "ma_8_32[ma_8_32.total_gain>0].shape[0]"
   ]
  },
  {
   "cell_type": "code",
   "execution_count": 24,
   "metadata": {},
   "outputs": [
    {
     "name": "stdout",
     "output_type": "stream",
     "text": [
      "ma_32_64       12   57%\n",
      "ma_8_32        12   57%\n",
      "ma_16_96       12   57%\n",
      "ma_8_96         9   43%\n",
      "ma_32_96       12   57%\n",
      "ma_16_64       12   57%\n",
      "ma_16_128      10   48%\n",
      "ma_32_128      11   52%\n",
      "ma_64_128      11   52%\n",
      "ma_8_64         9   43%\n",
      "ma_64_96       10   48%\n",
      "ma_16_32        8   38%\n",
      "ma_8_128        5   24%\n",
      "ma_8_256        9   43%\n",
      "ma_32_256      10   48%\n",
      "ma_16_256       8   38%\n",
      "ma_64_256       7   33%\n"
     ]
    }
   ],
   "source": [
    "for cross in df_all_gains.cross.unique():\n",
    "    df_temp = ma_test_result[ma_test_result.cross==cross]\n",
    "    total_p = df_temp.shape[0]\n",
    "    n_good = df_temp[df_temp.total_gain>0].shape[0]\n",
    "    print(f\"{cross:12} {n_good:4} {(n_good/total_p)*100:4.0f}%\")"
   ]
  },
  {
   "cell_type": "code",
   "execution_count": 25,
   "metadata": {},
   "outputs": [],
   "source": [
    "crosses = df_all_gains.cross.unique()[:3]"
   ]
  },
  {
   "cell_type": "code",
   "execution_count": 26,
   "metadata": {},
   "outputs": [
    {
     "data": {
      "text/plain": [
       "array(['ma_32_64', 'ma_8_32', 'ma_16_96'], dtype=object)"
      ]
     },
     "execution_count": 26,
     "metadata": {},
     "output_type": "execute_result"
    }
   ],
   "source": [
    "crosses"
   ]
  },
  {
   "cell_type": "code",
   "execution_count": 27,
   "metadata": {},
   "outputs": [
    {
     "data": {
      "text/html": [
       "<div>\n",
       "<style scoped>\n",
       "    .dataframe tbody tr th:only-of-type {\n",
       "        vertical-align: middle;\n",
       "    }\n",
       "\n",
       "    .dataframe tbody tr th {\n",
       "        vertical-align: top;\n",
       "    }\n",
       "\n",
       "    .dataframe thead th {\n",
       "        text-align: right;\n",
       "    }\n",
       "</style>\n",
       "<table border=\"1\" class=\"dataframe\">\n",
       "  <thead>\n",
       "    <tr style=\"text-align: right;\">\n",
       "      <th></th>\n",
       "      <th>pair</th>\n",
       "      <th>num_trades</th>\n",
       "      <th>total_gain</th>\n",
       "      <th>mashort</th>\n",
       "      <th>malong</th>\n",
       "      <th>cross</th>\n",
       "    </tr>\n",
       "  </thead>\n",
       "  <tbody>\n",
       "    <tr>\n",
       "      <th>0</th>\n",
       "      <td>GBP_USD</td>\n",
       "      <td>150</td>\n",
       "      <td>135.4</td>\n",
       "      <td>8</td>\n",
       "      <td>32</td>\n",
       "      <td>ma_8_32</td>\n",
       "    </tr>\n",
       "    <tr>\n",
       "      <th>1</th>\n",
       "      <td>GBP_USD</td>\n",
       "      <td>134</td>\n",
       "      <td>599.8</td>\n",
       "      <td>16</td>\n",
       "      <td>32</td>\n",
       "      <td>ma_16_32</td>\n",
       "    </tr>\n",
       "    <tr>\n",
       "      <th>2</th>\n",
       "      <td>GBP_USD</td>\n",
       "      <td>93</td>\n",
       "      <td>710.4</td>\n",
       "      <td>8</td>\n",
       "      <td>64</td>\n",
       "      <td>ma_8_64</td>\n",
       "    </tr>\n",
       "    <tr>\n",
       "      <th>3</th>\n",
       "      <td>GBP_USD</td>\n",
       "      <td>75</td>\n",
       "      <td>843.3</td>\n",
       "      <td>16</td>\n",
       "      <td>64</td>\n",
       "      <td>ma_16_64</td>\n",
       "    </tr>\n",
       "    <tr>\n",
       "      <th>4</th>\n",
       "      <td>GBP_USD</td>\n",
       "      <td>61</td>\n",
       "      <td>1920.9</td>\n",
       "      <td>32</td>\n",
       "      <td>64</td>\n",
       "      <td>ma_32_64</td>\n",
       "    </tr>\n",
       "  </tbody>\n",
       "</table>\n",
       "</div>"
      ],
      "text/plain": [
       "      pair  num_trades  total_gain  mashort  malong     cross\n",
       "0  GBP_USD         150       135.4        8      32   ma_8_32\n",
       "1  GBP_USD         134       599.8       16      32  ma_16_32\n",
       "2  GBP_USD          93       710.4        8      64   ma_8_64\n",
       "3  GBP_USD          75       843.3       16      64  ma_16_64\n",
       "4  GBP_USD          61      1920.9       32      64  ma_32_64"
      ]
     },
     "execution_count": 27,
     "metadata": {},
     "output_type": "execute_result"
    }
   ],
   "source": [
    "ma_test_result.head()"
   ]
  },
  {
   "cell_type": "code",
   "execution_count": 40,
   "metadata": {},
   "outputs": [
    {
     "data": {
      "text/plain": [
       "array(['GBP_USD', 'GBP_CAD', 'GBP_JPY', 'GBP_NZD', 'GBP_CHF', 'EUR_GBP',\n",
       "       'EUR_USD', 'EUR_CAD', 'EUR_JPY', 'EUR_NZD', 'EUR_CHF', 'USD_CAD',\n",
       "       'USD_JPY', 'USD_CHF', 'CAD_JPY', 'CAD_CHF', 'NZD_USD', 'NZD_CAD',\n",
       "       'NZD_JPY', 'NZD_CHF', 'CHF_JPY'], dtype=object)"
      ]
     },
     "execution_count": 40,
     "metadata": {},
     "output_type": "execute_result"
    }
   ],
   "source": [
    "ma_test_result.pair.unique()"
   ]
  },
  {
   "cell_type": "code",
   "execution_count": 28,
   "metadata": {},
   "outputs": [],
   "source": [
    "df_good = ma_test_result[(ma_test_result.cross.isin(crosses))&(ma_test_result.total_gain>0)].copy()"
   ]
  },
  {
   "cell_type": "code",
   "execution_count": 46,
   "metadata": {},
   "outputs": [
    {
     "data": {
      "text/html": [
       "<div>\n",
       "<style scoped>\n",
       "    .dataframe tbody tr th:only-of-type {\n",
       "        vertical-align: middle;\n",
       "    }\n",
       "\n",
       "    .dataframe tbody tr th {\n",
       "        vertical-align: top;\n",
       "    }\n",
       "\n",
       "    .dataframe thead th {\n",
       "        text-align: right;\n",
       "    }\n",
       "</style>\n",
       "<table border=\"1\" class=\"dataframe\">\n",
       "  <thead>\n",
       "    <tr style=\"text-align: right;\">\n",
       "      <th></th>\n",
       "      <th>pair</th>\n",
       "      <th>num_trades</th>\n",
       "      <th>total_gain</th>\n",
       "      <th>mashort</th>\n",
       "      <th>malong</th>\n",
       "      <th>cross</th>\n",
       "    </tr>\n",
       "  </thead>\n",
       "  <tbody>\n",
       "    <tr>\n",
       "      <th>106</th>\n",
       "      <td>EUR_USD</td>\n",
       "      <td>60</td>\n",
       "      <td>337.8</td>\n",
       "      <td>32</td>\n",
       "      <td>64</td>\n",
       "      <td>ma_32_64</td>\n",
       "    </tr>\n",
       "    <tr>\n",
       "      <th>102</th>\n",
       "      <td>EUR_USD</td>\n",
       "      <td>152</td>\n",
       "      <td>62.2</td>\n",
       "      <td>8</td>\n",
       "      <td>32</td>\n",
       "      <td>ma_8_32</td>\n",
       "    </tr>\n",
       "  </tbody>\n",
       "</table>\n",
       "</div>"
      ],
      "text/plain": [
       "        pair  num_trades  total_gain  mashort  malong     cross\n",
       "106  EUR_USD          60       337.8       32      64  ma_32_64\n",
       "102  EUR_USD         152        62.2        8      32   ma_8_32"
      ]
     },
     "execution_count": 46,
     "metadata": {},
     "output_type": "execute_result"
    }
   ],
   "source": [
    "df_good[df_good['pair'] == 'EUR_USD'].sort_values(by='total_gain', ascending=False)"
   ]
  },
  {
   "cell_type": "code",
   "execution_count": 29,
   "metadata": {},
   "outputs": [
    {
     "data": {
      "text/html": [
       "<div>\n",
       "<style scoped>\n",
       "    .dataframe tbody tr th:only-of-type {\n",
       "        vertical-align: middle;\n",
       "    }\n",
       "\n",
       "    .dataframe tbody tr th {\n",
       "        vertical-align: top;\n",
       "    }\n",
       "\n",
       "    .dataframe thead th {\n",
       "        text-align: right;\n",
       "    }\n",
       "</style>\n",
       "<table border=\"1\" class=\"dataframe\">\n",
       "  <thead>\n",
       "    <tr style=\"text-align: right;\">\n",
       "      <th></th>\n",
       "      <th>pair</th>\n",
       "      <th>num_trades</th>\n",
       "      <th>total_gain</th>\n",
       "      <th>mashort</th>\n",
       "      <th>malong</th>\n",
       "      <th>cross</th>\n",
       "    </tr>\n",
       "  </thead>\n",
       "  <tbody>\n",
       "    <tr>\n",
       "      <th>0</th>\n",
       "      <td>GBP_USD</td>\n",
       "      <td>150</td>\n",
       "      <td>135.4</td>\n",
       "      <td>8</td>\n",
       "      <td>32</td>\n",
       "      <td>ma_8_32</td>\n",
       "    </tr>\n",
       "    <tr>\n",
       "      <th>4</th>\n",
       "      <td>GBP_USD</td>\n",
       "      <td>61</td>\n",
       "      <td>1920.9</td>\n",
       "      <td>32</td>\n",
       "      <td>64</td>\n",
       "      <td>ma_32_64</td>\n",
       "    </tr>\n",
       "    <tr>\n",
       "      <th>6</th>\n",
       "      <td>GBP_USD</td>\n",
       "      <td>50</td>\n",
       "      <td>931.3</td>\n",
       "      <td>16</td>\n",
       "      <td>96</td>\n",
       "      <td>ma_16_96</td>\n",
       "    </tr>\n",
       "    <tr>\n",
       "      <th>17</th>\n",
       "      <td>GBP_CAD</td>\n",
       "      <td>155</td>\n",
       "      <td>526.9</td>\n",
       "      <td>8</td>\n",
       "      <td>32</td>\n",
       "      <td>ma_8_32</td>\n",
       "    </tr>\n",
       "    <tr>\n",
       "      <th>21</th>\n",
       "      <td>GBP_CAD</td>\n",
       "      <td>69</td>\n",
       "      <td>1347.2</td>\n",
       "      <td>32</td>\n",
       "      <td>64</td>\n",
       "      <td>ma_32_64</td>\n",
       "    </tr>\n",
       "    <tr>\n",
       "      <th>23</th>\n",
       "      <td>GBP_CAD</td>\n",
       "      <td>56</td>\n",
       "      <td>603.2</td>\n",
       "      <td>16</td>\n",
       "      <td>96</td>\n",
       "      <td>ma_16_96</td>\n",
       "    </tr>\n",
       "    <tr>\n",
       "      <th>34</th>\n",
       "      <td>GBP_JPY</td>\n",
       "      <td>147</td>\n",
       "      <td>3232.2</td>\n",
       "      <td>8</td>\n",
       "      <td>32</td>\n",
       "      <td>ma_8_32</td>\n",
       "    </tr>\n",
       "    <tr>\n",
       "      <th>38</th>\n",
       "      <td>GBP_JPY</td>\n",
       "      <td>56</td>\n",
       "      <td>3340.1</td>\n",
       "      <td>32</td>\n",
       "      <td>64</td>\n",
       "      <td>ma_32_64</td>\n",
       "    </tr>\n",
       "    <tr>\n",
       "      <th>40</th>\n",
       "      <td>GBP_JPY</td>\n",
       "      <td>49</td>\n",
       "      <td>1470.3</td>\n",
       "      <td>16</td>\n",
       "      <td>96</td>\n",
       "      <td>ma_16_96</td>\n",
       "    </tr>\n",
       "    <tr>\n",
       "      <th>68</th>\n",
       "      <td>GBP_CHF</td>\n",
       "      <td>160</td>\n",
       "      <td>297.7</td>\n",
       "      <td>8</td>\n",
       "      <td>32</td>\n",
       "      <td>ma_8_32</td>\n",
       "    </tr>\n",
       "    <tr>\n",
       "      <th>91</th>\n",
       "      <td>EUR_GBP</td>\n",
       "      <td>55</td>\n",
       "      <td>20.1</td>\n",
       "      <td>16</td>\n",
       "      <td>96</td>\n",
       "      <td>ma_16_96</td>\n",
       "    </tr>\n",
       "    <tr>\n",
       "      <th>102</th>\n",
       "      <td>EUR_USD</td>\n",
       "      <td>152</td>\n",
       "      <td>62.2</td>\n",
       "      <td>8</td>\n",
       "      <td>32</td>\n",
       "      <td>ma_8_32</td>\n",
       "    </tr>\n",
       "    <tr>\n",
       "      <th>106</th>\n",
       "      <td>EUR_USD</td>\n",
       "      <td>60</td>\n",
       "      <td>337.8</td>\n",
       "      <td>32</td>\n",
       "      <td>64</td>\n",
       "      <td>ma_32_64</td>\n",
       "    </tr>\n",
       "    <tr>\n",
       "      <th>123</th>\n",
       "      <td>EUR_CAD</td>\n",
       "      <td>58</td>\n",
       "      <td>670.4</td>\n",
       "      <td>32</td>\n",
       "      <td>64</td>\n",
       "      <td>ma_32_64</td>\n",
       "    </tr>\n",
       "    <tr>\n",
       "      <th>125</th>\n",
       "      <td>EUR_CAD</td>\n",
       "      <td>48</td>\n",
       "      <td>182.2</td>\n",
       "      <td>16</td>\n",
       "      <td>96</td>\n",
       "      <td>ma_16_96</td>\n",
       "    </tr>\n",
       "    <tr>\n",
       "      <th>136</th>\n",
       "      <td>EUR_JPY</td>\n",
       "      <td>151</td>\n",
       "      <td>2725.6</td>\n",
       "      <td>8</td>\n",
       "      <td>32</td>\n",
       "      <td>ma_8_32</td>\n",
       "    </tr>\n",
       "    <tr>\n",
       "      <th>140</th>\n",
       "      <td>EUR_JPY</td>\n",
       "      <td>66</td>\n",
       "      <td>1796.0</td>\n",
       "      <td>32</td>\n",
       "      <td>64</td>\n",
       "      <td>ma_32_64</td>\n",
       "    </tr>\n",
       "    <tr>\n",
       "      <th>142</th>\n",
       "      <td>EUR_JPY</td>\n",
       "      <td>52</td>\n",
       "      <td>1234.0</td>\n",
       "      <td>16</td>\n",
       "      <td>96</td>\n",
       "      <td>ma_16_96</td>\n",
       "    </tr>\n",
       "    <tr>\n",
       "      <th>176</th>\n",
       "      <td>EUR_CHF</td>\n",
       "      <td>48</td>\n",
       "      <td>395.1</td>\n",
       "      <td>16</td>\n",
       "      <td>96</td>\n",
       "      <td>ma_16_96</td>\n",
       "    </tr>\n",
       "    <tr>\n",
       "      <th>204</th>\n",
       "      <td>USD_JPY</td>\n",
       "      <td>134</td>\n",
       "      <td>1302.8</td>\n",
       "      <td>8</td>\n",
       "      <td>32</td>\n",
       "      <td>ma_8_32</td>\n",
       "    </tr>\n",
       "    <tr>\n",
       "      <th>208</th>\n",
       "      <td>USD_JPY</td>\n",
       "      <td>63</td>\n",
       "      <td>563.8</td>\n",
       "      <td>32</td>\n",
       "      <td>64</td>\n",
       "      <td>ma_32_64</td>\n",
       "    </tr>\n",
       "    <tr>\n",
       "      <th>210</th>\n",
       "      <td>USD_JPY</td>\n",
       "      <td>49</td>\n",
       "      <td>1036.4</td>\n",
       "      <td>16</td>\n",
       "      <td>96</td>\n",
       "      <td>ma_16_96</td>\n",
       "    </tr>\n",
       "    <tr>\n",
       "      <th>225</th>\n",
       "      <td>USD_CHF</td>\n",
       "      <td>48</td>\n",
       "      <td>1569.3</td>\n",
       "      <td>32</td>\n",
       "      <td>64</td>\n",
       "      <td>ma_32_64</td>\n",
       "    </tr>\n",
       "    <tr>\n",
       "      <th>227</th>\n",
       "      <td>USD_CHF</td>\n",
       "      <td>33</td>\n",
       "      <td>1946.2</td>\n",
       "      <td>16</td>\n",
       "      <td>96</td>\n",
       "      <td>ma_16_96</td>\n",
       "    </tr>\n",
       "    <tr>\n",
       "      <th>238</th>\n",
       "      <td>CAD_JPY</td>\n",
       "      <td>149</td>\n",
       "      <td>492.7</td>\n",
       "      <td>8</td>\n",
       "      <td>32</td>\n",
       "      <td>ma_8_32</td>\n",
       "    </tr>\n",
       "    <tr>\n",
       "      <th>242</th>\n",
       "      <td>CAD_JPY</td>\n",
       "      <td>59</td>\n",
       "      <td>43.7</td>\n",
       "      <td>32</td>\n",
       "      <td>64</td>\n",
       "      <td>ma_32_64</td>\n",
       "    </tr>\n",
       "    <tr>\n",
       "      <th>244</th>\n",
       "      <td>CAD_JPY</td>\n",
       "      <td>46</td>\n",
       "      <td>1115.4</td>\n",
       "      <td>16</td>\n",
       "      <td>96</td>\n",
       "      <td>ma_16_96</td>\n",
       "    </tr>\n",
       "    <tr>\n",
       "      <th>255</th>\n",
       "      <td>CAD_CHF</td>\n",
       "      <td>134</td>\n",
       "      <td>97.9</td>\n",
       "      <td>8</td>\n",
       "      <td>32</td>\n",
       "      <td>ma_8_32</td>\n",
       "    </tr>\n",
       "    <tr>\n",
       "      <th>259</th>\n",
       "      <td>CAD_CHF</td>\n",
       "      <td>69</td>\n",
       "      <td>392.8</td>\n",
       "      <td>32</td>\n",
       "      <td>64</td>\n",
       "      <td>ma_32_64</td>\n",
       "    </tr>\n",
       "    <tr>\n",
       "      <th>289</th>\n",
       "      <td>NZD_CAD</td>\n",
       "      <td>148</td>\n",
       "      <td>36.3</td>\n",
       "      <td>8</td>\n",
       "      <td>32</td>\n",
       "      <td>ma_8_32</td>\n",
       "    </tr>\n",
       "    <tr>\n",
       "      <th>306</th>\n",
       "      <td>NZD_JPY</td>\n",
       "      <td>141</td>\n",
       "      <td>445.4</td>\n",
       "      <td>8</td>\n",
       "      <td>32</td>\n",
       "      <td>ma_8_32</td>\n",
       "    </tr>\n",
       "    <tr>\n",
       "      <th>310</th>\n",
       "      <td>NZD_JPY</td>\n",
       "      <td>65</td>\n",
       "      <td>269.5</td>\n",
       "      <td>32</td>\n",
       "      <td>64</td>\n",
       "      <td>ma_32_64</td>\n",
       "    </tr>\n",
       "    <tr>\n",
       "      <th>312</th>\n",
       "      <td>NZD_JPY</td>\n",
       "      <td>60</td>\n",
       "      <td>20.6</td>\n",
       "      <td>16</td>\n",
       "      <td>96</td>\n",
       "      <td>ma_16_96</td>\n",
       "    </tr>\n",
       "    <tr>\n",
       "      <th>340</th>\n",
       "      <td>CHF_JPY</td>\n",
       "      <td>128</td>\n",
       "      <td>2368.0</td>\n",
       "      <td>8</td>\n",
       "      <td>32</td>\n",
       "      <td>ma_8_32</td>\n",
       "    </tr>\n",
       "    <tr>\n",
       "      <th>344</th>\n",
       "      <td>CHF_JPY</td>\n",
       "      <td>58</td>\n",
       "      <td>939.6</td>\n",
       "      <td>32</td>\n",
       "      <td>64</td>\n",
       "      <td>ma_32_64</td>\n",
       "    </tr>\n",
       "    <tr>\n",
       "      <th>346</th>\n",
       "      <td>CHF_JPY</td>\n",
       "      <td>50</td>\n",
       "      <td>180.0</td>\n",
       "      <td>16</td>\n",
       "      <td>96</td>\n",
       "      <td>ma_16_96</td>\n",
       "    </tr>\n",
       "  </tbody>\n",
       "</table>\n",
       "</div>"
      ],
      "text/plain": [
       "        pair  num_trades  total_gain  mashort  malong     cross\n",
       "0    GBP_USD         150       135.4        8      32   ma_8_32\n",
       "4    GBP_USD          61      1920.9       32      64  ma_32_64\n",
       "6    GBP_USD          50       931.3       16      96  ma_16_96\n",
       "17   GBP_CAD         155       526.9        8      32   ma_8_32\n",
       "21   GBP_CAD          69      1347.2       32      64  ma_32_64\n",
       "23   GBP_CAD          56       603.2       16      96  ma_16_96\n",
       "34   GBP_JPY         147      3232.2        8      32   ma_8_32\n",
       "38   GBP_JPY          56      3340.1       32      64  ma_32_64\n",
       "40   GBP_JPY          49      1470.3       16      96  ma_16_96\n",
       "68   GBP_CHF         160       297.7        8      32   ma_8_32\n",
       "91   EUR_GBP          55        20.1       16      96  ma_16_96\n",
       "102  EUR_USD         152        62.2        8      32   ma_8_32\n",
       "106  EUR_USD          60       337.8       32      64  ma_32_64\n",
       "123  EUR_CAD          58       670.4       32      64  ma_32_64\n",
       "125  EUR_CAD          48       182.2       16      96  ma_16_96\n",
       "136  EUR_JPY         151      2725.6        8      32   ma_8_32\n",
       "140  EUR_JPY          66      1796.0       32      64  ma_32_64\n",
       "142  EUR_JPY          52      1234.0       16      96  ma_16_96\n",
       "176  EUR_CHF          48       395.1       16      96  ma_16_96\n",
       "204  USD_JPY         134      1302.8        8      32   ma_8_32\n",
       "208  USD_JPY          63       563.8       32      64  ma_32_64\n",
       "210  USD_JPY          49      1036.4       16      96  ma_16_96\n",
       "225  USD_CHF          48      1569.3       32      64  ma_32_64\n",
       "227  USD_CHF          33      1946.2       16      96  ma_16_96\n",
       "238  CAD_JPY         149       492.7        8      32   ma_8_32\n",
       "242  CAD_JPY          59        43.7       32      64  ma_32_64\n",
       "244  CAD_JPY          46      1115.4       16      96  ma_16_96\n",
       "255  CAD_CHF         134        97.9        8      32   ma_8_32\n",
       "259  CAD_CHF          69       392.8       32      64  ma_32_64\n",
       "289  NZD_CAD         148        36.3        8      32   ma_8_32\n",
       "306  NZD_JPY         141       445.4        8      32   ma_8_32\n",
       "310  NZD_JPY          65       269.5       32      64  ma_32_64\n",
       "312  NZD_JPY          60        20.6       16      96  ma_16_96\n",
       "340  CHF_JPY         128      2368.0        8      32   ma_8_32\n",
       "344  CHF_JPY          58       939.6       32      64  ma_32_64\n",
       "346  CHF_JPY          50       180.0       16      96  ma_16_96"
      ]
     },
     "execution_count": 29,
     "metadata": {},
     "output_type": "execute_result"
    }
   ],
   "source": [
    "df_good"
   ]
  },
  {
   "cell_type": "code",
   "execution_count": 48,
   "metadata": {},
   "outputs": [
    {
     "data": {
      "text/plain": [
       "GBP_USD    3\n",
       "GBP_CAD    3\n",
       "GBP_JPY    3\n",
       "EUR_JPY    3\n",
       "USD_JPY    3\n",
       "CAD_JPY    3\n",
       "NZD_JPY    3\n",
       "CHF_JPY    3\n",
       "EUR_USD    2\n",
       "EUR_CAD    2\n",
       "USD_CHF    2\n",
       "CAD_CHF    2\n",
       "GBP_CHF    1\n",
       "EUR_GBP    1\n",
       "EUR_CHF    1\n",
       "NZD_CAD    1\n",
       "Name: pair, dtype: int64"
      ]
     },
     "execution_count": 48,
     "metadata": {},
     "output_type": "execute_result"
    }
   ],
   "source": [
    "df_good.pair.value_counts()"
   ]
  },
  {
   "cell_type": "code",
   "execution_count": 49,
   "metadata": {},
   "outputs": [],
   "source": [
    "our_pairs = list(df_good.pair.value_counts()[:9].index)"
   ]
  },
  {
   "cell_type": "code",
   "execution_count": 50,
   "metadata": {},
   "outputs": [
    {
     "data": {
      "text/plain": [
       "['GBP_USD',\n",
       " 'GBP_CAD',\n",
       " 'GBP_JPY',\n",
       " 'EUR_JPY',\n",
       " 'USD_JPY',\n",
       " 'CAD_JPY',\n",
       " 'NZD_JPY',\n",
       " 'CHF_JPY',\n",
       " 'EUR_USD']"
      ]
     },
     "execution_count": 50,
     "metadata": {},
     "output_type": "execute_result"
    }
   ],
   "source": [
    "our_pairs"
   ]
  },
  {
   "cell_type": "code",
   "execution_count": 32,
   "metadata": {},
   "outputs": [],
   "source": [
    "all_trades['cross'] = 'ma_' + all_trades.mashort.map(str) + '_' + all_trades.malong.map(str)"
   ]
  },
  {
   "cell_type": "code",
   "execution_count": 51,
   "metadata": {},
   "outputs": [
    {
     "data": {
      "text/html": [
       "<div>\n",
       "<style scoped>\n",
       "    .dataframe tbody tr th:only-of-type {\n",
       "        vertical-align: middle;\n",
       "    }\n",
       "\n",
       "    .dataframe tbody tr th {\n",
       "        vertical-align: top;\n",
       "    }\n",
       "\n",
       "    .dataframe thead th {\n",
       "        text-align: right;\n",
       "    }\n",
       "</style>\n",
       "<table border=\"1\" class=\"dataframe\">\n",
       "  <thead>\n",
       "    <tr style=\"text-align: right;\">\n",
       "      <th></th>\n",
       "      <th>time</th>\n",
       "      <th>mid_c</th>\n",
       "      <th>diff</th>\n",
       "      <th>diff_prev</th>\n",
       "      <th>is_trade</th>\n",
       "      <th>delta</th>\n",
       "      <th>gain</th>\n",
       "      <th>pair</th>\n",
       "      <th>mashort</th>\n",
       "      <th>malong</th>\n",
       "      <th>duration</th>\n",
       "      <th>cross</th>\n",
       "    </tr>\n",
       "  </thead>\n",
       "  <tbody>\n",
       "    <tr>\n",
       "      <th>35</th>\n",
       "      <td>2022-03-31 05:00:00+00:00</td>\n",
       "      <td>1.31276</td>\n",
       "      <td>-0.000107</td>\n",
       "      <td>0.000088</td>\n",
       "      <td>-1</td>\n",
       "      <td>15.2</td>\n",
       "      <td>-15.2</td>\n",
       "      <td>GBP_USD</td>\n",
       "      <td>8</td>\n",
       "      <td>32</td>\n",
       "      <td>12.0</td>\n",
       "      <td>ma_8_32</td>\n",
       "    </tr>\n",
       "    <tr>\n",
       "      <th>47</th>\n",
       "      <td>2022-03-31 17:00:00+00:00</td>\n",
       "      <td>1.31428</td>\n",
       "      <td>0.000047</td>\n",
       "      <td>-0.000243</td>\n",
       "      <td>1</td>\n",
       "      <td>-19.5</td>\n",
       "      <td>-19.5</td>\n",
       "      <td>GBP_USD</td>\n",
       "      <td>8</td>\n",
       "      <td>32</td>\n",
       "      <td>13.0</td>\n",
       "      <td>ma_8_32</td>\n",
       "    </tr>\n",
       "    <tr>\n",
       "      <th>60</th>\n",
       "      <td>2022-04-01 06:00:00+00:00</td>\n",
       "      <td>1.31233</td>\n",
       "      <td>-0.000079</td>\n",
       "      <td>0.000168</td>\n",
       "      <td>-1</td>\n",
       "      <td>4.3</td>\n",
       "      <td>-4.3</td>\n",
       "      <td>GBP_USD</td>\n",
       "      <td>8</td>\n",
       "      <td>32</td>\n",
       "      <td>73.0</td>\n",
       "      <td>ma_8_32</td>\n",
       "    </tr>\n",
       "    <tr>\n",
       "      <th>85</th>\n",
       "      <td>2022-04-04 07:00:00+00:00</td>\n",
       "      <td>1.31276</td>\n",
       "      <td>0.000035</td>\n",
       "      <td>-0.000307</td>\n",
       "      <td>1</td>\n",
       "      <td>-31.2</td>\n",
       "      <td>-31.2</td>\n",
       "      <td>GBP_USD</td>\n",
       "      <td>8</td>\n",
       "      <td>32</td>\n",
       "      <td>4.0</td>\n",
       "      <td>ma_8_32</td>\n",
       "    </tr>\n",
       "    <tr>\n",
       "      <th>89</th>\n",
       "      <td>2022-04-04 11:00:00+00:00</td>\n",
       "      <td>1.30964</td>\n",
       "      <td>-0.000011</td>\n",
       "      <td>0.000103</td>\n",
       "      <td>-1</td>\n",
       "      <td>18.2</td>\n",
       "      <td>-18.2</td>\n",
       "      <td>GBP_USD</td>\n",
       "      <td>8</td>\n",
       "      <td>32</td>\n",
       "      <td>8.0</td>\n",
       "      <td>ma_8_32</td>\n",
       "    </tr>\n",
       "  </tbody>\n",
       "</table>\n",
       "</div>"
      ],
      "text/plain": [
       "                        time    mid_c      diff  diff_prev  is_trade  delta  \\\n",
       "35 2022-03-31 05:00:00+00:00  1.31276 -0.000107   0.000088        -1   15.2   \n",
       "47 2022-03-31 17:00:00+00:00  1.31428  0.000047  -0.000243         1  -19.5   \n",
       "60 2022-04-01 06:00:00+00:00  1.31233 -0.000079   0.000168        -1    4.3   \n",
       "85 2022-04-04 07:00:00+00:00  1.31276  0.000035  -0.000307         1  -31.2   \n",
       "89 2022-04-04 11:00:00+00:00  1.30964 -0.000011   0.000103        -1   18.2   \n",
       "\n",
       "    gain     pair  mashort  malong  duration    cross  \n",
       "35 -15.2  GBP_USD        8      32      12.0  ma_8_32  \n",
       "47 -19.5  GBP_USD        8      32      13.0  ma_8_32  \n",
       "60  -4.3  GBP_USD        8      32      73.0  ma_8_32  \n",
       "85 -31.2  GBP_USD        8      32       4.0  ma_8_32  \n",
       "89 -18.2  GBP_USD        8      32       8.0  ma_8_32  "
      ]
     },
     "execution_count": 51,
     "metadata": {},
     "output_type": "execute_result"
    }
   ],
   "source": [
    "all_trades.head()"
   ]
  },
  {
   "cell_type": "code",
   "execution_count": 33,
   "metadata": {},
   "outputs": [],
   "source": [
    "trades_cad_jpy = all_trades[(all_trades.cross=='ma_8_32')&(all_trades.pair=='CAD_JPY')].copy()"
   ]
  },
  {
   "cell_type": "code",
   "execution_count": 34,
   "metadata": {},
   "outputs": [
    {
     "data": {
      "text/html": [
       "<div>\n",
       "<style scoped>\n",
       "    .dataframe tbody tr th:only-of-type {\n",
       "        vertical-align: middle;\n",
       "    }\n",
       "\n",
       "    .dataframe tbody tr th {\n",
       "        vertical-align: top;\n",
       "    }\n",
       "\n",
       "    .dataframe thead th {\n",
       "        text-align: right;\n",
       "    }\n",
       "</style>\n",
       "<table border=\"1\" class=\"dataframe\">\n",
       "  <thead>\n",
       "    <tr style=\"text-align: right;\">\n",
       "      <th></th>\n",
       "      <th>time</th>\n",
       "      <th>mid_c</th>\n",
       "      <th>diff</th>\n",
       "      <th>diff_prev</th>\n",
       "      <th>is_trade</th>\n",
       "      <th>delta</th>\n",
       "      <th>gain</th>\n",
       "      <th>pair</th>\n",
       "      <th>mashort</th>\n",
       "      <th>malong</th>\n",
       "      <th>duration</th>\n",
       "      <th>cross</th>\n",
       "    </tr>\n",
       "  </thead>\n",
       "  <tbody>\n",
       "    <tr>\n",
       "      <th>55</th>\n",
       "      <td>2022-04-01 02:00:00+00:00</td>\n",
       "      <td>98.091</td>\n",
       "      <td>0.058188</td>\n",
       "      <td>-0.009031</td>\n",
       "      <td>1</td>\n",
       "      <td>75.2</td>\n",
       "      <td>75.2</td>\n",
       "      <td>CAD_JPY</td>\n",
       "      <td>8</td>\n",
       "      <td>32</td>\n",
       "      <td>136.0</td>\n",
       "      <td>ma_8_32</td>\n",
       "    </tr>\n",
       "    <tr>\n",
       "      <th>143</th>\n",
       "      <td>2022-04-06 18:00:00+00:00</td>\n",
       "      <td>98.843</td>\n",
       "      <td>-0.049719</td>\n",
       "      <td>0.002906</td>\n",
       "      <td>-1</td>\n",
       "      <td>-30.7</td>\n",
       "      <td>30.7</td>\n",
       "      <td>CAD_JPY</td>\n",
       "      <td>8</td>\n",
       "      <td>32</td>\n",
       "      <td>39.0</td>\n",
       "      <td>ma_8_32</td>\n",
       "    </tr>\n",
       "    <tr>\n",
       "      <th>182</th>\n",
       "      <td>2022-04-08 09:00:00+00:00</td>\n",
       "      <td>98.536</td>\n",
       "      <td>0.008313</td>\n",
       "      <td>-0.003188</td>\n",
       "      <td>1</td>\n",
       "      <td>55.5</td>\n",
       "      <td>55.5</td>\n",
       "      <td>CAD_JPY</td>\n",
       "      <td>8</td>\n",
       "      <td>32</td>\n",
       "      <td>88.0</td>\n",
       "      <td>ma_8_32</td>\n",
       "    </tr>\n",
       "    <tr>\n",
       "      <th>222</th>\n",
       "      <td>2022-04-12 01:00:00+00:00</td>\n",
       "      <td>99.091</td>\n",
       "      <td>-0.002344</td>\n",
       "      <td>0.047344</td>\n",
       "      <td>-1</td>\n",
       "      <td>45.9</td>\n",
       "      <td>-45.9</td>\n",
       "      <td>CAD_JPY</td>\n",
       "      <td>8</td>\n",
       "      <td>32</td>\n",
       "      <td>25.0</td>\n",
       "      <td>ma_8_32</td>\n",
       "    </tr>\n",
       "    <tr>\n",
       "      <th>247</th>\n",
       "      <td>2022-04-13 02:00:00+00:00</td>\n",
       "      <td>99.550</td>\n",
       "      <td>0.032750</td>\n",
       "      <td>-0.013375</td>\n",
       "      <td>1</td>\n",
       "      <td>32.9</td>\n",
       "      <td>32.9</td>\n",
       "      <td>CAD_JPY</td>\n",
       "      <td>8</td>\n",
       "      <td>32</td>\n",
       "      <td>43.0</td>\n",
       "      <td>ma_8_32</td>\n",
       "    </tr>\n",
       "  </tbody>\n",
       "</table>\n",
       "</div>"
      ],
      "text/plain": [
       "                         time   mid_c      diff  diff_prev  is_trade  delta  \\\n",
       "55  2022-04-01 02:00:00+00:00  98.091  0.058188  -0.009031         1   75.2   \n",
       "143 2022-04-06 18:00:00+00:00  98.843 -0.049719   0.002906        -1  -30.7   \n",
       "182 2022-04-08 09:00:00+00:00  98.536  0.008313  -0.003188         1   55.5   \n",
       "222 2022-04-12 01:00:00+00:00  99.091 -0.002344   0.047344        -1   45.9   \n",
       "247 2022-04-13 02:00:00+00:00  99.550  0.032750  -0.013375         1   32.9   \n",
       "\n",
       "     gain     pair  mashort  malong  duration    cross  \n",
       "55   75.2  CAD_JPY        8      32     136.0  ma_8_32  \n",
       "143  30.7  CAD_JPY        8      32      39.0  ma_8_32  \n",
       "182  55.5  CAD_JPY        8      32      88.0  ma_8_32  \n",
       "222 -45.9  CAD_JPY        8      32      25.0  ma_8_32  \n",
       "247  32.9  CAD_JPY        8      32      43.0  ma_8_32  "
      ]
     },
     "execution_count": 34,
     "metadata": {},
     "output_type": "execute_result"
    }
   ],
   "source": [
    "trades_cad_jpy.head()"
   ]
  },
  {
   "cell_type": "code",
   "execution_count": 35,
   "metadata": {},
   "outputs": [],
   "source": [
    "trades_cad_jpy['cum_gain'] = trades_cad_jpy.gain.cumsum()"
   ]
  },
  {
   "cell_type": "code",
   "execution_count": 36,
   "metadata": {},
   "outputs": [
    {
     "data": {
      "text/html": [
       "<div>\n",
       "<style scoped>\n",
       "    .dataframe tbody tr th:only-of-type {\n",
       "        vertical-align: middle;\n",
       "    }\n",
       "\n",
       "    .dataframe tbody tr th {\n",
       "        vertical-align: top;\n",
       "    }\n",
       "\n",
       "    .dataframe thead th {\n",
       "        text-align: right;\n",
       "    }\n",
       "</style>\n",
       "<table border=\"1\" class=\"dataframe\">\n",
       "  <thead>\n",
       "    <tr style=\"text-align: right;\">\n",
       "      <th></th>\n",
       "      <th>time</th>\n",
       "      <th>mid_c</th>\n",
       "      <th>diff</th>\n",
       "      <th>diff_prev</th>\n",
       "      <th>is_trade</th>\n",
       "      <th>delta</th>\n",
       "      <th>gain</th>\n",
       "      <th>pair</th>\n",
       "      <th>mashort</th>\n",
       "      <th>malong</th>\n",
       "      <th>duration</th>\n",
       "      <th>cross</th>\n",
       "      <th>cum_gain</th>\n",
       "    </tr>\n",
       "  </thead>\n",
       "  <tbody>\n",
       "    <tr>\n",
       "      <th>55</th>\n",
       "      <td>2022-04-01 02:00:00+00:00</td>\n",
       "      <td>98.091</td>\n",
       "      <td>0.058188</td>\n",
       "      <td>-0.009031</td>\n",
       "      <td>1</td>\n",
       "      <td>75.2</td>\n",
       "      <td>75.2</td>\n",
       "      <td>CAD_JPY</td>\n",
       "      <td>8</td>\n",
       "      <td>32</td>\n",
       "      <td>136.0</td>\n",
       "      <td>ma_8_32</td>\n",
       "      <td>75.2</td>\n",
       "    </tr>\n",
       "    <tr>\n",
       "      <th>143</th>\n",
       "      <td>2022-04-06 18:00:00+00:00</td>\n",
       "      <td>98.843</td>\n",
       "      <td>-0.049719</td>\n",
       "      <td>0.002906</td>\n",
       "      <td>-1</td>\n",
       "      <td>-30.7</td>\n",
       "      <td>30.7</td>\n",
       "      <td>CAD_JPY</td>\n",
       "      <td>8</td>\n",
       "      <td>32</td>\n",
       "      <td>39.0</td>\n",
       "      <td>ma_8_32</td>\n",
       "      <td>105.9</td>\n",
       "    </tr>\n",
       "    <tr>\n",
       "      <th>182</th>\n",
       "      <td>2022-04-08 09:00:00+00:00</td>\n",
       "      <td>98.536</td>\n",
       "      <td>0.008313</td>\n",
       "      <td>-0.003188</td>\n",
       "      <td>1</td>\n",
       "      <td>55.5</td>\n",
       "      <td>55.5</td>\n",
       "      <td>CAD_JPY</td>\n",
       "      <td>8</td>\n",
       "      <td>32</td>\n",
       "      <td>88.0</td>\n",
       "      <td>ma_8_32</td>\n",
       "      <td>161.4</td>\n",
       "    </tr>\n",
       "    <tr>\n",
       "      <th>222</th>\n",
       "      <td>2022-04-12 01:00:00+00:00</td>\n",
       "      <td>99.091</td>\n",
       "      <td>-0.002344</td>\n",
       "      <td>0.047344</td>\n",
       "      <td>-1</td>\n",
       "      <td>45.9</td>\n",
       "      <td>-45.9</td>\n",
       "      <td>CAD_JPY</td>\n",
       "      <td>8</td>\n",
       "      <td>32</td>\n",
       "      <td>25.0</td>\n",
       "      <td>ma_8_32</td>\n",
       "      <td>115.5</td>\n",
       "    </tr>\n",
       "    <tr>\n",
       "      <th>247</th>\n",
       "      <td>2022-04-13 02:00:00+00:00</td>\n",
       "      <td>99.550</td>\n",
       "      <td>0.032750</td>\n",
       "      <td>-0.013375</td>\n",
       "      <td>1</td>\n",
       "      <td>32.9</td>\n",
       "      <td>32.9</td>\n",
       "      <td>CAD_JPY</td>\n",
       "      <td>8</td>\n",
       "      <td>32</td>\n",
       "      <td>43.0</td>\n",
       "      <td>ma_8_32</td>\n",
       "      <td>148.4</td>\n",
       "    </tr>\n",
       "  </tbody>\n",
       "</table>\n",
       "</div>"
      ],
      "text/plain": [
       "                         time   mid_c      diff  diff_prev  is_trade  delta  \\\n",
       "55  2022-04-01 02:00:00+00:00  98.091  0.058188  -0.009031         1   75.2   \n",
       "143 2022-04-06 18:00:00+00:00  98.843 -0.049719   0.002906        -1  -30.7   \n",
       "182 2022-04-08 09:00:00+00:00  98.536  0.008313  -0.003188         1   55.5   \n",
       "222 2022-04-12 01:00:00+00:00  99.091 -0.002344   0.047344        -1   45.9   \n",
       "247 2022-04-13 02:00:00+00:00  99.550  0.032750  -0.013375         1   32.9   \n",
       "\n",
       "     gain     pair  mashort  malong  duration    cross  cum_gain  \n",
       "55   75.2  CAD_JPY        8      32     136.0  ma_8_32      75.2  \n",
       "143  30.7  CAD_JPY        8      32      39.0  ma_8_32     105.9  \n",
       "182  55.5  CAD_JPY        8      32      88.0  ma_8_32     161.4  \n",
       "222 -45.9  CAD_JPY        8      32      25.0  ma_8_32     115.5  \n",
       "247  32.9  CAD_JPY        8      32      43.0  ma_8_32     148.4  "
      ]
     },
     "execution_count": 36,
     "metadata": {},
     "output_type": "execute_result"
    }
   ],
   "source": [
    "trades_cad_jpy.head()"
   ]
  },
  {
   "cell_type": "code",
   "execution_count": 52,
   "metadata": {},
   "outputs": [],
   "source": [
    "def plot_line(df_plot, name):\n",
    "    fig = go.Figure()\n",
    "    fig.add_trace(go.Scatter(\n",
    "        x=df_plot.time,\n",
    "        y=df_plot.cum_gain,\n",
    "        line=dict(width=2, color='#3d825f'),\n",
    "        line_shape='spline',\n",
    "        name=name,\n",
    "        mode='lines'\n",
    "    ))\n",
    "    fig.update_layout(width=1000, height=400,\n",
    "        margin=dict(l=15,r=15,b=10),\n",
    "        font=dict(size=10,color='#3d825f'),\n",
    "        paper_bgcolor='#1e1e1e',\n",
    "        plot_bgcolor='#1e1e1e',\n",
    "        title=name)\n",
    "    fig.update_xaxes(\n",
    "        linewidth=1,\n",
    "        linecolor='#3a4a54',\n",
    "        showgrid=False,\n",
    "        zeroline=False\n",
    "    )\n",
    "    fig.update_yaxes(\n",
    "        linewidth=1,\n",
    "        linecolor='#3a4a54',\n",
    "        showgrid=False,\n",
    "        zeroline=False\n",
    "    )\n",
    "    fig.show()"
   ]
  },
  {
   "cell_type": "code",
   "execution_count": 53,
   "metadata": {},
   "outputs": [
    {
     "data": {
      "application/vnd.plotly.v1+json": {
       "config": {
        "plotlyServerURL": "https://plot.ly"
       },
       "data": [
        {
         "line": {
          "color": "#3d825f",
          "shape": "spline",
          "width": 2
         },
         "mode": "lines",
         "name": "cad_jpy",
         "type": "scatter",
         "x": [
          "2022-04-01T02:00:00+00:00",
          "2022-04-06T18:00:00+00:00",
          "2022-04-08T09:00:00+00:00",
          "2022-04-12T01:00:00+00:00",
          "2022-04-13T02:00:00+00:00",
          "2022-04-14T21:00:00+00:00",
          "2022-04-14T23:00:00+00:00",
          "2022-04-18T05:00:00+00:00",
          "2022-04-18T16:00:00+00:00",
          "2022-04-21T19:00:00+00:00",
          "2022-04-26T07:00:00+00:00",
          "2022-04-26T12:00:00+00:00",
          "2022-04-27T13:00:00+00:00",
          "2022-04-29T14:00:00+00:00",
          "2022-05-03T01:00:00+00:00",
          "2022-05-05T01:00:00+00:00",
          "2022-05-05T04:00:00+00:00",
          "2022-05-05T21:00:00+00:00",
          "2022-05-06T03:00:00+00:00",
          "2022-05-06T11:00:00+00:00",
          "2022-05-09T12:00:00+00:00",
          "2022-05-09T14:00:00+00:00",
          "2022-05-11T04:00:00+00:00",
          "2022-05-11T21:00:00+00:00",
          "2022-05-13T06:00:00+00:00",
          "2022-05-18T05:00:00+00:00",
          "2022-05-20T01:00:00+00:00",
          "2022-05-20T03:00:00+00:00",
          "2022-05-20T06:00:00+00:00",
          "2022-05-20T19:00:00+00:00",
          "2022-05-23T11:00:00+00:00",
          "2022-05-24T06:00:00+00:00",
          "2022-05-25T16:00:00+00:00",
          "2022-05-26T08:00:00+00:00",
          "2022-05-26T16:00:00+00:00",
          "2022-06-02T12:00:00+00:00",
          "2022-06-02T14:00:00+00:00",
          "2022-06-09T07:00:00+00:00",
          "2022-06-13T05:00:00+00:00",
          "2022-06-13T07:00:00+00:00",
          "2022-06-14T20:00:00+00:00",
          "2022-06-15T07:00:00+00:00",
          "2022-06-16T03:00:00+00:00",
          "2022-06-16T09:00:00+00:00",
          "2022-06-17T06:00:00+00:00",
          "2022-06-22T08:00:00+00:00",
          "2022-06-22T22:00:00+00:00",
          "2022-06-22T23:00:00+00:00",
          "2022-06-24T13:00:00+00:00",
          "2022-06-30T07:00:00+00:00",
          "2022-07-04T06:00:00+00:00",
          "2022-07-05T12:00:00+00:00",
          "2022-07-06T20:00:00+00:00",
          "2022-07-08T06:00:00+00:00",
          "2022-07-08T15:00:00+00:00",
          "2022-07-12T04:00:00+00:00",
          "2022-07-13T06:00:00+00:00",
          "2022-07-14T15:00:00+00:00",
          "2022-07-15T14:00:00+00:00",
          "2022-07-19T00:00:00+00:00",
          "2022-07-19T16:00:00+00:00",
          "2022-07-20T22:00:00+00:00",
          "2022-07-21T00:00:00+00:00",
          "2022-07-21T14:00:00+00:00",
          "2022-07-25T13:00:00+00:00",
          "2022-07-26T14:00:00+00:00",
          "2022-07-27T01:00:00+00:00",
          "2022-07-28T00:00:00+00:00",
          "2022-08-02T17:00:00+00:00",
          "2022-08-04T15:00:00+00:00",
          "2022-08-05T15:00:00+00:00",
          "2022-08-09T17:00:00+00:00",
          "2022-08-11T19:00:00+00:00",
          "2022-08-15T00:00:00+00:00",
          "2022-08-16T09:00:00+00:00",
          "2022-08-18T01:00:00+00:00",
          "2022-08-18T10:00:00+00:00",
          "2022-08-22T13:00:00+00:00",
          "2022-08-23T11:00:00+00:00",
          "2022-08-24T06:00:00+00:00",
          "2022-08-24T18:00:00+00:00",
          "2022-08-25T20:00:00+00:00",
          "2022-08-26T07:00:00+00:00",
          "2022-08-26T18:00:00+00:00",
          "2022-08-29T02:00:00+00:00",
          "2022-08-30T13:00:00+00:00",
          "2022-09-01T01:00:00+00:00",
          "2022-09-01T09:00:00+00:00",
          "2022-09-01T15:00:00+00:00",
          "2022-09-05T05:00:00+00:00",
          "2022-09-05T12:00:00+00:00",
          "2022-09-08T10:00:00+00:00",
          "2022-09-08T18:00:00+00:00",
          "2022-09-09T08:00:00+00:00",
          "2022-09-12T05:00:00+00:00",
          "2022-09-13T05:00:00+00:00",
          "2022-09-13T14:00:00+00:00",
          "2022-09-14T00:00:00+00:00",
          "2022-09-15T08:00:00+00:00",
          "2022-09-15T17:00:00+00:00",
          "2022-09-19T14:00:00+00:00",
          "2022-09-20T15:00:00+00:00",
          "2022-09-21T16:00:00+00:00",
          "2022-09-21T19:00:00+00:00",
          "2022-09-23T15:00:00+00:00",
          "2022-09-23T20:00:00+00:00",
          "2022-09-25T23:00:00+00:00",
          "2022-09-26T15:00:00+00:00",
          "2022-09-27T06:00:00+00:00",
          "2022-09-27T15:00:00+00:00",
          "2022-09-27T17:00:00+00:00",
          "2022-09-28T01:00:00+00:00",
          "2022-09-28T16:00:00+00:00",
          "2022-09-29T14:00:00+00:00",
          "2022-09-30T03:00:00+00:00",
          "2022-09-30T04:00:00+00:00",
          "2022-09-30T07:00:00+00:00",
          "2022-09-30T08:00:00+00:00",
          "2022-10-03T07:00:00+00:00",
          "2022-10-05T11:00:00+00:00",
          "2022-10-06T04:00:00+00:00",
          "2022-10-06T09:00:00+00:00",
          "2022-10-07T14:00:00+00:00",
          "2022-10-10T20:00:00+00:00",
          "2022-10-11T17:00:00+00:00",
          "2022-10-13T12:00:00+00:00",
          "2022-10-13T15:00:00+00:00",
          "2022-10-16T21:00:00+00:00",
          "2022-10-17T02:00:00+00:00",
          "2022-10-18T16:00:00+00:00",
          "2022-10-19T00:00:00+00:00",
          "2022-10-21T16:00:00+00:00",
          "2022-10-24T22:00:00+00:00",
          "2022-10-24T23:00:00+00:00",
          "2022-10-25T01:00:00+00:00",
          "2022-10-25T04:00:00+00:00",
          "2022-10-25T20:00:00+00:00",
          "2022-10-26T13:00:00+00:00",
          "2022-10-27T18:00:00+00:00",
          "2022-11-01T12:00:00+00:00",
          "2022-11-03T19:00:00+00:00",
          "2022-11-07T15:00:00+00:00",
          "2022-11-09T13:00:00+00:00",
          "2022-11-09T22:00:00+00:00",
          "2022-11-14T10:00:00+00:00",
          "2022-11-15T01:00:00+00:00",
          "2022-11-15T04:00:00+00:00",
          "2022-11-15T10:00:00+00:00",
          "2022-11-16T04:00:00+00:00"
         ],
         "y": [
          75.20000000000095,
          105.90000000000117,
          161.40000000000043,
          115.50000000000011,
          148.4000000000009,
          131.90000000000168,
          148.1000000000023,
          105.30000000000257,
          240.90000000000202,
          405.70000000000164,
          327.90000000000106,
          300.3,
          461.4999999999995,
          496.79999999999893,
          508.89999999999844,
          472.8999999999985,
          458.3999999999989,
          424.69999999999857,
          406.6999999999979,
          445.4999999999984,
          385.89999999999947,
          425.1000000000005,
          408.30000000000126,
          526.100000000001,
          719.1000000000004,
          802.7000000000003,
          751.5000000000002,
          716.4999999999993,
          699.3999999999987,
          680.399999999999,
          666.2999999999998,
          709.9000000000005,
          662.9000000000007,
          581.3000000000004,
          877.7000000000003,
          830.3,
          1138.8999999999999,
          1220.6000000000006,
          1176.000000000001,
          1207.7000000000003,
          1142.8999999999992,
          1110.2999999999984,
          963.8999999999985,
          887.7999999999989,
          1030.099999999999,
          1006.7999999999986,
          980.8999999999985,
          1057.3999999999985,
          1193.299999999998,
          1227.6999999999973,
          1166.7999999999965,
          1194.9999999999961,
          1213.8999999999955,
          1141.2999999999943,
          1165.4999999999932,
          1165.8999999999924,
          1228.1999999999914,
          1192.099999999991,
          1196.1999999999907,
          1127.3999999999905,
          1136.5999999999904,
          1109.9999999999898,
          1055.6999999999891,
          1122.9999999999893,
          1105.6999999999891,
          1068.0999999999885,
          1032.0999999999885,
          1309.099999999988,
          1344.0999999999876,
          1258.4999999999868,
          1281.8999999999862,
          1338.399999999986,
          1330.2999999999856,
          1349.699999999986,
          1391.099999999986,
          1339.7999999999856,
          1386.699999999985,
          1371.9999999999845,
          1353.0999999999838,
          1317.499999999983,
          1312.6999999999828,
          1290.4999999999834,
          1253.2999999999834,
          1194.899999999983,
          1191.3999999999833,
          1191.6999999999832,
          1157.3999999999828,
          1089.9999999999836,
          1123.7999999999845,
          1092.1999999999844,
          1345.099999999984,
          1302.0999999999847,
          1234.899999999985,
          1164.9999999999852,
          1127.3999999999862,
          1089.4999999999873,
          1058.399999999988,
          1125.4999999999886,
          1085.699999999989,
          1157.2999999999884,
          1136.9999999999882,
          1128.299999999988,
          1050.5999999999879,
          1206.7999999999877,
          1212.6999999999875,
          1191.6999999999882,
          1132.2999999999888,
          1083.2999999999893,
          1057.4999999999898,
          1039.1999999999905,
          997.4999999999903,
          936.2999999999895,
          907.0999999999893,
          895.5999999999899,
          882.2999999999904,
          865.8999999999903,
          864.6999999999903,
          874.4999999999902,
          941.0999999999899,
          903.4999999999894,
          839.4999999999893,
          820.59999999999,
          791.2999999999909,
          759.2999999999915,
          730.0999999999914,
          602.4999999999903,
          593.79999999999,
          541.4999999999903,
          617.6999999999904,
          576.8999999999903,
          485.29999999999063,
          388.0999999999912,
          385.4999999999916,
          382.89999999999196,
          375.2999999999926,
          366.9999999999928,
          308.59999999999246,
          340.1999999999927,
          414.39999999999316,
          482.29999999999336,
          550.0999999999931,
          518.6999999999923,
          454.99999999999227,
          706.1999999999923,
          667.2999999999913,
          655.0999999999913,
          596.8999999999919,
          555.5999999999922,
          492.6999999999931
         ]
        }
       ],
       "layout": {
        "font": {
         "color": "#3d825f",
         "size": 10
        },
        "height": 400,
        "margin": {
         "b": 10,
         "l": 15,
         "r": 15
        },
        "paper_bgcolor": "#1e1e1e",
        "plot_bgcolor": "#1e1e1e",
        "template": {
         "data": {
          "bar": [
           {
            "error_x": {
             "color": "#2a3f5f"
            },
            "error_y": {
             "color": "#2a3f5f"
            },
            "marker": {
             "line": {
              "color": "#E5ECF6",
              "width": 0.5
             },
             "pattern": {
              "fillmode": "overlay",
              "size": 10,
              "solidity": 0.2
             }
            },
            "type": "bar"
           }
          ],
          "barpolar": [
           {
            "marker": {
             "line": {
              "color": "#E5ECF6",
              "width": 0.5
             },
             "pattern": {
              "fillmode": "overlay",
              "size": 10,
              "solidity": 0.2
             }
            },
            "type": "barpolar"
           }
          ],
          "carpet": [
           {
            "aaxis": {
             "endlinecolor": "#2a3f5f",
             "gridcolor": "white",
             "linecolor": "white",
             "minorgridcolor": "white",
             "startlinecolor": "#2a3f5f"
            },
            "baxis": {
             "endlinecolor": "#2a3f5f",
             "gridcolor": "white",
             "linecolor": "white",
             "minorgridcolor": "white",
             "startlinecolor": "#2a3f5f"
            },
            "type": "carpet"
           }
          ],
          "choropleth": [
           {
            "colorbar": {
             "outlinewidth": 0,
             "ticks": ""
            },
            "type": "choropleth"
           }
          ],
          "contour": [
           {
            "colorbar": {
             "outlinewidth": 0,
             "ticks": ""
            },
            "colorscale": [
             [
              0,
              "#0d0887"
             ],
             [
              0.1111111111111111,
              "#46039f"
             ],
             [
              0.2222222222222222,
              "#7201a8"
             ],
             [
              0.3333333333333333,
              "#9c179e"
             ],
             [
              0.4444444444444444,
              "#bd3786"
             ],
             [
              0.5555555555555556,
              "#d8576b"
             ],
             [
              0.6666666666666666,
              "#ed7953"
             ],
             [
              0.7777777777777778,
              "#fb9f3a"
             ],
             [
              0.8888888888888888,
              "#fdca26"
             ],
             [
              1,
              "#f0f921"
             ]
            ],
            "type": "contour"
           }
          ],
          "contourcarpet": [
           {
            "colorbar": {
             "outlinewidth": 0,
             "ticks": ""
            },
            "type": "contourcarpet"
           }
          ],
          "heatmap": [
           {
            "colorbar": {
             "outlinewidth": 0,
             "ticks": ""
            },
            "colorscale": [
             [
              0,
              "#0d0887"
             ],
             [
              0.1111111111111111,
              "#46039f"
             ],
             [
              0.2222222222222222,
              "#7201a8"
             ],
             [
              0.3333333333333333,
              "#9c179e"
             ],
             [
              0.4444444444444444,
              "#bd3786"
             ],
             [
              0.5555555555555556,
              "#d8576b"
             ],
             [
              0.6666666666666666,
              "#ed7953"
             ],
             [
              0.7777777777777778,
              "#fb9f3a"
             ],
             [
              0.8888888888888888,
              "#fdca26"
             ],
             [
              1,
              "#f0f921"
             ]
            ],
            "type": "heatmap"
           }
          ],
          "heatmapgl": [
           {
            "colorbar": {
             "outlinewidth": 0,
             "ticks": ""
            },
            "colorscale": [
             [
              0,
              "#0d0887"
             ],
             [
              0.1111111111111111,
              "#46039f"
             ],
             [
              0.2222222222222222,
              "#7201a8"
             ],
             [
              0.3333333333333333,
              "#9c179e"
             ],
             [
              0.4444444444444444,
              "#bd3786"
             ],
             [
              0.5555555555555556,
              "#d8576b"
             ],
             [
              0.6666666666666666,
              "#ed7953"
             ],
             [
              0.7777777777777778,
              "#fb9f3a"
             ],
             [
              0.8888888888888888,
              "#fdca26"
             ],
             [
              1,
              "#f0f921"
             ]
            ],
            "type": "heatmapgl"
           }
          ],
          "histogram": [
           {
            "marker": {
             "pattern": {
              "fillmode": "overlay",
              "size": 10,
              "solidity": 0.2
             }
            },
            "type": "histogram"
           }
          ],
          "histogram2d": [
           {
            "colorbar": {
             "outlinewidth": 0,
             "ticks": ""
            },
            "colorscale": [
             [
              0,
              "#0d0887"
             ],
             [
              0.1111111111111111,
              "#46039f"
             ],
             [
              0.2222222222222222,
              "#7201a8"
             ],
             [
              0.3333333333333333,
              "#9c179e"
             ],
             [
              0.4444444444444444,
              "#bd3786"
             ],
             [
              0.5555555555555556,
              "#d8576b"
             ],
             [
              0.6666666666666666,
              "#ed7953"
             ],
             [
              0.7777777777777778,
              "#fb9f3a"
             ],
             [
              0.8888888888888888,
              "#fdca26"
             ],
             [
              1,
              "#f0f921"
             ]
            ],
            "type": "histogram2d"
           }
          ],
          "histogram2dcontour": [
           {
            "colorbar": {
             "outlinewidth": 0,
             "ticks": ""
            },
            "colorscale": [
             [
              0,
              "#0d0887"
             ],
             [
              0.1111111111111111,
              "#46039f"
             ],
             [
              0.2222222222222222,
              "#7201a8"
             ],
             [
              0.3333333333333333,
              "#9c179e"
             ],
             [
              0.4444444444444444,
              "#bd3786"
             ],
             [
              0.5555555555555556,
              "#d8576b"
             ],
             [
              0.6666666666666666,
              "#ed7953"
             ],
             [
              0.7777777777777778,
              "#fb9f3a"
             ],
             [
              0.8888888888888888,
              "#fdca26"
             ],
             [
              1,
              "#f0f921"
             ]
            ],
            "type": "histogram2dcontour"
           }
          ],
          "mesh3d": [
           {
            "colorbar": {
             "outlinewidth": 0,
             "ticks": ""
            },
            "type": "mesh3d"
           }
          ],
          "parcoords": [
           {
            "line": {
             "colorbar": {
              "outlinewidth": 0,
              "ticks": ""
             }
            },
            "type": "parcoords"
           }
          ],
          "pie": [
           {
            "automargin": true,
            "type": "pie"
           }
          ],
          "scatter": [
           {
            "fillpattern": {
             "fillmode": "overlay",
             "size": 10,
             "solidity": 0.2
            },
            "type": "scatter"
           }
          ],
          "scatter3d": [
           {
            "line": {
             "colorbar": {
              "outlinewidth": 0,
              "ticks": ""
             }
            },
            "marker": {
             "colorbar": {
              "outlinewidth": 0,
              "ticks": ""
             }
            },
            "type": "scatter3d"
           }
          ],
          "scattercarpet": [
           {
            "marker": {
             "colorbar": {
              "outlinewidth": 0,
              "ticks": ""
             }
            },
            "type": "scattercarpet"
           }
          ],
          "scattergeo": [
           {
            "marker": {
             "colorbar": {
              "outlinewidth": 0,
              "ticks": ""
             }
            },
            "type": "scattergeo"
           }
          ],
          "scattergl": [
           {
            "marker": {
             "colorbar": {
              "outlinewidth": 0,
              "ticks": ""
             }
            },
            "type": "scattergl"
           }
          ],
          "scattermapbox": [
           {
            "marker": {
             "colorbar": {
              "outlinewidth": 0,
              "ticks": ""
             }
            },
            "type": "scattermapbox"
           }
          ],
          "scatterpolar": [
           {
            "marker": {
             "colorbar": {
              "outlinewidth": 0,
              "ticks": ""
             }
            },
            "type": "scatterpolar"
           }
          ],
          "scatterpolargl": [
           {
            "marker": {
             "colorbar": {
              "outlinewidth": 0,
              "ticks": ""
             }
            },
            "type": "scatterpolargl"
           }
          ],
          "scatterternary": [
           {
            "marker": {
             "colorbar": {
              "outlinewidth": 0,
              "ticks": ""
             }
            },
            "type": "scatterternary"
           }
          ],
          "surface": [
           {
            "colorbar": {
             "outlinewidth": 0,
             "ticks": ""
            },
            "colorscale": [
             [
              0,
              "#0d0887"
             ],
             [
              0.1111111111111111,
              "#46039f"
             ],
             [
              0.2222222222222222,
              "#7201a8"
             ],
             [
              0.3333333333333333,
              "#9c179e"
             ],
             [
              0.4444444444444444,
              "#bd3786"
             ],
             [
              0.5555555555555556,
              "#d8576b"
             ],
             [
              0.6666666666666666,
              "#ed7953"
             ],
             [
              0.7777777777777778,
              "#fb9f3a"
             ],
             [
              0.8888888888888888,
              "#fdca26"
             ],
             [
              1,
              "#f0f921"
             ]
            ],
            "type": "surface"
           }
          ],
          "table": [
           {
            "cells": {
             "fill": {
              "color": "#EBF0F8"
             },
             "line": {
              "color": "white"
             }
            },
            "header": {
             "fill": {
              "color": "#C8D4E3"
             },
             "line": {
              "color": "white"
             }
            },
            "type": "table"
           }
          ]
         },
         "layout": {
          "annotationdefaults": {
           "arrowcolor": "#2a3f5f",
           "arrowhead": 0,
           "arrowwidth": 1
          },
          "autotypenumbers": "strict",
          "coloraxis": {
           "colorbar": {
            "outlinewidth": 0,
            "ticks": ""
           }
          },
          "colorscale": {
           "diverging": [
            [
             0,
             "#8e0152"
            ],
            [
             0.1,
             "#c51b7d"
            ],
            [
             0.2,
             "#de77ae"
            ],
            [
             0.3,
             "#f1b6da"
            ],
            [
             0.4,
             "#fde0ef"
            ],
            [
             0.5,
             "#f7f7f7"
            ],
            [
             0.6,
             "#e6f5d0"
            ],
            [
             0.7,
             "#b8e186"
            ],
            [
             0.8,
             "#7fbc41"
            ],
            [
             0.9,
             "#4d9221"
            ],
            [
             1,
             "#276419"
            ]
           ],
           "sequential": [
            [
             0,
             "#0d0887"
            ],
            [
             0.1111111111111111,
             "#46039f"
            ],
            [
             0.2222222222222222,
             "#7201a8"
            ],
            [
             0.3333333333333333,
             "#9c179e"
            ],
            [
             0.4444444444444444,
             "#bd3786"
            ],
            [
             0.5555555555555556,
             "#d8576b"
            ],
            [
             0.6666666666666666,
             "#ed7953"
            ],
            [
             0.7777777777777778,
             "#fb9f3a"
            ],
            [
             0.8888888888888888,
             "#fdca26"
            ],
            [
             1,
             "#f0f921"
            ]
           ],
           "sequentialminus": [
            [
             0,
             "#0d0887"
            ],
            [
             0.1111111111111111,
             "#46039f"
            ],
            [
             0.2222222222222222,
             "#7201a8"
            ],
            [
             0.3333333333333333,
             "#9c179e"
            ],
            [
             0.4444444444444444,
             "#bd3786"
            ],
            [
             0.5555555555555556,
             "#d8576b"
            ],
            [
             0.6666666666666666,
             "#ed7953"
            ],
            [
             0.7777777777777778,
             "#fb9f3a"
            ],
            [
             0.8888888888888888,
             "#fdca26"
            ],
            [
             1,
             "#f0f921"
            ]
           ]
          },
          "colorway": [
           "#636efa",
           "#EF553B",
           "#00cc96",
           "#ab63fa",
           "#FFA15A",
           "#19d3f3",
           "#FF6692",
           "#B6E880",
           "#FF97FF",
           "#FECB52"
          ],
          "font": {
           "color": "#2a3f5f"
          },
          "geo": {
           "bgcolor": "white",
           "lakecolor": "white",
           "landcolor": "#E5ECF6",
           "showlakes": true,
           "showland": true,
           "subunitcolor": "white"
          },
          "hoverlabel": {
           "align": "left"
          },
          "hovermode": "closest",
          "mapbox": {
           "style": "light"
          },
          "paper_bgcolor": "white",
          "plot_bgcolor": "#E5ECF6",
          "polar": {
           "angularaxis": {
            "gridcolor": "white",
            "linecolor": "white",
            "ticks": ""
           },
           "bgcolor": "#E5ECF6",
           "radialaxis": {
            "gridcolor": "white",
            "linecolor": "white",
            "ticks": ""
           }
          },
          "scene": {
           "xaxis": {
            "backgroundcolor": "#E5ECF6",
            "gridcolor": "white",
            "gridwidth": 2,
            "linecolor": "white",
            "showbackground": true,
            "ticks": "",
            "zerolinecolor": "white"
           },
           "yaxis": {
            "backgroundcolor": "#E5ECF6",
            "gridcolor": "white",
            "gridwidth": 2,
            "linecolor": "white",
            "showbackground": true,
            "ticks": "",
            "zerolinecolor": "white"
           },
           "zaxis": {
            "backgroundcolor": "#E5ECF6",
            "gridcolor": "white",
            "gridwidth": 2,
            "linecolor": "white",
            "showbackground": true,
            "ticks": "",
            "zerolinecolor": "white"
           }
          },
          "shapedefaults": {
           "line": {
            "color": "#2a3f5f"
           }
          },
          "ternary": {
           "aaxis": {
            "gridcolor": "white",
            "linecolor": "white",
            "ticks": ""
           },
           "baxis": {
            "gridcolor": "white",
            "linecolor": "white",
            "ticks": ""
           },
           "bgcolor": "#E5ECF6",
           "caxis": {
            "gridcolor": "white",
            "linecolor": "white",
            "ticks": ""
           }
          },
          "title": {
           "x": 0.05
          },
          "xaxis": {
           "automargin": true,
           "gridcolor": "white",
           "linecolor": "white",
           "ticks": "",
           "title": {
            "standoff": 15
           },
           "zerolinecolor": "white",
           "zerolinewidth": 2
          },
          "yaxis": {
           "automargin": true,
           "gridcolor": "white",
           "linecolor": "white",
           "ticks": "",
           "title": {
            "standoff": 15
           },
           "zerolinecolor": "white",
           "zerolinewidth": 2
          }
         }
        },
        "title": {
         "text": "cad_jpy"
        },
        "width": 1000,
        "xaxis": {
         "linecolor": "#3a4a54",
         "linewidth": 1,
         "showgrid": false,
         "zeroline": false
        },
        "yaxis": {
         "linecolor": "#3a4a54",
         "linewidth": 1,
         "showgrid": false,
         "zeroline": false
        }
       }
      }
     },
     "metadata": {},
     "output_type": "display_data"
    }
   ],
   "source": [
    "plot_line(trades_cad_jpy, 'cad_jpy')"
   ]
  },
  {
   "cell_type": "code",
   "execution_count": 54,
   "metadata": {},
   "outputs": [
    {
     "data": {
      "application/vnd.plotly.v1+json": {
       "config": {
        "plotlyServerURL": "https://plot.ly"
       },
       "data": [
        {
         "line": {
          "color": "#3d825f",
          "shape": "spline",
          "width": 2
         },
         "mode": "lines",
         "name": "GBP_USD_ma_8_32",
         "type": "scatter",
         "x": [
          "2022-03-31T05:00:00+00:00",
          "2022-03-31T17:00:00+00:00",
          "2022-04-01T06:00:00+00:00",
          "2022-04-04T07:00:00+00:00",
          "2022-04-04T11:00:00+00:00",
          "2022-04-04T19:00:00+00:00",
          "2022-04-04T22:00:00+00:00",
          "2022-04-05T00:00:00+00:00",
          "2022-04-05T18:00:00+00:00",
          "2022-04-07T05:00:00+00:00",
          "2022-04-07T13:00:00+00:00",
          "2022-04-11T13:00:00+00:00",
          "2022-04-11T22:00:00+00:00",
          "2022-04-12T16:00:00+00:00",
          "2022-04-12T20:00:00+00:00",
          "2022-04-13T15:00:00+00:00",
          "2022-04-14T16:00:00+00:00",
          "2022-04-19T11:00:00+00:00",
          "2022-04-19T16:00:00+00:00",
          "2022-04-20T01:00:00+00:00",
          "2022-04-21T15:00:00+00:00",
          "2022-04-29T06:00:00+00:00",
          "2022-05-02T12:00:00+00:00",
          "2022-05-03T12:00:00+00:00",
          "2022-05-03T17:00:00+00:00",
          "2022-05-03T18:00:00+00:00",
          "2022-05-03T19:00:00+00:00",
          "2022-05-04T12:00:00+00:00",
          "2022-05-04T17:00:00+00:00",
          "2022-05-04T19:00:00+00:00",
          "2022-05-05T11:00:00+00:00",
          "2022-05-09T15:00:00+00:00",
          "2022-05-10T13:00:00+00:00",
          "2022-05-11T07:00:00+00:00",
          "2022-05-11T17:00:00+00:00",
          "2022-05-13T06:00:00+00:00",
          "2022-05-13T13:00:00+00:00",
          "2022-05-13T17:00:00+00:00",
          "2022-05-18T09:00:00+00:00",
          "2022-05-19T11:00:00+00:00",
          "2022-05-24T08:00:00+00:00",
          "2022-05-25T18:00:00+00:00",
          "2022-05-31T02:00:00+00:00",
          "2022-06-02T11:00:00+00:00",
          "2022-06-03T14:00:00+00:00",
          "2022-06-06T10:00:00+00:00",
          "2022-06-07T02:00:00+00:00",
          "2022-06-07T16:00:00+00:00",
          "2022-06-08T12:00:00+00:00",
          "2022-06-15T11:00:00+00:00",
          "2022-06-17T14:00:00+00:00",
          "2022-06-20T12:00:00+00:00",
          "2022-06-22T01:00:00+00:00",
          "2022-06-22T16:00:00+00:00",
          "2022-06-23T07:00:00+00:00",
          "2022-06-23T19:00:00+00:00",
          "2022-06-23T21:00:00+00:00",
          "2022-06-23T22:00:00+00:00",
          "2022-06-27T16:00:00+00:00",
          "2022-06-27T18:00:00+00:00",
          "2022-06-27T22:00:00+00:00",
          "2022-06-30T15:00:00+00:00",
          "2022-07-01T05:00:00+00:00",
          "2022-07-04T04:00:00+00:00",
          "2022-07-04T23:00:00+00:00",
          "2022-07-05T05:00:00+00:00",
          "2022-07-05T07:00:00+00:00",
          "2022-07-07T05:00:00+00:00",
          "2022-07-08T09:00:00+00:00",
          "2022-07-08T17:00:00+00:00",
          "2022-07-11T04:00:00+00:00",
          "2022-07-12T18:00:00+00:00",
          "2022-07-13T23:00:00+00:00",
          "2022-07-15T11:00:00+00:00",
          "2022-07-20T11:00:00+00:00",
          "2022-07-21T21:00:00+00:00",
          "2022-07-22T07:00:00+00:00",
          "2022-07-22T14:00:00+00:00",
          "2022-07-25T05:00:00+00:00",
          "2022-07-25T08:00:00+00:00",
          "2022-07-26T10:00:00+00:00",
          "2022-07-27T03:00:00+00:00",
          "2022-07-29T14:00:00+00:00",
          "2022-07-31T21:00:00+00:00",
          "2022-08-02T08:00:00+00:00",
          "2022-08-04T10:00:00+00:00",
          "2022-08-04T11:00:00+00:00",
          "2022-08-04T21:00:00+00:00",
          "2022-08-05T04:00:00+00:00",
          "2022-08-08T11:00:00+00:00",
          "2022-08-08T22:00:00+00:00",
          "2022-08-09T09:00:00+00:00",
          "2022-08-09T18:00:00+00:00",
          "2022-08-10T11:00:00+00:00",
          "2022-08-11T19:00:00+00:00",
          "2022-08-16T17:00:00+00:00",
          "2022-08-17T14:00:00+00:00",
          "2022-08-23T14:00:00+00:00",
          "2022-08-24T12:00:00+00:00",
          "2022-08-25T04:00:00+00:00",
          "2022-08-26T05:00:00+00:00",
          "2022-08-26T14:00:00+00:00",
          "2022-08-26T16:00:00+00:00",
          "2022-08-29T23:00:00+00:00",
          "2022-08-30T15:00:00+00:00",
          "2022-09-02T14:00:00+00:00",
          "2022-09-02T18:00:00+00:00",
          "2022-09-05T16:00:00+00:00",
          "2022-09-06T17:00:00+00:00",
          "2022-09-07T21:00:00+00:00",
          "2022-09-08T19:00:00+00:00",
          "2022-09-09T01:00:00+00:00",
          "2022-09-13T13:00:00+00:00",
          "2022-09-14T15:00:00+00:00",
          "2022-09-15T06:00:00+00:00",
          "2022-09-19T19:00:00+00:00",
          "2022-09-20T16:00:00+00:00",
          "2022-09-22T14:00:00+00:00",
          "2022-09-22T18:00:00+00:00",
          "2022-09-27T01:00:00+00:00",
          "2022-09-27T17:00:00+00:00",
          "2022-09-28T17:00:00+00:00",
          "2022-10-05T11:00:00+00:00",
          "2022-10-11T14:00:00+00:00",
          "2022-10-11T22:00:00+00:00",
          "2022-10-12T12:00:00+00:00",
          "2022-10-14T13:00:00+00:00",
          "2022-10-17T08:00:00+00:00",
          "2022-10-18T11:00:00+00:00",
          "2022-10-19T02:00:00+00:00",
          "2022-10-19T06:00:00+00:00",
          "2022-10-20T14:00:00+00:00",
          "2022-10-21T00:00:00+00:00",
          "2022-10-21T19:00:00+00:00",
          "2022-10-24T19:00:00+00:00",
          "2022-10-25T12:00:00+00:00",
          "2022-10-27T12:00:00+00:00",
          "2022-10-28T17:00:00+00:00",
          "2022-10-31T11:00:00+00:00",
          "2022-11-01T09:00:00+00:00",
          "2022-11-01T18:00:00+00:00",
          "2022-11-02T05:00:00+00:00",
          "2022-11-02T09:00:00+00:00",
          "2022-11-04T12:00:00+00:00",
          "2022-11-08T13:00:00+00:00",
          "2022-11-08T16:00:00+00:00",
          "2022-11-09T11:00:00+00:00",
          "2022-11-10T13:00:00+00:00",
          "2022-11-14T14:00:00+00:00",
          "2022-11-15T07:00:00+00:00"
         ],
         "y": [
          -15.199999999999658,
          -34.699999999998624,
          -38.999999999997925,
          -70.19999999999804,
          -88.3999999999996,
          -89.20000000000039,
          -86.69999999999955,
          -117.09999999999886,
          -121.99999999999987,
          -138.59999999999982,
          -95.39999999999881,
          -93.99999999999852,
          -88.89999999999841,
          -109.59999999999857,
          -179.0999999999987,
          -192.99999999999872,
          -152.39999999999918,
          -161.89999999999924,
          -183.69999999999993,
          -169.20000000000041,
          338.1999999999996,
          339.39999999999856,
          319.1999999999972,
          258.39999999999634,
          264.1999999999966,
          269.9999999999968,
          236.3999999999965,
          195.09999999999684,
          66.79999999999788,
          -155.90000000000222,
          -95.40000000000333,
          -106.00000000000394,
          -127.60000000000333,
          -204.80000000000283,
          -153.800000000004,
          -197.4000000000054,
          -251.6000000000052,
          -68.60000000000537,
          -90.20000000000698,
          -35.60000000000678,
          -135.60000000000466,
          -103.80000000000283,
          -42.10000000000274,
          -74.80000000000379,
          -105.70000000000417,
          -159.00000000000472,
          -250.60000000000528,
          -307.1000000000046,
          116.99999999999596,
          187.89999999999637,
          108.8999999999962,
          88.19999999999604,
          64.4999999999962,
          -24.80000000000483,
          -114.6000000000047,
          -121.60000000000393,
          -129.20000000000488,
          -104.6000000000058,
          -89.1000000000064,
          -98.20000000000607,
          4.599999999994594,
          -28.2000000000049,
          9.599999999996264,
          29.699999999996937,
          19.799999999996473,
          -22.60000000000374,
          111.79999999999742,
          118.39999999999847,
          49.79999999999981,
          16.300000000000175,
          105.1999999999986,
          69.9999999999967,
          99.39999999999613,
          238.19999999999726,
          216.19999999999746,
          148.99999999999687,
          36.19999999999732,
          -34.00000000000294,
          -90.60000000000292,
          -118.30000000000231,
          -168.6000000000032,
          -56.20000000000404,
          -71.60000000000501,
          -57.60000000000655,
          -47.20000000000725,
          -142.80000000000737,
          -214.8000000000083,
          -231.9000000000093,
          -208.20000000000948,
          -246.80000000000922,
          -294.400000000008,
          -352.00000000000784,
          -408.00000000000836,
          -341.60000000000855,
          -246.5000000000095,
          -297.60000000000895,
          -105.30000000000814,
          -185.20000000000755,
          -247.60000000000778,
          -278.2000000000084,
          -265.4000000000089,
          -303.1000000000094,
          -271.00000000001006,
          -341.800000000012,
          -274.50000000001296,
          -345.20000000001204,
          -347.60000000001224,
          -348.60000000001213,
          -371.8000000000109,
          -407.1000000000113,
          -457.4000000000122,
          -443.9000000000126,
          -441.100000000012,
          -483.2000000000125,
          -399.00000000001376,
          -452.2000000000137,
          -333.4000000000126,
          -348.0000000000128,
          142.59999999998598,
          72.89999999998678,
          -117.10000000001229,
          334.599999999987,
          583.0999999999874,
          484.1999999999879,
          421.39999999998724,
          564.7999999999874,
          487.79999999998705,
          528.999999999986,
          500.2999999999867,
          434.59999999998706,
          383.3999999999869,
          267.2999999999879,
          172.19999999998885,
          149.79999999998864,
          65.5999999999877,
          280.19999999998805,
          270.79999999998864,
          224.0999999999891,
          230.9999999999899,
          180.69999999998902,
          153.79999999998822,
          141.0999999999894,
          371.49999999999113,
          550.1999999999916,
          403.79999999999177,
          274.19999999999317,
          129.1999999999936,
          255.7999999999925,
          159.5999999999929,
          135.39999999999424
         ]
        }
       ],
       "layout": {
        "font": {
         "color": "#3d825f",
         "size": 10
        },
        "height": 400,
        "margin": {
         "b": 10,
         "l": 15,
         "r": 15
        },
        "paper_bgcolor": "#1e1e1e",
        "plot_bgcolor": "#1e1e1e",
        "template": {
         "data": {
          "bar": [
           {
            "error_x": {
             "color": "#2a3f5f"
            },
            "error_y": {
             "color": "#2a3f5f"
            },
            "marker": {
             "line": {
              "color": "#E5ECF6",
              "width": 0.5
             },
             "pattern": {
              "fillmode": "overlay",
              "size": 10,
              "solidity": 0.2
             }
            },
            "type": "bar"
           }
          ],
          "barpolar": [
           {
            "marker": {
             "line": {
              "color": "#E5ECF6",
              "width": 0.5
             },
             "pattern": {
              "fillmode": "overlay",
              "size": 10,
              "solidity": 0.2
             }
            },
            "type": "barpolar"
           }
          ],
          "carpet": [
           {
            "aaxis": {
             "endlinecolor": "#2a3f5f",
             "gridcolor": "white",
             "linecolor": "white",
             "minorgridcolor": "white",
             "startlinecolor": "#2a3f5f"
            },
            "baxis": {
             "endlinecolor": "#2a3f5f",
             "gridcolor": "white",
             "linecolor": "white",
             "minorgridcolor": "white",
             "startlinecolor": "#2a3f5f"
            },
            "type": "carpet"
           }
          ],
          "choropleth": [
           {
            "colorbar": {
             "outlinewidth": 0,
             "ticks": ""
            },
            "type": "choropleth"
           }
          ],
          "contour": [
           {
            "colorbar": {
             "outlinewidth": 0,
             "ticks": ""
            },
            "colorscale": [
             [
              0,
              "#0d0887"
             ],
             [
              0.1111111111111111,
              "#46039f"
             ],
             [
              0.2222222222222222,
              "#7201a8"
             ],
             [
              0.3333333333333333,
              "#9c179e"
             ],
             [
              0.4444444444444444,
              "#bd3786"
             ],
             [
              0.5555555555555556,
              "#d8576b"
             ],
             [
              0.6666666666666666,
              "#ed7953"
             ],
             [
              0.7777777777777778,
              "#fb9f3a"
             ],
             [
              0.8888888888888888,
              "#fdca26"
             ],
             [
              1,
              "#f0f921"
             ]
            ],
            "type": "contour"
           }
          ],
          "contourcarpet": [
           {
            "colorbar": {
             "outlinewidth": 0,
             "ticks": ""
            },
            "type": "contourcarpet"
           }
          ],
          "heatmap": [
           {
            "colorbar": {
             "outlinewidth": 0,
             "ticks": ""
            },
            "colorscale": [
             [
              0,
              "#0d0887"
             ],
             [
              0.1111111111111111,
              "#46039f"
             ],
             [
              0.2222222222222222,
              "#7201a8"
             ],
             [
              0.3333333333333333,
              "#9c179e"
             ],
             [
              0.4444444444444444,
              "#bd3786"
             ],
             [
              0.5555555555555556,
              "#d8576b"
             ],
             [
              0.6666666666666666,
              "#ed7953"
             ],
             [
              0.7777777777777778,
              "#fb9f3a"
             ],
             [
              0.8888888888888888,
              "#fdca26"
             ],
             [
              1,
              "#f0f921"
             ]
            ],
            "type": "heatmap"
           }
          ],
          "heatmapgl": [
           {
            "colorbar": {
             "outlinewidth": 0,
             "ticks": ""
            },
            "colorscale": [
             [
              0,
              "#0d0887"
             ],
             [
              0.1111111111111111,
              "#46039f"
             ],
             [
              0.2222222222222222,
              "#7201a8"
             ],
             [
              0.3333333333333333,
              "#9c179e"
             ],
             [
              0.4444444444444444,
              "#bd3786"
             ],
             [
              0.5555555555555556,
              "#d8576b"
             ],
             [
              0.6666666666666666,
              "#ed7953"
             ],
             [
              0.7777777777777778,
              "#fb9f3a"
             ],
             [
              0.8888888888888888,
              "#fdca26"
             ],
             [
              1,
              "#f0f921"
             ]
            ],
            "type": "heatmapgl"
           }
          ],
          "histogram": [
           {
            "marker": {
             "pattern": {
              "fillmode": "overlay",
              "size": 10,
              "solidity": 0.2
             }
            },
            "type": "histogram"
           }
          ],
          "histogram2d": [
           {
            "colorbar": {
             "outlinewidth": 0,
             "ticks": ""
            },
            "colorscale": [
             [
              0,
              "#0d0887"
             ],
             [
              0.1111111111111111,
              "#46039f"
             ],
             [
              0.2222222222222222,
              "#7201a8"
             ],
             [
              0.3333333333333333,
              "#9c179e"
             ],
             [
              0.4444444444444444,
              "#bd3786"
             ],
             [
              0.5555555555555556,
              "#d8576b"
             ],
             [
              0.6666666666666666,
              "#ed7953"
             ],
             [
              0.7777777777777778,
              "#fb9f3a"
             ],
             [
              0.8888888888888888,
              "#fdca26"
             ],
             [
              1,
              "#f0f921"
             ]
            ],
            "type": "histogram2d"
           }
          ],
          "histogram2dcontour": [
           {
            "colorbar": {
             "outlinewidth": 0,
             "ticks": ""
            },
            "colorscale": [
             [
              0,
              "#0d0887"
             ],
             [
              0.1111111111111111,
              "#46039f"
             ],
             [
              0.2222222222222222,
              "#7201a8"
             ],
             [
              0.3333333333333333,
              "#9c179e"
             ],
             [
              0.4444444444444444,
              "#bd3786"
             ],
             [
              0.5555555555555556,
              "#d8576b"
             ],
             [
              0.6666666666666666,
              "#ed7953"
             ],
             [
              0.7777777777777778,
              "#fb9f3a"
             ],
             [
              0.8888888888888888,
              "#fdca26"
             ],
             [
              1,
              "#f0f921"
             ]
            ],
            "type": "histogram2dcontour"
           }
          ],
          "mesh3d": [
           {
            "colorbar": {
             "outlinewidth": 0,
             "ticks": ""
            },
            "type": "mesh3d"
           }
          ],
          "parcoords": [
           {
            "line": {
             "colorbar": {
              "outlinewidth": 0,
              "ticks": ""
             }
            },
            "type": "parcoords"
           }
          ],
          "pie": [
           {
            "automargin": true,
            "type": "pie"
           }
          ],
          "scatter": [
           {
            "fillpattern": {
             "fillmode": "overlay",
             "size": 10,
             "solidity": 0.2
            },
            "type": "scatter"
           }
          ],
          "scatter3d": [
           {
            "line": {
             "colorbar": {
              "outlinewidth": 0,
              "ticks": ""
             }
            },
            "marker": {
             "colorbar": {
              "outlinewidth": 0,
              "ticks": ""
             }
            },
            "type": "scatter3d"
           }
          ],
          "scattercarpet": [
           {
            "marker": {
             "colorbar": {
              "outlinewidth": 0,
              "ticks": ""
             }
            },
            "type": "scattercarpet"
           }
          ],
          "scattergeo": [
           {
            "marker": {
             "colorbar": {
              "outlinewidth": 0,
              "ticks": ""
             }
            },
            "type": "scattergeo"
           }
          ],
          "scattergl": [
           {
            "marker": {
             "colorbar": {
              "outlinewidth": 0,
              "ticks": ""
             }
            },
            "type": "scattergl"
           }
          ],
          "scattermapbox": [
           {
            "marker": {
             "colorbar": {
              "outlinewidth": 0,
              "ticks": ""
             }
            },
            "type": "scattermapbox"
           }
          ],
          "scatterpolar": [
           {
            "marker": {
             "colorbar": {
              "outlinewidth": 0,
              "ticks": ""
             }
            },
            "type": "scatterpolar"
           }
          ],
          "scatterpolargl": [
           {
            "marker": {
             "colorbar": {
              "outlinewidth": 0,
              "ticks": ""
             }
            },
            "type": "scatterpolargl"
           }
          ],
          "scatterternary": [
           {
            "marker": {
             "colorbar": {
              "outlinewidth": 0,
              "ticks": ""
             }
            },
            "type": "scatterternary"
           }
          ],
          "surface": [
           {
            "colorbar": {
             "outlinewidth": 0,
             "ticks": ""
            },
            "colorscale": [
             [
              0,
              "#0d0887"
             ],
             [
              0.1111111111111111,
              "#46039f"
             ],
             [
              0.2222222222222222,
              "#7201a8"
             ],
             [
              0.3333333333333333,
              "#9c179e"
             ],
             [
              0.4444444444444444,
              "#bd3786"
             ],
             [
              0.5555555555555556,
              "#d8576b"
             ],
             [
              0.6666666666666666,
              "#ed7953"
             ],
             [
              0.7777777777777778,
              "#fb9f3a"
             ],
             [
              0.8888888888888888,
              "#fdca26"
             ],
             [
              1,
              "#f0f921"
             ]
            ],
            "type": "surface"
           }
          ],
          "table": [
           {
            "cells": {
             "fill": {
              "color": "#EBF0F8"
             },
             "line": {
              "color": "white"
             }
            },
            "header": {
             "fill": {
              "color": "#C8D4E3"
             },
             "line": {
              "color": "white"
             }
            },
            "type": "table"
           }
          ]
         },
         "layout": {
          "annotationdefaults": {
           "arrowcolor": "#2a3f5f",
           "arrowhead": 0,
           "arrowwidth": 1
          },
          "autotypenumbers": "strict",
          "coloraxis": {
           "colorbar": {
            "outlinewidth": 0,
            "ticks": ""
           }
          },
          "colorscale": {
           "diverging": [
            [
             0,
             "#8e0152"
            ],
            [
             0.1,
             "#c51b7d"
            ],
            [
             0.2,
             "#de77ae"
            ],
            [
             0.3,
             "#f1b6da"
            ],
            [
             0.4,
             "#fde0ef"
            ],
            [
             0.5,
             "#f7f7f7"
            ],
            [
             0.6,
             "#e6f5d0"
            ],
            [
             0.7,
             "#b8e186"
            ],
            [
             0.8,
             "#7fbc41"
            ],
            [
             0.9,
             "#4d9221"
            ],
            [
             1,
             "#276419"
            ]
           ],
           "sequential": [
            [
             0,
             "#0d0887"
            ],
            [
             0.1111111111111111,
             "#46039f"
            ],
            [
             0.2222222222222222,
             "#7201a8"
            ],
            [
             0.3333333333333333,
             "#9c179e"
            ],
            [
             0.4444444444444444,
             "#bd3786"
            ],
            [
             0.5555555555555556,
             "#d8576b"
            ],
            [
             0.6666666666666666,
             "#ed7953"
            ],
            [
             0.7777777777777778,
             "#fb9f3a"
            ],
            [
             0.8888888888888888,
             "#fdca26"
            ],
            [
             1,
             "#f0f921"
            ]
           ],
           "sequentialminus": [
            [
             0,
             "#0d0887"
            ],
            [
             0.1111111111111111,
             "#46039f"
            ],
            [
             0.2222222222222222,
             "#7201a8"
            ],
            [
             0.3333333333333333,
             "#9c179e"
            ],
            [
             0.4444444444444444,
             "#bd3786"
            ],
            [
             0.5555555555555556,
             "#d8576b"
            ],
            [
             0.6666666666666666,
             "#ed7953"
            ],
            [
             0.7777777777777778,
             "#fb9f3a"
            ],
            [
             0.8888888888888888,
             "#fdca26"
            ],
            [
             1,
             "#f0f921"
            ]
           ]
          },
          "colorway": [
           "#636efa",
           "#EF553B",
           "#00cc96",
           "#ab63fa",
           "#FFA15A",
           "#19d3f3",
           "#FF6692",
           "#B6E880",
           "#FF97FF",
           "#FECB52"
          ],
          "font": {
           "color": "#2a3f5f"
          },
          "geo": {
           "bgcolor": "white",
           "lakecolor": "white",
           "landcolor": "#E5ECF6",
           "showlakes": true,
           "showland": true,
           "subunitcolor": "white"
          },
          "hoverlabel": {
           "align": "left"
          },
          "hovermode": "closest",
          "mapbox": {
           "style": "light"
          },
          "paper_bgcolor": "white",
          "plot_bgcolor": "#E5ECF6",
          "polar": {
           "angularaxis": {
            "gridcolor": "white",
            "linecolor": "white",
            "ticks": ""
           },
           "bgcolor": "#E5ECF6",
           "radialaxis": {
            "gridcolor": "white",
            "linecolor": "white",
            "ticks": ""
           }
          },
          "scene": {
           "xaxis": {
            "backgroundcolor": "#E5ECF6",
            "gridcolor": "white",
            "gridwidth": 2,
            "linecolor": "white",
            "showbackground": true,
            "ticks": "",
            "zerolinecolor": "white"
           },
           "yaxis": {
            "backgroundcolor": "#E5ECF6",
            "gridcolor": "white",
            "gridwidth": 2,
            "linecolor": "white",
            "showbackground": true,
            "ticks": "",
            "zerolinecolor": "white"
           },
           "zaxis": {
            "backgroundcolor": "#E5ECF6",
            "gridcolor": "white",
            "gridwidth": 2,
            "linecolor": "white",
            "showbackground": true,
            "ticks": "",
            "zerolinecolor": "white"
           }
          },
          "shapedefaults": {
           "line": {
            "color": "#2a3f5f"
           }
          },
          "ternary": {
           "aaxis": {
            "gridcolor": "white",
            "linecolor": "white",
            "ticks": ""
           },
           "baxis": {
            "gridcolor": "white",
            "linecolor": "white",
            "ticks": ""
           },
           "bgcolor": "#E5ECF6",
           "caxis": {
            "gridcolor": "white",
            "linecolor": "white",
            "ticks": ""
           }
          },
          "title": {
           "x": 0.05
          },
          "xaxis": {
           "automargin": true,
           "gridcolor": "white",
           "linecolor": "white",
           "ticks": "",
           "title": {
            "standoff": 15
           },
           "zerolinecolor": "white",
           "zerolinewidth": 2
          },
          "yaxis": {
           "automargin": true,
           "gridcolor": "white",
           "linecolor": "white",
           "ticks": "",
           "title": {
            "standoff": 15
           },
           "zerolinecolor": "white",
           "zerolinewidth": 2
          }
         }
        },
        "title": {
         "text": "GBP_USD_ma_8_32"
        },
        "width": 1000,
        "xaxis": {
         "linecolor": "#3a4a54",
         "linewidth": 1,
         "showgrid": false,
         "zeroline": false
        },
        "yaxis": {
         "linecolor": "#3a4a54",
         "linewidth": 1,
         "showgrid": false,
         "zeroline": false
        }
       }
      }
     },
     "metadata": {},
     "output_type": "display_data"
    },
    {
     "data": {
      "application/vnd.plotly.v1+json": {
       "config": {
        "plotlyServerURL": "https://plot.ly"
       },
       "data": [
        {
         "line": {
          "color": "#3d825f",
          "shape": "spline",
          "width": 2
         },
         "mode": "lines",
         "name": "GBP_CAD_ma_8_32",
         "type": "scatter",
         "x": [
          "2022-04-01T06:00:00+00:00",
          "2022-04-04T05:00:00+00:00",
          "2022-04-04T07:00:00+00:00",
          "2022-04-06T09:00:00+00:00",
          "2022-04-08T08:00:00+00:00",
          "2022-04-11T10:00:00+00:00",
          "2022-04-12T15:00:00+00:00",
          "2022-04-13T12:00:00+00:00",
          "2022-04-14T14:00:00+00:00",
          "2022-04-14T21:00:00+00:00",
          "2022-04-15T04:00:00+00:00",
          "2022-04-15T18:00:00+00:00",
          "2022-04-17T21:00:00+00:00",
          "2022-04-19T15:00:00+00:00",
          "2022-04-20T08:00:00+00:00",
          "2022-04-21T17:00:00+00:00",
          "2022-04-22T12:00:00+00:00",
          "2022-04-29T12:00:00+00:00",
          "2022-05-02T19:00:00+00:00",
          "2022-05-04T21:00:00+00:00",
          "2022-05-05T06:00:00+00:00",
          "2022-05-06T16:00:00+00:00",
          "2022-05-10T16:00:00+00:00",
          "2022-05-10T20:00:00+00:00",
          "2022-05-11T00:00:00+00:00",
          "2022-05-11T09:00:00+00:00",
          "2022-05-11T10:00:00+00:00",
          "2022-05-16T07:00:00+00:00",
          "2022-05-16T09:00:00+00:00",
          "2022-05-17T06:00:00+00:00",
          "2022-05-18T10:00:00+00:00",
          "2022-05-19T13:00:00+00:00",
          "2022-05-20T12:00:00+00:00",
          "2022-05-20T15:00:00+00:00",
          "2022-05-24T09:00:00+00:00",
          "2022-05-24T20:00:00+00:00",
          "2022-05-26T17:00:00+00:00",
          "2022-05-27T04:00:00+00:00",
          "2022-05-27T08:00:00+00:00",
          "2022-06-02T11:00:00+00:00",
          "2022-06-02T19:00:00+00:00",
          "2022-06-06T11:00:00+00:00",
          "2022-06-07T05:00:00+00:00",
          "2022-06-07T16:00:00+00:00",
          "2022-06-08T08:00:00+00:00",
          "2022-06-09T12:00:00+00:00",
          "2022-06-10T15:00:00+00:00",
          "2022-06-14T07:00:00+00:00",
          "2022-06-14T11:00:00+00:00",
          "2022-06-15T10:00:00+00:00",
          "2022-06-17T18:00:00+00:00",
          "2022-06-20T16:00:00+00:00",
          "2022-06-20T19:00:00+00:00",
          "2022-06-22T11:00:00+00:00",
          "2022-06-23T07:00:00+00:00",
          "2022-06-23T17:00:00+00:00",
          "2022-06-24T16:00:00+00:00",
          "2022-06-30T08:00:00+00:00",
          "2022-07-01T07:00:00+00:00",
          "2022-07-04T12:00:00+00:00",
          "2022-07-04T21:00:00+00:00",
          "2022-07-05T19:00:00+00:00",
          "2022-07-06T11:00:00+00:00",
          "2022-07-07T09:00:00+00:00",
          "2022-07-08T11:00:00+00:00",
          "2022-07-12T18:00:00+00:00",
          "2022-07-13T16:00:00+00:00",
          "2022-07-14T11:00:00+00:00",
          "2022-07-15T12:00:00+00:00",
          "2022-07-18T09:00:00+00:00",
          "2022-07-19T06:00:00+00:00",
          "2022-07-19T07:00:00+00:00",
          "2022-07-19T18:00:00+00:00",
          "2022-07-21T23:00:00+00:00",
          "2022-07-22T07:00:00+00:00",
          "2022-07-22T16:00:00+00:00",
          "2022-07-25T19:00:00+00:00",
          "2022-07-26T18:00:00+00:00",
          "2022-07-28T16:00:00+00:00",
          "2022-07-28T18:00:00+00:00",
          "2022-07-29T15:00:00+00:00",
          "2022-07-31T22:00:00+00:00",
          "2022-07-31T23:00:00+00:00",
          "2022-08-01T03:00:00+00:00",
          "2022-08-02T13:00:00+00:00",
          "2022-08-04T20:00:00+00:00",
          "2022-08-05T16:00:00+00:00",
          "2022-08-09T12:00:00+00:00",
          "2022-08-11T05:00:00+00:00",
          "2022-08-15T09:00:00+00:00",
          "2022-08-16T05:00:00+00:00",
          "2022-08-17T03:00:00+00:00",
          "2022-08-17T21:00:00+00:00",
          "2022-08-18T00:00:00+00:00",
          "2022-08-18T05:00:00+00:00",
          "2022-08-24T09:00:00+00:00",
          "2022-08-24T10:00:00+00:00",
          "2022-08-25T22:00:00+00:00",
          "2022-08-26T07:00:00+00:00",
          "2022-08-26T14:00:00+00:00",
          "2022-08-29T00:00:00+00:00",
          "2022-08-30T15:00:00+00:00",
          "2022-08-31T12:00:00+00:00",
          "2022-09-01T08:00:00+00:00",
          "2022-09-01T14:00:00+00:00",
          "2022-09-05T15:00:00+00:00",
          "2022-09-06T17:00:00+00:00",
          "2022-09-07T23:00:00+00:00",
          "2022-09-08T04:00:00+00:00",
          "2022-09-08T15:00:00+00:00",
          "2022-09-08T16:00:00+00:00",
          "2022-09-09T07:00:00+00:00",
          "2022-09-13T14:00:00+00:00",
          "2022-09-14T08:00:00+00:00",
          "2022-09-15T05:00:00+00:00",
          "2022-09-16T02:00:00+00:00",
          "2022-09-16T07:00:00+00:00",
          "2022-09-19T17:00:00+00:00",
          "2022-09-21T09:00:00+00:00",
          "2022-09-22T06:00:00+00:00",
          "2022-09-22T21:00:00+00:00",
          "2022-09-26T15:00:00+00:00",
          "2022-09-27T19:00:00+00:00",
          "2022-09-28T18:00:00+00:00",
          "2022-10-05T05:00:00+00:00",
          "2022-10-05T08:00:00+00:00",
          "2022-10-05T10:00:00+00:00",
          "2022-10-10T22:00:00+00:00",
          "2022-10-11T21:00:00+00:00",
          "2022-10-12T13:00:00+00:00",
          "2022-10-14T13:00:00+00:00",
          "2022-10-17T00:00:00+00:00",
          "2022-10-18T02:00:00+00:00",
          "2022-10-18T22:00:00+00:00",
          "2022-10-19T08:00:00+00:00",
          "2022-10-20T18:00:00+00:00",
          "2022-10-21T06:00:00+00:00",
          "2022-10-23T22:00:00+00:00",
          "2022-10-24T22:00:00+00:00",
          "2022-10-25T10:00:00+00:00",
          "2022-10-27T14:00:00+00:00",
          "2022-10-28T13:00:00+00:00",
          "2022-10-31T14:00:00+00:00",
          "2022-11-01T19:00:00+00:00",
          "2022-11-02T11:00:00+00:00",
          "2022-11-07T01:00:00+00:00",
          "2022-11-08T13:00:00+00:00",
          "2022-11-08T22:00:00+00:00",
          "2022-11-08T23:00:00+00:00",
          "2022-11-09T08:00:00+00:00",
          "2022-11-09T09:00:00+00:00",
          "2022-11-10T07:00:00+00:00",
          "2022-11-14T06:00:00+00:00",
          "2022-11-14T12:00:00+00:00",
          "2022-11-14T15:00:00+00:00"
         ],
         "y": [
          12.600000000000389,
          -9.799999999999809,
          24.699999999999722,
          89.39999999999948,
          96.19999999999962,
          105.99999999999943,
          76.1999999999996,
          76.30000000000027,
          48.300000000001134,
          39.100000000003035,
          41.20000000000347,
          33.00000000000304,
          84.00000000000409,
          39.6000000000041,
          23.000000000004153,
          -37.199999999994986,
          329.9000000000052,
          449.5000000000049,
          430.0000000000037,
          299.80000000000337,
          354.0000000000032,
          498.200000000002,
          511.9000000000007,
          514.6000000000006,
          521.3000000000001,
          481.0999999999987,
          662.999999999998,
          669.8999999999966,
          613.199999999996,
          644.3999999999961,
          573.199999999996,
          553.7999999999954,
          485.3999999999936,
          442.3999999999917,
          362.3999999999916,
          371.59999999999195,
          323.5999999999906,
          270.5999999999898,
          463.79999999998984,
          397.19999999998873,
          433.7999999999887,
          359.8999999999886,
          276.3999999999878,
          209.29999999998788,
          165.29999999998827,
          159.39999999998957,
          215.19999999999098,
          125.99999999999281,
          113.59999999999373,
          392.4999999999934,
          382.19999999999254,
          386.39999999999117,
          421.8999999999906,
          340.6999999999915,
          243.2999999999929,
          189.79999999999325,
          356.39999999999225,
          329.39999999999077,
          356.7999999999904,
          290.29999999998995,
          262.39999999998923,
          180.8999999999882,
          85.69999999998626,
          68.4999999999846,
          175.39999999998327,
          134.59999999998243,
          34.599999999982344,
          -41.300000000017505,
          -111.70000000001686,
          -135.60000000001577,
          -181.00000000001566,
          -282.7000000000158,
          -282.2000000000147,
          -367.70000000001306,
          -483.20000000001255,
          -492.60000000001196,
          -531.4000000000108,
          -466.80000000000945,
          -473.4000000000083,
          -457.4000000000078,
          -454.7000000000079,
          -456.40000000000794,
          -466.10000000000707,
          -355.20000000000664,
          -281.2000000000059,
          -308.8000000000046,
          -271.1000000000041,
          -257.40000000000316,
          -239.8000000000033,
          -271.8000000000042,
          -291.40000000000384,
          -289.40000000000407,
          -301.60000000000406,
          -326.60000000000355,
          -98.60000000000426,
          -113.40000000000573,
          -116.30000000000697,
          -153.8000000000084,
          -200.10000000000974,
          -260.4000000000095,
          -251.8000000000087,
          -240.2000000000082,
          -281.60000000000855,
          -394.4000000000081,
          -336.50000000000625,
          -320.20000000000607,
          -303.80000000000746,
          -331.6000000000075,
          -297.40000000000776,
          -307.8000000000093,
          -372.00000000001023,
          -356.8000000000106,
          -410.0000000000105,
          -424.2000000000103,
          -419.5000000000106,
          -481.40000000001197,
          -525.6000000000129,
          -519.4000000000123,
          -549.6000000000125,
          -559.0000000000142,
          -86.80000000001604,
          -77.40000000001663,
          -201.4000000000163,
          430.99999999998334,
          410.39999999998383,
          357.59999999998433,
          558.8999999999842,
          455.9999999999851,
          359.29999999998665,
          584.9999999999865,
          492.399999999986,
          514.3999999999858,
          525.1999999999855,
          467.39999999998656,
          521.5999999999864,
          494.1999999999845,
          448.2999999999836,
          465.9999999999841,
          381.9999999999844,
          465.9999999999841,
          396.19999999998424,
          363.8999999999836,
          410.1999999999827,
          406.99999999998397,
          729.3999999999844,
          854.7999999999844,
          783.899999999984,
          764.4999999999834,
          768.499999999983,
          673.3999999999817,
          651.9999999999814,
          830.4999999999806,
          738.9999999999807,
          616.7999999999818,
          526.8999999999812
         ]
        }
       ],
       "layout": {
        "font": {
         "color": "#3d825f",
         "size": 10
        },
        "height": 400,
        "margin": {
         "b": 10,
         "l": 15,
         "r": 15
        },
        "paper_bgcolor": "#1e1e1e",
        "plot_bgcolor": "#1e1e1e",
        "template": {
         "data": {
          "bar": [
           {
            "error_x": {
             "color": "#2a3f5f"
            },
            "error_y": {
             "color": "#2a3f5f"
            },
            "marker": {
             "line": {
              "color": "#E5ECF6",
              "width": 0.5
             },
             "pattern": {
              "fillmode": "overlay",
              "size": 10,
              "solidity": 0.2
             }
            },
            "type": "bar"
           }
          ],
          "barpolar": [
           {
            "marker": {
             "line": {
              "color": "#E5ECF6",
              "width": 0.5
             },
             "pattern": {
              "fillmode": "overlay",
              "size": 10,
              "solidity": 0.2
             }
            },
            "type": "barpolar"
           }
          ],
          "carpet": [
           {
            "aaxis": {
             "endlinecolor": "#2a3f5f",
             "gridcolor": "white",
             "linecolor": "white",
             "minorgridcolor": "white",
             "startlinecolor": "#2a3f5f"
            },
            "baxis": {
             "endlinecolor": "#2a3f5f",
             "gridcolor": "white",
             "linecolor": "white",
             "minorgridcolor": "white",
             "startlinecolor": "#2a3f5f"
            },
            "type": "carpet"
           }
          ],
          "choropleth": [
           {
            "colorbar": {
             "outlinewidth": 0,
             "ticks": ""
            },
            "type": "choropleth"
           }
          ],
          "contour": [
           {
            "colorbar": {
             "outlinewidth": 0,
             "ticks": ""
            },
            "colorscale": [
             [
              0,
              "#0d0887"
             ],
             [
              0.1111111111111111,
              "#46039f"
             ],
             [
              0.2222222222222222,
              "#7201a8"
             ],
             [
              0.3333333333333333,
              "#9c179e"
             ],
             [
              0.4444444444444444,
              "#bd3786"
             ],
             [
              0.5555555555555556,
              "#d8576b"
             ],
             [
              0.6666666666666666,
              "#ed7953"
             ],
             [
              0.7777777777777778,
              "#fb9f3a"
             ],
             [
              0.8888888888888888,
              "#fdca26"
             ],
             [
              1,
              "#f0f921"
             ]
            ],
            "type": "contour"
           }
          ],
          "contourcarpet": [
           {
            "colorbar": {
             "outlinewidth": 0,
             "ticks": ""
            },
            "type": "contourcarpet"
           }
          ],
          "heatmap": [
           {
            "colorbar": {
             "outlinewidth": 0,
             "ticks": ""
            },
            "colorscale": [
             [
              0,
              "#0d0887"
             ],
             [
              0.1111111111111111,
              "#46039f"
             ],
             [
              0.2222222222222222,
              "#7201a8"
             ],
             [
              0.3333333333333333,
              "#9c179e"
             ],
             [
              0.4444444444444444,
              "#bd3786"
             ],
             [
              0.5555555555555556,
              "#d8576b"
             ],
             [
              0.6666666666666666,
              "#ed7953"
             ],
             [
              0.7777777777777778,
              "#fb9f3a"
             ],
             [
              0.8888888888888888,
              "#fdca26"
             ],
             [
              1,
              "#f0f921"
             ]
            ],
            "type": "heatmap"
           }
          ],
          "heatmapgl": [
           {
            "colorbar": {
             "outlinewidth": 0,
             "ticks": ""
            },
            "colorscale": [
             [
              0,
              "#0d0887"
             ],
             [
              0.1111111111111111,
              "#46039f"
             ],
             [
              0.2222222222222222,
              "#7201a8"
             ],
             [
              0.3333333333333333,
              "#9c179e"
             ],
             [
              0.4444444444444444,
              "#bd3786"
             ],
             [
              0.5555555555555556,
              "#d8576b"
             ],
             [
              0.6666666666666666,
              "#ed7953"
             ],
             [
              0.7777777777777778,
              "#fb9f3a"
             ],
             [
              0.8888888888888888,
              "#fdca26"
             ],
             [
              1,
              "#f0f921"
             ]
            ],
            "type": "heatmapgl"
           }
          ],
          "histogram": [
           {
            "marker": {
             "pattern": {
              "fillmode": "overlay",
              "size": 10,
              "solidity": 0.2
             }
            },
            "type": "histogram"
           }
          ],
          "histogram2d": [
           {
            "colorbar": {
             "outlinewidth": 0,
             "ticks": ""
            },
            "colorscale": [
             [
              0,
              "#0d0887"
             ],
             [
              0.1111111111111111,
              "#46039f"
             ],
             [
              0.2222222222222222,
              "#7201a8"
             ],
             [
              0.3333333333333333,
              "#9c179e"
             ],
             [
              0.4444444444444444,
              "#bd3786"
             ],
             [
              0.5555555555555556,
              "#d8576b"
             ],
             [
              0.6666666666666666,
              "#ed7953"
             ],
             [
              0.7777777777777778,
              "#fb9f3a"
             ],
             [
              0.8888888888888888,
              "#fdca26"
             ],
             [
              1,
              "#f0f921"
             ]
            ],
            "type": "histogram2d"
           }
          ],
          "histogram2dcontour": [
           {
            "colorbar": {
             "outlinewidth": 0,
             "ticks": ""
            },
            "colorscale": [
             [
              0,
              "#0d0887"
             ],
             [
              0.1111111111111111,
              "#46039f"
             ],
             [
              0.2222222222222222,
              "#7201a8"
             ],
             [
              0.3333333333333333,
              "#9c179e"
             ],
             [
              0.4444444444444444,
              "#bd3786"
             ],
             [
              0.5555555555555556,
              "#d8576b"
             ],
             [
              0.6666666666666666,
              "#ed7953"
             ],
             [
              0.7777777777777778,
              "#fb9f3a"
             ],
             [
              0.8888888888888888,
              "#fdca26"
             ],
             [
              1,
              "#f0f921"
             ]
            ],
            "type": "histogram2dcontour"
           }
          ],
          "mesh3d": [
           {
            "colorbar": {
             "outlinewidth": 0,
             "ticks": ""
            },
            "type": "mesh3d"
           }
          ],
          "parcoords": [
           {
            "line": {
             "colorbar": {
              "outlinewidth": 0,
              "ticks": ""
             }
            },
            "type": "parcoords"
           }
          ],
          "pie": [
           {
            "automargin": true,
            "type": "pie"
           }
          ],
          "scatter": [
           {
            "fillpattern": {
             "fillmode": "overlay",
             "size": 10,
             "solidity": 0.2
            },
            "type": "scatter"
           }
          ],
          "scatter3d": [
           {
            "line": {
             "colorbar": {
              "outlinewidth": 0,
              "ticks": ""
             }
            },
            "marker": {
             "colorbar": {
              "outlinewidth": 0,
              "ticks": ""
             }
            },
            "type": "scatter3d"
           }
          ],
          "scattercarpet": [
           {
            "marker": {
             "colorbar": {
              "outlinewidth": 0,
              "ticks": ""
             }
            },
            "type": "scattercarpet"
           }
          ],
          "scattergeo": [
           {
            "marker": {
             "colorbar": {
              "outlinewidth": 0,
              "ticks": ""
             }
            },
            "type": "scattergeo"
           }
          ],
          "scattergl": [
           {
            "marker": {
             "colorbar": {
              "outlinewidth": 0,
              "ticks": ""
             }
            },
            "type": "scattergl"
           }
          ],
          "scattermapbox": [
           {
            "marker": {
             "colorbar": {
              "outlinewidth": 0,
              "ticks": ""
             }
            },
            "type": "scattermapbox"
           }
          ],
          "scatterpolar": [
           {
            "marker": {
             "colorbar": {
              "outlinewidth": 0,
              "ticks": ""
             }
            },
            "type": "scatterpolar"
           }
          ],
          "scatterpolargl": [
           {
            "marker": {
             "colorbar": {
              "outlinewidth": 0,
              "ticks": ""
             }
            },
            "type": "scatterpolargl"
           }
          ],
          "scatterternary": [
           {
            "marker": {
             "colorbar": {
              "outlinewidth": 0,
              "ticks": ""
             }
            },
            "type": "scatterternary"
           }
          ],
          "surface": [
           {
            "colorbar": {
             "outlinewidth": 0,
             "ticks": ""
            },
            "colorscale": [
             [
              0,
              "#0d0887"
             ],
             [
              0.1111111111111111,
              "#46039f"
             ],
             [
              0.2222222222222222,
              "#7201a8"
             ],
             [
              0.3333333333333333,
              "#9c179e"
             ],
             [
              0.4444444444444444,
              "#bd3786"
             ],
             [
              0.5555555555555556,
              "#d8576b"
             ],
             [
              0.6666666666666666,
              "#ed7953"
             ],
             [
              0.7777777777777778,
              "#fb9f3a"
             ],
             [
              0.8888888888888888,
              "#fdca26"
             ],
             [
              1,
              "#f0f921"
             ]
            ],
            "type": "surface"
           }
          ],
          "table": [
           {
            "cells": {
             "fill": {
              "color": "#EBF0F8"
             },
             "line": {
              "color": "white"
             }
            },
            "header": {
             "fill": {
              "color": "#C8D4E3"
             },
             "line": {
              "color": "white"
             }
            },
            "type": "table"
           }
          ]
         },
         "layout": {
          "annotationdefaults": {
           "arrowcolor": "#2a3f5f",
           "arrowhead": 0,
           "arrowwidth": 1
          },
          "autotypenumbers": "strict",
          "coloraxis": {
           "colorbar": {
            "outlinewidth": 0,
            "ticks": ""
           }
          },
          "colorscale": {
           "diverging": [
            [
             0,
             "#8e0152"
            ],
            [
             0.1,
             "#c51b7d"
            ],
            [
             0.2,
             "#de77ae"
            ],
            [
             0.3,
             "#f1b6da"
            ],
            [
             0.4,
             "#fde0ef"
            ],
            [
             0.5,
             "#f7f7f7"
            ],
            [
             0.6,
             "#e6f5d0"
            ],
            [
             0.7,
             "#b8e186"
            ],
            [
             0.8,
             "#7fbc41"
            ],
            [
             0.9,
             "#4d9221"
            ],
            [
             1,
             "#276419"
            ]
           ],
           "sequential": [
            [
             0,
             "#0d0887"
            ],
            [
             0.1111111111111111,
             "#46039f"
            ],
            [
             0.2222222222222222,
             "#7201a8"
            ],
            [
             0.3333333333333333,
             "#9c179e"
            ],
            [
             0.4444444444444444,
             "#bd3786"
            ],
            [
             0.5555555555555556,
             "#d8576b"
            ],
            [
             0.6666666666666666,
             "#ed7953"
            ],
            [
             0.7777777777777778,
             "#fb9f3a"
            ],
            [
             0.8888888888888888,
             "#fdca26"
            ],
            [
             1,
             "#f0f921"
            ]
           ],
           "sequentialminus": [
            [
             0,
             "#0d0887"
            ],
            [
             0.1111111111111111,
             "#46039f"
            ],
            [
             0.2222222222222222,
             "#7201a8"
            ],
            [
             0.3333333333333333,
             "#9c179e"
            ],
            [
             0.4444444444444444,
             "#bd3786"
            ],
            [
             0.5555555555555556,
             "#d8576b"
            ],
            [
             0.6666666666666666,
             "#ed7953"
            ],
            [
             0.7777777777777778,
             "#fb9f3a"
            ],
            [
             0.8888888888888888,
             "#fdca26"
            ],
            [
             1,
             "#f0f921"
            ]
           ]
          },
          "colorway": [
           "#636efa",
           "#EF553B",
           "#00cc96",
           "#ab63fa",
           "#FFA15A",
           "#19d3f3",
           "#FF6692",
           "#B6E880",
           "#FF97FF",
           "#FECB52"
          ],
          "font": {
           "color": "#2a3f5f"
          },
          "geo": {
           "bgcolor": "white",
           "lakecolor": "white",
           "landcolor": "#E5ECF6",
           "showlakes": true,
           "showland": true,
           "subunitcolor": "white"
          },
          "hoverlabel": {
           "align": "left"
          },
          "hovermode": "closest",
          "mapbox": {
           "style": "light"
          },
          "paper_bgcolor": "white",
          "plot_bgcolor": "#E5ECF6",
          "polar": {
           "angularaxis": {
            "gridcolor": "white",
            "linecolor": "white",
            "ticks": ""
           },
           "bgcolor": "#E5ECF6",
           "radialaxis": {
            "gridcolor": "white",
            "linecolor": "white",
            "ticks": ""
           }
          },
          "scene": {
           "xaxis": {
            "backgroundcolor": "#E5ECF6",
            "gridcolor": "white",
            "gridwidth": 2,
            "linecolor": "white",
            "showbackground": true,
            "ticks": "",
            "zerolinecolor": "white"
           },
           "yaxis": {
            "backgroundcolor": "#E5ECF6",
            "gridcolor": "white",
            "gridwidth": 2,
            "linecolor": "white",
            "showbackground": true,
            "ticks": "",
            "zerolinecolor": "white"
           },
           "zaxis": {
            "backgroundcolor": "#E5ECF6",
            "gridcolor": "white",
            "gridwidth": 2,
            "linecolor": "white",
            "showbackground": true,
            "ticks": "",
            "zerolinecolor": "white"
           }
          },
          "shapedefaults": {
           "line": {
            "color": "#2a3f5f"
           }
          },
          "ternary": {
           "aaxis": {
            "gridcolor": "white",
            "linecolor": "white",
            "ticks": ""
           },
           "baxis": {
            "gridcolor": "white",
            "linecolor": "white",
            "ticks": ""
           },
           "bgcolor": "#E5ECF6",
           "caxis": {
            "gridcolor": "white",
            "linecolor": "white",
            "ticks": ""
           }
          },
          "title": {
           "x": 0.05
          },
          "xaxis": {
           "automargin": true,
           "gridcolor": "white",
           "linecolor": "white",
           "ticks": "",
           "title": {
            "standoff": 15
           },
           "zerolinecolor": "white",
           "zerolinewidth": 2
          },
          "yaxis": {
           "automargin": true,
           "gridcolor": "white",
           "linecolor": "white",
           "ticks": "",
           "title": {
            "standoff": 15
           },
           "zerolinecolor": "white",
           "zerolinewidth": 2
          }
         }
        },
        "title": {
         "text": "GBP_CAD_ma_8_32"
        },
        "width": 1000,
        "xaxis": {
         "linecolor": "#3a4a54",
         "linewidth": 1,
         "showgrid": false,
         "zeroline": false
        },
        "yaxis": {
         "linecolor": "#3a4a54",
         "linewidth": 1,
         "showgrid": false,
         "zeroline": false
        }
       }
      }
     },
     "metadata": {},
     "output_type": "display_data"
    },
    {
     "data": {
      "application/vnd.plotly.v1+json": {
       "config": {
        "plotlyServerURL": "https://plot.ly"
       },
       "data": [
        {
         "line": {
          "color": "#3d825f",
          "shape": "spline",
          "width": 2
         },
         "mode": "lines",
         "name": "GBP_JPY_ma_8_32",
         "type": "scatter",
         "x": [
          "2022-03-31T03:00:00+00:00",
          "2022-03-31T09:00:00+00:00",
          "2022-04-01T01:00:00+00:00",
          "2022-04-05T04:00:00+00:00",
          "2022-04-05T08:00:00+00:00",
          "2022-04-06T21:00:00+00:00",
          "2022-04-07T11:00:00+00:00",
          "2022-04-08T07:00:00+00:00",
          "2022-04-08T18:00:00+00:00",
          "2022-04-12T12:00:00+00:00",
          "2022-04-13T05:00:00+00:00",
          "2022-04-14T17:00:00+00:00",
          "2022-04-14T21:00:00+00:00",
          "2022-04-18T04:00:00+00:00",
          "2022-04-18T19:00:00+00:00",
          "2022-04-20T10:00:00+00:00",
          "2022-04-21T03:00:00+00:00",
          "2022-04-21T23:00:00+00:00",
          "2022-04-22T02:00:00+00:00",
          "2022-04-22T04:00:00+00:00",
          "2022-04-27T16:00:00+00:00",
          "2022-04-29T19:00:00+00:00",
          "2022-05-01T22:00:00+00:00",
          "2022-05-02T14:00:00+00:00",
          "2022-05-03T13:00:00+00:00",
          "2022-05-03T15:00:00+00:00",
          "2022-05-04T21:00:00+00:00",
          "2022-05-05T06:00:00+00:00",
          "2022-05-08T21:00:00+00:00",
          "2022-05-09T03:00:00+00:00",
          "2022-05-09T10:00:00+00:00",
          "2022-05-09T19:00:00+00:00",
          "2022-05-11T05:00:00+00:00",
          "2022-05-11T11:00:00+00:00",
          "2022-05-11T13:00:00+00:00",
          "2022-05-11T16:00:00+00:00",
          "2022-05-13T06:00:00+00:00",
          "2022-05-18T08:00:00+00:00",
          "2022-05-19T17:00:00+00:00",
          "2022-05-24T08:00:00+00:00",
          "2022-05-25T14:00:00+00:00",
          "2022-05-26T12:00:00+00:00",
          "2022-05-26T15:00:00+00:00",
          "2022-05-31T11:00:00+00:00",
          "2022-05-31T13:00:00+00:00",
          "2022-06-01T19:00:00+00:00",
          "2022-06-02T10:00:00+00:00",
          "2022-06-06T01:00:00+00:00",
          "2022-06-06T08:00:00+00:00",
          "2022-06-09T07:00:00+00:00",
          "2022-06-09T21:00:00+00:00",
          "2022-06-09T22:00:00+00:00",
          "2022-06-15T13:00:00+00:00",
          "2022-06-16T10:00:00+00:00",
          "2022-06-16T19:00:00+00:00",
          "2022-06-20T08:00:00+00:00",
          "2022-06-20T09:00:00+00:00",
          "2022-06-22T07:00:00+00:00",
          "2022-06-22T20:00:00+00:00",
          "2022-06-23T00:00:00+00:00",
          "2022-06-24T09:00:00+00:00",
          "2022-06-27T04:00:00+00:00",
          "2022-06-27T08:00:00+00:00",
          "2022-06-28T19:00:00+00:00",
          "2022-07-04T07:00:00+00:00",
          "2022-07-05T11:00:00+00:00",
          "2022-07-06T21:00:00+00:00",
          "2022-07-08T08:00:00+00:00",
          "2022-07-08T16:00:00+00:00",
          "2022-07-11T16:00:00+00:00",
          "2022-07-13T03:00:00+00:00",
          "2022-07-15T10:00:00+00:00",
          "2022-07-15T19:00:00+00:00",
          "2022-07-19T05:00:00+00:00",
          "2022-07-19T09:00:00+00:00",
          "2022-07-20T13:00:00+00:00",
          "2022-07-21T06:00:00+00:00",
          "2022-07-21T09:00:00+00:00",
          "2022-07-21T10:00:00+00:00",
          "2022-07-21T11:00:00+00:00",
          "2022-07-21T12:00:00+00:00",
          "2022-07-21T13:00:00+00:00",
          "2022-07-25T11:00:00+00:00",
          "2022-07-26T11:00:00+00:00",
          "2022-07-26T21:00:00+00:00",
          "2022-07-28T05:00:00+00:00",
          "2022-08-02T18:00:00+00:00",
          "2022-08-04T14:00:00+00:00",
          "2022-08-05T14:00:00+00:00",
          "2022-08-08T18:00:00+00:00",
          "2022-08-09T09:00:00+00:00",
          "2022-08-10T02:00:00+00:00",
          "2022-08-11T21:00:00+00:00",
          "2022-08-12T14:00:00+00:00",
          "2022-08-16T10:00:00+00:00",
          "2022-08-18T01:00:00+00:00",
          "2022-08-22T04:00:00+00:00",
          "2022-08-22T09:00:00+00:00",
          "2022-08-23T14:00:00+00:00",
          "2022-08-24T05:00:00+00:00",
          "2022-08-24T20:00:00+00:00",
          "2022-08-25T15:00:00+00:00",
          "2022-08-26T08:00:00+00:00",
          "2022-08-26T20:00:00+00:00",
          "2022-08-29T05:00:00+00:00",
          "2022-08-30T11:00:00+00:00",
          "2022-09-01T02:00:00+00:00",
          "2022-09-01T11:00:00+00:00",
          "2022-09-01T18:00:00+00:00",
          "2022-09-02T19:00:00+00:00",
          "2022-09-05T14:00:00+00:00",
          "2022-09-08T09:00:00+00:00",
          "2022-09-09T00:00:00+00:00",
          "2022-09-09T09:00:00+00:00",
          "2022-09-12T00:00:00+00:00",
          "2022-09-13T10:00:00+00:00",
          "2022-09-13T13:00:00+00:00",
          "2022-09-13T15:00:00+00:00",
          "2022-09-15T10:00:00+00:00",
          "2022-09-15T11:00:00+00:00",
          "2022-09-19T14:00:00+00:00",
          "2022-09-20T19:00:00+00:00",
          "2022-09-26T15:00:00+00:00",
          "2022-09-27T19:00:00+00:00",
          "2022-09-28T17:00:00+00:00",
          "2022-10-05T11:00:00+00:00",
          "2022-10-10T23:00:00+00:00",
          "2022-10-11T05:00:00+00:00",
          "2022-10-11T14:00:00+00:00",
          "2022-10-11T22:00:00+00:00",
          "2022-10-12T10:00:00+00:00",
          "2022-10-14T16:00:00+00:00",
          "2022-10-17T00:00:00+00:00",
          "2022-10-18T12:00:00+00:00",
          "2022-10-18T23:00:00+00:00",
          "2022-10-19T08:00:00+00:00",
          "2022-10-20T13:00:00+00:00",
          "2022-10-21T07:00:00+00:00",
          "2022-10-24T02:00:00+00:00",
          "2022-10-24T20:00:00+00:00",
          "2022-10-25T13:00:00+00:00",
          "2022-10-27T04:00:00+00:00",
          "2022-10-28T07:00:00+00:00",
          "2022-10-31T17:00:00+00:00",
          "2022-11-04T16:00:00+00:00",
          "2022-11-08T12:00:00+00:00",
          "2022-11-14T10:00:00+00:00"
         ],
         "y": [
          -44.50000000000216,
          -112.80000000000427,
          -103.80000000000678,
          -139.5000000000067,
          -77.20000000000482,
          -114.50000000000387,
          -151.30000000000337,
          -189.50000000000387,
          -102.3000000000053,
          -141.70000000000584,
          -11.900000000005662,
          -4.4000000000067985,
          22.499999999990905,
          -0.6000000000113914,
          169.09999999998888,
          114.29999999999154,
          104.19999999999163,
          85.6999999999914,
          36.89999999999145,
          616.9999999999902,
          817.6999999999907,
          765.6999999999925,
          698.6999999999938,
          719.6999999999946,
          708.6999999999961,
          660.0999999999971,
          586.8999999999971,
          711.4999999999981,
          685.3999999999985,
          600.8999999999986,
          476.6999999999996,
          452.79999999999916,
          412.7999999999986,
          322.8999999999985,
          160.49999999999898,
          409.00000000000034,
          679.5000000000016,
          706.3000000000017,
          654.7000000000025,
          590.500000000003,
          592.900000000003,
          565.9000000000049,
          695.300000000006,
          624.5000000000061,
          666.0000000000053,
          633.5000000000036,
          658.5000000000036,
          524.3000000000052,
          765.6000000000063,
          651.6000000000076,
          649.300000000008,
          1190.5000000000086,
          1123.7000000000107,
          988.7000000000113,
          1173.7000000000107,
          1169.200000000012,
          1276.5000000000127,
          1187.5000000000114,
          1165.8000000000102,
          1240.2000000000103,
          1177.8000000000106,
          1099.10000000001,
          1073.100000000008,
          1250.5000000000082,
          1147.2000000000094,
          1265.9000000000106,
          1265.9000000000106,
          1098.900000000009,
          1059.7000000000094,
          1061.1000000000104,
          1157.7000000000112,
          1140.5000000000114,
          1210.1000000000113,
          1171.5000000000118,
          1168.5000000000118,
          1133.3000000000116,
          1122.2000000000126,
          1114.0000000000132,
          1078.3000000000134,
          1033.3000000000145,
          951.8000000000147,
          982.1000000000145,
          881.1000000000154,
          782.3000000000154,
          793.5000000000149,
          1094.900000000016,
          1033.600000000016,
          833.5000000000156,
          791.3000000000159,
          717.4000000000154,
          674.7000000000162,
          759.1000000000184,
          736.9000000000204,
          805.3000000000202,
          912.5000000000176,
          918.500000000015,
          841.300000000013,
          850.5000000000115,
          837.300000000011,
          799.5000000000124,
          772.7000000000123,
          764.100000000011,
          762.10000000001,
          723.9000000000095,
          723.7000000000086,
          752.3000000000087,
          692.6000000000107,
          617.5000000000102,
          578.7000000000097,
          546.5000000000094,
          913.8000000000096,
          854.9000000000098,
          755.6000000000103,
          672.9000000000104,
          758.8000000000085,
          758.700000000008,
          723.4000000000071,
          848.9000000000067,
          837.9000000000082,
          983.5000000000099,
          991.3000000000102,
          1891.3000000000102,
          1956.9000000000108,
          1802.2000000000112,
          2498.7000000000116,
          2734.100000000013,
          2671.3000000000147,
          2596.700000000014,
          2462.1000000000136,
          2247.100000000013,
          2628.2000000000107,
          2566.70000000001,
          2768.100000000011,
          2719.7000000000126,
          2623.900000000013,
          2590.9000000000115,
          2551.8000000000125,
          2530.700000000014,
          2496.400000000015,
          2331.900000000017,
          2306.900000000017,
          2319.3000000000166,
          2428.300000000017,
          2850.8000000000166,
          2981.1000000000163,
          3202.700000000017,
          3232.200000000019
         ]
        }
       ],
       "layout": {
        "font": {
         "color": "#3d825f",
         "size": 10
        },
        "height": 400,
        "margin": {
         "b": 10,
         "l": 15,
         "r": 15
        },
        "paper_bgcolor": "#1e1e1e",
        "plot_bgcolor": "#1e1e1e",
        "template": {
         "data": {
          "bar": [
           {
            "error_x": {
             "color": "#2a3f5f"
            },
            "error_y": {
             "color": "#2a3f5f"
            },
            "marker": {
             "line": {
              "color": "#E5ECF6",
              "width": 0.5
             },
             "pattern": {
              "fillmode": "overlay",
              "size": 10,
              "solidity": 0.2
             }
            },
            "type": "bar"
           }
          ],
          "barpolar": [
           {
            "marker": {
             "line": {
              "color": "#E5ECF6",
              "width": 0.5
             },
             "pattern": {
              "fillmode": "overlay",
              "size": 10,
              "solidity": 0.2
             }
            },
            "type": "barpolar"
           }
          ],
          "carpet": [
           {
            "aaxis": {
             "endlinecolor": "#2a3f5f",
             "gridcolor": "white",
             "linecolor": "white",
             "minorgridcolor": "white",
             "startlinecolor": "#2a3f5f"
            },
            "baxis": {
             "endlinecolor": "#2a3f5f",
             "gridcolor": "white",
             "linecolor": "white",
             "minorgridcolor": "white",
             "startlinecolor": "#2a3f5f"
            },
            "type": "carpet"
           }
          ],
          "choropleth": [
           {
            "colorbar": {
             "outlinewidth": 0,
             "ticks": ""
            },
            "type": "choropleth"
           }
          ],
          "contour": [
           {
            "colorbar": {
             "outlinewidth": 0,
             "ticks": ""
            },
            "colorscale": [
             [
              0,
              "#0d0887"
             ],
             [
              0.1111111111111111,
              "#46039f"
             ],
             [
              0.2222222222222222,
              "#7201a8"
             ],
             [
              0.3333333333333333,
              "#9c179e"
             ],
             [
              0.4444444444444444,
              "#bd3786"
             ],
             [
              0.5555555555555556,
              "#d8576b"
             ],
             [
              0.6666666666666666,
              "#ed7953"
             ],
             [
              0.7777777777777778,
              "#fb9f3a"
             ],
             [
              0.8888888888888888,
              "#fdca26"
             ],
             [
              1,
              "#f0f921"
             ]
            ],
            "type": "contour"
           }
          ],
          "contourcarpet": [
           {
            "colorbar": {
             "outlinewidth": 0,
             "ticks": ""
            },
            "type": "contourcarpet"
           }
          ],
          "heatmap": [
           {
            "colorbar": {
             "outlinewidth": 0,
             "ticks": ""
            },
            "colorscale": [
             [
              0,
              "#0d0887"
             ],
             [
              0.1111111111111111,
              "#46039f"
             ],
             [
              0.2222222222222222,
              "#7201a8"
             ],
             [
              0.3333333333333333,
              "#9c179e"
             ],
             [
              0.4444444444444444,
              "#bd3786"
             ],
             [
              0.5555555555555556,
              "#d8576b"
             ],
             [
              0.6666666666666666,
              "#ed7953"
             ],
             [
              0.7777777777777778,
              "#fb9f3a"
             ],
             [
              0.8888888888888888,
              "#fdca26"
             ],
             [
              1,
              "#f0f921"
             ]
            ],
            "type": "heatmap"
           }
          ],
          "heatmapgl": [
           {
            "colorbar": {
             "outlinewidth": 0,
             "ticks": ""
            },
            "colorscale": [
             [
              0,
              "#0d0887"
             ],
             [
              0.1111111111111111,
              "#46039f"
             ],
             [
              0.2222222222222222,
              "#7201a8"
             ],
             [
              0.3333333333333333,
              "#9c179e"
             ],
             [
              0.4444444444444444,
              "#bd3786"
             ],
             [
              0.5555555555555556,
              "#d8576b"
             ],
             [
              0.6666666666666666,
              "#ed7953"
             ],
             [
              0.7777777777777778,
              "#fb9f3a"
             ],
             [
              0.8888888888888888,
              "#fdca26"
             ],
             [
              1,
              "#f0f921"
             ]
            ],
            "type": "heatmapgl"
           }
          ],
          "histogram": [
           {
            "marker": {
             "pattern": {
              "fillmode": "overlay",
              "size": 10,
              "solidity": 0.2
             }
            },
            "type": "histogram"
           }
          ],
          "histogram2d": [
           {
            "colorbar": {
             "outlinewidth": 0,
             "ticks": ""
            },
            "colorscale": [
             [
              0,
              "#0d0887"
             ],
             [
              0.1111111111111111,
              "#46039f"
             ],
             [
              0.2222222222222222,
              "#7201a8"
             ],
             [
              0.3333333333333333,
              "#9c179e"
             ],
             [
              0.4444444444444444,
              "#bd3786"
             ],
             [
              0.5555555555555556,
              "#d8576b"
             ],
             [
              0.6666666666666666,
              "#ed7953"
             ],
             [
              0.7777777777777778,
              "#fb9f3a"
             ],
             [
              0.8888888888888888,
              "#fdca26"
             ],
             [
              1,
              "#f0f921"
             ]
            ],
            "type": "histogram2d"
           }
          ],
          "histogram2dcontour": [
           {
            "colorbar": {
             "outlinewidth": 0,
             "ticks": ""
            },
            "colorscale": [
             [
              0,
              "#0d0887"
             ],
             [
              0.1111111111111111,
              "#46039f"
             ],
             [
              0.2222222222222222,
              "#7201a8"
             ],
             [
              0.3333333333333333,
              "#9c179e"
             ],
             [
              0.4444444444444444,
              "#bd3786"
             ],
             [
              0.5555555555555556,
              "#d8576b"
             ],
             [
              0.6666666666666666,
              "#ed7953"
             ],
             [
              0.7777777777777778,
              "#fb9f3a"
             ],
             [
              0.8888888888888888,
              "#fdca26"
             ],
             [
              1,
              "#f0f921"
             ]
            ],
            "type": "histogram2dcontour"
           }
          ],
          "mesh3d": [
           {
            "colorbar": {
             "outlinewidth": 0,
             "ticks": ""
            },
            "type": "mesh3d"
           }
          ],
          "parcoords": [
           {
            "line": {
             "colorbar": {
              "outlinewidth": 0,
              "ticks": ""
             }
            },
            "type": "parcoords"
           }
          ],
          "pie": [
           {
            "automargin": true,
            "type": "pie"
           }
          ],
          "scatter": [
           {
            "fillpattern": {
             "fillmode": "overlay",
             "size": 10,
             "solidity": 0.2
            },
            "type": "scatter"
           }
          ],
          "scatter3d": [
           {
            "line": {
             "colorbar": {
              "outlinewidth": 0,
              "ticks": ""
             }
            },
            "marker": {
             "colorbar": {
              "outlinewidth": 0,
              "ticks": ""
             }
            },
            "type": "scatter3d"
           }
          ],
          "scattercarpet": [
           {
            "marker": {
             "colorbar": {
              "outlinewidth": 0,
              "ticks": ""
             }
            },
            "type": "scattercarpet"
           }
          ],
          "scattergeo": [
           {
            "marker": {
             "colorbar": {
              "outlinewidth": 0,
              "ticks": ""
             }
            },
            "type": "scattergeo"
           }
          ],
          "scattergl": [
           {
            "marker": {
             "colorbar": {
              "outlinewidth": 0,
              "ticks": ""
             }
            },
            "type": "scattergl"
           }
          ],
          "scattermapbox": [
           {
            "marker": {
             "colorbar": {
              "outlinewidth": 0,
              "ticks": ""
             }
            },
            "type": "scattermapbox"
           }
          ],
          "scatterpolar": [
           {
            "marker": {
             "colorbar": {
              "outlinewidth": 0,
              "ticks": ""
             }
            },
            "type": "scatterpolar"
           }
          ],
          "scatterpolargl": [
           {
            "marker": {
             "colorbar": {
              "outlinewidth": 0,
              "ticks": ""
             }
            },
            "type": "scatterpolargl"
           }
          ],
          "scatterternary": [
           {
            "marker": {
             "colorbar": {
              "outlinewidth": 0,
              "ticks": ""
             }
            },
            "type": "scatterternary"
           }
          ],
          "surface": [
           {
            "colorbar": {
             "outlinewidth": 0,
             "ticks": ""
            },
            "colorscale": [
             [
              0,
              "#0d0887"
             ],
             [
              0.1111111111111111,
              "#46039f"
             ],
             [
              0.2222222222222222,
              "#7201a8"
             ],
             [
              0.3333333333333333,
              "#9c179e"
             ],
             [
              0.4444444444444444,
              "#bd3786"
             ],
             [
              0.5555555555555556,
              "#d8576b"
             ],
             [
              0.6666666666666666,
              "#ed7953"
             ],
             [
              0.7777777777777778,
              "#fb9f3a"
             ],
             [
              0.8888888888888888,
              "#fdca26"
             ],
             [
              1,
              "#f0f921"
             ]
            ],
            "type": "surface"
           }
          ],
          "table": [
           {
            "cells": {
             "fill": {
              "color": "#EBF0F8"
             },
             "line": {
              "color": "white"
             }
            },
            "header": {
             "fill": {
              "color": "#C8D4E3"
             },
             "line": {
              "color": "white"
             }
            },
            "type": "table"
           }
          ]
         },
         "layout": {
          "annotationdefaults": {
           "arrowcolor": "#2a3f5f",
           "arrowhead": 0,
           "arrowwidth": 1
          },
          "autotypenumbers": "strict",
          "coloraxis": {
           "colorbar": {
            "outlinewidth": 0,
            "ticks": ""
           }
          },
          "colorscale": {
           "diverging": [
            [
             0,
             "#8e0152"
            ],
            [
             0.1,
             "#c51b7d"
            ],
            [
             0.2,
             "#de77ae"
            ],
            [
             0.3,
             "#f1b6da"
            ],
            [
             0.4,
             "#fde0ef"
            ],
            [
             0.5,
             "#f7f7f7"
            ],
            [
             0.6,
             "#e6f5d0"
            ],
            [
             0.7,
             "#b8e186"
            ],
            [
             0.8,
             "#7fbc41"
            ],
            [
             0.9,
             "#4d9221"
            ],
            [
             1,
             "#276419"
            ]
           ],
           "sequential": [
            [
             0,
             "#0d0887"
            ],
            [
             0.1111111111111111,
             "#46039f"
            ],
            [
             0.2222222222222222,
             "#7201a8"
            ],
            [
             0.3333333333333333,
             "#9c179e"
            ],
            [
             0.4444444444444444,
             "#bd3786"
            ],
            [
             0.5555555555555556,
             "#d8576b"
            ],
            [
             0.6666666666666666,
             "#ed7953"
            ],
            [
             0.7777777777777778,
             "#fb9f3a"
            ],
            [
             0.8888888888888888,
             "#fdca26"
            ],
            [
             1,
             "#f0f921"
            ]
           ],
           "sequentialminus": [
            [
             0,
             "#0d0887"
            ],
            [
             0.1111111111111111,
             "#46039f"
            ],
            [
             0.2222222222222222,
             "#7201a8"
            ],
            [
             0.3333333333333333,
             "#9c179e"
            ],
            [
             0.4444444444444444,
             "#bd3786"
            ],
            [
             0.5555555555555556,
             "#d8576b"
            ],
            [
             0.6666666666666666,
             "#ed7953"
            ],
            [
             0.7777777777777778,
             "#fb9f3a"
            ],
            [
             0.8888888888888888,
             "#fdca26"
            ],
            [
             1,
             "#f0f921"
            ]
           ]
          },
          "colorway": [
           "#636efa",
           "#EF553B",
           "#00cc96",
           "#ab63fa",
           "#FFA15A",
           "#19d3f3",
           "#FF6692",
           "#B6E880",
           "#FF97FF",
           "#FECB52"
          ],
          "font": {
           "color": "#2a3f5f"
          },
          "geo": {
           "bgcolor": "white",
           "lakecolor": "white",
           "landcolor": "#E5ECF6",
           "showlakes": true,
           "showland": true,
           "subunitcolor": "white"
          },
          "hoverlabel": {
           "align": "left"
          },
          "hovermode": "closest",
          "mapbox": {
           "style": "light"
          },
          "paper_bgcolor": "white",
          "plot_bgcolor": "#E5ECF6",
          "polar": {
           "angularaxis": {
            "gridcolor": "white",
            "linecolor": "white",
            "ticks": ""
           },
           "bgcolor": "#E5ECF6",
           "radialaxis": {
            "gridcolor": "white",
            "linecolor": "white",
            "ticks": ""
           }
          },
          "scene": {
           "xaxis": {
            "backgroundcolor": "#E5ECF6",
            "gridcolor": "white",
            "gridwidth": 2,
            "linecolor": "white",
            "showbackground": true,
            "ticks": "",
            "zerolinecolor": "white"
           },
           "yaxis": {
            "backgroundcolor": "#E5ECF6",
            "gridcolor": "white",
            "gridwidth": 2,
            "linecolor": "white",
            "showbackground": true,
            "ticks": "",
            "zerolinecolor": "white"
           },
           "zaxis": {
            "backgroundcolor": "#E5ECF6",
            "gridcolor": "white",
            "gridwidth": 2,
            "linecolor": "white",
            "showbackground": true,
            "ticks": "",
            "zerolinecolor": "white"
           }
          },
          "shapedefaults": {
           "line": {
            "color": "#2a3f5f"
           }
          },
          "ternary": {
           "aaxis": {
            "gridcolor": "white",
            "linecolor": "white",
            "ticks": ""
           },
           "baxis": {
            "gridcolor": "white",
            "linecolor": "white",
            "ticks": ""
           },
           "bgcolor": "#E5ECF6",
           "caxis": {
            "gridcolor": "white",
            "linecolor": "white",
            "ticks": ""
           }
          },
          "title": {
           "x": 0.05
          },
          "xaxis": {
           "automargin": true,
           "gridcolor": "white",
           "linecolor": "white",
           "ticks": "",
           "title": {
            "standoff": 15
           },
           "zerolinecolor": "white",
           "zerolinewidth": 2
          },
          "yaxis": {
           "automargin": true,
           "gridcolor": "white",
           "linecolor": "white",
           "ticks": "",
           "title": {
            "standoff": 15
           },
           "zerolinecolor": "white",
           "zerolinewidth": 2
          }
         }
        },
        "title": {
         "text": "GBP_JPY_ma_8_32"
        },
        "width": 1000,
        "xaxis": {
         "linecolor": "#3a4a54",
         "linewidth": 1,
         "showgrid": false,
         "zeroline": false
        },
        "yaxis": {
         "linecolor": "#3a4a54",
         "linewidth": 1,
         "showgrid": false,
         "zeroline": false
        }
       }
      }
     },
     "metadata": {},
     "output_type": "display_data"
    },
    {
     "data": {
      "application/vnd.plotly.v1+json": {
       "config": {
        "plotlyServerURL": "https://plot.ly"
       },
       "data": [
        {
         "line": {
          "color": "#3d825f",
          "shape": "spline",
          "width": 2
         },
         "mode": "lines",
         "name": "EUR_JPY_ma_8_32",
         "type": "scatter",
         "x": [
          "2022-03-30T19:00:00+00:00",
          "2022-03-31T10:00:00+00:00",
          "2022-04-01T06:00:00+00:00",
          "2022-04-04T07:00:00+00:00",
          "2022-04-05T14:00:00+00:00",
          "2022-04-06T21:00:00+00:00",
          "2022-04-07T13:00:00+00:00",
          "2022-04-07T14:00:00+00:00",
          "2022-04-07T16:00:00+00:00",
          "2022-04-07T20:00:00+00:00",
          "2022-04-08T12:00:00+00:00",
          "2022-04-12T06:00:00+00:00",
          "2022-04-13T07:00:00+00:00",
          "2022-04-14T13:00:00+00:00",
          "2022-04-15T04:00:00+00:00",
          "2022-04-18T08:00:00+00:00",
          "2022-04-18T16:00:00+00:00",
          "2022-04-20T13:00:00+00:00",
          "2022-04-21T04:00:00+00:00",
          "2022-04-21T23:00:00+00:00",
          "2022-04-28T01:00:00+00:00",
          "2022-04-29T12:00:00+00:00",
          "2022-05-03T12:00:00+00:00",
          "2022-05-04T08:00:00+00:00",
          "2022-05-04T14:00:00+00:00",
          "2022-05-05T18:00:00+00:00",
          "2022-05-06T00:00:00+00:00",
          "2022-05-09T18:00:00+00:00",
          "2022-05-10T08:00:00+00:00",
          "2022-05-10T09:00:00+00:00",
          "2022-05-13T19:00:00+00:00",
          "2022-05-18T09:00:00+00:00",
          "2022-05-19T17:00:00+00:00",
          "2022-05-20T18:00:00+00:00",
          "2022-05-23T08:00:00+00:00",
          "2022-05-24T14:00:00+00:00",
          "2022-05-25T21:00:00+00:00",
          "2022-05-26T09:00:00+00:00",
          "2022-05-26T14:00:00+00:00",
          "2022-05-27T14:00:00+00:00",
          "2022-05-29T22:00:00+00:00",
          "2022-05-31T11:00:00+00:00",
          "2022-05-31T16:00:00+00:00",
          "2022-06-09T10:00:00+00:00",
          "2022-06-14T10:00:00+00:00",
          "2022-06-15T14:00:00+00:00",
          "2022-06-16T23:00:00+00:00",
          "2022-06-22T07:00:00+00:00",
          "2022-06-22T17:00:00+00:00",
          "2022-06-23T05:00:00+00:00",
          "2022-06-24T12:00:00+00:00",
          "2022-06-28T20:00:00+00:00",
          "2022-06-29T14:00:00+00:00",
          "2022-06-29T17:00:00+00:00",
          "2022-07-04T09:00:00+00:00",
          "2022-07-05T10:00:00+00:00",
          "2022-07-07T06:00:00+00:00",
          "2022-07-07T17:00:00+00:00",
          "2022-07-08T16:00:00+00:00",
          "2022-07-11T16:00:00+00:00",
          "2022-07-13T06:00:00+00:00",
          "2022-07-19T05:00:00+00:00",
          "2022-07-19T07:00:00+00:00",
          "2022-07-20T14:00:00+00:00",
          "2022-07-21T06:00:00+00:00",
          "2022-07-21T17:00:00+00:00",
          "2022-07-25T12:00:00+00:00",
          "2022-07-26T10:00:00+00:00",
          "2022-07-27T07:00:00+00:00",
          "2022-07-28T03:00:00+00:00",
          "2022-08-02T19:00:00+00:00",
          "2022-08-04T18:00:00+00:00",
          "2022-08-04T22:00:00+00:00",
          "2022-08-04T23:00:00+00:00",
          "2022-08-05T03:00:00+00:00",
          "2022-08-08T18:00:00+00:00",
          "2022-08-09T00:00:00+00:00",
          "2022-08-09T01:00:00+00:00",
          "2022-08-09T02:00:00+00:00",
          "2022-08-09T03:00:00+00:00",
          "2022-08-09T07:00:00+00:00",
          "2022-08-10T09:00:00+00:00",
          "2022-08-10T10:00:00+00:00",
          "2022-08-10T12:00:00+00:00",
          "2022-08-11T18:00:00+00:00",
          "2022-08-12T17:00:00+00:00",
          "2022-08-16T11:00:00+00:00",
          "2022-08-18T13:00:00+00:00",
          "2022-08-19T05:00:00+00:00",
          "2022-08-22T09:00:00+00:00",
          "2022-08-24T18:00:00+00:00",
          "2022-08-25T14:00:00+00:00",
          "2022-08-26T08:00:00+00:00",
          "2022-08-31T09:00:00+00:00",
          "2022-08-31T16:00:00+00:00",
          "2022-09-01T15:00:00+00:00",
          "2022-09-02T05:00:00+00:00",
          "2022-09-04T22:00:00+00:00",
          "2022-09-05T19:00:00+00:00",
          "2022-09-08T16:00:00+00:00",
          "2022-09-08T22:00:00+00:00",
          "2022-09-09T09:00:00+00:00",
          "2022-09-12T03:00:00+00:00",
          "2022-09-13T06:00:00+00:00",
          "2022-09-13T13:00:00+00:00",
          "2022-09-13T19:00:00+00:00",
          "2022-09-15T09:00:00+00:00",
          "2022-09-16T07:00:00+00:00",
          "2022-09-19T02:00:00+00:00",
          "2022-09-19T06:00:00+00:00",
          "2022-09-19T07:00:00+00:00",
          "2022-09-19T09:00:00+00:00",
          "2022-09-19T10:00:00+00:00",
          "2022-09-20T17:00:00+00:00",
          "2022-09-26T13:00:00+00:00",
          "2022-09-27T13:00:00+00:00",
          "2022-09-28T16:00:00+00:00",
          "2022-09-30T15:00:00+00:00",
          "2022-09-30T19:00:00+00:00",
          "2022-10-03T15:00:00+00:00",
          "2022-10-03T21:00:00+00:00",
          "2022-10-05T12:00:00+00:00",
          "2022-10-06T06:00:00+00:00",
          "2022-10-06T11:00:00+00:00",
          "2022-10-11T00:00:00+00:00",
          "2022-10-11T01:00:00+00:00",
          "2022-10-11T11:00:00+00:00",
          "2022-10-19T09:00:00+00:00",
          "2022-10-20T09:00:00+00:00",
          "2022-10-21T16:00:00+00:00",
          "2022-10-24T07:00:00+00:00",
          "2022-10-25T10:00:00+00:00",
          "2022-10-25T16:00:00+00:00",
          "2022-10-26T18:00:00+00:00",
          "2022-10-26T21:00:00+00:00",
          "2022-10-27T01:00:00+00:00",
          "2022-10-28T10:00:00+00:00",
          "2022-10-31T18:00:00+00:00",
          "2022-11-04T06:00:00+00:00",
          "2022-11-04T08:00:00+00:00",
          "2022-11-04T10:00:00+00:00",
          "2022-11-04T11:00:00+00:00",
          "2022-11-04T12:00:00+00:00",
          "2022-11-08T10:00:00+00:00",
          "2022-11-08T22:00:00+00:00",
          "2022-11-09T00:00:00+00:00",
          "2022-11-09T15:00:00+00:00",
          "2022-11-10T02:00:00+00:00",
          "2022-11-14T09:00:00+00:00",
          "2022-11-15T16:00:00+00:00",
          "2022-11-16T06:00:00+00:00"
         ],
         "y": [
          -87.70000000000095,
          -151.400000000001,
          -183.00000000000125,
          -140.10000000000105,
          -136.20000000000232,
          -172.60000000000275,
          -179.4000000000011,
          -137.00000000000045,
          -127.1000000000015,
          -139.6000000000015,
          11.400000000000432,
          3.8000000000010914,
          -90.39999999999964,
          -180.79999999999927,
          -170.29999999999745,
          -181.69999999999504,
          8.000000000006935,
          -28.99999999999352,
          -16.599999999993997,
          324.20000000000755,
          449.60000000000946,
          423.00000000001035,
          380.70000000001016,
          354.6000000000106,
          355.2000000000106,
          313.3000000000095,
          327.4000000000086,
          343.60000000000923,
          315.400000000011,
          586.8000000000109,
          727.10000000001,
          784.6000000000089,
          726.4000000000067,
          623.4000000000066,
          614.6000000000072,
          593.3000000000078,
          578.4000000000077,
          510.400000000007,
          480.60000000000684,
          447.6000000000056,
          531.0000000000059,
          468.3000000000078,
          962.9000000000076,
          1245.4000000000065,
          1249.0000000000066,
          1294.4000000000074,
          1640.200000000007,
          1547.8000000000065,
          1473.0000000000075,
          1581.8000000000097,
          1689.1000000000104,
          1681.6000000000085,
          1614.0000000000068,
          1736.4000000000058,
          1598.6000000000045,
          1748.4000000000035,
          1710.5000000000045,
          1684.9000000000046,
          1668.0000000000036,
          1729.600000000005,
          1967.0000000000073,
          1864.200000000008,
          1860.400000000007,
          1847.0000000000055,
          1768.0000000000064,
          1815.000000000009,
          1696.6000000000095,
          1677.800000000008,
          1607.3000000000065,
          1895.0000000000045,
          1984.9000000000046,
          1990.6000000000063,
          1964.4000000000062,
          1916.8000000000063,
          2017.0000000000073,
          2007.9000000000065,
          1993.8000000000045,
          1979.000000000005,
          1989.8000000000054,
          1969.2000000000037,
          1993.2000000000016,
          1970.1999999999998,
          1892.3999999999978,
          1916.399999999996,
          1888.599999999994,
          1974.499999999992,
          2031.1999999999898,
          1964.7999999999884,
          1927.199999999988,
          1964.9999999999866,
          1951.2999999999865,
          1919.5999999999885,
          2099.0999999999904,
          2009.7999999999902,
          1985.5999999999883,
          1913.5999999999885,
          1845.0999999999913,
          1812.2999999999938,
          2222.499999999994,
          2184.799999999993,
          2103.799999999993,
          2017.099999999994,
          2038.5999999999945,
          2012.7999999999934,
          1963.5999999999945,
          2049.599999999996,
          2009.3999999999971,
          1980.999999999998,
          1957.399999999996,
          1923.1999999999948,
          1909.3999999999942,
          1882.199999999992,
          1860.8999999999899,
          2227.2999999999884,
          2199.199999999988,
          2126.599999999988,
          2291.8999999999874,
          2264.0999999999854,
          2252.1999999999853,
          2217.4999999999873,
          2329.199999999989,
          2339.5999999999904,
          2309.599999999992,
          2429.799999999992,
          2399.59999999999,
          2372.399999999988,
          2888.9999999999873,
          2903.9999999999877,
          2734.799999999987,
          2543.5999999999863,
          2545.1999999999853,
          2491.399999999984,
          2501.5999999999844,
          2487.399999999985,
          2447.299999999984,
          2479.5999999999817,
          2488.499999999982,
          2713.0999999999826,
          2679.5999999999817,
          2645.1999999999825,
          2637.9999999999823,
          2608.39999999998,
          2738.3999999999783,
          2689.4999999999777,
          2679.9999999999777,
          2672.999999999978,
          2647.3999999999783,
          2815.2999999999784,
          2792.3999999999796,
          2750.599999999979,
          2725.599999999979
         ]
        }
       ],
       "layout": {
        "font": {
         "color": "#3d825f",
         "size": 10
        },
        "height": 400,
        "margin": {
         "b": 10,
         "l": 15,
         "r": 15
        },
        "paper_bgcolor": "#1e1e1e",
        "plot_bgcolor": "#1e1e1e",
        "template": {
         "data": {
          "bar": [
           {
            "error_x": {
             "color": "#2a3f5f"
            },
            "error_y": {
             "color": "#2a3f5f"
            },
            "marker": {
             "line": {
              "color": "#E5ECF6",
              "width": 0.5
             },
             "pattern": {
              "fillmode": "overlay",
              "size": 10,
              "solidity": 0.2
             }
            },
            "type": "bar"
           }
          ],
          "barpolar": [
           {
            "marker": {
             "line": {
              "color": "#E5ECF6",
              "width": 0.5
             },
             "pattern": {
              "fillmode": "overlay",
              "size": 10,
              "solidity": 0.2
             }
            },
            "type": "barpolar"
           }
          ],
          "carpet": [
           {
            "aaxis": {
             "endlinecolor": "#2a3f5f",
             "gridcolor": "white",
             "linecolor": "white",
             "minorgridcolor": "white",
             "startlinecolor": "#2a3f5f"
            },
            "baxis": {
             "endlinecolor": "#2a3f5f",
             "gridcolor": "white",
             "linecolor": "white",
             "minorgridcolor": "white",
             "startlinecolor": "#2a3f5f"
            },
            "type": "carpet"
           }
          ],
          "choropleth": [
           {
            "colorbar": {
             "outlinewidth": 0,
             "ticks": ""
            },
            "type": "choropleth"
           }
          ],
          "contour": [
           {
            "colorbar": {
             "outlinewidth": 0,
             "ticks": ""
            },
            "colorscale": [
             [
              0,
              "#0d0887"
             ],
             [
              0.1111111111111111,
              "#46039f"
             ],
             [
              0.2222222222222222,
              "#7201a8"
             ],
             [
              0.3333333333333333,
              "#9c179e"
             ],
             [
              0.4444444444444444,
              "#bd3786"
             ],
             [
              0.5555555555555556,
              "#d8576b"
             ],
             [
              0.6666666666666666,
              "#ed7953"
             ],
             [
              0.7777777777777778,
              "#fb9f3a"
             ],
             [
              0.8888888888888888,
              "#fdca26"
             ],
             [
              1,
              "#f0f921"
             ]
            ],
            "type": "contour"
           }
          ],
          "contourcarpet": [
           {
            "colorbar": {
             "outlinewidth": 0,
             "ticks": ""
            },
            "type": "contourcarpet"
           }
          ],
          "heatmap": [
           {
            "colorbar": {
             "outlinewidth": 0,
             "ticks": ""
            },
            "colorscale": [
             [
              0,
              "#0d0887"
             ],
             [
              0.1111111111111111,
              "#46039f"
             ],
             [
              0.2222222222222222,
              "#7201a8"
             ],
             [
              0.3333333333333333,
              "#9c179e"
             ],
             [
              0.4444444444444444,
              "#bd3786"
             ],
             [
              0.5555555555555556,
              "#d8576b"
             ],
             [
              0.6666666666666666,
              "#ed7953"
             ],
             [
              0.7777777777777778,
              "#fb9f3a"
             ],
             [
              0.8888888888888888,
              "#fdca26"
             ],
             [
              1,
              "#f0f921"
             ]
            ],
            "type": "heatmap"
           }
          ],
          "heatmapgl": [
           {
            "colorbar": {
             "outlinewidth": 0,
             "ticks": ""
            },
            "colorscale": [
             [
              0,
              "#0d0887"
             ],
             [
              0.1111111111111111,
              "#46039f"
             ],
             [
              0.2222222222222222,
              "#7201a8"
             ],
             [
              0.3333333333333333,
              "#9c179e"
             ],
             [
              0.4444444444444444,
              "#bd3786"
             ],
             [
              0.5555555555555556,
              "#d8576b"
             ],
             [
              0.6666666666666666,
              "#ed7953"
             ],
             [
              0.7777777777777778,
              "#fb9f3a"
             ],
             [
              0.8888888888888888,
              "#fdca26"
             ],
             [
              1,
              "#f0f921"
             ]
            ],
            "type": "heatmapgl"
           }
          ],
          "histogram": [
           {
            "marker": {
             "pattern": {
              "fillmode": "overlay",
              "size": 10,
              "solidity": 0.2
             }
            },
            "type": "histogram"
           }
          ],
          "histogram2d": [
           {
            "colorbar": {
             "outlinewidth": 0,
             "ticks": ""
            },
            "colorscale": [
             [
              0,
              "#0d0887"
             ],
             [
              0.1111111111111111,
              "#46039f"
             ],
             [
              0.2222222222222222,
              "#7201a8"
             ],
             [
              0.3333333333333333,
              "#9c179e"
             ],
             [
              0.4444444444444444,
              "#bd3786"
             ],
             [
              0.5555555555555556,
              "#d8576b"
             ],
             [
              0.6666666666666666,
              "#ed7953"
             ],
             [
              0.7777777777777778,
              "#fb9f3a"
             ],
             [
              0.8888888888888888,
              "#fdca26"
             ],
             [
              1,
              "#f0f921"
             ]
            ],
            "type": "histogram2d"
           }
          ],
          "histogram2dcontour": [
           {
            "colorbar": {
             "outlinewidth": 0,
             "ticks": ""
            },
            "colorscale": [
             [
              0,
              "#0d0887"
             ],
             [
              0.1111111111111111,
              "#46039f"
             ],
             [
              0.2222222222222222,
              "#7201a8"
             ],
             [
              0.3333333333333333,
              "#9c179e"
             ],
             [
              0.4444444444444444,
              "#bd3786"
             ],
             [
              0.5555555555555556,
              "#d8576b"
             ],
             [
              0.6666666666666666,
              "#ed7953"
             ],
             [
              0.7777777777777778,
              "#fb9f3a"
             ],
             [
              0.8888888888888888,
              "#fdca26"
             ],
             [
              1,
              "#f0f921"
             ]
            ],
            "type": "histogram2dcontour"
           }
          ],
          "mesh3d": [
           {
            "colorbar": {
             "outlinewidth": 0,
             "ticks": ""
            },
            "type": "mesh3d"
           }
          ],
          "parcoords": [
           {
            "line": {
             "colorbar": {
              "outlinewidth": 0,
              "ticks": ""
             }
            },
            "type": "parcoords"
           }
          ],
          "pie": [
           {
            "automargin": true,
            "type": "pie"
           }
          ],
          "scatter": [
           {
            "fillpattern": {
             "fillmode": "overlay",
             "size": 10,
             "solidity": 0.2
            },
            "type": "scatter"
           }
          ],
          "scatter3d": [
           {
            "line": {
             "colorbar": {
              "outlinewidth": 0,
              "ticks": ""
             }
            },
            "marker": {
             "colorbar": {
              "outlinewidth": 0,
              "ticks": ""
             }
            },
            "type": "scatter3d"
           }
          ],
          "scattercarpet": [
           {
            "marker": {
             "colorbar": {
              "outlinewidth": 0,
              "ticks": ""
             }
            },
            "type": "scattercarpet"
           }
          ],
          "scattergeo": [
           {
            "marker": {
             "colorbar": {
              "outlinewidth": 0,
              "ticks": ""
             }
            },
            "type": "scattergeo"
           }
          ],
          "scattergl": [
           {
            "marker": {
             "colorbar": {
              "outlinewidth": 0,
              "ticks": ""
             }
            },
            "type": "scattergl"
           }
          ],
          "scattermapbox": [
           {
            "marker": {
             "colorbar": {
              "outlinewidth": 0,
              "ticks": ""
             }
            },
            "type": "scattermapbox"
           }
          ],
          "scatterpolar": [
           {
            "marker": {
             "colorbar": {
              "outlinewidth": 0,
              "ticks": ""
             }
            },
            "type": "scatterpolar"
           }
          ],
          "scatterpolargl": [
           {
            "marker": {
             "colorbar": {
              "outlinewidth": 0,
              "ticks": ""
             }
            },
            "type": "scatterpolargl"
           }
          ],
          "scatterternary": [
           {
            "marker": {
             "colorbar": {
              "outlinewidth": 0,
              "ticks": ""
             }
            },
            "type": "scatterternary"
           }
          ],
          "surface": [
           {
            "colorbar": {
             "outlinewidth": 0,
             "ticks": ""
            },
            "colorscale": [
             [
              0,
              "#0d0887"
             ],
             [
              0.1111111111111111,
              "#46039f"
             ],
             [
              0.2222222222222222,
              "#7201a8"
             ],
             [
              0.3333333333333333,
              "#9c179e"
             ],
             [
              0.4444444444444444,
              "#bd3786"
             ],
             [
              0.5555555555555556,
              "#d8576b"
             ],
             [
              0.6666666666666666,
              "#ed7953"
             ],
             [
              0.7777777777777778,
              "#fb9f3a"
             ],
             [
              0.8888888888888888,
              "#fdca26"
             ],
             [
              1,
              "#f0f921"
             ]
            ],
            "type": "surface"
           }
          ],
          "table": [
           {
            "cells": {
             "fill": {
              "color": "#EBF0F8"
             },
             "line": {
              "color": "white"
             }
            },
            "header": {
             "fill": {
              "color": "#C8D4E3"
             },
             "line": {
              "color": "white"
             }
            },
            "type": "table"
           }
          ]
         },
         "layout": {
          "annotationdefaults": {
           "arrowcolor": "#2a3f5f",
           "arrowhead": 0,
           "arrowwidth": 1
          },
          "autotypenumbers": "strict",
          "coloraxis": {
           "colorbar": {
            "outlinewidth": 0,
            "ticks": ""
           }
          },
          "colorscale": {
           "diverging": [
            [
             0,
             "#8e0152"
            ],
            [
             0.1,
             "#c51b7d"
            ],
            [
             0.2,
             "#de77ae"
            ],
            [
             0.3,
             "#f1b6da"
            ],
            [
             0.4,
             "#fde0ef"
            ],
            [
             0.5,
             "#f7f7f7"
            ],
            [
             0.6,
             "#e6f5d0"
            ],
            [
             0.7,
             "#b8e186"
            ],
            [
             0.8,
             "#7fbc41"
            ],
            [
             0.9,
             "#4d9221"
            ],
            [
             1,
             "#276419"
            ]
           ],
           "sequential": [
            [
             0,
             "#0d0887"
            ],
            [
             0.1111111111111111,
             "#46039f"
            ],
            [
             0.2222222222222222,
             "#7201a8"
            ],
            [
             0.3333333333333333,
             "#9c179e"
            ],
            [
             0.4444444444444444,
             "#bd3786"
            ],
            [
             0.5555555555555556,
             "#d8576b"
            ],
            [
             0.6666666666666666,
             "#ed7953"
            ],
            [
             0.7777777777777778,
             "#fb9f3a"
            ],
            [
             0.8888888888888888,
             "#fdca26"
            ],
            [
             1,
             "#f0f921"
            ]
           ],
           "sequentialminus": [
            [
             0,
             "#0d0887"
            ],
            [
             0.1111111111111111,
             "#46039f"
            ],
            [
             0.2222222222222222,
             "#7201a8"
            ],
            [
             0.3333333333333333,
             "#9c179e"
            ],
            [
             0.4444444444444444,
             "#bd3786"
            ],
            [
             0.5555555555555556,
             "#d8576b"
            ],
            [
             0.6666666666666666,
             "#ed7953"
            ],
            [
             0.7777777777777778,
             "#fb9f3a"
            ],
            [
             0.8888888888888888,
             "#fdca26"
            ],
            [
             1,
             "#f0f921"
            ]
           ]
          },
          "colorway": [
           "#636efa",
           "#EF553B",
           "#00cc96",
           "#ab63fa",
           "#FFA15A",
           "#19d3f3",
           "#FF6692",
           "#B6E880",
           "#FF97FF",
           "#FECB52"
          ],
          "font": {
           "color": "#2a3f5f"
          },
          "geo": {
           "bgcolor": "white",
           "lakecolor": "white",
           "landcolor": "#E5ECF6",
           "showlakes": true,
           "showland": true,
           "subunitcolor": "white"
          },
          "hoverlabel": {
           "align": "left"
          },
          "hovermode": "closest",
          "mapbox": {
           "style": "light"
          },
          "paper_bgcolor": "white",
          "plot_bgcolor": "#E5ECF6",
          "polar": {
           "angularaxis": {
            "gridcolor": "white",
            "linecolor": "white",
            "ticks": ""
           },
           "bgcolor": "#E5ECF6",
           "radialaxis": {
            "gridcolor": "white",
            "linecolor": "white",
            "ticks": ""
           }
          },
          "scene": {
           "xaxis": {
            "backgroundcolor": "#E5ECF6",
            "gridcolor": "white",
            "gridwidth": 2,
            "linecolor": "white",
            "showbackground": true,
            "ticks": "",
            "zerolinecolor": "white"
           },
           "yaxis": {
            "backgroundcolor": "#E5ECF6",
            "gridcolor": "white",
            "gridwidth": 2,
            "linecolor": "white",
            "showbackground": true,
            "ticks": "",
            "zerolinecolor": "white"
           },
           "zaxis": {
            "backgroundcolor": "#E5ECF6",
            "gridcolor": "white",
            "gridwidth": 2,
            "linecolor": "white",
            "showbackground": true,
            "ticks": "",
            "zerolinecolor": "white"
           }
          },
          "shapedefaults": {
           "line": {
            "color": "#2a3f5f"
           }
          },
          "ternary": {
           "aaxis": {
            "gridcolor": "white",
            "linecolor": "white",
            "ticks": ""
           },
           "baxis": {
            "gridcolor": "white",
            "linecolor": "white",
            "ticks": ""
           },
           "bgcolor": "#E5ECF6",
           "caxis": {
            "gridcolor": "white",
            "linecolor": "white",
            "ticks": ""
           }
          },
          "title": {
           "x": 0.05
          },
          "xaxis": {
           "automargin": true,
           "gridcolor": "white",
           "linecolor": "white",
           "ticks": "",
           "title": {
            "standoff": 15
           },
           "zerolinecolor": "white",
           "zerolinewidth": 2
          },
          "yaxis": {
           "automargin": true,
           "gridcolor": "white",
           "linecolor": "white",
           "ticks": "",
           "title": {
            "standoff": 15
           },
           "zerolinecolor": "white",
           "zerolinewidth": 2
          }
         }
        },
        "title": {
         "text": "EUR_JPY_ma_8_32"
        },
        "width": 1000,
        "xaxis": {
         "linecolor": "#3a4a54",
         "linewidth": 1,
         "showgrid": false,
         "zeroline": false
        },
        "yaxis": {
         "linecolor": "#3a4a54",
         "linewidth": 1,
         "showgrid": false,
         "zeroline": false
        }
       }
      }
     },
     "metadata": {},
     "output_type": "display_data"
    },
    {
     "data": {
      "application/vnd.plotly.v1+json": {
       "config": {
        "plotlyServerURL": "https://plot.ly"
       },
       "data": [
        {
         "line": {
          "color": "#3d825f",
          "shape": "spline",
          "width": 2
         },
         "mode": "lines",
         "name": "USD_JPY_ma_8_32",
         "type": "scatter",
         "x": [
          "2022-03-31T04:00:00+00:00",
          "2022-03-31T11:00:00+00:00",
          "2022-04-01T02:00:00+00:00",
          "2022-04-05T03:00:00+00:00",
          "2022-04-05T11:00:00+00:00",
          "2022-04-07T00:00:00+00:00",
          "2022-04-07T12:00:00+00:00",
          "2022-04-12T14:00:00+00:00",
          "2022-04-13T01:00:00+00:00",
          "2022-04-13T22:00:00+00:00",
          "2022-04-14T16:00:00+00:00",
          "2022-04-20T09:00:00+00:00",
          "2022-04-21T06:00:00+00:00",
          "2022-04-22T08:00:00+00:00",
          "2022-04-22T14:00:00+00:00",
          "2022-04-25T07:00:00+00:00",
          "2022-04-27T06:00:00+00:00",
          "2022-04-29T08:00:00+00:00",
          "2022-05-02T05:00:00+00:00",
          "2022-05-03T02:00:00+00:00",
          "2022-05-03T21:00:00+00:00",
          "2022-05-04T11:00:00+00:00",
          "2022-05-05T12:00:00+00:00",
          "2022-05-09T17:00:00+00:00",
          "2022-05-10T21:00:00+00:00",
          "2022-05-11T08:00:00+00:00",
          "2022-05-13T07:00:00+00:00",
          "2022-05-16T07:00:00+00:00",
          "2022-05-16T10:00:00+00:00",
          "2022-05-16T17:00:00+00:00",
          "2022-05-17T05:00:00+00:00",
          "2022-05-18T03:00:00+00:00",
          "2022-05-20T11:00:00+00:00",
          "2022-05-23T00:00:00+00:00",
          "2022-05-23T18:00:00+00:00",
          "2022-05-24T08:00:00+00:00",
          "2022-05-25T11:00:00+00:00",
          "2022-05-26T08:00:00+00:00",
          "2022-05-26T18:00:00+00:00",
          "2022-05-26T22:00:00+00:00",
          "2022-05-27T13:00:00+00:00",
          "2022-05-27T18:00:00+00:00",
          "2022-05-27T19:00:00+00:00",
          "2022-06-02T12:00:00+00:00",
          "2022-06-03T09:00:00+00:00",
          "2022-06-09T09:00:00+00:00",
          "2022-06-09T19:00:00+00:00",
          "2022-06-10T07:00:00+00:00",
          "2022-06-10T16:00:00+00:00",
          "2022-06-13T13:00:00+00:00",
          "2022-06-14T07:00:00+00:00",
          "2022-06-15T10:00:00+00:00",
          "2022-06-17T05:00:00+00:00",
          "2022-06-20T13:00:00+00:00",
          "2022-06-20T16:00:00+00:00",
          "2022-06-22T13:00:00+00:00",
          "2022-06-24T14:00:00+00:00",
          "2022-06-27T03:00:00+00:00",
          "2022-06-27T10:00:00+00:00",
          "2022-06-30T09:00:00+00:00",
          "2022-07-04T09:00:00+00:00",
          "2022-07-05T18:00:00+00:00",
          "2022-07-06T19:00:00+00:00",
          "2022-07-08T03:00:00+00:00",
          "2022-07-08T13:00:00+00:00",
          "2022-07-12T10:00:00+00:00",
          "2022-07-13T06:00:00+00:00",
          "2022-07-15T10:00:00+00:00",
          "2022-07-19T20:00:00+00:00",
          "2022-07-21T17:00:00+00:00",
          "2022-07-25T14:00:00+00:00",
          "2022-07-27T22:00:00+00:00",
          "2022-08-02T17:00:00+00:00",
          "2022-08-04T15:00:00+00:00",
          "2022-08-05T13:00:00+00:00",
          "2022-08-08T16:00:00+00:00",
          "2022-08-09T11:00:00+00:00",
          "2022-08-10T08:00:00+00:00",
          "2022-08-11T20:00:00+00:00",
          "2022-08-15T03:00:00+00:00",
          "2022-08-16T02:00:00+00:00",
          "2022-08-18T15:00:00+00:00",
          "2022-08-18T16:00:00+00:00",
          "2022-08-23T07:00:00+00:00",
          "2022-08-23T10:00:00+00:00",
          "2022-08-23T14:00:00+00:00",
          "2022-08-24T16:00:00+00:00",
          "2022-08-25T06:00:00+00:00",
          "2022-08-26T05:00:00+00:00",
          "2022-08-30T05:00:00+00:00",
          "2022-08-30T18:00:00+00:00",
          "2022-08-31T06:00:00+00:00",
          "2022-08-31T11:00:00+00:00",
          "2022-09-02T20:00:00+00:00",
          "2022-09-04T23:00:00+00:00",
          "2022-09-08T06:00:00+00:00",
          "2022-09-08T20:00:00+00:00",
          "2022-09-09T02:00:00+00:00",
          "2022-09-12T05:00:00+00:00",
          "2022-09-12T15:00:00+00:00",
          "2022-09-13T13:00:00+00:00",
          "2022-09-14T10:00:00+00:00",
          "2022-09-15T08:00:00+00:00",
          "2022-09-16T03:00:00+00:00",
          "2022-09-19T07:00:00+00:00",
          "2022-09-20T01:00:00+00:00",
          "2022-09-20T08:00:00+00:00",
          "2022-09-22T11:00:00+00:00",
          "2022-09-23T12:00:00+00:00",
          "2022-09-28T14:00:00+00:00",
          "2022-09-29T08:00:00+00:00",
          "2022-09-30T08:00:00+00:00",
          "2022-09-30T16:00:00+00:00",
          "2022-10-03T17:00:00+00:00",
          "2022-10-05T12:00:00+00:00",
          "2022-10-11T15:00:00+00:00",
          "2022-10-11T19:00:00+00:00",
          "2022-10-20T16:00:00+00:00",
          "2022-10-20T18:00:00+00:00",
          "2022-10-21T16:00:00+00:00",
          "2022-10-24T19:00:00+00:00",
          "2022-10-25T05:00:00+00:00",
          "2022-10-27T22:00:00+00:00",
          "2022-11-01T06:00:00+00:00",
          "2022-11-01T22:00:00+00:00",
          "2022-11-02T00:00:00+00:00",
          "2022-11-02T23:00:00+00:00",
          "2022-11-04T08:00:00+00:00",
          "2022-11-09T14:00:00+00:00",
          "2022-11-10T13:00:00+00:00",
          "2022-11-14T11:00:00+00:00",
          "2022-11-15T10:00:00+00:00",
          "2022-11-16T05:00:00+00:00",
          "2022-11-16T21:00:00+00:00"
         ],
         "y": [
          -59.99999999999943,
          -162.8,
          -176.400000000001,
          -217.20000000000113,
          -149.90000000000094,
          -188.40000000000146,
          -69.20000000000215,
          -111.00000000000279,
          -111.00000000000279,
          -144.90000000000265,
          67.99999999999642,
          72.99999999999471,
          98.19999999999283,
          86.59999999999144,
          68.79999999999171,
          95.39999999999225,
          312.19999999999146,
          281.9999999999922,
          240.79999999999444,
          227.59999999999678,
          209.59999999999894,
          213.89999999999958,
          262.9000000000005,
          258.8000000000008,
          201.20000000000147,
          306.8000000000026,
          362.4000000000038,
          367.4000000000049,
          363.4000000000057,
          356.20000000000545,
          335.0000000000037,
          443.0000000000021,
          409.40000000000083,
          391.2000000000006,
          345.0000000000003,
          390.99999999999966,
          362.0999999999995,
          312.3999999999995,
          300.19999999999953,
          317.39999999999924,
          338.3999999999986,
          334.999999999998,
          586.2999999999986,
          542.1999999999983,
          880.599999999997,
          784.1999999999971,
          702.1999999999978,
          632.1999999999989,
          565.2000000000002,
          487.5000000000015,
          485.8000000000019,
          517.2000000000012,
          616.8999999999997,
          619.5999999999984,
          698.1999999999986,
          759.599999999999,
          719.5999999999984,
          679.8999999999965,
          781.6999999999965,
          860.4999999999976,
          879.4999999999974,
          857.399999999997,
          829.9999999999969,
          762.8999999999977,
          821.1999999999975,
          785.7999999999962,
          935.5999999999952,
          985.7999999999962,
          948.9999999999967,
          1063.2999999999968,
          1039.4999999999968,
          1406.199999999997,
          1456.0999999999967,
          1296.5999999999967,
          1271.1999999999975,
          1225.7999999999968,
          1214.9999999999964,
          1412.9999999999955,
          1433.2999999999956,
          1415.9999999999955,
          1609.4999999999927,
          1575.199999999991,
          1738.499999999989,
          1721.4999999999875,
          1602.9999999999873,
          1521.799999999986,
          1480.699999999986,
          1460.299999999988,
          1621.4999999999902,
          1603.9999999999918,
          1570.3999999999933,
          1526.7999999999954,
          1673.4999999999968,
          1641.399999999997,
          1953.7999999999965,
          1909.7999999999968,
          1870.199999999998,
          1917.6,
          1838.7000000000012,
          1671.8000000000002,
          1586.9999999999989,
          1570.7999999999984,
          1564.5999999999972,
          1550.1999999999966,
          1522.5999999999956,
          1479.999999999994,
          1238.9999999999945,
          1068.9999999999957,
          1232.6999999999957,
          1215.099999999997,
          1165.9999999999984,
          1121.9999999999986,
          1115.9999999999984,
          1134.199999999997,
          1241.9999999999973,
          1213.9999999999973,
          1622.5999999999958,
          1599.5999999999967,
          1309.9999999999982,
          1136.999999999999,
          1130.1000000000004,
          1408,
          1574.5999999999997,
          1537.5999999999992,
          1444.1999999999994,
          1378.0000000000016,
          1360.1000000000042,
          1491.400000000006,
          1222.4000000000062,
          1538.0000000000068,
          1404.8000000000075,
          1355.500000000008,
          1337.6000000000076,
          1302.8000000000063
         ]
        }
       ],
       "layout": {
        "font": {
         "color": "#3d825f",
         "size": 10
        },
        "height": 400,
        "margin": {
         "b": 10,
         "l": 15,
         "r": 15
        },
        "paper_bgcolor": "#1e1e1e",
        "plot_bgcolor": "#1e1e1e",
        "template": {
         "data": {
          "bar": [
           {
            "error_x": {
             "color": "#2a3f5f"
            },
            "error_y": {
             "color": "#2a3f5f"
            },
            "marker": {
             "line": {
              "color": "#E5ECF6",
              "width": 0.5
             },
             "pattern": {
              "fillmode": "overlay",
              "size": 10,
              "solidity": 0.2
             }
            },
            "type": "bar"
           }
          ],
          "barpolar": [
           {
            "marker": {
             "line": {
              "color": "#E5ECF6",
              "width": 0.5
             },
             "pattern": {
              "fillmode": "overlay",
              "size": 10,
              "solidity": 0.2
             }
            },
            "type": "barpolar"
           }
          ],
          "carpet": [
           {
            "aaxis": {
             "endlinecolor": "#2a3f5f",
             "gridcolor": "white",
             "linecolor": "white",
             "minorgridcolor": "white",
             "startlinecolor": "#2a3f5f"
            },
            "baxis": {
             "endlinecolor": "#2a3f5f",
             "gridcolor": "white",
             "linecolor": "white",
             "minorgridcolor": "white",
             "startlinecolor": "#2a3f5f"
            },
            "type": "carpet"
           }
          ],
          "choropleth": [
           {
            "colorbar": {
             "outlinewidth": 0,
             "ticks": ""
            },
            "type": "choropleth"
           }
          ],
          "contour": [
           {
            "colorbar": {
             "outlinewidth": 0,
             "ticks": ""
            },
            "colorscale": [
             [
              0,
              "#0d0887"
             ],
             [
              0.1111111111111111,
              "#46039f"
             ],
             [
              0.2222222222222222,
              "#7201a8"
             ],
             [
              0.3333333333333333,
              "#9c179e"
             ],
             [
              0.4444444444444444,
              "#bd3786"
             ],
             [
              0.5555555555555556,
              "#d8576b"
             ],
             [
              0.6666666666666666,
              "#ed7953"
             ],
             [
              0.7777777777777778,
              "#fb9f3a"
             ],
             [
              0.8888888888888888,
              "#fdca26"
             ],
             [
              1,
              "#f0f921"
             ]
            ],
            "type": "contour"
           }
          ],
          "contourcarpet": [
           {
            "colorbar": {
             "outlinewidth": 0,
             "ticks": ""
            },
            "type": "contourcarpet"
           }
          ],
          "heatmap": [
           {
            "colorbar": {
             "outlinewidth": 0,
             "ticks": ""
            },
            "colorscale": [
             [
              0,
              "#0d0887"
             ],
             [
              0.1111111111111111,
              "#46039f"
             ],
             [
              0.2222222222222222,
              "#7201a8"
             ],
             [
              0.3333333333333333,
              "#9c179e"
             ],
             [
              0.4444444444444444,
              "#bd3786"
             ],
             [
              0.5555555555555556,
              "#d8576b"
             ],
             [
              0.6666666666666666,
              "#ed7953"
             ],
             [
              0.7777777777777778,
              "#fb9f3a"
             ],
             [
              0.8888888888888888,
              "#fdca26"
             ],
             [
              1,
              "#f0f921"
             ]
            ],
            "type": "heatmap"
           }
          ],
          "heatmapgl": [
           {
            "colorbar": {
             "outlinewidth": 0,
             "ticks": ""
            },
            "colorscale": [
             [
              0,
              "#0d0887"
             ],
             [
              0.1111111111111111,
              "#46039f"
             ],
             [
              0.2222222222222222,
              "#7201a8"
             ],
             [
              0.3333333333333333,
              "#9c179e"
             ],
             [
              0.4444444444444444,
              "#bd3786"
             ],
             [
              0.5555555555555556,
              "#d8576b"
             ],
             [
              0.6666666666666666,
              "#ed7953"
             ],
             [
              0.7777777777777778,
              "#fb9f3a"
             ],
             [
              0.8888888888888888,
              "#fdca26"
             ],
             [
              1,
              "#f0f921"
             ]
            ],
            "type": "heatmapgl"
           }
          ],
          "histogram": [
           {
            "marker": {
             "pattern": {
              "fillmode": "overlay",
              "size": 10,
              "solidity": 0.2
             }
            },
            "type": "histogram"
           }
          ],
          "histogram2d": [
           {
            "colorbar": {
             "outlinewidth": 0,
             "ticks": ""
            },
            "colorscale": [
             [
              0,
              "#0d0887"
             ],
             [
              0.1111111111111111,
              "#46039f"
             ],
             [
              0.2222222222222222,
              "#7201a8"
             ],
             [
              0.3333333333333333,
              "#9c179e"
             ],
             [
              0.4444444444444444,
              "#bd3786"
             ],
             [
              0.5555555555555556,
              "#d8576b"
             ],
             [
              0.6666666666666666,
              "#ed7953"
             ],
             [
              0.7777777777777778,
              "#fb9f3a"
             ],
             [
              0.8888888888888888,
              "#fdca26"
             ],
             [
              1,
              "#f0f921"
             ]
            ],
            "type": "histogram2d"
           }
          ],
          "histogram2dcontour": [
           {
            "colorbar": {
             "outlinewidth": 0,
             "ticks": ""
            },
            "colorscale": [
             [
              0,
              "#0d0887"
             ],
             [
              0.1111111111111111,
              "#46039f"
             ],
             [
              0.2222222222222222,
              "#7201a8"
             ],
             [
              0.3333333333333333,
              "#9c179e"
             ],
             [
              0.4444444444444444,
              "#bd3786"
             ],
             [
              0.5555555555555556,
              "#d8576b"
             ],
             [
              0.6666666666666666,
              "#ed7953"
             ],
             [
              0.7777777777777778,
              "#fb9f3a"
             ],
             [
              0.8888888888888888,
              "#fdca26"
             ],
             [
              1,
              "#f0f921"
             ]
            ],
            "type": "histogram2dcontour"
           }
          ],
          "mesh3d": [
           {
            "colorbar": {
             "outlinewidth": 0,
             "ticks": ""
            },
            "type": "mesh3d"
           }
          ],
          "parcoords": [
           {
            "line": {
             "colorbar": {
              "outlinewidth": 0,
              "ticks": ""
             }
            },
            "type": "parcoords"
           }
          ],
          "pie": [
           {
            "automargin": true,
            "type": "pie"
           }
          ],
          "scatter": [
           {
            "fillpattern": {
             "fillmode": "overlay",
             "size": 10,
             "solidity": 0.2
            },
            "type": "scatter"
           }
          ],
          "scatter3d": [
           {
            "line": {
             "colorbar": {
              "outlinewidth": 0,
              "ticks": ""
             }
            },
            "marker": {
             "colorbar": {
              "outlinewidth": 0,
              "ticks": ""
             }
            },
            "type": "scatter3d"
           }
          ],
          "scattercarpet": [
           {
            "marker": {
             "colorbar": {
              "outlinewidth": 0,
              "ticks": ""
             }
            },
            "type": "scattercarpet"
           }
          ],
          "scattergeo": [
           {
            "marker": {
             "colorbar": {
              "outlinewidth": 0,
              "ticks": ""
             }
            },
            "type": "scattergeo"
           }
          ],
          "scattergl": [
           {
            "marker": {
             "colorbar": {
              "outlinewidth": 0,
              "ticks": ""
             }
            },
            "type": "scattergl"
           }
          ],
          "scattermapbox": [
           {
            "marker": {
             "colorbar": {
              "outlinewidth": 0,
              "ticks": ""
             }
            },
            "type": "scattermapbox"
           }
          ],
          "scatterpolar": [
           {
            "marker": {
             "colorbar": {
              "outlinewidth": 0,
              "ticks": ""
             }
            },
            "type": "scatterpolar"
           }
          ],
          "scatterpolargl": [
           {
            "marker": {
             "colorbar": {
              "outlinewidth": 0,
              "ticks": ""
             }
            },
            "type": "scatterpolargl"
           }
          ],
          "scatterternary": [
           {
            "marker": {
             "colorbar": {
              "outlinewidth": 0,
              "ticks": ""
             }
            },
            "type": "scatterternary"
           }
          ],
          "surface": [
           {
            "colorbar": {
             "outlinewidth": 0,
             "ticks": ""
            },
            "colorscale": [
             [
              0,
              "#0d0887"
             ],
             [
              0.1111111111111111,
              "#46039f"
             ],
             [
              0.2222222222222222,
              "#7201a8"
             ],
             [
              0.3333333333333333,
              "#9c179e"
             ],
             [
              0.4444444444444444,
              "#bd3786"
             ],
             [
              0.5555555555555556,
              "#d8576b"
             ],
             [
              0.6666666666666666,
              "#ed7953"
             ],
             [
              0.7777777777777778,
              "#fb9f3a"
             ],
             [
              0.8888888888888888,
              "#fdca26"
             ],
             [
              1,
              "#f0f921"
             ]
            ],
            "type": "surface"
           }
          ],
          "table": [
           {
            "cells": {
             "fill": {
              "color": "#EBF0F8"
             },
             "line": {
              "color": "white"
             }
            },
            "header": {
             "fill": {
              "color": "#C8D4E3"
             },
             "line": {
              "color": "white"
             }
            },
            "type": "table"
           }
          ]
         },
         "layout": {
          "annotationdefaults": {
           "arrowcolor": "#2a3f5f",
           "arrowhead": 0,
           "arrowwidth": 1
          },
          "autotypenumbers": "strict",
          "coloraxis": {
           "colorbar": {
            "outlinewidth": 0,
            "ticks": ""
           }
          },
          "colorscale": {
           "diverging": [
            [
             0,
             "#8e0152"
            ],
            [
             0.1,
             "#c51b7d"
            ],
            [
             0.2,
             "#de77ae"
            ],
            [
             0.3,
             "#f1b6da"
            ],
            [
             0.4,
             "#fde0ef"
            ],
            [
             0.5,
             "#f7f7f7"
            ],
            [
             0.6,
             "#e6f5d0"
            ],
            [
             0.7,
             "#b8e186"
            ],
            [
             0.8,
             "#7fbc41"
            ],
            [
             0.9,
             "#4d9221"
            ],
            [
             1,
             "#276419"
            ]
           ],
           "sequential": [
            [
             0,
             "#0d0887"
            ],
            [
             0.1111111111111111,
             "#46039f"
            ],
            [
             0.2222222222222222,
             "#7201a8"
            ],
            [
             0.3333333333333333,
             "#9c179e"
            ],
            [
             0.4444444444444444,
             "#bd3786"
            ],
            [
             0.5555555555555556,
             "#d8576b"
            ],
            [
             0.6666666666666666,
             "#ed7953"
            ],
            [
             0.7777777777777778,
             "#fb9f3a"
            ],
            [
             0.8888888888888888,
             "#fdca26"
            ],
            [
             1,
             "#f0f921"
            ]
           ],
           "sequentialminus": [
            [
             0,
             "#0d0887"
            ],
            [
             0.1111111111111111,
             "#46039f"
            ],
            [
             0.2222222222222222,
             "#7201a8"
            ],
            [
             0.3333333333333333,
             "#9c179e"
            ],
            [
             0.4444444444444444,
             "#bd3786"
            ],
            [
             0.5555555555555556,
             "#d8576b"
            ],
            [
             0.6666666666666666,
             "#ed7953"
            ],
            [
             0.7777777777777778,
             "#fb9f3a"
            ],
            [
             0.8888888888888888,
             "#fdca26"
            ],
            [
             1,
             "#f0f921"
            ]
           ]
          },
          "colorway": [
           "#636efa",
           "#EF553B",
           "#00cc96",
           "#ab63fa",
           "#FFA15A",
           "#19d3f3",
           "#FF6692",
           "#B6E880",
           "#FF97FF",
           "#FECB52"
          ],
          "font": {
           "color": "#2a3f5f"
          },
          "geo": {
           "bgcolor": "white",
           "lakecolor": "white",
           "landcolor": "#E5ECF6",
           "showlakes": true,
           "showland": true,
           "subunitcolor": "white"
          },
          "hoverlabel": {
           "align": "left"
          },
          "hovermode": "closest",
          "mapbox": {
           "style": "light"
          },
          "paper_bgcolor": "white",
          "plot_bgcolor": "#E5ECF6",
          "polar": {
           "angularaxis": {
            "gridcolor": "white",
            "linecolor": "white",
            "ticks": ""
           },
           "bgcolor": "#E5ECF6",
           "radialaxis": {
            "gridcolor": "white",
            "linecolor": "white",
            "ticks": ""
           }
          },
          "scene": {
           "xaxis": {
            "backgroundcolor": "#E5ECF6",
            "gridcolor": "white",
            "gridwidth": 2,
            "linecolor": "white",
            "showbackground": true,
            "ticks": "",
            "zerolinecolor": "white"
           },
           "yaxis": {
            "backgroundcolor": "#E5ECF6",
            "gridcolor": "white",
            "gridwidth": 2,
            "linecolor": "white",
            "showbackground": true,
            "ticks": "",
            "zerolinecolor": "white"
           },
           "zaxis": {
            "backgroundcolor": "#E5ECF6",
            "gridcolor": "white",
            "gridwidth": 2,
            "linecolor": "white",
            "showbackground": true,
            "ticks": "",
            "zerolinecolor": "white"
           }
          },
          "shapedefaults": {
           "line": {
            "color": "#2a3f5f"
           }
          },
          "ternary": {
           "aaxis": {
            "gridcolor": "white",
            "linecolor": "white",
            "ticks": ""
           },
           "baxis": {
            "gridcolor": "white",
            "linecolor": "white",
            "ticks": ""
           },
           "bgcolor": "#E5ECF6",
           "caxis": {
            "gridcolor": "white",
            "linecolor": "white",
            "ticks": ""
           }
          },
          "title": {
           "x": 0.05
          },
          "xaxis": {
           "automargin": true,
           "gridcolor": "white",
           "linecolor": "white",
           "ticks": "",
           "title": {
            "standoff": 15
           },
           "zerolinecolor": "white",
           "zerolinewidth": 2
          },
          "yaxis": {
           "automargin": true,
           "gridcolor": "white",
           "linecolor": "white",
           "ticks": "",
           "title": {
            "standoff": 15
           },
           "zerolinecolor": "white",
           "zerolinewidth": 2
          }
         }
        },
        "title": {
         "text": "USD_JPY_ma_8_32"
        },
        "width": 1000,
        "xaxis": {
         "linecolor": "#3a4a54",
         "linewidth": 1,
         "showgrid": false,
         "zeroline": false
        },
        "yaxis": {
         "linecolor": "#3a4a54",
         "linewidth": 1,
         "showgrid": false,
         "zeroline": false
        }
       }
      }
     },
     "metadata": {},
     "output_type": "display_data"
    },
    {
     "data": {
      "application/vnd.plotly.v1+json": {
       "config": {
        "plotlyServerURL": "https://plot.ly"
       },
       "data": [
        {
         "line": {
          "color": "#3d825f",
          "shape": "spline",
          "width": 2
         },
         "mode": "lines",
         "name": "CAD_JPY_ma_8_32",
         "type": "scatter",
         "x": [
          "2022-04-01T02:00:00+00:00",
          "2022-04-06T18:00:00+00:00",
          "2022-04-08T09:00:00+00:00",
          "2022-04-12T01:00:00+00:00",
          "2022-04-13T02:00:00+00:00",
          "2022-04-14T21:00:00+00:00",
          "2022-04-14T23:00:00+00:00",
          "2022-04-18T05:00:00+00:00",
          "2022-04-18T16:00:00+00:00",
          "2022-04-21T19:00:00+00:00",
          "2022-04-26T07:00:00+00:00",
          "2022-04-26T12:00:00+00:00",
          "2022-04-27T13:00:00+00:00",
          "2022-04-29T14:00:00+00:00",
          "2022-05-03T01:00:00+00:00",
          "2022-05-05T01:00:00+00:00",
          "2022-05-05T04:00:00+00:00",
          "2022-05-05T21:00:00+00:00",
          "2022-05-06T03:00:00+00:00",
          "2022-05-06T11:00:00+00:00",
          "2022-05-09T12:00:00+00:00",
          "2022-05-09T14:00:00+00:00",
          "2022-05-11T04:00:00+00:00",
          "2022-05-11T21:00:00+00:00",
          "2022-05-13T06:00:00+00:00",
          "2022-05-18T05:00:00+00:00",
          "2022-05-20T01:00:00+00:00",
          "2022-05-20T03:00:00+00:00",
          "2022-05-20T06:00:00+00:00",
          "2022-05-20T19:00:00+00:00",
          "2022-05-23T11:00:00+00:00",
          "2022-05-24T06:00:00+00:00",
          "2022-05-25T16:00:00+00:00",
          "2022-05-26T08:00:00+00:00",
          "2022-05-26T16:00:00+00:00",
          "2022-06-02T12:00:00+00:00",
          "2022-06-02T14:00:00+00:00",
          "2022-06-09T07:00:00+00:00",
          "2022-06-13T05:00:00+00:00",
          "2022-06-13T07:00:00+00:00",
          "2022-06-14T20:00:00+00:00",
          "2022-06-15T07:00:00+00:00",
          "2022-06-16T03:00:00+00:00",
          "2022-06-16T09:00:00+00:00",
          "2022-06-17T06:00:00+00:00",
          "2022-06-22T08:00:00+00:00",
          "2022-06-22T22:00:00+00:00",
          "2022-06-22T23:00:00+00:00",
          "2022-06-24T13:00:00+00:00",
          "2022-06-30T07:00:00+00:00",
          "2022-07-04T06:00:00+00:00",
          "2022-07-05T12:00:00+00:00",
          "2022-07-06T20:00:00+00:00",
          "2022-07-08T06:00:00+00:00",
          "2022-07-08T15:00:00+00:00",
          "2022-07-12T04:00:00+00:00",
          "2022-07-13T06:00:00+00:00",
          "2022-07-14T15:00:00+00:00",
          "2022-07-15T14:00:00+00:00",
          "2022-07-19T00:00:00+00:00",
          "2022-07-19T16:00:00+00:00",
          "2022-07-20T22:00:00+00:00",
          "2022-07-21T00:00:00+00:00",
          "2022-07-21T14:00:00+00:00",
          "2022-07-25T13:00:00+00:00",
          "2022-07-26T14:00:00+00:00",
          "2022-07-27T01:00:00+00:00",
          "2022-07-28T00:00:00+00:00",
          "2022-08-02T17:00:00+00:00",
          "2022-08-04T15:00:00+00:00",
          "2022-08-05T15:00:00+00:00",
          "2022-08-09T17:00:00+00:00",
          "2022-08-11T19:00:00+00:00",
          "2022-08-15T00:00:00+00:00",
          "2022-08-16T09:00:00+00:00",
          "2022-08-18T01:00:00+00:00",
          "2022-08-18T10:00:00+00:00",
          "2022-08-22T13:00:00+00:00",
          "2022-08-23T11:00:00+00:00",
          "2022-08-24T06:00:00+00:00",
          "2022-08-24T18:00:00+00:00",
          "2022-08-25T20:00:00+00:00",
          "2022-08-26T07:00:00+00:00",
          "2022-08-26T18:00:00+00:00",
          "2022-08-29T02:00:00+00:00",
          "2022-08-30T13:00:00+00:00",
          "2022-09-01T01:00:00+00:00",
          "2022-09-01T09:00:00+00:00",
          "2022-09-01T15:00:00+00:00",
          "2022-09-05T05:00:00+00:00",
          "2022-09-05T12:00:00+00:00",
          "2022-09-08T10:00:00+00:00",
          "2022-09-08T18:00:00+00:00",
          "2022-09-09T08:00:00+00:00",
          "2022-09-12T05:00:00+00:00",
          "2022-09-13T05:00:00+00:00",
          "2022-09-13T14:00:00+00:00",
          "2022-09-14T00:00:00+00:00",
          "2022-09-15T08:00:00+00:00",
          "2022-09-15T17:00:00+00:00",
          "2022-09-19T14:00:00+00:00",
          "2022-09-20T15:00:00+00:00",
          "2022-09-21T16:00:00+00:00",
          "2022-09-21T19:00:00+00:00",
          "2022-09-23T15:00:00+00:00",
          "2022-09-23T20:00:00+00:00",
          "2022-09-25T23:00:00+00:00",
          "2022-09-26T15:00:00+00:00",
          "2022-09-27T06:00:00+00:00",
          "2022-09-27T15:00:00+00:00",
          "2022-09-27T17:00:00+00:00",
          "2022-09-28T01:00:00+00:00",
          "2022-09-28T16:00:00+00:00",
          "2022-09-29T14:00:00+00:00",
          "2022-09-30T03:00:00+00:00",
          "2022-09-30T04:00:00+00:00",
          "2022-09-30T07:00:00+00:00",
          "2022-09-30T08:00:00+00:00",
          "2022-10-03T07:00:00+00:00",
          "2022-10-05T11:00:00+00:00",
          "2022-10-06T04:00:00+00:00",
          "2022-10-06T09:00:00+00:00",
          "2022-10-07T14:00:00+00:00",
          "2022-10-10T20:00:00+00:00",
          "2022-10-11T17:00:00+00:00",
          "2022-10-13T12:00:00+00:00",
          "2022-10-13T15:00:00+00:00",
          "2022-10-16T21:00:00+00:00",
          "2022-10-17T02:00:00+00:00",
          "2022-10-18T16:00:00+00:00",
          "2022-10-19T00:00:00+00:00",
          "2022-10-21T16:00:00+00:00",
          "2022-10-24T22:00:00+00:00",
          "2022-10-24T23:00:00+00:00",
          "2022-10-25T01:00:00+00:00",
          "2022-10-25T04:00:00+00:00",
          "2022-10-25T20:00:00+00:00",
          "2022-10-26T13:00:00+00:00",
          "2022-10-27T18:00:00+00:00",
          "2022-11-01T12:00:00+00:00",
          "2022-11-03T19:00:00+00:00",
          "2022-11-07T15:00:00+00:00",
          "2022-11-09T13:00:00+00:00",
          "2022-11-09T22:00:00+00:00",
          "2022-11-14T10:00:00+00:00",
          "2022-11-15T01:00:00+00:00",
          "2022-11-15T04:00:00+00:00",
          "2022-11-15T10:00:00+00:00",
          "2022-11-16T04:00:00+00:00"
         ],
         "y": [
          75.20000000000095,
          105.90000000000117,
          161.40000000000043,
          115.50000000000011,
          148.4000000000009,
          131.90000000000168,
          148.1000000000023,
          105.30000000000257,
          240.90000000000202,
          405.70000000000164,
          327.90000000000106,
          300.3,
          461.4999999999995,
          496.79999999999893,
          508.89999999999844,
          472.8999999999985,
          458.3999999999989,
          424.69999999999857,
          406.6999999999979,
          445.4999999999984,
          385.89999999999947,
          425.1000000000005,
          408.30000000000126,
          526.100000000001,
          719.1000000000004,
          802.7000000000003,
          751.5000000000002,
          716.4999999999993,
          699.3999999999987,
          680.399999999999,
          666.2999999999998,
          709.9000000000005,
          662.9000000000007,
          581.3000000000004,
          877.7000000000003,
          830.3,
          1138.8999999999999,
          1220.6000000000006,
          1176.000000000001,
          1207.7000000000003,
          1142.8999999999992,
          1110.2999999999984,
          963.8999999999985,
          887.7999999999989,
          1030.099999999999,
          1006.7999999999986,
          980.8999999999985,
          1057.3999999999985,
          1193.299999999998,
          1227.6999999999973,
          1166.7999999999965,
          1194.9999999999961,
          1213.8999999999955,
          1141.2999999999943,
          1165.4999999999932,
          1165.8999999999924,
          1228.1999999999914,
          1192.099999999991,
          1196.1999999999907,
          1127.3999999999905,
          1136.5999999999904,
          1109.9999999999898,
          1055.6999999999891,
          1122.9999999999893,
          1105.6999999999891,
          1068.0999999999885,
          1032.0999999999885,
          1309.099999999988,
          1344.0999999999876,
          1258.4999999999868,
          1281.8999999999862,
          1338.399999999986,
          1330.2999999999856,
          1349.699999999986,
          1391.099999999986,
          1339.7999999999856,
          1386.699999999985,
          1371.9999999999845,
          1353.0999999999838,
          1317.499999999983,
          1312.6999999999828,
          1290.4999999999834,
          1253.2999999999834,
          1194.899999999983,
          1191.3999999999833,
          1191.6999999999832,
          1157.3999999999828,
          1089.9999999999836,
          1123.7999999999845,
          1092.1999999999844,
          1345.099999999984,
          1302.0999999999847,
          1234.899999999985,
          1164.9999999999852,
          1127.3999999999862,
          1089.4999999999873,
          1058.399999999988,
          1125.4999999999886,
          1085.699999999989,
          1157.2999999999884,
          1136.9999999999882,
          1128.299999999988,
          1050.5999999999879,
          1206.7999999999877,
          1212.6999999999875,
          1191.6999999999882,
          1132.2999999999888,
          1083.2999999999893,
          1057.4999999999898,
          1039.1999999999905,
          997.4999999999903,
          936.2999999999895,
          907.0999999999893,
          895.5999999999899,
          882.2999999999904,
          865.8999999999903,
          864.6999999999903,
          874.4999999999902,
          941.0999999999899,
          903.4999999999894,
          839.4999999999893,
          820.59999999999,
          791.2999999999909,
          759.2999999999915,
          730.0999999999914,
          602.4999999999903,
          593.79999999999,
          541.4999999999903,
          617.6999999999904,
          576.8999999999903,
          485.29999999999063,
          388.0999999999912,
          385.4999999999916,
          382.89999999999196,
          375.2999999999926,
          366.9999999999928,
          308.59999999999246,
          340.1999999999927,
          414.39999999999316,
          482.29999999999336,
          550.0999999999931,
          518.6999999999923,
          454.99999999999227,
          706.1999999999923,
          667.2999999999913,
          655.0999999999913,
          596.8999999999919,
          555.5999999999922,
          492.6999999999931
         ]
        }
       ],
       "layout": {
        "font": {
         "color": "#3d825f",
         "size": 10
        },
        "height": 400,
        "margin": {
         "b": 10,
         "l": 15,
         "r": 15
        },
        "paper_bgcolor": "#1e1e1e",
        "plot_bgcolor": "#1e1e1e",
        "template": {
         "data": {
          "bar": [
           {
            "error_x": {
             "color": "#2a3f5f"
            },
            "error_y": {
             "color": "#2a3f5f"
            },
            "marker": {
             "line": {
              "color": "#E5ECF6",
              "width": 0.5
             },
             "pattern": {
              "fillmode": "overlay",
              "size": 10,
              "solidity": 0.2
             }
            },
            "type": "bar"
           }
          ],
          "barpolar": [
           {
            "marker": {
             "line": {
              "color": "#E5ECF6",
              "width": 0.5
             },
             "pattern": {
              "fillmode": "overlay",
              "size": 10,
              "solidity": 0.2
             }
            },
            "type": "barpolar"
           }
          ],
          "carpet": [
           {
            "aaxis": {
             "endlinecolor": "#2a3f5f",
             "gridcolor": "white",
             "linecolor": "white",
             "minorgridcolor": "white",
             "startlinecolor": "#2a3f5f"
            },
            "baxis": {
             "endlinecolor": "#2a3f5f",
             "gridcolor": "white",
             "linecolor": "white",
             "minorgridcolor": "white",
             "startlinecolor": "#2a3f5f"
            },
            "type": "carpet"
           }
          ],
          "choropleth": [
           {
            "colorbar": {
             "outlinewidth": 0,
             "ticks": ""
            },
            "type": "choropleth"
           }
          ],
          "contour": [
           {
            "colorbar": {
             "outlinewidth": 0,
             "ticks": ""
            },
            "colorscale": [
             [
              0,
              "#0d0887"
             ],
             [
              0.1111111111111111,
              "#46039f"
             ],
             [
              0.2222222222222222,
              "#7201a8"
             ],
             [
              0.3333333333333333,
              "#9c179e"
             ],
             [
              0.4444444444444444,
              "#bd3786"
             ],
             [
              0.5555555555555556,
              "#d8576b"
             ],
             [
              0.6666666666666666,
              "#ed7953"
             ],
             [
              0.7777777777777778,
              "#fb9f3a"
             ],
             [
              0.8888888888888888,
              "#fdca26"
             ],
             [
              1,
              "#f0f921"
             ]
            ],
            "type": "contour"
           }
          ],
          "contourcarpet": [
           {
            "colorbar": {
             "outlinewidth": 0,
             "ticks": ""
            },
            "type": "contourcarpet"
           }
          ],
          "heatmap": [
           {
            "colorbar": {
             "outlinewidth": 0,
             "ticks": ""
            },
            "colorscale": [
             [
              0,
              "#0d0887"
             ],
             [
              0.1111111111111111,
              "#46039f"
             ],
             [
              0.2222222222222222,
              "#7201a8"
             ],
             [
              0.3333333333333333,
              "#9c179e"
             ],
             [
              0.4444444444444444,
              "#bd3786"
             ],
             [
              0.5555555555555556,
              "#d8576b"
             ],
             [
              0.6666666666666666,
              "#ed7953"
             ],
             [
              0.7777777777777778,
              "#fb9f3a"
             ],
             [
              0.8888888888888888,
              "#fdca26"
             ],
             [
              1,
              "#f0f921"
             ]
            ],
            "type": "heatmap"
           }
          ],
          "heatmapgl": [
           {
            "colorbar": {
             "outlinewidth": 0,
             "ticks": ""
            },
            "colorscale": [
             [
              0,
              "#0d0887"
             ],
             [
              0.1111111111111111,
              "#46039f"
             ],
             [
              0.2222222222222222,
              "#7201a8"
             ],
             [
              0.3333333333333333,
              "#9c179e"
             ],
             [
              0.4444444444444444,
              "#bd3786"
             ],
             [
              0.5555555555555556,
              "#d8576b"
             ],
             [
              0.6666666666666666,
              "#ed7953"
             ],
             [
              0.7777777777777778,
              "#fb9f3a"
             ],
             [
              0.8888888888888888,
              "#fdca26"
             ],
             [
              1,
              "#f0f921"
             ]
            ],
            "type": "heatmapgl"
           }
          ],
          "histogram": [
           {
            "marker": {
             "pattern": {
              "fillmode": "overlay",
              "size": 10,
              "solidity": 0.2
             }
            },
            "type": "histogram"
           }
          ],
          "histogram2d": [
           {
            "colorbar": {
             "outlinewidth": 0,
             "ticks": ""
            },
            "colorscale": [
             [
              0,
              "#0d0887"
             ],
             [
              0.1111111111111111,
              "#46039f"
             ],
             [
              0.2222222222222222,
              "#7201a8"
             ],
             [
              0.3333333333333333,
              "#9c179e"
             ],
             [
              0.4444444444444444,
              "#bd3786"
             ],
             [
              0.5555555555555556,
              "#d8576b"
             ],
             [
              0.6666666666666666,
              "#ed7953"
             ],
             [
              0.7777777777777778,
              "#fb9f3a"
             ],
             [
              0.8888888888888888,
              "#fdca26"
             ],
             [
              1,
              "#f0f921"
             ]
            ],
            "type": "histogram2d"
           }
          ],
          "histogram2dcontour": [
           {
            "colorbar": {
             "outlinewidth": 0,
             "ticks": ""
            },
            "colorscale": [
             [
              0,
              "#0d0887"
             ],
             [
              0.1111111111111111,
              "#46039f"
             ],
             [
              0.2222222222222222,
              "#7201a8"
             ],
             [
              0.3333333333333333,
              "#9c179e"
             ],
             [
              0.4444444444444444,
              "#bd3786"
             ],
             [
              0.5555555555555556,
              "#d8576b"
             ],
             [
              0.6666666666666666,
              "#ed7953"
             ],
             [
              0.7777777777777778,
              "#fb9f3a"
             ],
             [
              0.8888888888888888,
              "#fdca26"
             ],
             [
              1,
              "#f0f921"
             ]
            ],
            "type": "histogram2dcontour"
           }
          ],
          "mesh3d": [
           {
            "colorbar": {
             "outlinewidth": 0,
             "ticks": ""
            },
            "type": "mesh3d"
           }
          ],
          "parcoords": [
           {
            "line": {
             "colorbar": {
              "outlinewidth": 0,
              "ticks": ""
             }
            },
            "type": "parcoords"
           }
          ],
          "pie": [
           {
            "automargin": true,
            "type": "pie"
           }
          ],
          "scatter": [
           {
            "fillpattern": {
             "fillmode": "overlay",
             "size": 10,
             "solidity": 0.2
            },
            "type": "scatter"
           }
          ],
          "scatter3d": [
           {
            "line": {
             "colorbar": {
              "outlinewidth": 0,
              "ticks": ""
             }
            },
            "marker": {
             "colorbar": {
              "outlinewidth": 0,
              "ticks": ""
             }
            },
            "type": "scatter3d"
           }
          ],
          "scattercarpet": [
           {
            "marker": {
             "colorbar": {
              "outlinewidth": 0,
              "ticks": ""
             }
            },
            "type": "scattercarpet"
           }
          ],
          "scattergeo": [
           {
            "marker": {
             "colorbar": {
              "outlinewidth": 0,
              "ticks": ""
             }
            },
            "type": "scattergeo"
           }
          ],
          "scattergl": [
           {
            "marker": {
             "colorbar": {
              "outlinewidth": 0,
              "ticks": ""
             }
            },
            "type": "scattergl"
           }
          ],
          "scattermapbox": [
           {
            "marker": {
             "colorbar": {
              "outlinewidth": 0,
              "ticks": ""
             }
            },
            "type": "scattermapbox"
           }
          ],
          "scatterpolar": [
           {
            "marker": {
             "colorbar": {
              "outlinewidth": 0,
              "ticks": ""
             }
            },
            "type": "scatterpolar"
           }
          ],
          "scatterpolargl": [
           {
            "marker": {
             "colorbar": {
              "outlinewidth": 0,
              "ticks": ""
             }
            },
            "type": "scatterpolargl"
           }
          ],
          "scatterternary": [
           {
            "marker": {
             "colorbar": {
              "outlinewidth": 0,
              "ticks": ""
             }
            },
            "type": "scatterternary"
           }
          ],
          "surface": [
           {
            "colorbar": {
             "outlinewidth": 0,
             "ticks": ""
            },
            "colorscale": [
             [
              0,
              "#0d0887"
             ],
             [
              0.1111111111111111,
              "#46039f"
             ],
             [
              0.2222222222222222,
              "#7201a8"
             ],
             [
              0.3333333333333333,
              "#9c179e"
             ],
             [
              0.4444444444444444,
              "#bd3786"
             ],
             [
              0.5555555555555556,
              "#d8576b"
             ],
             [
              0.6666666666666666,
              "#ed7953"
             ],
             [
              0.7777777777777778,
              "#fb9f3a"
             ],
             [
              0.8888888888888888,
              "#fdca26"
             ],
             [
              1,
              "#f0f921"
             ]
            ],
            "type": "surface"
           }
          ],
          "table": [
           {
            "cells": {
             "fill": {
              "color": "#EBF0F8"
             },
             "line": {
              "color": "white"
             }
            },
            "header": {
             "fill": {
              "color": "#C8D4E3"
             },
             "line": {
              "color": "white"
             }
            },
            "type": "table"
           }
          ]
         },
         "layout": {
          "annotationdefaults": {
           "arrowcolor": "#2a3f5f",
           "arrowhead": 0,
           "arrowwidth": 1
          },
          "autotypenumbers": "strict",
          "coloraxis": {
           "colorbar": {
            "outlinewidth": 0,
            "ticks": ""
           }
          },
          "colorscale": {
           "diverging": [
            [
             0,
             "#8e0152"
            ],
            [
             0.1,
             "#c51b7d"
            ],
            [
             0.2,
             "#de77ae"
            ],
            [
             0.3,
             "#f1b6da"
            ],
            [
             0.4,
             "#fde0ef"
            ],
            [
             0.5,
             "#f7f7f7"
            ],
            [
             0.6,
             "#e6f5d0"
            ],
            [
             0.7,
             "#b8e186"
            ],
            [
             0.8,
             "#7fbc41"
            ],
            [
             0.9,
             "#4d9221"
            ],
            [
             1,
             "#276419"
            ]
           ],
           "sequential": [
            [
             0,
             "#0d0887"
            ],
            [
             0.1111111111111111,
             "#46039f"
            ],
            [
             0.2222222222222222,
             "#7201a8"
            ],
            [
             0.3333333333333333,
             "#9c179e"
            ],
            [
             0.4444444444444444,
             "#bd3786"
            ],
            [
             0.5555555555555556,
             "#d8576b"
            ],
            [
             0.6666666666666666,
             "#ed7953"
            ],
            [
             0.7777777777777778,
             "#fb9f3a"
            ],
            [
             0.8888888888888888,
             "#fdca26"
            ],
            [
             1,
             "#f0f921"
            ]
           ],
           "sequentialminus": [
            [
             0,
             "#0d0887"
            ],
            [
             0.1111111111111111,
             "#46039f"
            ],
            [
             0.2222222222222222,
             "#7201a8"
            ],
            [
             0.3333333333333333,
             "#9c179e"
            ],
            [
             0.4444444444444444,
             "#bd3786"
            ],
            [
             0.5555555555555556,
             "#d8576b"
            ],
            [
             0.6666666666666666,
             "#ed7953"
            ],
            [
             0.7777777777777778,
             "#fb9f3a"
            ],
            [
             0.8888888888888888,
             "#fdca26"
            ],
            [
             1,
             "#f0f921"
            ]
           ]
          },
          "colorway": [
           "#636efa",
           "#EF553B",
           "#00cc96",
           "#ab63fa",
           "#FFA15A",
           "#19d3f3",
           "#FF6692",
           "#B6E880",
           "#FF97FF",
           "#FECB52"
          ],
          "font": {
           "color": "#2a3f5f"
          },
          "geo": {
           "bgcolor": "white",
           "lakecolor": "white",
           "landcolor": "#E5ECF6",
           "showlakes": true,
           "showland": true,
           "subunitcolor": "white"
          },
          "hoverlabel": {
           "align": "left"
          },
          "hovermode": "closest",
          "mapbox": {
           "style": "light"
          },
          "paper_bgcolor": "white",
          "plot_bgcolor": "#E5ECF6",
          "polar": {
           "angularaxis": {
            "gridcolor": "white",
            "linecolor": "white",
            "ticks": ""
           },
           "bgcolor": "#E5ECF6",
           "radialaxis": {
            "gridcolor": "white",
            "linecolor": "white",
            "ticks": ""
           }
          },
          "scene": {
           "xaxis": {
            "backgroundcolor": "#E5ECF6",
            "gridcolor": "white",
            "gridwidth": 2,
            "linecolor": "white",
            "showbackground": true,
            "ticks": "",
            "zerolinecolor": "white"
           },
           "yaxis": {
            "backgroundcolor": "#E5ECF6",
            "gridcolor": "white",
            "gridwidth": 2,
            "linecolor": "white",
            "showbackground": true,
            "ticks": "",
            "zerolinecolor": "white"
           },
           "zaxis": {
            "backgroundcolor": "#E5ECF6",
            "gridcolor": "white",
            "gridwidth": 2,
            "linecolor": "white",
            "showbackground": true,
            "ticks": "",
            "zerolinecolor": "white"
           }
          },
          "shapedefaults": {
           "line": {
            "color": "#2a3f5f"
           }
          },
          "ternary": {
           "aaxis": {
            "gridcolor": "white",
            "linecolor": "white",
            "ticks": ""
           },
           "baxis": {
            "gridcolor": "white",
            "linecolor": "white",
            "ticks": ""
           },
           "bgcolor": "#E5ECF6",
           "caxis": {
            "gridcolor": "white",
            "linecolor": "white",
            "ticks": ""
           }
          },
          "title": {
           "x": 0.05
          },
          "xaxis": {
           "automargin": true,
           "gridcolor": "white",
           "linecolor": "white",
           "ticks": "",
           "title": {
            "standoff": 15
           },
           "zerolinecolor": "white",
           "zerolinewidth": 2
          },
          "yaxis": {
           "automargin": true,
           "gridcolor": "white",
           "linecolor": "white",
           "ticks": "",
           "title": {
            "standoff": 15
           },
           "zerolinecolor": "white",
           "zerolinewidth": 2
          }
         }
        },
        "title": {
         "text": "CAD_JPY_ma_8_32"
        },
        "width": 1000,
        "xaxis": {
         "linecolor": "#3a4a54",
         "linewidth": 1,
         "showgrid": false,
         "zeroline": false
        },
        "yaxis": {
         "linecolor": "#3a4a54",
         "linewidth": 1,
         "showgrid": false,
         "zeroline": false
        }
       }
      }
     },
     "metadata": {},
     "output_type": "display_data"
    },
    {
     "data": {
      "application/vnd.plotly.v1+json": {
       "config": {
        "plotlyServerURL": "https://plot.ly"
       },
       "data": [
        {
         "line": {
          "color": "#3d825f",
          "shape": "spline",
          "width": 2
         },
         "mode": "lines",
         "name": "NZD_JPY_ma_8_32",
         "type": "scatter",
         "x": [
          "2022-03-31T02:00:00+00:00",
          "2022-03-31T06:00:00+00:00",
          "2022-04-01T05:00:00+00:00",
          "2022-04-06T15:00:00+00:00",
          "2022-04-11T05:00:00+00:00",
          "2022-04-13T08:00:00+00:00",
          "2022-04-14T08:00:00+00:00",
          "2022-04-17T21:00:00+00:00",
          "2022-04-18T22:00:00+00:00",
          "2022-04-20T23:00:00+00:00",
          "2022-04-21T06:00:00+00:00",
          "2022-04-21T15:00:00+00:00",
          "2022-04-26T04:00:00+00:00",
          "2022-04-26T13:00:00+00:00",
          "2022-04-27T12:00:00+00:00",
          "2022-04-29T14:00:00+00:00",
          "2022-05-03T01:00:00+00:00",
          "2022-05-03T10:00:00+00:00",
          "2022-05-03T22:00:00+00:00",
          "2022-05-04T19:00:00+00:00",
          "2022-05-05T06:00:00+00:00",
          "2022-05-05T19:00:00+00:00",
          "2022-05-06T04:00:00+00:00",
          "2022-05-06T05:00:00+00:00",
          "2022-05-06T19:00:00+00:00",
          "2022-05-08T22:00:00+00:00",
          "2022-05-11T07:00:00+00:00",
          "2022-05-11T20:00:00+00:00",
          "2022-05-13T07:00:00+00:00",
          "2022-05-16T07:00:00+00:00",
          "2022-05-16T11:00:00+00:00",
          "2022-05-18T07:00:00+00:00",
          "2022-05-19T16:00:00+00:00",
          "2022-05-22T21:00:00+00:00",
          "2022-05-22T22:00:00+00:00",
          "2022-05-24T03:00:00+00:00",
          "2022-05-25T04:00:00+00:00",
          "2022-05-26T08:00:00+00:00",
          "2022-05-26T22:00:00+00:00",
          "2022-05-31T11:00:00+00:00",
          "2022-05-31T17:00:00+00:00",
          "2022-06-06T01:00:00+00:00",
          "2022-06-06T10:00:00+00:00",
          "2022-06-09T07:00:00+00:00",
          "2022-06-15T01:00:00+00:00",
          "2022-06-15T07:00:00+00:00",
          "2022-06-15T14:00:00+00:00",
          "2022-06-16T10:00:00+00:00",
          "2022-06-16T22:00:00+00:00",
          "2022-06-22T04:00:00+00:00",
          "2022-06-24T07:00:00+00:00",
          "2022-06-27T07:00:00+00:00",
          "2022-06-27T08:00:00+00:00",
          "2022-06-28T01:00:00+00:00",
          "2022-06-28T07:00:00+00:00",
          "2022-06-28T18:00:00+00:00",
          "2022-07-04T05:00:00+00:00",
          "2022-07-05T10:00:00+00:00",
          "2022-07-06T23:00:00+00:00",
          "2022-07-08T05:00:00+00:00",
          "2022-07-08T16:00:00+00:00",
          "2022-07-11T16:00:00+00:00",
          "2022-07-13T02:00:00+00:00",
          "2022-07-18T11:00:00+00:00",
          "2022-07-18T12:00:00+00:00",
          "2022-07-18T17:00:00+00:00",
          "2022-07-19T08:00:00+00:00",
          "2022-07-20T19:00:00+00:00",
          "2022-07-25T12:00:00+00:00",
          "2022-07-26T10:00:00+00:00",
          "2022-07-27T02:00:00+00:00",
          "2022-07-27T09:00:00+00:00",
          "2022-07-27T21:00:00+00:00",
          "2022-07-28T02:00:00+00:00",
          "2022-08-01T14:00:00+00:00",
          "2022-08-01T18:00:00+00:00",
          "2022-08-02T20:00:00+00:00",
          "2022-08-04T17:00:00+00:00",
          "2022-08-05T15:00:00+00:00",
          "2022-08-15T04:00:00+00:00",
          "2022-08-16T13:00:00+00:00",
          "2022-08-17T13:00:00+00:00",
          "2022-08-18T14:00:00+00:00",
          "2022-08-19T15:00:00+00:00",
          "2022-08-22T04:00:00+00:00",
          "2022-08-22T20:00:00+00:00",
          "2022-08-22T22:00:00+00:00",
          "2022-08-23T06:00:00+00:00",
          "2022-08-23T13:00:00+00:00",
          "2022-08-24T02:00:00+00:00",
          "2022-08-24T21:00:00+00:00",
          "2022-08-25T23:00:00+00:00",
          "2022-08-26T13:00:00+00:00",
          "2022-08-26T14:00:00+00:00",
          "2022-08-29T08:00:00+00:00",
          "2022-08-30T17:00:00+00:00",
          "2022-09-01T00:00:00+00:00",
          "2022-09-01T06:00:00+00:00",
          "2022-09-01T19:00:00+00:00",
          "2022-09-08T10:00:00+00:00",
          "2022-09-08T22:00:00+00:00",
          "2022-09-09T11:00:00+00:00",
          "2022-09-12T04:00:00+00:00",
          "2022-09-13T05:00:00+00:00",
          "2022-09-15T06:00:00+00:00",
          "2022-09-15T15:00:00+00:00",
          "2022-09-18T22:00:00+00:00",
          "2022-09-19T08:00:00+00:00",
          "2022-09-21T16:00:00+00:00",
          "2022-09-21T19:00:00+00:00",
          "2022-09-27T06:00:00+00:00",
          "2022-09-27T17:00:00+00:00",
          "2022-09-28T16:00:00+00:00",
          "2022-09-30T12:00:00+00:00",
          "2022-10-03T10:00:00+00:00",
          "2022-10-04T18:00:00+00:00",
          "2022-10-05T05:00:00+00:00",
          "2022-10-05T11:00:00+00:00",
          "2022-10-05T20:00:00+00:00",
          "2022-10-06T12:00:00+00:00",
          "2022-10-11T12:00:00+00:00",
          "2022-10-14T17:00:00+00:00",
          "2022-10-17T09:00:00+00:00",
          "2022-10-19T18:00:00+00:00",
          "2022-10-19T19:00:00+00:00",
          "2022-10-19T23:00:00+00:00",
          "2022-10-20T11:00:00+00:00",
          "2022-10-21T05:00:00+00:00",
          "2022-10-21T10:00:00+00:00",
          "2022-10-21T18:00:00+00:00",
          "2022-10-24T00:00:00+00:00",
          "2022-10-24T11:00:00+00:00",
          "2022-10-25T07:00:00+00:00",
          "2022-10-25T08:00:00+00:00",
          "2022-10-25T15:00:00+00:00",
          "2022-10-27T06:00:00+00:00",
          "2022-10-27T18:00:00+00:00",
          "2022-11-01T21:00:00+00:00",
          "2022-11-04T04:00:00+00:00",
          "2022-11-08T09:00:00+00:00",
          "2022-11-14T09:00:00+00:00"
         ],
         "y": [
          -67.69999999999925,
          -88.99999999999864,
          21.30000000000223,
          51.60000000000338,
          60.20000000000465,
          68.60000000000497,
          83.10000000000457,
          81.40000000000498,
          198.6000000000061,
          189.80000000000672,
          165.50000000000722,
          320.10000000000787,
          214.80000000000814,
          225.20000000000806,
          251.80000000000717,
          276.6000000000062,
          230.0000000000054,
          202.6000000000053,
          127.50000000000625,
          -15.199999999992997,
          -99.19999999999334,
          -129.4999999999945,
          -136.79999999999524,
          -127.7999999999949,
          -142.89999999999452,
          1.6000000000047976,
          -31.09999999999644,
          100.70000000000334,
          141.30000000000393,
          103.50000000000392,
          195.5000000000041,
          252.00000000000387,
          280.600000000004,
          257.000000000005,
          269.800000000005,
          238.1000000000043,
          172.60000000000417,
          132.60000000000502,
          249.00000000000517,
          213.4000000000043,
          321.2000000000032,
          295.0000000000031,
          367.90000000000305,
          529.4000000000026,
          474.80000000000337,
          447.7000000000033,
          373.50000000000284,
          274.50000000000335,
          383.4000000000032,
          453.80000000000257,
          513.3000000000025,
          506.60000000000315,
          481.60000000000315,
          452.50000000000205,
          420.00000000000176,
          506.6000000000017,
          458.0000000000013,
          469.6000000000013,
          479.80000000000166,
          439.70000000000203,
          439.00000000000153,
          449.8000000000005,
          579.0000000000007,
          566.5000000000007,
          530.5999999999998,
          457.9999999999999,
          489.60000000000014,
          543.2000000000003,
          506.10000000000076,
          488.90000000000106,
          479.40000000000117,
          450.200000000001,
          374.8000000000005,
          484.19999999999993,
          461.6999999999991,
          480.99999999999886,
          544.399999999999,
          495.39999999999804,
          605.9999999999975,
          628.799999999997,
          590.999999999997,
          592.699999999998,
          566.7999999999979,
          518.999999999997,
          493.4999999999961,
          485.5999999999953,
          451.99999999999545,
          410.39999999999577,
          373.99999999999534,
          353.1999999999955,
          355.9999999999961,
          340.6999999999955,
          315.599999999995,
          326.39999999999543,
          370.19999999999567,
          373.3999999999953,
          366.3999999999946,
          348.7999999999944,
          529.8999999999951,
          500.5999999999959,
          464.9999999999964,
          424.5999999999968,
          418.1999999999975,
          517.4999999999984,
          466.79999999999933,
          481.99999999999943,
          453.2999999999988,
          506.59999999999894,
          453.89999999999884,
          645.1999999999985,
          561.9999999999991,
          485.199999999999,
          459.39999999999804,
          452.1999999999978,
          498.59999999999764,
          476.19999999999726,
          414.1999999999968,
          331.3999999999965,
          290.2999999999964,
          379.99999999999693,
          483.39999999999753,
          430.7999999999979,
          589.1999999999982,
          577.1999999999978,
          562.5999999999976,
          500.1999999999981,
          457.7999999999989,
          408.0999999999989,
          325.09999999999764,
          228.5999999999973,
          131.39999999999787,
          100.79999999999814,
          77.5999999999982,
          35.3999999999985,
          23.89999999999901,
          -2.400000000000091,
          131.00000000000023,
          194.70000000000027,
          272.3000000000013,
          413.2000000000019,
          445.4000000000022
         ]
        }
       ],
       "layout": {
        "font": {
         "color": "#3d825f",
         "size": 10
        },
        "height": 400,
        "margin": {
         "b": 10,
         "l": 15,
         "r": 15
        },
        "paper_bgcolor": "#1e1e1e",
        "plot_bgcolor": "#1e1e1e",
        "template": {
         "data": {
          "bar": [
           {
            "error_x": {
             "color": "#2a3f5f"
            },
            "error_y": {
             "color": "#2a3f5f"
            },
            "marker": {
             "line": {
              "color": "#E5ECF6",
              "width": 0.5
             },
             "pattern": {
              "fillmode": "overlay",
              "size": 10,
              "solidity": 0.2
             }
            },
            "type": "bar"
           }
          ],
          "barpolar": [
           {
            "marker": {
             "line": {
              "color": "#E5ECF6",
              "width": 0.5
             },
             "pattern": {
              "fillmode": "overlay",
              "size": 10,
              "solidity": 0.2
             }
            },
            "type": "barpolar"
           }
          ],
          "carpet": [
           {
            "aaxis": {
             "endlinecolor": "#2a3f5f",
             "gridcolor": "white",
             "linecolor": "white",
             "minorgridcolor": "white",
             "startlinecolor": "#2a3f5f"
            },
            "baxis": {
             "endlinecolor": "#2a3f5f",
             "gridcolor": "white",
             "linecolor": "white",
             "minorgridcolor": "white",
             "startlinecolor": "#2a3f5f"
            },
            "type": "carpet"
           }
          ],
          "choropleth": [
           {
            "colorbar": {
             "outlinewidth": 0,
             "ticks": ""
            },
            "type": "choropleth"
           }
          ],
          "contour": [
           {
            "colorbar": {
             "outlinewidth": 0,
             "ticks": ""
            },
            "colorscale": [
             [
              0,
              "#0d0887"
             ],
             [
              0.1111111111111111,
              "#46039f"
             ],
             [
              0.2222222222222222,
              "#7201a8"
             ],
             [
              0.3333333333333333,
              "#9c179e"
             ],
             [
              0.4444444444444444,
              "#bd3786"
             ],
             [
              0.5555555555555556,
              "#d8576b"
             ],
             [
              0.6666666666666666,
              "#ed7953"
             ],
             [
              0.7777777777777778,
              "#fb9f3a"
             ],
             [
              0.8888888888888888,
              "#fdca26"
             ],
             [
              1,
              "#f0f921"
             ]
            ],
            "type": "contour"
           }
          ],
          "contourcarpet": [
           {
            "colorbar": {
             "outlinewidth": 0,
             "ticks": ""
            },
            "type": "contourcarpet"
           }
          ],
          "heatmap": [
           {
            "colorbar": {
             "outlinewidth": 0,
             "ticks": ""
            },
            "colorscale": [
             [
              0,
              "#0d0887"
             ],
             [
              0.1111111111111111,
              "#46039f"
             ],
             [
              0.2222222222222222,
              "#7201a8"
             ],
             [
              0.3333333333333333,
              "#9c179e"
             ],
             [
              0.4444444444444444,
              "#bd3786"
             ],
             [
              0.5555555555555556,
              "#d8576b"
             ],
             [
              0.6666666666666666,
              "#ed7953"
             ],
             [
              0.7777777777777778,
              "#fb9f3a"
             ],
             [
              0.8888888888888888,
              "#fdca26"
             ],
             [
              1,
              "#f0f921"
             ]
            ],
            "type": "heatmap"
           }
          ],
          "heatmapgl": [
           {
            "colorbar": {
             "outlinewidth": 0,
             "ticks": ""
            },
            "colorscale": [
             [
              0,
              "#0d0887"
             ],
             [
              0.1111111111111111,
              "#46039f"
             ],
             [
              0.2222222222222222,
              "#7201a8"
             ],
             [
              0.3333333333333333,
              "#9c179e"
             ],
             [
              0.4444444444444444,
              "#bd3786"
             ],
             [
              0.5555555555555556,
              "#d8576b"
             ],
             [
              0.6666666666666666,
              "#ed7953"
             ],
             [
              0.7777777777777778,
              "#fb9f3a"
             ],
             [
              0.8888888888888888,
              "#fdca26"
             ],
             [
              1,
              "#f0f921"
             ]
            ],
            "type": "heatmapgl"
           }
          ],
          "histogram": [
           {
            "marker": {
             "pattern": {
              "fillmode": "overlay",
              "size": 10,
              "solidity": 0.2
             }
            },
            "type": "histogram"
           }
          ],
          "histogram2d": [
           {
            "colorbar": {
             "outlinewidth": 0,
             "ticks": ""
            },
            "colorscale": [
             [
              0,
              "#0d0887"
             ],
             [
              0.1111111111111111,
              "#46039f"
             ],
             [
              0.2222222222222222,
              "#7201a8"
             ],
             [
              0.3333333333333333,
              "#9c179e"
             ],
             [
              0.4444444444444444,
              "#bd3786"
             ],
             [
              0.5555555555555556,
              "#d8576b"
             ],
             [
              0.6666666666666666,
              "#ed7953"
             ],
             [
              0.7777777777777778,
              "#fb9f3a"
             ],
             [
              0.8888888888888888,
              "#fdca26"
             ],
             [
              1,
              "#f0f921"
             ]
            ],
            "type": "histogram2d"
           }
          ],
          "histogram2dcontour": [
           {
            "colorbar": {
             "outlinewidth": 0,
             "ticks": ""
            },
            "colorscale": [
             [
              0,
              "#0d0887"
             ],
             [
              0.1111111111111111,
              "#46039f"
             ],
             [
              0.2222222222222222,
              "#7201a8"
             ],
             [
              0.3333333333333333,
              "#9c179e"
             ],
             [
              0.4444444444444444,
              "#bd3786"
             ],
             [
              0.5555555555555556,
              "#d8576b"
             ],
             [
              0.6666666666666666,
              "#ed7953"
             ],
             [
              0.7777777777777778,
              "#fb9f3a"
             ],
             [
              0.8888888888888888,
              "#fdca26"
             ],
             [
              1,
              "#f0f921"
             ]
            ],
            "type": "histogram2dcontour"
           }
          ],
          "mesh3d": [
           {
            "colorbar": {
             "outlinewidth": 0,
             "ticks": ""
            },
            "type": "mesh3d"
           }
          ],
          "parcoords": [
           {
            "line": {
             "colorbar": {
              "outlinewidth": 0,
              "ticks": ""
             }
            },
            "type": "parcoords"
           }
          ],
          "pie": [
           {
            "automargin": true,
            "type": "pie"
           }
          ],
          "scatter": [
           {
            "fillpattern": {
             "fillmode": "overlay",
             "size": 10,
             "solidity": 0.2
            },
            "type": "scatter"
           }
          ],
          "scatter3d": [
           {
            "line": {
             "colorbar": {
              "outlinewidth": 0,
              "ticks": ""
             }
            },
            "marker": {
             "colorbar": {
              "outlinewidth": 0,
              "ticks": ""
             }
            },
            "type": "scatter3d"
           }
          ],
          "scattercarpet": [
           {
            "marker": {
             "colorbar": {
              "outlinewidth": 0,
              "ticks": ""
             }
            },
            "type": "scattercarpet"
           }
          ],
          "scattergeo": [
           {
            "marker": {
             "colorbar": {
              "outlinewidth": 0,
              "ticks": ""
             }
            },
            "type": "scattergeo"
           }
          ],
          "scattergl": [
           {
            "marker": {
             "colorbar": {
              "outlinewidth": 0,
              "ticks": ""
             }
            },
            "type": "scattergl"
           }
          ],
          "scattermapbox": [
           {
            "marker": {
             "colorbar": {
              "outlinewidth": 0,
              "ticks": ""
             }
            },
            "type": "scattermapbox"
           }
          ],
          "scatterpolar": [
           {
            "marker": {
             "colorbar": {
              "outlinewidth": 0,
              "ticks": ""
             }
            },
            "type": "scatterpolar"
           }
          ],
          "scatterpolargl": [
           {
            "marker": {
             "colorbar": {
              "outlinewidth": 0,
              "ticks": ""
             }
            },
            "type": "scatterpolargl"
           }
          ],
          "scatterternary": [
           {
            "marker": {
             "colorbar": {
              "outlinewidth": 0,
              "ticks": ""
             }
            },
            "type": "scatterternary"
           }
          ],
          "surface": [
           {
            "colorbar": {
             "outlinewidth": 0,
             "ticks": ""
            },
            "colorscale": [
             [
              0,
              "#0d0887"
             ],
             [
              0.1111111111111111,
              "#46039f"
             ],
             [
              0.2222222222222222,
              "#7201a8"
             ],
             [
              0.3333333333333333,
              "#9c179e"
             ],
             [
              0.4444444444444444,
              "#bd3786"
             ],
             [
              0.5555555555555556,
              "#d8576b"
             ],
             [
              0.6666666666666666,
              "#ed7953"
             ],
             [
              0.7777777777777778,
              "#fb9f3a"
             ],
             [
              0.8888888888888888,
              "#fdca26"
             ],
             [
              1,
              "#f0f921"
             ]
            ],
            "type": "surface"
           }
          ],
          "table": [
           {
            "cells": {
             "fill": {
              "color": "#EBF0F8"
             },
             "line": {
              "color": "white"
             }
            },
            "header": {
             "fill": {
              "color": "#C8D4E3"
             },
             "line": {
              "color": "white"
             }
            },
            "type": "table"
           }
          ]
         },
         "layout": {
          "annotationdefaults": {
           "arrowcolor": "#2a3f5f",
           "arrowhead": 0,
           "arrowwidth": 1
          },
          "autotypenumbers": "strict",
          "coloraxis": {
           "colorbar": {
            "outlinewidth": 0,
            "ticks": ""
           }
          },
          "colorscale": {
           "diverging": [
            [
             0,
             "#8e0152"
            ],
            [
             0.1,
             "#c51b7d"
            ],
            [
             0.2,
             "#de77ae"
            ],
            [
             0.3,
             "#f1b6da"
            ],
            [
             0.4,
             "#fde0ef"
            ],
            [
             0.5,
             "#f7f7f7"
            ],
            [
             0.6,
             "#e6f5d0"
            ],
            [
             0.7,
             "#b8e186"
            ],
            [
             0.8,
             "#7fbc41"
            ],
            [
             0.9,
             "#4d9221"
            ],
            [
             1,
             "#276419"
            ]
           ],
           "sequential": [
            [
             0,
             "#0d0887"
            ],
            [
             0.1111111111111111,
             "#46039f"
            ],
            [
             0.2222222222222222,
             "#7201a8"
            ],
            [
             0.3333333333333333,
             "#9c179e"
            ],
            [
             0.4444444444444444,
             "#bd3786"
            ],
            [
             0.5555555555555556,
             "#d8576b"
            ],
            [
             0.6666666666666666,
             "#ed7953"
            ],
            [
             0.7777777777777778,
             "#fb9f3a"
            ],
            [
             0.8888888888888888,
             "#fdca26"
            ],
            [
             1,
             "#f0f921"
            ]
           ],
           "sequentialminus": [
            [
             0,
             "#0d0887"
            ],
            [
             0.1111111111111111,
             "#46039f"
            ],
            [
             0.2222222222222222,
             "#7201a8"
            ],
            [
             0.3333333333333333,
             "#9c179e"
            ],
            [
             0.4444444444444444,
             "#bd3786"
            ],
            [
             0.5555555555555556,
             "#d8576b"
            ],
            [
             0.6666666666666666,
             "#ed7953"
            ],
            [
             0.7777777777777778,
             "#fb9f3a"
            ],
            [
             0.8888888888888888,
             "#fdca26"
            ],
            [
             1,
             "#f0f921"
            ]
           ]
          },
          "colorway": [
           "#636efa",
           "#EF553B",
           "#00cc96",
           "#ab63fa",
           "#FFA15A",
           "#19d3f3",
           "#FF6692",
           "#B6E880",
           "#FF97FF",
           "#FECB52"
          ],
          "font": {
           "color": "#2a3f5f"
          },
          "geo": {
           "bgcolor": "white",
           "lakecolor": "white",
           "landcolor": "#E5ECF6",
           "showlakes": true,
           "showland": true,
           "subunitcolor": "white"
          },
          "hoverlabel": {
           "align": "left"
          },
          "hovermode": "closest",
          "mapbox": {
           "style": "light"
          },
          "paper_bgcolor": "white",
          "plot_bgcolor": "#E5ECF6",
          "polar": {
           "angularaxis": {
            "gridcolor": "white",
            "linecolor": "white",
            "ticks": ""
           },
           "bgcolor": "#E5ECF6",
           "radialaxis": {
            "gridcolor": "white",
            "linecolor": "white",
            "ticks": ""
           }
          },
          "scene": {
           "xaxis": {
            "backgroundcolor": "#E5ECF6",
            "gridcolor": "white",
            "gridwidth": 2,
            "linecolor": "white",
            "showbackground": true,
            "ticks": "",
            "zerolinecolor": "white"
           },
           "yaxis": {
            "backgroundcolor": "#E5ECF6",
            "gridcolor": "white",
            "gridwidth": 2,
            "linecolor": "white",
            "showbackground": true,
            "ticks": "",
            "zerolinecolor": "white"
           },
           "zaxis": {
            "backgroundcolor": "#E5ECF6",
            "gridcolor": "white",
            "gridwidth": 2,
            "linecolor": "white",
            "showbackground": true,
            "ticks": "",
            "zerolinecolor": "white"
           }
          },
          "shapedefaults": {
           "line": {
            "color": "#2a3f5f"
           }
          },
          "ternary": {
           "aaxis": {
            "gridcolor": "white",
            "linecolor": "white",
            "ticks": ""
           },
           "baxis": {
            "gridcolor": "white",
            "linecolor": "white",
            "ticks": ""
           },
           "bgcolor": "#E5ECF6",
           "caxis": {
            "gridcolor": "white",
            "linecolor": "white",
            "ticks": ""
           }
          },
          "title": {
           "x": 0.05
          },
          "xaxis": {
           "automargin": true,
           "gridcolor": "white",
           "linecolor": "white",
           "ticks": "",
           "title": {
            "standoff": 15
           },
           "zerolinecolor": "white",
           "zerolinewidth": 2
          },
          "yaxis": {
           "automargin": true,
           "gridcolor": "white",
           "linecolor": "white",
           "ticks": "",
           "title": {
            "standoff": 15
           },
           "zerolinecolor": "white",
           "zerolinewidth": 2
          }
         }
        },
        "title": {
         "text": "NZD_JPY_ma_8_32"
        },
        "width": 1000,
        "xaxis": {
         "linecolor": "#3a4a54",
         "linewidth": 1,
         "showgrid": false,
         "zeroline": false
        },
        "yaxis": {
         "linecolor": "#3a4a54",
         "linewidth": 1,
         "showgrid": false,
         "zeroline": false
        }
       }
      }
     },
     "metadata": {},
     "output_type": "display_data"
    },
    {
     "data": {
      "application/vnd.plotly.v1+json": {
       "config": {
        "plotlyServerURL": "https://plot.ly"
       },
       "data": [
        {
         "line": {
          "color": "#3d825f",
          "shape": "spline",
          "width": 2
         },
         "mode": "lines",
         "name": "CHF_JPY_ma_8_32",
         "type": "scatter",
         "x": [
          "2022-03-31T11:00:00+00:00",
          "2022-04-01T02:00:00+00:00",
          "2022-04-04T02:00:00+00:00",
          "2022-04-04T16:00:00+00:00",
          "2022-04-05T03:00:00+00:00",
          "2022-04-05T10:00:00+00:00",
          "2022-04-06T11:00:00+00:00",
          "2022-04-07T12:00:00+00:00",
          "2022-04-08T02:00:00+00:00",
          "2022-04-08T11:00:00+00:00",
          "2022-04-12T14:00:00+00:00",
          "2022-04-13T05:00:00+00:00",
          "2022-04-13T17:00:00+00:00",
          "2022-04-15T06:00:00+00:00",
          "2022-04-18T12:00:00+00:00",
          "2022-04-18T13:00:00+00:00",
          "2022-04-20T06:00:00+00:00",
          "2022-04-21T07:00:00+00:00",
          "2022-04-21T18:00:00+00:00",
          "2022-04-27T21:00:00+00:00",
          "2022-04-29T09:00:00+00:00",
          "2022-05-05T02:00:00+00:00",
          "2022-05-05T13:00:00+00:00",
          "2022-05-06T10:00:00+00:00",
          "2022-05-06T13:00:00+00:00",
          "2022-05-06T14:00:00+00:00",
          "2022-05-06T16:00:00+00:00",
          "2022-05-11T09:00:00+00:00",
          "2022-05-11T20:00:00+00:00",
          "2022-05-13T11:00:00+00:00",
          "2022-05-16T06:00:00+00:00",
          "2022-05-16T22:00:00+00:00",
          "2022-05-18T08:00:00+00:00",
          "2022-05-19T02:00:00+00:00",
          "2022-05-20T17:00:00+00:00",
          "2022-05-23T09:00:00+00:00",
          "2022-05-24T12:00:00+00:00",
          "2022-05-25T14:00:00+00:00",
          "2022-05-26T11:00:00+00:00",
          "2022-05-26T14:00:00+00:00",
          "2022-06-06T17:00:00+00:00",
          "2022-06-07T00:00:00+00:00",
          "2022-06-07T15:00:00+00:00",
          "2022-06-07T16:00:00+00:00",
          "2022-06-09T07:00:00+00:00",
          "2022-06-09T19:00:00+00:00",
          "2022-06-10T00:00:00+00:00",
          "2022-06-14T09:00:00+00:00",
          "2022-06-14T17:00:00+00:00",
          "2022-06-14T23:00:00+00:00",
          "2022-06-15T07:00:00+00:00",
          "2022-06-16T03:00:00+00:00",
          "2022-06-23T06:00:00+00:00",
          "2022-06-24T10:00:00+00:00",
          "2022-06-30T09:00:00+00:00",
          "2022-07-04T09:00:00+00:00",
          "2022-07-05T12:00:00+00:00",
          "2022-07-06T21:00:00+00:00",
          "2022-07-07T14:00:00+00:00",
          "2022-07-11T01:00:00+00:00",
          "2022-07-12T01:00:00+00:00",
          "2022-07-13T03:00:00+00:00",
          "2022-07-18T12:00:00+00:00",
          "2022-07-19T09:00:00+00:00",
          "2022-07-20T14:00:00+00:00",
          "2022-07-21T04:00:00+00:00",
          "2022-07-21T19:00:00+00:00",
          "2022-07-25T15:00:00+00:00",
          "2022-07-26T13:00:00+00:00",
          "2022-07-26T14:00:00+00:00",
          "2022-07-28T00:00:00+00:00",
          "2022-08-02T19:00:00+00:00",
          "2022-08-04T17:00:00+00:00",
          "2022-08-05T12:00:00+00:00",
          "2022-08-10T14:00:00+00:00",
          "2022-08-11T18:00:00+00:00",
          "2022-08-15T03:00:00+00:00",
          "2022-08-16T09:00:00+00:00",
          "2022-08-18T12:00:00+00:00",
          "2022-08-18T21:00:00+00:00",
          "2022-08-22T13:00:00+00:00",
          "2022-08-24T21:00:00+00:00",
          "2022-08-25T12:00:00+00:00",
          "2022-08-26T05:00:00+00:00",
          "2022-08-30T07:00:00+00:00",
          "2022-08-31T22:00:00+00:00",
          "2022-09-04T22:00:00+00:00",
          "2022-09-05T10:00:00+00:00",
          "2022-09-09T16:00:00+00:00",
          "2022-09-09T18:00:00+00:00",
          "2022-09-14T07:00:00+00:00",
          "2022-09-15T09:00:00+00:00",
          "2022-09-16T01:00:00+00:00",
          "2022-09-19T14:00:00+00:00",
          "2022-09-22T00:00:00+00:00",
          "2022-09-22T02:00:00+00:00",
          "2022-09-22T09:00:00+00:00",
          "2022-09-23T14:00:00+00:00",
          "2022-09-26T13:00:00+00:00",
          "2022-09-27T08:00:00+00:00",
          "2022-09-28T01:00:00+00:00",
          "2022-09-28T13:00:00+00:00",
          "2022-09-30T12:00:00+00:00",
          "2022-10-04T10:00:00+00:00",
          "2022-10-05T14:00:00+00:00",
          "2022-10-05T21:00:00+00:00",
          "2022-10-06T14:00:00+00:00",
          "2022-10-11T12:00:00+00:00",
          "2022-10-13T09:00:00+00:00",
          "2022-10-13T20:00:00+00:00",
          "2022-10-19T08:00:00+00:00",
          "2022-10-20T12:00:00+00:00",
          "2022-10-21T15:00:00+00:00",
          "2022-10-24T07:00:00+00:00",
          "2022-10-24T17:00:00+00:00",
          "2022-10-24T20:00:00+00:00",
          "2022-10-25T05:00:00+00:00",
          "2022-10-25T23:00:00+00:00",
          "2022-10-26T14:00:00+00:00",
          "2022-10-28T05:00:00+00:00",
          "2022-11-01T03:00:00+00:00",
          "2022-11-04T11:00:00+00:00",
          "2022-11-08T08:00:00+00:00",
          "2022-11-09T11:00:00+00:00",
          "2022-11-10T12:00:00+00:00",
          "2022-11-11T18:00:00+00:00",
          "2022-11-15T12:00:00+00:00",
          "2022-11-16T08:00:00+00:00"
         ],
         "y": [
          -114.10000000000196,
          -137.0000000000033,
          -145.00000000000455,
          -161.20000000000516,
          -202.00000000000387,
          -201.2000000000029,
          -209.50000000000273,
          -235.20000000000323,
          -261.60000000000423,
          -79.20000000000584,
          -89.20000000000812,
          -122.00000000000841,
          -114.70000000000766,
          -138.70000000000857,
          -148.60000000001037,
          -43.800000000010186,
          -53.40000000001055,
          -133.00000000001262,
          53.39999999998781,
          233.199999999988,
          405.1999999999879,
          374.19999999998765,
          374.19999999998765,
          313.79999999998915,
          261.9999999999891,
          245.99999999998943,
          337.2999999999905,
          284.1999999999899,
          454.99999999998977,
          400.99999999999056,
          375.499999999991,
          453.5999999999916,
          367.4999999999926,
          428.9999999999935,
          337.7999999999929,
          345.1999999999913,
          317.7999999999912,
          312.4999999999915,
          281.5999999999917,
          599.2999999999938,
          564.8999999999944,
          574.1999999999933,
          568.3999999999941,
          575.0999999999948,
          497.6999999999947,
          473.4999999999957,
          645.199999999997,
          609.7999999999985,
          550.4999999999995,
          499.69999999999857,
          485.9999999999985,
          1123.8,
          1147.399999999999,
          1252.899999999997,
          1350.6999999999948,
          1291.8999999999926,
          1349.9999999999914,
          1320.3999999999921,
          1293.199999999993,
          1238.6999999999944,
          1218.9999999999968,
          1401.399999999998,
          1344.9999999999986,
          1372.3999999999987,
          1355.3999999999971,
          1322.399999999996,
          1373.0999999999965,
          1367.5999999999985,
          1333.2999999999997,
          1331.1999999999982,
          1620.3999999999978,
          1652.199999999999,
          1589.099999999999,
          1645.7999999999997,
          1585.8000000000002,
          1610.3999999999983,
          1628.5999999999972,
          1693.4999999999973,
          1673.599999999996,
          1770.5999999999958,
          1889.299999999997,
          1877.1999999999962,
          1851.8999999999946,
          1924.7999999999931,
          1972.399999999993,
          2034.1999999999953,
          2000.799999999998,
          2533.7999999999993,
          2530.699999999999,
          2601.3999999999983,
          2552.299999999997,
          2481.1999999999957,
          2530.599999999996,
          2586.599999999996,
          2520.4999999999955,
          2207.3999999999955,
          2274.099999999996,
          2297.5999999999945,
          2282.599999999994,
          2207.399999999996,
          2096.5999999999985,
          2182.2000000000007,
          2286.6000000000017,
          2319.3000000000015,
          2295.3000000000006,
          2234.199999999999,
          2273.9999999999986,
          2368.4000000000005,
          2365.6000000000013,
          2607,
          2619.3999999999996,
          2344.8000000000015,
          2074.4000000000037,
          2013.3000000000047,
          1988.400000000005,
          1972.0000000000064,
          1972.2000000000073,
          1945.0000000000082,
          2023.9000000000096,
          2080.300000000009,
          2231.8000000000075,
          2362.2000000000075,
          2335.500000000008,
          2305.6000000000076,
          2378.700000000007,
          2443.8000000000084,
          2417.6000000000085,
          2368.0000000000077
         ]
        }
       ],
       "layout": {
        "font": {
         "color": "#3d825f",
         "size": 10
        },
        "height": 400,
        "margin": {
         "b": 10,
         "l": 15,
         "r": 15
        },
        "paper_bgcolor": "#1e1e1e",
        "plot_bgcolor": "#1e1e1e",
        "template": {
         "data": {
          "bar": [
           {
            "error_x": {
             "color": "#2a3f5f"
            },
            "error_y": {
             "color": "#2a3f5f"
            },
            "marker": {
             "line": {
              "color": "#E5ECF6",
              "width": 0.5
             },
             "pattern": {
              "fillmode": "overlay",
              "size": 10,
              "solidity": 0.2
             }
            },
            "type": "bar"
           }
          ],
          "barpolar": [
           {
            "marker": {
             "line": {
              "color": "#E5ECF6",
              "width": 0.5
             },
             "pattern": {
              "fillmode": "overlay",
              "size": 10,
              "solidity": 0.2
             }
            },
            "type": "barpolar"
           }
          ],
          "carpet": [
           {
            "aaxis": {
             "endlinecolor": "#2a3f5f",
             "gridcolor": "white",
             "linecolor": "white",
             "minorgridcolor": "white",
             "startlinecolor": "#2a3f5f"
            },
            "baxis": {
             "endlinecolor": "#2a3f5f",
             "gridcolor": "white",
             "linecolor": "white",
             "minorgridcolor": "white",
             "startlinecolor": "#2a3f5f"
            },
            "type": "carpet"
           }
          ],
          "choropleth": [
           {
            "colorbar": {
             "outlinewidth": 0,
             "ticks": ""
            },
            "type": "choropleth"
           }
          ],
          "contour": [
           {
            "colorbar": {
             "outlinewidth": 0,
             "ticks": ""
            },
            "colorscale": [
             [
              0,
              "#0d0887"
             ],
             [
              0.1111111111111111,
              "#46039f"
             ],
             [
              0.2222222222222222,
              "#7201a8"
             ],
             [
              0.3333333333333333,
              "#9c179e"
             ],
             [
              0.4444444444444444,
              "#bd3786"
             ],
             [
              0.5555555555555556,
              "#d8576b"
             ],
             [
              0.6666666666666666,
              "#ed7953"
             ],
             [
              0.7777777777777778,
              "#fb9f3a"
             ],
             [
              0.8888888888888888,
              "#fdca26"
             ],
             [
              1,
              "#f0f921"
             ]
            ],
            "type": "contour"
           }
          ],
          "contourcarpet": [
           {
            "colorbar": {
             "outlinewidth": 0,
             "ticks": ""
            },
            "type": "contourcarpet"
           }
          ],
          "heatmap": [
           {
            "colorbar": {
             "outlinewidth": 0,
             "ticks": ""
            },
            "colorscale": [
             [
              0,
              "#0d0887"
             ],
             [
              0.1111111111111111,
              "#46039f"
             ],
             [
              0.2222222222222222,
              "#7201a8"
             ],
             [
              0.3333333333333333,
              "#9c179e"
             ],
             [
              0.4444444444444444,
              "#bd3786"
             ],
             [
              0.5555555555555556,
              "#d8576b"
             ],
             [
              0.6666666666666666,
              "#ed7953"
             ],
             [
              0.7777777777777778,
              "#fb9f3a"
             ],
             [
              0.8888888888888888,
              "#fdca26"
             ],
             [
              1,
              "#f0f921"
             ]
            ],
            "type": "heatmap"
           }
          ],
          "heatmapgl": [
           {
            "colorbar": {
             "outlinewidth": 0,
             "ticks": ""
            },
            "colorscale": [
             [
              0,
              "#0d0887"
             ],
             [
              0.1111111111111111,
              "#46039f"
             ],
             [
              0.2222222222222222,
              "#7201a8"
             ],
             [
              0.3333333333333333,
              "#9c179e"
             ],
             [
              0.4444444444444444,
              "#bd3786"
             ],
             [
              0.5555555555555556,
              "#d8576b"
             ],
             [
              0.6666666666666666,
              "#ed7953"
             ],
             [
              0.7777777777777778,
              "#fb9f3a"
             ],
             [
              0.8888888888888888,
              "#fdca26"
             ],
             [
              1,
              "#f0f921"
             ]
            ],
            "type": "heatmapgl"
           }
          ],
          "histogram": [
           {
            "marker": {
             "pattern": {
              "fillmode": "overlay",
              "size": 10,
              "solidity": 0.2
             }
            },
            "type": "histogram"
           }
          ],
          "histogram2d": [
           {
            "colorbar": {
             "outlinewidth": 0,
             "ticks": ""
            },
            "colorscale": [
             [
              0,
              "#0d0887"
             ],
             [
              0.1111111111111111,
              "#46039f"
             ],
             [
              0.2222222222222222,
              "#7201a8"
             ],
             [
              0.3333333333333333,
              "#9c179e"
             ],
             [
              0.4444444444444444,
              "#bd3786"
             ],
             [
              0.5555555555555556,
              "#d8576b"
             ],
             [
              0.6666666666666666,
              "#ed7953"
             ],
             [
              0.7777777777777778,
              "#fb9f3a"
             ],
             [
              0.8888888888888888,
              "#fdca26"
             ],
             [
              1,
              "#f0f921"
             ]
            ],
            "type": "histogram2d"
           }
          ],
          "histogram2dcontour": [
           {
            "colorbar": {
             "outlinewidth": 0,
             "ticks": ""
            },
            "colorscale": [
             [
              0,
              "#0d0887"
             ],
             [
              0.1111111111111111,
              "#46039f"
             ],
             [
              0.2222222222222222,
              "#7201a8"
             ],
             [
              0.3333333333333333,
              "#9c179e"
             ],
             [
              0.4444444444444444,
              "#bd3786"
             ],
             [
              0.5555555555555556,
              "#d8576b"
             ],
             [
              0.6666666666666666,
              "#ed7953"
             ],
             [
              0.7777777777777778,
              "#fb9f3a"
             ],
             [
              0.8888888888888888,
              "#fdca26"
             ],
             [
              1,
              "#f0f921"
             ]
            ],
            "type": "histogram2dcontour"
           }
          ],
          "mesh3d": [
           {
            "colorbar": {
             "outlinewidth": 0,
             "ticks": ""
            },
            "type": "mesh3d"
           }
          ],
          "parcoords": [
           {
            "line": {
             "colorbar": {
              "outlinewidth": 0,
              "ticks": ""
             }
            },
            "type": "parcoords"
           }
          ],
          "pie": [
           {
            "automargin": true,
            "type": "pie"
           }
          ],
          "scatter": [
           {
            "fillpattern": {
             "fillmode": "overlay",
             "size": 10,
             "solidity": 0.2
            },
            "type": "scatter"
           }
          ],
          "scatter3d": [
           {
            "line": {
             "colorbar": {
              "outlinewidth": 0,
              "ticks": ""
             }
            },
            "marker": {
             "colorbar": {
              "outlinewidth": 0,
              "ticks": ""
             }
            },
            "type": "scatter3d"
           }
          ],
          "scattercarpet": [
           {
            "marker": {
             "colorbar": {
              "outlinewidth": 0,
              "ticks": ""
             }
            },
            "type": "scattercarpet"
           }
          ],
          "scattergeo": [
           {
            "marker": {
             "colorbar": {
              "outlinewidth": 0,
              "ticks": ""
             }
            },
            "type": "scattergeo"
           }
          ],
          "scattergl": [
           {
            "marker": {
             "colorbar": {
              "outlinewidth": 0,
              "ticks": ""
             }
            },
            "type": "scattergl"
           }
          ],
          "scattermapbox": [
           {
            "marker": {
             "colorbar": {
              "outlinewidth": 0,
              "ticks": ""
             }
            },
            "type": "scattermapbox"
           }
          ],
          "scatterpolar": [
           {
            "marker": {
             "colorbar": {
              "outlinewidth": 0,
              "ticks": ""
             }
            },
            "type": "scatterpolar"
           }
          ],
          "scatterpolargl": [
           {
            "marker": {
             "colorbar": {
              "outlinewidth": 0,
              "ticks": ""
             }
            },
            "type": "scatterpolargl"
           }
          ],
          "scatterternary": [
           {
            "marker": {
             "colorbar": {
              "outlinewidth": 0,
              "ticks": ""
             }
            },
            "type": "scatterternary"
           }
          ],
          "surface": [
           {
            "colorbar": {
             "outlinewidth": 0,
             "ticks": ""
            },
            "colorscale": [
             [
              0,
              "#0d0887"
             ],
             [
              0.1111111111111111,
              "#46039f"
             ],
             [
              0.2222222222222222,
              "#7201a8"
             ],
             [
              0.3333333333333333,
              "#9c179e"
             ],
             [
              0.4444444444444444,
              "#bd3786"
             ],
             [
              0.5555555555555556,
              "#d8576b"
             ],
             [
              0.6666666666666666,
              "#ed7953"
             ],
             [
              0.7777777777777778,
              "#fb9f3a"
             ],
             [
              0.8888888888888888,
              "#fdca26"
             ],
             [
              1,
              "#f0f921"
             ]
            ],
            "type": "surface"
           }
          ],
          "table": [
           {
            "cells": {
             "fill": {
              "color": "#EBF0F8"
             },
             "line": {
              "color": "white"
             }
            },
            "header": {
             "fill": {
              "color": "#C8D4E3"
             },
             "line": {
              "color": "white"
             }
            },
            "type": "table"
           }
          ]
         },
         "layout": {
          "annotationdefaults": {
           "arrowcolor": "#2a3f5f",
           "arrowhead": 0,
           "arrowwidth": 1
          },
          "autotypenumbers": "strict",
          "coloraxis": {
           "colorbar": {
            "outlinewidth": 0,
            "ticks": ""
           }
          },
          "colorscale": {
           "diverging": [
            [
             0,
             "#8e0152"
            ],
            [
             0.1,
             "#c51b7d"
            ],
            [
             0.2,
             "#de77ae"
            ],
            [
             0.3,
             "#f1b6da"
            ],
            [
             0.4,
             "#fde0ef"
            ],
            [
             0.5,
             "#f7f7f7"
            ],
            [
             0.6,
             "#e6f5d0"
            ],
            [
             0.7,
             "#b8e186"
            ],
            [
             0.8,
             "#7fbc41"
            ],
            [
             0.9,
             "#4d9221"
            ],
            [
             1,
             "#276419"
            ]
           ],
           "sequential": [
            [
             0,
             "#0d0887"
            ],
            [
             0.1111111111111111,
             "#46039f"
            ],
            [
             0.2222222222222222,
             "#7201a8"
            ],
            [
             0.3333333333333333,
             "#9c179e"
            ],
            [
             0.4444444444444444,
             "#bd3786"
            ],
            [
             0.5555555555555556,
             "#d8576b"
            ],
            [
             0.6666666666666666,
             "#ed7953"
            ],
            [
             0.7777777777777778,
             "#fb9f3a"
            ],
            [
             0.8888888888888888,
             "#fdca26"
            ],
            [
             1,
             "#f0f921"
            ]
           ],
           "sequentialminus": [
            [
             0,
             "#0d0887"
            ],
            [
             0.1111111111111111,
             "#46039f"
            ],
            [
             0.2222222222222222,
             "#7201a8"
            ],
            [
             0.3333333333333333,
             "#9c179e"
            ],
            [
             0.4444444444444444,
             "#bd3786"
            ],
            [
             0.5555555555555556,
             "#d8576b"
            ],
            [
             0.6666666666666666,
             "#ed7953"
            ],
            [
             0.7777777777777778,
             "#fb9f3a"
            ],
            [
             0.8888888888888888,
             "#fdca26"
            ],
            [
             1,
             "#f0f921"
            ]
           ]
          },
          "colorway": [
           "#636efa",
           "#EF553B",
           "#00cc96",
           "#ab63fa",
           "#FFA15A",
           "#19d3f3",
           "#FF6692",
           "#B6E880",
           "#FF97FF",
           "#FECB52"
          ],
          "font": {
           "color": "#2a3f5f"
          },
          "geo": {
           "bgcolor": "white",
           "lakecolor": "white",
           "landcolor": "#E5ECF6",
           "showlakes": true,
           "showland": true,
           "subunitcolor": "white"
          },
          "hoverlabel": {
           "align": "left"
          },
          "hovermode": "closest",
          "mapbox": {
           "style": "light"
          },
          "paper_bgcolor": "white",
          "plot_bgcolor": "#E5ECF6",
          "polar": {
           "angularaxis": {
            "gridcolor": "white",
            "linecolor": "white",
            "ticks": ""
           },
           "bgcolor": "#E5ECF6",
           "radialaxis": {
            "gridcolor": "white",
            "linecolor": "white",
            "ticks": ""
           }
          },
          "scene": {
           "xaxis": {
            "backgroundcolor": "#E5ECF6",
            "gridcolor": "white",
            "gridwidth": 2,
            "linecolor": "white",
            "showbackground": true,
            "ticks": "",
            "zerolinecolor": "white"
           },
           "yaxis": {
            "backgroundcolor": "#E5ECF6",
            "gridcolor": "white",
            "gridwidth": 2,
            "linecolor": "white",
            "showbackground": true,
            "ticks": "",
            "zerolinecolor": "white"
           },
           "zaxis": {
            "backgroundcolor": "#E5ECF6",
            "gridcolor": "white",
            "gridwidth": 2,
            "linecolor": "white",
            "showbackground": true,
            "ticks": "",
            "zerolinecolor": "white"
           }
          },
          "shapedefaults": {
           "line": {
            "color": "#2a3f5f"
           }
          },
          "ternary": {
           "aaxis": {
            "gridcolor": "white",
            "linecolor": "white",
            "ticks": ""
           },
           "baxis": {
            "gridcolor": "white",
            "linecolor": "white",
            "ticks": ""
           },
           "bgcolor": "#E5ECF6",
           "caxis": {
            "gridcolor": "white",
            "linecolor": "white",
            "ticks": ""
           }
          },
          "title": {
           "x": 0.05
          },
          "xaxis": {
           "automargin": true,
           "gridcolor": "white",
           "linecolor": "white",
           "ticks": "",
           "title": {
            "standoff": 15
           },
           "zerolinecolor": "white",
           "zerolinewidth": 2
          },
          "yaxis": {
           "automargin": true,
           "gridcolor": "white",
           "linecolor": "white",
           "ticks": "",
           "title": {
            "standoff": 15
           },
           "zerolinecolor": "white",
           "zerolinewidth": 2
          }
         }
        },
        "title": {
         "text": "CHF_JPY_ma_8_32"
        },
        "width": 1000,
        "xaxis": {
         "linecolor": "#3a4a54",
         "linewidth": 1,
         "showgrid": false,
         "zeroline": false
        },
        "yaxis": {
         "linecolor": "#3a4a54",
         "linewidth": 1,
         "showgrid": false,
         "zeroline": false
        }
       }
      }
     },
     "metadata": {},
     "output_type": "display_data"
    },
    {
     "data": {
      "application/vnd.plotly.v1+json": {
       "config": {
        "plotlyServerURL": "https://plot.ly"
       },
       "data": [
        {
         "line": {
          "color": "#3d825f",
          "shape": "spline",
          "width": 2
         },
         "mode": "lines",
         "name": "EUR_USD_ma_8_32",
         "type": "scatter",
         "x": [
          "2022-03-31T10:00:00+00:00",
          "2022-04-07T04:00:00+00:00",
          "2022-04-07T09:00:00+00:00",
          "2022-04-10T21:00:00+00:00",
          "2022-04-11T20:00:00+00:00",
          "2022-04-13T17:00:00+00:00",
          "2022-04-14T14:00:00+00:00",
          "2022-04-19T10:00:00+00:00",
          "2022-04-21T18:00:00+00:00",
          "2022-04-29T06:00:00+00:00",
          "2022-05-02T03:00:00+00:00",
          "2022-05-03T12:00:00+00:00",
          "2022-05-04T05:00:00+00:00",
          "2022-05-04T12:00:00+00:00",
          "2022-05-05T14:00:00+00:00",
          "2022-05-06T13:00:00+00:00",
          "2022-05-09T00:00:00+00:00",
          "2022-05-09T16:00:00+00:00",
          "2022-05-10T14:00:00+00:00",
          "2022-05-11T09:00:00+00:00",
          "2022-05-11T17:00:00+00:00",
          "2022-05-13T17:00:00+00:00",
          "2022-05-18T11:00:00+00:00",
          "2022-05-19T11:00:00+00:00",
          "2022-05-20T16:00:00+00:00",
          "2022-05-23T02:00:00+00:00",
          "2022-05-25T07:00:00+00:00",
          "2022-05-26T04:00:00+00:00",
          "2022-05-27T14:00:00+00:00",
          "2022-05-30T00:00:00+00:00",
          "2022-05-31T04:00:00+00:00",
          "2022-06-02T11:00:00+00:00",
          "2022-06-03T15:00:00+00:00",
          "2022-06-06T10:00:00+00:00",
          "2022-06-06T15:00:00+00:00",
          "2022-06-07T19:00:00+00:00",
          "2022-06-08T07:00:00+00:00",
          "2022-06-08T10:00:00+00:00",
          "2022-06-09T13:00:00+00:00",
          "2022-06-14T11:00:00+00:00",
          "2022-06-14T16:00:00+00:00",
          "2022-06-15T02:00:00+00:00",
          "2022-06-15T16:00:00+00:00",
          "2022-06-16T00:00:00+00:00",
          "2022-06-16T06:00:00+00:00",
          "2022-06-16T15:00:00+00:00",
          "2022-06-17T14:00:00+00:00",
          "2022-06-20T05:00:00+00:00",
          "2022-06-21T23:00:00+00:00",
          "2022-06-22T15:00:00+00:00",
          "2022-06-23T10:00:00+00:00",
          "2022-06-24T07:00:00+00:00",
          "2022-06-28T11:00:00+00:00",
          "2022-06-30T19:00:00+00:00",
          "2022-07-01T11:00:00+00:00",
          "2022-07-04T10:00:00+00:00",
          "2022-07-04T20:00:00+00:00",
          "2022-07-05T05:00:00+00:00",
          "2022-07-05T07:00:00+00:00",
          "2022-07-08T18:00:00+00:00",
          "2022-07-11T05:00:00+00:00",
          "2022-07-12T17:00:00+00:00",
          "2022-07-13T01:00:00+00:00",
          "2022-07-13T07:00:00+00:00",
          "2022-07-14T02:00:00+00:00",
          "2022-07-15T03:00:00+00:00",
          "2022-07-20T12:00:00+00:00",
          "2022-07-21T12:00:00+00:00",
          "2022-07-22T05:00:00+00:00",
          "2022-07-22T16:00:00+00:00",
          "2022-07-26T09:00:00+00:00",
          "2022-07-27T18:00:00+00:00",
          "2022-07-28T14:00:00+00:00",
          "2022-07-28T23:00:00+00:00",
          "2022-08-02T10:00:00+00:00",
          "2022-08-04T08:00:00+00:00",
          "2022-08-05T13:00:00+00:00",
          "2022-08-08T12:00:00+00:00",
          "2022-08-10T01:00:00+00:00",
          "2022-08-10T02:00:00+00:00",
          "2022-08-10T04:00:00+00:00",
          "2022-08-10T08:00:00+00:00",
          "2022-08-12T04:00:00+00:00",
          "2022-08-16T19:00:00+00:00",
          "2022-08-17T17:00:00+00:00",
          "2022-08-17T21:00:00+00:00",
          "2022-08-18T07:00:00+00:00",
          "2022-08-23T16:00:00+00:00",
          "2022-08-24T07:00:00+00:00",
          "2022-08-24T20:00:00+00:00",
          "2022-08-25T17:00:00+00:00",
          "2022-08-26T11:00:00+00:00",
          "2022-08-28T23:00:00+00:00",
          "2022-08-29T13:00:00+00:00",
          "2022-08-31T09:00:00+00:00",
          "2022-08-31T17:00:00+00:00",
          "2022-09-01T06:00:00+00:00",
          "2022-09-02T10:00:00+00:00",
          "2022-09-04T22:00:00+00:00",
          "2022-09-05T22:00:00+00:00",
          "2022-09-06T14:00:00+00:00",
          "2022-09-07T15:00:00+00:00",
          "2022-09-08T19:00:00+00:00",
          "2022-09-08T23:00:00+00:00",
          "2022-09-13T13:00:00+00:00",
          "2022-09-14T19:00:00+00:00",
          "2022-09-14T20:00:00+00:00",
          "2022-09-15T13:00:00+00:00",
          "2022-09-16T08:00:00+00:00",
          "2022-09-16T17:00:00+00:00",
          "2022-09-19T07:00:00+00:00",
          "2022-09-19T17:00:00+00:00",
          "2022-09-20T13:00:00+00:00",
          "2022-09-27T06:00:00+00:00",
          "2022-09-27T12:00:00+00:00",
          "2022-09-28T15:00:00+00:00",
          "2022-09-30T16:00:00+00:00",
          "2022-10-03T00:00:00+00:00",
          "2022-10-03T11:00:00+00:00",
          "2022-10-03T19:00:00+00:00",
          "2022-10-05T12:00:00+00:00",
          "2022-10-11T12:00:00+00:00",
          "2022-10-12T01:00:00+00:00",
          "2022-10-12T09:00:00+00:00",
          "2022-10-12T12:00:00+00:00",
          "2022-10-13T01:00:00+00:00",
          "2022-10-13T06:00:00+00:00",
          "2022-10-13T09:00:00+00:00",
          "2022-10-14T13:00:00+00:00",
          "2022-10-17T11:00:00+00:00",
          "2022-10-19T06:00:00+00:00",
          "2022-10-20T11:00:00+00:00",
          "2022-10-21T00:00:00+00:00",
          "2022-10-21T17:00:00+00:00",
          "2022-10-25T12:00:00+00:00",
          "2022-10-25T13:00:00+00:00",
          "2022-10-27T12:00:00+00:00",
          "2022-11-01T08:00:00+00:00",
          "2022-11-01T18:00:00+00:00",
          "2022-11-02T15:00:00+00:00",
          "2022-11-02T16:00:00+00:00",
          "2022-11-04T08:00:00+00:00",
          "2022-11-08T12:00:00+00:00",
          "2022-11-08T15:00:00+00:00",
          "2022-11-09T14:00:00+00:00",
          "2022-11-10T15:00:00+00:00",
          "2022-11-14T15:00:00+00:00",
          "2022-11-14T18:00:00+00:00",
          "2022-11-15T02:00:00+00:00",
          "2022-11-15T07:00:00+00:00",
          "2022-11-15T22:00:00+00:00",
          "2022-11-16T08:00:00+00:00"
         ],
         "y": [
          179.40000000000066,
          157.20000000000178,
          139.40000000000285,
          112.90000000000244,
          121.50000000000105,
          24.399999999999977,
          8.20000000000043,
          52.700000000001076,
          347.3999999999999,
          327.7999999999981,
          284.19999999999663,
          228.99999999999693,
          188.1999999999983,
          167.7999999999979,
          127.39999999999748,
          73.39999999999898,
          19.299999999999834,
          -13.199999999999918,
          -35.600000000000115,
          -81.4000000000004,
          37.400000000000716,
          149.2000000000026,
          142.0000000000043,
          173.20000000000442,
          133.80000000000388,
          229.70000000000374,
          231.40000000000379,
          259.8000000000033,
          240.60000000000187,
          255.00000000000074,
          305.4000000000001,
          322.19999999999914,
          305.29999999999944,
          275.0000000000008,
          264.6000000000015,
          245.6000000000014,
          215.00000000000077,
          182.40000000000038,
          427.2999999999994,
          405.39999999999804,
          380.5999999999977,
          317.3999999999989,
          246.40000000000006,
          202.2999999999998,
          81.79999999999866,
          10.999999999998906,
          -59.80000000000085,
          -57.600000000001984,
          -106.00000000000153,
          -181.1000000000006,
          -200.00000000000006,
          -154.0999999999991,
          -63.5999999999991,
          -106.39999999999972,
          -121.8000000000007,
          -150.60000000000062,
          -170.39999999999932,
          -237.9999999999981,
          -36.99999999999804,
          -71.19999999999783,
          10.000000000003439,
          -21.399999999995767,
          -27.199999999996017,
          -38.39999999999611,
          -42.299999999995016,
          143.00000000000435,
          89.00000000000364,
          9.000000000003567,
          -38.09999999999635,
          -94.3999999999966,
          -118.69999999999814,
          -162.59999999999928,
          -198.40000000000066,
          -163.6000000000014,
          -128.50000000000014,
          -144.80000000000035,
          -168.100000000002,
          -154.8000000000015,
          -160.99999999999991,
          -165.99999999999937,
          -175.1999999999997,
          -79.80000000000089,
          67.79999999999794,
          66.59999999999674,
          58.899999999995146,
          43.699999999995484,
          225.99999999999625,
          200.29999999999552,
          185.5999999999947,
          188.19999999999396,
          161.599999999994,
          99.99999999999457,
          24.79999999999376,
          -5.800000000006868,
          -74.20000000000644,
          -102.40000000000688,
          -79.200000000007,
          -154.40000000000668,
          -173.90000000000674,
          -211.40000000000705,
          -246.60000000000784,
          -186.800000000008,
          -197.6000000000066,
          -175.20000000000638,
          -122.60000000000707,
          -123.40000000000676,
          -142.90000000000683,
          -186.0000000000072,
          -224.20000000000763,
          -238.20000000000832,
          -265.50000000000955,
          -290.1000000000108,
          47.599999999988825,
          25.599999999989027,
          -31.200000000011155,
          79.59999999998863,
          68.39999999998852,
          35.39999999998883,
          -24.800000000010314,
          58.39999999998962,
          250.39999999998957,
          221.6999999999903,
          204.19999999999112,
          200.99999999999125,
          201.19999999999033,
          185.89999999999,
          149.5999999999898,
          160.69999999998925,
          157.19999999998964,
          238.19999999999072,
          246.99999999999176,
          204.99999999999193,
          146.39999999999216,
          191.39999999999276,
          98.39999999999301,
          137.39999999999426,
          221.29999999999546,
          181.39999999999608,
          189.79999999999671,
          182.9999999999966,
          276.5999999999958,
          496.39999999999577,
          423.99999999999557,
          376.1999999999955,
          213.49999999999545,
          362.39999999999395,
          339.19999999999294,
          306.69999999999317,
          219.99999999999363,
          157.9999999999938,
          97.29999999999362,
          62.19999999999238
         ]
        }
       ],
       "layout": {
        "font": {
         "color": "#3d825f",
         "size": 10
        },
        "height": 400,
        "margin": {
         "b": 10,
         "l": 15,
         "r": 15
        },
        "paper_bgcolor": "#1e1e1e",
        "plot_bgcolor": "#1e1e1e",
        "template": {
         "data": {
          "bar": [
           {
            "error_x": {
             "color": "#2a3f5f"
            },
            "error_y": {
             "color": "#2a3f5f"
            },
            "marker": {
             "line": {
              "color": "#E5ECF6",
              "width": 0.5
             },
             "pattern": {
              "fillmode": "overlay",
              "size": 10,
              "solidity": 0.2
             }
            },
            "type": "bar"
           }
          ],
          "barpolar": [
           {
            "marker": {
             "line": {
              "color": "#E5ECF6",
              "width": 0.5
             },
             "pattern": {
              "fillmode": "overlay",
              "size": 10,
              "solidity": 0.2
             }
            },
            "type": "barpolar"
           }
          ],
          "carpet": [
           {
            "aaxis": {
             "endlinecolor": "#2a3f5f",
             "gridcolor": "white",
             "linecolor": "white",
             "minorgridcolor": "white",
             "startlinecolor": "#2a3f5f"
            },
            "baxis": {
             "endlinecolor": "#2a3f5f",
             "gridcolor": "white",
             "linecolor": "white",
             "minorgridcolor": "white",
             "startlinecolor": "#2a3f5f"
            },
            "type": "carpet"
           }
          ],
          "choropleth": [
           {
            "colorbar": {
             "outlinewidth": 0,
             "ticks": ""
            },
            "type": "choropleth"
           }
          ],
          "contour": [
           {
            "colorbar": {
             "outlinewidth": 0,
             "ticks": ""
            },
            "colorscale": [
             [
              0,
              "#0d0887"
             ],
             [
              0.1111111111111111,
              "#46039f"
             ],
             [
              0.2222222222222222,
              "#7201a8"
             ],
             [
              0.3333333333333333,
              "#9c179e"
             ],
             [
              0.4444444444444444,
              "#bd3786"
             ],
             [
              0.5555555555555556,
              "#d8576b"
             ],
             [
              0.6666666666666666,
              "#ed7953"
             ],
             [
              0.7777777777777778,
              "#fb9f3a"
             ],
             [
              0.8888888888888888,
              "#fdca26"
             ],
             [
              1,
              "#f0f921"
             ]
            ],
            "type": "contour"
           }
          ],
          "contourcarpet": [
           {
            "colorbar": {
             "outlinewidth": 0,
             "ticks": ""
            },
            "type": "contourcarpet"
           }
          ],
          "heatmap": [
           {
            "colorbar": {
             "outlinewidth": 0,
             "ticks": ""
            },
            "colorscale": [
             [
              0,
              "#0d0887"
             ],
             [
              0.1111111111111111,
              "#46039f"
             ],
             [
              0.2222222222222222,
              "#7201a8"
             ],
             [
              0.3333333333333333,
              "#9c179e"
             ],
             [
              0.4444444444444444,
              "#bd3786"
             ],
             [
              0.5555555555555556,
              "#d8576b"
             ],
             [
              0.6666666666666666,
              "#ed7953"
             ],
             [
              0.7777777777777778,
              "#fb9f3a"
             ],
             [
              0.8888888888888888,
              "#fdca26"
             ],
             [
              1,
              "#f0f921"
             ]
            ],
            "type": "heatmap"
           }
          ],
          "heatmapgl": [
           {
            "colorbar": {
             "outlinewidth": 0,
             "ticks": ""
            },
            "colorscale": [
             [
              0,
              "#0d0887"
             ],
             [
              0.1111111111111111,
              "#46039f"
             ],
             [
              0.2222222222222222,
              "#7201a8"
             ],
             [
              0.3333333333333333,
              "#9c179e"
             ],
             [
              0.4444444444444444,
              "#bd3786"
             ],
             [
              0.5555555555555556,
              "#d8576b"
             ],
             [
              0.6666666666666666,
              "#ed7953"
             ],
             [
              0.7777777777777778,
              "#fb9f3a"
             ],
             [
              0.8888888888888888,
              "#fdca26"
             ],
             [
              1,
              "#f0f921"
             ]
            ],
            "type": "heatmapgl"
           }
          ],
          "histogram": [
           {
            "marker": {
             "pattern": {
              "fillmode": "overlay",
              "size": 10,
              "solidity": 0.2
             }
            },
            "type": "histogram"
           }
          ],
          "histogram2d": [
           {
            "colorbar": {
             "outlinewidth": 0,
             "ticks": ""
            },
            "colorscale": [
             [
              0,
              "#0d0887"
             ],
             [
              0.1111111111111111,
              "#46039f"
             ],
             [
              0.2222222222222222,
              "#7201a8"
             ],
             [
              0.3333333333333333,
              "#9c179e"
             ],
             [
              0.4444444444444444,
              "#bd3786"
             ],
             [
              0.5555555555555556,
              "#d8576b"
             ],
             [
              0.6666666666666666,
              "#ed7953"
             ],
             [
              0.7777777777777778,
              "#fb9f3a"
             ],
             [
              0.8888888888888888,
              "#fdca26"
             ],
             [
              1,
              "#f0f921"
             ]
            ],
            "type": "histogram2d"
           }
          ],
          "histogram2dcontour": [
           {
            "colorbar": {
             "outlinewidth": 0,
             "ticks": ""
            },
            "colorscale": [
             [
              0,
              "#0d0887"
             ],
             [
              0.1111111111111111,
              "#46039f"
             ],
             [
              0.2222222222222222,
              "#7201a8"
             ],
             [
              0.3333333333333333,
              "#9c179e"
             ],
             [
              0.4444444444444444,
              "#bd3786"
             ],
             [
              0.5555555555555556,
              "#d8576b"
             ],
             [
              0.6666666666666666,
              "#ed7953"
             ],
             [
              0.7777777777777778,
              "#fb9f3a"
             ],
             [
              0.8888888888888888,
              "#fdca26"
             ],
             [
              1,
              "#f0f921"
             ]
            ],
            "type": "histogram2dcontour"
           }
          ],
          "mesh3d": [
           {
            "colorbar": {
             "outlinewidth": 0,
             "ticks": ""
            },
            "type": "mesh3d"
           }
          ],
          "parcoords": [
           {
            "line": {
             "colorbar": {
              "outlinewidth": 0,
              "ticks": ""
             }
            },
            "type": "parcoords"
           }
          ],
          "pie": [
           {
            "automargin": true,
            "type": "pie"
           }
          ],
          "scatter": [
           {
            "fillpattern": {
             "fillmode": "overlay",
             "size": 10,
             "solidity": 0.2
            },
            "type": "scatter"
           }
          ],
          "scatter3d": [
           {
            "line": {
             "colorbar": {
              "outlinewidth": 0,
              "ticks": ""
             }
            },
            "marker": {
             "colorbar": {
              "outlinewidth": 0,
              "ticks": ""
             }
            },
            "type": "scatter3d"
           }
          ],
          "scattercarpet": [
           {
            "marker": {
             "colorbar": {
              "outlinewidth": 0,
              "ticks": ""
             }
            },
            "type": "scattercarpet"
           }
          ],
          "scattergeo": [
           {
            "marker": {
             "colorbar": {
              "outlinewidth": 0,
              "ticks": ""
             }
            },
            "type": "scattergeo"
           }
          ],
          "scattergl": [
           {
            "marker": {
             "colorbar": {
              "outlinewidth": 0,
              "ticks": ""
             }
            },
            "type": "scattergl"
           }
          ],
          "scattermapbox": [
           {
            "marker": {
             "colorbar": {
              "outlinewidth": 0,
              "ticks": ""
             }
            },
            "type": "scattermapbox"
           }
          ],
          "scatterpolar": [
           {
            "marker": {
             "colorbar": {
              "outlinewidth": 0,
              "ticks": ""
             }
            },
            "type": "scatterpolar"
           }
          ],
          "scatterpolargl": [
           {
            "marker": {
             "colorbar": {
              "outlinewidth": 0,
              "ticks": ""
             }
            },
            "type": "scatterpolargl"
           }
          ],
          "scatterternary": [
           {
            "marker": {
             "colorbar": {
              "outlinewidth": 0,
              "ticks": ""
             }
            },
            "type": "scatterternary"
           }
          ],
          "surface": [
           {
            "colorbar": {
             "outlinewidth": 0,
             "ticks": ""
            },
            "colorscale": [
             [
              0,
              "#0d0887"
             ],
             [
              0.1111111111111111,
              "#46039f"
             ],
             [
              0.2222222222222222,
              "#7201a8"
             ],
             [
              0.3333333333333333,
              "#9c179e"
             ],
             [
              0.4444444444444444,
              "#bd3786"
             ],
             [
              0.5555555555555556,
              "#d8576b"
             ],
             [
              0.6666666666666666,
              "#ed7953"
             ],
             [
              0.7777777777777778,
              "#fb9f3a"
             ],
             [
              0.8888888888888888,
              "#fdca26"
             ],
             [
              1,
              "#f0f921"
             ]
            ],
            "type": "surface"
           }
          ],
          "table": [
           {
            "cells": {
             "fill": {
              "color": "#EBF0F8"
             },
             "line": {
              "color": "white"
             }
            },
            "header": {
             "fill": {
              "color": "#C8D4E3"
             },
             "line": {
              "color": "white"
             }
            },
            "type": "table"
           }
          ]
         },
         "layout": {
          "annotationdefaults": {
           "arrowcolor": "#2a3f5f",
           "arrowhead": 0,
           "arrowwidth": 1
          },
          "autotypenumbers": "strict",
          "coloraxis": {
           "colorbar": {
            "outlinewidth": 0,
            "ticks": ""
           }
          },
          "colorscale": {
           "diverging": [
            [
             0,
             "#8e0152"
            ],
            [
             0.1,
             "#c51b7d"
            ],
            [
             0.2,
             "#de77ae"
            ],
            [
             0.3,
             "#f1b6da"
            ],
            [
             0.4,
             "#fde0ef"
            ],
            [
             0.5,
             "#f7f7f7"
            ],
            [
             0.6,
             "#e6f5d0"
            ],
            [
             0.7,
             "#b8e186"
            ],
            [
             0.8,
             "#7fbc41"
            ],
            [
             0.9,
             "#4d9221"
            ],
            [
             1,
             "#276419"
            ]
           ],
           "sequential": [
            [
             0,
             "#0d0887"
            ],
            [
             0.1111111111111111,
             "#46039f"
            ],
            [
             0.2222222222222222,
             "#7201a8"
            ],
            [
             0.3333333333333333,
             "#9c179e"
            ],
            [
             0.4444444444444444,
             "#bd3786"
            ],
            [
             0.5555555555555556,
             "#d8576b"
            ],
            [
             0.6666666666666666,
             "#ed7953"
            ],
            [
             0.7777777777777778,
             "#fb9f3a"
            ],
            [
             0.8888888888888888,
             "#fdca26"
            ],
            [
             1,
             "#f0f921"
            ]
           ],
           "sequentialminus": [
            [
             0,
             "#0d0887"
            ],
            [
             0.1111111111111111,
             "#46039f"
            ],
            [
             0.2222222222222222,
             "#7201a8"
            ],
            [
             0.3333333333333333,
             "#9c179e"
            ],
            [
             0.4444444444444444,
             "#bd3786"
            ],
            [
             0.5555555555555556,
             "#d8576b"
            ],
            [
             0.6666666666666666,
             "#ed7953"
            ],
            [
             0.7777777777777778,
             "#fb9f3a"
            ],
            [
             0.8888888888888888,
             "#fdca26"
            ],
            [
             1,
             "#f0f921"
            ]
           ]
          },
          "colorway": [
           "#636efa",
           "#EF553B",
           "#00cc96",
           "#ab63fa",
           "#FFA15A",
           "#19d3f3",
           "#FF6692",
           "#B6E880",
           "#FF97FF",
           "#FECB52"
          ],
          "font": {
           "color": "#2a3f5f"
          },
          "geo": {
           "bgcolor": "white",
           "lakecolor": "white",
           "landcolor": "#E5ECF6",
           "showlakes": true,
           "showland": true,
           "subunitcolor": "white"
          },
          "hoverlabel": {
           "align": "left"
          },
          "hovermode": "closest",
          "mapbox": {
           "style": "light"
          },
          "paper_bgcolor": "white",
          "plot_bgcolor": "#E5ECF6",
          "polar": {
           "angularaxis": {
            "gridcolor": "white",
            "linecolor": "white",
            "ticks": ""
           },
           "bgcolor": "#E5ECF6",
           "radialaxis": {
            "gridcolor": "white",
            "linecolor": "white",
            "ticks": ""
           }
          },
          "scene": {
           "xaxis": {
            "backgroundcolor": "#E5ECF6",
            "gridcolor": "white",
            "gridwidth": 2,
            "linecolor": "white",
            "showbackground": true,
            "ticks": "",
            "zerolinecolor": "white"
           },
           "yaxis": {
            "backgroundcolor": "#E5ECF6",
            "gridcolor": "white",
            "gridwidth": 2,
            "linecolor": "white",
            "showbackground": true,
            "ticks": "",
            "zerolinecolor": "white"
           },
           "zaxis": {
            "backgroundcolor": "#E5ECF6",
            "gridcolor": "white",
            "gridwidth": 2,
            "linecolor": "white",
            "showbackground": true,
            "ticks": "",
            "zerolinecolor": "white"
           }
          },
          "shapedefaults": {
           "line": {
            "color": "#2a3f5f"
           }
          },
          "ternary": {
           "aaxis": {
            "gridcolor": "white",
            "linecolor": "white",
            "ticks": ""
           },
           "baxis": {
            "gridcolor": "white",
            "linecolor": "white",
            "ticks": ""
           },
           "bgcolor": "#E5ECF6",
           "caxis": {
            "gridcolor": "white",
            "linecolor": "white",
            "ticks": ""
           }
          },
          "title": {
           "x": 0.05
          },
          "xaxis": {
           "automargin": true,
           "gridcolor": "white",
           "linecolor": "white",
           "ticks": "",
           "title": {
            "standoff": 15
           },
           "zerolinecolor": "white",
           "zerolinewidth": 2
          },
          "yaxis": {
           "automargin": true,
           "gridcolor": "white",
           "linecolor": "white",
           "ticks": "",
           "title": {
            "standoff": 15
           },
           "zerolinecolor": "white",
           "zerolinewidth": 2
          }
         }
        },
        "title": {
         "text": "EUR_USD_ma_8_32"
        },
        "width": 1000,
        "xaxis": {
         "linecolor": "#3a4a54",
         "linewidth": 1,
         "showgrid": false,
         "zeroline": false
        },
        "yaxis": {
         "linecolor": "#3a4a54",
         "linewidth": 1,
         "showgrid": false,
         "zeroline": false
        }
       }
      }
     },
     "metadata": {},
     "output_type": "display_data"
    }
   ],
   "source": [
    "c = 'ma_8_32'\n",
    "for p in our_pairs:\n",
    "    temp_df = all_trades[(all_trades.cross==c)&(all_trades.pair==p)].copy()\n",
    "    temp_df['cum_gain'] = temp_df.gain.cumsum()\n",
    "    plot_line(temp_df, p+'_'+c)"
   ]
  },
  {
   "cell_type": "code",
   "execution_count": 68,
   "metadata": {},
   "outputs": [
    {
     "data": {
      "application/vnd.plotly.v1+json": {
       "config": {
        "plotlyServerURL": "https://plot.ly"
       },
       "data": [
        {
         "line": {
          "color": "#3d825f",
          "shape": "spline",
          "width": 2
         },
         "mode": "lines",
         "name": "ma_32_64",
         "type": "scatter",
         "x": [
          "2022-04-01T12:00:00+00:00",
          "2022-04-01T13:00:00+00:00",
          "2022-04-01T15:00:00+00:00",
          "2022-04-03T22:00:00+00:00",
          "2022-04-04T01:00:00+00:00",
          "2022-04-04T02:00:00+00:00",
          "2022-04-04T03:00:00+00:00",
          "2022-04-04T14:00:00+00:00",
          "2022-04-04T15:00:00+00:00",
          "2022-04-04T19:00:00+00:00",
          "2022-04-04T22:00:00+00:00",
          "2022-04-04T23:00:00+00:00",
          "2022-04-06T14:00:00+00:00",
          "2022-04-06T17:00:00+00:00",
          "2022-04-06T18:00:00+00:00",
          "2022-04-06T19:00:00+00:00",
          "2022-04-06T22:00:00+00:00",
          "2022-04-07T02:00:00+00:00",
          "2022-04-07T04:00:00+00:00",
          "2022-04-07T07:00:00+00:00",
          "2022-04-07T08:00:00+00:00",
          "2022-04-07T09:00:00+00:00",
          "2022-04-07T10:00:00+00:00",
          "2022-04-07T14:00:00+00:00",
          "2022-04-07T15:00:00+00:00",
          "2022-04-08T00:00:00+00:00",
          "2022-04-08T11:00:00+00:00",
          "2022-04-08T16:00:00+00:00",
          "2022-04-08T17:00:00+00:00",
          "2022-04-11T01:00:00+00:00",
          "2022-04-11T02:00:00+00:00",
          "2022-04-11T04:00:00+00:00",
          "2022-04-11T05:00:00+00:00",
          "2022-04-11T07:00:00+00:00",
          "2022-04-11T09:00:00+00:00",
          "2022-04-11T16:00:00+00:00",
          "2022-04-11T17:00:00+00:00",
          "2022-04-11T20:00:00+00:00",
          "2022-04-12T03:00:00+00:00",
          "2022-04-12T13:00:00+00:00",
          "2022-04-12T17:00:00+00:00",
          "2022-04-12T18:00:00+00:00",
          "2022-04-12T19:00:00+00:00",
          "2022-04-12T21:00:00+00:00",
          "2022-04-12T22:00:00+00:00",
          "2022-04-13T04:00:00+00:00",
          "2022-04-13T06:00:00+00:00",
          "2022-04-13T09:00:00+00:00",
          "2022-04-13T13:00:00+00:00",
          "2022-04-13T16:00:00+00:00",
          "2022-04-13T17:00:00+00:00",
          "2022-04-13T18:00:00+00:00",
          "2022-04-13T19:00:00+00:00",
          "2022-04-13T20:00:00+00:00",
          "2022-04-13T23:00:00+00:00",
          "2022-04-14T00:00:00+00:00",
          "2022-04-14T01:00:00+00:00",
          "2022-04-14T03:00:00+00:00",
          "2022-04-14T07:00:00+00:00",
          "2022-04-14T23:00:00+00:00",
          "2022-04-15T08:00:00+00:00",
          "2022-04-15T12:00:00+00:00",
          "2022-04-15T14:00:00+00:00",
          "2022-04-15T15:00:00+00:00",
          "2022-04-15T17:00:00+00:00",
          "2022-04-17T22:00:00+00:00",
          "2022-04-18T02:00:00+00:00",
          "2022-04-18T05:00:00+00:00",
          "2022-04-18T08:00:00+00:00",
          "2022-04-18T09:00:00+00:00",
          "2022-04-18T14:00:00+00:00",
          "2022-04-18T16:00:00+00:00",
          "2022-04-18T18:00:00+00:00",
          "2022-04-19T09:00:00+00:00",
          "2022-04-19T11:00:00+00:00",
          "2022-04-19T12:00:00+00:00",
          "2022-04-19T19:00:00+00:00",
          "2022-04-19T21:00:00+00:00",
          "2022-04-19T23:00:00+00:00",
          "2022-04-20T05:00:00+00:00",
          "2022-04-20T07:00:00+00:00",
          "2022-04-20T08:00:00+00:00",
          "2022-04-20T11:00:00+00:00",
          "2022-04-20T13:00:00+00:00",
          "2022-04-21T05:00:00+00:00",
          "2022-04-21T09:00:00+00:00",
          "2022-04-21T11:00:00+00:00",
          "2022-04-21T15:00:00+00:00",
          "2022-04-21T18:00:00+00:00",
          "2022-04-21T23:00:00+00:00",
          "2022-04-22T00:00:00+00:00",
          "2022-04-22T02:00:00+00:00",
          "2022-04-22T03:00:00+00:00",
          "2022-04-22T04:00:00+00:00",
          "2022-04-22T05:00:00+00:00",
          "2022-04-22T08:00:00+00:00",
          "2022-04-22T09:00:00+00:00",
          "2022-04-22T13:00:00+00:00",
          "2022-04-22T14:00:00+00:00",
          "2022-04-22T16:00:00+00:00",
          "2022-04-22T19:00:00+00:00",
          "2022-04-25T08:00:00+00:00",
          "2022-04-25T11:00:00+00:00",
          "2022-04-25T19:00:00+00:00",
          "2022-04-25T21:00:00+00:00",
          "2022-04-26T06:00:00+00:00",
          "2022-04-26T10:00:00+00:00",
          "2022-04-26T16:00:00+00:00",
          "2022-04-26T23:00:00+00:00",
          "2022-04-27T00:00:00+00:00",
          "2022-04-27T11:00:00+00:00",
          "2022-04-27T15:00:00+00:00",
          "2022-04-27T16:00:00+00:00",
          "2022-04-27T19:00:00+00:00",
          "2022-04-27T22:00:00+00:00",
          "2022-04-28T06:00:00+00:00",
          "2022-04-28T07:00:00+00:00",
          "2022-04-28T10:00:00+00:00",
          "2022-04-28T12:00:00+00:00",
          "2022-04-28T13:00:00+00:00",
          "2022-04-28T14:00:00+00:00",
          "2022-04-28T19:00:00+00:00",
          "2022-04-28T20:00:00+00:00",
          "2022-04-29T06:00:00+00:00",
          "2022-04-29T09:00:00+00:00",
          "2022-04-29T17:00:00+00:00",
          "2022-04-29T18:00:00+00:00",
          "2022-05-01T23:00:00+00:00",
          "2022-05-02T02:00:00+00:00",
          "2022-05-02T03:00:00+00:00",
          "2022-05-02T04:00:00+00:00",
          "2022-05-02T07:00:00+00:00",
          "2022-05-02T08:00:00+00:00",
          "2022-05-02T10:00:00+00:00",
          "2022-05-02T12:00:00+00:00",
          "2022-05-02T13:00:00+00:00",
          "2022-05-02T15:00:00+00:00",
          "2022-05-02T21:00:00+00:00",
          "2022-05-02T22:00:00+00:00",
          "2022-05-03T01:00:00+00:00",
          "2022-05-03T03:00:00+00:00",
          "2022-05-03T08:00:00+00:00",
          "2022-05-03T15:00:00+00:00",
          "2022-05-03T16:00:00+00:00",
          "2022-05-03T18:00:00+00:00",
          "2022-05-03T19:00:00+00:00",
          "2022-05-03T21:00:00+00:00",
          "2022-05-03T23:00:00+00:00",
          "2022-05-04T02:00:00+00:00",
          "2022-05-04T03:00:00+00:00",
          "2022-05-04T06:00:00+00:00",
          "2022-05-04T08:00:00+00:00",
          "2022-05-04T10:00:00+00:00",
          "2022-05-04T12:00:00+00:00",
          "2022-05-04T14:00:00+00:00",
          "2022-05-04T16:00:00+00:00",
          "2022-05-04T20:00:00+00:00",
          "2022-05-05T00:00:00+00:00",
          "2022-05-05T01:00:00+00:00",
          "2022-05-05T06:00:00+00:00",
          "2022-05-05T08:00:00+00:00",
          "2022-05-05T18:00:00+00:00",
          "2022-05-05T20:00:00+00:00",
          "2022-05-05T21:00:00+00:00",
          "2022-05-05T22:00:00+00:00",
          "2022-05-06T00:00:00+00:00",
          "2022-05-06T06:00:00+00:00",
          "2022-05-06T07:00:00+00:00",
          "2022-05-06T10:00:00+00:00",
          "2022-05-06T11:00:00+00:00",
          "2022-05-06T12:00:00+00:00",
          "2022-05-06T13:00:00+00:00",
          "2022-05-06T16:00:00+00:00",
          "2022-05-06T19:00:00+00:00",
          "2022-05-06T20:00:00+00:00",
          "2022-05-09T13:00:00+00:00",
          "2022-05-09T15:00:00+00:00",
          "2022-05-09T16:00:00+00:00",
          "2022-05-10T05:00:00+00:00",
          "2022-05-10T12:00:00+00:00",
          "2022-05-10T14:00:00+00:00",
          "2022-05-11T13:00:00+00:00",
          "2022-05-11T14:00:00+00:00",
          "2022-05-11T17:00:00+00:00",
          "2022-05-11T18:00:00+00:00",
          "2022-05-11T21:00:00+00:00",
          "2022-05-11T22:00:00+00:00",
          "2022-05-11T23:00:00+00:00",
          "2022-05-12T00:00:00+00:00",
          "2022-05-12T02:00:00+00:00",
          "2022-05-12T03:00:00+00:00",
          "2022-05-12T04:00:00+00:00",
          "2022-05-12T08:00:00+00:00",
          "2022-05-12T16:00:00+00:00",
          "2022-05-12T20:00:00+00:00",
          "2022-05-13T02:00:00+00:00",
          "2022-05-13T05:00:00+00:00",
          "2022-05-13T15:00:00+00:00",
          "2022-05-13T19:00:00+00:00",
          "2022-05-15T23:00:00+00:00",
          "2022-05-16T04:00:00+00:00",
          "2022-05-16T07:00:00+00:00",
          "2022-05-16T08:00:00+00:00",
          "2022-05-16T09:00:00+00:00",
          "2022-05-16T10:00:00+00:00",
          "2022-05-16T16:00:00+00:00",
          "2022-05-16T17:00:00+00:00",
          "2022-05-16T19:00:00+00:00",
          "2022-05-16T23:00:00+00:00",
          "2022-05-17T10:00:00+00:00",
          "2022-05-17T11:00:00+00:00",
          "2022-05-17T13:00:00+00:00",
          "2022-05-17T17:00:00+00:00",
          "2022-05-18T01:00:00+00:00",
          "2022-05-18T06:00:00+00:00",
          "2022-05-18T16:00:00+00:00",
          "2022-05-18T17:00:00+00:00",
          "2022-05-18T18:00:00+00:00",
          "2022-05-18T19:00:00+00:00",
          "2022-05-18T22:00:00+00:00",
          "2022-05-19T01:00:00+00:00",
          "2022-05-19T03:00:00+00:00",
          "2022-05-19T04:00:00+00:00",
          "2022-05-19T06:00:00+00:00",
          "2022-05-19T07:00:00+00:00",
          "2022-05-19T08:00:00+00:00",
          "2022-05-19T11:00:00+00:00",
          "2022-05-20T01:00:00+00:00",
          "2022-05-20T02:00:00+00:00",
          "2022-05-20T03:00:00+00:00",
          "2022-05-20T04:00:00+00:00",
          "2022-05-20T06:00:00+00:00",
          "2022-05-20T08:00:00+00:00",
          "2022-05-20T13:00:00+00:00",
          "2022-05-20T17:00:00+00:00",
          "2022-05-20T20:00:00+00:00",
          "2022-05-23T04:00:00+00:00",
          "2022-05-23T05:00:00+00:00",
          "2022-05-23T09:00:00+00:00",
          "2022-05-23T15:00:00+00:00",
          "2022-05-23T16:00:00+00:00",
          "2022-05-23T20:00:00+00:00",
          "2022-05-24T04:00:00+00:00",
          "2022-05-24T10:00:00+00:00",
          "2022-05-24T11:00:00+00:00",
          "2022-05-24T14:00:00+00:00",
          "2022-05-24T21:00:00+00:00",
          "2022-05-24T22:00:00+00:00",
          "2022-05-25T01:00:00+00:00",
          "2022-05-25T05:00:00+00:00",
          "2022-05-25T10:00:00+00:00",
          "2022-05-25T11:00:00+00:00",
          "2022-05-25T14:00:00+00:00",
          "2022-05-25T16:00:00+00:00",
          "2022-05-25T18:00:00+00:00",
          "2022-05-25T22:00:00+00:00",
          "2022-05-26T01:00:00+00:00",
          "2022-05-26T02:00:00+00:00",
          "2022-05-26T03:00:00+00:00",
          "2022-05-26T04:00:00+00:00",
          "2022-05-26T05:00:00+00:00",
          "2022-05-26T08:00:00+00:00",
          "2022-05-26T10:00:00+00:00",
          "2022-05-26T11:00:00+00:00",
          "2022-05-26T14:00:00+00:00",
          "2022-05-26T16:00:00+00:00",
          "2022-05-26T17:00:00+00:00",
          "2022-05-26T19:00:00+00:00",
          "2022-05-26T20:00:00+00:00",
          "2022-05-27T01:00:00+00:00",
          "2022-05-27T03:00:00+00:00",
          "2022-05-27T06:00:00+00:00",
          "2022-05-27T07:00:00+00:00",
          "2022-05-27T08:00:00+00:00",
          "2022-05-27T15:00:00+00:00",
          "2022-05-27T16:00:00+00:00",
          "2022-05-27T18:00:00+00:00",
          "2022-05-27T19:00:00+00:00",
          "2022-05-29T22:00:00+00:00",
          "2022-05-30T09:00:00+00:00",
          "2022-05-30T10:00:00+00:00",
          "2022-05-30T12:00:00+00:00",
          "2022-05-30T19:00:00+00:00",
          "2022-05-31T07:00:00+00:00",
          "2022-05-31T08:00:00+00:00",
          "2022-05-31T13:00:00+00:00",
          "2022-05-31T15:00:00+00:00",
          "2022-05-31T19:00:00+00:00",
          "2022-05-31T22:00:00+00:00",
          "2022-06-01T00:00:00+00:00",
          "2022-06-01T02:00:00+00:00",
          "2022-06-01T07:00:00+00:00",
          "2022-06-01T12:00:00+00:00",
          "2022-06-01T18:00:00+00:00",
          "2022-06-02T00:00:00+00:00",
          "2022-06-02T10:00:00+00:00",
          "2022-06-02T21:00:00+00:00",
          "2022-06-02T23:00:00+00:00",
          "2022-06-03T01:00:00+00:00",
          "2022-06-03T03:00:00+00:00",
          "2022-06-03T05:00:00+00:00",
          "2022-06-03T09:00:00+00:00",
          "2022-06-03T10:00:00+00:00",
          "2022-06-03T20:00:00+00:00",
          "2022-06-06T01:00:00+00:00",
          "2022-06-06T02:00:00+00:00",
          "2022-06-06T06:00:00+00:00",
          "2022-06-06T08:00:00+00:00",
          "2022-06-06T09:00:00+00:00",
          "2022-06-06T12:00:00+00:00",
          "2022-06-06T15:00:00+00:00",
          "2022-06-06T18:00:00+00:00",
          "2022-06-07T04:00:00+00:00",
          "2022-06-07T05:00:00+00:00",
          "2022-06-07T16:00:00+00:00",
          "2022-06-07T20:00:00+00:00",
          "2022-06-07T21:00:00+00:00",
          "2022-06-08T19:00:00+00:00",
          "2022-06-08T23:00:00+00:00",
          "2022-06-09T04:00:00+00:00",
          "2022-06-09T06:00:00+00:00",
          "2022-06-09T12:00:00+00:00",
          "2022-06-09T16:00:00+00:00",
          "2022-06-09T18:00:00+00:00",
          "2022-06-09T22:00:00+00:00",
          "2022-06-09T23:00:00+00:00",
          "2022-06-10T02:00:00+00:00",
          "2022-06-10T03:00:00+00:00",
          "2022-06-10T05:00:00+00:00",
          "2022-06-10T06:00:00+00:00",
          "2022-06-10T07:00:00+00:00",
          "2022-06-10T08:00:00+00:00",
          "2022-06-10T09:00:00+00:00",
          "2022-06-10T14:00:00+00:00",
          "2022-06-13T01:00:00+00:00",
          "2022-06-13T05:00:00+00:00",
          "2022-06-13T08:00:00+00:00",
          "2022-06-13T10:00:00+00:00",
          "2022-06-13T17:00:00+00:00",
          "2022-06-13T21:00:00+00:00",
          "2022-06-14T01:00:00+00:00",
          "2022-06-14T19:00:00+00:00",
          "2022-06-14T20:00:00+00:00",
          "2022-06-14T22:00:00+00:00",
          "2022-06-15T09:00:00+00:00",
          "2022-06-15T20:00:00+00:00",
          "2022-06-15T22:00:00+00:00",
          "2022-06-15T23:00:00+00:00",
          "2022-06-16T00:00:00+00:00",
          "2022-06-16T02:00:00+00:00",
          "2022-06-16T04:00:00+00:00",
          "2022-06-16T05:00:00+00:00",
          "2022-06-16T06:00:00+00:00",
          "2022-06-16T07:00:00+00:00",
          "2022-06-16T08:00:00+00:00",
          "2022-06-16T09:00:00+00:00",
          "2022-06-16T11:00:00+00:00",
          "2022-06-16T12:00:00+00:00",
          "2022-06-16T13:00:00+00:00",
          "2022-06-16T14:00:00+00:00",
          "2022-06-16T15:00:00+00:00",
          "2022-06-16T17:00:00+00:00",
          "2022-06-16T22:00:00+00:00",
          "2022-06-17T00:00:00+00:00",
          "2022-06-17T09:00:00+00:00",
          "2022-06-17T17:00:00+00:00",
          "2022-06-19T23:00:00+00:00",
          "2022-06-20T04:00:00+00:00",
          "2022-06-20T05:00:00+00:00",
          "2022-06-20T06:00:00+00:00",
          "2022-06-20T07:00:00+00:00",
          "2022-06-20T13:00:00+00:00",
          "2022-06-20T23:00:00+00:00",
          "2022-06-21T07:00:00+00:00",
          "2022-06-21T09:00:00+00:00",
          "2022-06-21T10:00:00+00:00",
          "2022-06-21T11:00:00+00:00",
          "2022-06-21T13:00:00+00:00",
          "2022-06-21T16:00:00+00:00",
          "2022-06-21T17:00:00+00:00",
          "2022-06-21T21:00:00+00:00",
          "2022-06-22T00:00:00+00:00",
          "2022-06-22T03:00:00+00:00",
          "2022-06-22T05:00:00+00:00",
          "2022-06-22T14:00:00+00:00",
          "2022-06-22T16:00:00+00:00",
          "2022-06-22T17:00:00+00:00",
          "2022-06-22T20:00:00+00:00",
          "2022-06-22T22:00:00+00:00",
          "2022-06-22T23:00:00+00:00",
          "2022-06-23T02:00:00+00:00",
          "2022-06-23T04:00:00+00:00",
          "2022-06-23T09:00:00+00:00",
          "2022-06-23T10:00:00+00:00",
          "2022-06-23T13:00:00+00:00",
          "2022-06-23T14:00:00+00:00",
          "2022-06-23T15:00:00+00:00",
          "2022-06-23T21:00:00+00:00",
          "2022-06-24T03:00:00+00:00",
          "2022-06-24T07:00:00+00:00",
          "2022-06-24T08:00:00+00:00",
          "2022-06-24T09:00:00+00:00",
          "2022-06-24T11:00:00+00:00",
          "2022-06-24T14:00:00+00:00",
          "2022-06-26T23:00:00+00:00",
          "2022-06-27T00:00:00+00:00",
          "2022-06-27T06:00:00+00:00",
          "2022-06-27T07:00:00+00:00",
          "2022-06-27T09:00:00+00:00",
          "2022-06-27T10:00:00+00:00",
          "2022-06-27T11:00:00+00:00",
          "2022-06-27T12:00:00+00:00",
          "2022-06-27T15:00:00+00:00",
          "2022-06-27T16:00:00+00:00",
          "2022-06-27T19:00:00+00:00",
          "2022-06-27T21:00:00+00:00",
          "2022-06-27T22:00:00+00:00",
          "2022-06-28T00:00:00+00:00",
          "2022-06-28T11:00:00+00:00",
          "2022-06-28T12:00:00+00:00",
          "2022-06-28T19:00:00+00:00",
          "2022-06-29T00:00:00+00:00",
          "2022-06-29T14:00:00+00:00",
          "2022-06-29T16:00:00+00:00",
          "2022-06-29T19:00:00+00:00",
          "2022-06-30T05:00:00+00:00",
          "2022-06-30T09:00:00+00:00",
          "2022-06-30T15:00:00+00:00",
          "2022-06-30T19:00:00+00:00",
          "2022-06-30T23:00:00+00:00",
          "2022-07-01T01:00:00+00:00",
          "2022-07-01T06:00:00+00:00",
          "2022-07-01T07:00:00+00:00",
          "2022-07-01T13:00:00+00:00",
          "2022-07-01T15:00:00+00:00",
          "2022-07-01T16:00:00+00:00",
          "2022-07-01T17:00:00+00:00",
          "2022-07-01T18:00:00+00:00",
          "2022-07-04T02:00:00+00:00",
          "2022-07-04T04:00:00+00:00",
          "2022-07-04T05:00:00+00:00",
          "2022-07-04T11:00:00+00:00",
          "2022-07-04T13:00:00+00:00",
          "2022-07-04T14:00:00+00:00",
          "2022-07-04T16:00:00+00:00",
          "2022-07-04T21:00:00+00:00",
          "2022-07-04T22:00:00+00:00",
          "2022-07-05T00:00:00+00:00",
          "2022-07-05T03:00:00+00:00",
          "2022-07-05T04:00:00+00:00",
          "2022-07-05T05:00:00+00:00",
          "2022-07-05T07:00:00+00:00",
          "2022-07-05T10:00:00+00:00",
          "2022-07-05T12:00:00+00:00",
          "2022-07-05T14:00:00+00:00",
          "2022-07-05T16:00:00+00:00",
          "2022-07-05T17:00:00+00:00",
          "2022-07-05T23:00:00+00:00",
          "2022-07-06T01:00:00+00:00",
          "2022-07-06T02:00:00+00:00",
          "2022-07-06T14:00:00+00:00",
          "2022-07-06T19:00:00+00:00",
          "2022-07-07T12:00:00+00:00",
          "2022-07-07T14:00:00+00:00",
          "2022-07-07T16:00:00+00:00",
          "2022-07-07T18:00:00+00:00",
          "2022-07-07T19:00:00+00:00",
          "2022-07-07T20:00:00+00:00",
          "2022-07-07T22:00:00+00:00",
          "2022-07-08T00:00:00+00:00",
          "2022-07-08T15:00:00+00:00",
          "2022-07-11T10:00:00+00:00",
          "2022-07-11T11:00:00+00:00",
          "2022-07-11T13:00:00+00:00",
          "2022-07-11T17:00:00+00:00",
          "2022-07-12T00:00:00+00:00",
          "2022-07-12T01:00:00+00:00",
          "2022-07-12T03:00:00+00:00",
          "2022-07-12T04:00:00+00:00",
          "2022-07-12T09:00:00+00:00",
          "2022-07-12T10:00:00+00:00",
          "2022-07-12T12:00:00+00:00",
          "2022-07-12T22:00:00+00:00",
          "2022-07-13T01:00:00+00:00",
          "2022-07-13T08:00:00+00:00",
          "2022-07-13T09:00:00+00:00",
          "2022-07-13T13:00:00+00:00",
          "2022-07-13T16:00:00+00:00",
          "2022-07-13T19:00:00+00:00",
          "2022-07-13T20:00:00+00:00",
          "2022-07-13T22:00:00+00:00",
          "2022-07-14T01:00:00+00:00",
          "2022-07-14T03:00:00+00:00",
          "2022-07-14T06:00:00+00:00",
          "2022-07-14T10:00:00+00:00",
          "2022-07-14T11:00:00+00:00",
          "2022-07-14T12:00:00+00:00",
          "2022-07-14T13:00:00+00:00",
          "2022-07-14T14:00:00+00:00",
          "2022-07-14T18:00:00+00:00",
          "2022-07-14T20:00:00+00:00",
          "2022-07-15T02:00:00+00:00",
          "2022-07-15T05:00:00+00:00",
          "2022-07-15T06:00:00+00:00",
          "2022-07-15T07:00:00+00:00",
          "2022-07-15T18:00:00+00:00",
          "2022-07-17T21:00:00+00:00",
          "2022-07-17T22:00:00+00:00",
          "2022-07-18T04:00:00+00:00",
          "2022-07-18T06:00:00+00:00",
          "2022-07-18T07:00:00+00:00",
          "2022-07-18T10:00:00+00:00",
          "2022-07-18T13:00:00+00:00",
          "2022-07-18T15:00:00+00:00",
          "2022-07-18T16:00:00+00:00",
          "2022-07-18T18:00:00+00:00",
          "2022-07-18T20:00:00+00:00",
          "2022-07-18T22:00:00+00:00",
          "2022-07-19T03:00:00+00:00",
          "2022-07-19T05:00:00+00:00",
          "2022-07-19T08:00:00+00:00",
          "2022-07-19T15:00:00+00:00",
          "2022-07-20T01:00:00+00:00",
          "2022-07-20T04:00:00+00:00",
          "2022-07-20T08:00:00+00:00",
          "2022-07-20T09:00:00+00:00",
          "2022-07-20T18:00:00+00:00",
          "2022-07-20T19:00:00+00:00",
          "2022-07-20T21:00:00+00:00",
          "2022-07-21T09:00:00+00:00",
          "2022-07-21T11:00:00+00:00",
          "2022-07-21T13:00:00+00:00",
          "2022-07-21T14:00:00+00:00",
          "2022-07-21T16:00:00+00:00",
          "2022-07-21T17:00:00+00:00",
          "2022-07-21T19:00:00+00:00",
          "2022-07-21T20:00:00+00:00",
          "2022-07-22T00:00:00+00:00",
          "2022-07-22T01:00:00+00:00",
          "2022-07-22T02:00:00+00:00",
          "2022-07-22T03:00:00+00:00",
          "2022-07-22T05:00:00+00:00",
          "2022-07-22T09:00:00+00:00",
          "2022-07-22T14:00:00+00:00",
          "2022-07-22T17:00:00+00:00",
          "2022-07-22T18:00:00+00:00",
          "2022-07-22T20:00:00+00:00",
          "2022-07-24T21:00:00+00:00",
          "2022-07-24T23:00:00+00:00",
          "2022-07-25T00:00:00+00:00",
          "2022-07-25T03:00:00+00:00",
          "2022-07-25T07:00:00+00:00",
          "2022-07-25T10:00:00+00:00",
          "2022-07-25T20:00:00+00:00",
          "2022-07-25T23:00:00+00:00",
          "2022-07-26T04:00:00+00:00",
          "2022-07-26T06:00:00+00:00",
          "2022-07-26T08:00:00+00:00",
          "2022-07-26T10:00:00+00:00",
          "2022-07-26T11:00:00+00:00",
          "2022-07-26T12:00:00+00:00",
          "2022-07-26T17:00:00+00:00",
          "2022-07-26T18:00:00+00:00",
          "2022-07-26T19:00:00+00:00",
          "2022-07-26T20:00:00+00:00",
          "2022-07-26T22:00:00+00:00",
          "2022-07-26T23:00:00+00:00",
          "2022-07-27T01:00:00+00:00",
          "2022-07-27T06:00:00+00:00",
          "2022-07-27T11:00:00+00:00",
          "2022-07-27T12:00:00+00:00",
          "2022-07-27T14:00:00+00:00",
          "2022-07-27T15:00:00+00:00",
          "2022-07-27T16:00:00+00:00",
          "2022-07-27T18:00:00+00:00",
          "2022-07-28T02:00:00+00:00",
          "2022-07-28T04:00:00+00:00",
          "2022-07-28T05:00:00+00:00",
          "2022-07-28T07:00:00+00:00",
          "2022-07-28T10:00:00+00:00",
          "2022-07-28T12:00:00+00:00",
          "2022-07-28T15:00:00+00:00",
          "2022-07-28T19:00:00+00:00",
          "2022-07-28T20:00:00+00:00",
          "2022-07-29T07:00:00+00:00",
          "2022-07-29T13:00:00+00:00",
          "2022-07-29T14:00:00+00:00",
          "2022-07-29T17:00:00+00:00",
          "2022-07-29T18:00:00+00:00",
          "2022-08-01T03:00:00+00:00",
          "2022-08-01T08:00:00+00:00",
          "2022-08-01T13:00:00+00:00",
          "2022-08-01T23:00:00+00:00",
          "2022-08-02T00:00:00+00:00",
          "2022-08-02T02:00:00+00:00",
          "2022-08-02T04:00:00+00:00",
          "2022-08-02T21:00:00+00:00",
          "2022-08-02T22:00:00+00:00",
          "2022-08-02T23:00:00+00:00",
          "2022-08-03T00:00:00+00:00",
          "2022-08-03T02:00:00+00:00",
          "2022-08-03T05:00:00+00:00",
          "2022-08-03T08:00:00+00:00",
          "2022-08-03T09:00:00+00:00",
          "2022-08-03T10:00:00+00:00",
          "2022-08-03T12:00:00+00:00",
          "2022-08-03T13:00:00+00:00",
          "2022-08-03T15:00:00+00:00",
          "2022-08-03T17:00:00+00:00",
          "2022-08-04T03:00:00+00:00",
          "2022-08-04T06:00:00+00:00",
          "2022-08-04T07:00:00+00:00",
          "2022-08-04T12:00:00+00:00",
          "2022-08-04T15:00:00+00:00",
          "2022-08-04T17:00:00+00:00",
          "2022-08-04T22:00:00+00:00",
          "2022-08-04T23:00:00+00:00",
          "2022-08-05T00:00:00+00:00",
          "2022-08-05T05:00:00+00:00",
          "2022-08-05T06:00:00+00:00",
          "2022-08-05T08:00:00+00:00",
          "2022-08-05T10:00:00+00:00",
          "2022-08-05T14:00:00+00:00",
          "2022-08-05T17:00:00+00:00",
          "2022-08-05T19:00:00+00:00",
          "2022-08-05T20:00:00+00:00",
          "2022-08-07T23:00:00+00:00",
          "2022-08-08T02:00:00+00:00",
          "2022-08-08T05:00:00+00:00",
          "2022-08-08T06:00:00+00:00",
          "2022-08-08T07:00:00+00:00",
          "2022-08-08T09:00:00+00:00",
          "2022-08-08T10:00:00+00:00",
          "2022-08-08T13:00:00+00:00",
          "2022-08-08T15:00:00+00:00",
          "2022-08-08T21:00:00+00:00",
          "2022-08-08T22:00:00+00:00",
          "2022-08-09T02:00:00+00:00",
          "2022-08-09T04:00:00+00:00",
          "2022-08-09T05:00:00+00:00",
          "2022-08-09T08:00:00+00:00",
          "2022-08-09T13:00:00+00:00",
          "2022-08-09T21:00:00+00:00",
          "2022-08-10T00:00:00+00:00",
          "2022-08-10T03:00:00+00:00",
          "2022-08-10T05:00:00+00:00",
          "2022-08-10T08:00:00+00:00",
          "2022-08-10T12:00:00+00:00",
          "2022-08-10T13:00:00+00:00",
          "2022-08-10T14:00:00+00:00",
          "2022-08-10T15:00:00+00:00",
          "2022-08-10T19:00:00+00:00",
          "2022-08-10T22:00:00+00:00",
          "2022-08-11T04:00:00+00:00",
          "2022-08-11T05:00:00+00:00",
          "2022-08-12T00:00:00+00:00",
          "2022-08-12T03:00:00+00:00",
          "2022-08-12T04:00:00+00:00",
          "2022-08-12T14:00:00+00:00",
          "2022-08-12T15:00:00+00:00",
          "2022-08-12T18:00:00+00:00",
          "2022-08-12T19:00:00+00:00",
          "2022-08-12T20:00:00+00:00",
          "2022-08-14T21:00:00+00:00",
          "2022-08-15T02:00:00+00:00",
          "2022-08-15T04:00:00+00:00",
          "2022-08-15T07:00:00+00:00",
          "2022-08-15T09:00:00+00:00",
          "2022-08-15T13:00:00+00:00",
          "2022-08-15T14:00:00+00:00",
          "2022-08-15T16:00:00+00:00",
          "2022-08-15T18:00:00+00:00",
          "2022-08-15T20:00:00+00:00",
          "2022-08-16T02:00:00+00:00",
          "2022-08-16T03:00:00+00:00",
          "2022-08-16T05:00:00+00:00",
          "2022-08-16T07:00:00+00:00",
          "2022-08-16T11:00:00+00:00",
          "2022-08-16T20:00:00+00:00",
          "2022-08-17T00:00:00+00:00",
          "2022-08-17T01:00:00+00:00",
          "2022-08-17T03:00:00+00:00",
          "2022-08-17T07:00:00+00:00",
          "2022-08-17T13:00:00+00:00",
          "2022-08-17T14:00:00+00:00",
          "2022-08-17T21:00:00+00:00",
          "2022-08-17T22:00:00+00:00",
          "2022-08-18T01:00:00+00:00",
          "2022-08-18T03:00:00+00:00",
          "2022-08-18T04:00:00+00:00",
          "2022-08-18T05:00:00+00:00",
          "2022-08-18T07:00:00+00:00",
          "2022-08-18T09:00:00+00:00",
          "2022-08-18T17:00:00+00:00",
          "2022-08-18T18:00:00+00:00",
          "2022-08-19T00:00:00+00:00",
          "2022-08-19T04:00:00+00:00",
          "2022-08-19T06:00:00+00:00",
          "2022-08-19T07:00:00+00:00",
          "2022-08-19T08:00:00+00:00",
          "2022-08-19T15:00:00+00:00",
          "2022-08-19T17:00:00+00:00",
          "2022-08-19T18:00:00+00:00",
          "2022-08-21T23:00:00+00:00",
          "2022-08-22T01:00:00+00:00",
          "2022-08-22T11:00:00+00:00",
          "2022-08-22T19:00:00+00:00",
          "2022-08-23T00:00:00+00:00",
          "2022-08-23T02:00:00+00:00",
          "2022-08-23T03:00:00+00:00",
          "2022-08-23T04:00:00+00:00",
          "2022-08-23T09:00:00+00:00",
          "2022-08-23T10:00:00+00:00",
          "2022-08-23T14:00:00+00:00",
          "2022-08-23T15:00:00+00:00",
          "2022-08-23T16:00:00+00:00",
          "2022-08-24T00:00:00+00:00",
          "2022-08-24T02:00:00+00:00",
          "2022-08-24T03:00:00+00:00",
          "2022-08-24T07:00:00+00:00",
          "2022-08-24T09:00:00+00:00",
          "2022-08-24T10:00:00+00:00",
          "2022-08-24T13:00:00+00:00",
          "2022-08-24T15:00:00+00:00",
          "2022-08-24T20:00:00+00:00",
          "2022-08-25T03:00:00+00:00",
          "2022-08-25T07:00:00+00:00",
          "2022-08-25T12:00:00+00:00",
          "2022-08-25T14:00:00+00:00",
          "2022-08-25T15:00:00+00:00",
          "2022-08-25T18:00:00+00:00",
          "2022-08-25T21:00:00+00:00",
          "2022-08-25T23:00:00+00:00",
          "2022-08-26T01:00:00+00:00",
          "2022-08-26T02:00:00+00:00",
          "2022-08-26T08:00:00+00:00",
          "2022-08-26T12:00:00+00:00",
          "2022-08-26T14:00:00+00:00",
          "2022-08-26T17:00:00+00:00",
          "2022-08-26T18:00:00+00:00",
          "2022-08-26T19:00:00+00:00",
          "2022-08-26T20:00:00+00:00",
          "2022-08-28T23:00:00+00:00",
          "2022-08-29T04:00:00+00:00",
          "2022-08-29T05:00:00+00:00",
          "2022-08-29T07:00:00+00:00",
          "2022-08-30T02:00:00+00:00",
          "2022-08-30T07:00:00+00:00",
          "2022-08-30T08:00:00+00:00",
          "2022-08-30T10:00:00+00:00",
          "2022-08-30T14:00:00+00:00",
          "2022-08-30T17:00:00+00:00",
          "2022-08-30T20:00:00+00:00",
          "2022-08-30T22:00:00+00:00",
          "2022-08-31T02:00:00+00:00",
          "2022-08-31T06:00:00+00:00",
          "2022-08-31T08:00:00+00:00",
          "2022-08-31T10:00:00+00:00",
          "2022-08-31T14:00:00+00:00",
          "2022-08-31T16:00:00+00:00",
          "2022-08-31T17:00:00+00:00",
          "2022-09-01T08:00:00+00:00",
          "2022-09-01T13:00:00+00:00",
          "2022-09-01T17:00:00+00:00",
          "2022-09-01T18:00:00+00:00",
          "2022-09-01T19:00:00+00:00",
          "2022-09-01T20:00:00+00:00",
          "2022-09-01T22:00:00+00:00",
          "2022-09-02T01:00:00+00:00",
          "2022-09-02T03:00:00+00:00",
          "2022-09-02T04:00:00+00:00",
          "2022-09-02T08:00:00+00:00",
          "2022-09-02T14:00:00+00:00",
          "2022-09-02T18:00:00+00:00",
          "2022-09-04T22:00:00+00:00",
          "2022-09-04T23:00:00+00:00",
          "2022-09-05T02:00:00+00:00",
          "2022-09-05T06:00:00+00:00",
          "2022-09-05T10:00:00+00:00",
          "2022-09-05T12:00:00+00:00",
          "2022-09-05T13:00:00+00:00",
          "2022-09-05T16:00:00+00:00",
          "2022-09-05T22:00:00+00:00",
          "2022-09-06T01:00:00+00:00",
          "2022-09-06T04:00:00+00:00",
          "2022-09-06T06:00:00+00:00",
          "2022-09-06T10:00:00+00:00",
          "2022-09-06T11:00:00+00:00",
          "2022-09-06T12:00:00+00:00",
          "2022-09-06T13:00:00+00:00",
          "2022-09-06T14:00:00+00:00",
          "2022-09-06T16:00:00+00:00",
          "2022-09-06T20:00:00+00:00",
          "2022-09-06T22:00:00+00:00",
          "2022-09-07T02:00:00+00:00",
          "2022-09-07T05:00:00+00:00",
          "2022-09-07T06:00:00+00:00",
          "2022-09-07T13:00:00+00:00",
          "2022-09-07T16:00:00+00:00",
          "2022-09-07T17:00:00+00:00",
          "2022-09-07T19:00:00+00:00",
          "2022-09-07T20:00:00+00:00",
          "2022-09-08T00:00:00+00:00",
          "2022-09-08T02:00:00+00:00",
          "2022-09-08T06:00:00+00:00",
          "2022-09-08T11:00:00+00:00",
          "2022-09-08T15:00:00+00:00",
          "2022-09-08T17:00:00+00:00",
          "2022-09-08T18:00:00+00:00",
          "2022-09-08T22:00:00+00:00",
          "2022-09-09T06:00:00+00:00",
          "2022-09-09T07:00:00+00:00",
          "2022-09-09T09:00:00+00:00",
          "2022-09-09T13:00:00+00:00",
          "2022-09-09T18:00:00+00:00",
          "2022-09-09T20:00:00+00:00",
          "2022-09-11T21:00:00+00:00",
          "2022-09-11T23:00:00+00:00",
          "2022-09-12T04:00:00+00:00",
          "2022-09-12T05:00:00+00:00",
          "2022-09-12T06:00:00+00:00",
          "2022-09-12T12:00:00+00:00",
          "2022-09-12T16:00:00+00:00",
          "2022-09-12T17:00:00+00:00",
          "2022-09-12T22:00:00+00:00",
          "2022-09-12T23:00:00+00:00",
          "2022-09-13T16:00:00+00:00",
          "2022-09-13T17:00:00+00:00",
          "2022-09-13T18:00:00+00:00",
          "2022-09-13T20:00:00+00:00",
          "2022-09-13T22:00:00+00:00",
          "2022-09-14T00:00:00+00:00",
          "2022-09-14T06:00:00+00:00",
          "2022-09-14T07:00:00+00:00",
          "2022-09-14T08:00:00+00:00",
          "2022-09-14T12:00:00+00:00",
          "2022-09-14T16:00:00+00:00",
          "2022-09-14T20:00:00+00:00",
          "2022-09-14T22:00:00+00:00",
          "2022-09-15T08:00:00+00:00",
          "2022-09-15T09:00:00+00:00",
          "2022-09-15T21:00:00+00:00",
          "2022-09-16T02:00:00+00:00",
          "2022-09-16T03:00:00+00:00",
          "2022-09-16T05:00:00+00:00",
          "2022-09-16T06:00:00+00:00",
          "2022-09-16T08:00:00+00:00",
          "2022-09-16T09:00:00+00:00",
          "2022-09-16T13:00:00+00:00",
          "2022-09-16T14:00:00+00:00",
          "2022-09-16T15:00:00+00:00",
          "2022-09-16T17:00:00+00:00",
          "2022-09-16T18:00:00+00:00",
          "2022-09-18T23:00:00+00:00",
          "2022-09-19T05:00:00+00:00",
          "2022-09-19T10:00:00+00:00",
          "2022-09-19T21:00:00+00:00",
          "2022-09-19T22:00:00+00:00",
          "2022-09-20T04:00:00+00:00",
          "2022-09-20T06:00:00+00:00",
          "2022-09-20T07:00:00+00:00",
          "2022-09-20T10:00:00+00:00",
          "2022-09-20T11:00:00+00:00",
          "2022-09-20T12:00:00+00:00",
          "2022-09-20T15:00:00+00:00",
          "2022-09-20T18:00:00+00:00",
          "2022-09-20T21:00:00+00:00",
          "2022-09-21T01:00:00+00:00",
          "2022-09-21T03:00:00+00:00",
          "2022-09-21T05:00:00+00:00",
          "2022-09-21T06:00:00+00:00",
          "2022-09-21T11:00:00+00:00",
          "2022-09-21T16:00:00+00:00",
          "2022-09-21T20:00:00+00:00",
          "2022-09-22T00:00:00+00:00",
          "2022-09-22T03:00:00+00:00",
          "2022-09-22T11:00:00+00:00",
          "2022-09-22T12:00:00+00:00",
          "2022-09-22T13:00:00+00:00",
          "2022-09-22T18:00:00+00:00",
          "2022-09-22T23:00:00+00:00",
          "2022-09-23T01:00:00+00:00",
          "2022-09-23T04:00:00+00:00",
          "2022-09-23T07:00:00+00:00",
          "2022-09-23T11:00:00+00:00",
          "2022-09-23T19:00:00+00:00",
          "2022-09-23T20:00:00+00:00",
          "2022-09-26T01:00:00+00:00",
          "2022-09-26T02:00:00+00:00",
          "2022-09-26T09:00:00+00:00",
          "2022-09-26T15:00:00+00:00",
          "2022-09-26T20:00:00+00:00",
          "2022-09-26T23:00:00+00:00",
          "2022-09-27T07:00:00+00:00",
          "2022-09-27T12:00:00+00:00",
          "2022-09-27T14:00:00+00:00",
          "2022-09-27T15:00:00+00:00",
          "2022-09-27T16:00:00+00:00",
          "2022-09-27T17:00:00+00:00",
          "2022-09-27T19:00:00+00:00",
          "2022-09-27T21:00:00+00:00",
          "2022-09-27T22:00:00+00:00",
          "2022-09-28T03:00:00+00:00",
          "2022-09-28T04:00:00+00:00",
          "2022-09-28T05:00:00+00:00",
          "2022-09-28T07:00:00+00:00",
          "2022-09-28T14:00:00+00:00",
          "2022-09-28T17:00:00+00:00",
          "2022-09-28T21:00:00+00:00",
          "2022-09-28T22:00:00+00:00",
          "2022-09-28T23:00:00+00:00",
          "2022-09-29T02:00:00+00:00",
          "2022-09-29T04:00:00+00:00",
          "2022-09-29T06:00:00+00:00",
          "2022-09-29T07:00:00+00:00",
          "2022-09-29T08:00:00+00:00",
          "2022-09-29T10:00:00+00:00",
          "2022-09-29T16:00:00+00:00",
          "2022-09-29T18:00:00+00:00",
          "2022-09-29T19:00:00+00:00",
          "2022-09-30T00:00:00+00:00",
          "2022-09-30T08:00:00+00:00",
          "2022-09-30T12:00:00+00:00",
          "2022-09-30T17:00:00+00:00",
          "2022-10-02T21:00:00+00:00",
          "2022-10-03T00:00:00+00:00",
          "2022-10-03T01:00:00+00:00",
          "2022-10-03T02:00:00+00:00",
          "2022-10-03T04:00:00+00:00",
          "2022-10-03T05:00:00+00:00",
          "2022-10-03T11:00:00+00:00",
          "2022-10-03T19:00:00+00:00",
          "2022-10-04T00:00:00+00:00",
          "2022-10-04T03:00:00+00:00",
          "2022-10-04T04:00:00+00:00",
          "2022-10-04T06:00:00+00:00",
          "2022-10-04T07:00:00+00:00",
          "2022-10-04T08:00:00+00:00",
          "2022-10-04T15:00:00+00:00",
          "2022-10-04T17:00:00+00:00",
          "2022-10-05T02:00:00+00:00",
          "2022-10-05T04:00:00+00:00",
          "2022-10-05T05:00:00+00:00",
          "2022-10-05T07:00:00+00:00",
          "2022-10-05T14:00:00+00:00",
          "2022-10-05T15:00:00+00:00",
          "2022-10-05T16:00:00+00:00",
          "2022-10-05T21:00:00+00:00",
          "2022-10-06T02:00:00+00:00",
          "2022-10-06T03:00:00+00:00",
          "2022-10-06T05:00:00+00:00",
          "2022-10-06T06:00:00+00:00",
          "2022-10-06T08:00:00+00:00",
          "2022-10-06T09:00:00+00:00",
          "2022-10-06T11:00:00+00:00",
          "2022-10-06T12:00:00+00:00",
          "2022-10-06T17:00:00+00:00",
          "2022-10-06T18:00:00+00:00",
          "2022-10-06T19:00:00+00:00",
          "2022-10-07T00:00:00+00:00",
          "2022-10-07T05:00:00+00:00",
          "2022-10-07T07:00:00+00:00",
          "2022-10-07T11:00:00+00:00",
          "2022-10-07T12:00:00+00:00",
          "2022-10-09T21:00:00+00:00",
          "2022-10-09T22:00:00+00:00",
          "2022-10-10T14:00:00+00:00",
          "2022-10-11T10:00:00+00:00",
          "2022-10-11T12:00:00+00:00",
          "2022-10-11T19:00:00+00:00",
          "2022-10-11T20:00:00+00:00",
          "2022-10-11T21:00:00+00:00",
          "2022-10-11T22:00:00+00:00",
          "2022-10-12T00:00:00+00:00",
          "2022-10-12T02:00:00+00:00",
          "2022-10-12T04:00:00+00:00",
          "2022-10-12T05:00:00+00:00",
          "2022-10-12T06:00:00+00:00",
          "2022-10-12T07:00:00+00:00",
          "2022-10-12T09:00:00+00:00",
          "2022-10-12T10:00:00+00:00",
          "2022-10-12T12:00:00+00:00",
          "2022-10-12T13:00:00+00:00",
          "2022-10-12T14:00:00+00:00",
          "2022-10-13T00:00:00+00:00",
          "2022-10-13T05:00:00+00:00",
          "2022-10-13T06:00:00+00:00",
          "2022-10-13T07:00:00+00:00",
          "2022-10-13T09:00:00+00:00",
          "2022-10-13T12:00:00+00:00",
          "2022-10-13T14:00:00+00:00",
          "2022-10-13T15:00:00+00:00",
          "2022-10-13T16:00:00+00:00",
          "2022-10-14T03:00:00+00:00",
          "2022-10-14T15:00:00+00:00",
          "2022-10-17T05:00:00+00:00",
          "2022-10-17T06:00:00+00:00",
          "2022-10-17T11:00:00+00:00",
          "2022-10-17T16:00:00+00:00",
          "2022-10-17T20:00:00+00:00",
          "2022-10-18T00:00:00+00:00",
          "2022-10-18T02:00:00+00:00",
          "2022-10-18T04:00:00+00:00",
          "2022-10-18T06:00:00+00:00",
          "2022-10-18T10:00:00+00:00",
          "2022-10-18T12:00:00+00:00",
          "2022-10-18T14:00:00+00:00",
          "2022-10-18T15:00:00+00:00",
          "2022-10-18T16:00:00+00:00",
          "2022-10-18T23:00:00+00:00",
          "2022-10-19T03:00:00+00:00",
          "2022-10-19T12:00:00+00:00",
          "2022-10-19T16:00:00+00:00",
          "2022-10-19T17:00:00+00:00",
          "2022-10-19T18:00:00+00:00",
          "2022-10-19T19:00:00+00:00",
          "2022-10-19T22:00:00+00:00",
          "2022-10-20T01:00:00+00:00",
          "2022-10-20T04:00:00+00:00",
          "2022-10-20T07:00:00+00:00",
          "2022-10-20T13:00:00+00:00",
          "2022-10-21T05:00:00+00:00",
          "2022-10-21T09:00:00+00:00",
          "2022-10-21T12:00:00+00:00",
          "2022-10-21T13:00:00+00:00",
          "2022-10-21T15:00:00+00:00",
          "2022-10-21T18:00:00+00:00",
          "2022-10-21T19:00:00+00:00",
          "2022-10-23T22:00:00+00:00",
          "2022-10-23T23:00:00+00:00",
          "2022-10-24T02:00:00+00:00",
          "2022-10-24T03:00:00+00:00",
          "2022-10-24T05:00:00+00:00",
          "2022-10-24T10:00:00+00:00",
          "2022-10-24T13:00:00+00:00",
          "2022-10-24T18:00:00+00:00",
          "2022-10-24T21:00:00+00:00",
          "2022-10-25T00:00:00+00:00",
          "2022-10-25T03:00:00+00:00",
          "2022-10-25T05:00:00+00:00",
          "2022-10-25T07:00:00+00:00",
          "2022-10-25T12:00:00+00:00",
          "2022-10-25T15:00:00+00:00",
          "2022-10-25T20:00:00+00:00",
          "2022-10-26T01:00:00+00:00",
          "2022-10-26T03:00:00+00:00",
          "2022-10-26T04:00:00+00:00",
          "2022-10-26T05:00:00+00:00",
          "2022-10-26T06:00:00+00:00",
          "2022-10-26T07:00:00+00:00",
          "2022-10-26T08:00:00+00:00",
          "2022-10-26T09:00:00+00:00",
          "2022-10-26T19:00:00+00:00",
          "2022-10-26T21:00:00+00:00",
          "2022-10-27T13:00:00+00:00",
          "2022-10-27T17:00:00+00:00",
          "2022-10-27T21:00:00+00:00",
          "2022-10-28T02:00:00+00:00",
          "2022-10-28T05:00:00+00:00",
          "2022-10-28T07:00:00+00:00",
          "2022-10-28T08:00:00+00:00",
          "2022-10-28T10:00:00+00:00",
          "2022-10-28T13:00:00+00:00",
          "2022-10-28T14:00:00+00:00",
          "2022-10-28T15:00:00+00:00",
          "2022-10-28T17:00:00+00:00",
          "2022-10-28T18:00:00+00:00",
          "2022-10-28T20:00:00+00:00",
          "2022-10-30T22:00:00+00:00",
          "2022-10-31T02:00:00+00:00",
          "2022-10-31T03:00:00+00:00",
          "2022-10-31T04:00:00+00:00",
          "2022-10-31T06:00:00+00:00",
          "2022-10-31T07:00:00+00:00",
          "2022-10-31T10:00:00+00:00",
          "2022-10-31T18:00:00+00:00",
          "2022-11-01T02:00:00+00:00",
          "2022-11-01T05:00:00+00:00",
          "2022-11-01T08:00:00+00:00",
          "2022-11-01T12:00:00+00:00",
          "2022-11-01T15:00:00+00:00",
          "2022-11-01T17:00:00+00:00",
          "2022-11-01T18:00:00+00:00",
          "2022-11-01T23:00:00+00:00",
          "2022-11-02T02:00:00+00:00",
          "2022-11-02T05:00:00+00:00",
          "2022-11-02T07:00:00+00:00",
          "2022-11-02T12:00:00+00:00",
          "2022-11-02T16:00:00+00:00",
          "2022-11-02T19:00:00+00:00",
          "2022-11-02T20:00:00+00:00",
          "2022-11-03T02:00:00+00:00",
          "2022-11-03T08:00:00+00:00",
          "2022-11-03T09:00:00+00:00",
          "2022-11-03T15:00:00+00:00",
          "2022-11-03T18:00:00+00:00",
          "2022-11-03T19:00:00+00:00",
          "2022-11-03T20:00:00+00:00",
          "2022-11-03T23:00:00+00:00",
          "2022-11-04T05:00:00+00:00",
          "2022-11-04T08:00:00+00:00",
          "2022-11-04T14:00:00+00:00",
          "2022-11-04T16:00:00+00:00",
          "2022-11-04T19:00:00+00:00",
          "2022-11-04T20:00:00+00:00",
          "2022-11-06T23:00:00+00:00",
          "2022-11-07T00:00:00+00:00",
          "2022-11-07T01:00:00+00:00",
          "2022-11-07T02:00:00+00:00",
          "2022-11-07T03:00:00+00:00",
          "2022-11-07T04:00:00+00:00",
          "2022-11-07T08:00:00+00:00",
          "2022-11-07T10:00:00+00:00",
          "2022-11-07T14:00:00+00:00",
          "2022-11-07T18:00:00+00:00",
          "2022-11-07T22:00:00+00:00",
          "2022-11-08T00:00:00+00:00",
          "2022-11-08T02:00:00+00:00",
          "2022-11-08T04:00:00+00:00",
          "2022-11-08T07:00:00+00:00",
          "2022-11-09T00:00:00+00:00",
          "2022-11-09T06:00:00+00:00",
          "2022-11-09T09:00:00+00:00",
          "2022-11-09T13:00:00+00:00",
          "2022-11-09T15:00:00+00:00",
          "2022-11-09T17:00:00+00:00",
          "2022-11-09T22:00:00+00:00",
          "2022-11-09T23:00:00+00:00",
          "2022-11-10T01:00:00+00:00",
          "2022-11-10T04:00:00+00:00",
          "2022-11-10T05:00:00+00:00",
          "2022-11-10T07:00:00+00:00",
          "2022-11-10T08:00:00+00:00",
          "2022-11-10T09:00:00+00:00",
          "2022-11-10T10:00:00+00:00",
          "2022-11-10T11:00:00+00:00",
          "2022-11-10T14:00:00+00:00",
          "2022-11-11T00:00:00+00:00",
          "2022-11-11T03:00:00+00:00",
          "2022-11-11T04:00:00+00:00",
          "2022-11-11T11:00:00+00:00",
          "2022-11-11T12:00:00+00:00",
          "2022-11-14T01:00:00+00:00",
          "2022-11-14T03:00:00+00:00",
          "2022-11-14T13:00:00+00:00",
          "2022-11-14T16:00:00+00:00",
          "2022-11-14T23:00:00+00:00",
          "2022-11-15T01:00:00+00:00",
          "2022-11-15T14:00:00+00:00",
          "2022-11-15T15:00:00+00:00",
          "2022-11-16T09:00:00+00:00",
          "2022-11-16T19:00:00+00:00",
          "2022-11-16T20:00:00+00:00",
          "2022-11-16T21:00:00+00:00"
         ],
         "y": [
          100.10000000000073,
          1281.300000000002,
          1319.000000000001,
          1350.200000000001,
          1359.6000000000004,
          1379.7999999999995,
          1405.6999999999996,
          1405.4999999999993,
          1353.3999999999999,
          1352.1999999999987,
          1303.8999999999987,
          1257.8999999999994,
          1190.3999999999983,
          1196.9999999999982,
          1256.1999999999985,
          1291.7,
          1374.5000000000007,
          1325.9999999999982,
          1296.299999999999,
          1408.6999999999994,
          1456.7999999999993,
          1427.8000000000002,
          1373.3999999999992,
          1318.299999999999,
          1287.8999999999987,
          1149.099999999998,
          1104.4999999999968,
          1204.4999999999968,
          1115.1999999999957,
          1178.7999999999952,
          1405.3999999999958,
          1299.4999999999948,
          1264.6999999999932,
          1193.799999999993,
          1120.1999999999925,
          1093.6999999999925,
          1039.899999999991,
          1001.599999999991,
          967.699999999991,
          835.0999999999905,
          755.1999999999889,
          791.7999999999888,
          592.2999999999897,
          243.79999999998927,
          170.79999999998955,
          191.99999999999076,
          183.89999999998903,
          185.89999999998992,
          117.69999999999055,
          110.29999999999092,
          135.39999999999105,
          58.399999999990655,
          796.1999999999913,
          710.1999999999906,
          722.399999999992,
          679.6999999999921,
          663.9999999999914,
          662.7999999999877,
          572.8999999999871,
          534.2999999999873,
          513.0999999999883,
          459.89999999998867,
          386.69999999998873,
          368.4999999999869,
          380.1999999999881,
          562.1999999999874,
          701.099999999987,
          780.8999999999871,
          736.1999999999874,
          681.199999999988,
          544.3999999999885,
          501.39999999998656,
          530.6999999999887,
          505.79999999998915,
          564.7999999999871,
          517.1999999999862,
          444.79999999998705,
          414.9999999999872,
          323.99999999998613,
          204.89999999998525,
          137.19999999998473,
          76.79999999998427,
          28.099999999984966,
          -137.20000000001437,
          -52.80000000001496,
          -87.60000000001628,
          -46.400000000016156,
          -19.8000000000142,
          -10.200000000015702,
          146.39999999998454,
          14.699999999983277,
          -72.70000000001625,
          194.19999999998367,
          147.49999999998414,
          601.0999999999826,
          917.2999999999824,
          926.0999999999831,
          818.8999999999803,
          1009.6999999999802,
          1268.0999999999788,
          1363.0999999999776,
          1432.2999999999759,
          1447.4999999999754,
          1441.8999999999742,
          1405.4999999999736,
          1456.599999999973,
          1379.5999999999726,
          1354.9999999999725,
          1364.9999999999725,
          1376.799999999972,
          1347.999999999972,
          1385.8999999999728,
          1560.299999999973,
          1588.0999999999729,
          1723.6999999999723,
          1635.8999999999724,
          1654.0999999999729,
          1637.7999999999718,
          1813.6999999999698,
          1717.9999999999704,
          1636.9999999999702,
          1789.5999999999708,
          1849.8999999999705,
          1693.199999999972,
          1630.6999999999712,
          1632.2999999999706,
          1722.8999999999712,
          1693.0999999999715,
          1694.4999999999718,
          1573.699999999971,
          1566.8999999999712,
          1513.799999999972,
          2015.9999999999711,
          1934.399999999971,
          1861.5999999999715,
          1851.5999999999722,
          1819.3999999999721,
          1817.4999999999716,
          1842.7999999999702,
          1835.3999999999705,
          2294.29999999997,
          2225.8999999999705,
          2354.799999999971,
          2408.999999999971,
          2387.39999999997,
          2434.7999999999697,
          2469.8999999999696,
          2240.999999999969,
          2209.3999999999687,
          2210.8999999999673,
          2241.0999999999676,
          2358.6999999999675,
          2329.399999999966,
          2348.399999999966,
          2327.1999999999657,
          2238.299999999966,
          2086.199999999966,
          1826.3999999999673,
          1430.799999999967,
          1281.5999999999665,
          1204.8999999999655,
          1241.6999999999668,
          1160.8999999999683,
          1158.3999999999696,
          1157.8999999999708,
          1287.6999999999707,
          1283.7999999999706,
          1232.3999999999714,
          1408.0999999999701,
          1397.1999999999698,
          1532.09999999997,
          1785.29999999997,
          1907.2999999999697,
          2201.099999999969,
          2414.7999999999693,
          2547.1999999999684,
          2467.599999999969,
          2399.0999999999685,
          2382.7999999999683,
          2442.5999999999694,
          2664.5999999999694,
          2792.599999999971,
          2747.899999999971,
          2716.0999999999713,
          2689.79999999997,
          2831.999999999969,
          2740.3999999999705,
          2652.19999999997,
          2757.8999999999696,
          2716.6999999999684,
          2699.8999999999696,
          2622.199999999969,
          2757.6999999999684,
          2677.0999999999676,
          2537.499999999966,
          2547.0999999999653,
          2541.899999999967,
          2487.3999999999673,
          2429.7999999999674,
          2509.5999999999663,
          2528.299999999966,
          2692.7999999999647,
          2702.799999999967,
          2699.0999999999676,
          2607.6999999999684,
          2517.8999999999687,
          2853.9999999999677,
          2939.399999999968,
          3001.199999999967,
          3348.399999999967,
          3314.2999999999665,
          3222.499999999967,
          3165.099999999966,
          3349.499999999966,
          3607.1999999999653,
          3708.5999999999663,
          3702.9999999999673,
          3654.299999999967,
          3685.8999999999673,
          3717.999999999969,
          3561.0999999999704,
          3558.8999999999714,
          3586.7999999999715,
          3536.499999999972,
          3443.7999999999706,
          3453.2999999999697,
          3397.69999999997,
          3662.6999999999694,
          3807.1999999999703,
          3764.299999999971,
          3748.699999999971,
          3809.699999999971,
          3898.2999999999697,
          3883.2999999999706,
          3952.0999999999694,
          3914.3999999999687,
          3813.099999999969,
          3817.599999999969,
          3721.399999999969,
          3679.0999999999694,
          3657.0999999999694,
          3482.29999999997,
          3492.09999999997,
          3344.899999999969,
          3303.2999999999674,
          3137.2999999999683,
          3041.2999999999674,
          2984.9999999999673,
          2935.3999999999664,
          2918.9999999999654,
          2853.699999999964,
          2870.499999999965,
          2834.3999999999633,
          2837.3999999999633,
          2785.0999999999626,
          2782.8999999999614,
          2800.099999999961,
          3126.69999999996,
          3065.69999999996,
          3046.69999999996,
          3504.399999999959,
          3717.69999999996,
          4385.699999999961,
          4389.799999999958,
          4361.499999999958,
          4225.999999999959,
          4829.39999999996,
          4991.5999999999585,
          5564.39999999996,
          5745.299999999959,
          5753.799999999958,
          5743.999999999958,
          5679.399999999957,
          5610.2999999999565,
          5665.399999999958,
          5970.19999999996,
          5933.0999999999585,
          5907.199999999958,
          5877.199999999958,
          5852.299999999959,
          5810.3999999999605,
          6480.8999999999605,
          6484.8999999999605,
          6519.099999999961,
          6482.099999999961,
          6499.699999999961,
          6462.499999999961,
          6418.899999999961,
          6337.499999999961,
          6293.699999999961,
          6374.59999999996,
          6364.99999999996,
          6357.3999999999605,
          6379.299999999961,
          6335.499999999961,
          6281.199999999961,
          6264.3999999999605,
          6233.699999999962,
          6197.599999999961,
          6143.499999999962,
          6079.999999999961,
          6068.899999999961,
          6161.89999999996,
          6385.89999999996,
          6387.0999999999585,
          6501.0999999999585,
          6517.299999999958,
          6708.699999999959,
          6681.799999999958,
          6929.899999999959,
          7021.0999999999585,
          6997.999999999958,
          6988.399999999959,
          6909.999999999958,
          6791.799999999958,
          6732.599999999957,
          6698.199999999958,
          6600.199999999958,
          6479.099999999958,
          6421.399999999958,
          6384.899999999959,
          6825.799999999958,
          7111.09999999996,
          6945.79999999996,
          7103.99999999996,
          7084.39999999996,
          7194.49999999996,
          7378.299999999961,
          7531.69999999996,
          7413.999999999958,
          7823.799999999959,
          7850.999999999961,
          7864.199999999962,
          7802.299999999963,
          7779.599999999963,
          7717.399999999964,
          7756.699999999964,
          7755.899999999965,
          7727.899999999965,
          7718.899999999965,
          7732.199999999965,
          7507.599999999964,
          7606.199999999963,
          7625.399999999964,
          7387.9999999999645,
          7403.499999999965,
          7659.999999999966,
          7826.499999999967,
          7691.999999999967,
          7558.299999999968,
          7804.599999999968,
          7626.199999999966,
          7539.999999999966,
          7683.7999999999665,
          7640.999999999968,
          7502.099999999968,
          7359.999999999967,
          7349.699999999967,
          7322.599999999968,
          7256.799999999967,
          7927.699999999968,
          7999.999999999966,
          7985.199999999967,
          8060.599999999968,
          8004.599999999967,
          8005.699999999966,
          7907.499999999966,
          7979.099999999968,
          7951.199999999969,
          7934.399999999969,
          7819.199999999969,
          7765.199999999968,
          7754.499999999969,
          7708.099999999969,
          7633.69999999997,
          7593.899999999969,
          7552.899999999969,
          7473.099999999968,
          7491.699999999967,
          7529.599999999967,
          7643.699999999966,
          7618.099999999966,
          7635.899999999966,
          7616.999999999966,
          7596.599999999966,
          7806.099999999966,
          7844.4999999999645,
          7840.099999999965,
          7829.399999999965,
          7829.499999999965,
          7744.2999999999665,
          7699.099999999966,
          7609.399999999964,
          7569.999999999965,
          7466.399999999965,
          7312.999999999963,
          7252.6999999999625,
          7171.099999999962,
          7116.1999999999625,
          7075.799999999962,
          7049.799999999961,
          6964.099999999959,
          6894.19999999996,
          7061.69999999996,
          7034.89999999996,
          7048.699999999959,
          7222.299999999958,
          7246.499999999958,
          7300.399999999959,
          7257.199999999957,
          7219.099999999958,
          7168.999999999957,
          7243.899999999957,
          7288.499999999956,
          7278.599999999956,
          7226.9999999999545,
          7166.699999999954,
          7225.699999999954,
          7202.599999999954,
          7350.699999999953,
          7421.399999999952,
          7930.599999999953,
          7898.499999999954,
          7952.499999999953,
          8080.6999999999525,
          8058.499999999953,
          7988.899999999954,
          7844.699999999955,
          7829.199999999955,
          7796.299999999955,
          7911.999999999955,
          8132.199999999956,
          7977.399999999957,
          7964.699999999957,
          7976.399999999956,
          7871.399999999955,
          7852.899999999955,
          7838.699999999955,
          7786.699999999954,
          8061.299999999953,
          7997.499999999953,
          7978.599999999952,
          7884.999999999952,
          7713.999999999951,
          8041.199999999952,
          7968.299999999951,
          7935.699999999951,
          7824.19999999995,
          7777.8999999999505,
          7472.799999999952,
          7265.399999999952,
          7053.999999999952,
          6955.499999999954,
          6948.899999999953,
          6836.799999999954,
          6845.899999999954,
          6755.699999999953,
          6471.099999999955,
          6309.699999999954,
          6213.4999999999545,
          6176.699999999955,
          6213.299999999956,
          6244.099999999957,
          6242.999999999958,
          6348.199999999957,
          6321.499999999957,
          6293.399999999958,
          6192.999999999957,
          6012.799999999958,
          5995.399999999958,
          5902.0999999999585,
          5929.69999999996,
          5778.699999999961,
          5787.79999999996,
          5697.19999999996,
          5716.799999999959,
          5671.799999999958,
          5664.999999999958,
          5652.399999999959,
          5542.999999999959,
          5421.69999999996,
          5376.299999999959,
          5270.49999999996,
          5216.89999999996,
          5197.199999999961,
          5115.899999999959,
          5112.099999999959,
          4973.89999999996,
          4786.899999999958,
          5014.699999999957,
          5258.39999999996,
          5510.29999999996,
          5506.49999999996,
          5426.19999999996,
          5440.599999999959,
          5369.999999999961,
          5306.299999999959,
          5116.79999999996,
          4936.299999999959,
          4879.39999999996,
          4762.3999999999605,
          4777.999999999961,
          4771.699999999961,
          4787.099999999961,
          4698.099999999962,
          4757.799999999963,
          4861.899999999963,
          4931.799999999964,
          4890.499999999963,
          4924.899999999964,
          5019.399999999964,
          5019.299999999964,
          5055.299999999965,
          4969.999999999965,
          4963.699999999965,
          4922.099999999964,
          4881.899999999965,
          4637.699999999966,
          4593.099999999967,
          4553.499999999967,
          4507.799999999967,
          4470.999999999968,
          4458.899999999969,
          4412.69999999997,
          4356.599999999968,
          4361.299999999967,
          4328.399999999967,
          4188.899999999966,
          4216.099999999967,
          4153.699999999969,
          4144.499999999968,
          4092.2999999999683,
          4083.7999999999683,
          4109.999999999968,
          4489.19999999997,
          4483.3999999999705,
          4561.799999999971,
          4604.09999999997,
          4661.49999999997,
          4727.29999999997,
          4646.499999999969,
          4628.39999999997,
          4548.39999999997,
          4619.499999999969,
          4550.99999999997,
          4545.399999999969,
          4658.399999999969,
          4686.899999999969,
          4680.29999999997,
          4564.599999999969,
          4477.399999999969,
          4435.59999999997,
          4322.69999999997,
          4421.899999999969,
          4409.699999999969,
          4366.099999999969,
          4106.699999999969,
          4069.69999999997,
          4041.3999999999687,
          4014.199999999968,
          4020.7999999999683,
          4017.3999999999683,
          3976.3999999999673,
          3829.9999999999673,
          3681.7999999999674,
          3652.399999999968,
          3648.9999999999677,
          3637.1999999999657,
          3691.099999999966,
          3773.3999999999683,
          3790.799999999969,
          3904.7999999999674,
          3851.0999999999685,
          3723.699999999969,
          3726.4999999999695,
          3641.1999999999703,
          3611.8999999999714,
          3811.6999999999707,
          4000.5999999999704,
          3953.59999999997,
          4086.499999999968,
          4082.1999999999675,
          4086.399999999966,
          4172.999999999966,
          4153.399999999967,
          4080.199999999967,
          4050.699999999967,
          4017.899999999968,
          4019.099999999969,
          4006.5999999999694,
          4054.799999999968,
          4008.3999999999683,
          3955.1999999999684,
          3915.499999999968,
          3885.999999999968,
          3814.199999999966,
          3802.999999999966,
          3636.1999999999657,
          3561.399999999965,
          3471.3999999999637,
          3391.1999999999634,
          3439.4999999999623,
          3414.2999999999624,
          3337.399999999963,
          3308.999999999961,
          3327.699999999961,
          3219.599999999962,
          3460.0999999999594,
          3500.09999999996,
          3458.8999999999596,
          3313.699999999959,
          3294.599999999958,
          3315.599999999958,
          3259.799999999958,
          3262.199999999957,
          3201.5999999999576,
          3313.3999999999573,
          3254.3999999999573,
          3070.99999999996,
          3075.79999999996,
          2725.69999999996,
          2690.3999999999596,
          2653.8999999999583,
          2621.6999999999584,
          2586.3999999999605,
          2553.099999999961,
          2490.6999999999584,
          2510.699999999959,
          2414.6999999999607,
          2226.399999999963,
          2116.0999999999617,
          2064.1999999999634,
          2066.9999999999627,
          1967.399999999963,
          2038.899999999963,
          1994.299999999964,
          2279.3999999999623,
          2493.599999999962,
          2529.199999999961,
          2653.499999999962,
          2765.4999999999604,
          2786.599999999961,
          2891.499999999961,
          2963.4999999999595,
          2961.4999999999586,
          2971.5999999999603,
          2789.39999999996,
          2752.699999999961,
          2625.899999999961,
          2529.8999999999614,
          2533.499999999962,
          2519.799999999962,
          2509.29999999996,
          2449.09999999996,
          2416.4999999999604,
          2436.9999999999613,
          2444.599999999962,
          2400.5999999999626,
          2325.5999999999626,
          2176.3999999999623,
          2250.4999999999613,
          2135.1999999999607,
          2113.6999999999634,
          2197.5999999999626,
          2412.9999999999627,
          2538.799999999961,
          2498.1999999999616,
          2402.6999999999603,
          2579.4999999999595,
          2440.999999999959,
          2468.8999999999596,
          2453.9999999999595,
          2371.1999999999593,
          2559.099999999958,
          2717.5999999999585,
          2608.39999999996,
          2677.3999999999614,
          2928.3999999999605,
          2852.599999999959,
          2856.1999999999593,
          2852.3999999999583,
          2947.8999999999583,
          3017.699999999957,
          3021.099999999957,
          2984.2999999999574,
          2888.9999999999573,
          2886.9999999999573,
          2764.7999999999583,
          2693.599999999958,
          2694.999999999958,
          2748.999999999959,
          2750.39999999996,
          2993.0999999999603,
          3121.8999999999605,
          3334.499999999961,
          3422.6999999999616,
          3483.399999999962,
          3574.3999999999605,
          3627.7999999999597,
          3625.7999999999597,
          3617.19999999996,
          3579.899999999959,
          3561.6999999999603,
          3474.5999999999594,
          3480.0999999999585,
          3468.699999999958,
          3508.199999999956,
          3516.0999999999567,
          3534.4999999999573,
          3535.4999999999573,
          3504.899999999956,
          3461.299999999957,
          3499.4999999999545,
          3454.6999999999543,
          3431.099999999954,
          3404.8999999999533,
          3345.8999999999533,
          3297.2999999999515,
          3215.499999999951,
          3133.899999999949,
          3086.299999999948,
          3082.6999999999475,
          3102.899999999948,
          3037.899999999947,
          2986.2999999999465,
          2951.599999999946,
          3149.1999999999457,
          3319.7999999999465,
          3244.899999999945,
          3228.8999999999446,
          3246.4999999999463,
          3179.499999999946,
          2983.599999999946,
          2947.699999999946,
          3000.899999999944,
          2982.699999999945,
          2937.6999999999452,
          2939.499999999946,
          3058.999999999945,
          3141.7999999999474,
          3078.799999999948,
          3074.6999999999466,
          3084.699999999944,
          3045.099999999943,
          3027.6999999999434,
          3161.8999999999432,
          3153.8999999999432,
          3068.899999999943,
          3007.1999999999425,
          2928.5999999999426,
          2907.8999999999423,
          2867.699999999942,
          2828.0999999999426,
          2825.5999999999417,
          2778.19999999994,
          2746.5999999999394,
          2665.2999999999392,
          2666.09999999994,
          2651.699999999942,
          2680.999999999942,
          3040.499999999942,
          2982.6999999999416,
          3032.6999999999407,
          3009.8999999999414,
          2966.599999999941,
          2953.9999999999413,
          3552.199999999941,
          3843.0999999999403,
          3696.1999999999416,
          3673.5999999999417,
          3860.1999999999416,
          3849.799999999941,
          3715.3999999999423,
          3602.999999999943,
          3612.0999999999426,
          3570.699999999942,
          3561.7999999999424,
          3537.299999999942,
          3479.699999999942,
          3268.3999999999423,
          3205.399999999943,
          3088.6999999999425,
          3017.099999999942,
          2931.8999999999423,
          2909.099999999943,
          3051.7999999999424,
          3351.29999999994,
          3414.3999999999405,
          3371.29999999994,
          3308.6999999999407,
          3317.4999999999404,
          3309.29999999994,
          3364.89999999994,
          3323.0999999999403,
          3227.599999999941,
          3164.5999999999412,
          3110.8999999999414,
          3011.499999999943,
          2990.1999999999434,
          2993.9999999999427,
          3222.999999999944,
          3176.399999999943,
          3347.399999999943,
          3329.4999999999422,
          3469.299999999942,
          3485.0999999999412,
          3431.39999999994,
          3499.999999999941,
          3438.999999999941,
          3449.5999999999417,
          3438.799999999941,
          3244.3999999999396,
          3169.0999999999394,
          3013.89999999994,
          2986.4999999999404,
          2877.3999999999382,
          2821.4999999999386,
          2776.299999999939,
          2742.499999999938,
          2802.499999999938,
          2791.999999999938,
          2666.7999999999374,
          2562.8999999999387,
          2741.5999999999394,
          2633.199999999939,
          3037.5999999999394,
          2937.69999999994,
          2934.399999999939,
          3258.69999999994,
          3750.599999999938,
          4197.399999999938,
          4296.799999999938,
          4292.799999999937,
          4363.399999999936,
          4468.9999999999345,
          4500.399999999936,
          4509.599999999937,
          4529.199999999936,
          4483.699999999935,
          4583.099999999936,
          4617.299999999937,
          4660.799999999937,
          4667.7999999999365,
          4550.599999999937,
          4534.399999999936,
          4439.899999999936,
          4382.499999999936,
          4345.299999999936,
          4302.099999999934,
          4259.399999999935,
          4210.399999999935,
          4144.099999999935,
          4012.2999999999356,
          3949.099999999935,
          3883.6999999999352,
          3851.6999999999352,
          3693.9999999999336,
          3639.1999999999343,
          3629.299999999934,
          3554.499999999933,
          3566.799999999933,
          3482.9999999999322,
          3406.0999999999317,
          3411.2999999999324,
          2864.599999999935,
          2822.099999999934,
          2741.299999999933,
          2740.8999999999323,
          2998.6999999999316,
          3718.199999999931,
          3910.5999999999303,
          4290.5999999999285,
          5123.199999999928,
          5163.199999999928,
          5178.799999999928,
          5284.0999999999285,
          5781.899999999928,
          5621.199999999929,
          5599.799999999928,
          5441.899999999928,
          5365.699999999927,
          4999.699999999926,
          4898.499999999928,
          5083.899999999928,
          5216.799999999928,
          5242.999999999929,
          5591.59999999993,
          5633.999999999929,
          5640.799999999929,
          5666.999999999929,
          5690.799999999928,
          5750.799999999927,
          5774.7999999999265,
          5752.7999999999265,
          5795.399999999925,
          5767.799999999924,
          6340.9999999999245,
          6358.799999999925,
          6303.299999999924,
          6370.699999999923,
          6354.299999999923,
          6527.499999999923,
          6385.399999999923,
          6617.199999999923,
          6549.299999999924,
          6653.499999999924,
          6602.699999999923,
          6403.699999999924,
          6441.399999999925,
          6413.4999999999245,
          6291.699999999923,
          6884.899999999926,
          7298.099999999928,
          8055.699999999927,
          8675.399999999925,
          8633.599999999926,
          8574.199999999926,
          8662.499999999925,
          8979.199999999926,
          9130.099999999926,
          9072.399999999925,
          9061.799999999927,
          8932.199999999928,
          8803.999999999929,
          8653.299999999928,
          8536.799999999928,
          8394.499999999927,
          8347.199999999928,
          8335.399999999929,
          8335.199999999928,
          8351.699999999928,
          8282.899999999929,
          8265.199999999928,
          8208.399999999929,
          8099.099999999928,
          7982.699999999927,
          7905.499999999926,
          7779.699999999926,
          7771.099999999927,
          7719.7999999999265,
          7627.199999999926,
          7537.599999999926,
          7348.699999999925,
          7244.899999999926,
          7254.499999999926,
          7269.399999999926,
          7245.799999999926,
          7320.499999999926,
          7238.999999999926,
          7352.799999999928,
          7499.999999999926,
          7556.899999999926,
          7621.999999999925,
          8082.799999999923,
          8246.099999999924,
          8350.099999999926,
          8474.499999999925,
          8540.099999999924,
          8525.899999999925,
          8491.999999999925,
          8504.999999999925,
          8518.199999999926,
          8577.499999999925,
          8602.099999999924,
          8595.799999999923,
          8440.499999999925,
          8393.099999999926,
          8287.899999999925,
          8083.299999999926,
          8066.699999999924,
          8164.599999999924,
          8128.199999999923,
          7944.9999999999245,
          7965.799999999924,
          7838.999999999927,
          8070.499999999927,
          8348.799999999927,
          8250.299999999927,
          8114.799999999925,
          8152.999999999925,
          8060.399999999925,
          8069.599999999926,
          7984.099999999925,
          8781.199999999923,
          8720.999999999922,
          8976.999999999922,
          9070.099999999922,
          9227.399999999923,
          9367.899999999925,
          9092.799999999927,
          9001.999999999927,
          9114.299999999928,
          9101.499999999927,
          9001.499999999927,
          8860.599999999926,
          8663.399999999925,
          8580.199999999924,
          8516.199999999924,
          8481.199999999924,
          8472.699999999924,
          8367.699999999924,
          8302.699999999924,
          8245.099999999924,
          8210.799999999923,
          8224.799999999923,
          8259.799999999923,
          8282.999999999922,
          8423.19999999992,
          8429.99999999992,
          8403.299999999921,
          8475.499999999922,
          8406.399999999921,
          8337.999999999922,
          8259.599999999922,
          8260.399999999921,
          8158.799999999919,
          8079.69999999992,
          7992.699999999919,
          7952.89999999992,
          7912.999999999919,
          7857.19999999992,
          7800.599999999919,
          7723.69999999992,
          7522.899999999919,
          7239.999999999915,
          6898.199999999915,
          6999.699999999915,
          6899.299999999914,
          7061.399999999912,
          7156.499999999913,
          7419.199999999912,
          7347.799999999912,
          7488.899999999912,
          7749.499999999912,
          7785.499999999911,
          7714.8999999999105,
          7661.59999999991,
          7686.299999999909,
          7600.999999999908,
          7578.199999999909,
          7546.5999999999085,
          7491.099999999908,
          7501.699999999907,
          7549.2999999999065,
          7637.299999999906,
          7592.299999999905,
          7565.4999999999045,
          7557.699999999904,
          7563.799999999904,
          7723.799999999904,
          7766.499999999903,
          7909.799999999902,
          8298.299999999903,
          8254.099999999904,
          8170.799999999904,
          8022.099999999904,
          7817.4999999999045,
          7759.699999999904,
          7796.899999999904,
          7812.099999999904,
          7812.099999999904,
          7841.299999999905,
          7855.699999999903,
          7994.899999999905,
          7961.699999999905,
          7927.099999999905,
          7917.799999999905,
          7764.599999999907,
          7698.999999999906,
          7481.599999999904,
          7220.199999999903,
          7216.999999999903,
          7154.799999999904,
          7151.099999999903,
          7095.099999999902,
          7114.499999999903,
          7393.499999999903,
          7493.099999999902,
          7390.099999999902,
          7459.799999999903,
          7659.799999999903,
          7707.599999999904,
          7622.799999999904,
          7641.399999999904,
          7550.499999999905,
          7515.899999999905,
          7464.599999999905,
          7406.199999999904,
          7339.799999999905,
          7112.799999999906,
          7022.7999999999065,
          6965.199999999907,
          6996.399999999907,
          6869.199999999907,
          6839.099999999907,
          6791.2999999999065,
          6688.2999999999065,
          6638.699999999906,
          6542.699999999908,
          6521.599999999908,
          6495.099999999908,
          6469.699999999907,
          6405.899999999909,
          6335.799999999909,
          6284.99999999991,
          6277.3999999999105,
          6359.99999999991,
          6384.599999999909,
          6452.699999999908,
          6965.399999999909,
          6951.5999999999085,
          6894.0999999999085,
          6810.0999999999085,
          6744.399999999908,
          6978.999999999907,
          6778.5999999999085,
          6703.999999999908,
          6624.19999999991,
          6542.3999999999105,
          6531.49999999991,
          6490.099999999909,
          6503.199999999908,
          6513.5999999999085,
          6562.499999999906,
          6505.499999999906,
          6273.699999999906,
          6272.099999999904,
          5656.999999999902,
          5840.399999999902,
          5828.1999999999025,
          5806.399999999904,
          5594.799999999904,
          5561.9999999999045,
          5512.699999999903,
          5131.399999999903,
          4688.199999999902,
          4973.799999999901,
          4765.7999999999,
          4848.2999999999,
          4799.7999999999,
          4872.0999999998985,
          4755.499999999898,
          4695.5999999998985,
          4643.399999999899,
          4599.399999999898,
          4523.099999999898,
          4521.199999999899,
          4539.8999999999,
          4464.9999999999,
          4509.399999999899,
          4400.6999999999,
          4414.2999999999,
          4435.599999999899,
          4405.499999999901
         ]
        }
       ],
       "layout": {
        "font": {
         "color": "#3d825f",
         "size": 10
        },
        "height": 400,
        "margin": {
         "b": 10,
         "l": 15,
         "r": 15
        },
        "paper_bgcolor": "#1e1e1e",
        "plot_bgcolor": "#1e1e1e",
        "template": {
         "data": {
          "bar": [
           {
            "error_x": {
             "color": "#2a3f5f"
            },
            "error_y": {
             "color": "#2a3f5f"
            },
            "marker": {
             "line": {
              "color": "#E5ECF6",
              "width": 0.5
             },
             "pattern": {
              "fillmode": "overlay",
              "size": 10,
              "solidity": 0.2
             }
            },
            "type": "bar"
           }
          ],
          "barpolar": [
           {
            "marker": {
             "line": {
              "color": "#E5ECF6",
              "width": 0.5
             },
             "pattern": {
              "fillmode": "overlay",
              "size": 10,
              "solidity": 0.2
             }
            },
            "type": "barpolar"
           }
          ],
          "carpet": [
           {
            "aaxis": {
             "endlinecolor": "#2a3f5f",
             "gridcolor": "white",
             "linecolor": "white",
             "minorgridcolor": "white",
             "startlinecolor": "#2a3f5f"
            },
            "baxis": {
             "endlinecolor": "#2a3f5f",
             "gridcolor": "white",
             "linecolor": "white",
             "minorgridcolor": "white",
             "startlinecolor": "#2a3f5f"
            },
            "type": "carpet"
           }
          ],
          "choropleth": [
           {
            "colorbar": {
             "outlinewidth": 0,
             "ticks": ""
            },
            "type": "choropleth"
           }
          ],
          "contour": [
           {
            "colorbar": {
             "outlinewidth": 0,
             "ticks": ""
            },
            "colorscale": [
             [
              0,
              "#0d0887"
             ],
             [
              0.1111111111111111,
              "#46039f"
             ],
             [
              0.2222222222222222,
              "#7201a8"
             ],
             [
              0.3333333333333333,
              "#9c179e"
             ],
             [
              0.4444444444444444,
              "#bd3786"
             ],
             [
              0.5555555555555556,
              "#d8576b"
             ],
             [
              0.6666666666666666,
              "#ed7953"
             ],
             [
              0.7777777777777778,
              "#fb9f3a"
             ],
             [
              0.8888888888888888,
              "#fdca26"
             ],
             [
              1,
              "#f0f921"
             ]
            ],
            "type": "contour"
           }
          ],
          "contourcarpet": [
           {
            "colorbar": {
             "outlinewidth": 0,
             "ticks": ""
            },
            "type": "contourcarpet"
           }
          ],
          "heatmap": [
           {
            "colorbar": {
             "outlinewidth": 0,
             "ticks": ""
            },
            "colorscale": [
             [
              0,
              "#0d0887"
             ],
             [
              0.1111111111111111,
              "#46039f"
             ],
             [
              0.2222222222222222,
              "#7201a8"
             ],
             [
              0.3333333333333333,
              "#9c179e"
             ],
             [
              0.4444444444444444,
              "#bd3786"
             ],
             [
              0.5555555555555556,
              "#d8576b"
             ],
             [
              0.6666666666666666,
              "#ed7953"
             ],
             [
              0.7777777777777778,
              "#fb9f3a"
             ],
             [
              0.8888888888888888,
              "#fdca26"
             ],
             [
              1,
              "#f0f921"
             ]
            ],
            "type": "heatmap"
           }
          ],
          "heatmapgl": [
           {
            "colorbar": {
             "outlinewidth": 0,
             "ticks": ""
            },
            "colorscale": [
             [
              0,
              "#0d0887"
             ],
             [
              0.1111111111111111,
              "#46039f"
             ],
             [
              0.2222222222222222,
              "#7201a8"
             ],
             [
              0.3333333333333333,
              "#9c179e"
             ],
             [
              0.4444444444444444,
              "#bd3786"
             ],
             [
              0.5555555555555556,
              "#d8576b"
             ],
             [
              0.6666666666666666,
              "#ed7953"
             ],
             [
              0.7777777777777778,
              "#fb9f3a"
             ],
             [
              0.8888888888888888,
              "#fdca26"
             ],
             [
              1,
              "#f0f921"
             ]
            ],
            "type": "heatmapgl"
           }
          ],
          "histogram": [
           {
            "marker": {
             "pattern": {
              "fillmode": "overlay",
              "size": 10,
              "solidity": 0.2
             }
            },
            "type": "histogram"
           }
          ],
          "histogram2d": [
           {
            "colorbar": {
             "outlinewidth": 0,
             "ticks": ""
            },
            "colorscale": [
             [
              0,
              "#0d0887"
             ],
             [
              0.1111111111111111,
              "#46039f"
             ],
             [
              0.2222222222222222,
              "#7201a8"
             ],
             [
              0.3333333333333333,
              "#9c179e"
             ],
             [
              0.4444444444444444,
              "#bd3786"
             ],
             [
              0.5555555555555556,
              "#d8576b"
             ],
             [
              0.6666666666666666,
              "#ed7953"
             ],
             [
              0.7777777777777778,
              "#fb9f3a"
             ],
             [
              0.8888888888888888,
              "#fdca26"
             ],
             [
              1,
              "#f0f921"
             ]
            ],
            "type": "histogram2d"
           }
          ],
          "histogram2dcontour": [
           {
            "colorbar": {
             "outlinewidth": 0,
             "ticks": ""
            },
            "colorscale": [
             [
              0,
              "#0d0887"
             ],
             [
              0.1111111111111111,
              "#46039f"
             ],
             [
              0.2222222222222222,
              "#7201a8"
             ],
             [
              0.3333333333333333,
              "#9c179e"
             ],
             [
              0.4444444444444444,
              "#bd3786"
             ],
             [
              0.5555555555555556,
              "#d8576b"
             ],
             [
              0.6666666666666666,
              "#ed7953"
             ],
             [
              0.7777777777777778,
              "#fb9f3a"
             ],
             [
              0.8888888888888888,
              "#fdca26"
             ],
             [
              1,
              "#f0f921"
             ]
            ],
            "type": "histogram2dcontour"
           }
          ],
          "mesh3d": [
           {
            "colorbar": {
             "outlinewidth": 0,
             "ticks": ""
            },
            "type": "mesh3d"
           }
          ],
          "parcoords": [
           {
            "line": {
             "colorbar": {
              "outlinewidth": 0,
              "ticks": ""
             }
            },
            "type": "parcoords"
           }
          ],
          "pie": [
           {
            "automargin": true,
            "type": "pie"
           }
          ],
          "scatter": [
           {
            "fillpattern": {
             "fillmode": "overlay",
             "size": 10,
             "solidity": 0.2
            },
            "type": "scatter"
           }
          ],
          "scatter3d": [
           {
            "line": {
             "colorbar": {
              "outlinewidth": 0,
              "ticks": ""
             }
            },
            "marker": {
             "colorbar": {
              "outlinewidth": 0,
              "ticks": ""
             }
            },
            "type": "scatter3d"
           }
          ],
          "scattercarpet": [
           {
            "marker": {
             "colorbar": {
              "outlinewidth": 0,
              "ticks": ""
             }
            },
            "type": "scattercarpet"
           }
          ],
          "scattergeo": [
           {
            "marker": {
             "colorbar": {
              "outlinewidth": 0,
              "ticks": ""
             }
            },
            "type": "scattergeo"
           }
          ],
          "scattergl": [
           {
            "marker": {
             "colorbar": {
              "outlinewidth": 0,
              "ticks": ""
             }
            },
            "type": "scattergl"
           }
          ],
          "scattermapbox": [
           {
            "marker": {
             "colorbar": {
              "outlinewidth": 0,
              "ticks": ""
             }
            },
            "type": "scattermapbox"
           }
          ],
          "scatterpolar": [
           {
            "marker": {
             "colorbar": {
              "outlinewidth": 0,
              "ticks": ""
             }
            },
            "type": "scatterpolar"
           }
          ],
          "scatterpolargl": [
           {
            "marker": {
             "colorbar": {
              "outlinewidth": 0,
              "ticks": ""
             }
            },
            "type": "scatterpolargl"
           }
          ],
          "scatterternary": [
           {
            "marker": {
             "colorbar": {
              "outlinewidth": 0,
              "ticks": ""
             }
            },
            "type": "scatterternary"
           }
          ],
          "surface": [
           {
            "colorbar": {
             "outlinewidth": 0,
             "ticks": ""
            },
            "colorscale": [
             [
              0,
              "#0d0887"
             ],
             [
              0.1111111111111111,
              "#46039f"
             ],
             [
              0.2222222222222222,
              "#7201a8"
             ],
             [
              0.3333333333333333,
              "#9c179e"
             ],
             [
              0.4444444444444444,
              "#bd3786"
             ],
             [
              0.5555555555555556,
              "#d8576b"
             ],
             [
              0.6666666666666666,
              "#ed7953"
             ],
             [
              0.7777777777777778,
              "#fb9f3a"
             ],
             [
              0.8888888888888888,
              "#fdca26"
             ],
             [
              1,
              "#f0f921"
             ]
            ],
            "type": "surface"
           }
          ],
          "table": [
           {
            "cells": {
             "fill": {
              "color": "#EBF0F8"
             },
             "line": {
              "color": "white"
             }
            },
            "header": {
             "fill": {
              "color": "#C8D4E3"
             },
             "line": {
              "color": "white"
             }
            },
            "type": "table"
           }
          ]
         },
         "layout": {
          "annotationdefaults": {
           "arrowcolor": "#2a3f5f",
           "arrowhead": 0,
           "arrowwidth": 1
          },
          "autotypenumbers": "strict",
          "coloraxis": {
           "colorbar": {
            "outlinewidth": 0,
            "ticks": ""
           }
          },
          "colorscale": {
           "diverging": [
            [
             0,
             "#8e0152"
            ],
            [
             0.1,
             "#c51b7d"
            ],
            [
             0.2,
             "#de77ae"
            ],
            [
             0.3,
             "#f1b6da"
            ],
            [
             0.4,
             "#fde0ef"
            ],
            [
             0.5,
             "#f7f7f7"
            ],
            [
             0.6,
             "#e6f5d0"
            ],
            [
             0.7,
             "#b8e186"
            ],
            [
             0.8,
             "#7fbc41"
            ],
            [
             0.9,
             "#4d9221"
            ],
            [
             1,
             "#276419"
            ]
           ],
           "sequential": [
            [
             0,
             "#0d0887"
            ],
            [
             0.1111111111111111,
             "#46039f"
            ],
            [
             0.2222222222222222,
             "#7201a8"
            ],
            [
             0.3333333333333333,
             "#9c179e"
            ],
            [
             0.4444444444444444,
             "#bd3786"
            ],
            [
             0.5555555555555556,
             "#d8576b"
            ],
            [
             0.6666666666666666,
             "#ed7953"
            ],
            [
             0.7777777777777778,
             "#fb9f3a"
            ],
            [
             0.8888888888888888,
             "#fdca26"
            ],
            [
             1,
             "#f0f921"
            ]
           ],
           "sequentialminus": [
            [
             0,
             "#0d0887"
            ],
            [
             0.1111111111111111,
             "#46039f"
            ],
            [
             0.2222222222222222,
             "#7201a8"
            ],
            [
             0.3333333333333333,
             "#9c179e"
            ],
            [
             0.4444444444444444,
             "#bd3786"
            ],
            [
             0.5555555555555556,
             "#d8576b"
            ],
            [
             0.6666666666666666,
             "#ed7953"
            ],
            [
             0.7777777777777778,
             "#fb9f3a"
            ],
            [
             0.8888888888888888,
             "#fdca26"
            ],
            [
             1,
             "#f0f921"
            ]
           ]
          },
          "colorway": [
           "#636efa",
           "#EF553B",
           "#00cc96",
           "#ab63fa",
           "#FFA15A",
           "#19d3f3",
           "#FF6692",
           "#B6E880",
           "#FF97FF",
           "#FECB52"
          ],
          "font": {
           "color": "#2a3f5f"
          },
          "geo": {
           "bgcolor": "white",
           "lakecolor": "white",
           "landcolor": "#E5ECF6",
           "showlakes": true,
           "showland": true,
           "subunitcolor": "white"
          },
          "hoverlabel": {
           "align": "left"
          },
          "hovermode": "closest",
          "mapbox": {
           "style": "light"
          },
          "paper_bgcolor": "white",
          "plot_bgcolor": "#E5ECF6",
          "polar": {
           "angularaxis": {
            "gridcolor": "white",
            "linecolor": "white",
            "ticks": ""
           },
           "bgcolor": "#E5ECF6",
           "radialaxis": {
            "gridcolor": "white",
            "linecolor": "white",
            "ticks": ""
           }
          },
          "scene": {
           "xaxis": {
            "backgroundcolor": "#E5ECF6",
            "gridcolor": "white",
            "gridwidth": 2,
            "linecolor": "white",
            "showbackground": true,
            "ticks": "",
            "zerolinecolor": "white"
           },
           "yaxis": {
            "backgroundcolor": "#E5ECF6",
            "gridcolor": "white",
            "gridwidth": 2,
            "linecolor": "white",
            "showbackground": true,
            "ticks": "",
            "zerolinecolor": "white"
           },
           "zaxis": {
            "backgroundcolor": "#E5ECF6",
            "gridcolor": "white",
            "gridwidth": 2,
            "linecolor": "white",
            "showbackground": true,
            "ticks": "",
            "zerolinecolor": "white"
           }
          },
          "shapedefaults": {
           "line": {
            "color": "#2a3f5f"
           }
          },
          "ternary": {
           "aaxis": {
            "gridcolor": "white",
            "linecolor": "white",
            "ticks": ""
           },
           "baxis": {
            "gridcolor": "white",
            "linecolor": "white",
            "ticks": ""
           },
           "bgcolor": "#E5ECF6",
           "caxis": {
            "gridcolor": "white",
            "linecolor": "white",
            "ticks": ""
           }
          },
          "title": {
           "x": 0.05
          },
          "xaxis": {
           "automargin": true,
           "gridcolor": "white",
           "linecolor": "white",
           "ticks": "",
           "title": {
            "standoff": 15
           },
           "zerolinecolor": "white",
           "zerolinewidth": 2
          },
          "yaxis": {
           "automargin": true,
           "gridcolor": "white",
           "linecolor": "white",
           "ticks": "",
           "title": {
            "standoff": 15
           },
           "zerolinecolor": "white",
           "zerolinewidth": 2
          }
         }
        },
        "title": {
         "text": "ma_32_64"
        },
        "width": 1000,
        "xaxis": {
         "linecolor": "#3a4a54",
         "linewidth": 1,
         "showgrid": false,
         "zeroline": false
        },
        "yaxis": {
         "linecolor": "#3a4a54",
         "linewidth": 1,
         "showgrid": false,
         "zeroline": false
        }
       }
      }
     },
     "metadata": {},
     "output_type": "display_data"
    },
    {
     "data": {
      "application/vnd.plotly.v1+json": {
       "config": {
        "plotlyServerURL": "https://plot.ly"
       },
       "data": [
        {
         "line": {
          "color": "#3d825f",
          "shape": "spline",
          "width": 2
         },
         "mode": "lines",
         "name": "ma_8_32",
         "type": "scatter",
         "x": [
          "2022-03-30T19:00:00+00:00",
          "2022-03-31T02:00:00+00:00",
          "2022-03-31T03:00:00+00:00",
          "2022-03-31T04:00:00+00:00",
          "2022-03-31T05:00:00+00:00",
          "2022-03-31T06:00:00+00:00",
          "2022-03-31T09:00:00+00:00",
          "2022-03-31T10:00:00+00:00",
          "2022-03-31T11:00:00+00:00",
          "2022-03-31T12:00:00+00:00",
          "2022-03-31T13:00:00+00:00",
          "2022-03-31T15:00:00+00:00",
          "2022-03-31T17:00:00+00:00",
          "2022-03-31T19:00:00+00:00",
          "2022-04-01T00:00:00+00:00",
          "2022-04-01T01:00:00+00:00",
          "2022-04-01T02:00:00+00:00",
          "2022-04-01T04:00:00+00:00",
          "2022-04-01T05:00:00+00:00",
          "2022-04-01T06:00:00+00:00",
          "2022-04-01T11:00:00+00:00",
          "2022-04-01T13:00:00+00:00",
          "2022-04-01T14:00:00+00:00",
          "2022-04-01T17:00:00+00:00",
          "2022-04-01T18:00:00+00:00",
          "2022-04-01T19:00:00+00:00",
          "2022-04-01T20:00:00+00:00",
          "2022-04-03T21:00:00+00:00",
          "2022-04-03T23:00:00+00:00",
          "2022-04-04T01:00:00+00:00",
          "2022-04-04T02:00:00+00:00",
          "2022-04-04T05:00:00+00:00",
          "2022-04-04T06:00:00+00:00",
          "2022-04-04T07:00:00+00:00",
          "2022-04-04T09:00:00+00:00",
          "2022-04-04T11:00:00+00:00",
          "2022-04-04T16:00:00+00:00",
          "2022-04-04T17:00:00+00:00",
          "2022-04-04T19:00:00+00:00",
          "2022-04-04T20:00:00+00:00",
          "2022-04-04T21:00:00+00:00",
          "2022-04-04T22:00:00+00:00",
          "2022-04-05T00:00:00+00:00",
          "2022-04-05T03:00:00+00:00",
          "2022-04-05T04:00:00+00:00",
          "2022-04-05T08:00:00+00:00",
          "2022-04-05T10:00:00+00:00",
          "2022-04-05T11:00:00+00:00",
          "2022-04-05T14:00:00+00:00",
          "2022-04-05T16:00:00+00:00",
          "2022-04-05T18:00:00+00:00",
          "2022-04-05T19:00:00+00:00",
          "2022-04-05T21:00:00+00:00",
          "2022-04-05T22:00:00+00:00",
          "2022-04-06T00:00:00+00:00",
          "2022-04-06T01:00:00+00:00",
          "2022-04-06T07:00:00+00:00",
          "2022-04-06T08:00:00+00:00",
          "2022-04-06T09:00:00+00:00",
          "2022-04-06T10:00:00+00:00",
          "2022-04-06T11:00:00+00:00",
          "2022-04-06T12:00:00+00:00",
          "2022-04-06T15:00:00+00:00",
          "2022-04-06T17:00:00+00:00",
          "2022-04-06T18:00:00+00:00",
          "2022-04-06T20:00:00+00:00",
          "2022-04-06T21:00:00+00:00",
          "2022-04-06T22:00:00+00:00",
          "2022-04-07T00:00:00+00:00",
          "2022-04-07T01:00:00+00:00",
          "2022-04-07T04:00:00+00:00",
          "2022-04-07T05:00:00+00:00",
          "2022-04-07T07:00:00+00:00",
          "2022-04-07T08:00:00+00:00",
          "2022-04-07T09:00:00+00:00",
          "2022-04-07T10:00:00+00:00",
          "2022-04-07T11:00:00+00:00",
          "2022-04-07T12:00:00+00:00",
          "2022-04-07T13:00:00+00:00",
          "2022-04-07T14:00:00+00:00",
          "2022-04-07T16:00:00+00:00",
          "2022-04-07T18:00:00+00:00",
          "2022-04-07T19:00:00+00:00",
          "2022-04-07T20:00:00+00:00",
          "2022-04-07T23:00:00+00:00",
          "2022-04-08T00:00:00+00:00",
          "2022-04-08T02:00:00+00:00",
          "2022-04-08T04:00:00+00:00",
          "2022-04-08T07:00:00+00:00",
          "2022-04-08T08:00:00+00:00",
          "2022-04-08T09:00:00+00:00",
          "2022-04-08T10:00:00+00:00",
          "2022-04-08T11:00:00+00:00",
          "2022-04-08T12:00:00+00:00",
          "2022-04-08T18:00:00+00:00",
          "2022-04-08T19:00:00+00:00",
          "2022-04-08T20:00:00+00:00",
          "2022-04-10T21:00:00+00:00",
          "2022-04-10T22:00:00+00:00",
          "2022-04-10T23:00:00+00:00",
          "2022-04-11T03:00:00+00:00",
          "2022-04-11T05:00:00+00:00",
          "2022-04-11T10:00:00+00:00",
          "2022-04-11T12:00:00+00:00",
          "2022-04-11T13:00:00+00:00",
          "2022-04-11T14:00:00+00:00",
          "2022-04-11T16:00:00+00:00",
          "2022-04-11T18:00:00+00:00",
          "2022-04-11T20:00:00+00:00",
          "2022-04-11T22:00:00+00:00",
          "2022-04-12T01:00:00+00:00",
          "2022-04-12T04:00:00+00:00",
          "2022-04-12T06:00:00+00:00",
          "2022-04-12T08:00:00+00:00",
          "2022-04-12T09:00:00+00:00",
          "2022-04-12T11:00:00+00:00",
          "2022-04-12T12:00:00+00:00",
          "2022-04-12T14:00:00+00:00",
          "2022-04-12T15:00:00+00:00",
          "2022-04-12T16:00:00+00:00",
          "2022-04-12T17:00:00+00:00",
          "2022-04-12T20:00:00+00:00",
          "2022-04-12T21:00:00+00:00",
          "2022-04-13T00:00:00+00:00",
          "2022-04-13T01:00:00+00:00",
          "2022-04-13T02:00:00+00:00",
          "2022-04-13T05:00:00+00:00",
          "2022-04-13T06:00:00+00:00",
          "2022-04-13T07:00:00+00:00",
          "2022-04-13T08:00:00+00:00",
          "2022-04-13T10:00:00+00:00",
          "2022-04-13T12:00:00+00:00",
          "2022-04-13T13:00:00+00:00",
          "2022-04-13T14:00:00+00:00",
          "2022-04-13T15:00:00+00:00",
          "2022-04-13T17:00:00+00:00",
          "2022-04-13T20:00:00+00:00",
          "2022-04-13T22:00:00+00:00",
          "2022-04-14T03:00:00+00:00",
          "2022-04-14T04:00:00+00:00",
          "2022-04-14T06:00:00+00:00",
          "2022-04-14T08:00:00+00:00",
          "2022-04-14T10:00:00+00:00",
          "2022-04-14T11:00:00+00:00",
          "2022-04-14T12:00:00+00:00",
          "2022-04-14T13:00:00+00:00",
          "2022-04-14T14:00:00+00:00",
          "2022-04-14T16:00:00+00:00",
          "2022-04-14T17:00:00+00:00",
          "2022-04-14T21:00:00+00:00",
          "2022-04-14T23:00:00+00:00",
          "2022-04-15T01:00:00+00:00",
          "2022-04-15T02:00:00+00:00",
          "2022-04-15T04:00:00+00:00",
          "2022-04-15T06:00:00+00:00",
          "2022-04-15T10:00:00+00:00",
          "2022-04-15T17:00:00+00:00",
          "2022-04-15T18:00:00+00:00",
          "2022-04-15T19:00:00+00:00",
          "2022-04-15T20:00:00+00:00",
          "2022-04-17T21:00:00+00:00",
          "2022-04-17T23:00:00+00:00",
          "2022-04-18T04:00:00+00:00",
          "2022-04-18T05:00:00+00:00",
          "2022-04-18T08:00:00+00:00",
          "2022-04-18T09:00:00+00:00",
          "2022-04-18T10:00:00+00:00",
          "2022-04-18T12:00:00+00:00",
          "2022-04-18T13:00:00+00:00",
          "2022-04-18T15:00:00+00:00",
          "2022-04-18T16:00:00+00:00",
          "2022-04-18T17:00:00+00:00",
          "2022-04-18T18:00:00+00:00",
          "2022-04-18T19:00:00+00:00",
          "2022-04-18T22:00:00+00:00",
          "2022-04-19T01:00:00+00:00",
          "2022-04-19T02:00:00+00:00",
          "2022-04-19T03:00:00+00:00",
          "2022-04-19T05:00:00+00:00",
          "2022-04-19T06:00:00+00:00",
          "2022-04-19T07:00:00+00:00",
          "2022-04-19T10:00:00+00:00",
          "2022-04-19T11:00:00+00:00",
          "2022-04-19T13:00:00+00:00",
          "2022-04-19T15:00:00+00:00",
          "2022-04-19T16:00:00+00:00",
          "2022-04-19T17:00:00+00:00",
          "2022-04-20T00:00:00+00:00",
          "2022-04-20T01:00:00+00:00",
          "2022-04-20T04:00:00+00:00",
          "2022-04-20T06:00:00+00:00",
          "2022-04-20T08:00:00+00:00",
          "2022-04-20T09:00:00+00:00",
          "2022-04-20T10:00:00+00:00",
          "2022-04-20T12:00:00+00:00",
          "2022-04-20T13:00:00+00:00",
          "2022-04-20T14:00:00+00:00",
          "2022-04-20T16:00:00+00:00",
          "2022-04-20T18:00:00+00:00",
          "2022-04-20T23:00:00+00:00",
          "2022-04-21T01:00:00+00:00",
          "2022-04-21T03:00:00+00:00",
          "2022-04-21T04:00:00+00:00",
          "2022-04-21T05:00:00+00:00",
          "2022-04-21T06:00:00+00:00",
          "2022-04-21T07:00:00+00:00",
          "2022-04-21T10:00:00+00:00",
          "2022-04-21T11:00:00+00:00",
          "2022-04-21T13:00:00+00:00",
          "2022-04-21T14:00:00+00:00",
          "2022-04-21T15:00:00+00:00",
          "2022-04-21T16:00:00+00:00",
          "2022-04-21T17:00:00+00:00",
          "2022-04-21T18:00:00+00:00",
          "2022-04-21T19:00:00+00:00",
          "2022-04-21T20:00:00+00:00",
          "2022-04-21T23:00:00+00:00",
          "2022-04-22T02:00:00+00:00",
          "2022-04-22T04:00:00+00:00",
          "2022-04-22T05:00:00+00:00",
          "2022-04-22T07:00:00+00:00",
          "2022-04-22T08:00:00+00:00",
          "2022-04-22T10:00:00+00:00",
          "2022-04-22T12:00:00+00:00",
          "2022-04-22T13:00:00+00:00",
          "2022-04-22T14:00:00+00:00",
          "2022-04-25T03:00:00+00:00",
          "2022-04-25T07:00:00+00:00",
          "2022-04-25T08:00:00+00:00",
          "2022-04-25T09:00:00+00:00",
          "2022-04-25T13:00:00+00:00",
          "2022-04-25T17:00:00+00:00",
          "2022-04-25T20:00:00+00:00",
          "2022-04-25T21:00:00+00:00",
          "2022-04-25T23:00:00+00:00",
          "2022-04-26T00:00:00+00:00",
          "2022-04-26T04:00:00+00:00",
          "2022-04-26T06:00:00+00:00",
          "2022-04-26T07:00:00+00:00",
          "2022-04-26T10:00:00+00:00",
          "2022-04-26T12:00:00+00:00",
          "2022-04-26T13:00:00+00:00",
          "2022-04-26T15:00:00+00:00",
          "2022-04-26T16:00:00+00:00",
          "2022-04-26T20:00:00+00:00",
          "2022-04-26T21:00:00+00:00",
          "2022-04-27T00:00:00+00:00",
          "2022-04-27T02:00:00+00:00",
          "2022-04-27T05:00:00+00:00",
          "2022-04-27T06:00:00+00:00",
          "2022-04-27T10:00:00+00:00",
          "2022-04-27T11:00:00+00:00",
          "2022-04-27T12:00:00+00:00",
          "2022-04-27T13:00:00+00:00",
          "2022-04-27T14:00:00+00:00",
          "2022-04-27T16:00:00+00:00",
          "2022-04-27T21:00:00+00:00",
          "2022-04-28T01:00:00+00:00",
          "2022-04-28T02:00:00+00:00",
          "2022-04-28T03:00:00+00:00",
          "2022-04-28T05:00:00+00:00",
          "2022-04-28T12:00:00+00:00",
          "2022-04-28T13:00:00+00:00",
          "2022-04-28T19:00:00+00:00",
          "2022-04-28T20:00:00+00:00",
          "2022-04-29T03:00:00+00:00",
          "2022-04-29T05:00:00+00:00",
          "2022-04-29T06:00:00+00:00",
          "2022-04-29T07:00:00+00:00",
          "2022-04-29T08:00:00+00:00",
          "2022-04-29T09:00:00+00:00",
          "2022-04-29T10:00:00+00:00",
          "2022-04-29T12:00:00+00:00",
          "2022-04-29T14:00:00+00:00",
          "2022-04-29T16:00:00+00:00",
          "2022-04-29T18:00:00+00:00",
          "2022-04-29T19:00:00+00:00",
          "2022-05-01T22:00:00+00:00",
          "2022-05-02T03:00:00+00:00",
          "2022-05-02T05:00:00+00:00",
          "2022-05-02T11:00:00+00:00",
          "2022-05-02T12:00:00+00:00",
          "2022-05-02T13:00:00+00:00",
          "2022-05-02T14:00:00+00:00",
          "2022-05-02T16:00:00+00:00",
          "2022-05-02T19:00:00+00:00",
          "2022-05-02T20:00:00+00:00",
          "2022-05-02T22:00:00+00:00",
          "2022-05-02T23:00:00+00:00",
          "2022-05-03T01:00:00+00:00",
          "2022-05-03T02:00:00+00:00",
          "2022-05-03T04:00:00+00:00",
          "2022-05-03T08:00:00+00:00",
          "2022-05-03T10:00:00+00:00",
          "2022-05-03T11:00:00+00:00",
          "2022-05-03T12:00:00+00:00",
          "2022-05-03T13:00:00+00:00",
          "2022-05-03T14:00:00+00:00",
          "2022-05-03T15:00:00+00:00",
          "2022-05-03T16:00:00+00:00",
          "2022-05-03T17:00:00+00:00",
          "2022-05-03T18:00:00+00:00",
          "2022-05-03T19:00:00+00:00",
          "2022-05-03T20:00:00+00:00",
          "2022-05-03T21:00:00+00:00",
          "2022-05-03T22:00:00+00:00",
          "2022-05-03T23:00:00+00:00",
          "2022-05-04T00:00:00+00:00",
          "2022-05-04T01:00:00+00:00",
          "2022-05-04T05:00:00+00:00",
          "2022-05-04T07:00:00+00:00",
          "2022-05-04T08:00:00+00:00",
          "2022-05-04T11:00:00+00:00",
          "2022-05-04T12:00:00+00:00",
          "2022-05-04T14:00:00+00:00",
          "2022-05-04T17:00:00+00:00",
          "2022-05-04T18:00:00+00:00",
          "2022-05-04T19:00:00+00:00",
          "2022-05-04T20:00:00+00:00",
          "2022-05-04T21:00:00+00:00",
          "2022-05-05T00:00:00+00:00",
          "2022-05-05T01:00:00+00:00",
          "2022-05-05T02:00:00+00:00",
          "2022-05-05T03:00:00+00:00",
          "2022-05-05T04:00:00+00:00",
          "2022-05-05T05:00:00+00:00",
          "2022-05-05T06:00:00+00:00",
          "2022-05-05T07:00:00+00:00",
          "2022-05-05T09:00:00+00:00",
          "2022-05-05T10:00:00+00:00",
          "2022-05-05T11:00:00+00:00",
          "2022-05-05T12:00:00+00:00",
          "2022-05-05T13:00:00+00:00",
          "2022-05-05T14:00:00+00:00",
          "2022-05-05T15:00:00+00:00",
          "2022-05-05T16:00:00+00:00",
          "2022-05-05T17:00:00+00:00",
          "2022-05-05T18:00:00+00:00",
          "2022-05-05T19:00:00+00:00",
          "2022-05-05T20:00:00+00:00",
          "2022-05-05T21:00:00+00:00",
          "2022-05-06T00:00:00+00:00",
          "2022-05-06T03:00:00+00:00",
          "2022-05-06T04:00:00+00:00",
          "2022-05-06T05:00:00+00:00",
          "2022-05-06T07:00:00+00:00",
          "2022-05-06T10:00:00+00:00",
          "2022-05-06T11:00:00+00:00",
          "2022-05-06T12:00:00+00:00",
          "2022-05-06T13:00:00+00:00",
          "2022-05-06T14:00:00+00:00",
          "2022-05-06T15:00:00+00:00",
          "2022-05-06T16:00:00+00:00",
          "2022-05-06T18:00:00+00:00",
          "2022-05-06T19:00:00+00:00",
          "2022-05-08T21:00:00+00:00",
          "2022-05-08T22:00:00+00:00",
          "2022-05-09T00:00:00+00:00",
          "2022-05-09T02:00:00+00:00",
          "2022-05-09T03:00:00+00:00",
          "2022-05-09T08:00:00+00:00",
          "2022-05-09T10:00:00+00:00",
          "2022-05-09T12:00:00+00:00",
          "2022-05-09T14:00:00+00:00",
          "2022-05-09T15:00:00+00:00",
          "2022-05-09T16:00:00+00:00",
          "2022-05-09T17:00:00+00:00",
          "2022-05-09T18:00:00+00:00",
          "2022-05-09T19:00:00+00:00",
          "2022-05-10T05:00:00+00:00",
          "2022-05-10T06:00:00+00:00",
          "2022-05-10T08:00:00+00:00",
          "2022-05-10T09:00:00+00:00",
          "2022-05-10T10:00:00+00:00",
          "2022-05-10T12:00:00+00:00",
          "2022-05-10T13:00:00+00:00",
          "2022-05-10T14:00:00+00:00",
          "2022-05-10T15:00:00+00:00",
          "2022-05-10T16:00:00+00:00",
          "2022-05-10T17:00:00+00:00",
          "2022-05-10T20:00:00+00:00",
          "2022-05-10T21:00:00+00:00",
          "2022-05-10T22:00:00+00:00",
          "2022-05-11T00:00:00+00:00",
          "2022-05-11T02:00:00+00:00",
          "2022-05-11T04:00:00+00:00",
          "2022-05-11T05:00:00+00:00",
          "2022-05-11T06:00:00+00:00",
          "2022-05-11T07:00:00+00:00",
          "2022-05-11T08:00:00+00:00",
          "2022-05-11T09:00:00+00:00",
          "2022-05-11T10:00:00+00:00",
          "2022-05-11T11:00:00+00:00",
          "2022-05-11T13:00:00+00:00",
          "2022-05-11T16:00:00+00:00",
          "2022-05-11T17:00:00+00:00",
          "2022-05-11T18:00:00+00:00",
          "2022-05-11T19:00:00+00:00",
          "2022-05-11T20:00:00+00:00",
          "2022-05-11T21:00:00+00:00",
          "2022-05-11T22:00:00+00:00",
          "2022-05-11T23:00:00+00:00",
          "2022-05-12T04:00:00+00:00",
          "2022-05-12T05:00:00+00:00",
          "2022-05-12T08:00:00+00:00",
          "2022-05-12T09:00:00+00:00",
          "2022-05-12T13:00:00+00:00",
          "2022-05-12T15:00:00+00:00",
          "2022-05-12T17:00:00+00:00",
          "2022-05-12T20:00:00+00:00",
          "2022-05-13T04:00:00+00:00",
          "2022-05-13T06:00:00+00:00",
          "2022-05-13T07:00:00+00:00",
          "2022-05-13T08:00:00+00:00",
          "2022-05-13T10:00:00+00:00",
          "2022-05-13T11:00:00+00:00",
          "2022-05-13T13:00:00+00:00",
          "2022-05-13T14:00:00+00:00",
          "2022-05-13T17:00:00+00:00",
          "2022-05-13T18:00:00+00:00",
          "2022-05-13T19:00:00+00:00",
          "2022-05-15T22:00:00+00:00",
          "2022-05-15T23:00:00+00:00",
          "2022-05-16T04:00:00+00:00",
          "2022-05-16T06:00:00+00:00",
          "2022-05-16T07:00:00+00:00",
          "2022-05-16T09:00:00+00:00",
          "2022-05-16T10:00:00+00:00",
          "2022-05-16T11:00:00+00:00",
          "2022-05-16T12:00:00+00:00",
          "2022-05-16T13:00:00+00:00",
          "2022-05-16T14:00:00+00:00",
          "2022-05-16T16:00:00+00:00",
          "2022-05-16T17:00:00+00:00",
          "2022-05-16T20:00:00+00:00",
          "2022-05-16T21:00:00+00:00",
          "2022-05-16T22:00:00+00:00",
          "2022-05-16T23:00:00+00:00",
          "2022-05-17T05:00:00+00:00",
          "2022-05-17T06:00:00+00:00",
          "2022-05-17T09:00:00+00:00",
          "2022-05-17T10:00:00+00:00",
          "2022-05-17T12:00:00+00:00",
          "2022-05-17T16:00:00+00:00",
          "2022-05-18T03:00:00+00:00",
          "2022-05-18T05:00:00+00:00",
          "2022-05-18T07:00:00+00:00",
          "2022-05-18T08:00:00+00:00",
          "2022-05-18T09:00:00+00:00",
          "2022-05-18T10:00:00+00:00",
          "2022-05-18T11:00:00+00:00",
          "2022-05-18T13:00:00+00:00",
          "2022-05-18T14:00:00+00:00",
          "2022-05-18T15:00:00+00:00",
          "2022-05-18T16:00:00+00:00",
          "2022-05-18T19:00:00+00:00",
          "2022-05-19T00:00:00+00:00",
          "2022-05-19T02:00:00+00:00",
          "2022-05-19T04:00:00+00:00",
          "2022-05-19T07:00:00+00:00",
          "2022-05-19T08:00:00+00:00",
          "2022-05-19T09:00:00+00:00",
          "2022-05-19T11:00:00+00:00",
          "2022-05-19T13:00:00+00:00",
          "2022-05-19T16:00:00+00:00",
          "2022-05-19T17:00:00+00:00",
          "2022-05-19T21:00:00+00:00",
          "2022-05-20T01:00:00+00:00",
          "2022-05-20T02:00:00+00:00",
          "2022-05-20T03:00:00+00:00",
          "2022-05-20T06:00:00+00:00",
          "2022-05-20T11:00:00+00:00",
          "2022-05-20T12:00:00+00:00",
          "2022-05-20T13:00:00+00:00",
          "2022-05-20T15:00:00+00:00",
          "2022-05-20T16:00:00+00:00",
          "2022-05-20T17:00:00+00:00",
          "2022-05-20T18:00:00+00:00",
          "2022-05-20T19:00:00+00:00",
          "2022-05-22T21:00:00+00:00",
          "2022-05-22T22:00:00+00:00",
          "2022-05-22T23:00:00+00:00",
          "2022-05-23T00:00:00+00:00",
          "2022-05-23T02:00:00+00:00",
          "2022-05-23T04:00:00+00:00",
          "2022-05-23T05:00:00+00:00",
          "2022-05-23T08:00:00+00:00",
          "2022-05-23T09:00:00+00:00",
          "2022-05-23T11:00:00+00:00",
          "2022-05-23T12:00:00+00:00",
          "2022-05-23T14:00:00+00:00",
          "2022-05-23T15:00:00+00:00",
          "2022-05-23T17:00:00+00:00",
          "2022-05-23T18:00:00+00:00",
          "2022-05-23T22:00:00+00:00",
          "2022-05-24T00:00:00+00:00",
          "2022-05-24T02:00:00+00:00",
          "2022-05-24T03:00:00+00:00",
          "2022-05-24T04:00:00+00:00",
          "2022-05-24T06:00:00+00:00",
          "2022-05-24T08:00:00+00:00",
          "2022-05-24T09:00:00+00:00",
          "2022-05-24T12:00:00+00:00",
          "2022-05-24T14:00:00+00:00",
          "2022-05-24T17:00:00+00:00",
          "2022-05-24T18:00:00+00:00",
          "2022-05-24T20:00:00+00:00",
          "2022-05-25T03:00:00+00:00",
          "2022-05-25T04:00:00+00:00",
          "2022-05-25T07:00:00+00:00",
          "2022-05-25T08:00:00+00:00",
          "2022-05-25T10:00:00+00:00",
          "2022-05-25T11:00:00+00:00",
          "2022-05-25T14:00:00+00:00",
          "2022-05-25T15:00:00+00:00",
          "2022-05-25T16:00:00+00:00",
          "2022-05-25T17:00:00+00:00",
          "2022-05-25T18:00:00+00:00",
          "2022-05-25T20:00:00+00:00",
          "2022-05-25T21:00:00+00:00",
          "2022-05-26T00:00:00+00:00",
          "2022-05-26T04:00:00+00:00",
          "2022-05-26T05:00:00+00:00",
          "2022-05-26T06:00:00+00:00",
          "2022-05-26T07:00:00+00:00",
          "2022-05-26T08:00:00+00:00",
          "2022-05-26T09:00:00+00:00",
          "2022-05-26T11:00:00+00:00",
          "2022-05-26T12:00:00+00:00",
          "2022-05-26T13:00:00+00:00",
          "2022-05-26T14:00:00+00:00",
          "2022-05-26T15:00:00+00:00",
          "2022-05-26T16:00:00+00:00",
          "2022-05-26T17:00:00+00:00",
          "2022-05-26T18:00:00+00:00",
          "2022-05-26T21:00:00+00:00",
          "2022-05-26T22:00:00+00:00",
          "2022-05-27T01:00:00+00:00",
          "2022-05-27T03:00:00+00:00",
          "2022-05-27T04:00:00+00:00",
          "2022-05-27T05:00:00+00:00",
          "2022-05-27T08:00:00+00:00",
          "2022-05-27T12:00:00+00:00",
          "2022-05-27T13:00:00+00:00",
          "2022-05-27T14:00:00+00:00",
          "2022-05-27T15:00:00+00:00",
          "2022-05-27T18:00:00+00:00",
          "2022-05-27T19:00:00+00:00",
          "2022-05-29T22:00:00+00:00",
          "2022-05-30T00:00:00+00:00",
          "2022-05-30T06:00:00+00:00",
          "2022-05-30T10:00:00+00:00",
          "2022-05-30T11:00:00+00:00",
          "2022-05-30T12:00:00+00:00",
          "2022-05-30T21:00:00+00:00",
          "2022-05-30T23:00:00+00:00",
          "2022-05-31T02:00:00+00:00",
          "2022-05-31T03:00:00+00:00",
          "2022-05-31T04:00:00+00:00",
          "2022-05-31T08:00:00+00:00",
          "2022-05-31T09:00:00+00:00",
          "2022-05-31T10:00:00+00:00",
          "2022-05-31T11:00:00+00:00",
          "2022-05-31T12:00:00+00:00",
          "2022-05-31T13:00:00+00:00",
          "2022-05-31T16:00:00+00:00",
          "2022-05-31T17:00:00+00:00",
          "2022-06-01T00:00:00+00:00",
          "2022-06-01T02:00:00+00:00",
          "2022-06-01T04:00:00+00:00",
          "2022-06-01T08:00:00+00:00",
          "2022-06-01T09:00:00+00:00",
          "2022-06-01T12:00:00+00:00",
          "2022-06-01T13:00:00+00:00",
          "2022-06-01T14:00:00+00:00",
          "2022-06-01T16:00:00+00:00",
          "2022-06-01T19:00:00+00:00",
          "2022-06-01T20:00:00+00:00",
          "2022-06-01T21:00:00+00:00",
          "2022-06-02T05:00:00+00:00",
          "2022-06-02T07:00:00+00:00",
          "2022-06-02T08:00:00+00:00",
          "2022-06-02T09:00:00+00:00",
          "2022-06-02T10:00:00+00:00",
          "2022-06-02T11:00:00+00:00",
          "2022-06-02T12:00:00+00:00",
          "2022-06-02T13:00:00+00:00",
          "2022-06-02T14:00:00+00:00",
          "2022-06-02T15:00:00+00:00",
          "2022-06-02T16:00:00+00:00",
          "2022-06-02T17:00:00+00:00",
          "2022-06-02T19:00:00+00:00",
          "2022-06-03T09:00:00+00:00",
          "2022-06-03T10:00:00+00:00",
          "2022-06-03T11:00:00+00:00",
          "2022-06-03T12:00:00+00:00",
          "2022-06-03T13:00:00+00:00",
          "2022-06-03T14:00:00+00:00",
          "2022-06-03T15:00:00+00:00",
          "2022-06-03T16:00:00+00:00",
          "2022-06-03T19:00:00+00:00",
          "2022-06-03T20:00:00+00:00",
          "2022-06-06T01:00:00+00:00",
          "2022-06-06T08:00:00+00:00",
          "2022-06-06T09:00:00+00:00",
          "2022-06-06T10:00:00+00:00",
          "2022-06-06T11:00:00+00:00",
          "2022-06-06T12:00:00+00:00",
          "2022-06-06T13:00:00+00:00",
          "2022-06-06T15:00:00+00:00",
          "2022-06-06T17:00:00+00:00",
          "2022-06-06T21:00:00+00:00",
          "2022-06-06T23:00:00+00:00",
          "2022-06-07T00:00:00+00:00",
          "2022-06-07T02:00:00+00:00",
          "2022-06-07T05:00:00+00:00",
          "2022-06-07T07:00:00+00:00",
          "2022-06-07T12:00:00+00:00",
          "2022-06-07T13:00:00+00:00",
          "2022-06-07T14:00:00+00:00",
          "2022-06-07T15:00:00+00:00",
          "2022-06-07T16:00:00+00:00",
          "2022-06-07T19:00:00+00:00",
          "2022-06-07T20:00:00+00:00",
          "2022-06-07T21:00:00+00:00",
          "2022-06-08T07:00:00+00:00",
          "2022-06-08T08:00:00+00:00",
          "2022-06-08T10:00:00+00:00",
          "2022-06-08T11:00:00+00:00",
          "2022-06-08T12:00:00+00:00",
          "2022-06-08T13:00:00+00:00",
          "2022-06-08T14:00:00+00:00",
          "2022-06-08T18:00:00+00:00",
          "2022-06-08T20:00:00+00:00",
          "2022-06-08T21:00:00+00:00",
          "2022-06-09T07:00:00+00:00",
          "2022-06-09T08:00:00+00:00",
          "2022-06-09T09:00:00+00:00",
          "2022-06-09T10:00:00+00:00",
          "2022-06-09T12:00:00+00:00",
          "2022-06-09T13:00:00+00:00",
          "2022-06-09T14:00:00+00:00",
          "2022-06-09T19:00:00+00:00",
          "2022-06-09T21:00:00+00:00",
          "2022-06-09T22:00:00+00:00",
          "2022-06-10T00:00:00+00:00",
          "2022-06-10T07:00:00+00:00",
          "2022-06-10T08:00:00+00:00",
          "2022-06-10T10:00:00+00:00",
          "2022-06-10T11:00:00+00:00",
          "2022-06-10T13:00:00+00:00",
          "2022-06-10T14:00:00+00:00",
          "2022-06-10T15:00:00+00:00",
          "2022-06-10T16:00:00+00:00",
          "2022-06-10T17:00:00+00:00",
          "2022-06-10T20:00:00+00:00",
          "2022-06-13T00:00:00+00:00",
          "2022-06-13T05:00:00+00:00",
          "2022-06-13T07:00:00+00:00",
          "2022-06-13T08:00:00+00:00",
          "2022-06-13T13:00:00+00:00",
          "2022-06-13T15:00:00+00:00",
          "2022-06-13T18:00:00+00:00",
          "2022-06-14T00:00:00+00:00",
          "2022-06-14T01:00:00+00:00",
          "2022-06-14T04:00:00+00:00",
          "2022-06-14T05:00:00+00:00",
          "2022-06-14T06:00:00+00:00",
          "2022-06-14T07:00:00+00:00",
          "2022-06-14T09:00:00+00:00",
          "2022-06-14T10:00:00+00:00",
          "2022-06-14T11:00:00+00:00",
          "2022-06-14T15:00:00+00:00",
          "2022-06-14T16:00:00+00:00",
          "2022-06-14T17:00:00+00:00",
          "2022-06-14T19:00:00+00:00",
          "2022-06-14T20:00:00+00:00",
          "2022-06-14T23:00:00+00:00",
          "2022-06-15T01:00:00+00:00",
          "2022-06-15T02:00:00+00:00",
          "2022-06-15T06:00:00+00:00",
          "2022-06-15T07:00:00+00:00",
          "2022-06-15T10:00:00+00:00",
          "2022-06-15T11:00:00+00:00",
          "2022-06-15T12:00:00+00:00",
          "2022-06-15T13:00:00+00:00",
          "2022-06-15T14:00:00+00:00",
          "2022-06-15T16:00:00+00:00",
          "2022-06-15T17:00:00+00:00",
          "2022-06-15T20:00:00+00:00",
          "2022-06-16T00:00:00+00:00",
          "2022-06-16T02:00:00+00:00",
          "2022-06-16T03:00:00+00:00",
          "2022-06-16T06:00:00+00:00",
          "2022-06-16T07:00:00+00:00",
          "2022-06-16T08:00:00+00:00",
          "2022-06-16T09:00:00+00:00",
          "2022-06-16T10:00:00+00:00",
          "2022-06-16T12:00:00+00:00",
          "2022-06-16T15:00:00+00:00",
          "2022-06-16T19:00:00+00:00",
          "2022-06-16T22:00:00+00:00",
          "2022-06-16T23:00:00+00:00",
          "2022-06-17T05:00:00+00:00",
          "2022-06-17T06:00:00+00:00",
          "2022-06-17T07:00:00+00:00",
          "2022-06-17T11:00:00+00:00",
          "2022-06-17T13:00:00+00:00",
          "2022-06-17T14:00:00+00:00",
          "2022-06-17T15:00:00+00:00",
          "2022-06-17T18:00:00+00:00",
          "2022-06-19T21:00:00+00:00",
          "2022-06-20T00:00:00+00:00",
          "2022-06-20T01:00:00+00:00",
          "2022-06-20T02:00:00+00:00",
          "2022-06-20T05:00:00+00:00",
          "2022-06-20T06:00:00+00:00",
          "2022-06-20T08:00:00+00:00",
          "2022-06-20T09:00:00+00:00",
          "2022-06-20T12:00:00+00:00",
          "2022-06-20T13:00:00+00:00",
          "2022-06-20T14:00:00+00:00",
          "2022-06-20T16:00:00+00:00",
          "2022-06-20T17:00:00+00:00",
          "2022-06-20T19:00:00+00:00",
          "2022-06-20T21:00:00+00:00",
          "2022-06-20T23:00:00+00:00",
          "2022-06-21T01:00:00+00:00",
          "2022-06-21T02:00:00+00:00",
          "2022-06-21T05:00:00+00:00",
          "2022-06-21T06:00:00+00:00",
          "2022-06-21T11:00:00+00:00",
          "2022-06-21T12:00:00+00:00",
          "2022-06-21T13:00:00+00:00",
          "2022-06-21T15:00:00+00:00",
          "2022-06-21T16:00:00+00:00",
          "2022-06-21T19:00:00+00:00",
          "2022-06-21T20:00:00+00:00",
          "2022-06-21T21:00:00+00:00",
          "2022-06-21T22:00:00+00:00",
          "2022-06-21T23:00:00+00:00",
          "2022-06-22T01:00:00+00:00",
          "2022-06-22T04:00:00+00:00",
          "2022-06-22T07:00:00+00:00",
          "2022-06-22T08:00:00+00:00",
          "2022-06-22T10:00:00+00:00",
          "2022-06-22T11:00:00+00:00",
          "2022-06-22T13:00:00+00:00",
          "2022-06-22T15:00:00+00:00",
          "2022-06-22T16:00:00+00:00",
          "2022-06-22T17:00:00+00:00",
          "2022-06-22T18:00:00+00:00",
          "2022-06-22T20:00:00+00:00",
          "2022-06-22T22:00:00+00:00",
          "2022-06-22T23:00:00+00:00",
          "2022-06-23T00:00:00+00:00",
          "2022-06-23T02:00:00+00:00",
          "2022-06-23T05:00:00+00:00",
          "2022-06-23T06:00:00+00:00",
          "2022-06-23T07:00:00+00:00",
          "2022-06-23T10:00:00+00:00",
          "2022-06-23T11:00:00+00:00",
          "2022-06-23T12:00:00+00:00",
          "2022-06-23T13:00:00+00:00",
          "2022-06-23T14:00:00+00:00",
          "2022-06-23T16:00:00+00:00",
          "2022-06-23T17:00:00+00:00",
          "2022-06-23T18:00:00+00:00",
          "2022-06-23T19:00:00+00:00",
          "2022-06-23T21:00:00+00:00",
          "2022-06-23T22:00:00+00:00",
          "2022-06-23T23:00:00+00:00",
          "2022-06-24T00:00:00+00:00",
          "2022-06-24T01:00:00+00:00",
          "2022-06-24T07:00:00+00:00",
          "2022-06-24T09:00:00+00:00",
          "2022-06-24T10:00:00+00:00",
          "2022-06-24T11:00:00+00:00",
          "2022-06-24T12:00:00+00:00",
          "2022-06-24T13:00:00+00:00",
          "2022-06-24T14:00:00+00:00",
          "2022-06-24T15:00:00+00:00",
          "2022-06-24T16:00:00+00:00",
          "2022-06-24T18:00:00+00:00",
          "2022-06-24T19:00:00+00:00",
          "2022-06-26T22:00:00+00:00",
          "2022-06-27T03:00:00+00:00",
          "2022-06-27T04:00:00+00:00",
          "2022-06-27T05:00:00+00:00",
          "2022-06-27T07:00:00+00:00",
          "2022-06-27T08:00:00+00:00",
          "2022-06-27T09:00:00+00:00",
          "2022-06-27T10:00:00+00:00",
          "2022-06-27T12:00:00+00:00",
          "2022-06-27T13:00:00+00:00",
          "2022-06-27T16:00:00+00:00",
          "2022-06-27T17:00:00+00:00",
          "2022-06-27T18:00:00+00:00",
          "2022-06-27T20:00:00+00:00",
          "2022-06-27T22:00:00+00:00",
          "2022-06-27T23:00:00+00:00",
          "2022-06-28T01:00:00+00:00",
          "2022-06-28T04:00:00+00:00",
          "2022-06-28T07:00:00+00:00",
          "2022-06-28T11:00:00+00:00",
          "2022-06-28T16:00:00+00:00",
          "2022-06-28T18:00:00+00:00",
          "2022-06-28T19:00:00+00:00",
          "2022-06-28T20:00:00+00:00",
          "2022-06-29T01:00:00+00:00",
          "2022-06-29T05:00:00+00:00",
          "2022-06-29T08:00:00+00:00",
          "2022-06-29T11:00:00+00:00",
          "2022-06-29T14:00:00+00:00",
          "2022-06-29T16:00:00+00:00",
          "2022-06-29T17:00:00+00:00",
          "2022-06-29T18:00:00+00:00",
          "2022-06-29T19:00:00+00:00",
          "2022-06-30T06:00:00+00:00",
          "2022-06-30T07:00:00+00:00",
          "2022-06-30T08:00:00+00:00",
          "2022-06-30T09:00:00+00:00",
          "2022-06-30T10:00:00+00:00",
          "2022-06-30T12:00:00+00:00",
          "2022-06-30T13:00:00+00:00",
          "2022-06-30T15:00:00+00:00",
          "2022-06-30T17:00:00+00:00",
          "2022-06-30T18:00:00+00:00",
          "2022-06-30T19:00:00+00:00",
          "2022-06-30T20:00:00+00:00",
          "2022-06-30T22:00:00+00:00",
          "2022-06-30T23:00:00+00:00",
          "2022-07-01T00:00:00+00:00",
          "2022-07-01T03:00:00+00:00",
          "2022-07-01T04:00:00+00:00",
          "2022-07-01T05:00:00+00:00",
          "2022-07-01T06:00:00+00:00",
          "2022-07-01T07:00:00+00:00",
          "2022-07-01T11:00:00+00:00",
          "2022-07-01T15:00:00+00:00",
          "2022-07-01T18:00:00+00:00",
          "2022-07-01T19:00:00+00:00",
          "2022-07-03T21:00:00+00:00",
          "2022-07-03T22:00:00+00:00",
          "2022-07-03T23:00:00+00:00",
          "2022-07-04T02:00:00+00:00",
          "2022-07-04T04:00:00+00:00",
          "2022-07-04T05:00:00+00:00",
          "2022-07-04T06:00:00+00:00",
          "2022-07-04T07:00:00+00:00",
          "2022-07-04T09:00:00+00:00",
          "2022-07-04T10:00:00+00:00",
          "2022-07-04T12:00:00+00:00",
          "2022-07-04T13:00:00+00:00",
          "2022-07-04T17:00:00+00:00",
          "2022-07-04T19:00:00+00:00",
          "2022-07-04T20:00:00+00:00",
          "2022-07-04T21:00:00+00:00",
          "2022-07-04T23:00:00+00:00",
          "2022-07-05T05:00:00+00:00",
          "2022-07-05T07:00:00+00:00",
          "2022-07-05T08:00:00+00:00",
          "2022-07-05T09:00:00+00:00",
          "2022-07-05T10:00:00+00:00",
          "2022-07-05T11:00:00+00:00",
          "2022-07-05T12:00:00+00:00",
          "2022-07-05T16:00:00+00:00",
          "2022-07-05T17:00:00+00:00",
          "2022-07-05T18:00:00+00:00",
          "2022-07-05T19:00:00+00:00",
          "2022-07-05T21:00:00+00:00",
          "2022-07-06T10:00:00+00:00",
          "2022-07-06T11:00:00+00:00",
          "2022-07-06T12:00:00+00:00",
          "2022-07-06T16:00:00+00:00",
          "2022-07-06T19:00:00+00:00",
          "2022-07-06T20:00:00+00:00",
          "2022-07-06T21:00:00+00:00",
          "2022-07-06T23:00:00+00:00",
          "2022-07-07T00:00:00+00:00",
          "2022-07-07T04:00:00+00:00",
          "2022-07-07T05:00:00+00:00",
          "2022-07-07T06:00:00+00:00",
          "2022-07-07T09:00:00+00:00",
          "2022-07-07T10:00:00+00:00",
          "2022-07-07T12:00:00+00:00",
          "2022-07-07T13:00:00+00:00",
          "2022-07-07T14:00:00+00:00",
          "2022-07-07T17:00:00+00:00",
          "2022-07-08T03:00:00+00:00",
          "2022-07-08T05:00:00+00:00",
          "2022-07-08T06:00:00+00:00",
          "2022-07-08T07:00:00+00:00",
          "2022-07-08T08:00:00+00:00",
          "2022-07-08T09:00:00+00:00",
          "2022-07-08T11:00:00+00:00",
          "2022-07-08T13:00:00+00:00",
          "2022-07-08T15:00:00+00:00",
          "2022-07-08T16:00:00+00:00",
          "2022-07-08T17:00:00+00:00",
          "2022-07-08T18:00:00+00:00",
          "2022-07-08T19:00:00+00:00",
          "2022-07-08T20:00:00+00:00",
          "2022-07-10T23:00:00+00:00",
          "2022-07-11T00:00:00+00:00",
          "2022-07-11T01:00:00+00:00",
          "2022-07-11T04:00:00+00:00",
          "2022-07-11T05:00:00+00:00",
          "2022-07-11T07:00:00+00:00",
          "2022-07-11T09:00:00+00:00",
          "2022-07-11T10:00:00+00:00",
          "2022-07-11T11:00:00+00:00",
          "2022-07-11T12:00:00+00:00",
          "2022-07-11T14:00:00+00:00",
          "2022-07-11T15:00:00+00:00",
          "2022-07-11T16:00:00+00:00",
          "2022-07-11T20:00:00+00:00",
          "2022-07-11T21:00:00+00:00",
          "2022-07-11T23:00:00+00:00",
          "2022-07-12T01:00:00+00:00",
          "2022-07-12T04:00:00+00:00",
          "2022-07-12T05:00:00+00:00",
          "2022-07-12T10:00:00+00:00",
          "2022-07-12T11:00:00+00:00",
          "2022-07-12T12:00:00+00:00",
          "2022-07-12T14:00:00+00:00",
          "2022-07-12T15:00:00+00:00",
          "2022-07-12T16:00:00+00:00",
          "2022-07-12T17:00:00+00:00",
          "2022-07-12T18:00:00+00:00",
          "2022-07-12T19:00:00+00:00",
          "2022-07-12T21:00:00+00:00",
          "2022-07-13T00:00:00+00:00",
          "2022-07-13T01:00:00+00:00",
          "2022-07-13T02:00:00+00:00",
          "2022-07-13T03:00:00+00:00",
          "2022-07-13T04:00:00+00:00",
          "2022-07-13T06:00:00+00:00",
          "2022-07-13T07:00:00+00:00",
          "2022-07-13T10:00:00+00:00",
          "2022-07-13T14:00:00+00:00",
          "2022-07-13T15:00:00+00:00",
          "2022-07-13T16:00:00+00:00",
          "2022-07-13T19:00:00+00:00",
          "2022-07-13T20:00:00+00:00",
          "2022-07-13T23:00:00+00:00",
          "2022-07-14T00:00:00+00:00",
          "2022-07-14T02:00:00+00:00",
          "2022-07-14T06:00:00+00:00",
          "2022-07-14T07:00:00+00:00",
          "2022-07-14T09:00:00+00:00",
          "2022-07-14T10:00:00+00:00",
          "2022-07-14T11:00:00+00:00",
          "2022-07-14T15:00:00+00:00",
          "2022-07-14T16:00:00+00:00",
          "2022-07-14T19:00:00+00:00",
          "2022-07-14T22:00:00+00:00",
          "2022-07-15T03:00:00+00:00",
          "2022-07-15T04:00:00+00:00",
          "2022-07-15T07:00:00+00:00",
          "2022-07-15T10:00:00+00:00",
          "2022-07-15T11:00:00+00:00",
          "2022-07-15T12:00:00+00:00",
          "2022-07-15T14:00:00+00:00",
          "2022-07-15T16:00:00+00:00",
          "2022-07-15T19:00:00+00:00",
          "2022-07-15T20:00:00+00:00",
          "2022-07-17T22:00:00+00:00",
          "2022-07-18T00:00:00+00:00",
          "2022-07-18T02:00:00+00:00",
          "2022-07-18T06:00:00+00:00",
          "2022-07-18T07:00:00+00:00",
          "2022-07-18T08:00:00+00:00",
          "2022-07-18T09:00:00+00:00",
          "2022-07-18T10:00:00+00:00",
          "2022-07-18T11:00:00+00:00",
          "2022-07-18T12:00:00+00:00",
          "2022-07-18T17:00:00+00:00",
          "2022-07-18T19:00:00+00:00",
          "2022-07-18T20:00:00+00:00",
          "2022-07-18T21:00:00+00:00",
          "2022-07-18T23:00:00+00:00",
          "2022-07-19T00:00:00+00:00",
          "2022-07-19T03:00:00+00:00",
          "2022-07-19T05:00:00+00:00",
          "2022-07-19T06:00:00+00:00",
          "2022-07-19T07:00:00+00:00",
          "2022-07-19T08:00:00+00:00",
          "2022-07-19T09:00:00+00:00",
          "2022-07-19T16:00:00+00:00",
          "2022-07-19T18:00:00+00:00",
          "2022-07-19T20:00:00+00:00",
          "2022-07-19T21:00:00+00:00",
          "2022-07-19T22:00:00+00:00",
          "2022-07-20T04:00:00+00:00",
          "2022-07-20T11:00:00+00:00",
          "2022-07-20T12:00:00+00:00",
          "2022-07-20T13:00:00+00:00",
          "2022-07-20T14:00:00+00:00",
          "2022-07-20T17:00:00+00:00",
          "2022-07-20T18:00:00+00:00",
          "2022-07-20T19:00:00+00:00",
          "2022-07-20T22:00:00+00:00",
          "2022-07-20T23:00:00+00:00",
          "2022-07-21T00:00:00+00:00",
          "2022-07-21T04:00:00+00:00",
          "2022-07-21T06:00:00+00:00",
          "2022-07-21T07:00:00+00:00",
          "2022-07-21T08:00:00+00:00",
          "2022-07-21T09:00:00+00:00",
          "2022-07-21T10:00:00+00:00",
          "2022-07-21T11:00:00+00:00",
          "2022-07-21T12:00:00+00:00",
          "2022-07-21T13:00:00+00:00",
          "2022-07-21T14:00:00+00:00",
          "2022-07-21T15:00:00+00:00",
          "2022-07-21T16:00:00+00:00",
          "2022-07-21T17:00:00+00:00",
          "2022-07-21T19:00:00+00:00",
          "2022-07-21T20:00:00+00:00",
          "2022-07-21T21:00:00+00:00",
          "2022-07-21T22:00:00+00:00",
          "2022-07-21T23:00:00+00:00",
          "2022-07-22T01:00:00+00:00",
          "2022-07-22T04:00:00+00:00",
          "2022-07-22T05:00:00+00:00",
          "2022-07-22T07:00:00+00:00",
          "2022-07-22T12:00:00+00:00",
          "2022-07-22T14:00:00+00:00",
          "2022-07-22T16:00:00+00:00",
          "2022-07-22T18:00:00+00:00",
          "2022-07-22T19:00:00+00:00",
          "2022-07-22T20:00:00+00:00",
          "2022-07-24T22:00:00+00:00",
          "2022-07-24T23:00:00+00:00",
          "2022-07-25T00:00:00+00:00",
          "2022-07-25T04:00:00+00:00",
          "2022-07-25T05:00:00+00:00",
          "2022-07-25T08:00:00+00:00",
          "2022-07-25T09:00:00+00:00",
          "2022-07-25T10:00:00+00:00",
          "2022-07-25T11:00:00+00:00",
          "2022-07-25T12:00:00+00:00",
          "2022-07-25T13:00:00+00:00",
          "2022-07-25T14:00:00+00:00",
          "2022-07-25T15:00:00+00:00",
          "2022-07-25T16:00:00+00:00",
          "2022-07-25T19:00:00+00:00",
          "2022-07-26T09:00:00+00:00",
          "2022-07-26T10:00:00+00:00",
          "2022-07-26T11:00:00+00:00",
          "2022-07-26T13:00:00+00:00",
          "2022-07-26T14:00:00+00:00",
          "2022-07-26T18:00:00+00:00",
          "2022-07-26T21:00:00+00:00",
          "2022-07-27T01:00:00+00:00",
          "2022-07-27T02:00:00+00:00",
          "2022-07-27T03:00:00+00:00",
          "2022-07-27T07:00:00+00:00",
          "2022-07-27T08:00:00+00:00",
          "2022-07-27T09:00:00+00:00",
          "2022-07-27T16:00:00+00:00",
          "2022-07-27T17:00:00+00:00",
          "2022-07-27T18:00:00+00:00",
          "2022-07-27T19:00:00+00:00",
          "2022-07-27T21:00:00+00:00",
          "2022-07-27T22:00:00+00:00",
          "2022-07-27T23:00:00+00:00",
          "2022-07-28T00:00:00+00:00",
          "2022-07-28T01:00:00+00:00",
          "2022-07-28T02:00:00+00:00",
          "2022-07-28T03:00:00+00:00",
          "2022-07-28T05:00:00+00:00",
          "2022-07-28T06:00:00+00:00",
          "2022-07-28T10:00:00+00:00",
          "2022-07-28T11:00:00+00:00",
          "2022-07-28T12:00:00+00:00",
          "2022-07-28T14:00:00+00:00",
          "2022-07-28T15:00:00+00:00",
          "2022-07-28T16:00:00+00:00",
          "2022-07-28T18:00:00+00:00",
          "2022-07-28T19:00:00+00:00",
          "2022-07-28T23:00:00+00:00",
          "2022-07-29T04:00:00+00:00",
          "2022-07-29T08:00:00+00:00",
          "2022-07-29T11:00:00+00:00",
          "2022-07-29T12:00:00+00:00",
          "2022-07-29T13:00:00+00:00",
          "2022-07-29T14:00:00+00:00",
          "2022-07-29T15:00:00+00:00",
          "2022-07-29T20:00:00+00:00",
          "2022-07-31T21:00:00+00:00",
          "2022-07-31T22:00:00+00:00",
          "2022-07-31T23:00:00+00:00",
          "2022-08-01T03:00:00+00:00",
          "2022-08-01T04:00:00+00:00",
          "2022-08-01T06:00:00+00:00",
          "2022-08-01T07:00:00+00:00",
          "2022-08-01T08:00:00+00:00",
          "2022-08-01T09:00:00+00:00",
          "2022-08-01T10:00:00+00:00",
          "2022-08-01T11:00:00+00:00",
          "2022-08-01T13:00:00+00:00",
          "2022-08-01T14:00:00+00:00",
          "2022-08-01T18:00:00+00:00",
          "2022-08-02T00:00:00+00:00",
          "2022-08-02T04:00:00+00:00",
          "2022-08-02T05:00:00+00:00",
          "2022-08-02T06:00:00+00:00",
          "2022-08-02T07:00:00+00:00",
          "2022-08-02T08:00:00+00:00",
          "2022-08-02T09:00:00+00:00",
          "2022-08-02T10:00:00+00:00",
          "2022-08-02T12:00:00+00:00",
          "2022-08-02T13:00:00+00:00",
          "2022-08-02T14:00:00+00:00",
          "2022-08-02T16:00:00+00:00",
          "2022-08-02T17:00:00+00:00",
          "2022-08-02T18:00:00+00:00",
          "2022-08-02T19:00:00+00:00",
          "2022-08-02T20:00:00+00:00",
          "2022-08-03T05:00:00+00:00",
          "2022-08-03T06:00:00+00:00",
          "2022-08-03T08:00:00+00:00",
          "2022-08-03T09:00:00+00:00",
          "2022-08-03T11:00:00+00:00",
          "2022-08-03T14:00:00+00:00",
          "2022-08-03T15:00:00+00:00",
          "2022-08-03T20:00:00+00:00",
          "2022-08-03T21:00:00+00:00",
          "2022-08-04T08:00:00+00:00",
          "2022-08-04T10:00:00+00:00",
          "2022-08-04T11:00:00+00:00",
          "2022-08-04T12:00:00+00:00",
          "2022-08-04T14:00:00+00:00",
          "2022-08-04T15:00:00+00:00",
          "2022-08-04T17:00:00+00:00",
          "2022-08-04T18:00:00+00:00",
          "2022-08-04T20:00:00+00:00",
          "2022-08-04T21:00:00+00:00",
          "2022-08-04T22:00:00+00:00",
          "2022-08-04T23:00:00+00:00",
          "2022-08-05T03:00:00+00:00",
          "2022-08-05T04:00:00+00:00",
          "2022-08-05T05:00:00+00:00",
          "2022-08-05T09:00:00+00:00",
          "2022-08-05T11:00:00+00:00",
          "2022-08-05T12:00:00+00:00",
          "2022-08-05T13:00:00+00:00",
          "2022-08-05T14:00:00+00:00",
          "2022-08-05T15:00:00+00:00",
          "2022-08-05T16:00:00+00:00",
          "2022-08-05T18:00:00+00:00",
          "2022-08-05T19:00:00+00:00",
          "2022-08-05T20:00:00+00:00",
          "2022-08-08T00:00:00+00:00",
          "2022-08-08T03:00:00+00:00",
          "2022-08-08T07:00:00+00:00",
          "2022-08-08T08:00:00+00:00",
          "2022-08-08T09:00:00+00:00",
          "2022-08-08T10:00:00+00:00",
          "2022-08-08T11:00:00+00:00",
          "2022-08-08T12:00:00+00:00",
          "2022-08-08T16:00:00+00:00",
          "2022-08-08T18:00:00+00:00",
          "2022-08-08T19:00:00+00:00",
          "2022-08-08T20:00:00+00:00",
          "2022-08-08T22:00:00+00:00",
          "2022-08-09T00:00:00+00:00",
          "2022-08-09T01:00:00+00:00",
          "2022-08-09T02:00:00+00:00",
          "2022-08-09T03:00:00+00:00",
          "2022-08-09T07:00:00+00:00",
          "2022-08-09T09:00:00+00:00",
          "2022-08-09T10:00:00+00:00",
          "2022-08-09T11:00:00+00:00",
          "2022-08-09T12:00:00+00:00",
          "2022-08-09T14:00:00+00:00",
          "2022-08-09T16:00:00+00:00",
          "2022-08-09T17:00:00+00:00",
          "2022-08-09T18:00:00+00:00",
          "2022-08-09T19:00:00+00:00",
          "2022-08-09T20:00:00+00:00",
          "2022-08-10T01:00:00+00:00",
          "2022-08-10T02:00:00+00:00",
          "2022-08-10T04:00:00+00:00",
          "2022-08-10T08:00:00+00:00",
          "2022-08-10T09:00:00+00:00",
          "2022-08-10T10:00:00+00:00",
          "2022-08-10T11:00:00+00:00",
          "2022-08-10T12:00:00+00:00",
          "2022-08-10T14:00:00+00:00",
          "2022-08-10T18:00:00+00:00",
          "2022-08-10T22:00:00+00:00",
          "2022-08-11T02:00:00+00:00",
          "2022-08-11T05:00:00+00:00",
          "2022-08-11T10:00:00+00:00",
          "2022-08-11T11:00:00+00:00",
          "2022-08-11T14:00:00+00:00",
          "2022-08-11T17:00:00+00:00",
          "2022-08-11T18:00:00+00:00",
          "2022-08-11T19:00:00+00:00",
          "2022-08-11T20:00:00+00:00",
          "2022-08-11T21:00:00+00:00",
          "2022-08-12T00:00:00+00:00",
          "2022-08-12T03:00:00+00:00",
          "2022-08-12T04:00:00+00:00",
          "2022-08-12T07:00:00+00:00",
          "2022-08-12T12:00:00+00:00",
          "2022-08-12T14:00:00+00:00",
          "2022-08-12T15:00:00+00:00",
          "2022-08-12T17:00:00+00:00",
          "2022-08-12T19:00:00+00:00",
          "2022-08-14T23:00:00+00:00",
          "2022-08-15T00:00:00+00:00",
          "2022-08-15T03:00:00+00:00",
          "2022-08-15T04:00:00+00:00",
          "2022-08-15T05:00:00+00:00",
          "2022-08-15T06:00:00+00:00",
          "2022-08-15T07:00:00+00:00",
          "2022-08-15T09:00:00+00:00",
          "2022-08-15T10:00:00+00:00",
          "2022-08-15T21:00:00+00:00",
          "2022-08-16T02:00:00+00:00",
          "2022-08-16T05:00:00+00:00",
          "2022-08-16T09:00:00+00:00",
          "2022-08-16T10:00:00+00:00",
          "2022-08-16T11:00:00+00:00",
          "2022-08-16T13:00:00+00:00",
          "2022-08-16T14:00:00+00:00",
          "2022-08-16T17:00:00+00:00",
          "2022-08-16T19:00:00+00:00",
          "2022-08-17T03:00:00+00:00",
          "2022-08-17T04:00:00+00:00",
          "2022-08-17T08:00:00+00:00",
          "2022-08-17T10:00:00+00:00",
          "2022-08-17T12:00:00+00:00",
          "2022-08-17T13:00:00+00:00",
          "2022-08-17T14:00:00+00:00",
          "2022-08-17T17:00:00+00:00",
          "2022-08-17T18:00:00+00:00",
          "2022-08-17T21:00:00+00:00",
          "2022-08-18T00:00:00+00:00",
          "2022-08-18T01:00:00+00:00",
          "2022-08-18T05:00:00+00:00",
          "2022-08-18T07:00:00+00:00",
          "2022-08-18T10:00:00+00:00",
          "2022-08-18T12:00:00+00:00",
          "2022-08-18T13:00:00+00:00",
          "2022-08-18T14:00:00+00:00",
          "2022-08-18T15:00:00+00:00",
          "2022-08-18T16:00:00+00:00",
          "2022-08-18T17:00:00+00:00",
          "2022-08-18T18:00:00+00:00",
          "2022-08-18T20:00:00+00:00",
          "2022-08-18T21:00:00+00:00",
          "2022-08-19T01:00:00+00:00",
          "2022-08-19T05:00:00+00:00",
          "2022-08-19T08:00:00+00:00",
          "2022-08-19T10:00:00+00:00",
          "2022-08-19T15:00:00+00:00",
          "2022-08-19T18:00:00+00:00",
          "2022-08-22T04:00:00+00:00",
          "2022-08-22T05:00:00+00:00",
          "2022-08-22T06:00:00+00:00",
          "2022-08-22T07:00:00+00:00",
          "2022-08-22T08:00:00+00:00",
          "2022-08-22T09:00:00+00:00",
          "2022-08-22T10:00:00+00:00",
          "2022-08-22T13:00:00+00:00",
          "2022-08-22T14:00:00+00:00",
          "2022-08-22T15:00:00+00:00",
          "2022-08-22T18:00:00+00:00",
          "2022-08-22T20:00:00+00:00",
          "2022-08-22T22:00:00+00:00",
          "2022-08-23T06:00:00+00:00",
          "2022-08-23T07:00:00+00:00",
          "2022-08-23T10:00:00+00:00",
          "2022-08-23T11:00:00+00:00",
          "2022-08-23T12:00:00+00:00",
          "2022-08-23T13:00:00+00:00",
          "2022-08-23T14:00:00+00:00",
          "2022-08-23T16:00:00+00:00",
          "2022-08-23T17:00:00+00:00",
          "2022-08-23T19:00:00+00:00",
          "2022-08-23T22:00:00+00:00",
          "2022-08-24T00:00:00+00:00",
          "2022-08-24T02:00:00+00:00",
          "2022-08-24T04:00:00+00:00",
          "2022-08-24T05:00:00+00:00",
          "2022-08-24T06:00:00+00:00",
          "2022-08-24T07:00:00+00:00",
          "2022-08-24T08:00:00+00:00",
          "2022-08-24T09:00:00+00:00",
          "2022-08-24T10:00:00+00:00",
          "2022-08-24T12:00:00+00:00",
          "2022-08-24T13:00:00+00:00",
          "2022-08-24T14:00:00+00:00",
          "2022-08-24T16:00:00+00:00",
          "2022-08-24T17:00:00+00:00",
          "2022-08-24T18:00:00+00:00",
          "2022-08-24T19:00:00+00:00",
          "2022-08-24T20:00:00+00:00",
          "2022-08-24T21:00:00+00:00",
          "2022-08-24T22:00:00+00:00",
          "2022-08-25T01:00:00+00:00",
          "2022-08-25T03:00:00+00:00",
          "2022-08-25T04:00:00+00:00",
          "2022-08-25T05:00:00+00:00",
          "2022-08-25T06:00:00+00:00",
          "2022-08-25T07:00:00+00:00",
          "2022-08-25T11:00:00+00:00",
          "2022-08-25T12:00:00+00:00",
          "2022-08-25T14:00:00+00:00",
          "2022-08-25T15:00:00+00:00",
          "2022-08-25T17:00:00+00:00",
          "2022-08-25T19:00:00+00:00",
          "2022-08-25T20:00:00+00:00",
          "2022-08-25T21:00:00+00:00",
          "2022-08-25T22:00:00+00:00",
          "2022-08-25T23:00:00+00:00",
          "2022-08-26T00:00:00+00:00",
          "2022-08-26T01:00:00+00:00",
          "2022-08-26T02:00:00+00:00",
          "2022-08-26T03:00:00+00:00",
          "2022-08-26T04:00:00+00:00",
          "2022-08-26T05:00:00+00:00",
          "2022-08-26T07:00:00+00:00",
          "2022-08-26T08:00:00+00:00",
          "2022-08-26T10:00:00+00:00",
          "2022-08-26T11:00:00+00:00",
          "2022-08-26T13:00:00+00:00",
          "2022-08-26T14:00:00+00:00",
          "2022-08-26T16:00:00+00:00",
          "2022-08-26T18:00:00+00:00",
          "2022-08-26T20:00:00+00:00",
          "2022-08-28T23:00:00+00:00",
          "2022-08-29T00:00:00+00:00",
          "2022-08-29T02:00:00+00:00",
          "2022-08-29T04:00:00+00:00",
          "2022-08-29T05:00:00+00:00",
          "2022-08-29T08:00:00+00:00",
          "2022-08-29T10:00:00+00:00",
          "2022-08-29T13:00:00+00:00",
          "2022-08-29T15:00:00+00:00",
          "2022-08-29T16:00:00+00:00",
          "2022-08-29T18:00:00+00:00",
          "2022-08-29T21:00:00+00:00",
          "2022-08-29T23:00:00+00:00",
          "2022-08-30T01:00:00+00:00",
          "2022-08-30T03:00:00+00:00",
          "2022-08-30T05:00:00+00:00",
          "2022-08-30T07:00:00+00:00",
          "2022-08-30T08:00:00+00:00",
          "2022-08-30T09:00:00+00:00",
          "2022-08-30T11:00:00+00:00",
          "2022-08-30T13:00:00+00:00",
          "2022-08-30T15:00:00+00:00",
          "2022-08-30T16:00:00+00:00",
          "2022-08-30T17:00:00+00:00",
          "2022-08-30T18:00:00+00:00",
          "2022-08-30T19:00:00+00:00",
          "2022-08-31T02:00:00+00:00",
          "2022-08-31T06:00:00+00:00",
          "2022-08-31T09:00:00+00:00",
          "2022-08-31T11:00:00+00:00",
          "2022-08-31T12:00:00+00:00",
          "2022-08-31T16:00:00+00:00",
          "2022-08-31T17:00:00+00:00",
          "2022-08-31T18:00:00+00:00",
          "2022-08-31T20:00:00+00:00",
          "2022-08-31T21:00:00+00:00",
          "2022-08-31T22:00:00+00:00",
          "2022-09-01T00:00:00+00:00",
          "2022-09-01T01:00:00+00:00",
          "2022-09-01T02:00:00+00:00",
          "2022-09-01T03:00:00+00:00",
          "2022-09-01T04:00:00+00:00",
          "2022-09-01T06:00:00+00:00",
          "2022-09-01T08:00:00+00:00",
          "2022-09-01T09:00:00+00:00",
          "2022-09-01T11:00:00+00:00",
          "2022-09-01T12:00:00+00:00",
          "2022-09-01T13:00:00+00:00",
          "2022-09-01T14:00:00+00:00",
          "2022-09-01T15:00:00+00:00",
          "2022-09-01T16:00:00+00:00",
          "2022-09-01T18:00:00+00:00",
          "2022-09-01T19:00:00+00:00",
          "2022-09-02T00:00:00+00:00",
          "2022-09-02T05:00:00+00:00",
          "2022-09-02T06:00:00+00:00",
          "2022-09-02T09:00:00+00:00",
          "2022-09-02T10:00:00+00:00",
          "2022-09-02T11:00:00+00:00",
          "2022-09-02T12:00:00+00:00",
          "2022-09-02T14:00:00+00:00",
          "2022-09-02T18:00:00+00:00",
          "2022-09-02T19:00:00+00:00",
          "2022-09-02T20:00:00+00:00",
          "2022-09-04T22:00:00+00:00",
          "2022-09-04T23:00:00+00:00",
          "2022-09-05T02:00:00+00:00",
          "2022-09-05T04:00:00+00:00",
          "2022-09-05T05:00:00+00:00",
          "2022-09-05T09:00:00+00:00",
          "2022-09-05T10:00:00+00:00",
          "2022-09-05T12:00:00+00:00",
          "2022-09-05T13:00:00+00:00",
          "2022-09-05T14:00:00+00:00",
          "2022-09-05T15:00:00+00:00",
          "2022-09-05T16:00:00+00:00",
          "2022-09-05T19:00:00+00:00",
          "2022-09-05T21:00:00+00:00",
          "2022-09-05T22:00:00+00:00",
          "2022-09-05T23:00:00+00:00",
          "2022-09-06T00:00:00+00:00",
          "2022-09-06T05:00:00+00:00",
          "2022-09-06T07:00:00+00:00",
          "2022-09-06T08:00:00+00:00",
          "2022-09-06T09:00:00+00:00",
          "2022-09-06T12:00:00+00:00",
          "2022-09-06T13:00:00+00:00",
          "2022-09-06T14:00:00+00:00",
          "2022-09-06T16:00:00+00:00",
          "2022-09-06T17:00:00+00:00",
          "2022-09-07T00:00:00+00:00",
          "2022-09-07T02:00:00+00:00",
          "2022-09-07T05:00:00+00:00",
          "2022-09-07T06:00:00+00:00",
          "2022-09-07T08:00:00+00:00",
          "2022-09-07T10:00:00+00:00",
          "2022-09-07T11:00:00+00:00",
          "2022-09-07T12:00:00+00:00",
          "2022-09-07T14:00:00+00:00",
          "2022-09-07T15:00:00+00:00",
          "2022-09-07T16:00:00+00:00",
          "2022-09-07T18:00:00+00:00",
          "2022-09-07T19:00:00+00:00",
          "2022-09-07T21:00:00+00:00",
          "2022-09-07T23:00:00+00:00",
          "2022-09-08T04:00:00+00:00",
          "2022-09-08T06:00:00+00:00",
          "2022-09-08T08:00:00+00:00",
          "2022-09-08T09:00:00+00:00",
          "2022-09-08T10:00:00+00:00",
          "2022-09-08T13:00:00+00:00",
          "2022-09-08T15:00:00+00:00",
          "2022-09-08T16:00:00+00:00",
          "2022-09-08T17:00:00+00:00",
          "2022-09-08T18:00:00+00:00",
          "2022-09-08T19:00:00+00:00",
          "2022-09-08T20:00:00+00:00",
          "2022-09-08T22:00:00+00:00",
          "2022-09-08T23:00:00+00:00",
          "2022-09-09T00:00:00+00:00",
          "2022-09-09T01:00:00+00:00",
          "2022-09-09T02:00:00+00:00",
          "2022-09-09T04:00:00+00:00",
          "2022-09-09T05:00:00+00:00",
          "2022-09-09T07:00:00+00:00",
          "2022-09-09T08:00:00+00:00",
          "2022-09-09T09:00:00+00:00",
          "2022-09-09T10:00:00+00:00",
          "2022-09-09T11:00:00+00:00",
          "2022-09-09T12:00:00+00:00",
          "2022-09-09T16:00:00+00:00",
          "2022-09-09T18:00:00+00:00",
          "2022-09-11T21:00:00+00:00",
          "2022-09-11T23:00:00+00:00",
          "2022-09-12T00:00:00+00:00",
          "2022-09-12T02:00:00+00:00",
          "2022-09-12T03:00:00+00:00",
          "2022-09-12T04:00:00+00:00",
          "2022-09-12T05:00:00+00:00",
          "2022-09-12T06:00:00+00:00",
          "2022-09-12T07:00:00+00:00",
          "2022-09-12T15:00:00+00:00",
          "2022-09-12T16:00:00+00:00",
          "2022-09-12T17:00:00+00:00",
          "2022-09-13T03:00:00+00:00",
          "2022-09-13T04:00:00+00:00",
          "2022-09-13T05:00:00+00:00",
          "2022-09-13T06:00:00+00:00",
          "2022-09-13T07:00:00+00:00",
          "2022-09-13T10:00:00+00:00",
          "2022-09-13T11:00:00+00:00",
          "2022-09-13T12:00:00+00:00",
          "2022-09-13T13:00:00+00:00",
          "2022-09-13T14:00:00+00:00",
          "2022-09-13T15:00:00+00:00",
          "2022-09-13T19:00:00+00:00",
          "2022-09-14T00:00:00+00:00",
          "2022-09-14T07:00:00+00:00",
          "2022-09-14T08:00:00+00:00",
          "2022-09-14T09:00:00+00:00",
          "2022-09-14T10:00:00+00:00",
          "2022-09-14T12:00:00+00:00",
          "2022-09-14T15:00:00+00:00",
          "2022-09-14T16:00:00+00:00",
          "2022-09-14T17:00:00+00:00",
          "2022-09-14T18:00:00+00:00",
          "2022-09-14T19:00:00+00:00",
          "2022-09-14T20:00:00+00:00",
          "2022-09-14T21:00:00+00:00",
          "2022-09-15T01:00:00+00:00",
          "2022-09-15T05:00:00+00:00",
          "2022-09-15T06:00:00+00:00",
          "2022-09-15T08:00:00+00:00",
          "2022-09-15T09:00:00+00:00",
          "2022-09-15T10:00:00+00:00",
          "2022-09-15T11:00:00+00:00",
          "2022-09-15T12:00:00+00:00",
          "2022-09-15T13:00:00+00:00",
          "2022-09-15T14:00:00+00:00",
          "2022-09-15T15:00:00+00:00",
          "2022-09-15T17:00:00+00:00",
          "2022-09-15T20:00:00+00:00",
          "2022-09-15T21:00:00+00:00",
          "2022-09-16T00:00:00+00:00",
          "2022-09-16T01:00:00+00:00",
          "2022-09-16T02:00:00+00:00",
          "2022-09-16T03:00:00+00:00",
          "2022-09-16T06:00:00+00:00",
          "2022-09-16T07:00:00+00:00",
          "2022-09-16T08:00:00+00:00",
          "2022-09-16T16:00:00+00:00",
          "2022-09-16T17:00:00+00:00",
          "2022-09-16T19:00:00+00:00",
          "2022-09-18T21:00:00+00:00",
          "2022-09-18T22:00:00+00:00",
          "2022-09-19T02:00:00+00:00",
          "2022-09-19T06:00:00+00:00",
          "2022-09-19T07:00:00+00:00",
          "2022-09-19T08:00:00+00:00",
          "2022-09-19T09:00:00+00:00",
          "2022-09-19T10:00:00+00:00",
          "2022-09-19T11:00:00+00:00",
          "2022-09-19T12:00:00+00:00",
          "2022-09-19T14:00:00+00:00",
          "2022-09-19T15:00:00+00:00",
          "2022-09-19T16:00:00+00:00",
          "2022-09-19T17:00:00+00:00",
          "2022-09-19T19:00:00+00:00",
          "2022-09-19T20:00:00+00:00",
          "2022-09-19T21:00:00+00:00",
          "2022-09-20T01:00:00+00:00",
          "2022-09-20T08:00:00+00:00",
          "2022-09-20T12:00:00+00:00",
          "2022-09-20T13:00:00+00:00",
          "2022-09-20T14:00:00+00:00",
          "2022-09-20T15:00:00+00:00",
          "2022-09-20T16:00:00+00:00",
          "2022-09-20T17:00:00+00:00",
          "2022-09-20T19:00:00+00:00",
          "2022-09-20T22:00:00+00:00",
          "2022-09-21T00:00:00+00:00",
          "2022-09-21T06:00:00+00:00",
          "2022-09-21T07:00:00+00:00",
          "2022-09-21T09:00:00+00:00",
          "2022-09-21T12:00:00+00:00",
          "2022-09-21T16:00:00+00:00",
          "2022-09-21T17:00:00+00:00",
          "2022-09-21T18:00:00+00:00",
          "2022-09-21T19:00:00+00:00",
          "2022-09-21T23:00:00+00:00",
          "2022-09-22T00:00:00+00:00",
          "2022-09-22T02:00:00+00:00",
          "2022-09-22T04:00:00+00:00",
          "2022-09-22T06:00:00+00:00",
          "2022-09-22T09:00:00+00:00",
          "2022-09-22T10:00:00+00:00",
          "2022-09-22T11:00:00+00:00",
          "2022-09-22T14:00:00+00:00",
          "2022-09-22T15:00:00+00:00",
          "2022-09-22T18:00:00+00:00",
          "2022-09-22T19:00:00+00:00",
          "2022-09-22T21:00:00+00:00",
          "2022-09-23T00:00:00+00:00",
          "2022-09-23T02:00:00+00:00",
          "2022-09-23T03:00:00+00:00",
          "2022-09-23T04:00:00+00:00",
          "2022-09-23T08:00:00+00:00",
          "2022-09-23T09:00:00+00:00",
          "2022-09-23T10:00:00+00:00",
          "2022-09-23T12:00:00+00:00",
          "2022-09-23T13:00:00+00:00",
          "2022-09-23T14:00:00+00:00",
          "2022-09-23T15:00:00+00:00",
          "2022-09-23T20:00:00+00:00",
          "2022-09-25T23:00:00+00:00",
          "2022-09-26T06:00:00+00:00",
          "2022-09-26T07:00:00+00:00",
          "2022-09-26T11:00:00+00:00",
          "2022-09-26T13:00:00+00:00",
          "2022-09-26T14:00:00+00:00",
          "2022-09-26T15:00:00+00:00",
          "2022-09-26T16:00:00+00:00",
          "2022-09-27T01:00:00+00:00",
          "2022-09-27T06:00:00+00:00",
          "2022-09-27T07:00:00+00:00",
          "2022-09-27T08:00:00+00:00",
          "2022-09-27T09:00:00+00:00",
          "2022-09-27T10:00:00+00:00",
          "2022-09-27T11:00:00+00:00",
          "2022-09-27T12:00:00+00:00",
          "2022-09-27T13:00:00+00:00",
          "2022-09-27T15:00:00+00:00",
          "2022-09-27T16:00:00+00:00",
          "2022-09-27T17:00:00+00:00",
          "2022-09-27T19:00:00+00:00",
          "2022-09-27T22:00:00+00:00",
          "2022-09-27T23:00:00+00:00",
          "2022-09-28T00:00:00+00:00",
          "2022-09-28T01:00:00+00:00",
          "2022-09-28T02:00:00+00:00",
          "2022-09-28T13:00:00+00:00",
          "2022-09-28T14:00:00+00:00",
          "2022-09-28T15:00:00+00:00",
          "2022-09-28T16:00:00+00:00",
          "2022-09-28T17:00:00+00:00",
          "2022-09-28T18:00:00+00:00",
          "2022-09-28T19:00:00+00:00",
          "2022-09-28T21:00:00+00:00",
          "2022-09-28T23:00:00+00:00",
          "2022-09-29T02:00:00+00:00",
          "2022-09-29T03:00:00+00:00",
          "2022-09-29T08:00:00+00:00",
          "2022-09-29T09:00:00+00:00",
          "2022-09-29T10:00:00+00:00",
          "2022-09-29T14:00:00+00:00",
          "2022-09-29T19:00:00+00:00",
          "2022-09-29T20:00:00+00:00",
          "2022-09-30T03:00:00+00:00",
          "2022-09-30T04:00:00+00:00",
          "2022-09-30T07:00:00+00:00",
          "2022-09-30T08:00:00+00:00",
          "2022-09-30T11:00:00+00:00",
          "2022-09-30T12:00:00+00:00",
          "2022-09-30T13:00:00+00:00",
          "2022-09-30T14:00:00+00:00",
          "2022-09-30T15:00:00+00:00",
          "2022-09-30T16:00:00+00:00",
          "2022-09-30T19:00:00+00:00",
          "2022-10-03T00:00:00+00:00",
          "2022-10-03T04:00:00+00:00",
          "2022-10-03T06:00:00+00:00",
          "2022-10-03T07:00:00+00:00",
          "2022-10-03T08:00:00+00:00",
          "2022-10-03T10:00:00+00:00",
          "2022-10-03T11:00:00+00:00",
          "2022-10-03T12:00:00+00:00",
          "2022-10-03T15:00:00+00:00",
          "2022-10-03T17:00:00+00:00",
          "2022-10-03T19:00:00+00:00",
          "2022-10-03T21:00:00+00:00",
          "2022-10-04T02:00:00+00:00",
          "2022-10-04T09:00:00+00:00",
          "2022-10-04T10:00:00+00:00",
          "2022-10-04T11:00:00+00:00",
          "2022-10-04T12:00:00+00:00",
          "2022-10-04T13:00:00+00:00",
          "2022-10-04T14:00:00+00:00",
          "2022-10-04T15:00:00+00:00",
          "2022-10-04T18:00:00+00:00",
          "2022-10-05T01:00:00+00:00",
          "2022-10-05T05:00:00+00:00",
          "2022-10-05T07:00:00+00:00",
          "2022-10-05T08:00:00+00:00",
          "2022-10-05T10:00:00+00:00",
          "2022-10-05T11:00:00+00:00",
          "2022-10-05T12:00:00+00:00",
          "2022-10-05T13:00:00+00:00",
          "2022-10-05T14:00:00+00:00",
          "2022-10-05T15:00:00+00:00",
          "2022-10-05T20:00:00+00:00",
          "2022-10-05T21:00:00+00:00",
          "2022-10-05T22:00:00+00:00",
          "2022-10-06T03:00:00+00:00",
          "2022-10-06T04:00:00+00:00",
          "2022-10-06T06:00:00+00:00",
          "2022-10-06T07:00:00+00:00",
          "2022-10-06T08:00:00+00:00",
          "2022-10-06T09:00:00+00:00",
          "2022-10-06T11:00:00+00:00",
          "2022-10-06T12:00:00+00:00",
          "2022-10-06T13:00:00+00:00",
          "2022-10-06T14:00:00+00:00",
          "2022-10-06T18:00:00+00:00",
          "2022-10-06T19:00:00+00:00",
          "2022-10-07T09:00:00+00:00",
          "2022-10-07T10:00:00+00:00",
          "2022-10-07T11:00:00+00:00",
          "2022-10-07T14:00:00+00:00",
          "2022-10-07T17:00:00+00:00",
          "2022-10-10T00:00:00+00:00",
          "2022-10-10T11:00:00+00:00",
          "2022-10-10T13:00:00+00:00",
          "2022-10-10T15:00:00+00:00",
          "2022-10-10T20:00:00+00:00",
          "2022-10-10T22:00:00+00:00",
          "2022-10-10T23:00:00+00:00",
          "2022-10-11T00:00:00+00:00",
          "2022-10-11T01:00:00+00:00",
          "2022-10-11T02:00:00+00:00",
          "2022-10-11T05:00:00+00:00",
          "2022-10-11T06:00:00+00:00",
          "2022-10-11T07:00:00+00:00",
          "2022-10-11T09:00:00+00:00",
          "2022-10-11T11:00:00+00:00",
          "2022-10-11T12:00:00+00:00",
          "2022-10-11T13:00:00+00:00",
          "2022-10-11T14:00:00+00:00",
          "2022-10-11T15:00:00+00:00",
          "2022-10-11T17:00:00+00:00",
          "2022-10-11T19:00:00+00:00",
          "2022-10-11T20:00:00+00:00",
          "2022-10-11T21:00:00+00:00",
          "2022-10-11T22:00:00+00:00",
          "2022-10-12T00:00:00+00:00",
          "2022-10-12T01:00:00+00:00",
          "2022-10-12T03:00:00+00:00",
          "2022-10-12T04:00:00+00:00",
          "2022-10-12T05:00:00+00:00",
          "2022-10-12T09:00:00+00:00",
          "2022-10-12T10:00:00+00:00",
          "2022-10-12T12:00:00+00:00",
          "2022-10-12T13:00:00+00:00",
          "2022-10-12T14:00:00+00:00",
          "2022-10-12T15:00:00+00:00",
          "2022-10-12T16:00:00+00:00",
          "2022-10-12T20:00:00+00:00",
          "2022-10-12T22:00:00+00:00",
          "2022-10-12T23:00:00+00:00",
          "2022-10-13T01:00:00+00:00",
          "2022-10-13T06:00:00+00:00",
          "2022-10-13T07:00:00+00:00",
          "2022-10-13T09:00:00+00:00",
          "2022-10-13T12:00:00+00:00",
          "2022-10-13T13:00:00+00:00",
          "2022-10-13T15:00:00+00:00",
          "2022-10-13T16:00:00+00:00",
          "2022-10-13T18:00:00+00:00",
          "2022-10-13T20:00:00+00:00",
          "2022-10-13T22:00:00+00:00",
          "2022-10-14T01:00:00+00:00",
          "2022-10-14T06:00:00+00:00",
          "2022-10-14T08:00:00+00:00",
          "2022-10-14T10:00:00+00:00",
          "2022-10-14T11:00:00+00:00",
          "2022-10-14T13:00:00+00:00",
          "2022-10-14T14:00:00+00:00",
          "2022-10-14T15:00:00+00:00",
          "2022-10-14T16:00:00+00:00",
          "2022-10-14T17:00:00+00:00",
          "2022-10-14T19:00:00+00:00",
          "2022-10-16T21:00:00+00:00",
          "2022-10-17T00:00:00+00:00",
          "2022-10-17T02:00:00+00:00",
          "2022-10-17T06:00:00+00:00",
          "2022-10-17T07:00:00+00:00",
          "2022-10-17T08:00:00+00:00",
          "2022-10-17T09:00:00+00:00",
          "2022-10-17T11:00:00+00:00",
          "2022-10-17T12:00:00+00:00",
          "2022-10-17T13:00:00+00:00",
          "2022-10-17T14:00:00+00:00",
          "2022-10-17T15:00:00+00:00",
          "2022-10-17T16:00:00+00:00",
          "2022-10-17T19:00:00+00:00",
          "2022-10-17T20:00:00+00:00",
          "2022-10-17T23:00:00+00:00",
          "2022-10-18T00:00:00+00:00",
          "2022-10-18T02:00:00+00:00",
          "2022-10-18T04:00:00+00:00",
          "2022-10-18T07:00:00+00:00",
          "2022-10-18T11:00:00+00:00",
          "2022-10-18T12:00:00+00:00",
          "2022-10-18T14:00:00+00:00",
          "2022-10-18T16:00:00+00:00",
          "2022-10-18T22:00:00+00:00",
          "2022-10-18T23:00:00+00:00",
          "2022-10-19T00:00:00+00:00",
          "2022-10-19T02:00:00+00:00",
          "2022-10-19T05:00:00+00:00",
          "2022-10-19T06:00:00+00:00",
          "2022-10-19T07:00:00+00:00",
          "2022-10-19T08:00:00+00:00",
          "2022-10-19T09:00:00+00:00",
          "2022-10-19T11:00:00+00:00",
          "2022-10-19T15:00:00+00:00",
          "2022-10-19T16:00:00+00:00",
          "2022-10-19T18:00:00+00:00",
          "2022-10-19T19:00:00+00:00",
          "2022-10-19T22:00:00+00:00",
          "2022-10-19T23:00:00+00:00",
          "2022-10-20T04:00:00+00:00",
          "2022-10-20T05:00:00+00:00",
          "2022-10-20T06:00:00+00:00",
          "2022-10-20T09:00:00+00:00",
          "2022-10-20T10:00:00+00:00",
          "2022-10-20T11:00:00+00:00",
          "2022-10-20T12:00:00+00:00",
          "2022-10-20T13:00:00+00:00",
          "2022-10-20T14:00:00+00:00",
          "2022-10-20T16:00:00+00:00",
          "2022-10-20T17:00:00+00:00",
          "2022-10-20T18:00:00+00:00",
          "2022-10-20T21:00:00+00:00",
          "2022-10-20T22:00:00+00:00",
          "2022-10-20T23:00:00+00:00",
          "2022-10-21T00:00:00+00:00",
          "2022-10-21T01:00:00+00:00",
          "2022-10-21T02:00:00+00:00",
          "2022-10-21T03:00:00+00:00",
          "2022-10-21T04:00:00+00:00",
          "2022-10-21T05:00:00+00:00",
          "2022-10-21T06:00:00+00:00",
          "2022-10-21T07:00:00+00:00",
          "2022-10-21T08:00:00+00:00",
          "2022-10-21T09:00:00+00:00",
          "2022-10-21T10:00:00+00:00",
          "2022-10-21T13:00:00+00:00",
          "2022-10-21T15:00:00+00:00",
          "2022-10-21T16:00:00+00:00",
          "2022-10-21T17:00:00+00:00",
          "2022-10-21T18:00:00+00:00",
          "2022-10-21T19:00:00+00:00",
          "2022-10-23T21:00:00+00:00",
          "2022-10-23T22:00:00+00:00",
          "2022-10-24T00:00:00+00:00",
          "2022-10-24T02:00:00+00:00",
          "2022-10-24T04:00:00+00:00",
          "2022-10-24T05:00:00+00:00",
          "2022-10-24T06:00:00+00:00",
          "2022-10-24T07:00:00+00:00",
          "2022-10-24T09:00:00+00:00",
          "2022-10-24T10:00:00+00:00",
          "2022-10-24T11:00:00+00:00",
          "2022-10-24T12:00:00+00:00",
          "2022-10-24T13:00:00+00:00",
          "2022-10-24T14:00:00+00:00",
          "2022-10-24T17:00:00+00:00",
          "2022-10-24T19:00:00+00:00",
          "2022-10-24T20:00:00+00:00",
          "2022-10-24T22:00:00+00:00",
          "2022-10-24T23:00:00+00:00",
          "2022-10-25T01:00:00+00:00",
          "2022-10-25T04:00:00+00:00",
          "2022-10-25T05:00:00+00:00",
          "2022-10-25T06:00:00+00:00",
          "2022-10-25T07:00:00+00:00",
          "2022-10-25T08:00:00+00:00",
          "2022-10-25T10:00:00+00:00",
          "2022-10-25T11:00:00+00:00",
          "2022-10-25T12:00:00+00:00",
          "2022-10-25T13:00:00+00:00",
          "2022-10-25T14:00:00+00:00",
          "2022-10-25T15:00:00+00:00",
          "2022-10-25T16:00:00+00:00",
          "2022-10-25T20:00:00+00:00",
          "2022-10-25T23:00:00+00:00",
          "2022-10-26T00:00:00+00:00",
          "2022-10-26T03:00:00+00:00",
          "2022-10-26T05:00:00+00:00",
          "2022-10-26T06:00:00+00:00",
          "2022-10-26T07:00:00+00:00",
          "2022-10-26T09:00:00+00:00",
          "2022-10-26T13:00:00+00:00",
          "2022-10-26T14:00:00+00:00",
          "2022-10-26T17:00:00+00:00",
          "2022-10-26T18:00:00+00:00",
          "2022-10-26T21:00:00+00:00",
          "2022-10-26T23:00:00+00:00",
          "2022-10-27T01:00:00+00:00",
          "2022-10-27T04:00:00+00:00",
          "2022-10-27T06:00:00+00:00",
          "2022-10-27T09:00:00+00:00",
          "2022-10-27T11:00:00+00:00",
          "2022-10-27T12:00:00+00:00",
          "2022-10-27T13:00:00+00:00",
          "2022-10-27T14:00:00+00:00",
          "2022-10-27T16:00:00+00:00",
          "2022-10-27T17:00:00+00:00",
          "2022-10-27T18:00:00+00:00",
          "2022-10-27T20:00:00+00:00",
          "2022-10-27T22:00:00+00:00",
          "2022-10-28T00:00:00+00:00",
          "2022-10-28T02:00:00+00:00",
          "2022-10-28T03:00:00+00:00",
          "2022-10-28T05:00:00+00:00",
          "2022-10-28T07:00:00+00:00",
          "2022-10-28T09:00:00+00:00",
          "2022-10-28T10:00:00+00:00",
          "2022-10-28T11:00:00+00:00",
          "2022-10-28T12:00:00+00:00",
          "2022-10-28T13:00:00+00:00",
          "2022-10-28T15:00:00+00:00",
          "2022-10-28T16:00:00+00:00",
          "2022-10-28T17:00:00+00:00",
          "2022-10-30T22:00:00+00:00",
          "2022-10-30T23:00:00+00:00",
          "2022-10-31T03:00:00+00:00",
          "2022-10-31T06:00:00+00:00",
          "2022-10-31T07:00:00+00:00",
          "2022-10-31T10:00:00+00:00",
          "2022-10-31T11:00:00+00:00",
          "2022-10-31T13:00:00+00:00",
          "2022-10-31T14:00:00+00:00",
          "2022-10-31T15:00:00+00:00",
          "2022-10-31T16:00:00+00:00",
          "2022-10-31T17:00:00+00:00",
          "2022-10-31T18:00:00+00:00",
          "2022-10-31T21:00:00+00:00",
          "2022-10-31T23:00:00+00:00",
          "2022-11-01T03:00:00+00:00",
          "2022-11-01T06:00:00+00:00",
          "2022-11-01T07:00:00+00:00",
          "2022-11-01T08:00:00+00:00",
          "2022-11-01T09:00:00+00:00",
          "2022-11-01T12:00:00+00:00",
          "2022-11-01T13:00:00+00:00",
          "2022-11-01T15:00:00+00:00",
          "2022-11-01T18:00:00+00:00",
          "2022-11-01T19:00:00+00:00",
          "2022-11-01T21:00:00+00:00",
          "2022-11-01T22:00:00+00:00",
          "2022-11-02T00:00:00+00:00",
          "2022-11-02T01:00:00+00:00",
          "2022-11-02T03:00:00+00:00",
          "2022-11-02T05:00:00+00:00",
          "2022-11-02T09:00:00+00:00",
          "2022-11-02T10:00:00+00:00",
          "2022-11-02T11:00:00+00:00",
          "2022-11-02T13:00:00+00:00",
          "2022-11-02T15:00:00+00:00",
          "2022-11-02T16:00:00+00:00",
          "2022-11-02T20:00:00+00:00",
          "2022-11-02T21:00:00+00:00",
          "2022-11-02T23:00:00+00:00",
          "2022-11-03T00:00:00+00:00",
          "2022-11-03T02:00:00+00:00",
          "2022-11-03T03:00:00+00:00",
          "2022-11-03T09:00:00+00:00",
          "2022-11-03T10:00:00+00:00",
          "2022-11-03T18:00:00+00:00",
          "2022-11-03T19:00:00+00:00",
          "2022-11-04T03:00:00+00:00",
          "2022-11-04T04:00:00+00:00",
          "2022-11-04T06:00:00+00:00",
          "2022-11-04T08:00:00+00:00",
          "2022-11-04T09:00:00+00:00",
          "2022-11-04T10:00:00+00:00",
          "2022-11-04T11:00:00+00:00",
          "2022-11-04T12:00:00+00:00",
          "2022-11-04T16:00:00+00:00",
          "2022-11-04T19:00:00+00:00",
          "2022-11-04T20:00:00+00:00",
          "2022-11-07T01:00:00+00:00",
          "2022-11-07T02:00:00+00:00",
          "2022-11-07T05:00:00+00:00",
          "2022-11-07T09:00:00+00:00",
          "2022-11-07T10:00:00+00:00",
          "2022-11-07T12:00:00+00:00",
          "2022-11-07T15:00:00+00:00",
          "2022-11-08T02:00:00+00:00",
          "2022-11-08T06:00:00+00:00",
          "2022-11-08T08:00:00+00:00",
          "2022-11-08T09:00:00+00:00",
          "2022-11-08T10:00:00+00:00",
          "2022-11-08T11:00:00+00:00",
          "2022-11-08T12:00:00+00:00",
          "2022-11-08T13:00:00+00:00",
          "2022-11-08T14:00:00+00:00",
          "2022-11-08T15:00:00+00:00",
          "2022-11-08T16:00:00+00:00",
          "2022-11-08T18:00:00+00:00",
          "2022-11-08T19:00:00+00:00",
          "2022-11-08T22:00:00+00:00",
          "2022-11-08T23:00:00+00:00",
          "2022-11-09T00:00:00+00:00",
          "2022-11-09T01:00:00+00:00",
          "2022-11-09T04:00:00+00:00",
          "2022-11-09T07:00:00+00:00",
          "2022-11-09T08:00:00+00:00",
          "2022-11-09T09:00:00+00:00",
          "2022-11-09T11:00:00+00:00",
          "2022-11-09T13:00:00+00:00",
          "2022-11-09T14:00:00+00:00",
          "2022-11-09T15:00:00+00:00",
          "2022-11-09T16:00:00+00:00",
          "2022-11-09T21:00:00+00:00",
          "2022-11-09T22:00:00+00:00",
          "2022-11-10T02:00:00+00:00",
          "2022-11-10T05:00:00+00:00",
          "2022-11-10T07:00:00+00:00",
          "2022-11-10T10:00:00+00:00",
          "2022-11-10T12:00:00+00:00",
          "2022-11-10T13:00:00+00:00",
          "2022-11-10T14:00:00+00:00",
          "2022-11-10T15:00:00+00:00",
          "2022-11-10T16:00:00+00:00",
          "2022-11-10T17:00:00+00:00",
          "2022-11-11T06:00:00+00:00",
          "2022-11-11T07:00:00+00:00",
          "2022-11-11T12:00:00+00:00",
          "2022-11-11T13:00:00+00:00",
          "2022-11-11T14:00:00+00:00",
          "2022-11-11T17:00:00+00:00",
          "2022-11-11T18:00:00+00:00",
          "2022-11-14T06:00:00+00:00",
          "2022-11-14T09:00:00+00:00",
          "2022-11-14T10:00:00+00:00",
          "2022-11-14T11:00:00+00:00",
          "2022-11-14T12:00:00+00:00",
          "2022-11-14T14:00:00+00:00",
          "2022-11-14T15:00:00+00:00",
          "2022-11-14T18:00:00+00:00",
          "2022-11-14T19:00:00+00:00",
          "2022-11-14T22:00:00+00:00",
          "2022-11-14T23:00:00+00:00",
          "2022-11-15T00:00:00+00:00",
          "2022-11-15T01:00:00+00:00",
          "2022-11-15T02:00:00+00:00",
          "2022-11-15T04:00:00+00:00",
          "2022-11-15T05:00:00+00:00",
          "2022-11-15T07:00:00+00:00",
          "2022-11-15T09:00:00+00:00",
          "2022-11-15T10:00:00+00:00",
          "2022-11-15T12:00:00+00:00",
          "2022-11-15T13:00:00+00:00",
          "2022-11-15T14:00:00+00:00",
          "2022-11-15T16:00:00+00:00",
          "2022-11-15T18:00:00+00:00",
          "2022-11-15T19:00:00+00:00",
          "2022-11-15T22:00:00+00:00",
          "2022-11-16T01:00:00+00:00",
          "2022-11-16T04:00:00+00:00",
          "2022-11-16T05:00:00+00:00",
          "2022-11-16T06:00:00+00:00",
          "2022-11-16T08:00:00+00:00",
          "2022-11-16T09:00:00+00:00",
          "2022-11-16T10:00:00+00:00",
          "2022-11-16T11:00:00+00:00",
          "2022-11-16T13:00:00+00:00",
          "2022-11-16T14:00:00+00:00",
          "2022-11-16T21:00:00+00:00"
         ],
         "y": [
          -87.70000000000095,
          -155.4000000000002,
          -199.90000000000236,
          -259.9000000000018,
          -247.5000000000005,
          -268.7999999999999,
          -278.50000000000114,
          -162.80000000000052,
          -349.6000000000035,
          -370.6000000000034,
          -333.4000000000017,
          -321.5000000000014,
          -341.0000000000004,
          -337.3000000000006,
          -340.4999999999993,
          -313.00000000000165,
          -231.40000000000288,
          -267.20000000000425,
          -156.9000000000034,
          -180.20000000000255,
          -182.70000000000115,
          -196.10000000000014,
          -199.99999999999903,
          -243.0999999999994,
          -259.5000000000002,
          -269.8999999999995,
          -286.09999999999906,
          -298.09999999999775,
          -328.3999999999964,
          107.60000000000332,
          104.30000000000288,
          141.30000000000436,
          281.0000000000048,
          328.50000000000404,
          350.5000000000038,
          332.3000000000023,
          316.10000000000167,
          300.70000000000294,
          301.30000000000246,
          340.60000000000235,
          341.20000000000186,
          343.7000000000027,
          313.3000000000034,
          231.7000000000046,
          164.30000000000462,
          226.6000000000065,
          227.40000000000748,
          294.70000000000766,
          298.6000000000064,
          325.5000000000061,
          320.6000000000051,
          322.3000000000051,
          433.00000000000534,
          514.4000000000035,
          735.3000000000052,
          698.0000000000051,
          660.3000000000058,
          640.200000000005,
          704.9000000000049,
          794.1000000000053,
          785.8000000000054,
          802.2000000000063,
          829.6000000000073,
          905.0000000000083,
          935.7000000000085,
          946.3000000000079,
          872.6000000000084,
          870.0000000000081,
          831.5000000000075,
          812.100000000007,
          789.900000000008,
          773.3000000000081,
          766.7000000000071,
          767.1000000000064,
          749.3000000000075,
          745.4000000000063,
          708.6000000000068,
          802.1000000000056,
          838.5000000000082,
          861.2000000000086,
          854.7000000000078,
          841.700000000007,
          820.9000000000073,
          786.4000000000075,
          702.900000000009,
          682.3000000000095,
          694.7000000000085,
          690.3000000000085,
          652.100000000008,
          658.9000000000082,
          774.7000000000095,
          806.9000000000095,
          1008.300000000008,
          1159.30000000001,
          1246.5000000000086,
          1207.4000000000078,
          1188.800000000007,
          1162.3000000000065,
          1119.2000000000062,
          1145.2000000000055,
          1153.0000000000055,
          1161.6000000000067,
          1171.4000000000065,
          1177.5000000000064,
          1178.9000000000067,
          1163.700000000007,
          1153.4000000000062,
          1225.3000000000054,
          1233.900000000004,
          1239.000000000004,
          1193.1000000000038,
          1152.2000000000046,
          1144.6000000000054,
          1064.3000000000056,
          1024.8000000000056,
          983.8000000000058,
          961.8000000000037,
          910.0000000000008,
          848.2,
          827.4999999999999,
          823.5999999999999,
          754.0999999999998,
          762.3000000000002,
          737.2,
          737.2,
          731.1000000000007,
          874.100000000001,
          840.4000000000012,
          839.8999999999993,
          807.8999999999992,
          719.7999999999994,
          875.0999999999998,
          858.9999999999998,
          968.4999999999989,
          954.5999999999989,
          807.9999999999995,
          799.3999999999987,
          765.4999999999989,
          785.3999999999993,
          693.0999999999997,
          678.4999999999995,
          692.9999999999991,
          828.4999999999986,
          838.2,
          812.2000000000007,
          721.8000000000011,
          638.3000000000025,
          870.100000000001,
          915.1000000000003,
          916.3000000000006,
          932.5000000000013,
          983.4000000000017,
          1028.200000000001,
          1040.8000000000031,
          1016.8000000000022,
          1095.5000000000039,
          1116.5000000000039,
          1107.8000000000045,
          1105.3000000000036,
          1105.0000000000027,
          1135.4000000000035,
          1084.7000000000032,
          1061.6000000000008,
          1018.8000000000011,
          1007.4000000000035,
          1004.0000000000034,
          994.100000000003,
          984.2000000000012,
          1089.0000000000014,
          1072.3000000000009,
          1397.6000000000022,
          1480.3000000000022,
          1479.5000000000014,
          1649.2000000000016,
          1766.4000000000028,
          1816.5000000000025,
          1888.3000000000022,
          1871.9000000000015,
          1927.3000000000025,
          2065.6000000000026,
          2046.200000000002,
          2090.7000000000025,
          2081.2000000000025,
          2021.4000000000017,
          1871.2999999999997,
          1849.499999999999,
          1829.2999999999988,
          1867.299999999999,
          1874.9999999999984,
          1908.1999999999982,
          1898.5999999999979,
          1881.999999999998,
          1886.9999999999964,
          1832.199999999999,
          1761.8999999999992,
          1724.8999999999987,
          1688.2999999999988,
          1626.799999999998,
          1697.999999999997,
          1689.1999999999975,
          1655.899999999998,
          2040.099999999999,
          2025.6999999999985,
          2009.8999999999994,
          1990.8999999999987,
          1881.0999999999976,
          1908.1999999999964,
          1992.7999999999965,
          2149.3999999999965,
          2343.499999999996,
          3005.4999999999964,
          3186.099999999996,
          3125.8999999999965,
          3606.999999999996,
          3813.299999999995,
          3801.299999999995,
          4123.599999999997,
          4074.7999999999965,
          4654.899999999995,
          4734.299999999996,
          4837.699999999996,
          4826.099999999995,
          4912.599999999995,
          5279.699999999995,
          5233.799999999995,
          5215.9999999999945,
          5087.599999999995,
          5114.199999999995,
          5216.699999999996,
          5251.099999999995,
          5304.599999999995,
          5292.4999999999945,
          5249.299999999995,
          5175.899999999994,
          5139.799999999994,
          5057.599999999993,
          4952.299999999994,
          4912.899999999993,
          4835.099999999993,
          4842.799999999993,
          4815.199999999992,
          4779.49999999999,
          4812.3999999999905,
          4792.599999999989,
          4685.599999999987,
          4695.699999999986,
          4665.699999999985,
          4748.899999999984,
          4791.499999999984,
          5008.299999999983,
          4887.299999999983,
          4850.899999999982,
          4844.699999999982,
          4961.899999999981,
          5049.499999999981,
          5290.599999999982,
          5470.399999999982,
          5595.799999999985,
          5573.2999999999865,
          5521.299999999987,
          5498.499999999987,
          5449.2999999999865,
          5409.899999999987,
          5362.499999999987,
          5343.099999999987,
          5180.299999999986,
          5088.799999999986,
          5100.6999999999825,
          5101.499999999984,
          5071.299999999985,
          5243.299999999985,
          5428.799999999983,
          5521.799999999984,
          5581.899999999982,
          5574.599999999983,
          5564.299999999983,
          5540.099999999985,
          5473.099999999986,
          5429.4999999999845,
          5388.2999999999865,
          5359.999999999987,
          5339.799999999986,
          5548.799999999987,
          5569.799999999988,
          5533.699999999988,
          5496.499999999986,
          5483.699999999987,
          5469.999999999988,
          5428.999999999988,
          5394.499999999987,
          5294.59999999999,
          5270.79999999999,
          5229.59999999999,
          5123.399999999991,
          5108.799999999991,
          4933.799999999991,
          4922.799999999993,
          4886.999999999994,
          4839.599999999995,
          4835.299999999994,
          4618.399999999995,
          4657.9999999999945,
          4598.199999999993,
          4588.799999999993,
          4570.799999999995,
          4495.699999999995,
          4496.099999999996,
          4493.599999999998,
          4452.0999999999985,
          4411.3,
          4397.599999999999,
          4306.6,
          4310.9000000000015,
          4249.200000000002,
          4249.800000000002,
          4114.000000000003,
          3986.7999999999997,
          3236.800000000001,
          3121.000000000001,
          2917.600000000001,
          2876.600000000001,
          2840.600000000001,
          2809.6000000000004,
          2672.3,
          2747.9,
          2778.500000000001,
          2695.7000000000003,
          2546.9,
          2530.7000000000007,
          2510.3,
          2570.7999999999993,
          2619.8,
          2619.8,
          2579.3999999999996,
          2765.7,
          2833.0999999999995,
          2819.0000000000005,
          2733.3999999999996,
          2988.1999999999975,
          2989.099999999998,
          3133.199999999999,
          3147.299999999998,
          3129.2999999999975,
          3121.999999999997,
          3130.9999999999973,
          3139.2999999999975,
          3053.299999999998,
          3088.8999999999987,
          3016.4999999999973,
          2910.699999999999,
          2894.6999999999994,
          2831.8999999999996,
          3067.3999999999996,
          3044.4,
          3080.6000000000013,
          3054.500000000002,
          3407.3,
          3389.400000000002,
          3374.9000000000024,
          3276.2000000000025,
          3229.800000000003,
          3105.600000000004,
          3046.000000000005,
          3078.400000000006,
          3067.800000000005,
          3035.3000000000056,
          3031.200000000006,
          3054.8000000000075,
          3017.4000000000074,
          2971.400000000007,
          2938.4000000000074,
          2910.200000000009,
          3181.6000000000085,
          3106.0000000000086,
          3079.4000000000087,
          3057.8000000000093,
          3035.400000000009,
          3045.50000000001,
          3050.3000000000084,
          3254.6000000000113,
          3257.300000000011,
          3160.5000000000127,
          3154.5000000000123,
          3161.2000000000116,
          3141.2000000000116,
          3124.4000000000124,
          3084.400000000012,
          3028.2000000000126,
          2887.300000000013,
          2885.100000000014,
          2663.90000000001,
          2831.2000000000094,
          2741.3000000000093,
          2578.9000000000096,
          2827.400000000011,
          3039.500000000012,
          3103.0000000000114,
          3105.500000000011,
          3408.1000000000104,
          3525.90000000001,
          3571.8000000000097,
          3552.3000000000097,
          3530.2000000000116,
          3460.300000000011,
          3436.900000000011,
          3442.9000000000106,
          3445.90000000001,
          3419.7000000000116,
          3399.10000000001,
          3462.50000000001,
          3619.10000000001,
          4039.000000000009,
          4135.200000000011,
          4125.300000000011,
          4050.7000000000107,
          3996.7000000000116,
          3870.4000000000124,
          3856.900000000013,
          4242.300000000016,
          4236.700000000017,
          4377.000000000016,
          4376.100000000017,
          4371.400000000017,
          4242.400000000016,
          4114.600000000017,
          4065.5000000000164,
          3933.7000000000166,
          3929.7000000000176,
          4083.100000000018,
          3985.300000000017,
          3949.5000000000155,
          3850.300000000016,
          3858.800000000015,
          3851.600000000015,
          3905.400000000014,
          3908.8000000000143,
          3986.900000000015,
          4010.100000000015,
          3988.9000000000133,
          4020.1000000000136,
          3983.600000000012,
          3916.5000000000123,
          3855.2000000000126,
          3703.9000000000106,
          3811.9000000000087,
          3895.5000000000086,
          3922.800000000008,
          4036.6000000000085,
          3907.6000000000067,
          3744.100000000006,
          3595.700000000006,
          3580.8000000000075,
          3566.4000000000074,
          3713.200000000009,
          3921.9000000000083,
          3884.700000000009,
          3805.3000000000084,
          3866.8000000000093,
          3853.900000000009,
          3843.50000000001,
          3842.4000000000115,
          3877.2000000000116,
          4030.0000000000123,
          4011.6000000000117,
          4040.2000000000116,
          3930.4000000000106,
          3912.6000000000104,
          3861.4000000000106,
          3810.0000000000114,
          3775.0000000000105,
          3768.3000000000093,
          3756.8000000000084,
          3634.4000000000046,
          3572.0000000000045,
          3498.700000000003,
          3459.3000000000025,
          3324.8000000000025,
          3108.0000000000027,
          3089.0000000000027,
          3065.4000000000037,
          3232.2000000000035,
          3212.300000000002,
          3194.1000000000017,
          3290.000000000002,
          3282.700000000003,
          3361.300000000003,
          3415.2000000000035,
          3422.6000000000017,
          3408.5000000000027,
          3455.300000000003,
          3513.800000000002,
          3469.400000000002,
          3451.300000000002,
          3405.1000000000017,
          3302.7999999999997,
          3265.9,
          3242.5999999999995,
          3210.8999999999987,
          3218.4999999999995,
          3262.1000000000004,
          3143.9000000000024,
          3063.9000000000024,
          3002.5000000000014,
          2981.200000000002,
          2995.5000000000014,
          3010.4000000000015,
          3018.7000000000016,
          2963.7000000000035,
          2849.000000000003,
          2847.100000000003,
          2856.2000000000025,
          2829.700000000002,
          2800.800000000002,
          2786.0000000000023,
          2764.7000000000025,
          2717.7000000000025,
          2694.700000000003,
          2716.000000000005,
          2833.800000000005,
          2818.900000000005,
          2832.0000000000055,
          2860.400000000005,
          2851.3000000000056,
          2773.0000000000077,
          2785.7000000000066,
          2614.4000000000074,
          2546.400000000007,
          2515.5000000000073,
          2488.500000000009,
          2466.0000000000105,
          2735.9000000000124,
          2839.3000000000143,
          3109.5000000000155,
          3115.5000000000136,
          3103.300000000014,
          3083.8000000000125,
          3276.000000000013,
          3185.1000000000126,
          3212.100000000013,
          3221.700000000014,
          3295.100000000015,
          3634.200000000016,
          3620.300000000016,
          3641.3000000000156,
          3589.100000000013,
          3541.8000000000143,
          3538.4000000000137,
          3789.7000000000144,
          3873.100000000015,
          3887.5000000000136,
          3891.500000000013,
          3951.200000000015,
          3935.1000000000136,
          3912.500000000014,
          3907.900000000015,
          3899.7000000000157,
          3961.400000000016,
          3985.300000000016,
          4035.7000000000153,
          3953.0000000000164,
          3942.800000000016,
          3873.7000000000153,
          3704.6000000000163,
          3633.200000000015,
          3661.9000000000146,
          4156.500000000015,
          4238.400000000013,
          4244.500000000014,
          4231.500000000014,
          4178.100000000012,
          4124.900000000012,
          4120.500000000013,
          4092.5000000000136,
          4084.600000000013,
          4064.0000000000114,
          4019.200000000011,
          3986.7000000000094,
          3955.5000000000105,
          3927.5000000000114,
          3903.8000000000106,
          3887.600000000009,
          3869.2000000000085,
          3889.9000000000087,
          3877.6000000000085,
          3774.500000000006,
          3683.0000000000055,
          3720.900000000005,
          4023.7000000000057,
          4101.400000000004,
          4105.900000000005,
          4260.100000000005,
          4296.700000000005,
          4677.000000000003,
          4788.100000000003,
          4776.500000000005,
          4879.700000000004,
          5098.700000000004,
          5058.300000000004,
          5041.400000000004,
          5031.400000000004,
          4998.000000000003,
          4950.000000000004,
          4789.600000000005,
          5007.000000000005,
          5195.900000000005,
          5167.000000000006,
          5089.700000000006,
          5058.600000000006,
          4987.900000000007,
          4977.500000000007,
          4950.600000000009,
          4967.200000000009,
          4922.400000000009,
          4931.700000000008,
          4840.100000000008,
          4756.600000000007,
          4703.000000000007,
          4694.800000000008,
          4713.500000000009,
          4668.70000000001,
          4662.900000000011,
          4527.200000000011,
          4508.200000000011,
          4470.400000000011,
          4397.600000000011,
          4456.90000000001,
          4412.90000000001,
          4377.800000000009,
          4314.00000000001,
          4742.000000000009,
          4740.20000000001,
          4716.400000000011,
          4724.10000000001,
          4689.50000000001,
          5071.900000000009,
          4945.300000000009,
          4968.300000000009,
          4916.20000000001,
          5198.700000000009,
          5170.10000000001,
          5335.100000000009,
          5121.200000000007,
          5139.700000000009,
          5132.600000000009,
          5818.6000000000095,
          6008.200000000011,
          5938.200000000012,
          5974.4000000000115,
          5944.300000000011,
          5910.500000000011,
          6038.900000000011,
          6066.60000000001,
          6122.4000000000115,
          6139.500000000013,
          6139.100000000012,
          6198.900000000012,
          6226.300000000012,
          6181.700000000013,
          6213.4000000000115,
          6285.400000000012,
          6207.7000000000135,
          6180.700000000012,
          6156.400000000012,
          6123.700000000012,
          6060.80000000001,
          6007.50000000001,
          6008.900000000009,
          6033.1000000000095,
          5942.200000000012,
          5813.400000000013,
          5817.000000000014,
          5763.800000000014,
          5742.800000000014,
          5633.600000000013,
          5574.300000000014,
          5546.100000000013,
          5481.300000000012,
          5430.500000000011,
          5375.9000000000115,
          5312.700000000013,
          5287.700000000012,
          5375.700000000012,
          5589.600000000011,
          5420.800000000014,
          5448.000000000014,
          5360.600000000015,
          5419.400000000016,
          5209.700000000017,
          5389.600000000017,
          5579.800000000015,
          5535.700000000014,
          5377.800000000015,
          5869.200000000016,
          5748.700000000015,
          5791.700000000016,
          5849.300000000016,
          5773.200000000016,
          5511.400000000017,
          5577.500000000017,
          5550.300000000017,
          5735.300000000016,
          5844.200000000015,
          6190.0000000000155,
          6289.700000000014,
          6432.000000000015,
          6403.700000000015,
          6363.500000000016,
          6305.900000000018,
          6092.3000000000175,
          6138.300000000017,
          6084.900000000016,
          6092.600000000017,
          6069.8000000000175,
          6023.200000000017,
          6011.700000000016,
          6000.900000000015,
          5988.200000000015,
          5983.700000000016,
          6051.000000000018,
          6030.300000000018,
          6033.000000000017,
          6025.400000000016,
          6108.200000000014,
          6138.400000000013,
          6160.300000000012,
          6335.300000000013,
          6332.100000000013,
          6458.900000000013,
          6457.500000000013,
          6444.200000000013,
          6425.900000000012,
          6489.700000000013,
          6449.200000000013,
          6444.7000000000135,
          6413.400000000012,
          6374.300000000013,
          6376.600000000013,
          6455.400000000012,
          6434.800000000012,
          6457.800000000013,
          6465.200000000014,
          6379.300000000015,
          6431.400000000013,
          6250.000000000011,
          6205.700000000011,
          6160.100000000012,
          6078.900000000013,
          6099.100000000014,
          6024.000000000015,
          5934.7000000000135,
          5859.900000000014,
          5827.400000000014,
          5805.700000000013,
          5779.800000000013,
          5856.300000000013,
          5930.700000000013,
          5935.300000000014,
          6044.100000000016,
          6067.700000000015,
          5880.500000000016,
          5723.900000000019,
          5677.600000000019,
          5654.000000000019,
          5631.500000000019,
          5638.800000000019,
          5599.100000000019,
          5545.600000000019,
          5531.800000000019,
          5524.80000000002,
          5517.200000000019,
          5541.800000000018,
          5462.40000000002,
          5420.40000000002,
          5333.4000000000215,
          5438.800000000022,
          5376.400000000022,
          5576.10000000002,
          5550.400000000021,
          5615.800000000021,
          5696.80000000002,
          5666.400000000021,
          5620.500000000022,
          5787.10000000002,
          5920.600000000019,
          5911.700000000018,
          5922.400000000017,
          5945.300000000014,
          5866.600000000013,
          5861.200000000013,
          5854.500000000014,
          5769.4000000000115,
          5741.500000000011,
          5843.300000000011,
          5845.000000000011,
          5795.400000000012,
          5941.300000000012,
          6048.000000000013,
          6038.900000000013,
          6031.100000000013,
          6133.900000000014,
          6251.800000000014,
          6337.000000000014,
          6329.7000000000135,
          6297.2000000000135,
          6387.7000000000135,
          6376.100000000013,
          6462.7000000000135,
          6640.100000000013,
          6628.00000000001,
          6632.70000000001,
          6590.50000000001,
          6586.80000000001,
          6546.000000000011,
          6478.40000000001,
          6429.800000000008,
          6552.200000000007,
          6558.800000000006,
          6564.400000000006,
          6496.400000000004,
          6530.800000000004,
          6431.400000000002,
          6586.600000000001,
          6498.700000000002,
          6467.500000000002,
          6402.100000000002,
          6369.300000000003,
          6375.800000000003,
          6326.000000000003,
          6283.200000000003,
          6210.800000000002,
          6218.000000000003,
          6220.100000000001,
          6188.9000000000015,
          6170.800000000002,
          6104.200000000002,
          6101.200000000004,
          6035.100000000003,
          6062.500000000003,
          6067.900000000002,
          6418.000000000002,
          6396.600000000002,
          6407.700000000002,
          6386.400000000002,
          6345.500000000001,
          6348.800000000001,
          6331.200000000002,
          6351.300000000002,
          6302.700000000002,
          6218.8,
          6115.500000000002,
          5937.899999999998,
          5820.799999999997,
          5754.299999999997,
          5832.499999999997,
          5770.499999999997,
          5729.999999999997,
          5696.999999999997,
          5669.099999999997,
          5659.199999999996,
          5523.399999999997,
          5950.899999999999,
          6001.599999999997,
          6111.799999999997,
          6565.099999999995,
          6675.999999999996,
          6762.299999999995,
          6802.499999999994,
          6797.099999999994,
          6774.999999999994,
          6693.499999999993,
          6686.999999999993,
          6654.899999999992,
          6559.699999999991,
          6641.39999999999,
          6595.99999999999,
          6541.99999999999,
          6476.199999999987,
          6446.599999999988,
          6456.799999999988,
          6476.69999999999,
          6401.499999999989,
          6345.8999999999905,
          6440.199999999992,
          6422.99999999999,
          6485.3999999999905,
          6517.999999999991,
          6547.499999999991,
          6520.299999999992,
          6494.699999999992,
          6427.599999999992,
          6387.499999999993,
          6314.899999999991,
          6246.299999999992,
          6031.79999999999,
          5963.199999999992,
          6070.09999999999,
          6096.099999999989,
          6120.299999999988,
          6038.999999999986,
          5997.599999999985,
          5963.399999999985,
          5912.199999999985,
          5905.999999999985,
          5904.199999999984,
          5882.099999999984,
          5827.599999999985,
          5916.499999999984,
          6023.799999999985,
          6047.4999999999845,
          6095.299999999985,
          6118.899999999985,
          6111.299999999986,
          6056.299999999987,
          6019.799999999988,
          5989.699999999989,
          6063.49999999999,
          6113.399999999992,
          6071.099999999993,
          6050.499999999994,
          6030.7999999999965,
          6031.199999999995,
          6044.199999999996,
          6008.799999999995,
          5955.999999999995,
          5937.499999999996,
          5929.799999999996,
          5897.4999999999945,
          5861.499999999993,
          5830.099999999993,
          5754.999999999991,
          5717.499999999989,
          5726.499999999989,
          5711.199999999989,
          5684.999999999991,
          5814.199999999991,
          6051.099999999995,
          5994.899999999995,
          6430.699999999997,
          6419.499999999997,
          6400.199999999997,
          6362.999999999995,
          6248.899999999994,
          6171.9999999999945,
          6109.599999999994,
          6076.799999999996,
          6069.699999999996,
          6053.999999999995,
          6058.899999999997,
          5988.2999999999965,
          5938.599999999998,
          5808.899999999999,
          5799.799999999999,
          5548.500000000003,
          5512.400000000002,
          5476.900000000003,
          5452.500000000005,
          5482.300000000005,
          5667.600000000004,
          5720.2000000000035,
          5697.2000000000035,
          5730.200000000004,
          5869.0000000000055,
          5876.400000000005,
          5880.500000000005,
          5818.0000000000055,
          5862.400000000006,
          5796.400000000004,
          5781.200000000004,
          5648.100000000001,
          5610.500000000002,
          5589.200000000001,
          5590.600000000001,
          5567,
          5529.000000000001,
          5522.300000000001,
          5509.800000000001,
          5397.500000000001,
          5324.9000000000015,
          5308.900000000001,
          5245.5,
          5171.999999999999,
          5162.599999999999,
          5093.799999999999,
          5076.599999999999,
          4999.700000000001,
          4972.600000000001,
          4890.099999999999,
          4909.399999999999,
          4991.499999999999,
          5000.699999999999,
          4993.599999999999,
          4956.8,
          4968,
          4967.9,
          4930.9,
          4868.7,
          4808.499999999998,
          4773.299999999997,
          4740.899999999994,
          4720.799999999994,
          4691.499999999993,
          4730.299999999994,
          4703.699999999993,
          4677.099999999995,
          4655.099999999995,
          4598.699999999993,
          4489.999999999995,
          4404.299999999995,
          4411.299999999994,
          4403.099999999995,
          4367.399999999995,
          4353.099999999995,
          4191.599999999995,
          4221.899999999994,
          4289.199999999994,
          4342.199999999994,
          4360.299999999994,
          4521.599999999997,
          4548.499999999999,
          4455.5999999999985,
          4378.2999999999965,
          4343.599999999996,
          4258.099999999998,
          4254.699999999999,
          4211.099999999999,
          4163.999999999999,
          3935.7,
          3895.9999999999995,
          3825.7999999999993,
          3760.0999999999995,
          3726.3,
          3690.7000000000003,
          3629.7000000000003,
          3731.300000000002,
          3681.800000000002,
          3628.0000000000027,
          3600.2000000000025,
          3543.6000000000026,
          3515.9000000000033,
          3417.200000000003,
          3470.400000000003,
          3338.9000000000037,
          3142.2000000000035,
          3108.100000000003,
          3084.300000000003,
          3095.200000000005,
          3231.0000000000064,
          3192.2000000000075,
          3167.900000000006,
          3081.500000000004,
          2934.3000000000025,
          2900.0000000000036,
          2794.7000000000003,
          2859.3000000000015,
          2870.500000000001,
          2834.500000000001,
          2825.000000000001,
          2937.4,
          2866.8999999999987,
          2829.299999999999,
          2803.199999999999,
          2726.8999999999996,
          2526.1,
          2482.199999999999,
          2458.8999999999974,
          2463.8999999999974,
          2792.899999999997,
          2805.4999999999973,
          3371.699999999996,
          3346.799999999996,
          3456.1999999999953,
          3743.8999999999933,
          4045.2999999999943,
          4034.6999999999957,
          3915.7999999999975,
          3811.999999999997,
          3805.9999999999964,
          3795.9999999999955,
          3783.499999999996,
          3776.899999999997,
          3792.8999999999974,
          3791.999999999997,
          3826.799999999996,
          3885.799999999996,
          3868.2999999999956,
          3813.2999999999975,
          3767.999999999996,
          3588.7999999999956,
          3549.999999999996,
          3522.6999999999957,
          3474.8999999999955,
          3488.899999999994,
          3487.1999999999944,
          3477.499999999995,
          3588.3999999999955,
          3573.899999999995,
          3604.0999999999954,
          3548.299999999996,
          3488.7999999999984,
          3498,
          3482.6000000000004,
          3462.000000000001,
          3446.2000000000016,
          3423.7000000000007,
          3457.4000000000015,
          3496.4000000000015,
          3481.1000000000035,
          3443.8000000000034,
          3436.2000000000035,
          3446.1000000000026,
          3530.000000000002,
          3562.7000000000016,
          3575.2000000000035,
          3527.4000000000033,
          3666.600000000005,
          3679.9000000000055,
          3663.3000000000056,
          3748.2000000000044,
          3686.900000000004,
          3808.6000000000054,
          3872.0000000000055,
          3847.3000000000056,
          3802.7000000000066,
          3806.200000000006,
          3827.4000000000065,
          3827.9000000000074,
          3868.500000000008,
          3973.200000000008,
          3997.400000000008,
          4019.100000000008,
          4002.800000000008,
          3907.200000000008,
          3931.2000000000075,
          3912.500000000008,
          3722.900000000008,
          3477.800000000007,
          3378.9000000000046,
          3384.6000000000063,
          3357.0000000000077,
          3339.900000000007,
          3313.700000000007,
          3266.100000000007,
          3366.3000000000084,
          3390.000000000008,
          3398.4000000000087,
          3387.400000000008,
          3350.300000000007,
          3326.200000000009,
          3234.100000000008,
          3180.1000000000076,
          3314.1000000000067,
          3326.4000000000074,
          3319.5000000000064,
          3334.500000000007,
          3336.0000000000077,
          3331.000000000008,
          3299.500000000008,
          3323.7000000000066,
          3386.900000000008,
          3442.1000000000076,
          3601.000000000008,
          3519.9000000000096,
          3500.500000000009,
          3455.1000000000085,
          3372.100000000007,
          3381.5000000000064,
          3388.1000000000063,
          3340.5000000000077,
          3326.400000000006,
          3311.6000000000063,
          3311.7000000000066,
          3291.100000000005,
          3315.100000000003,
          3204.2000000000035,
          3214.600000000005,
          3203.8000000000047,
          3156.1000000000076,
          3271.200000000008,
          3200.200000000008,
          3256.700000000008,
          3200.7000000000075,
          3221.1000000000067,
          3478.9000000000083,
          3844.8000000000093,
          3976.400000000012,
          3967.2000000000116,
          4260.6000000000095,
          4237.600000000008,
          4159.800000000006,
          4226.200000000005,
          4300.800000000002,
          4218.800000000003,
          4207.100000000004,
          4180.5000000000055,
          4263.900000000006,
          4281.5000000000055,
          4266.500000000006,
          4238.900000000008,
          4235.500000000008,
          4230.900000000008,
          4227.700000000004,
          4296.900000000003,
          4321.000000000004,
          4298.800000000006,
          4300.200000000006,
          4300.400000000008,
          4448.000000000006,
          4489.3000000000075,
          4578.600000000006,
          4647.0000000000055,
          4645.000000000006,
          4730.900000000004,
          4713.300000000005,
          4708.600000000005,
          4728.0000000000055,
          4728.900000000004,
          4837.500000000004,
          5053.500000000005,
          5146.0000000000055,
          5397.600000000006,
          5365.600000000005,
          5314.100000000005,
          5304.400000000006,
          5497.900000000003,
          5478.300000000004,
          5598.900000000004,
          5706.100000000001,
          5819.399999999999,
          5789.499999999999,
          5749.399999999999,
          5667.499999999999,
          5666.299999999997,
          5668.299999999997,
          5620.0999999999985,
          5652.899999999999,
          5648.599999999999,
          5653.8,
          5655.500000000001,
          5842.400000000001,
          5834.699999999999,
          5973.900000000001,
          5946.500000000001,
          5921.500000000002,
          5876.199999999999,
          6104.199999999998,
          6286.499999999999,
          6306.399999999998,
          6471.999999999995,
          6211.899999999994,
          6203.9999999999945,
          6153.1999999999925,
          6316.499999999991,
          6417.899999999989,
          6474.699999999989,
          6517.299999999988,
          6614.299999999988,
          6635.699999999988,
          6598.099999999988,
          6563.699999999986,
          6552.799999999986,
          6504.9999999999845,
          6437.199999999984,
          6334.499999999982,
          6351.1999999999825,
          6444.899999999983,
          6433.999999999983,
          6442.999999999982,
          6512.499999999978,
          6475.0999999999785,
          6558.899999999979,
          6589.499999999978,
          6523.0999999999785,
          6533.8999999999805,
          6525.99999999998,
          6492.3999999999805,
          6450.799999999981,
          6433.799999999979,
          6307.099999999979,
          6288.199999999979,
          6298.999999999978,
          6203.999999999978,
          5989.299999999977,
          5963.599999999977,
          5969.999999999977,
          5951.699999999977,
          5959.599999999978,
          5934.699999999979,
          5877.0999999999785,
          5844.49999999998,
          5806.699999999982,
          5736.399999999981,
          5721.699999999981,
          5614.999999999981,
          5600.19999999998,
          5512.499999999979,
          5450.0999999999785,
          5406.89999999998,
          5394.29999999998,
          5325.09999999998,
          5265.699999999979,
          5247.199999999979,
          5247.69999999998,
          5218.699999999979,
          5209.399999999979,
          5233.3999999999805,
          5214.6999999999825,
          5206.299999999983,
          5175.6999999999825,
          5158.6999999999825,
          5138.299999999985,
          5101.599999999987,
          5053.099999999987,
          5027.799999999986,
          4971.5999999999885,
          4926.7999999999865,
          4900.199999999986,
          4910.499999999987,
          4888.299999999987,
          4889.499999999987,
          4851.999999999985,
          4834.799999999986,
          4826.099999999987,
          4798.499999999987,
          4882.499999999988,
          5000.299999999989,
          5171.19999999999,
          5371.39999999999,
          5287.899999999989,
          5771.399999999988,
          5746.399999999987,
          5684.799999999987,
          5592.499999999986,
          5505.2999999999865,
          5537.399999999986,
          5478.999999999985,
          5457.299999999984,
          5382.099999999983,
          5390.699999999984,
          5387.199999999984,
          5335.199999999984,
          5334.999999999984,
          5378.799999999984,
          5501.199999999984,
          5470.599999999984,
          5481.099999999984,
          5478.899999999984,
          5410.899999999982,
          5389.499999999982,
          5318.69999999998,
          5292.999999999979,
          5217.799999999979,
          5200.299999999981,
          5247.899999999981,
          5103.6999999999825,
          5189.999999999982,
          5218.599999999982,
          5218.899999999982,
          5358.59999999998,
          5403.99999999998,
          5436.999999999979,
          5403.3999999999805,
          5373.3999999999805,
          5353.199999999982,
          5274.699999999983,
          5098.999999999984,
          5245.699999999985,
          5204.299999999985,
          5170.299999999982,
          5123.899999999981,
          5100.499999999982,
          5081.899999999982,
          5056.099999999982,
          5117.899999999984,
          5110.899999999983,
          5076.599999999983,
          5016.899999999985,
          4997.299999999986,
          4928.199999999986,
          4933.799999999986,
          4820.999999999986,
          4753.599999999987,
          4594.899999999986,
          4544.899999999987,
          4484.899999999987,
          4504.599999999989,
          4372.599999999991,
          4283.99999999999,
          4139.099999999989,
          4320.19999999999,
          4315.199999999991,
          4246.699999999993,
          4147.299999999993,
          4140.599999999993,
          3992.6999999999935,
          3917.699999999993,
          3818.199999999993,
          3769.399999999994,
          3748.699999999994,
          3705.899999999993,
          3673.799999999993,
          3586.699999999999,
          3865.1999999999994,
          3843.1000000000013,
          3854.900000000001,
          3823.3000000000006,
          3812.1000000000004,
          4345.100000000001,
          4598.000000000001,
          4791.700000000001,
          5159.000000000001,
          5248.200000000002,
          5247.200000000002,
          5657.400000000002,
          5872.800000000004,
          5825.300000000005,
          5722.500000000003,
          5680.900000000002,
          5678.300000000003,
          5699.500000000003,
          5701.200000000003,
          5703.200000000003,
          5689.000000000003,
          5620.100000000002,
          5584.9000000000015,
          5556.4000000000015,
          5549.600000000001,
          5608.9000000000015,
          5755.400000000002,
          5744.200000000003,
          5911.000000000003,
          5896.400000000002,
          5885.000000000002,
          5856.600000000001,
          5852.599999999999,
          6061.599999999999,
          6121.4,
          6095.299999999999,
          6070.2,
          6073.299999999999,
          6037.999999999999,
          6010.199999999999,
          6044.399999999999,
          6000.399999999999,
          5981.499999999999,
          5953.7,
          5881.4000000000015,
          5860.799999999999,
          5850.399999999998,
          5748.499999999996,
          5716.099999999998,
          5648.899999999998,
          5557.5999999999985,
          5481.1,
          5349.900000000002,
          5372.300000000003,
          5330.000000000003,
          5343.500000000003,
          5390.900000000004,
          5359.500000000005,
          5329.800000000006,
          5345.0000000000055,
          5275.100000000006,
          5105.700000000007,
          5078.100000000008,
          5037.700000000008,
          5007.200000000008,
          5004.100000000008,
          5074.800000000007,
          5216.400000000006,
          5219.800000000006,
          5305.7000000000035,
          5247.7000000000035,
          5269.2000000000035,
          5262.800000000004,
          5146.300000000006,
          5039.700000000007,
          5021.400000000007,
          4834.700000000006,
          4874.600000000007,
          4849.800000000004,
          4945.7000000000035,
          4997.500000000003,
          5058.900000000004,
          5033.100000000003,
          5022.900000000003,
          5022.800000000003,
          4917.200000000003,
          4957.800000000002,
          4919.7,
          4764.100000000002,
          4855.800000000002,
          4941.800000000003,
          5008.900000000003,
          4942.600000000002,
          4928.400000000002,
          4905.600000000003,
          4889.400000000002,
          4805.600000000002,
          4763.500000000002,
          4747.4000000000015,
          4738.600000000001,
          4680.5,
          4560.700000000002,
          4541.200000000002,
          4477.000000000001,
          4444.3,
          4449,
          4443.4,
          4389.299999999999,
          4459.299999999999,
          4337.500000000002,
          4481.400000000003,
          4617.800000000002,
          4574.700000000002,
          4557.500000000002,
          4572.700000000002,
          4644.300000000001,
          4674.100000000001,
          4564.500000000001,
          4599.700000000001,
          4649.1,
          4587.199999999999,
          4572.799999999998,
          4577.199999999998,
          4476.099999999998,
          4437.899999999997,
          4416.799999999997,
          4402.7999999999965,
          4364.099999999996,
          4335.099999999993,
          4306.399999999992,
          4282.79999999999,
          4248.5999999999885,
          4280.599999999985,
          4392.199999999985,
          4364.999999999984,
          4379.8999999999805,
          4487.799999999979,
          4481.89999999998,
          4525.39999999998,
          4525.599999999978,
          4516.299999999977,
          4447.499999999977,
          4322.699999999979,
          4316.299999999979,
          4306.999999999979,
          4242.299999999977,
          3991.5999999999776,
          4079.5999999999804,
          4417.29999999998,
          4407.199999999981,
          4398.49999999998,
          4356.099999999982,
          4684.199999999981,
          5584.199999999981,
          5562.79999999998,
          5569.69999999998,
          5538.499999999982,
          5406.999999999981,
          5376.799999999981,
          5358.799999999981,
          5201.59999999998,
          5169.8999999999805,
          5093.999999999981,
          5649.89999999998,
          5616.19999999998,
          5550.099999999979,
          5199.699999999979,
          5177.299999999981,
          5108.79999999998,
          5163.69999999998,
          4707.299999999979,
          4537.29999999998,
          4522.69999999998,
          4462.199999999981,
          5322.599999999979,
          5573.999999999979,
          6046.199999999977,
          6077.999999999976,
          6025.699999999975,
          6097.199999999975,
          6230.4999999999745,
          6735.1999999999725,
          6832.299999999973,
          6766.499999999973,
          6899.099999999973,
          6857.499999999973,
          6880.999999999971,
          6870.599999999973,
          6849.599999999974,
          6790.199999999974,
          6734.199999999976,
          6712.099999999978,
          6688.099999999977,
          6605.999999999975,
          6594.399999999975,
          6565.799999999975,
          6534.299999999975,
          6464.599999999976,
          6291.799999999977,
          6231.399999999977,
          6156.199999999979,
          5935.599999999979,
          5895.299999999978,
          5862.499999999976,
          5805.699999999976,
          5701.799999999976,
          5683.499999999976,
          5559.799999999976,
          5145.099999999977,
          4866.399999999978,
          4795.399999999978,
          4801.799999999978,
          4780.799999999979,
          4588.599999999981,
          4647.999999999982,
          4529.899999999984,
          4512.299999999986,
          4723.899999999983,
          4834.199999999982,
          5982.399999999981,
          6614.799999999981,
          6564.8999999999805,
          6507.099999999979,
          6493.999999999979,
          6471.5999999999785,
          6327.399999999978,
          6676.299999999977,
          7966.199999999978,
          8004.599999999977,
          7938.099999999978,
          7932.699999999977,
          7811.499999999977,
          7798.199999999978,
          7781.799999999977,
          7780.599999999978,
          7746.399999999978,
          7726.699999999977,
          7807.699999999978,
          7835.899999999979,
          7901.099999999979,
          7873.299999999977,
          7856.099999999977,
          7844.199999999977,
          7811.199999999977,
          7747.999999999977,
          7770.599999999977,
          7837.199999999976,
          7881.599999999976,
          7927.999999999975,
          7789.599999999977,
          7736.999999999976,
          7702.299999999978,
          7621.299999999976,
          7704.499999999975,
          7816.199999999977,
          7895.599999999976,
          7927.599999999976,
          7941.499999999976,
          7883.599999999977,
          7871.299999999977,
          7887.2999999999765,
          7871.399999999976,
          7879.999999999975,
          7857.599999999975,
          7975.399999999974,
          7892.799999999974,
          8041.999999999973,
          7989.199999999973,
          8241.399999999974,
          8557.099999999975,
          8806.499999999978,
          8714.799999999981,
          8727.599999999982,
          8719.199999999983,
          8659.699999999983,
          8598.59999999998,
          8558.799999999981,
          8486.899999999981,
          8422.899999999981,
          8392.899999999983,
          8342.699999999983,
          8374.599999999982,
          8310.299999999983,
          8430.499999999982,
          8654.399999999981,
          8792.99999999998,
          8927.799999999981,
          8951.999999999982,
          9050.799999999981,
          9065.39999999998,
          9020.39999999998,
          8950.599999999977,
          8875.399999999976,
          8817.399999999974,
          8816.399999999972,
          8777.699999999973,
          8767.299999999974,
          8749.499999999975,
          8717.499999999975,
          8623.599999999975,
          8560.799999999976,
          8530.599999999973,
          8503.39999999997,
          8511.09999999997,
          8436.499999999969,
          8454.69999999997,
          8390.19999999997,
          8327.29999999997,
          8831.09999999997,
          8847.699999999973,
          8852.999999999975,
          8619.499999999975,
          8335.499999999975,
          8230.499999999973,
          8529.99999999997,
          8471.79999999997,
          8375.099999999971,
          8097.29999999997,
          8061.299999999969,
          8010.29999999997,
          7981.299999999971,
          7948.8999999999705,
          7957.8999999999705,
          7954.699999999971,
          8335.799999999968,
          8563.199999999966,
          8981.899999999965,
          9211.899999999965,
          9197.899999999965,
          9108.599999999966,
          9175.399999999967,
          9201.099999999966,
          9187.099999999966,
          9171.799999999965,
          9135.499999999964,
          9144.999999999964,
          9153.299999999965,
          9025.699999999964,
          8776.999999999965,
          8768.299999999965,
          8755.099999999964,
          8608.199999999966,
          8793.899999999965,
          8763.699999999964,
          8538.799999999963,
          8465.399999999963,
          8375.899999999963,
          8203.69999999996,
          8189.6999999999625,
          7972.799999999962,
          7760.199999999963,
          7600.699999999964,
          7539.199999999963,
          7486.599999999964,
          7417.999999999963,
          7365.699999999963,
          7589.099999999964,
          7665.299999999964,
          7611.699999999963,
          7598.299999999964,
          7656.6999999999625,
          7855.999999999964,
          7923.999999999966,
          7961.999999999966,
          7867.699999999967,
          7939.199999999967,
          7994.299999999967,
          8013.999999999967,
          7985.199999999967,
          7890.399999999968,
          7932.999999999968,
          8197.59999999997,
          8208.399999999969,
          8246.399999999969,
          8231.09999999997,
          8202.39999999997,
          8153.999999999973,
          8119.999999999972,
          8079.199999999972,
          8021.399999999972,
          7925.599999999972,
          7833.999999999973,
          7768.299999999973,
          7759.799999999973,
          7726.699999999973,
          7709.299999999974,
          7768.899999999972,
          7786.999999999971,
          7750.199999999971,
          7740.599999999971,
          7726.3999999999705,
          7714.59999999997,
          7699.99999999997,
          7668.299999999969,
          7605.89999999997,
          7490.79999999997,
          7449.09999999997,
          7284.29999999997,
          7115.099999999969,
          6888.899999999968,
          6704.3999999999705,
          6429.799999999972,
          6340.699999999971,
          6171.8999999999705,
          6148.899999999971,
          6146.099999999972,
          5829.099999999971,
          5767.899999999971,
          5747.999999999972,
          5560.19999999997,
          5365.09999999997,
          5284.59999999997,
          5073.69999999997,
          5012.799999999969,
          4963.799999999969,
          4865.499999999968,
          4819.599999999968,
          4787.59999999997,
          4702.39999999997,
          4664.79999999997,
          4581.799999999969,
          4545.099999999969,
          4274.699999999972,
          3462.099999999973,
          3507.0999999999735,
          3388.9999999999727,
          3366.5999999999726,
          3240.0999999999713,
          3257.7999999999715,
          3160.599999999972,
          3126.2999999999734,
          3097.999999999973,
          3035.1999999999725,
          3072.0999999999744,
          3012.5999999999744,
          2985.899999999975,
          3010.8999999999746,
          2943.199999999975,
          2906.1999999999744,
          2944.3999999999737,
          2931.2999999999747,
          2832.2999999999747,
          2741.199999999975,
          2495.299999999976,
          2408.6999999999766,
          2406.099999999977,
          2398.4999999999777,
          2369.7999999999774,
          2529.9999999999764,
          2428.599999999976,
          2399.499999999976,
          2355.899999999976,
          2307.5999999999744,
          2356.7999999999724,
          2485.799999999974,
          2572.0999999999744,
          2528.6999999999744,
          2575.6999999999753,
          2585.8999999999755,
          2527.4999999999754,
          2500.2999999999765,
          2429.5999999999776,
          2386.6999999999775,
          2375.4999999999773,
          2416.799999999977,
          2602.3999999999774,
          2582.199999999977,
          2613.7999999999774,
          2692.699999999979,
          2694.4999999999773,
          2680.2999999999774,
          2640.199999999976,
          2619.8999999999764,
          2659.2999999999743,
          2671.699999999974,
          2645.3999999999746,
          2539.7999999999756,
          2613.799999999975,
          2688.299999999977,
          2669.999999999977,
          2552.7999999999774,
          2547.5999999999767,
          2446.399999999978,
          2647.6999999999784,
          2617.3999999999787,
          2783.999999999978,
          2733.599999999979,
          2658.899999999979,
          2553.3999999999787,
          2609.799999999978,
          2718.7999999999784,
          2717.199999999979,
          2700.7999999999784,
          2679.9999999999764,
          2632.2999999999747,
          2531.199999999974,
          2520.899999999974,
          2478.699999999973,
          2430.7999999999734,
          2433.399999999973,
          2492.9999999999723,
          2551.6999999999725,
          2746.3999999999737,
          2713.699999999974,
          3272.599999999974,
          3279.499999999975,
          3248.9999999999764,
          3304.0999999999754,
          3336.8999999999746,
          3354.699999999975,
          3777.1999999999744,
          4001.799999999975,
          4032.8999999999755,
          4019.299999999975,
          4170.799999999974,
          4133.799999999974,
          4111.399999999973,
          4071.499999999974,
          4021.199999999973,
          4089.099999999973,
          4051.6999999999734,
          4056.4999999999736,
          4037.9999999999736,
          4082.599999999975,
          4089.399999999975,
          3995.9999999999754,
          3929.7999999999774,
          3917.5999999999776,
          3867.299999999978,
          3854.599999999979,
          4077.399999999981,
          4200.999999999982,
          4452.799999999983,
          4528.799999999984,
          4521.999999999984,
          4615.599999999983,
          4682.099999999985,
          4668.599999999985,
          4650.699999999988,
          4605.599999999988,
          4637.099999999988,
          4664.999999999988,
          4685.199999999988,
          4670.599999999988,
          4685.499999999989,
          4753.299999999988,
          4708.699999999987,
          4945.799999999989,
          5025.299999999988,
          5341.999999999991,
          5534.599999999991,
          5527.3999999999905,
          5589.299999999988,
          5943.099999999986,
          6073.399999999985,
          6078.199999999984,
          6172.4999999999845,
          6297.899999999984,
          6284.699999999984,
          6277.099999999985,
          6247.899999999984,
          6242.599999999985,
          6226.599999999986,
          6195.199999999985,
          6176.599999999984,
          6084.899999999985,
          6058.199999999985,
          6199.099999999986,
          6150.199999999985,
          6095.9999999999845,
          6211.099999999985,
          5732.599999999987,
          5704.099999999987,
          5588.199999999987,
          5408.199999999989,
          5398.19999999999,
          5342.799999999991,
          5371.299999999989,
          5375.299999999989,
          5342.599999999989,
          5273.099999999989,
          5240.89999999999,
          5189.89999999999,
          5323.5999999999885,
          5302.199999999988,
          5140.299999999988,
          5019.699999999989,
          4587.999999999989,
          4562.399999999989,
          4356.199999999988,
          4285.299999999987,
          4536.499999999987,
          4704.399999999988,
          4727.999999999987,
          4906.499999999986,
          4679.099999999988,
          4638.399999999988,
          4926.399999999988,
          5182.499999999985,
          5578.199999999985,
          5532.399999999986,
          5682.099999999988,
          5708.999999999988,
          5613.799999999988,
          5586.699999999989,
          5594.199999999989,
          5583.999999999989,
          5554.99999999999,
          5620.099999999991,
          5528.599999999991,
          5537.899999999993,
          5528.499999999994,
          5388.399999999996,
          5060.299999999998,
          4929.799999999998,
          4606.499999999998,
          4573.999999999998,
          4597.5999999999985,
          4590.599999999999,
          4592.299999999999,
          4659.799999999999,
          4647.599999999999,
          4560.9,
          4502.700000000001,
          4533.600000000001,
          4443.300000000003,
          4457.200000000003,
          4366.600000000003,
          4340.400000000003,
          4311.300000000004,
          4156.300000000006,
          4114.5000000000055,
          4111.100000000006,
          4074.1000000000054,
          3937.600000000006,
          3919.3000000000056,
          3838.1000000000067,
          3812.6000000000076,
          3792.400000000008,
          3637.100000000005,
          3653.9000000000037,
          3598.700000000004,
          3571.0000000000045,
          3574.2000000000044,
          3497.500000000006,
          3462.7000000000044
         ]
        }
       ],
       "layout": {
        "font": {
         "color": "#3d825f",
         "size": 10
        },
        "height": 400,
        "margin": {
         "b": 10,
         "l": 15,
         "r": 15
        },
        "paper_bgcolor": "#1e1e1e",
        "plot_bgcolor": "#1e1e1e",
        "template": {
         "data": {
          "bar": [
           {
            "error_x": {
             "color": "#2a3f5f"
            },
            "error_y": {
             "color": "#2a3f5f"
            },
            "marker": {
             "line": {
              "color": "#E5ECF6",
              "width": 0.5
             },
             "pattern": {
              "fillmode": "overlay",
              "size": 10,
              "solidity": 0.2
             }
            },
            "type": "bar"
           }
          ],
          "barpolar": [
           {
            "marker": {
             "line": {
              "color": "#E5ECF6",
              "width": 0.5
             },
             "pattern": {
              "fillmode": "overlay",
              "size": 10,
              "solidity": 0.2
             }
            },
            "type": "barpolar"
           }
          ],
          "carpet": [
           {
            "aaxis": {
             "endlinecolor": "#2a3f5f",
             "gridcolor": "white",
             "linecolor": "white",
             "minorgridcolor": "white",
             "startlinecolor": "#2a3f5f"
            },
            "baxis": {
             "endlinecolor": "#2a3f5f",
             "gridcolor": "white",
             "linecolor": "white",
             "minorgridcolor": "white",
             "startlinecolor": "#2a3f5f"
            },
            "type": "carpet"
           }
          ],
          "choropleth": [
           {
            "colorbar": {
             "outlinewidth": 0,
             "ticks": ""
            },
            "type": "choropleth"
           }
          ],
          "contour": [
           {
            "colorbar": {
             "outlinewidth": 0,
             "ticks": ""
            },
            "colorscale": [
             [
              0,
              "#0d0887"
             ],
             [
              0.1111111111111111,
              "#46039f"
             ],
             [
              0.2222222222222222,
              "#7201a8"
             ],
             [
              0.3333333333333333,
              "#9c179e"
             ],
             [
              0.4444444444444444,
              "#bd3786"
             ],
             [
              0.5555555555555556,
              "#d8576b"
             ],
             [
              0.6666666666666666,
              "#ed7953"
             ],
             [
              0.7777777777777778,
              "#fb9f3a"
             ],
             [
              0.8888888888888888,
              "#fdca26"
             ],
             [
              1,
              "#f0f921"
             ]
            ],
            "type": "contour"
           }
          ],
          "contourcarpet": [
           {
            "colorbar": {
             "outlinewidth": 0,
             "ticks": ""
            },
            "type": "contourcarpet"
           }
          ],
          "heatmap": [
           {
            "colorbar": {
             "outlinewidth": 0,
             "ticks": ""
            },
            "colorscale": [
             [
              0,
              "#0d0887"
             ],
             [
              0.1111111111111111,
              "#46039f"
             ],
             [
              0.2222222222222222,
              "#7201a8"
             ],
             [
              0.3333333333333333,
              "#9c179e"
             ],
             [
              0.4444444444444444,
              "#bd3786"
             ],
             [
              0.5555555555555556,
              "#d8576b"
             ],
             [
              0.6666666666666666,
              "#ed7953"
             ],
             [
              0.7777777777777778,
              "#fb9f3a"
             ],
             [
              0.8888888888888888,
              "#fdca26"
             ],
             [
              1,
              "#f0f921"
             ]
            ],
            "type": "heatmap"
           }
          ],
          "heatmapgl": [
           {
            "colorbar": {
             "outlinewidth": 0,
             "ticks": ""
            },
            "colorscale": [
             [
              0,
              "#0d0887"
             ],
             [
              0.1111111111111111,
              "#46039f"
             ],
             [
              0.2222222222222222,
              "#7201a8"
             ],
             [
              0.3333333333333333,
              "#9c179e"
             ],
             [
              0.4444444444444444,
              "#bd3786"
             ],
             [
              0.5555555555555556,
              "#d8576b"
             ],
             [
              0.6666666666666666,
              "#ed7953"
             ],
             [
              0.7777777777777778,
              "#fb9f3a"
             ],
             [
              0.8888888888888888,
              "#fdca26"
             ],
             [
              1,
              "#f0f921"
             ]
            ],
            "type": "heatmapgl"
           }
          ],
          "histogram": [
           {
            "marker": {
             "pattern": {
              "fillmode": "overlay",
              "size": 10,
              "solidity": 0.2
             }
            },
            "type": "histogram"
           }
          ],
          "histogram2d": [
           {
            "colorbar": {
             "outlinewidth": 0,
             "ticks": ""
            },
            "colorscale": [
             [
              0,
              "#0d0887"
             ],
             [
              0.1111111111111111,
              "#46039f"
             ],
             [
              0.2222222222222222,
              "#7201a8"
             ],
             [
              0.3333333333333333,
              "#9c179e"
             ],
             [
              0.4444444444444444,
              "#bd3786"
             ],
             [
              0.5555555555555556,
              "#d8576b"
             ],
             [
              0.6666666666666666,
              "#ed7953"
             ],
             [
              0.7777777777777778,
              "#fb9f3a"
             ],
             [
              0.8888888888888888,
              "#fdca26"
             ],
             [
              1,
              "#f0f921"
             ]
            ],
            "type": "histogram2d"
           }
          ],
          "histogram2dcontour": [
           {
            "colorbar": {
             "outlinewidth": 0,
             "ticks": ""
            },
            "colorscale": [
             [
              0,
              "#0d0887"
             ],
             [
              0.1111111111111111,
              "#46039f"
             ],
             [
              0.2222222222222222,
              "#7201a8"
             ],
             [
              0.3333333333333333,
              "#9c179e"
             ],
             [
              0.4444444444444444,
              "#bd3786"
             ],
             [
              0.5555555555555556,
              "#d8576b"
             ],
             [
              0.6666666666666666,
              "#ed7953"
             ],
             [
              0.7777777777777778,
              "#fb9f3a"
             ],
             [
              0.8888888888888888,
              "#fdca26"
             ],
             [
              1,
              "#f0f921"
             ]
            ],
            "type": "histogram2dcontour"
           }
          ],
          "mesh3d": [
           {
            "colorbar": {
             "outlinewidth": 0,
             "ticks": ""
            },
            "type": "mesh3d"
           }
          ],
          "parcoords": [
           {
            "line": {
             "colorbar": {
              "outlinewidth": 0,
              "ticks": ""
             }
            },
            "type": "parcoords"
           }
          ],
          "pie": [
           {
            "automargin": true,
            "type": "pie"
           }
          ],
          "scatter": [
           {
            "fillpattern": {
             "fillmode": "overlay",
             "size": 10,
             "solidity": 0.2
            },
            "type": "scatter"
           }
          ],
          "scatter3d": [
           {
            "line": {
             "colorbar": {
              "outlinewidth": 0,
              "ticks": ""
             }
            },
            "marker": {
             "colorbar": {
              "outlinewidth": 0,
              "ticks": ""
             }
            },
            "type": "scatter3d"
           }
          ],
          "scattercarpet": [
           {
            "marker": {
             "colorbar": {
              "outlinewidth": 0,
              "ticks": ""
             }
            },
            "type": "scattercarpet"
           }
          ],
          "scattergeo": [
           {
            "marker": {
             "colorbar": {
              "outlinewidth": 0,
              "ticks": ""
             }
            },
            "type": "scattergeo"
           }
          ],
          "scattergl": [
           {
            "marker": {
             "colorbar": {
              "outlinewidth": 0,
              "ticks": ""
             }
            },
            "type": "scattergl"
           }
          ],
          "scattermapbox": [
           {
            "marker": {
             "colorbar": {
              "outlinewidth": 0,
              "ticks": ""
             }
            },
            "type": "scattermapbox"
           }
          ],
          "scatterpolar": [
           {
            "marker": {
             "colorbar": {
              "outlinewidth": 0,
              "ticks": ""
             }
            },
            "type": "scatterpolar"
           }
          ],
          "scatterpolargl": [
           {
            "marker": {
             "colorbar": {
              "outlinewidth": 0,
              "ticks": ""
             }
            },
            "type": "scatterpolargl"
           }
          ],
          "scatterternary": [
           {
            "marker": {
             "colorbar": {
              "outlinewidth": 0,
              "ticks": ""
             }
            },
            "type": "scatterternary"
           }
          ],
          "surface": [
           {
            "colorbar": {
             "outlinewidth": 0,
             "ticks": ""
            },
            "colorscale": [
             [
              0,
              "#0d0887"
             ],
             [
              0.1111111111111111,
              "#46039f"
             ],
             [
              0.2222222222222222,
              "#7201a8"
             ],
             [
              0.3333333333333333,
              "#9c179e"
             ],
             [
              0.4444444444444444,
              "#bd3786"
             ],
             [
              0.5555555555555556,
              "#d8576b"
             ],
             [
              0.6666666666666666,
              "#ed7953"
             ],
             [
              0.7777777777777778,
              "#fb9f3a"
             ],
             [
              0.8888888888888888,
              "#fdca26"
             ],
             [
              1,
              "#f0f921"
             ]
            ],
            "type": "surface"
           }
          ],
          "table": [
           {
            "cells": {
             "fill": {
              "color": "#EBF0F8"
             },
             "line": {
              "color": "white"
             }
            },
            "header": {
             "fill": {
              "color": "#C8D4E3"
             },
             "line": {
              "color": "white"
             }
            },
            "type": "table"
           }
          ]
         },
         "layout": {
          "annotationdefaults": {
           "arrowcolor": "#2a3f5f",
           "arrowhead": 0,
           "arrowwidth": 1
          },
          "autotypenumbers": "strict",
          "coloraxis": {
           "colorbar": {
            "outlinewidth": 0,
            "ticks": ""
           }
          },
          "colorscale": {
           "diverging": [
            [
             0,
             "#8e0152"
            ],
            [
             0.1,
             "#c51b7d"
            ],
            [
             0.2,
             "#de77ae"
            ],
            [
             0.3,
             "#f1b6da"
            ],
            [
             0.4,
             "#fde0ef"
            ],
            [
             0.5,
             "#f7f7f7"
            ],
            [
             0.6,
             "#e6f5d0"
            ],
            [
             0.7,
             "#b8e186"
            ],
            [
             0.8,
             "#7fbc41"
            ],
            [
             0.9,
             "#4d9221"
            ],
            [
             1,
             "#276419"
            ]
           ],
           "sequential": [
            [
             0,
             "#0d0887"
            ],
            [
             0.1111111111111111,
             "#46039f"
            ],
            [
             0.2222222222222222,
             "#7201a8"
            ],
            [
             0.3333333333333333,
             "#9c179e"
            ],
            [
             0.4444444444444444,
             "#bd3786"
            ],
            [
             0.5555555555555556,
             "#d8576b"
            ],
            [
             0.6666666666666666,
             "#ed7953"
            ],
            [
             0.7777777777777778,
             "#fb9f3a"
            ],
            [
             0.8888888888888888,
             "#fdca26"
            ],
            [
             1,
             "#f0f921"
            ]
           ],
           "sequentialminus": [
            [
             0,
             "#0d0887"
            ],
            [
             0.1111111111111111,
             "#46039f"
            ],
            [
             0.2222222222222222,
             "#7201a8"
            ],
            [
             0.3333333333333333,
             "#9c179e"
            ],
            [
             0.4444444444444444,
             "#bd3786"
            ],
            [
             0.5555555555555556,
             "#d8576b"
            ],
            [
             0.6666666666666666,
             "#ed7953"
            ],
            [
             0.7777777777777778,
             "#fb9f3a"
            ],
            [
             0.8888888888888888,
             "#fdca26"
            ],
            [
             1,
             "#f0f921"
            ]
           ]
          },
          "colorway": [
           "#636efa",
           "#EF553B",
           "#00cc96",
           "#ab63fa",
           "#FFA15A",
           "#19d3f3",
           "#FF6692",
           "#B6E880",
           "#FF97FF",
           "#FECB52"
          ],
          "font": {
           "color": "#2a3f5f"
          },
          "geo": {
           "bgcolor": "white",
           "lakecolor": "white",
           "landcolor": "#E5ECF6",
           "showlakes": true,
           "showland": true,
           "subunitcolor": "white"
          },
          "hoverlabel": {
           "align": "left"
          },
          "hovermode": "closest",
          "mapbox": {
           "style": "light"
          },
          "paper_bgcolor": "white",
          "plot_bgcolor": "#E5ECF6",
          "polar": {
           "angularaxis": {
            "gridcolor": "white",
            "linecolor": "white",
            "ticks": ""
           },
           "bgcolor": "#E5ECF6",
           "radialaxis": {
            "gridcolor": "white",
            "linecolor": "white",
            "ticks": ""
           }
          },
          "scene": {
           "xaxis": {
            "backgroundcolor": "#E5ECF6",
            "gridcolor": "white",
            "gridwidth": 2,
            "linecolor": "white",
            "showbackground": true,
            "ticks": "",
            "zerolinecolor": "white"
           },
           "yaxis": {
            "backgroundcolor": "#E5ECF6",
            "gridcolor": "white",
            "gridwidth": 2,
            "linecolor": "white",
            "showbackground": true,
            "ticks": "",
            "zerolinecolor": "white"
           },
           "zaxis": {
            "backgroundcolor": "#E5ECF6",
            "gridcolor": "white",
            "gridwidth": 2,
            "linecolor": "white",
            "showbackground": true,
            "ticks": "",
            "zerolinecolor": "white"
           }
          },
          "shapedefaults": {
           "line": {
            "color": "#2a3f5f"
           }
          },
          "ternary": {
           "aaxis": {
            "gridcolor": "white",
            "linecolor": "white",
            "ticks": ""
           },
           "baxis": {
            "gridcolor": "white",
            "linecolor": "white",
            "ticks": ""
           },
           "bgcolor": "#E5ECF6",
           "caxis": {
            "gridcolor": "white",
            "linecolor": "white",
            "ticks": ""
           }
          },
          "title": {
           "x": 0.05
          },
          "xaxis": {
           "automargin": true,
           "gridcolor": "white",
           "linecolor": "white",
           "ticks": "",
           "title": {
            "standoff": 15
           },
           "zerolinecolor": "white",
           "zerolinewidth": 2
          },
          "yaxis": {
           "automargin": true,
           "gridcolor": "white",
           "linecolor": "white",
           "ticks": "",
           "title": {
            "standoff": 15
           },
           "zerolinecolor": "white",
           "zerolinewidth": 2
          }
         }
        },
        "title": {
         "text": "ma_8_32"
        },
        "width": 1000,
        "xaxis": {
         "linecolor": "#3a4a54",
         "linewidth": 1,
         "showgrid": false,
         "zeroline": false
        },
        "yaxis": {
         "linecolor": "#3a4a54",
         "linewidth": 1,
         "showgrid": false,
         "zeroline": false
        }
       }
      }
     },
     "metadata": {},
     "output_type": "display_data"
    },
    {
     "data": {
      "application/vnd.plotly.v1+json": {
       "config": {
        "plotlyServerURL": "https://plot.ly"
       },
       "data": [
        {
         "line": {
          "color": "#3d825f",
          "shape": "spline",
          "width": 2
         },
         "mode": "lines",
         "name": "ma_16_96",
         "type": "scatter",
         "x": [
          "2022-04-04T16:00:00+00:00",
          "2022-04-04T19:00:00+00:00",
          "2022-04-05T01:00:00+00:00",
          "2022-04-05T13:00:00+00:00",
          "2022-04-05T17:00:00+00:00",
          "2022-04-06T09:00:00+00:00",
          "2022-04-06T13:00:00+00:00",
          "2022-04-06T15:00:00+00:00",
          "2022-04-06T23:00:00+00:00",
          "2022-04-07T00:00:00+00:00",
          "2022-04-07T01:00:00+00:00",
          "2022-04-07T08:00:00+00:00",
          "2022-04-07T11:00:00+00:00",
          "2022-04-07T12:00:00+00:00",
          "2022-04-07T13:00:00+00:00",
          "2022-04-07T14:00:00+00:00",
          "2022-04-08T02:00:00+00:00",
          "2022-04-08T05:00:00+00:00",
          "2022-04-08T14:00:00+00:00",
          "2022-04-08T16:00:00+00:00",
          "2022-04-08T19:00:00+00:00",
          "2022-04-08T20:00:00+00:00",
          "2022-04-10T21:00:00+00:00",
          "2022-04-10T23:00:00+00:00",
          "2022-04-11T12:00:00+00:00",
          "2022-04-11T15:00:00+00:00",
          "2022-04-11T19:00:00+00:00",
          "2022-04-11T20:00:00+00:00",
          "2022-04-12T00:00:00+00:00",
          "2022-04-12T15:00:00+00:00",
          "2022-04-12T18:00:00+00:00",
          "2022-04-12T22:00:00+00:00",
          "2022-04-12T23:00:00+00:00",
          "2022-04-13T02:00:00+00:00",
          "2022-04-13T06:00:00+00:00",
          "2022-04-13T09:00:00+00:00",
          "2022-04-13T12:00:00+00:00",
          "2022-04-13T16:00:00+00:00",
          "2022-04-13T17:00:00+00:00",
          "2022-04-13T18:00:00+00:00",
          "2022-04-13T19:00:00+00:00",
          "2022-04-13T20:00:00+00:00",
          "2022-04-13T22:00:00+00:00",
          "2022-04-13T23:00:00+00:00",
          "2022-04-14T01:00:00+00:00",
          "2022-04-14T10:00:00+00:00",
          "2022-04-14T14:00:00+00:00",
          "2022-04-14T17:00:00+00:00",
          "2022-04-14T21:00:00+00:00",
          "2022-04-15T05:00:00+00:00",
          "2022-04-15T06:00:00+00:00",
          "2022-04-15T12:00:00+00:00",
          "2022-04-18T00:00:00+00:00",
          "2022-04-18T01:00:00+00:00",
          "2022-04-18T03:00:00+00:00",
          "2022-04-18T05:00:00+00:00",
          "2022-04-18T12:00:00+00:00",
          "2022-04-18T20:00:00+00:00",
          "2022-04-19T03:00:00+00:00",
          "2022-04-19T06:00:00+00:00",
          "2022-04-19T11:00:00+00:00",
          "2022-04-19T18:00:00+00:00",
          "2022-04-20T05:00:00+00:00",
          "2022-04-20T06:00:00+00:00",
          "2022-04-20T09:00:00+00:00",
          "2022-04-20T10:00:00+00:00",
          "2022-04-20T11:00:00+00:00",
          "2022-04-20T15:00:00+00:00",
          "2022-04-21T10:00:00+00:00",
          "2022-04-21T20:00:00+00:00",
          "2022-04-21T21:00:00+00:00",
          "2022-04-21T23:00:00+00:00",
          "2022-04-22T04:00:00+00:00",
          "2022-04-22T05:00:00+00:00",
          "2022-04-22T07:00:00+00:00",
          "2022-04-22T08:00:00+00:00",
          "2022-04-22T09:00:00+00:00",
          "2022-04-22T14:00:00+00:00",
          "2022-04-22T15:00:00+00:00",
          "2022-04-22T18:00:00+00:00",
          "2022-04-25T12:00:00+00:00",
          "2022-04-25T13:00:00+00:00",
          "2022-04-25T19:00:00+00:00",
          "2022-04-26T07:00:00+00:00",
          "2022-04-26T14:00:00+00:00",
          "2022-04-27T02:00:00+00:00",
          "2022-04-27T08:00:00+00:00",
          "2022-04-27T16:00:00+00:00",
          "2022-04-27T19:00:00+00:00",
          "2022-04-28T00:00:00+00:00",
          "2022-04-28T05:00:00+00:00",
          "2022-04-28T09:00:00+00:00",
          "2022-04-28T13:00:00+00:00",
          "2022-04-28T14:00:00+00:00",
          "2022-04-28T18:00:00+00:00",
          "2022-04-28T21:00:00+00:00",
          "2022-04-29T01:00:00+00:00",
          "2022-04-29T03:00:00+00:00",
          "2022-04-29T04:00:00+00:00",
          "2022-04-29T05:00:00+00:00",
          "2022-04-29T07:00:00+00:00",
          "2022-04-29T13:00:00+00:00",
          "2022-04-29T17:00:00+00:00",
          "2022-05-01T22:00:00+00:00",
          "2022-05-01T23:00:00+00:00",
          "2022-05-02T00:00:00+00:00",
          "2022-05-02T05:00:00+00:00",
          "2022-05-02T18:00:00+00:00",
          "2022-05-02T19:00:00+00:00",
          "2022-05-02T20:00:00+00:00",
          "2022-05-03T06:00:00+00:00",
          "2022-05-03T14:00:00+00:00",
          "2022-05-03T15:00:00+00:00",
          "2022-05-03T18:00:00+00:00",
          "2022-05-03T21:00:00+00:00",
          "2022-05-04T00:00:00+00:00",
          "2022-05-04T03:00:00+00:00",
          "2022-05-04T06:00:00+00:00",
          "2022-05-04T13:00:00+00:00",
          "2022-05-04T15:00:00+00:00",
          "2022-05-04T17:00:00+00:00",
          "2022-05-04T19:00:00+00:00",
          "2022-05-04T21:00:00+00:00",
          "2022-05-04T22:00:00+00:00",
          "2022-05-05T01:00:00+00:00",
          "2022-05-05T04:00:00+00:00",
          "2022-05-05T06:00:00+00:00",
          "2022-05-05T11:00:00+00:00",
          "2022-05-05T13:00:00+00:00",
          "2022-05-05T14:00:00+00:00",
          "2022-05-05T16:00:00+00:00",
          "2022-05-05T20:00:00+00:00",
          "2022-05-05T21:00:00+00:00",
          "2022-05-05T23:00:00+00:00",
          "2022-05-06T00:00:00+00:00",
          "2022-05-06T01:00:00+00:00",
          "2022-05-06T03:00:00+00:00",
          "2022-05-06T04:00:00+00:00",
          "2022-05-06T07:00:00+00:00",
          "2022-05-06T11:00:00+00:00",
          "2022-05-06T12:00:00+00:00",
          "2022-05-06T18:00:00+00:00",
          "2022-05-06T20:00:00+00:00",
          "2022-05-08T22:00:00+00:00",
          "2022-05-09T03:00:00+00:00",
          "2022-05-09T05:00:00+00:00",
          "2022-05-09T07:00:00+00:00",
          "2022-05-09T11:00:00+00:00",
          "2022-05-09T16:00:00+00:00",
          "2022-05-09T17:00:00+00:00",
          "2022-05-09T19:00:00+00:00",
          "2022-05-09T23:00:00+00:00",
          "2022-05-10T12:00:00+00:00",
          "2022-05-10T15:00:00+00:00",
          "2022-05-10T18:00:00+00:00",
          "2022-05-11T11:00:00+00:00",
          "2022-05-11T12:00:00+00:00",
          "2022-05-11T13:00:00+00:00",
          "2022-05-11T14:00:00+00:00",
          "2022-05-11T17:00:00+00:00",
          "2022-05-11T18:00:00+00:00",
          "2022-05-11T20:00:00+00:00",
          "2022-05-11T21:00:00+00:00",
          "2022-05-11T23:00:00+00:00",
          "2022-05-12T04:00:00+00:00",
          "2022-05-12T05:00:00+00:00",
          "2022-05-12T09:00:00+00:00",
          "2022-05-12T11:00:00+00:00",
          "2022-05-12T18:00:00+00:00",
          "2022-05-12T23:00:00+00:00",
          "2022-05-13T03:00:00+00:00",
          "2022-05-13T13:00:00+00:00",
          "2022-05-13T14:00:00+00:00",
          "2022-05-13T20:00:00+00:00",
          "2022-05-15T23:00:00+00:00",
          "2022-05-16T02:00:00+00:00",
          "2022-05-16T11:00:00+00:00",
          "2022-05-16T19:00:00+00:00",
          "2022-05-16T21:00:00+00:00",
          "2022-05-17T07:00:00+00:00",
          "2022-05-17T08:00:00+00:00",
          "2022-05-17T10:00:00+00:00",
          "2022-05-17T11:00:00+00:00",
          "2022-05-17T12:00:00+00:00",
          "2022-05-17T13:00:00+00:00",
          "2022-05-17T23:00:00+00:00",
          "2022-05-18T14:00:00+00:00",
          "2022-05-18T17:00:00+00:00",
          "2022-05-18T19:00:00+00:00",
          "2022-05-18T20:00:00+00:00",
          "2022-05-18T22:00:00+00:00",
          "2022-05-18T23:00:00+00:00",
          "2022-05-19T01:00:00+00:00",
          "2022-05-19T02:00:00+00:00",
          "2022-05-19T06:00:00+00:00",
          "2022-05-19T10:00:00+00:00",
          "2022-05-19T12:00:00+00:00",
          "2022-05-19T14:00:00+00:00",
          "2022-05-20T05:00:00+00:00",
          "2022-05-20T06:00:00+00:00",
          "2022-05-20T07:00:00+00:00",
          "2022-05-20T15:00:00+00:00",
          "2022-05-22T21:00:00+00:00",
          "2022-05-23T07:00:00+00:00",
          "2022-05-23T08:00:00+00:00",
          "2022-05-23T11:00:00+00:00",
          "2022-05-23T18:00:00+00:00",
          "2022-05-23T23:00:00+00:00",
          "2022-05-24T00:00:00+00:00",
          "2022-05-24T03:00:00+00:00",
          "2022-05-24T07:00:00+00:00",
          "2022-05-24T11:00:00+00:00",
          "2022-05-24T17:00:00+00:00",
          "2022-05-24T20:00:00+00:00",
          "2022-05-25T06:00:00+00:00",
          "2022-05-25T11:00:00+00:00",
          "2022-05-25T12:00:00+00:00",
          "2022-05-25T15:00:00+00:00",
          "2022-05-25T20:00:00+00:00",
          "2022-05-25T21:00:00+00:00",
          "2022-05-26T00:00:00+00:00",
          "2022-05-26T01:00:00+00:00",
          "2022-05-26T02:00:00+00:00",
          "2022-05-26T11:00:00+00:00",
          "2022-05-26T15:00:00+00:00",
          "2022-05-26T16:00:00+00:00",
          "2022-05-26T18:00:00+00:00",
          "2022-05-26T22:00:00+00:00",
          "2022-05-27T01:00:00+00:00",
          "2022-05-27T02:00:00+00:00",
          "2022-05-27T03:00:00+00:00",
          "2022-05-27T05:00:00+00:00",
          "2022-05-27T07:00:00+00:00",
          "2022-05-27T09:00:00+00:00",
          "2022-05-27T11:00:00+00:00",
          "2022-05-27T18:00:00+00:00",
          "2022-05-30T04:00:00+00:00",
          "2022-05-30T11:00:00+00:00",
          "2022-05-30T17:00:00+00:00",
          "2022-05-30T21:00:00+00:00",
          "2022-05-31T10:00:00+00:00",
          "2022-05-31T13:00:00+00:00",
          "2022-05-31T15:00:00+00:00",
          "2022-05-31T19:00:00+00:00",
          "2022-05-31T21:00:00+00:00",
          "2022-06-01T03:00:00+00:00",
          "2022-06-01T05:00:00+00:00",
          "2022-06-01T06:00:00+00:00",
          "2022-06-01T10:00:00+00:00",
          "2022-06-01T12:00:00+00:00",
          "2022-06-01T15:00:00+00:00",
          "2022-06-01T16:00:00+00:00",
          "2022-06-01T20:00:00+00:00",
          "2022-06-02T19:00:00+00:00",
          "2022-06-02T20:00:00+00:00",
          "2022-06-02T23:00:00+00:00",
          "2022-06-03T03:00:00+00:00",
          "2022-06-03T19:00:00+00:00",
          "2022-06-03T20:00:00+00:00",
          "2022-06-06T00:00:00+00:00",
          "2022-06-06T14:00:00+00:00",
          "2022-06-06T18:00:00+00:00",
          "2022-06-06T19:00:00+00:00",
          "2022-06-06T21:00:00+00:00",
          "2022-06-06T23:00:00+00:00",
          "2022-06-07T02:00:00+00:00",
          "2022-06-07T21:00:00+00:00",
          "2022-06-08T05:00:00+00:00",
          "2022-06-08T07:00:00+00:00",
          "2022-06-08T20:00:00+00:00",
          "2022-06-08T21:00:00+00:00",
          "2022-06-09T05:00:00+00:00",
          "2022-06-09T07:00:00+00:00",
          "2022-06-09T13:00:00+00:00",
          "2022-06-09T14:00:00+00:00",
          "2022-06-09T16:00:00+00:00",
          "2022-06-09T17:00:00+00:00",
          "2022-06-09T18:00:00+00:00",
          "2022-06-10T00:00:00+00:00",
          "2022-06-10T01:00:00+00:00",
          "2022-06-10T03:00:00+00:00",
          "2022-06-10T05:00:00+00:00",
          "2022-06-10T08:00:00+00:00",
          "2022-06-10T10:00:00+00:00",
          "2022-06-10T13:00:00+00:00",
          "2022-06-10T14:00:00+00:00",
          "2022-06-10T18:00:00+00:00",
          "2022-06-13T00:00:00+00:00",
          "2022-06-13T10:00:00+00:00",
          "2022-06-13T14:00:00+00:00",
          "2022-06-14T13:00:00+00:00",
          "2022-06-14T23:00:00+00:00",
          "2022-06-15T05:00:00+00:00",
          "2022-06-15T06:00:00+00:00",
          "2022-06-15T20:00:00+00:00",
          "2022-06-16T00:00:00+00:00",
          "2022-06-16T01:00:00+00:00",
          "2022-06-16T02:00:00+00:00",
          "2022-06-16T04:00:00+00:00",
          "2022-06-16T05:00:00+00:00",
          "2022-06-16T06:00:00+00:00",
          "2022-06-16T07:00:00+00:00",
          "2022-06-16T08:00:00+00:00",
          "2022-06-16T09:00:00+00:00",
          "2022-06-16T10:00:00+00:00",
          "2022-06-16T12:00:00+00:00",
          "2022-06-16T14:00:00+00:00",
          "2022-06-16T17:00:00+00:00",
          "2022-06-17T01:00:00+00:00",
          "2022-06-17T04:00:00+00:00",
          "2022-06-17T07:00:00+00:00",
          "2022-06-17T14:00:00+00:00",
          "2022-06-20T04:00:00+00:00",
          "2022-06-20T05:00:00+00:00",
          "2022-06-21T08:00:00+00:00",
          "2022-06-21T10:00:00+00:00",
          "2022-06-21T19:00:00+00:00",
          "2022-06-21T20:00:00+00:00",
          "2022-06-22T02:00:00+00:00",
          "2022-06-22T04:00:00+00:00",
          "2022-06-22T06:00:00+00:00",
          "2022-06-22T09:00:00+00:00",
          "2022-06-22T13:00:00+00:00",
          "2022-06-22T15:00:00+00:00",
          "2022-06-22T16:00:00+00:00",
          "2022-06-22T18:00:00+00:00",
          "2022-06-22T23:00:00+00:00",
          "2022-06-23T08:00:00+00:00",
          "2022-06-23T12:00:00+00:00",
          "2022-06-23T13:00:00+00:00",
          "2022-06-23T14:00:00+00:00",
          "2022-06-23T17:00:00+00:00",
          "2022-06-23T19:00:00+00:00",
          "2022-06-23T22:00:00+00:00",
          "2022-06-23T23:00:00+00:00",
          "2022-06-24T02:00:00+00:00",
          "2022-06-24T10:00:00+00:00",
          "2022-06-24T14:00:00+00:00",
          "2022-06-24T16:00:00+00:00",
          "2022-06-24T19:00:00+00:00",
          "2022-06-26T22:00:00+00:00",
          "2022-06-27T01:00:00+00:00",
          "2022-06-27T04:00:00+00:00",
          "2022-06-27T05:00:00+00:00",
          "2022-06-27T08:00:00+00:00",
          "2022-06-27T14:00:00+00:00",
          "2022-06-27T16:00:00+00:00",
          "2022-06-27T17:00:00+00:00",
          "2022-06-27T19:00:00+00:00",
          "2022-06-28T05:00:00+00:00",
          "2022-06-28T11:00:00+00:00",
          "2022-06-28T12:00:00+00:00",
          "2022-06-28T15:00:00+00:00",
          "2022-06-28T20:00:00+00:00",
          "2022-06-29T03:00:00+00:00",
          "2022-06-29T14:00:00+00:00",
          "2022-06-29T16:00:00+00:00",
          "2022-06-30T02:00:00+00:00",
          "2022-06-30T04:00:00+00:00",
          "2022-06-30T06:00:00+00:00",
          "2022-06-30T08:00:00+00:00",
          "2022-06-30T20:00:00+00:00",
          "2022-06-30T21:00:00+00:00",
          "2022-07-01T00:00:00+00:00",
          "2022-07-01T03:00:00+00:00",
          "2022-07-01T05:00:00+00:00",
          "2022-07-01T09:00:00+00:00",
          "2022-07-01T16:00:00+00:00",
          "2022-07-03T22:00:00+00:00",
          "2022-07-04T02:00:00+00:00",
          "2022-07-04T05:00:00+00:00",
          "2022-07-04T06:00:00+00:00",
          "2022-07-04T08:00:00+00:00",
          "2022-07-04T11:00:00+00:00",
          "2022-07-04T12:00:00+00:00",
          "2022-07-04T13:00:00+00:00",
          "2022-07-04T22:00:00+00:00",
          "2022-07-05T03:00:00+00:00",
          "2022-07-05T04:00:00+00:00",
          "2022-07-05T05:00:00+00:00",
          "2022-07-05T07:00:00+00:00",
          "2022-07-05T09:00:00+00:00",
          "2022-07-05T11:00:00+00:00",
          "2022-07-05T13:00:00+00:00",
          "2022-07-05T15:00:00+00:00",
          "2022-07-05T16:00:00+00:00",
          "2022-07-05T23:00:00+00:00",
          "2022-07-06T00:00:00+00:00",
          "2022-07-06T05:00:00+00:00",
          "2022-07-06T21:00:00+00:00",
          "2022-07-07T10:00:00+00:00",
          "2022-07-07T13:00:00+00:00",
          "2022-07-07T15:00:00+00:00",
          "2022-07-07T19:00:00+00:00",
          "2022-07-07T20:00:00+00:00",
          "2022-07-07T21:00:00+00:00",
          "2022-07-07T23:00:00+00:00",
          "2022-07-08T01:00:00+00:00",
          "2022-07-08T07:00:00+00:00",
          "2022-07-08T09:00:00+00:00",
          "2022-07-08T14:00:00+00:00",
          "2022-07-08T15:00:00+00:00",
          "2022-07-08T18:00:00+00:00",
          "2022-07-08T20:00:00+00:00",
          "2022-07-10T22:00:00+00:00",
          "2022-07-10T23:00:00+00:00",
          "2022-07-11T04:00:00+00:00",
          "2022-07-11T05:00:00+00:00",
          "2022-07-11T11:00:00+00:00",
          "2022-07-11T12:00:00+00:00",
          "2022-07-11T14:00:00+00:00",
          "2022-07-11T16:00:00+00:00",
          "2022-07-11T21:00:00+00:00",
          "2022-07-12T01:00:00+00:00",
          "2022-07-12T09:00:00+00:00",
          "2022-07-12T10:00:00+00:00",
          "2022-07-12T11:00:00+00:00",
          "2022-07-13T00:00:00+00:00",
          "2022-07-13T02:00:00+00:00",
          "2022-07-13T05:00:00+00:00",
          "2022-07-13T09:00:00+00:00",
          "2022-07-13T13:00:00+00:00",
          "2022-07-13T16:00:00+00:00",
          "2022-07-13T18:00:00+00:00",
          "2022-07-13T21:00:00+00:00",
          "2022-07-14T00:00:00+00:00",
          "2022-07-14T03:00:00+00:00",
          "2022-07-14T07:00:00+00:00",
          "2022-07-14T09:00:00+00:00",
          "2022-07-14T11:00:00+00:00",
          "2022-07-14T16:00:00+00:00",
          "2022-07-14T19:00:00+00:00",
          "2022-07-15T02:00:00+00:00",
          "2022-07-15T06:00:00+00:00",
          "2022-07-15T12:00:00+00:00",
          "2022-07-15T14:00:00+00:00",
          "2022-07-17T21:00:00+00:00",
          "2022-07-18T00:00:00+00:00",
          "2022-07-18T01:00:00+00:00",
          "2022-07-18T02:00:00+00:00",
          "2022-07-18T03:00:00+00:00",
          "2022-07-18T10:00:00+00:00",
          "2022-07-18T13:00:00+00:00",
          "2022-07-18T14:00:00+00:00",
          "2022-07-18T16:00:00+00:00",
          "2022-07-18T19:00:00+00:00",
          "2022-07-18T20:00:00+00:00",
          "2022-07-19T09:00:00+00:00",
          "2022-07-19T12:00:00+00:00",
          "2022-07-19T14:00:00+00:00",
          "2022-07-19T21:00:00+00:00",
          "2022-07-20T01:00:00+00:00",
          "2022-07-20T02:00:00+00:00",
          "2022-07-20T07:00:00+00:00",
          "2022-07-20T10:00:00+00:00",
          "2022-07-20T11:00:00+00:00",
          "2022-07-20T15:00:00+00:00",
          "2022-07-20T17:00:00+00:00",
          "2022-07-20T18:00:00+00:00",
          "2022-07-21T02:00:00+00:00",
          "2022-07-21T05:00:00+00:00",
          "2022-07-21T13:00:00+00:00",
          "2022-07-21T15:00:00+00:00",
          "2022-07-21T16:00:00+00:00",
          "2022-07-21T19:00:00+00:00",
          "2022-07-21T21:00:00+00:00",
          "2022-07-21T23:00:00+00:00",
          "2022-07-22T00:00:00+00:00",
          "2022-07-22T01:00:00+00:00",
          "2022-07-22T03:00:00+00:00",
          "2022-07-22T08:00:00+00:00",
          "2022-07-22T13:00:00+00:00",
          "2022-07-22T20:00:00+00:00",
          "2022-07-25T00:00:00+00:00",
          "2022-07-25T01:00:00+00:00",
          "2022-07-25T06:00:00+00:00",
          "2022-07-25T11:00:00+00:00",
          "2022-07-25T18:00:00+00:00",
          "2022-07-25T19:00:00+00:00",
          "2022-07-25T21:00:00+00:00",
          "2022-07-25T22:00:00+00:00",
          "2022-07-26T05:00:00+00:00",
          "2022-07-26T10:00:00+00:00",
          "2022-07-26T12:00:00+00:00",
          "2022-07-26T13:00:00+00:00",
          "2022-07-26T14:00:00+00:00",
          "2022-07-26T20:00:00+00:00",
          "2022-07-27T00:00:00+00:00",
          "2022-07-27T02:00:00+00:00",
          "2022-07-27T04:00:00+00:00",
          "2022-07-27T07:00:00+00:00",
          "2022-07-27T08:00:00+00:00",
          "2022-07-28T01:00:00+00:00",
          "2022-07-28T05:00:00+00:00",
          "2022-07-28T06:00:00+00:00",
          "2022-07-28T08:00:00+00:00",
          "2022-07-28T12:00:00+00:00",
          "2022-07-28T15:00:00+00:00",
          "2022-07-28T19:00:00+00:00",
          "2022-07-29T03:00:00+00:00",
          "2022-07-29T10:00:00+00:00",
          "2022-07-31T23:00:00+00:00",
          "2022-08-01T08:00:00+00:00",
          "2022-08-01T11:00:00+00:00",
          "2022-08-01T15:00:00+00:00",
          "2022-08-01T16:00:00+00:00",
          "2022-08-02T02:00:00+00:00",
          "2022-08-02T06:00:00+00:00",
          "2022-08-02T09:00:00+00:00",
          "2022-08-02T11:00:00+00:00",
          "2022-08-02T16:00:00+00:00",
          "2022-08-02T17:00:00+00:00",
          "2022-08-02T20:00:00+00:00",
          "2022-08-02T22:00:00+00:00",
          "2022-08-03T00:00:00+00:00",
          "2022-08-03T02:00:00+00:00",
          "2022-08-03T04:00:00+00:00",
          "2022-08-03T05:00:00+00:00",
          "2022-08-03T07:00:00+00:00",
          "2022-08-03T08:00:00+00:00",
          "2022-08-03T10:00:00+00:00",
          "2022-08-03T12:00:00+00:00",
          "2022-08-03T14:00:00+00:00",
          "2022-08-03T17:00:00+00:00",
          "2022-08-03T18:00:00+00:00",
          "2022-08-03T19:00:00+00:00",
          "2022-08-04T00:00:00+00:00",
          "2022-08-04T02:00:00+00:00",
          "2022-08-04T09:00:00+00:00",
          "2022-08-04T10:00:00+00:00",
          "2022-08-04T12:00:00+00:00",
          "2022-08-04T20:00:00+00:00",
          "2022-08-04T21:00:00+00:00",
          "2022-08-05T01:00:00+00:00",
          "2022-08-05T02:00:00+00:00",
          "2022-08-05T06:00:00+00:00",
          "2022-08-05T13:00:00+00:00",
          "2022-08-05T14:00:00+00:00",
          "2022-08-05T20:00:00+00:00",
          "2022-08-07T21:00:00+00:00",
          "2022-08-08T15:00:00+00:00",
          "2022-08-08T16:00:00+00:00",
          "2022-08-08T17:00:00+00:00",
          "2022-08-08T19:00:00+00:00",
          "2022-08-08T20:00:00+00:00",
          "2022-08-08T23:00:00+00:00",
          "2022-08-09T06:00:00+00:00",
          "2022-08-09T12:00:00+00:00",
          "2022-08-09T13:00:00+00:00",
          "2022-08-09T20:00:00+00:00",
          "2022-08-10T01:00:00+00:00",
          "2022-08-10T05:00:00+00:00",
          "2022-08-10T10:00:00+00:00",
          "2022-08-10T13:00:00+00:00",
          "2022-08-10T15:00:00+00:00",
          "2022-08-10T16:00:00+00:00",
          "2022-08-10T17:00:00+00:00",
          "2022-08-10T18:00:00+00:00",
          "2022-08-10T21:00:00+00:00",
          "2022-08-11T01:00:00+00:00",
          "2022-08-11T03:00:00+00:00",
          "2022-08-11T12:00:00+00:00",
          "2022-08-12T00:00:00+00:00",
          "2022-08-12T04:00:00+00:00",
          "2022-08-12T11:00:00+00:00",
          "2022-08-12T13:00:00+00:00",
          "2022-08-12T19:00:00+00:00",
          "2022-08-14T23:00:00+00:00",
          "2022-08-15T04:00:00+00:00",
          "2022-08-15T10:00:00+00:00",
          "2022-08-15T11:00:00+00:00",
          "2022-08-15T12:00:00+00:00",
          "2022-08-15T13:00:00+00:00",
          "2022-08-15T15:00:00+00:00",
          "2022-08-15T16:00:00+00:00",
          "2022-08-15T18:00:00+00:00",
          "2022-08-15T19:00:00+00:00",
          "2022-08-16T05:00:00+00:00",
          "2022-08-16T07:00:00+00:00",
          "2022-08-16T09:00:00+00:00",
          "2022-08-16T15:00:00+00:00",
          "2022-08-16T17:00:00+00:00",
          "2022-08-16T18:00:00+00:00",
          "2022-08-16T19:00:00+00:00",
          "2022-08-16T20:00:00+00:00",
          "2022-08-17T03:00:00+00:00",
          "2022-08-17T04:00:00+00:00",
          "2022-08-17T05:00:00+00:00",
          "2022-08-17T06:00:00+00:00",
          "2022-08-17T07:00:00+00:00",
          "2022-08-17T11:00:00+00:00",
          "2022-08-17T20:00:00+00:00",
          "2022-08-18T01:00:00+00:00",
          "2022-08-18T15:00:00+00:00",
          "2022-08-18T18:00:00+00:00",
          "2022-08-18T21:00:00+00:00",
          "2022-08-19T03:00:00+00:00",
          "2022-08-19T05:00:00+00:00",
          "2022-08-19T16:00:00+00:00",
          "2022-08-19T17:00:00+00:00",
          "2022-08-21T22:00:00+00:00",
          "2022-08-22T03:00:00+00:00",
          "2022-08-22T06:00:00+00:00",
          "2022-08-22T08:00:00+00:00",
          "2022-08-22T14:00:00+00:00",
          "2022-08-22T16:00:00+00:00",
          "2022-08-22T18:00:00+00:00",
          "2022-08-23T01:00:00+00:00",
          "2022-08-23T09:00:00+00:00",
          "2022-08-23T10:00:00+00:00",
          "2022-08-23T11:00:00+00:00",
          "2022-08-23T20:00:00+00:00",
          "2022-08-23T23:00:00+00:00",
          "2022-08-24T04:00:00+00:00",
          "2022-08-24T05:00:00+00:00",
          "2022-08-24T06:00:00+00:00",
          "2022-08-24T08:00:00+00:00",
          "2022-08-24T14:00:00+00:00",
          "2022-08-24T15:00:00+00:00",
          "2022-08-24T17:00:00+00:00",
          "2022-08-24T19:00:00+00:00",
          "2022-08-24T23:00:00+00:00",
          "2022-08-25T01:00:00+00:00",
          "2022-08-25T04:00:00+00:00",
          "2022-08-25T05:00:00+00:00",
          "2022-08-25T06:00:00+00:00",
          "2022-08-25T08:00:00+00:00",
          "2022-08-25T14:00:00+00:00",
          "2022-08-25T19:00:00+00:00",
          "2022-08-26T01:00:00+00:00",
          "2022-08-26T02:00:00+00:00",
          "2022-08-26T03:00:00+00:00",
          "2022-08-26T10:00:00+00:00",
          "2022-08-26T11:00:00+00:00",
          "2022-08-26T13:00:00+00:00",
          "2022-08-26T14:00:00+00:00",
          "2022-08-26T16:00:00+00:00",
          "2022-08-26T18:00:00+00:00",
          "2022-08-26T19:00:00+00:00",
          "2022-08-26T20:00:00+00:00",
          "2022-08-29T00:00:00+00:00",
          "2022-08-29T06:00:00+00:00",
          "2022-08-29T15:00:00+00:00",
          "2022-08-29T18:00:00+00:00",
          "2022-08-29T23:00:00+00:00",
          "2022-08-30T02:00:00+00:00",
          "2022-08-30T14:00:00+00:00",
          "2022-08-30T18:00:00+00:00",
          "2022-08-31T00:00:00+00:00",
          "2022-08-31T01:00:00+00:00",
          "2022-08-31T03:00:00+00:00",
          "2022-08-31T04:00:00+00:00",
          "2022-08-31T07:00:00+00:00",
          "2022-08-31T08:00:00+00:00",
          "2022-09-01T05:00:00+00:00",
          "2022-09-01T08:00:00+00:00",
          "2022-09-01T09:00:00+00:00",
          "2022-09-01T10:00:00+00:00",
          "2022-09-01T11:00:00+00:00",
          "2022-09-01T13:00:00+00:00",
          "2022-09-01T16:00:00+00:00",
          "2022-09-01T17:00:00+00:00",
          "2022-09-01T21:00:00+00:00",
          "2022-09-01T22:00:00+00:00",
          "2022-09-02T02:00:00+00:00",
          "2022-09-02T05:00:00+00:00",
          "2022-09-02T06:00:00+00:00",
          "2022-09-02T07:00:00+00:00",
          "2022-09-02T13:00:00+00:00",
          "2022-09-02T17:00:00+00:00",
          "2022-09-04T21:00:00+00:00",
          "2022-09-04T22:00:00+00:00",
          "2022-09-05T00:00:00+00:00",
          "2022-09-05T03:00:00+00:00",
          "2022-09-05T06:00:00+00:00",
          "2022-09-05T17:00:00+00:00",
          "2022-09-05T20:00:00+00:00",
          "2022-09-05T21:00:00+00:00",
          "2022-09-05T23:00:00+00:00",
          "2022-09-06T00:00:00+00:00",
          "2022-09-06T02:00:00+00:00",
          "2022-09-06T06:00:00+00:00",
          "2022-09-06T07:00:00+00:00",
          "2022-09-06T08:00:00+00:00",
          "2022-09-06T10:00:00+00:00",
          "2022-09-06T11:00:00+00:00",
          "2022-09-06T14:00:00+00:00",
          "2022-09-06T16:00:00+00:00",
          "2022-09-06T19:00:00+00:00",
          "2022-09-06T23:00:00+00:00",
          "2022-09-07T01:00:00+00:00",
          "2022-09-07T10:00:00+00:00",
          "2022-09-07T13:00:00+00:00",
          "2022-09-07T15:00:00+00:00",
          "2022-09-07T17:00:00+00:00",
          "2022-09-07T21:00:00+00:00",
          "2022-09-08T03:00:00+00:00",
          "2022-09-08T10:00:00+00:00",
          "2022-09-08T13:00:00+00:00",
          "2022-09-08T14:00:00+00:00",
          "2022-09-09T04:00:00+00:00",
          "2022-09-09T13:00:00+00:00",
          "2022-09-09T15:00:00+00:00",
          "2022-09-12T04:00:00+00:00",
          "2022-09-12T12:00:00+00:00",
          "2022-09-12T13:00:00+00:00",
          "2022-09-12T14:00:00+00:00",
          "2022-09-12T23:00:00+00:00",
          "2022-09-13T01:00:00+00:00",
          "2022-09-13T03:00:00+00:00",
          "2022-09-13T15:00:00+00:00",
          "2022-09-13T16:00:00+00:00",
          "2022-09-13T17:00:00+00:00",
          "2022-09-13T18:00:00+00:00",
          "2022-09-13T19:00:00+00:00",
          "2022-09-13T21:00:00+00:00",
          "2022-09-13T22:00:00+00:00",
          "2022-09-14T03:00:00+00:00",
          "2022-09-14T06:00:00+00:00",
          "2022-09-14T07:00:00+00:00",
          "2022-09-14T17:00:00+00:00",
          "2022-09-15T04:00:00+00:00",
          "2022-09-15T14:00:00+00:00",
          "2022-09-15T15:00:00+00:00",
          "2022-09-15T18:00:00+00:00",
          "2022-09-16T00:00:00+00:00",
          "2022-09-16T14:00:00+00:00",
          "2022-09-16T15:00:00+00:00",
          "2022-09-16T18:00:00+00:00",
          "2022-09-19T03:00:00+00:00",
          "2022-09-19T04:00:00+00:00",
          "2022-09-19T14:00:00+00:00",
          "2022-09-19T18:00:00+00:00",
          "2022-09-19T20:00:00+00:00",
          "2022-09-20T00:00:00+00:00",
          "2022-09-20T03:00:00+00:00",
          "2022-09-20T08:00:00+00:00",
          "2022-09-20T12:00:00+00:00",
          "2022-09-20T18:00:00+00:00",
          "2022-09-20T20:00:00+00:00",
          "2022-09-20T23:00:00+00:00",
          "2022-09-21T06:00:00+00:00",
          "2022-09-21T11:00:00+00:00",
          "2022-09-21T16:00:00+00:00",
          "2022-09-22T11:00:00+00:00",
          "2022-09-22T15:00:00+00:00",
          "2022-09-22T17:00:00+00:00",
          "2022-09-22T19:00:00+00:00",
          "2022-09-22T20:00:00+00:00",
          "2022-09-23T04:00:00+00:00",
          "2022-09-23T06:00:00+00:00",
          "2022-09-23T09:00:00+00:00",
          "2022-09-23T10:00:00+00:00",
          "2022-09-23T11:00:00+00:00",
          "2022-09-23T13:00:00+00:00",
          "2022-09-26T02:00:00+00:00",
          "2022-09-26T03:00:00+00:00",
          "2022-09-26T05:00:00+00:00",
          "2022-09-26T08:00:00+00:00",
          "2022-09-27T13:00:00+00:00",
          "2022-09-27T22:00:00+00:00",
          "2022-09-28T02:00:00+00:00",
          "2022-09-28T08:00:00+00:00",
          "2022-09-28T12:00:00+00:00",
          "2022-09-28T19:00:00+00:00",
          "2022-09-28T20:00:00+00:00",
          "2022-09-28T22:00:00+00:00",
          "2022-09-28T23:00:00+00:00",
          "2022-09-29T00:00:00+00:00",
          "2022-09-29T01:00:00+00:00",
          "2022-09-29T02:00:00+00:00",
          "2022-09-29T03:00:00+00:00",
          "2022-09-29T06:00:00+00:00",
          "2022-09-29T13:00:00+00:00",
          "2022-09-29T14:00:00+00:00",
          "2022-09-29T16:00:00+00:00",
          "2022-09-30T05:00:00+00:00",
          "2022-09-30T08:00:00+00:00",
          "2022-09-30T14:00:00+00:00",
          "2022-09-30T15:00:00+00:00",
          "2022-09-30T16:00:00+00:00",
          "2022-09-30T20:00:00+00:00",
          "2022-10-02T22:00:00+00:00",
          "2022-10-03T01:00:00+00:00",
          "2022-10-03T04:00:00+00:00",
          "2022-10-03T12:00:00+00:00",
          "2022-10-03T13:00:00+00:00",
          "2022-10-03T15:00:00+00:00",
          "2022-10-03T16:00:00+00:00",
          "2022-10-03T18:00:00+00:00",
          "2022-10-03T19:00:00+00:00",
          "2022-10-04T10:00:00+00:00",
          "2022-10-04T18:00:00+00:00",
          "2022-10-04T22:00:00+00:00",
          "2022-10-05T01:00:00+00:00",
          "2022-10-05T21:00:00+00:00",
          "2022-10-05T23:00:00+00:00",
          "2022-10-06T00:00:00+00:00",
          "2022-10-06T01:00:00+00:00",
          "2022-10-06T06:00:00+00:00",
          "2022-10-06T07:00:00+00:00",
          "2022-10-06T08:00:00+00:00",
          "2022-10-06T09:00:00+00:00",
          "2022-10-06T10:00:00+00:00",
          "2022-10-06T14:00:00+00:00",
          "2022-10-06T15:00:00+00:00",
          "2022-10-06T16:00:00+00:00",
          "2022-10-06T17:00:00+00:00",
          "2022-10-06T19:00:00+00:00",
          "2022-10-06T20:00:00+00:00",
          "2022-10-06T21:00:00+00:00",
          "2022-10-06T23:00:00+00:00",
          "2022-10-07T09:00:00+00:00",
          "2022-10-09T21:00:00+00:00",
          "2022-10-10T15:00:00+00:00",
          "2022-10-11T16:00:00+00:00",
          "2022-10-11T22:00:00+00:00",
          "2022-10-12T01:00:00+00:00",
          "2022-10-12T02:00:00+00:00",
          "2022-10-12T05:00:00+00:00",
          "2022-10-12T06:00:00+00:00",
          "2022-10-12T07:00:00+00:00",
          "2022-10-12T13:00:00+00:00",
          "2022-10-12T15:00:00+00:00",
          "2022-10-12T19:00:00+00:00",
          "2022-10-12T20:00:00+00:00",
          "2022-10-12T22:00:00+00:00",
          "2022-10-12T23:00:00+00:00",
          "2022-10-13T02:00:00+00:00",
          "2022-10-13T10:00:00+00:00",
          "2022-10-13T16:00:00+00:00",
          "2022-10-13T18:00:00+00:00",
          "2022-10-14T00:00:00+00:00",
          "2022-10-14T18:00:00+00:00",
          "2022-10-14T19:00:00+00:00",
          "2022-10-16T21:00:00+00:00",
          "2022-10-17T01:00:00+00:00",
          "2022-10-17T04:00:00+00:00",
          "2022-10-17T14:00:00+00:00",
          "2022-10-17T16:00:00+00:00",
          "2022-10-17T17:00:00+00:00",
          "2022-10-17T19:00:00+00:00",
          "2022-10-18T03:00:00+00:00",
          "2022-10-18T11:00:00+00:00",
          "2022-10-18T12:00:00+00:00",
          "2022-10-18T15:00:00+00:00",
          "2022-10-18T21:00:00+00:00",
          "2022-10-19T09:00:00+00:00",
          "2022-10-19T13:00:00+00:00",
          "2022-10-19T15:00:00+00:00",
          "2022-10-19T19:00:00+00:00",
          "2022-10-19T20:00:00+00:00",
          "2022-10-20T04:00:00+00:00",
          "2022-10-20T08:00:00+00:00",
          "2022-10-20T10:00:00+00:00",
          "2022-10-20T16:00:00+00:00",
          "2022-10-20T19:00:00+00:00",
          "2022-10-21T04:00:00+00:00",
          "2022-10-21T05:00:00+00:00",
          "2022-10-21T08:00:00+00:00",
          "2022-10-21T15:00:00+00:00",
          "2022-10-21T18:00:00+00:00",
          "2022-10-21T19:00:00+00:00",
          "2022-10-23T21:00:00+00:00",
          "2022-10-23T22:00:00+00:00",
          "2022-10-24T00:00:00+00:00",
          "2022-10-24T02:00:00+00:00",
          "2022-10-24T05:00:00+00:00",
          "2022-10-24T08:00:00+00:00",
          "2022-10-24T10:00:00+00:00",
          "2022-10-24T13:00:00+00:00",
          "2022-10-24T14:00:00+00:00",
          "2022-10-24T15:00:00+00:00",
          "2022-10-24T16:00:00+00:00",
          "2022-10-24T17:00:00+00:00",
          "2022-10-24T18:00:00+00:00",
          "2022-10-24T20:00:00+00:00",
          "2022-10-24T21:00:00+00:00",
          "2022-10-25T03:00:00+00:00",
          "2022-10-25T04:00:00+00:00",
          "2022-10-25T06:00:00+00:00",
          "2022-10-25T09:00:00+00:00",
          "2022-10-25T11:00:00+00:00",
          "2022-10-25T12:00:00+00:00",
          "2022-10-25T15:00:00+00:00",
          "2022-10-26T03:00:00+00:00",
          "2022-10-26T15:00:00+00:00",
          "2022-10-27T04:00:00+00:00",
          "2022-10-27T13:00:00+00:00",
          "2022-10-27T17:00:00+00:00",
          "2022-10-27T20:00:00+00:00",
          "2022-10-27T21:00:00+00:00",
          "2022-10-27T22:00:00+00:00",
          "2022-10-27T23:00:00+00:00",
          "2022-10-28T00:00:00+00:00",
          "2022-10-28T04:00:00+00:00",
          "2022-10-28T08:00:00+00:00",
          "2022-10-28T10:00:00+00:00",
          "2022-10-28T16:00:00+00:00",
          "2022-10-28T18:00:00+00:00",
          "2022-10-28T19:00:00+00:00",
          "2022-10-28T20:00:00+00:00",
          "2022-10-31T00:00:00+00:00",
          "2022-10-31T03:00:00+00:00",
          "2022-10-31T14:00:00+00:00",
          "2022-10-31T15:00:00+00:00",
          "2022-10-31T16:00:00+00:00",
          "2022-10-31T21:00:00+00:00",
          "2022-11-01T05:00:00+00:00",
          "2022-11-01T10:00:00+00:00",
          "2022-11-01T11:00:00+00:00",
          "2022-11-01T16:00:00+00:00",
          "2022-11-01T22:00:00+00:00",
          "2022-11-02T01:00:00+00:00",
          "2022-11-02T09:00:00+00:00",
          "2022-11-02T10:00:00+00:00",
          "2022-11-02T19:00:00+00:00",
          "2022-11-03T00:00:00+00:00",
          "2022-11-03T07:00:00+00:00",
          "2022-11-03T14:00:00+00:00",
          "2022-11-03T17:00:00+00:00",
          "2022-11-03T18:00:00+00:00",
          "2022-11-04T14:00:00+00:00",
          "2022-11-04T15:00:00+00:00",
          "2022-11-04T16:00:00+00:00",
          "2022-11-04T17:00:00+00:00",
          "2022-11-04T18:00:00+00:00",
          "2022-11-04T20:00:00+00:00",
          "2022-11-07T00:00:00+00:00",
          "2022-11-07T02:00:00+00:00",
          "2022-11-07T11:00:00+00:00",
          "2022-11-07T17:00:00+00:00",
          "2022-11-07T22:00:00+00:00",
          "2022-11-08T02:00:00+00:00",
          "2022-11-08T05:00:00+00:00",
          "2022-11-08T15:00:00+00:00",
          "2022-11-09T00:00:00+00:00",
          "2022-11-09T06:00:00+00:00",
          "2022-11-09T09:00:00+00:00",
          "2022-11-09T11:00:00+00:00",
          "2022-11-09T13:00:00+00:00",
          "2022-11-09T14:00:00+00:00",
          "2022-11-09T18:00:00+00:00",
          "2022-11-09T21:00:00+00:00",
          "2022-11-09T23:00:00+00:00",
          "2022-11-10T03:00:00+00:00",
          "2022-11-10T11:00:00+00:00",
          "2022-11-10T12:00:00+00:00",
          "2022-11-10T17:00:00+00:00",
          "2022-11-10T18:00:00+00:00",
          "2022-11-10T20:00:00+00:00",
          "2022-11-11T17:00:00+00:00",
          "2022-11-11T18:00:00+00:00",
          "2022-11-11T19:00:00+00:00",
          "2022-11-14T10:00:00+00:00",
          "2022-11-15T03:00:00+00:00",
          "2022-11-15T13:00:00+00:00",
          "2022-11-15T21:00:00+00:00",
          "2022-11-16T01:00:00+00:00",
          "2022-11-16T03:00:00+00:00"
         ],
         "y": [
          -13.699999999999823,
          -35.89999999999982,
          -30.100000000000684,
          -104.7000000000009,
          -127.70000000000059,
          -54.500000000000654,
          -88.90000000000006,
          -12.300000000000068,
          -49.900000000000546,
          -26.000000000001624,
          -37.00000000000263,
          -36.8000000000023,
          -71.50000000000091,
          -84.3000000000015,
          -117.8000000000023,
          -232.60000000000252,
          -299.6000000000013,
          -341.1000000000005,
          -255.1999999999996,
          -144.60000000000014,
          -217.39999999999966,
          20.700000000000358,
          -24.800000000000182,
          -59.599999999999454,
          -90.39999999999917,
          -138.9999999999996,
          -164.39999999999947,
          -205.79999999999978,
          -237.70000000000005,
          -336.59999999999957,
          -756.3999999999997,
          -704.1000000000013,
          -766.600000000001,
          -809.6000000000007,
          -812.4000000000012,
          -400.4000000000011,
          -443.0000000000004,
          142.39999999999992,
          88.49999999999977,
          159.69999999999993,
          77.20000000000125,
          177.8000000000008,
          132.40000000000092,
          206.30000000000098,
          124.20000000000047,
          82.70000000000127,
          42.70000000000123,
          12.700000000000095,
          -26.499999999999496,
          -35.10000000000032,
          133.7000000000018,
          95.00000000000176,
          45.00000000000283,
          -35.59999999999833,
          -62.199999999997175,
          -85.4999999999966,
          -32.49999999999578,
          -2.8999999999965524,
          -33.29999999999676,
          -81.29999999999592,
          38.50000000000509,
          -7.499999999994287,
          -106.59999999999292,
          -120.1999999999932,
          -185.399999999994,
          -259.6999999999945,
          -363.2999999999937,
          -392.3999999999934,
          -272.4999999999917,
          -295.19999999999163,
          -367.6999999999908,
          -184.09999999999036,
          -14.799999999987904,
          430.00000000001063,
          501.70000000001073,
          500.1000000000116,
          746.0000000000119,
          912.4000000000118,
          1292.3000000000104,
          1383.3000000000102,
          1368.600000000011,
          1356.3000000000127,
          1402.0000000000123,
          1480.1000000000133,
          1449.1000000000145,
          1370.1000000000142,
          1293.2000000000146,
          1395.600000000015,
          1572.3000000000145,
          1553.1000000000142,
          1541.2000000000144,
          1396.300000000016,
          1292.9000000000144,
          1177.9000000000137,
          1314.000000000015,
          1295.200000000015,
          1295.5000000000148,
          1288.2000000000157,
          1258.400000000016,
          1403.800000000016,
          1260.400000000018,
          1267.1000000000176,
          1460.2000000000191,
          1351.2000000000169,
          1223.9000000000156,
          1190.7000000000157,
          1144.8000000000147,
          1411.1000000000158,
          1384.7000000000148,
          1268.9000000000133,
          1207.700000000014,
          1559.4000000000135,
          1549.200000000013,
          1649.8000000000136,
          1638.6000000000136,
          1628.6000000000124,
          1621.1000000000122,
          1545.0000000000089,
          1538.4000000000078,
          1511.400000000007,
          1248.400000000007,
          738.0000000000073,
          726.5000000000064,
          493.5000000000054,
          458.7000000000039,
          353.40000000000464,
          327.3000000000046,
          -49.29999999999535,
          -110.09999999999398,
          -155.5999999999945,
          -131.29999999999407,
          -151.3999999999934,
          -164.89999999999304,
          63.40000000000822,
          186.400000000008,
          158.60000000000795,
          272.5000000000081,
          285.200000000009,
          455.000000000009,
          447.8000000000087,
          404.20000000000954,
          626.2000000000094,
          711.4000000000083,
          664.9000000000078,
          590.9000000000082,
          655.100000000008,
          617.5000000000082,
          648.3000000000079,
          569.7000000000081,
          564.3000000000083,
          420.3000000000086,
          387.7000000000082,
          448.4000000000081,
          500.50000000000676,
          483.00000000000756,
          413.8000000000072,
          317.50000000000693,
          147.30000000000769,
          116.60000000000862,
          170.40000000000802,
          57.10000000000741,
          -19.09999999999218,
          -30.699999999990457,
          -155.8999999999891,
          28.300000000009703,
          16.500000000010115,
          6.400000000010561,
          42.90000000001098,
          65.70000000001046,
          42.00000000001063,
          5.400000000010664,
          -25.199999999989963,
          57.500000000010026,
          -22.599999999989585,
          -220.09999999999044,
          -322.79999999999046,
          -445.89999999998867,
          -26.5999999999907,
          -238.19999999998925,
          29.20000000001062,
          -59.299999999991314,
          -52.59999999999183,
          829.4000000000107,
          405.30000000001246,
          375.90000000001305,
          512.1000000000126,
          660.3000000000111,
          822.9000000000116,
          811.8000000000121,
          852.5000000000111,
          826.3000000000111,
          134.10000000001423,
          97.30000000001407,
          47.40000000001468,
          -14.39999999998384,
          126.10000000001733,
          277.200000000018,
          288.00000000001774,
          255.80000000001775,
          242.40000000001913,
          185.2000000000179,
          86.00000000001887,
          43.500000000019114,
          -76.49999999998259,
          -123.99999999998292,
          -129.59999999998124,
          -131.49999999998147,
          -169.09999999998053,
          -171.59999999998135,
          -219.9999999999809,
          -273.5999999999812,
          -257.6999999999806,
          -381.89999999998247,
          -510.49999999998124,
          -549.3999999999808,
          -607.4999999999794,
          -681.499999999978,
          -675.8999999999779,
          -725.2999999999779,
          -744.0999999999779,
          -216.69999999997776,
          335.7000000000223,
          322.4000000000218,
          187.5000000000218,
          79.5000000000226,
          64.3000000000225,
          240.10000000002398,
          227.60000000002424,
          1141.600000000024,
          1120.600000000024,
          1106.6000000000245,
          1072.800000000023,
          1061.800000000023,
          1216.0000000000227,
          1408.2000000000228,
          1711.5000000000225,
          2391.700000000023,
          2363.200000000023,
          2378.100000000023,
          2505.3000000000225,
          2485.100000000022,
          2542.3000000000216,
          2471.7000000000207,
          2477.200000000019,
          2430.4000000000187,
          2419.600000000019,
          2349.4000000000187,
          2307.2000000000176,
          2210.7000000000194,
          2162.100000000021,
          2118.7000000000216,
          2071.500000000021,
          2024.8000000000193,
          2009.6000000000197,
          1906.4000000000196,
          1845.8000000000202,
          1958.9000000000194,
          2132.90000000002,
          2165.4000000000196,
          2400.1000000000195,
          2467.700000000018,
          2507.4000000000183,
          2473.4000000000174,
          2459.300000000017,
          2432.700000000018,
          2343.300000000016,
          2249.300000000015,
          2225.700000000014,
          2119.300000000012,
          2055.3000000000125,
          2002.3000000000116,
          1951.3000000000104,
          2288.10000000001,
          2603.7000000000103,
          2471.200000000008,
          2538.6000000000076,
          2545.2000000000075,
          2500.3000000000075,
          2494.6000000000076,
          2587.5000000000064,
          2567.800000000006,
          2714.500000000006,
          2639.7000000000053,
          2685.900000000007,
          2513.4000000000083,
          2756.30000000001,
          2667.4000000000096,
          2693.800000000007,
          2693.0000000000073,
          2640.900000000008,
          2614.500000000006,
          2570.900000000007,
          2557.200000000007,
          2529.7000000000066,
          2382.000000000009,
          2255.0000000000095,
          2332.2000000000103,
          2264.6000000000095,
          1870.0000000000111,
          2404.800000000011,
          2664.3000000000116,
          2833.9000000000124,
          3216.800000000014,
          3226.800000000014,
          3292.8000000000134,
          3606.800000000013,
          3641.700000000013,
          3575.900000000013,
          3669.4000000000133,
          3738.6000000000126,
          3771.9000000000124,
          3675.600000000013,
          3624.8000000000134,
          3606.1000000000136,
          3495.8000000000125,
          3520.800000000012,
          3579.2000000000126,
          3515.5000000000127,
          3441.9000000000124,
          3406.900000000012,
          3380.6000000000126,
          3324.800000000011,
          3308.40000000001,
          3336.2000000000107,
          3268.2000000000094,
          3273.70000000001,
          3221.2000000000103,
          3144.400000000009,
          3056.4000000000096,
          2947.00000000001,
          2663.9000000000096,
          2509.0000000000073,
          2392.1000000000085,
          2373.200000000008,
          2289.800000000008,
          2191.4000000000074,
          2150.800000000008,
          2219.3000000000084,
          2050.900000000008,
          2549.900000000006,
          2720.6000000000054,
          2816.2000000000053,
          2810.8000000000043,
          2886.1000000000045,
          2842.500000000004,
          2818.0000000000055,
          2751.100000000007,
          2731.300000000008,
          2676.700000000009,
          2731.500000000009,
          2930.7000000000085,
          2959.900000000008,
          2956.7000000000066,
          3398.400000000007,
          3432.100000000007,
          3385.2000000000075,
          3503.200000000008,
          3885.000000000009,
          3862.0000000000095,
          3792.600000000009,
          3633.6000000000085,
          3621.8000000000093,
          3519.600000000008,
          3718.7000000000066,
          3600.0000000000064,
          3495.400000000005,
          3643.500000000005,
          3628.0000000000055,
          3572.8000000000056,
          3940.800000000005,
          3924.0000000000064,
          4085.4000000000055,
          3932.5000000000077,
          3821.700000000008,
          3792.3000000000075,
          3690.600000000007,
          3517.6000000000067,
          3537.800000000007,
          3435.5000000000073,
          3320.600000000007,
          3223.8000000000084,
          3077.1000000000067,
          3072.6000000000063,
          3011.700000000007,
          2972.900000000006,
          2725.0000000000073,
          2636.500000000007,
          2672.9000000000065,
          2603.1000000000085,
          2824.000000000009,
          2866.6000000000095,
          2833.600000000011,
          2808.5000000000105,
          2777.9000000000096,
          2633.8000000000093,
          2590.8000000000084,
          2461.0000000000086,
          2304.4000000000087,
          2299.700000000008,
          2161.9000000000065,
          2158.9000000000065,
          2090.800000000005,
          2031.4000000000046,
          1954.200000000005,
          1889.0000000000032,
          1879.800000000003,
          1936.900000000004,
          1836.700000000003,
          1734.4000000000033,
          1721.4000000000035,
          1708.600000000004,
          1725.8000000000045,
          1700.6000000000035,
          1640.7000000000019,
          1496.7999999999997,
          1339.0999999999985,
          1202.2999999999993,
          1171.5,
          1304.1000000000008,
          1294.8000000000009,
          1506.8000000000013,
          1659.1,
          1776.6999999999987,
          1614.0999999999972,
          1810.099999999998,
          1746.0999999999974,
          1797.1999999999969,
          1728.6999999999966,
          1666.0999999999951,
          1608.9999999999952,
          1569.999999999995,
          1529.6999999999953,
          1530.499999999995,
          1636.5999999999951,
          1838.0999999999951,
          1910.899999999997,
          1823.9999999999961,
          1901.7999999999952,
          1903.1999999999955,
          1966.1999999999964,
          1987.3999999999965,
          1911.5999999999951,
          1836.8999999999942,
          1753.5999999999947,
          1566.0999999999965,
          1483.6999999999962,
          1463.399999999996,
          1415.3999999999958,
          1362.2999999999954,
          1419.2999999999959,
          1418.5999999999979,
          1398.5999999999979,
          1379.8999999999976,
          1304.4999999999966,
          1291.499999999998,
          1252.4999999999977,
          1232.899999999998,
          1143.2999999999995,
          1154.6000000000004,
          1059.4000000000005,
          1043.9000000000012,
          972.2,
          933.0000000000008,
          918.3,
          1015.4999999999986,
          1063.4999999999989,
          1169.4999999999982,
          1564.4999999999995,
          1584.3999999999994,
          1750.999999999999,
          1677.9999999999989,
          1769.899999999998,
          1908.7999999999977,
          2023.9999999999975,
          1865.3999999999976,
          1832.4999999999975,
          1818.699999999996,
          1797.4999999999948,
          1763.7999999999938,
          1732.8999999999935,
          1734.8999999999933,
          1688.6999999999925,
          1650.3999999999926,
          1652.5999999999926,
          1580.1999999999935,
          1628.599999999993,
          1574.199999999993,
          1455.2999999999895,
          1255.2999999999895,
          1261.2999999999888,
          1191.29999999999,
          1054.2999999999925,
          1275.1999999999928,
          1271.0999999999926,
          1424.5999999999935,
          1615.4999999999927,
          1573.4999999999918,
          1587.0999999999929,
          1571.8999999999921,
          1473.399999999993,
          1434.4999999999936,
          1388.8999999999946,
          1323.699999999996,
          1219.1999999999953,
          1193.1999999999948,
          1147.6999999999964,
          1121.9999999999968,
          1030.299999999998,
          924.2999999999985,
          898.4999999999982,
          851.699999999998,
          812.1999999999979,
          725.4999999999983,
          647.6999999999982,
          568.5999999999974,
          483.69999999999857,
          486.9999999999991,
          421.79999999999757,
          359.7999999999971,
          326.9999999999965,
          344.7999999999962,
          424.1999999999973,
          382.799999999997,
          368.59999999999724,
          423.89999999999696,
          590.199999999998,
          509.19999999999806,
          809.3999999999996,
          785.4999999999997,
          724.4000000000002,
          750.1999999999994,
          803.2000000000002,
          738.7000000000018,
          554.9000000000002,
          590.3000000000012,
          539.3000000000013,
          467.9000000000021,
          352.6000000000041,
          327.6000000000046,
          287.60000000000457,
          411.40000000000515,
          472.2000000000049,
          557.7000000000055,
          486.7000000000044,
          453.20000000000476,
          383.8000000000053,
          354.7000000000045,
          300.1000000000043,
          260.50000000000466,
          347.6000000000046,
          331.80000000000547,
          508.40000000000555,
          485.9000000000069,
          397.10000000000696,
          238.50000000000665,
          223.3000000000059,
          165.9000000000061,
          179.40000000000802,
          218.20000000000854,
          198.00000000000833,
          155.2000000000086,
          136.5000000000082,
          133.50000000000855,
          83.90000000000762,
          79.90000000000806,
          44.30000000000861,
          332.6000000000099,
          579.0000000000099,
          539.5000000000102,
          603.1000000000116,
          563.8000000000116,
          544.900000000011,
          506.60000000001,
          565.90000000001,
          722.4000000000106,
          888.0000000000107,
          867.6000000000103,
          1181.200000000008,
          1327.3000000000081,
          1363.200000000008,
          1410.0000000000082,
          1477.4000000000087,
          1570.10000000001,
          1519.900000000012,
          1446.0000000000118,
          1461.2000000000105,
          1452.30000000001,
          1434.2000000000091,
          1391.6000000000076,
          1265.4000000000049,
          1251.200000000005,
          1166.0000000000043,
          1152.0000000000048,
          1368.800000000004,
          1419.5000000000032,
          1426.400000000004,
          1456.2000000000037,
          1416.200000000003,
          1405.4000000000026,
          1382.8000000000027,
          1379.9000000000026,
          1379.0000000000023,
          1367.7000000000014,
          1356.2000000000005,
          1365.2000000000007,
          1322.8999999999999,
          1304.9000000000005,
          1285.1000000000008,
          1246.4000000000008,
          1224.7000000000007,
          1184.8000000000006,
          1120.5999999999997,
          1042.5999999999995,
          999.0999999999992,
          998.4999999999992,
          979.7000000000004,
          955.0999999999995,
          951.8000000000001,
          932.6999999999998,
          916.0999999999999,
          939.399999999999,
          1044.999999999998,
          1040.399999999996,
          973.1999999999935,
          848.0999999999946,
          742.3999999999949,
          671.5999999999951,
          662.1999999999946,
          652.1999999999946,
          644.3999999999945,
          638.3999999999941,
          587.1999999999939,
          911.699999999993,
          1096.2999999999922,
          1035.6999999999919,
          1118.9999999999914,
          1533.9999999999918,
          1693.2999999999918,
          1670.6999999999925,
          1731.3999999999905,
          1816.5999999999904,
          1761.9999999999902,
          1707.399999999991,
          1652.999999999991,
          1629.9999999999911,
          1639.599999999992,
          1608.8999999999917,
          1565.899999999992,
          1538.9999999999914,
          1482.799999999993,
          1428.0999999999917,
          1414.4999999999914,
          1353.099999999991,
          1330.8999999999921,
          1327.7999999999918,
          1267.499999999992,
          1208.2999999999906,
          1193.0999999999906,
          1209.0999999999904,
          1182.0999999999908,
          1110.2999999999902,
          1115.5999999999906,
          1142.3999999999908,
          1379.8999999999908,
          1939.0999999999906,
          1737.4999999999911,
          1643.999999999991,
          1697.699999999993,
          1513.1999999999923,
          1502.799999999992,
          1407.2999999999925,
          1298.8999999999928,
          1212.2999999999915,
          1176.799999999991,
          1119.9999999999927,
          1066.799999999993,
          1390.9999999999918,
          1742.4999999999932,
          1943.4999999999932,
          1862.299999999992,
          1715.8999999999921,
          1708.0999999999922,
          1611.799999999992,
          1529.599999999993,
          1450.1999999999925,
          1400.599999999994,
          1341.3999999999937,
          1261.5999999999938,
          1382.399999999997,
          1352.9999999999975,
          1303.7999999999972,
          1559.6999999999973,
          1549.3999999999976,
          1755.9999999999977,
          1755.1999999999969,
          1777.1999999999955,
          1741.5999999999954,
          1691.5999999999965,
          1593.5999999999963,
          1625.4999999999966,
          1370.3999999999974,
          1185.799999999997,
          1106.5999999999967,
          1143.7999999999984,
          1122.8999999999992,
          1097.3000000000002,
          1171.7000000000014,
          1127.4000000000021,
          1104.000000000002,
          1402.600000000002,
          1343.2000000000014,
          1790.2000000000012,
          2113.500000000001,
          1969.0999999999992,
          2454.6999999999985,
          2421.899999999998,
          3108.2999999999984,
          3253.2999999999993,
          3554.499999999999,
          4402.0999999999985,
          4345.5999999999985,
          4275.799999999998,
          4300.5999999999985,
          4323.399999999999,
          4227.4000000000015,
          4212.200000000003,
          4186.800000000001,
          4022.7000000000016,
          3970.7000000000007,
          3942.7000000000003,
          3908.1,
          3934.2,
          3807.899999999999,
          3934.6999999999985,
          3950.4999999999977,
          3903.4999999999977,
          3753.899999999997,
          3699.499999999998,
          3193.499999999998,
          3457.699999999998,
          3457.8999999999983,
          3642.3999999999983,
          3554.7999999999984,
          3514.4999999999986,
          3315.9999999999973,
          3135.9999999999964,
          2955.8999999999955,
          2938.2999999999956,
          2790.099999999997,
          3195.6999999999966,
          3361.1999999999953,
          3350.6999999999953,
          3409.299999999995,
          3526.0999999999954,
          3551.6999999999953,
          3552.0999999999945,
          3582.8999999999937,
          3574.8999999999933,
          3851.399999999993,
          3850.1999999999925,
          3822.699999999992,
          4432.599999999991,
          4337.299999999991,
          4367.199999999992,
          4464.799999999992,
          4649.399999999992,
          4556.399999999991,
          5160.6999999999925,
          5037.099999999992,
          6007.59999999999,
          5923.099999999989,
          5898.499999999989,
          6075.69999999999,
          6380.8999999999905,
          6365.099999999991,
          6500.799999999991,
          6448.099999999992,
          6401.099999999992,
          6321.699999999991,
          6197.099999999991,
          6109.899999999991,
          5842.699999999991,
          5790.399999999991,
          5747.699999999992,
          5726.699999999991,
          5708.99999999999,
          5680.099999999989,
          5611.69999999999,
          5591.499999999991,
          5527.49999999999,
          5421.8999999999905,
          5377.999999999992,
          5305.999999999992,
          5199.599999999992,
          5138.699999999992,
          5097.899999999992,
          4963.899999999991,
          4782.899999999991,
          4774.599999999991,
          4736.799999999991,
          4721.79999999999,
          4706.799999999991,
          4727.199999999992,
          5132.199999999992,
          5227.699999999991,
          5069.1999999999925,
          5100.199999999993,
          5113.999999999994,
          5169.799999999994,
          5246.599999999994,
          5294.299999999994,
          5335.699999999995,
          5366.299999999994,
          5351.199999999993,
          5142.499999999994,
          5089.799999999994,
          4951.6999999999925,
          5220.899999999993,
          5517.899999999993,
          5866.099999999993,
          6114.699999999993,
          6090.099999999994,
          5930.299999999993,
          6447.599999999993,
          6499.9999999999945,
          6651.299999999996,
          6846.099999999995,
          6956.299999999994,
          6857.099999999995,
          7020.699999999995,
          7019.099999999995,
          6968.799999999995,
          6842.599999999996,
          6663.699999999996,
          6440.099999999995,
          6373.699999999995,
          6323.399999999995,
          6314.499999999995,
          6402.099999999995,
          6350.099999999994,
          6361.199999999994,
          6284.799999999996,
          6314.899999999996,
          6166.099999999996,
          6138.299999999996,
          6081.499999999995,
          6023.599999999994,
          5958.9999999999945,
          5901.599999999995,
          5845.799999999996,
          5655.999999999995,
          5656.799999999994,
          5625.199999999993,
          5609.1999999999925,
          5576.099999999994,
          5276.599999999997,
          5265.499999999998,
          5123.899999999999,
          5081.0999999999985,
          4982.5999999999985,
          4797.2,
          4838.599999999999,
          4744.999999999999,
          4813.800000000001,
          4912.100000000001,
          5106.6,
          5323.5999999999985,
          5243.699999999998,
          5313.899999999998,
          5253.399999999999,
          5136.1,
          5088.100000000001,
          5026.6,
          4837.999999999999,
          4768.499999999998,
          4755.299999999998,
          4757.599999999998,
          4689.299999999997,
          4676.599999999998,
          4641.5999999999985,
          4624.999999999998,
          4814.399999999997,
          4915.099999999997,
          4878.699999999997,
          4936.899999999998,
          4983.399999999997,
          4960.2999999999965,
          5277.899999999997,
          5143.399999999997,
          4947.499999999997,
          4943.199999999997,
          4948.799999999998,
          4961.399999999998,
          5013.599999999998,
          4963.799999999997,
          4895.999999999998,
          4866.999999999996,
          4855.599999999996,
          4833.499999999996,
          4814.599999999996,
          4539.999999999996,
          4451.299999999996,
          4320.499999999996,
          4238.599999999998,
          4162.899999999997,
          4231.099999999995,
          4579.4999999999945,
          4672.099999999996,
          4608.399999999995,
          4553.299999999995,
          4632.499999999996,
          4723.299999999995,
          4576.4999999999945,
          4561.399999999996,
          4501.099999999995,
          4358.699999999994,
          4410.999999999995,
          4304.699999999995,
          4201.899999999994,
          4178.799999999995,
          4025.399999999993,
          3996.799999999993,
          4568.899999999993,
          4518.599999999993,
          4504.199999999993,
          4426.199999999993,
          4402.399999999994,
          4889.599999999994,
          4821.099999999995,
          4704.199999999997,
          4681.499999999997,
          4428.199999999999,
          4231.1,
          4052.7000000000016,
          3963.0000000000023,
          3914.7000000000035,
          3867.6000000000035,
          3819.0000000000036,
          3753.6000000000035,
          3775.4000000000024,
          3698.7000000000016,
          3711.7000000000025,
          3602.100000000006,
          3461.4000000000055,
          3154.100000000004,
          2993.7000000000035,
          3095.1000000000045,
          2921.600000000005,
          2765.8000000000056,
          2812.300000000006,
          2796.200000000006,
          2751.300000000006,
          2682.9000000000065,
          2704.2000000000085,
          2673.5000000000095,
          2624.1000000000095,
          2570.9000000000083,
          2487.900000000007,
          2451.200000000008,
          2371.0000000000086
         ]
        }
       ],
       "layout": {
        "font": {
         "color": "#3d825f",
         "size": 10
        },
        "height": 400,
        "margin": {
         "b": 10,
         "l": 15,
         "r": 15
        },
        "paper_bgcolor": "#1e1e1e",
        "plot_bgcolor": "#1e1e1e",
        "template": {
         "data": {
          "bar": [
           {
            "error_x": {
             "color": "#2a3f5f"
            },
            "error_y": {
             "color": "#2a3f5f"
            },
            "marker": {
             "line": {
              "color": "#E5ECF6",
              "width": 0.5
             },
             "pattern": {
              "fillmode": "overlay",
              "size": 10,
              "solidity": 0.2
             }
            },
            "type": "bar"
           }
          ],
          "barpolar": [
           {
            "marker": {
             "line": {
              "color": "#E5ECF6",
              "width": 0.5
             },
             "pattern": {
              "fillmode": "overlay",
              "size": 10,
              "solidity": 0.2
             }
            },
            "type": "barpolar"
           }
          ],
          "carpet": [
           {
            "aaxis": {
             "endlinecolor": "#2a3f5f",
             "gridcolor": "white",
             "linecolor": "white",
             "minorgridcolor": "white",
             "startlinecolor": "#2a3f5f"
            },
            "baxis": {
             "endlinecolor": "#2a3f5f",
             "gridcolor": "white",
             "linecolor": "white",
             "minorgridcolor": "white",
             "startlinecolor": "#2a3f5f"
            },
            "type": "carpet"
           }
          ],
          "choropleth": [
           {
            "colorbar": {
             "outlinewidth": 0,
             "ticks": ""
            },
            "type": "choropleth"
           }
          ],
          "contour": [
           {
            "colorbar": {
             "outlinewidth": 0,
             "ticks": ""
            },
            "colorscale": [
             [
              0,
              "#0d0887"
             ],
             [
              0.1111111111111111,
              "#46039f"
             ],
             [
              0.2222222222222222,
              "#7201a8"
             ],
             [
              0.3333333333333333,
              "#9c179e"
             ],
             [
              0.4444444444444444,
              "#bd3786"
             ],
             [
              0.5555555555555556,
              "#d8576b"
             ],
             [
              0.6666666666666666,
              "#ed7953"
             ],
             [
              0.7777777777777778,
              "#fb9f3a"
             ],
             [
              0.8888888888888888,
              "#fdca26"
             ],
             [
              1,
              "#f0f921"
             ]
            ],
            "type": "contour"
           }
          ],
          "contourcarpet": [
           {
            "colorbar": {
             "outlinewidth": 0,
             "ticks": ""
            },
            "type": "contourcarpet"
           }
          ],
          "heatmap": [
           {
            "colorbar": {
             "outlinewidth": 0,
             "ticks": ""
            },
            "colorscale": [
             [
              0,
              "#0d0887"
             ],
             [
              0.1111111111111111,
              "#46039f"
             ],
             [
              0.2222222222222222,
              "#7201a8"
             ],
             [
              0.3333333333333333,
              "#9c179e"
             ],
             [
              0.4444444444444444,
              "#bd3786"
             ],
             [
              0.5555555555555556,
              "#d8576b"
             ],
             [
              0.6666666666666666,
              "#ed7953"
             ],
             [
              0.7777777777777778,
              "#fb9f3a"
             ],
             [
              0.8888888888888888,
              "#fdca26"
             ],
             [
              1,
              "#f0f921"
             ]
            ],
            "type": "heatmap"
           }
          ],
          "heatmapgl": [
           {
            "colorbar": {
             "outlinewidth": 0,
             "ticks": ""
            },
            "colorscale": [
             [
              0,
              "#0d0887"
             ],
             [
              0.1111111111111111,
              "#46039f"
             ],
             [
              0.2222222222222222,
              "#7201a8"
             ],
             [
              0.3333333333333333,
              "#9c179e"
             ],
             [
              0.4444444444444444,
              "#bd3786"
             ],
             [
              0.5555555555555556,
              "#d8576b"
             ],
             [
              0.6666666666666666,
              "#ed7953"
             ],
             [
              0.7777777777777778,
              "#fb9f3a"
             ],
             [
              0.8888888888888888,
              "#fdca26"
             ],
             [
              1,
              "#f0f921"
             ]
            ],
            "type": "heatmapgl"
           }
          ],
          "histogram": [
           {
            "marker": {
             "pattern": {
              "fillmode": "overlay",
              "size": 10,
              "solidity": 0.2
             }
            },
            "type": "histogram"
           }
          ],
          "histogram2d": [
           {
            "colorbar": {
             "outlinewidth": 0,
             "ticks": ""
            },
            "colorscale": [
             [
              0,
              "#0d0887"
             ],
             [
              0.1111111111111111,
              "#46039f"
             ],
             [
              0.2222222222222222,
              "#7201a8"
             ],
             [
              0.3333333333333333,
              "#9c179e"
             ],
             [
              0.4444444444444444,
              "#bd3786"
             ],
             [
              0.5555555555555556,
              "#d8576b"
             ],
             [
              0.6666666666666666,
              "#ed7953"
             ],
             [
              0.7777777777777778,
              "#fb9f3a"
             ],
             [
              0.8888888888888888,
              "#fdca26"
             ],
             [
              1,
              "#f0f921"
             ]
            ],
            "type": "histogram2d"
           }
          ],
          "histogram2dcontour": [
           {
            "colorbar": {
             "outlinewidth": 0,
             "ticks": ""
            },
            "colorscale": [
             [
              0,
              "#0d0887"
             ],
             [
              0.1111111111111111,
              "#46039f"
             ],
             [
              0.2222222222222222,
              "#7201a8"
             ],
             [
              0.3333333333333333,
              "#9c179e"
             ],
             [
              0.4444444444444444,
              "#bd3786"
             ],
             [
              0.5555555555555556,
              "#d8576b"
             ],
             [
              0.6666666666666666,
              "#ed7953"
             ],
             [
              0.7777777777777778,
              "#fb9f3a"
             ],
             [
              0.8888888888888888,
              "#fdca26"
             ],
             [
              1,
              "#f0f921"
             ]
            ],
            "type": "histogram2dcontour"
           }
          ],
          "mesh3d": [
           {
            "colorbar": {
             "outlinewidth": 0,
             "ticks": ""
            },
            "type": "mesh3d"
           }
          ],
          "parcoords": [
           {
            "line": {
             "colorbar": {
              "outlinewidth": 0,
              "ticks": ""
             }
            },
            "type": "parcoords"
           }
          ],
          "pie": [
           {
            "automargin": true,
            "type": "pie"
           }
          ],
          "scatter": [
           {
            "fillpattern": {
             "fillmode": "overlay",
             "size": 10,
             "solidity": 0.2
            },
            "type": "scatter"
           }
          ],
          "scatter3d": [
           {
            "line": {
             "colorbar": {
              "outlinewidth": 0,
              "ticks": ""
             }
            },
            "marker": {
             "colorbar": {
              "outlinewidth": 0,
              "ticks": ""
             }
            },
            "type": "scatter3d"
           }
          ],
          "scattercarpet": [
           {
            "marker": {
             "colorbar": {
              "outlinewidth": 0,
              "ticks": ""
             }
            },
            "type": "scattercarpet"
           }
          ],
          "scattergeo": [
           {
            "marker": {
             "colorbar": {
              "outlinewidth": 0,
              "ticks": ""
             }
            },
            "type": "scattergeo"
           }
          ],
          "scattergl": [
           {
            "marker": {
             "colorbar": {
              "outlinewidth": 0,
              "ticks": ""
             }
            },
            "type": "scattergl"
           }
          ],
          "scattermapbox": [
           {
            "marker": {
             "colorbar": {
              "outlinewidth": 0,
              "ticks": ""
             }
            },
            "type": "scattermapbox"
           }
          ],
          "scatterpolar": [
           {
            "marker": {
             "colorbar": {
              "outlinewidth": 0,
              "ticks": ""
             }
            },
            "type": "scatterpolar"
           }
          ],
          "scatterpolargl": [
           {
            "marker": {
             "colorbar": {
              "outlinewidth": 0,
              "ticks": ""
             }
            },
            "type": "scatterpolargl"
           }
          ],
          "scatterternary": [
           {
            "marker": {
             "colorbar": {
              "outlinewidth": 0,
              "ticks": ""
             }
            },
            "type": "scatterternary"
           }
          ],
          "surface": [
           {
            "colorbar": {
             "outlinewidth": 0,
             "ticks": ""
            },
            "colorscale": [
             [
              0,
              "#0d0887"
             ],
             [
              0.1111111111111111,
              "#46039f"
             ],
             [
              0.2222222222222222,
              "#7201a8"
             ],
             [
              0.3333333333333333,
              "#9c179e"
             ],
             [
              0.4444444444444444,
              "#bd3786"
             ],
             [
              0.5555555555555556,
              "#d8576b"
             ],
             [
              0.6666666666666666,
              "#ed7953"
             ],
             [
              0.7777777777777778,
              "#fb9f3a"
             ],
             [
              0.8888888888888888,
              "#fdca26"
             ],
             [
              1,
              "#f0f921"
             ]
            ],
            "type": "surface"
           }
          ],
          "table": [
           {
            "cells": {
             "fill": {
              "color": "#EBF0F8"
             },
             "line": {
              "color": "white"
             }
            },
            "header": {
             "fill": {
              "color": "#C8D4E3"
             },
             "line": {
              "color": "white"
             }
            },
            "type": "table"
           }
          ]
         },
         "layout": {
          "annotationdefaults": {
           "arrowcolor": "#2a3f5f",
           "arrowhead": 0,
           "arrowwidth": 1
          },
          "autotypenumbers": "strict",
          "coloraxis": {
           "colorbar": {
            "outlinewidth": 0,
            "ticks": ""
           }
          },
          "colorscale": {
           "diverging": [
            [
             0,
             "#8e0152"
            ],
            [
             0.1,
             "#c51b7d"
            ],
            [
             0.2,
             "#de77ae"
            ],
            [
             0.3,
             "#f1b6da"
            ],
            [
             0.4,
             "#fde0ef"
            ],
            [
             0.5,
             "#f7f7f7"
            ],
            [
             0.6,
             "#e6f5d0"
            ],
            [
             0.7,
             "#b8e186"
            ],
            [
             0.8,
             "#7fbc41"
            ],
            [
             0.9,
             "#4d9221"
            ],
            [
             1,
             "#276419"
            ]
           ],
           "sequential": [
            [
             0,
             "#0d0887"
            ],
            [
             0.1111111111111111,
             "#46039f"
            ],
            [
             0.2222222222222222,
             "#7201a8"
            ],
            [
             0.3333333333333333,
             "#9c179e"
            ],
            [
             0.4444444444444444,
             "#bd3786"
            ],
            [
             0.5555555555555556,
             "#d8576b"
            ],
            [
             0.6666666666666666,
             "#ed7953"
            ],
            [
             0.7777777777777778,
             "#fb9f3a"
            ],
            [
             0.8888888888888888,
             "#fdca26"
            ],
            [
             1,
             "#f0f921"
            ]
           ],
           "sequentialminus": [
            [
             0,
             "#0d0887"
            ],
            [
             0.1111111111111111,
             "#46039f"
            ],
            [
             0.2222222222222222,
             "#7201a8"
            ],
            [
             0.3333333333333333,
             "#9c179e"
            ],
            [
             0.4444444444444444,
             "#bd3786"
            ],
            [
             0.5555555555555556,
             "#d8576b"
            ],
            [
             0.6666666666666666,
             "#ed7953"
            ],
            [
             0.7777777777777778,
             "#fb9f3a"
            ],
            [
             0.8888888888888888,
             "#fdca26"
            ],
            [
             1,
             "#f0f921"
            ]
           ]
          },
          "colorway": [
           "#636efa",
           "#EF553B",
           "#00cc96",
           "#ab63fa",
           "#FFA15A",
           "#19d3f3",
           "#FF6692",
           "#B6E880",
           "#FF97FF",
           "#FECB52"
          ],
          "font": {
           "color": "#2a3f5f"
          },
          "geo": {
           "bgcolor": "white",
           "lakecolor": "white",
           "landcolor": "#E5ECF6",
           "showlakes": true,
           "showland": true,
           "subunitcolor": "white"
          },
          "hoverlabel": {
           "align": "left"
          },
          "hovermode": "closest",
          "mapbox": {
           "style": "light"
          },
          "paper_bgcolor": "white",
          "plot_bgcolor": "#E5ECF6",
          "polar": {
           "angularaxis": {
            "gridcolor": "white",
            "linecolor": "white",
            "ticks": ""
           },
           "bgcolor": "#E5ECF6",
           "radialaxis": {
            "gridcolor": "white",
            "linecolor": "white",
            "ticks": ""
           }
          },
          "scene": {
           "xaxis": {
            "backgroundcolor": "#E5ECF6",
            "gridcolor": "white",
            "gridwidth": 2,
            "linecolor": "white",
            "showbackground": true,
            "ticks": "",
            "zerolinecolor": "white"
           },
           "yaxis": {
            "backgroundcolor": "#E5ECF6",
            "gridcolor": "white",
            "gridwidth": 2,
            "linecolor": "white",
            "showbackground": true,
            "ticks": "",
            "zerolinecolor": "white"
           },
           "zaxis": {
            "backgroundcolor": "#E5ECF6",
            "gridcolor": "white",
            "gridwidth": 2,
            "linecolor": "white",
            "showbackground": true,
            "ticks": "",
            "zerolinecolor": "white"
           }
          },
          "shapedefaults": {
           "line": {
            "color": "#2a3f5f"
           }
          },
          "ternary": {
           "aaxis": {
            "gridcolor": "white",
            "linecolor": "white",
            "ticks": ""
           },
           "baxis": {
            "gridcolor": "white",
            "linecolor": "white",
            "ticks": ""
           },
           "bgcolor": "#E5ECF6",
           "caxis": {
            "gridcolor": "white",
            "linecolor": "white",
            "ticks": ""
           }
          },
          "title": {
           "x": 0.05
          },
          "xaxis": {
           "automargin": true,
           "gridcolor": "white",
           "linecolor": "white",
           "ticks": "",
           "title": {
            "standoff": 15
           },
           "zerolinecolor": "white",
           "zerolinewidth": 2
          },
          "yaxis": {
           "automargin": true,
           "gridcolor": "white",
           "linecolor": "white",
           "ticks": "",
           "title": {
            "standoff": 15
           },
           "zerolinecolor": "white",
           "zerolinewidth": 2
          }
         }
        },
        "title": {
         "text": "ma_16_96"
        },
        "width": 1000,
        "xaxis": {
         "linecolor": "#3a4a54",
         "linewidth": 1,
         "showgrid": false,
         "zeroline": false
        },
        "yaxis": {
         "linecolor": "#3a4a54",
         "linewidth": 1,
         "showgrid": false,
         "zeroline": false
        }
       }
      }
     },
     "metadata": {},
     "output_type": "display_data"
    }
   ],
   "source": [
    "for c in crosses:\n",
    "    temp_df = all_trades[(all_trades.cross==c)].copy()\n",
    "    temp_df = temp_df.groupby(by='time', as_index=False).sum()\n",
    "    temp_df['cum_gain'] = temp_df.gain.cumsum()\n",
    "    plot_line(temp_df, c)"
   ]
  },
  {
   "cell_type": "code",
   "execution_count": 66,
   "metadata": {},
   "outputs": [],
   "source": [
    "for c in crosses:\n",
    "    tmp_df = all_trades[(all_trades.cross == c)].copy()\n",
    "    tmp_df.sort_values(by='gain', inplace=True, ascending=False)\n",
    "    "
   ]
  },
  {
   "cell_type": "code",
   "execution_count": 67,
   "metadata": {},
   "outputs": [
    {
     "data": {
      "text/html": [
       "<div>\n",
       "<style scoped>\n",
       "    .dataframe tbody tr th:only-of-type {\n",
       "        vertical-align: middle;\n",
       "    }\n",
       "\n",
       "    .dataframe tbody tr th {\n",
       "        vertical-align: top;\n",
       "    }\n",
       "\n",
       "    .dataframe thead th {\n",
       "        text-align: right;\n",
       "    }\n",
       "</style>\n",
       "<table border=\"1\" class=\"dataframe\">\n",
       "  <thead>\n",
       "    <tr style=\"text-align: right;\">\n",
       "      <th></th>\n",
       "      <th>time</th>\n",
       "      <th>mid_c</th>\n",
       "      <th>diff</th>\n",
       "      <th>diff_prev</th>\n",
       "      <th>is_trade</th>\n",
       "      <th>delta</th>\n",
       "      <th>gain</th>\n",
       "      <th>pair</th>\n",
       "      <th>mashort</th>\n",
       "      <th>malong</th>\n",
       "      <th>duration</th>\n",
       "      <th>cross</th>\n",
       "    </tr>\n",
       "  </thead>\n",
       "  <tbody>\n",
       "    <tr>\n",
       "      <th>2888</th>\n",
       "      <td>2022-09-14 07:00:00+00:00</td>\n",
       "      <td>165.18400</td>\n",
       "      <td>-0.014469</td>\n",
       "      <td>0.056906</td>\n",
       "      <td>-1</td>\n",
       "      <td>-876.8</td>\n",
       "      <td>876.8</td>\n",
       "      <td>GBP_JPY</td>\n",
       "      <td>16</td>\n",
       "      <td>96</td>\n",
       "      <td>352.0</td>\n",
       "      <td>ma_16_96</td>\n",
       "    </tr>\n",
       "    <tr>\n",
       "      <th>2879</th>\n",
       "      <td>2022-09-13 22:00:00+00:00</td>\n",
       "      <td>1.14910</td>\n",
       "      <td>-0.001183</td>\n",
       "      <td>0.000152</td>\n",
       "      <td>-1</td>\n",
       "      <td>-686.4</td>\n",
       "      <td>686.4</td>\n",
       "      <td>GBP_USD</td>\n",
       "      <td>16</td>\n",
       "      <td>96</td>\n",
       "      <td>363.0</td>\n",
       "      <td>ma_16_96</td>\n",
       "    </tr>\n",
       "    <tr>\n",
       "      <th>1040</th>\n",
       "      <td>2022-05-30 04:00:00+00:00</td>\n",
       "      <td>127.00400</td>\n",
       "      <td>0.000760</td>\n",
       "      <td>-0.004062</td>\n",
       "      <td>1</td>\n",
       "      <td>680.2</td>\n",
       "      <td>680.2</td>\n",
       "      <td>USD_JPY</td>\n",
       "      <td>16</td>\n",
       "      <td>96</td>\n",
       "      <td>400.0</td>\n",
       "      <td>ma_16_96</td>\n",
       "    </tr>\n",
       "    <tr>\n",
       "      <th>3146</th>\n",
       "      <td>2022-09-29 01:00:00+00:00</td>\n",
       "      <td>1.47500</td>\n",
       "      <td>0.000191</td>\n",
       "      <td>-0.000280</td>\n",
       "      <td>1</td>\n",
       "      <td>642.8</td>\n",
       "      <td>642.8</td>\n",
       "      <td>GBP_CAD</td>\n",
       "      <td>16</td>\n",
       "      <td>96</td>\n",
       "      <td>177.0</td>\n",
       "      <td>ma_16_96</td>\n",
       "    </tr>\n",
       "    <tr>\n",
       "      <th>3783</th>\n",
       "      <td>2022-11-04 14:00:00+00:00</td>\n",
       "      <td>146.74800</td>\n",
       "      <td>-0.048771</td>\n",
       "      <td>0.019260</td>\n",
       "      <td>-1</td>\n",
       "      <td>-623.3</td>\n",
       "      <td>623.3</td>\n",
       "      <td>USD_JPY</td>\n",
       "      <td>16</td>\n",
       "      <td>96</td>\n",
       "      <td>311.0</td>\n",
       "      <td>ma_16_96</td>\n",
       "    </tr>\n",
       "    <tr>\n",
       "      <th>...</th>\n",
       "      <td>...</td>\n",
       "      <td>...</td>\n",
       "      <td>...</td>\n",
       "      <td>...</td>\n",
       "      <td>...</td>\n",
       "      <td>...</td>\n",
       "      <td>...</td>\n",
       "      <td>...</td>\n",
       "      <td>...</td>\n",
       "      <td>...</td>\n",
       "      <td>...</td>\n",
       "      <td>...</td>\n",
       "    </tr>\n",
       "    <tr>\n",
       "      <th>3521</th>\n",
       "      <td>2022-10-20 16:00:00+00:00</td>\n",
       "      <td>149.56900</td>\n",
       "      <td>0.006594</td>\n",
       "      <td>-0.002062</td>\n",
       "      <td>1</td>\n",
       "      <td>-299.5</td>\n",
       "      <td>-299.5</td>\n",
       "      <td>CHF_JPY</td>\n",
       "      <td>16</td>\n",
       "      <td>96</td>\n",
       "      <td>23.0</td>\n",
       "      <td>ma_16_96</td>\n",
       "    </tr>\n",
       "    <tr>\n",
       "      <th>3863</th>\n",
       "      <td>2022-11-09 23:00:00+00:00</td>\n",
       "      <td>1.13682</td>\n",
       "      <td>-0.000914</td>\n",
       "      <td>0.000270</td>\n",
       "      <td>-1</td>\n",
       "      <td>307.3</td>\n",
       "      <td>-307.3</td>\n",
       "      <td>GBP_USD</td>\n",
       "      <td>16</td>\n",
       "      <td>96</td>\n",
       "      <td>17.0</td>\n",
       "      <td>ma_16_96</td>\n",
       "    </tr>\n",
       "    <tr>\n",
       "      <th>641</th>\n",
       "      <td>2022-05-05 11:00:00+00:00</td>\n",
       "      <td>1.91154</td>\n",
       "      <td>-0.002825</td>\n",
       "      <td>0.000251</td>\n",
       "      <td>-1</td>\n",
       "      <td>338.4</td>\n",
       "      <td>-338.4</td>\n",
       "      <td>GBP_NZD</td>\n",
       "      <td>16</td>\n",
       "      <td>96</td>\n",
       "      <td>96.0</td>\n",
       "      <td>ma_16_96</td>\n",
       "    </tr>\n",
       "    <tr>\n",
       "      <th>2995</th>\n",
       "      <td>2022-09-20 18:00:00+00:00</td>\n",
       "      <td>149.01000</td>\n",
       "      <td>0.021771</td>\n",
       "      <td>-0.011188</td>\n",
       "      <td>1</td>\n",
       "      <td>-506.0</td>\n",
       "      <td>-506.0</td>\n",
       "      <td>CHF_JPY</td>\n",
       "      <td>16</td>\n",
       "      <td>96</td>\n",
       "      <td>41.0</td>\n",
       "      <td>ma_16_96</td>\n",
       "    </tr>\n",
       "    <tr>\n",
       "      <th>625</th>\n",
       "      <td>2022-05-04 19:00:00+00:00</td>\n",
       "      <td>1.96258</td>\n",
       "      <td>0.000832</td>\n",
       "      <td>-0.000297</td>\n",
       "      <td>1</td>\n",
       "      <td>-510.4</td>\n",
       "      <td>-510.4</td>\n",
       "      <td>GBP_NZD</td>\n",
       "      <td>16</td>\n",
       "      <td>96</td>\n",
       "      <td>16.0</td>\n",
       "      <td>ma_16_96</td>\n",
       "    </tr>\n",
       "  </tbody>\n",
       "</table>\n",
       "<p>1140 rows × 12 columns</p>\n",
       "</div>"
      ],
      "text/plain": [
       "                          time      mid_c      diff  diff_prev  is_trade  \\\n",
       "2888 2022-09-14 07:00:00+00:00  165.18400 -0.014469   0.056906        -1   \n",
       "2879 2022-09-13 22:00:00+00:00    1.14910 -0.001183   0.000152        -1   \n",
       "1040 2022-05-30 04:00:00+00:00  127.00400  0.000760  -0.004062         1   \n",
       "3146 2022-09-29 01:00:00+00:00    1.47500  0.000191  -0.000280         1   \n",
       "3783 2022-11-04 14:00:00+00:00  146.74800 -0.048771   0.019260        -1   \n",
       "...                        ...        ...       ...        ...       ...   \n",
       "3521 2022-10-20 16:00:00+00:00  149.56900  0.006594  -0.002062         1   \n",
       "3863 2022-11-09 23:00:00+00:00    1.13682 -0.000914   0.000270        -1   \n",
       "641  2022-05-05 11:00:00+00:00    1.91154 -0.002825   0.000251        -1   \n",
       "2995 2022-09-20 18:00:00+00:00  149.01000  0.021771  -0.011188         1   \n",
       "625  2022-05-04 19:00:00+00:00    1.96258  0.000832  -0.000297         1   \n",
       "\n",
       "      delta   gain     pair  mashort  malong  duration     cross  \n",
       "2888 -876.8  876.8  GBP_JPY       16      96     352.0  ma_16_96  \n",
       "2879 -686.4  686.4  GBP_USD       16      96     363.0  ma_16_96  \n",
       "1040  680.2  680.2  USD_JPY       16      96     400.0  ma_16_96  \n",
       "3146  642.8  642.8  GBP_CAD       16      96     177.0  ma_16_96  \n",
       "3783 -623.3  623.3  USD_JPY       16      96     311.0  ma_16_96  \n",
       "...     ...    ...      ...      ...     ...       ...       ...  \n",
       "3521 -299.5 -299.5  CHF_JPY       16      96      23.0  ma_16_96  \n",
       "3863  307.3 -307.3  GBP_USD       16      96      17.0  ma_16_96  \n",
       "641   338.4 -338.4  GBP_NZD       16      96      96.0  ma_16_96  \n",
       "2995 -506.0 -506.0  CHF_JPY       16      96      41.0  ma_16_96  \n",
       "625  -510.4 -510.4  GBP_NZD       16      96      16.0  ma_16_96  \n",
       "\n",
       "[1140 rows x 12 columns]"
      ]
     },
     "execution_count": 67,
     "metadata": {},
     "output_type": "execute_result"
    }
   ],
   "source": [
    "tmp_df"
   ]
  },
  {
   "cell_type": "code",
   "execution_count": null,
   "metadata": {},
   "outputs": [],
   "source": []
  }
 ],
 "metadata": {
  "kernelspec": {
   "display_name": "Python 3.9.13 ('gpu-data')",
   "language": "python",
   "name": "python3"
  },
  "language_info": {
   "codemirror_mode": {
    "name": "ipython",
    "version": 3
   },
   "file_extension": ".py",
   "mimetype": "text/x-python",
   "name": "python",
   "nbconvert_exporter": "python",
   "pygments_lexer": "ipython3",
   "version": "3.9.13"
  },
  "orig_nbformat": 4,
  "vscode": {
   "interpreter": {
    "hash": "5fc091cde34f289e745144a98398f23c71d812632c19536d781b1e8e4634b4dc"
   }
  }
 },
 "nbformat": 4,
 "nbformat_minor": 2
}
