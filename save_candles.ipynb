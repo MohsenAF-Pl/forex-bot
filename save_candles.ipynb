{
 "cells": [
  {
   "cell_type": "code",
   "execution_count": 30,
   "metadata": {},
   "outputs": [],
   "source": [
    "import requests\n",
    "import credentials\n",
    "import pandas as pd\n"
   ]
  },
  {
   "cell_type": "code",
   "execution_count": 31,
   "metadata": {},
   "outputs": [],
   "source": [
    "session = requests.Session()"
   ]
  },
  {
   "cell_type": "code",
   "execution_count": 32,
   "metadata": {},
   "outputs": [],
   "source": [
    "# we read the available pairs from the file we have saved before\n",
    "\n",
    "instrumnet_df = pd.read_pickle('instruments.pkl')"
   ]
  },
  {
   "cell_type": "code",
   "execution_count": 33,
   "metadata": {},
   "outputs": [],
   "source": [
    "# the currencies we are interested to trade them\n",
    "\n",
    "our_curr = ['EUR', 'USD', 'GBP', 'JPY', 'CHF', 'NZD', 'CAD']"
   ]
  },
  {
   "cell_type": "code",
   "execution_count": 34,
   "metadata": {},
   "outputs": [
    {
     "data": {
      "text/plain": [
       "(68, 5)"
      ]
     },
     "execution_count": 34,
     "metadata": {},
     "output_type": "execute_result"
    }
   ],
   "source": [
    "instrumnet_df.shape"
   ]
  },
  {
   "cell_type": "code",
   "execution_count": 35,
   "metadata": {},
   "outputs": [
    {
     "name": "stdout",
     "output_type": "stream",
     "text": [
      "<class 'pandas.core.frame.DataFrame'>\n",
      "RangeIndex: 68 entries, 0 to 67\n",
      "Data columns (total 5 columns):\n",
      " #   Column       Non-Null Count  Dtype \n",
      "---  ------       --------------  ----- \n",
      " 0   name         68 non-null     object\n",
      " 1   type         68 non-null     object\n",
      " 2   displayName  68 non-null     object\n",
      " 3   pipLocation  68 non-null     int64 \n",
      " 4   marginRate   68 non-null     object\n",
      "dtypes: int64(1), object(4)\n",
      "memory usage: 2.8+ KB\n"
     ]
    }
   ],
   "source": [
    "instrumnet_df.info()"
   ]
  },
  {
   "cell_type": "code",
   "execution_count": 36,
   "metadata": {},
   "outputs": [
    {
     "data": {
      "text/plain": [
       "Index(['name', 'type', 'displayName', 'pipLocation', 'marginRate'], dtype='object')"
      ]
     },
     "execution_count": 36,
     "metadata": {},
     "output_type": "execute_result"
    }
   ],
   "source": [
    "instrumnet_df.columns"
   ]
  },
  {
   "cell_type": "code",
   "execution_count": 37,
   "metadata": {},
   "outputs": [
    {
     "data": {
      "text/plain": [
       "array(['EUR_DKK', 'USD_MXN', 'GBP_USD', 'CAD_CHF', 'EUR_GBP', 'GBP_CHF',\n",
       "       'USD_THB', 'USD_ZAR', 'EUR_NOK', 'GBP_PLN', 'GBP_CAD', 'CAD_HKD',\n",
       "       'EUR_HKD', 'CHF_JPY', 'USD_SEK', 'GBP_SGD', 'GBP_HKD', 'EUR_NZD',\n",
       "       'SGD_CHF', 'AUD_SGD', 'EUR_JPY', 'USD_CHF', 'USD_TRY', 'GBP_JPY',\n",
       "       'EUR_CZK', 'EUR_TRY', 'USD_JPY', 'GBP_ZAR', 'SGD_JPY', 'USD_CZK',\n",
       "       'ZAR_JPY', 'TRY_JPY', 'USD_DKK', 'EUR_PLN', 'AUD_CAD', 'USD_HKD',\n",
       "       'CAD_SGD', 'GBP_NZD', 'CHF_ZAR', 'USD_CNH', 'NZD_USD', 'EUR_HUF',\n",
       "       'AUD_NZD', 'NZD_HKD', 'USD_NOK', 'NZD_SGD', 'CAD_JPY', 'HKD_JPY',\n",
       "       'AUD_CHF', 'NZD_CHF', 'EUR_SEK', 'USD_SGD', 'AUD_HKD', 'AUD_JPY',\n",
       "       'EUR_ZAR', 'EUR_AUD', 'NZD_JPY', 'CHF_HKD', 'USD_CAD', 'EUR_CHF',\n",
       "       'EUR_CAD', 'USD_HUF', 'NZD_CAD', 'EUR_SGD', 'AUD_USD', 'EUR_USD',\n",
       "       'GBP_AUD', 'USD_PLN'], dtype=object)"
      ]
     },
     "execution_count": 37,
     "metadata": {},
     "output_type": "execute_result"
    }
   ],
   "source": [
    "instrumnet_df.name.unique()"
   ]
  },
  {
   "cell_type": "code",
   "execution_count": 38,
   "metadata": {},
   "outputs": [],
   "source": [
    "# fetch candles from the api\n",
    "def fetch_candles(pair_name, count, granularity):\n",
    "    url = f\"{credentials.OANDA_URL}/instruments/{pair_name}/candles\"\n",
    "    paramas = dict(\n",
    "        count = count,\n",
    "        granularity = granularity,\n",
    "        price = \"MBA\"\n",
    "    )\n",
    "    response = session.get(url, params=paramas, headers=credentials.SECURE_HEADER)\n",
    "    return response.status_code, response.json()"
   ]
  },
  {
   "cell_type": "code",
   "execution_count": 39,
   "metadata": {},
   "outputs": [
    {
     "name": "stdout",
     "output_type": "stream",
     "text": [
      "200\n",
      "{'instrument': 'EUR_USD', 'granularity': 'H1', 'candles': [{'complete': True, 'volume': 3193, 'time': '2022-06-20T15:00:00.000000000Z', 'bid': {'o': '1.05342', 'h': '1.05376', 'l': '1.05230', 'c': '1.05373'}, 'mid': {'o': '1.05350', 'h': '1.05383', 'l': '1.05237', 'c': '1.05380'}, 'ask': {'o': '1.05358', 'h': '1.05390', 'l': '1.05244', 'c': '1.05388'}}, {'complete': True, 'volume': 2244, 'time': '2022-06-20T16:00:00.000000000Z', 'bid': {'o': '1.05373', 'h': '1.05375', 'l': '1.05186', 'c': '1.05227'}, 'mid': {'o': '1.05381', 'h': '1.05383', 'l': '1.05193', 'c': '1.05234'}, 'ask': {'o': '1.05389', 'h': '1.05391', 'l': '1.05200', 'c': '1.05242'}}, {'complete': True, 'volume': 963, 'time': '2022-06-20T17:00:00.000000000Z', 'bid': {'o': '1.05226', 'h': '1.05226', 'l': '1.05050', 'c': '1.05051'}, 'mid': {'o': '1.05233', 'h': '1.05233', 'l': '1.05060', 'c': '1.05060'}, 'ask': {'o': '1.05240', 'h': '1.05241', 'l': '1.05068', 'c': '1.05069'}}, {'complete': True, 'volume': 1459, 'time': '2022-06-20T18:00:00.000000000Z', 'bid': {'o': '1.05053', 'h': '1.05067', 'l': '1.04981', 'c': '1.04983'}, 'mid': {'o': '1.05062', 'h': '1.05074', 'l': '1.04990', 'c': '1.04992'}, 'ask': {'o': '1.05070', 'h': '1.05082', 'l': '1.04997', 'c': '1.05000'}}, {'complete': True, 'volume': 809, 'time': '2022-06-20T19:00:00.000000000Z', 'bid': {'o': '1.04987', 'h': '1.05112', 'l': '1.04972', 'c': '1.05105'}, 'mid': {'o': '1.04996', 'h': '1.05122', 'l': '1.04981', 'c': '1.05114'}, 'ask': {'o': '1.05004', 'h': '1.05131', 'l': '1.04989', 'c': '1.05123'}}, {'complete': True, 'volume': 796, 'time': '2022-06-20T20:00:00.000000000Z', 'bid': {'o': '1.05109', 'h': '1.05136', 'l': '1.05080', 'c': '1.05099'}, 'mid': {'o': '1.05119', 'h': '1.05146', 'l': '1.05090', 'c': '1.05112'}, 'ask': {'o': '1.05129', 'h': '1.05156', 'l': '1.05099', 'c': '1.05124'}}, {'complete': True, 'volume': 286, 'time': '2022-06-20T21:00:00.000000000Z', 'bid': {'o': '1.05049', 'h': '1.05100', 'l': '1.05044', 'c': '1.05078'}, 'mid': {'o': '1.05088', 'h': '1.05150', 'l': '1.05086', 'c': '1.05116'}, 'ask': {'o': '1.05128', 'h': '1.05200', 'l': '1.05120', 'c': '1.05155'}}, {'complete': True, 'volume': 1095, 'time': '2022-06-20T22:00:00.000000000Z', 'bid': {'o': '1.05075', 'h': '1.05180', 'l': '1.05075', 'c': '1.05175'}, 'mid': {'o': '1.05117', 'h': '1.05188', 'l': '1.05090', 'c': '1.05184'}, 'ask': {'o': '1.05159', 'h': '1.05196', 'l': '1.05099', 'c': '1.05194'}}, {'complete': True, 'volume': 1879, 'time': '2022-06-20T23:00:00.000000000Z', 'bid': {'o': '1.05176', 'h': '1.05204', 'l': '1.05130', 'c': '1.05167'}, 'mid': {'o': '1.05184', 'h': '1.05212', 'l': '1.05138', 'c': '1.05175'}, 'ask': {'o': '1.05193', 'h': '1.05220', 'l': '1.05146', 'c': '1.05183'}}, {'complete': False, 'volume': 3175, 'time': '2022-06-21T00:00:00.000000000Z', 'bid': {'o': '1.05169', 'h': '1.05302', 'l': '1.05158', 'c': '1.05214'}, 'mid': {'o': '1.05176', 'h': '1.05310', 'l': '1.05166', 'c': '1.05222'}, 'ask': {'o': '1.05183', 'h': '1.05318', 'l': '1.05175', 'c': '1.05231'}}]}\n"
     ]
    }
   ],
   "source": [
    "# this is to test the function\n",
    "code, res= fetch_candles(\"EUR_USD\", 10, \"H1\")\n",
    "print(code)\n",
    "print(res)"
   ]
  },
  {
   "cell_type": "code",
   "execution_count": 40,
   "metadata": {},
   "outputs": [],
   "source": [
    "# creates a data frame from a response from api\n",
    "def get_candles_df(json_response):\n",
    "    \n",
    "    prices = ['mid', 'bid', 'ask']\n",
    "    ohlc = ['o', 'h', 'l', 'c']\n",
    "    \n",
    "    our_data = []\n",
    "    for candle in json_response['candles']:\n",
    "        if candle['complete'] == False:\n",
    "            continue\n",
    "        new_dict = {}\n",
    "        new_dict['time'] = candle['time']\n",
    "        new_dict['volume'] = candle['volume']\n",
    "        for price in prices:\n",
    "            for oh in ohlc:\n",
    "                new_dict[f\"{price}_{oh}\"] = candle[price][oh]\n",
    "        our_data.append(new_dict)\n",
    "    return pd.DataFrame.from_dict(our_data)"
   ]
  },
  {
   "cell_type": "code",
   "execution_count": 41,
   "metadata": {},
   "outputs": [],
   "source": [
    "# these two cells are for testing the function\n",
    "code, res = fetch_candles(\"EUR_USD\", 10, \"H1\")"
   ]
  },
  {
   "cell_type": "code",
   "execution_count": 42,
   "metadata": {},
   "outputs": [
    {
     "data": {
      "text/html": [
       "<div>\n",
       "<style scoped>\n",
       "    .dataframe tbody tr th:only-of-type {\n",
       "        vertical-align: middle;\n",
       "    }\n",
       "\n",
       "    .dataframe tbody tr th {\n",
       "        vertical-align: top;\n",
       "    }\n",
       "\n",
       "    .dataframe thead th {\n",
       "        text-align: right;\n",
       "    }\n",
       "</style>\n",
       "<table border=\"1\" class=\"dataframe\">\n",
       "  <thead>\n",
       "    <tr style=\"text-align: right;\">\n",
       "      <th></th>\n",
       "      <th>time</th>\n",
       "      <th>volume</th>\n",
       "      <th>mid_o</th>\n",
       "      <th>mid_h</th>\n",
       "      <th>mid_l</th>\n",
       "      <th>mid_c</th>\n",
       "      <th>bid_o</th>\n",
       "      <th>bid_h</th>\n",
       "      <th>bid_l</th>\n",
       "      <th>bid_c</th>\n",
       "      <th>ask_o</th>\n",
       "      <th>ask_h</th>\n",
       "      <th>ask_l</th>\n",
       "      <th>ask_c</th>\n",
       "    </tr>\n",
       "  </thead>\n",
       "  <tbody>\n",
       "    <tr>\n",
       "      <th>0</th>\n",
       "      <td>2022-06-20T15:00:00.000000000Z</td>\n",
       "      <td>3193</td>\n",
       "      <td>1.05350</td>\n",
       "      <td>1.05383</td>\n",
       "      <td>1.05237</td>\n",
       "      <td>1.05380</td>\n",
       "      <td>1.05342</td>\n",
       "      <td>1.05376</td>\n",
       "      <td>1.05230</td>\n",
       "      <td>1.05373</td>\n",
       "      <td>1.05358</td>\n",
       "      <td>1.05390</td>\n",
       "      <td>1.05244</td>\n",
       "      <td>1.05388</td>\n",
       "    </tr>\n",
       "    <tr>\n",
       "      <th>1</th>\n",
       "      <td>2022-06-20T16:00:00.000000000Z</td>\n",
       "      <td>2244</td>\n",
       "      <td>1.05381</td>\n",
       "      <td>1.05383</td>\n",
       "      <td>1.05193</td>\n",
       "      <td>1.05234</td>\n",
       "      <td>1.05373</td>\n",
       "      <td>1.05375</td>\n",
       "      <td>1.05186</td>\n",
       "      <td>1.05227</td>\n",
       "      <td>1.05389</td>\n",
       "      <td>1.05391</td>\n",
       "      <td>1.05200</td>\n",
       "      <td>1.05242</td>\n",
       "    </tr>\n",
       "    <tr>\n",
       "      <th>2</th>\n",
       "      <td>2022-06-20T17:00:00.000000000Z</td>\n",
       "      <td>963</td>\n",
       "      <td>1.05233</td>\n",
       "      <td>1.05233</td>\n",
       "      <td>1.05060</td>\n",
       "      <td>1.05060</td>\n",
       "      <td>1.05226</td>\n",
       "      <td>1.05226</td>\n",
       "      <td>1.05050</td>\n",
       "      <td>1.05051</td>\n",
       "      <td>1.05240</td>\n",
       "      <td>1.05241</td>\n",
       "      <td>1.05068</td>\n",
       "      <td>1.05069</td>\n",
       "    </tr>\n",
       "    <tr>\n",
       "      <th>3</th>\n",
       "      <td>2022-06-20T18:00:00.000000000Z</td>\n",
       "      <td>1459</td>\n",
       "      <td>1.05062</td>\n",
       "      <td>1.05074</td>\n",
       "      <td>1.04990</td>\n",
       "      <td>1.04992</td>\n",
       "      <td>1.05053</td>\n",
       "      <td>1.05067</td>\n",
       "      <td>1.04981</td>\n",
       "      <td>1.04983</td>\n",
       "      <td>1.05070</td>\n",
       "      <td>1.05082</td>\n",
       "      <td>1.04997</td>\n",
       "      <td>1.05000</td>\n",
       "    </tr>\n",
       "    <tr>\n",
       "      <th>4</th>\n",
       "      <td>2022-06-20T19:00:00.000000000Z</td>\n",
       "      <td>809</td>\n",
       "      <td>1.04996</td>\n",
       "      <td>1.05122</td>\n",
       "      <td>1.04981</td>\n",
       "      <td>1.05114</td>\n",
       "      <td>1.04987</td>\n",
       "      <td>1.05112</td>\n",
       "      <td>1.04972</td>\n",
       "      <td>1.05105</td>\n",
       "      <td>1.05004</td>\n",
       "      <td>1.05131</td>\n",
       "      <td>1.04989</td>\n",
       "      <td>1.05123</td>\n",
       "    </tr>\n",
       "    <tr>\n",
       "      <th>5</th>\n",
       "      <td>2022-06-20T20:00:00.000000000Z</td>\n",
       "      <td>796</td>\n",
       "      <td>1.05119</td>\n",
       "      <td>1.05146</td>\n",
       "      <td>1.05090</td>\n",
       "      <td>1.05112</td>\n",
       "      <td>1.05109</td>\n",
       "      <td>1.05136</td>\n",
       "      <td>1.05080</td>\n",
       "      <td>1.05099</td>\n",
       "      <td>1.05129</td>\n",
       "      <td>1.05156</td>\n",
       "      <td>1.05099</td>\n",
       "      <td>1.05124</td>\n",
       "    </tr>\n",
       "    <tr>\n",
       "      <th>6</th>\n",
       "      <td>2022-06-20T21:00:00.000000000Z</td>\n",
       "      <td>286</td>\n",
       "      <td>1.05088</td>\n",
       "      <td>1.05150</td>\n",
       "      <td>1.05086</td>\n",
       "      <td>1.05116</td>\n",
       "      <td>1.05049</td>\n",
       "      <td>1.05100</td>\n",
       "      <td>1.05044</td>\n",
       "      <td>1.05078</td>\n",
       "      <td>1.05128</td>\n",
       "      <td>1.05200</td>\n",
       "      <td>1.05120</td>\n",
       "      <td>1.05155</td>\n",
       "    </tr>\n",
       "    <tr>\n",
       "      <th>7</th>\n",
       "      <td>2022-06-20T22:00:00.000000000Z</td>\n",
       "      <td>1095</td>\n",
       "      <td>1.05117</td>\n",
       "      <td>1.05188</td>\n",
       "      <td>1.05090</td>\n",
       "      <td>1.05184</td>\n",
       "      <td>1.05075</td>\n",
       "      <td>1.05180</td>\n",
       "      <td>1.05075</td>\n",
       "      <td>1.05175</td>\n",
       "      <td>1.05159</td>\n",
       "      <td>1.05196</td>\n",
       "      <td>1.05099</td>\n",
       "      <td>1.05194</td>\n",
       "    </tr>\n",
       "    <tr>\n",
       "      <th>8</th>\n",
       "      <td>2022-06-20T23:00:00.000000000Z</td>\n",
       "      <td>1879</td>\n",
       "      <td>1.05184</td>\n",
       "      <td>1.05212</td>\n",
       "      <td>1.05138</td>\n",
       "      <td>1.05175</td>\n",
       "      <td>1.05176</td>\n",
       "      <td>1.05204</td>\n",
       "      <td>1.05130</td>\n",
       "      <td>1.05167</td>\n",
       "      <td>1.05193</td>\n",
       "      <td>1.05220</td>\n",
       "      <td>1.05146</td>\n",
       "      <td>1.05183</td>\n",
       "    </tr>\n",
       "  </tbody>\n",
       "</table>\n",
       "</div>"
      ],
      "text/plain": [
       "                             time  volume    mid_o    mid_h    mid_l    mid_c  \\\n",
       "0  2022-06-20T15:00:00.000000000Z    3193  1.05350  1.05383  1.05237  1.05380   \n",
       "1  2022-06-20T16:00:00.000000000Z    2244  1.05381  1.05383  1.05193  1.05234   \n",
       "2  2022-06-20T17:00:00.000000000Z     963  1.05233  1.05233  1.05060  1.05060   \n",
       "3  2022-06-20T18:00:00.000000000Z    1459  1.05062  1.05074  1.04990  1.04992   \n",
       "4  2022-06-20T19:00:00.000000000Z     809  1.04996  1.05122  1.04981  1.05114   \n",
       "5  2022-06-20T20:00:00.000000000Z     796  1.05119  1.05146  1.05090  1.05112   \n",
       "6  2022-06-20T21:00:00.000000000Z     286  1.05088  1.05150  1.05086  1.05116   \n",
       "7  2022-06-20T22:00:00.000000000Z    1095  1.05117  1.05188  1.05090  1.05184   \n",
       "8  2022-06-20T23:00:00.000000000Z    1879  1.05184  1.05212  1.05138  1.05175   \n",
       "\n",
       "     bid_o    bid_h    bid_l    bid_c    ask_o    ask_h    ask_l    ask_c  \n",
       "0  1.05342  1.05376  1.05230  1.05373  1.05358  1.05390  1.05244  1.05388  \n",
       "1  1.05373  1.05375  1.05186  1.05227  1.05389  1.05391  1.05200  1.05242  \n",
       "2  1.05226  1.05226  1.05050  1.05051  1.05240  1.05241  1.05068  1.05069  \n",
       "3  1.05053  1.05067  1.04981  1.04983  1.05070  1.05082  1.04997  1.05000  \n",
       "4  1.04987  1.05112  1.04972  1.05105  1.05004  1.05131  1.04989  1.05123  \n",
       "5  1.05109  1.05136  1.05080  1.05099  1.05129  1.05156  1.05099  1.05124  \n",
       "6  1.05049  1.05100  1.05044  1.05078  1.05128  1.05200  1.05120  1.05155  \n",
       "7  1.05075  1.05180  1.05075  1.05175  1.05159  1.05196  1.05099  1.05194  \n",
       "8  1.05176  1.05204  1.05130  1.05167  1.05193  1.05220  1.05146  1.05183  "
      ]
     },
     "execution_count": 42,
     "metadata": {},
     "output_type": "execute_result"
    }
   ],
   "source": [
    "df = get_candles_df(res)\n",
    "df"
   ]
  },
  {
   "cell_type": "code",
   "execution_count": 43,
   "metadata": {},
   "outputs": [],
   "source": [
    "def save_file(candles_df, pair, granularity):\n",
    "    candles_df.to_pickle(f\"hist_data/{pair}_{granularity}.pkl\")"
   ]
  },
  {
   "cell_type": "code",
   "execution_count": 44,
   "metadata": {},
   "outputs": [],
   "source": [
    "def create_data(pair, granularity):\n",
    "    code, json_data = fetch_candles(pair, 4000, granularity)\n",
    "    if code != 200:\n",
    "        print(pair, \"Error\")\n",
    "        return\n",
    "    df = get_candles_df(json_data)\n",
    "    print(f\"{pair} laoded {df.shape[0]} candles from {df.time.min()} to {df.time.max()}\")\n",
    "    save_file(df, pair, granularity)"
   ]
  },
  {
   "cell_type": "code",
   "execution_count": 45,
   "metadata": {},
   "outputs": [
    {
     "name": "stdout",
     "output_type": "stream",
     "text": [
      "EUR_USD laoded 3999 candles from 2021-10-29T05:00:00.000000000Z to 2022-06-20T23:00:00.000000000Z\n",
      "EUR_GBP laoded 3999 candles from 2021-10-29T02:00:00.000000000Z to 2022-06-20T23:00:00.000000000Z\n",
      "EUR_JPY laoded 3999 candles from 2021-10-28T20:00:00.000000000Z to 2022-06-20T23:00:00.000000000Z\n",
      "EUR_CHF laoded 3999 candles from 2021-10-29T05:00:00.000000000Z to 2022-06-20T23:00:00.000000000Z\n",
      "EUR_NZD laoded 3999 candles from 2021-10-29T05:00:00.000000000Z to 2022-06-20T23:00:00.000000000Z\n",
      "EUR_CAD laoded 3999 candles from 2021-10-29T05:00:00.000000000Z to 2022-06-20T23:00:00.000000000Z\n",
      "USD_JPY laoded 3999 candles from 2021-10-29T05:00:00.000000000Z to 2022-06-20T23:00:00.000000000Z\n",
      "USD_CHF laoded 3999 candles from 2021-10-29T00:00:00.000000000Z to 2022-06-20T23:00:00.000000000Z\n",
      "USD_CAD laoded 3999 candles from 2021-10-29T05:00:00.000000000Z to 2022-06-20T23:00:00.000000000Z\n",
      "GBP_USD laoded 3999 candles from 2021-10-29T05:00:00.000000000Z to 2022-06-20T23:00:00.000000000Z\n",
      "GBP_JPY laoded 3999 candles from 2021-10-29T05:00:00.000000000Z to 2022-06-20T23:00:00.000000000Z\n",
      "GBP_CHF laoded 3999 candles from 2021-10-29T05:00:00.000000000Z to 2022-06-20T23:00:00.000000000Z\n",
      "GBP_NZD laoded 3999 candles from 2021-10-29T05:00:00.000000000Z to 2022-06-20T23:00:00.000000000Z\n",
      "GBP_CAD laoded 3999 candles from 2021-10-29T05:00:00.000000000Z to 2022-06-20T23:00:00.000000000Z\n",
      "CHF_JPY laoded 3999 candles from 2021-10-29T05:00:00.000000000Z to 2022-06-20T23:00:00.000000000Z\n",
      "NZD_USD laoded 3999 candles from 2021-10-29T02:00:00.000000000Z to 2022-06-20T23:00:00.000000000Z\n",
      "NZD_JPY laoded 3999 candles from 2021-10-29T05:00:00.000000000Z to 2022-06-20T23:00:00.000000000Z\n",
      "NZD_CHF laoded 3999 candles from 2021-10-28T23:00:00.000000000Z to 2022-06-20T23:00:00.000000000Z\n",
      "NZD_CAD laoded 3999 candles from 2021-10-29T05:00:00.000000000Z to 2022-06-20T23:00:00.000000000Z\n",
      "CAD_JPY laoded 3999 candles from 2021-10-29T05:00:00.000000000Z to 2022-06-20T23:00:00.000000000Z\n",
      "CAD_CHF laoded 3999 candles from 2021-10-29T05:00:00.000000000Z to 2022-06-20T23:00:00.000000000Z\n"
     ]
    }
   ],
   "source": [
    "for p1 in our_curr:\n",
    "    for p2 in our_curr:\n",
    "        pair = f\"{p1}_{p2}\"\n",
    "        if pair in instrumnet_df.name.unique():\n",
    "            create_data(pair, \"H1\")"
   ]
  },
  {
   "cell_type": "code",
   "execution_count": null,
   "metadata": {},
   "outputs": [],
   "source": []
  }
 ],
 "metadata": {
  "kernelspec": {
   "display_name": "Python 3.9.7 ('forexBot': venv)",
   "language": "python",
   "name": "python3"
  },
  "language_info": {
   "codemirror_mode": {
    "name": "ipython",
    "version": 3
   },
   "file_extension": ".py",
   "mimetype": "text/x-python",
   "name": "python",
   "nbconvert_exporter": "python",
   "pygments_lexer": "ipython3",
   "version": "3.9.7"
  },
  "orig_nbformat": 4,
  "vscode": {
   "interpreter": {
    "hash": "cdeac6fb90bbdbe6069ef31f239a3e91804bc0eee30d2e3acd8e7f54039a8769"
   }
  }
 },
 "nbformat": 4,
 "nbformat_minor": 2
}
